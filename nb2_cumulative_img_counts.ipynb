{
 "cells": [
  {
   "cell_type": "code",
   "execution_count": 1,
   "metadata": {},
   "outputs": [],
   "source": [
    "import matplotlib.pyplot as plt\n",
    "import matplotlib\n",
    "matplotlib.rcParams['font.family'] = 'Nimbus Sans'\n",
    "plt.rcParams['font.size'] = 10\n",
    "\n",
    "import pandas as pd\n",
    "\n",
    "color_map = {\n",
    "    'cnt': 'm',\n",
    "    'blu': 'b',\n",
    "    'blv': 'c',\n",
    "    'grn': 'g',\n",
    "    'yel': 'y'\n",
    "}\n",
    "\n",
    "# periods = [('2024-07-11', '2024-07-18'),     # PERIODS FOR ALL TIME\n",
    "#            ('2024-07-18', '2024-07-23'), \n",
    "#            ('2024-07-23', '2024-08-15'), \n",
    "#            ('2024-08-15', '2024-09-03'),\n",
    "#            ('2024-09-03', '2024-09-10'), \n",
    "#            ]\n",
    "\n",
    "periods = [('2024-07-11', '2024-07-17'),  # PERIODS FOR JUST CLOVER\n",
    "           ('2024-07-18', '2024-07-24'), \n",
    "           ('2024-07-24', '2024-07-30')\n",
    "           ]\n",
    "periods = [(pd.to_datetime(start), pd.to_datetime(end)) for start, end in periods]\n",
    "\n",
    "clover_start = pd.to_datetime('2024-07-11')\n",
    "clover_end = pd.to_datetime('2024-07-30')"
   ]
  },
  {
   "cell_type": "code",
   "execution_count": 2,
   "metadata": {},
   "outputs": [],
   "source": [
    "stim_ints = pd.read_csv('csvs/stimulus_intervals.csv', index_col=False)\n",
    "stim_ints['interval'] = stim_ints['interval'].apply(lambda x: pd.Interval(pd.Timestamp(x.split(', ')[0].strip('[')), \n",
    "                                                            pd.Timestamp(x.split(', ')[1].strip(')')), \n",
    "                                                            closed='left'))\n",
    "\n",
    "cam_ints = pd.read_csv('csvs/camera_intervals.csv', index_col=False)\n",
    "cam_ints['interval'] = cam_ints['interval'].apply(lambda x: pd.Interval(pd.Timestamp(x.split(', ')[0].strip('[')), \n",
    "                                                            pd.Timestamp(x.split(', ')[1].strip(']')), \n",
    "                                                            closed='both'))"
   ]
  },
  {
   "cell_type": "code",
   "execution_count": 3,
   "metadata": {},
   "outputs": [],
   "source": [
    "bombus_df = pd.read_csv('csvs/clean_dfs/bombus_df_manualedit.csv')\n",
    "bombus_df['datetime'] = pd.to_datetime(bombus_df['datetime'])\n",
    "bombus_df['color'] = None\n",
    "for _, row in stim_ints.iterrows():\n",
    "    mask = (bombus_df['pi'] == row['pi']) & (bombus_df['datetime'].between(row['interval'].left, row['interval'].right, inclusive='left'))\n",
    "    bombus_df.loc[mask, 'color'] = row['color']\n",
    "bombus_df = bombus_df.drop(columns=['filename', 'date', 'time_diff'])\n",
    "bombus_df = bombus_df[['pi', 'datetime', 'color', 'species', 'sex']]"
   ]
  },
  {
   "cell_type": "code",
   "execution_count": 4,
   "metadata": {},
   "outputs": [],
   "source": [
    "long_visits = pd.read_csv('stationary_bombus_filelist.txt', header=None, names=['filename'])\n",
    "long_visits[['pi', 'datetime']] = long_visits['filename'].str.extract(r'^pi(\\d+)_(\\d{8}_\\d{6})')\n",
    "long_visits['pi'] = long_visits['pi'].astype(int)\n",
    "long_visits = long_visits.drop(columns='filename')\n",
    "long_visits['datetime'] = pd.to_datetime(long_visits['datetime'], format='%Y%m%d_%H%M%S')\n",
    "long_visits = long_visits.sort_values(by=['pi', 'datetime'], ascending=[True, True]).reset_index(drop=True)"
   ]
  },
  {
   "cell_type": "code",
   "execution_count": 5,
   "metadata": {},
   "outputs": [],
   "source": [
    "combined_df = pd.concat([bombus_df, long_visits], ignore_index=True)\n",
    "combined_df = combined_df.sort_values(by=['pi', 'datetime'])\n",
    "columns_to_fill = ['species', 'sex', 'color']\n",
    "combined_df[columns_to_fill] = combined_df[columns_to_fill].ffill()\n",
    "combined_df['time_diff'] = combined_df.groupby(['pi', 'color', 'species', 'sex'])['datetime'].diff()\n",
    "combined_df['new_visit'] = (combined_df['time_diff'] > pd.Timedelta(seconds=4)) | (combined_df['time_diff'].isna())\n",
    "combined_df['visit_id'] = combined_df.groupby(['species'])['new_visit'].cumsum()\n",
    "\n"
   ]
  },
  {
   "cell_type": "code",
   "execution_count": 6,
   "metadata": {},
   "outputs": [],
   "source": [
    "visit_durations = (\n",
    "    combined_df.groupby(['species', 'visit_id', 'pi', 'color'])['datetime']\n",
    "    .agg(visit_start='min', visit_end='max')\n",
    "    .reset_index())\n",
    "visit_durations['duration'] = ((visit_durations['visit_end'] - visit_durations['visit_start']).dt.total_seconds())\n",
    "visit_durations['pi_color'] = visit_durations['pi'].astype(str) + '_' + visit_durations['color']\n",
    "visit_durations = visit_durations.sort_values(by='visit_start').reset_index(drop=True)\n",
    "visit_durations = visit_durations.drop(index=[184, 187])"
   ]
  },
  {
   "cell_type": "code",
   "execution_count": 7,
   "metadata": {},
   "outputs": [],
   "source": [
    "# MANUALLY ADD MULT VISITS\n",
    "\n",
    "def add_rows(df, new_rows):\n",
    "    new_df = pd.DataFrame(new_rows)\n",
    "    new_df['visit_start'] = pd.to_datetime(new_df['visit_start'])\n",
    "    new_df['visit_end'] = pd.to_datetime(new_df['visit_end'])\n",
    "    new_df['duration'] = (new_df['visit_end'] - new_df['visit_start']).dt.total_seconds()\n",
    "    for pi_color in new_df['pi_color'].unique():\n",
    "        if pd.notna(pi_color):\n",
    "            max_existing_id = df[df['pi_color'] == pi_color]['visit_id'].max()\n",
    "            max_existing_id = max_existing_id if pd.notna(max_existing_id) else 0\n",
    "            new_df.loc[new_df['pi_color'] == pi_color, 'visit_id'] = range(\n",
    "                int(max_existing_id) + 1, int(max_existing_id) + 1 + len(new_df[new_df['pi_color'] == pi_color])\n",
    "            )\n",
    "\n",
    "    df = pd.concat([df, new_df], ignore_index=True)\n",
    "    \n",
    "    return df\n",
    "\n",
    "new_rows = [\n",
    "    {\n",
    "        'species': 'vosnesenskii', 'pi': 9, 'color': 'grn',\n",
    "        'visit_start': '2024-07-23 09:41:43', 'visit_end': '2024-07-23 10:02:38',\n",
    "        'pi_color': '9_grn'\n",
    "    },\n",
    "    {\n",
    "        'species': 'vosnesenskii', 'pi': 9, 'color': 'grn',\n",
    "        'visit_start': '2024-07-23 10:02:19', 'visit_end': '2024-07-23 10:07:09',\n",
    "        'pi_color': '9_grn'\n",
    "    },\n",
    "    {\n",
    "        'species': 'vosnesenskii', 'pi': 9, 'color': 'grn',\n",
    "        'visit_start': '2024-07-23 10:02:35', 'visit_end': '2024-07-23 10:05:19',\n",
    "        'pi_color': '9_grn'\n",
    "    }\n",
    "]\n",
    "\n",
    "visit_durations = add_rows(visit_durations, new_rows)"
   ]
  },
  {
   "cell_type": "code",
   "execution_count": 8,
   "metadata": {},
   "outputs": [],
   "source": [
    "cumulative_visits = visit_durations.groupby(['pi_color', 'visit_start']).size().groupby(level=0).cumsum().reset_index(name='cumulative_count')\n",
    "cumulative_color_visits = visit_durations.groupby(['color', 'visit_start']).size().groupby(level=0).cumsum().reset_index(name='cumulative_count')\n",
    "\n",
    "\n",
    "visit_duration_distribution = visit_durations['duration']\n",
    "\n",
    "# visit_durations.to_csv('csvs/bombus_visit_durations.csv', index=False)"
   ]
  },
  {
   "cell_type": "markdown",
   "metadata": {},
   "source": [
    "### Calculate rate of bee capture in clover vs bare"
   ]
  },
  {
   "cell_type": "code",
   "execution_count": 9,
   "metadata": {},
   "outputs": [],
   "source": [
    "# threshold = pd.to_datetime('2024-07-30')\n",
    "\n",
    "# visit_durations_clover = visit_durations[visit_durations['visit_end'] <= threshold]\n",
    "# visit_durations_bare = visit_durations[visit_durations['visit_end'] > threshold]\n",
    "\n",
    "# cam_ints_clover = cam_ints[cam_ints['interval'].apply(lambda x: x.right <= threshold)]\n",
    "# cam_ints_bare = cam_ints[cam_ints['interval'].apply(lambda x: x.left > threshold)]\n",
    "\n",
    "# cam_ints_clover['duration_hours'] = cam_ints_clover['interval'].apply(lambda x: (x.right - x.left).total_seconds() / 3600)\n",
    "# cam_ints_bare['duration_hours'] = cam_ints_bare['interval'].apply(lambda x: (x.right - x.left).total_seconds() / 3600)\n",
    "\n",
    "# clover_visits = visit_durations_clover.groupby('pi').size().rename('visit_count')\n",
    "# bare_visits = visit_durations_bare.groupby('pi').size().rename('visit_count')\n",
    "# clover_runtime = cam_ints_clover.groupby('pi')['duration_hours'].sum().rename('total_runtime_hours')\n",
    "# bare_runtime = cam_ints_bare.groupby('pi')['duration_hours'].sum().rename('total_runtime_hours')\n",
    "\n",
    "# clover_summary = pd.concat([clover_visits, clover_runtime], axis=1)\n",
    "# bare_summary = pd.concat([bare_visits, bare_runtime], axis=1)\n",
    "\n",
    "# clover_summary['visits_per_hour'] = clover_summary['visit_count'] / clover_summary['total_runtime_hours']\n",
    "# bare_summary['visits_per_hour'] = bare_summary['visit_count'] / bare_summary['total_runtime_hours']\n",
    "# print()\n",
    "# print('clover average visit per trap per hour:', clover_summary['visits_per_hour'].mean())\n",
    "# print('bare average visit per trap per hour:', bare_summary['visits_per_hour'].mean())\n",
    "# print()\n"
   ]
  },
  {
   "cell_type": "code",
   "execution_count": 28,
   "metadata": {},
   "outputs": [
    {
     "name": "stdout",
     "output_type": "stream",
     "text": [
      "Total duration of intervals ending on or before 2024-07-30 (seconds): 6970149.0\n",
      "Total duration of intervals starting after 2024-07-30 (seconds): 13302447.0\n",
      "\n",
      "visit counts clover: 279\n",
      "visit counts bare: 16\n",
      "\n",
      "clover avg visits per trap per day: 0.3458405265081134\n",
      "bare avg visits per trap per day: 0.010392072977249974\n"
     ]
    }
   ],
   "source": [
    "threshold = pd.to_datetime('2024-07-30')\n",
    "\n",
    "visit_durations_clover = visit_durations[visit_durations['visit_end'] < threshold]\n",
    "visit_durations_bare = visit_durations[visit_durations['visit_end'] > threshold]\n",
    "\n",
    "visit_counts_clover = len(visit_durations[visit_durations['visit_end'] <= threshold])\n",
    "visit_counts_bare = len(visit_durations[visit_durations['visit_end'] > threshold])\n",
    "\n",
    "cam_ints['duration'] = cam_ints['interval'].apply(lambda x: x.right - x.left)\n",
    "before_or_on = cam_ints[cam_ints['interval'].apply(lambda x: x.right <= threshold)]\n",
    "after = cam_ints[cam_ints['interval'].apply(lambda x: x.left > threshold)]\n",
    "total_before_or_on = before_or_on['duration'].sum()\n",
    "total_after = after['duration'].sum()\n",
    "\n",
    "print(\"Total duration of intervals ending on or before 2024-07-30 (seconds):\", total_before_or_on.total_seconds())\n",
    "print(\"Total duration of intervals starting after 2024-07-30 (seconds):\", total_after.total_seconds())\n",
    "print()\n",
    "print('visit counts clover:', visit_counts_clover)\n",
    "print('visit counts bare:', visit_counts_bare)\n",
    "print()\n",
    "print(f'clover avg visits per trap per day: {(visit_counts_clover/(total_before_or_on.total_seconds()/3600/24))/10}')\n",
    "print(f'bare avg visits per trap per day: {(visit_counts_bare/(total_after.total_seconds()/3600/24))/10}')"
   ]
  },
  {
   "cell_type": "code",
   "execution_count": 11,
   "metadata": {},
   "outputs": [],
   "source": [
    "visit_durations_clover.to_csv('csvs/visit_durations_clover.csv', index=False)"
   ]
  },
  {
   "cell_type": "markdown",
   "metadata": {},
   "source": [
    "### Subsample early 1hz Pis (how does phase of subsampling affect visit counts):\n"
   ]
  },
  {
   "cell_type": "code",
   "execution_count": 12,
   "metadata": {},
   "outputs": [],
   "source": [
    "onehz_camtimes_pi3 = pd.read_csv('csvs/onehz_visits_pi3.csv', index_col=0, parse_dates=['datetime'])\n",
    "onehz_camtimes_pi10 = pd.read_csv('csvs/onehz_visits_pi10.csv', index_col=0, parse_dates=['datetime'])\n",
    "\n",
    "pi3_subsampled_p0 = onehz_camtimes_pi3.iloc[::2]\n",
    "pi3_subsampled_p1 = onehz_camtimes_pi3.iloc[1::2]\n",
    "pi10_subsampled_p0 = onehz_camtimes_pi10.iloc[::2]\n",
    "pi10_subsampled_p1 = onehz_camtimes_pi10.iloc[1::2]\n",
    "\n",
    "onehz_visits_pi3 = combined_df[(combined_df['pi'] == 3) & (combined_df['datetime'] < '2024-07-17')]\n",
    "onehz_visits_pi10 = combined_df[(combined_df['pi'] == 10) & (combined_df['datetime'] < '2024-07-17')]\n",
    "shortvisits_pi3 = onehz_visits_pi3[onehz_visits_pi3['visit_id'] != 46]"
   ]
  },
  {
   "cell_type": "code",
   "execution_count": 13,
   "metadata": {},
   "outputs": [
    {
     "name": "stdout",
     "output_type": "stream",
     "text": [
      "pi3 phase 0 = 2\n",
      "pi3 phase 1 = 2\n",
      "\n",
      "pi10 phase 0 = 4\n",
      "pi10 phase 1 = 3\n"
     ]
    }
   ],
   "source": [
    "print(f'pi3 phase 0 = {len(pi3_subsampled_p0[pi3_subsampled_p0['datetime'].isin(shortvisits_pi3['datetime'])])}')\n",
    "print(f'pi3 phase 1 = {len(pi3_subsampled_p1[pi3_subsampled_p1['datetime'].isin(shortvisits_pi3['datetime'])])}\\n')\n",
    "\n",
    "print(f'pi10 phase 0 = {len(pi10_subsampled_p0[pi10_subsampled_p0['datetime'].isin(onehz_visits_pi10['datetime'])])}')\n",
    "print(f'pi10 phase 1 = {len(pi10_subsampled_p1[pi10_subsampled_p1['datetime'].isin(onehz_visits_pi10['datetime'])])}')"
   ]
  },
  {
   "cell_type": "code",
   "execution_count": 14,
   "metadata": {},
   "outputs": [
    {
     "data": {
      "application/vnd.microsoft.datawrangler.viewer.v0+json": {
       "columns": [
        {
         "name": "color",
         "rawType": "object",
         "type": "string"
        },
        {
         "name": "0",
         "rawType": "float64",
         "type": "float"
        }
       ],
       "ref": "9b301303-638a-4e25-8f87-2273bfb2efdd",
       "rows": [
        [
         "blu",
         "2.0256410256410255"
        ],
        [
         "blv",
         "1.1"
        ],
        [
         "cnt",
         "22.117021276595743"
        ],
        [
         "grn",
         "79.86764705882354"
        ],
        [
         "yel",
         "58.470588235294116"
        ]
       ],
       "shape": {
        "columns": 1,
        "rows": 5
       }
      },
      "text/plain": [
       "color\n",
       "blu     2.025641\n",
       "blv     1.100000\n",
       "cnt    22.117021\n",
       "grn    79.867647\n",
       "yel    58.470588\n",
       "dtype: float64"
      ]
     },
     "execution_count": 14,
     "metadata": {},
     "output_type": "execute_result"
    }
   ],
   "source": [
    "visit_durations['duration_adj'] = visit_durations['duration'] + 1\n",
    "color_visit_durations = visit_durations.groupby('color')['duration_adj'].sum().astype(int)\n",
    "color_total_counts = visit_durations.groupby('color')['pi'].count()\n",
    "color_visit_durations / color_total_counts"
   ]
  },
  {
   "cell_type": "markdown",
   "metadata": {},
   "source": [
    "### Distribution of dwell time\n",
    "- VERIFY visit duration metric"
   ]
  },
  {
   "cell_type": "code",
   "execution_count": 15,
   "metadata": {},
   "outputs": [
    {
     "name": "stdout",
     "output_type": "stream",
     "text": [
      "yel: 1.0, 58.470588235294116\n",
      "blu: 1.0, 2.0256410256410255\n",
      "blv: 1.0, 1.1\n",
      "grn: 1.0, 79.86764705882354\n",
      "cnt: 1.0, 22.117021276595743\n"
     ]
    },
    {
     "data": {
      "image/png": "[encoded data removed]",
      "text/plain": [
       "<Figure size 300x200 with 1 Axes>"
      ]
     },
     "metadata": {},
     "output_type": "display_data"
    }
   ],
   "source": [
    "import numpy as np\n",
    "\n",
    "new_order = ['yel', 'blu', 'blv','grn', 'cnt']\n",
    "\n",
    "name_map = {\n",
    "    'cnt': 'Contrast + UV',\n",
    "    'blu': 'Blue',\n",
    "    'blv': 'Blue + UV',\n",
    "    'grn': 'Green',\n",
    "    'yel': 'Yellow'\n",
    "}\n",
    "\n",
    "fig, ax = plt.subplots(figsize=(3, 2))\n",
    "\n",
    "for i, color in enumerate(new_order):\n",
    "    group = visit_durations[visit_durations['color'] == color]\n",
    "    y = i + np.random.uniform(-0.3, 0.3, size=len(group))\n",
    "    ax.scatter(group['duration_adj'], y, edgecolor=color_map[color], facecolor='none', label=color, s=30, linewidths=1, alpha=1)\n",
    "    median = group['duration_adj'].median()\n",
    "    avg = group['duration_adj'].mean()\n",
    "    print(f'{color}: {median}, {avg}')\n",
    "\n",
    "ax.set_yticks([])\n",
    "ax.set_yticklabels([])\n",
    "ax.set_xlabel('Seconds')\n",
    "plt.tight_layout()\n",
    "# plt.savefig('figs/visit_duration_scatter.png', format='png', dpi=300)\n"
   ]
  },
  {
   "cell_type": "code",
   "execution_count": 16,
   "metadata": {},
   "outputs": [
    {
     "name": "stdout",
     "output_type": "stream",
     "text": [
      "yel: median=1.00, mean=6.91, n=33\n",
      "blu: median=1.00, mean=1.32, n=38\n",
      "blv: median=1.00, mean=1.02, n=59\n",
      "grn: median=1.00, mean=28.82, n=65\n",
      "cnt: median=1.00, mean=3.09, n=93\n"
     ]
    },
    {
     "data": {
      "image/png": "[encoded data removed]",
      "text/plain": [
       "<Figure size 300x200 with 1 Axes>"
      ]
     },
     "metadata": {},
     "output_type": "display_data"
    }
   ],
   "source": [
    "fig, ax = plt.subplots(figsize=(3, 2))\n",
    "\n",
    "for i, color in enumerate(new_order):\n",
    "    group = visit_durations[visit_durations['color'] == color]\n",
    "    \n",
    "    # 99% confidence interval bounds\n",
    "    mean = group['duration_adj'].mean()\n",
    "    std = group['duration_adj'].std()\n",
    "    z = 2.576  # 99% CI z-score\n",
    "    lower = mean - z * std\n",
    "    upper = mean + z * std\n",
    "    \n",
    "    # Filter based on 99% CI\n",
    "    filtered = group[(group['duration_adj'] >= lower) & (group['duration_adj'] <= upper)]\n",
    "\n",
    "    # Jitter y-values\n",
    "    y = i + np.random.uniform(-0.3, 0.3, size=len(filtered))\n",
    "\n",
    "    ax.scatter(\n",
    "        filtered['duration_adj'], y,\n",
    "        edgecolor=color_map[color], facecolor='none',\n",
    "        label=color, s=30, linewidths=1, alpha=1\n",
    "    )\n",
    "\n",
    "    # Print stats\n",
    "    median = filtered['duration_adj'].median()\n",
    "    avg = filtered['duration_adj'].mean()\n",
    "    print(f'{color}: median={median:.2f}, mean={avg:.2f}, n={len(filtered)}')\n",
    "\n",
    "ax.set_yticks([])\n",
    "ax.set_yticklabels([])\n",
    "ax.set_xlabel('Seconds')\n",
    "plt.tight_layout()"
   ]
  },
  {
   "cell_type": "markdown",
   "metadata": {},
   "source": [
    "### Calculate visits per 10k photos each day"
   ]
  },
  {
   "cell_type": "code",
   "execution_count": 17,
   "metadata": {},
   "outputs": [],
   "source": [
    "cumulative_color_visits['date'] = cumulative_color_visits['visit_start'].dt.date\n",
    "cumulative_color_visits = cumulative_color_visits.groupby(['color','date']).size().reset_index(name='visit_count')"
   ]
  },
  {
   "cell_type": "code",
   "execution_count": 18,
   "metadata": {},
   "outputs": [
    {
     "data": {
      "application/vnd.microsoft.datawrangler.viewer.v0+json": {
       "columns": [
        {
         "name": "index",
         "rawType": "int64",
         "type": "integer"
        },
        {
         "name": "color",
         "rawType": "object",
         "type": "string"
        },
        {
         "name": "date",
         "rawType": "object",
         "type": "unknown"
        },
        {
         "name": "visit_count",
         "rawType": "int64",
         "type": "integer"
        }
       ],
       "ref": "b0ee15b3-98b1-475d-82b1-0f12cf8af1b2",
       "rows": [
        [
         "0",
         "blu",
         "2024-07-11",
         "1"
        ],
        [
         "1",
         "blu",
         "2024-07-12",
         "1"
        ],
        [
         "2",
         "blu",
         "2024-07-13",
         "3"
        ],
        [
         "3",
         "blu",
         "2024-07-14",
         "4"
        ],
        [
         "4",
         "blu",
         "2024-07-15",
         "2"
        ],
        [
         "5",
         "blu",
         "2024-07-18",
         "2"
        ],
        [
         "6",
         "blu",
         "2024-07-19",
         "3"
        ],
        [
         "7",
         "blu",
         "2024-07-21",
         "2"
        ],
        [
         "8",
         "blu",
         "2024-07-22",
         "2"
        ],
        [
         "9",
         "blu",
         "2024-07-24",
         "6"
        ],
        [
         "10",
         "blu",
         "2024-07-25",
         "3"
        ],
        [
         "11",
         "blu",
         "2024-07-26",
         "2"
        ],
        [
         "12",
         "blu",
         "2024-07-27",
         "3"
        ],
        [
         "13",
         "blu",
         "2024-07-28",
         "2"
        ],
        [
         "14",
         "blu",
         "2024-07-31",
         "1"
        ],
        [
         "15",
         "blu",
         "2024-08-09",
         "1"
        ],
        [
         "16",
         "blu",
         "2024-08-14",
         "1"
        ],
        [
         "17",
         "blv",
         "2024-07-11",
         "3"
        ],
        [
         "18",
         "blv",
         "2024-07-12",
         "2"
        ],
        [
         "19",
         "blv",
         "2024-07-13",
         "1"
        ],
        [
         "20",
         "blv",
         "2024-07-14",
         "6"
        ],
        [
         "21",
         "blv",
         "2024-07-15",
         "4"
        ],
        [
         "22",
         "blv",
         "2024-07-18",
         "4"
        ],
        [
         "23",
         "blv",
         "2024-07-19",
         "5"
        ],
        [
         "24",
         "blv",
         "2024-07-21",
         "3"
        ],
        [
         "25",
         "blv",
         "2024-07-22",
         "2"
        ],
        [
         "26",
         "blv",
         "2024-07-24",
         "5"
        ],
        [
         "27",
         "blv",
         "2024-07-25",
         "6"
        ],
        [
         "28",
         "blv",
         "2024-07-26",
         "5"
        ],
        [
         "29",
         "blv",
         "2024-07-27",
         "2"
        ],
        [
         "30",
         "blv",
         "2024-07-28",
         "3"
        ],
        [
         "31",
         "blv",
         "2024-07-29",
         "1"
        ],
        [
         "32",
         "blv",
         "2024-08-04",
         "2"
        ],
        [
         "33",
         "blv",
         "2024-08-06",
         "1"
        ],
        [
         "34",
         "blv",
         "2024-08-08",
         "1"
        ],
        [
         "35",
         "blv",
         "2024-08-09",
         "1"
        ],
        [
         "36",
         "blv",
         "2024-08-20",
         "1"
        ],
        [
         "37",
         "blv",
         "2024-08-24",
         "1"
        ],
        [
         "38",
         "blv",
         "2024-09-05",
         "1"
        ],
        [
         "39",
         "cnt",
         "2024-07-11",
         "17"
        ],
        [
         "40",
         "cnt",
         "2024-07-12",
         "10"
        ],
        [
         "41",
         "cnt",
         "2024-07-13",
         "13"
        ],
        [
         "42",
         "cnt",
         "2024-07-14",
         "9"
        ],
        [
         "43",
         "cnt",
         "2024-07-15",
         "13"
        ],
        [
         "44",
         "cnt",
         "2024-07-18",
         "2"
        ],
        [
         "45",
         "cnt",
         "2024-07-19",
         "3"
        ],
        [
         "46",
         "cnt",
         "2024-07-21",
         "6"
        ],
        [
         "47",
         "cnt",
         "2024-07-22",
         "7"
        ],
        [
         "48",
         "cnt",
         "2024-07-24",
         "2"
        ],
        [
         "49",
         "cnt",
         "2024-07-25",
         "1"
        ]
       ],
       "shape": {
        "columns": 3,
        "rows": 91
       }
      },
      "text/html": [
       "<div>\n",
       "<style scoped>\n",
       "    .dataframe tbody tr th:only-of-type {\n",
       "        vertical-align: middle;\n",
       "    }\n",
       "\n",
       "    .dataframe tbody tr th {\n",
       "        vertical-align: top;\n",
       "    }\n",
       "\n",
       "    .dataframe thead th {\n",
       "        text-align: right;\n",
       "    }\n",
       "</style>\n",
       "<table border=\"1\" class=\"dataframe\">\n",
       "  <thead>\n",
       "    <tr style=\"text-align: right;\">\n",
       "      <th></th>\n",
       "      <th>color</th>\n",
       "      <th>date</th>\n",
       "      <th>visit_count</th>\n",
       "    </tr>\n",
       "  </thead>\n",
       "  <tbody>\n",
       "    <tr>\n",
       "      <th>0</th>\n",
       "      <td>blu</td>\n",
       "      <td>2024-07-11</td>\n",
       "      <td>1</td>\n",
       "    </tr>\n",
       "    <tr>\n",
       "      <th>1</th>\n",
       "      <td>blu</td>\n",
       "      <td>2024-07-12</td>\n",
       "      <td>1</td>\n",
       "    </tr>\n",
       "    <tr>\n",
       "      <th>2</th>\n",
       "      <td>blu</td>\n",
       "      <td>2024-07-13</td>\n",
       "      <td>3</td>\n",
       "    </tr>\n",
       "    <tr>\n",
       "      <th>3</th>\n",
       "      <td>blu</td>\n",
       "      <td>2024-07-14</td>\n",
       "      <td>4</td>\n",
       "    </tr>\n",
       "    <tr>\n",
       "      <th>4</th>\n",
       "      <td>blu</td>\n",
       "      <td>2024-07-15</td>\n",
       "      <td>2</td>\n",
       "    </tr>\n",
       "    <tr>\n",
       "      <th>...</th>\n",
       "      <td>...</td>\n",
       "      <td>...</td>\n",
       "      <td>...</td>\n",
       "    </tr>\n",
       "    <tr>\n",
       "      <th>86</th>\n",
       "      <td>yel</td>\n",
       "      <td>2024-07-27</td>\n",
       "      <td>2</td>\n",
       "    </tr>\n",
       "    <tr>\n",
       "      <th>87</th>\n",
       "      <td>yel</td>\n",
       "      <td>2024-07-28</td>\n",
       "      <td>1</td>\n",
       "    </tr>\n",
       "    <tr>\n",
       "      <th>88</th>\n",
       "      <td>yel</td>\n",
       "      <td>2024-07-29</td>\n",
       "      <td>1</td>\n",
       "    </tr>\n",
       "    <tr>\n",
       "      <th>89</th>\n",
       "      <td>yel</td>\n",
       "      <td>2024-08-01</td>\n",
       "      <td>1</td>\n",
       "    </tr>\n",
       "    <tr>\n",
       "      <th>90</th>\n",
       "      <td>yel</td>\n",
       "      <td>2024-08-16</td>\n",
       "      <td>1</td>\n",
       "    </tr>\n",
       "  </tbody>\n",
       "</table>\n",
       "<p>91 rows × 3 columns</p>\n",
       "</div>"
      ],
      "text/plain": [
       "   color        date  visit_count\n",
       "0    blu  2024-07-11            1\n",
       "1    blu  2024-07-12            1\n",
       "2    blu  2024-07-13            3\n",
       "3    blu  2024-07-14            4\n",
       "4    blu  2024-07-15            2\n",
       "..   ...         ...          ...\n",
       "86   yel  2024-07-27            2\n",
       "87   yel  2024-07-28            1\n",
       "88   yel  2024-07-29            1\n",
       "89   yel  2024-08-01            1\n",
       "90   yel  2024-08-16            1\n",
       "\n",
       "[91 rows x 3 columns]"
      ]
     },
     "execution_count": 18,
     "metadata": {},
     "output_type": "execute_result"
    }
   ],
   "source": [
    "cumulative_color_visits"
   ]
  },
  {
   "cell_type": "code",
   "execution_count": 19,
   "metadata": {},
   "outputs": [
    {
     "data": {
      "application/vnd.microsoft.datawrangler.viewer.v0+json": {
       "columns": [
        {
         "name": "index",
         "rawType": "int64",
         "type": "integer"
        },
        {
         "name": "color",
         "rawType": "object",
         "type": "string"
        },
        {
         "name": "date",
         "rawType": "object",
         "type": "unknown"
        },
        {
         "name": "count",
         "rawType": "int64",
         "type": "integer"
        },
        {
         "name": "count_per_10k",
         "rawType": "float64",
         "type": "float"
        }
       ],
       "ref": "2a404a8a-1cae-4948-85d8-2f5899018a63",
       "rows": [
        [
         "0",
         "blu",
         "2024-07-11",
         "18400",
         "1.84"
        ],
        [
         "1",
         "blu",
         "2024-07-12",
         "18400",
         "1.84"
        ],
        [
         "2",
         "blu",
         "2024-07-13",
         "26524",
         "2.6524"
        ],
        [
         "3",
         "blu",
         "2024-07-14",
         "53297",
         "5.3297"
        ],
        [
         "4",
         "blu",
         "2024-07-15",
         "35075",
         "3.5075"
        ],
        [
         "5",
         "blu",
         "2024-07-16",
         "5187",
         "0.5187"
        ],
        [
         "6",
         "blu",
         "2024-07-18",
         "50270",
         "5.027"
        ],
        [
         "7",
         "blu",
         "2024-07-19",
         "99545",
         "9.9545"
        ],
        [
         "8",
         "blu",
         "2024-07-20",
         "28762",
         "2.8762"
        ],
        [
         "9",
         "blu",
         "2024-07-21",
         "99515",
         "9.9515"
        ],
        [
         "10",
         "blu",
         "2024-07-22",
         "74508",
         "7.4508"
        ],
        [
         "11",
         "blu",
         "2024-07-23",
         "2",
         "0.0002"
        ],
        [
         "12",
         "blu",
         "2024-07-24",
         "92764",
         "9.2764"
        ],
        [
         "13",
         "blu",
         "2024-07-25",
         "92762",
         "9.2762"
        ],
        [
         "14",
         "blu",
         "2024-07-26",
         "92699",
         "9.2699"
        ],
        [
         "15",
         "blu",
         "2024-07-27",
         "92518",
         "9.2518"
        ],
        [
         "16",
         "blu",
         "2024-07-28",
         "92726",
         "9.2726"
        ],
        [
         "17",
         "blu",
         "2024-07-29",
         "88513",
         "8.8513"
        ],
        [
         "18",
         "blu",
         "2024-07-30",
         "92790",
         "9.279"
        ],
        [
         "19",
         "blu",
         "2024-07-31",
         "87389",
         "8.7389"
        ],
        [
         "20",
         "blu",
         "2024-08-01",
         "62324",
         "6.2324"
        ],
        [
         "21",
         "blu",
         "2024-08-02",
         "92930",
         "9.293"
        ],
        [
         "22",
         "blu",
         "2024-08-03",
         "94014",
         "9.4014"
        ],
        [
         "23",
         "blu",
         "2024-08-04",
         "78107",
         "7.8107"
        ],
        [
         "24",
         "blu",
         "2024-08-05",
         "1",
         "0.0001"
        ],
        [
         "25",
         "blu",
         "2024-08-06",
         "93591",
         "9.3591"
        ],
        [
         "26",
         "blu",
         "2024-08-07",
         "68656",
         "6.8656"
        ],
        [
         "27",
         "blu",
         "2024-08-08",
         "93397",
         "9.3397"
        ],
        [
         "28",
         "blu",
         "2024-08-09",
         "93210",
         "9.321"
        ],
        [
         "29",
         "blu",
         "2024-08-10",
         "93546",
         "9.3546"
        ],
        [
         "30",
         "blu",
         "2024-08-11",
         "22307",
         "2.2307"
        ],
        [
         "31",
         "blu",
         "2024-08-12",
         "2",
         "0.0002"
        ],
        [
         "32",
         "blu",
         "2024-08-13",
         "94128",
         "9.4128"
        ],
        [
         "33",
         "blu",
         "2024-08-14",
         "93259",
         "9.3259"
        ],
        [
         "34",
         "blu",
         "2024-08-15",
         "27502",
         "2.7502"
        ],
        [
         "35",
         "blu",
         "2024-08-16",
         "94682",
         "9.4682"
        ],
        [
         "36",
         "blu",
         "2024-08-17",
         "80406",
         "8.0406"
        ],
        [
         "37",
         "blu",
         "2024-08-18",
         "18684",
         "1.8684"
        ],
        [
         "38",
         "blu",
         "2024-08-19",
         "21957",
         "2.1957"
        ],
        [
         "39",
         "blu",
         "2024-08-20",
         "93716",
         "9.3716"
        ],
        [
         "40",
         "blu",
         "2024-08-21",
         "92558",
         "9.2558"
        ],
        [
         "41",
         "blu",
         "2024-08-22",
         "44540",
         "4.454"
        ],
        [
         "42",
         "blu",
         "2024-08-23",
         "94549",
         "9.4549"
        ],
        [
         "43",
         "blu",
         "2024-08-24",
         "94796",
         "9.4796"
        ],
        [
         "44",
         "blu",
         "2024-08-25",
         "93608",
         "9.3608"
        ],
        [
         "45",
         "blu",
         "2024-08-26",
         "94105",
         "9.4105"
        ],
        [
         "46",
         "blu",
         "2024-08-27",
         "52423",
         "5.2423"
        ],
        [
         "47",
         "blu",
         "2024-08-28",
         "69870",
         "6.987"
        ],
        [
         "48",
         "blu",
         "2024-08-29",
         "93945",
         "9.3945"
        ],
        [
         "49",
         "blu",
         "2024-08-30",
         "35677",
         "3.5677"
        ]
       ],
       "shape": {
        "columns": 4,
        "rows": 274
       }
      },
      "text/html": [
       "<div>\n",
       "<style scoped>\n",
       "    .dataframe tbody tr th:only-of-type {\n",
       "        vertical-align: middle;\n",
       "    }\n",
       "\n",
       "    .dataframe tbody tr th {\n",
       "        vertical-align: top;\n",
       "    }\n",
       "\n",
       "    .dataframe thead th {\n",
       "        text-align: right;\n",
       "    }\n",
       "</style>\n",
       "<table border=\"1\" class=\"dataframe\">\n",
       "  <thead>\n",
       "    <tr style=\"text-align: right;\">\n",
       "      <th></th>\n",
       "      <th>color</th>\n",
       "      <th>date</th>\n",
       "      <th>count</th>\n",
       "      <th>count_per_10k</th>\n",
       "    </tr>\n",
       "  </thead>\n",
       "  <tbody>\n",
       "    <tr>\n",
       "      <th>0</th>\n",
       "      <td>blu</td>\n",
       "      <td>2024-07-11</td>\n",
       "      <td>18400</td>\n",
       "      <td>1.8400</td>\n",
       "    </tr>\n",
       "    <tr>\n",
       "      <th>1</th>\n",
       "      <td>blu</td>\n",
       "      <td>2024-07-12</td>\n",
       "      <td>18400</td>\n",
       "      <td>1.8400</td>\n",
       "    </tr>\n",
       "    <tr>\n",
       "      <th>2</th>\n",
       "      <td>blu</td>\n",
       "      <td>2024-07-13</td>\n",
       "      <td>26524</td>\n",
       "      <td>2.6524</td>\n",
       "    </tr>\n",
       "    <tr>\n",
       "      <th>3</th>\n",
       "      <td>blu</td>\n",
       "      <td>2024-07-14</td>\n",
       "      <td>53297</td>\n",
       "      <td>5.3297</td>\n",
       "    </tr>\n",
       "    <tr>\n",
       "      <th>4</th>\n",
       "      <td>blu</td>\n",
       "      <td>2024-07-15</td>\n",
       "      <td>35075</td>\n",
       "      <td>3.5075</td>\n",
       "    </tr>\n",
       "    <tr>\n",
       "      <th>...</th>\n",
       "      <td>...</td>\n",
       "      <td>...</td>\n",
       "      <td>...</td>\n",
       "      <td>...</td>\n",
       "    </tr>\n",
       "    <tr>\n",
       "      <th>269</th>\n",
       "      <td>yel</td>\n",
       "      <td>2024-08-29</td>\n",
       "      <td>47623</td>\n",
       "      <td>4.7623</td>\n",
       "    </tr>\n",
       "    <tr>\n",
       "      <th>270</th>\n",
       "      <td>yel</td>\n",
       "      <td>2024-08-30</td>\n",
       "      <td>42781</td>\n",
       "      <td>4.2781</td>\n",
       "    </tr>\n",
       "    <tr>\n",
       "      <th>271</th>\n",
       "      <td>yel</td>\n",
       "      <td>2024-09-03</td>\n",
       "      <td>33030</td>\n",
       "      <td>3.3030</td>\n",
       "    </tr>\n",
       "    <tr>\n",
       "      <th>272</th>\n",
       "      <td>yel</td>\n",
       "      <td>2024-09-04</td>\n",
       "      <td>47499</td>\n",
       "      <td>4.7499</td>\n",
       "    </tr>\n",
       "    <tr>\n",
       "      <th>273</th>\n",
       "      <td>yel</td>\n",
       "      <td>2024-09-05</td>\n",
       "      <td>19085</td>\n",
       "      <td>1.9085</td>\n",
       "    </tr>\n",
       "  </tbody>\n",
       "</table>\n",
       "<p>274 rows × 4 columns</p>\n",
       "</div>"
      ],
      "text/plain": [
       "    color        date  count  count_per_10k\n",
       "0     blu  2024-07-11  18400         1.8400\n",
       "1     blu  2024-07-12  18400         1.8400\n",
       "2     blu  2024-07-13  26524         2.6524\n",
       "3     blu  2024-07-14  53297         5.3297\n",
       "4     blu  2024-07-15  35075         3.5075\n",
       "..    ...         ...    ...            ...\n",
       "269   yel  2024-08-29  47623         4.7623\n",
       "270   yel  2024-08-30  42781         4.2781\n",
       "271   yel  2024-09-03  33030         3.3030\n",
       "272   yel  2024-09-04  47499         4.7499\n",
       "273   yel  2024-09-05  19085         1.9085\n",
       "\n",
       "[274 rows x 4 columns]"
      ]
     },
     "execution_count": 19,
     "metadata": {},
     "output_type": "execute_result"
    }
   ],
   "source": [
    "date_photo_counts = pd.read_csv('csvs/date_color_counts.csv', index_col=False)\n",
    "date_photo_counts['date'] = pd.to_datetime(date_photo_counts['date']).dt.date\n",
    "date_photo_counts['count_per_10k'] = date_photo_counts['count']/10000\n",
    "date_photo_counts"
   ]
  },
  {
   "cell_type": "markdown",
   "metadata": {},
   "source": [
    "### NUMBER OF IMAGES TAKEN FOR EACH COLOR"
   ]
  },
  {
   "cell_type": "code",
   "execution_count": 32,
   "metadata": {},
   "outputs": [
    {
     "data": {
      "application/vnd.microsoft.datawrangler.viewer.v0+json": {
       "columns": [
        {
         "name": "color",
         "rawType": "object",
         "type": "string"
        },
        {
         "name": "count",
         "rawType": "int64",
         "type": "integer"
        }
       ],
       "ref": "3a322c15-2a24-42a4-910d-8b162c2eaa7f",
       "rows": [
        [
         "blu",
         "1061467"
        ],
        [
         "blv",
         "1090255"
        ],
        [
         "cnt",
         "1157578"
        ],
        [
         "grn",
         "1185447"
        ],
        [
         "yel",
         "1212146"
        ]
       ],
       "shape": {
        "columns": 1,
        "rows": 5
       }
      },
      "text/plain": [
       "color\n",
       "blu    1061467\n",
       "blv    1090255\n",
       "cnt    1157578\n",
       "grn    1185447\n",
       "yel    1212146\n",
       "Name: count, dtype: int64"
      ]
     },
     "execution_count": 32,
     "metadata": {},
     "output_type": "execute_result"
    }
   ],
   "source": [
    "clover_date_photo_counts = date_photo_counts[date_photo_counts['date'] < pd.to_datetime('2024-07-30').date()]\n",
    "clover_date_photo_counts.groupby('color')['count'].sum()"
   ]
  },
  {
   "cell_type": "code",
   "execution_count": null,
   "metadata": {},
   "outputs": [
    {
     "name": "stderr",
     "output_type": "stream",
     "text": [
      "/tmp/ipykernel_475738/2716110542.py:6: SettingWithCopyWarning: \n",
      "A value is trying to be set on a copy of a slice from a DataFrame.\n",
      "Try using .loc[row_indexer,col_indexer] = value instead\n",
      "\n",
      "See the caveats in the documentation: https://pandas.pydata.org/pandas-docs/stable/user_guide/indexing.html#returning-a-view-versus-a-copy\n",
      "  merge_photos_visits_filtered['date'] = pd.to_datetime(merge_photos_visits_filtered['date'])\n",
      "/tmp/ipykernel_475738/2716110542.py:7: SettingWithCopyWarning: \n",
      "A value is trying to be set on a copy of a slice from a DataFrame.\n",
      "Try using .loc[row_indexer,col_indexer] = value instead\n",
      "\n",
      "See the caveats in the documentation: https://pandas.pydata.org/pandas-docs/stable/user_guide/indexing.html#returning-a-view-versus-a-copy\n",
      "  merge_photos_visits_filtered['day'] = (merge_photos_visits_filtered['date'] - merge_photos_visits_filtered['date'].min()).dt.days +1\n",
      "/tmp/ipykernel_475738/2716110542.py:8: SettingWithCopyWarning: \n",
      "A value is trying to be set on a copy of a slice from a DataFrame.\n",
      "Try using .loc[row_indexer,col_indexer] = value instead\n",
      "\n",
      "See the caveats in the documentation: https://pandas.pydata.org/pandas-docs/stable/user_guide/indexing.html#returning-a-view-versus-a-copy\n",
      "  merge_photos_visits_filtered['cumulative_visits'] = merge_photos_visits_filtered.groupby('color')['visits_per_10k'].cumsum()\n"
     ]
    },
    {
     "data": {
      "application/vnd.microsoft.datawrangler.viewer.v0+json": {
       "columns": [
        {
         "name": "index",
         "rawType": "int64",
         "type": "integer"
        },
        {
         "name": "color",
         "rawType": "object",
         "type": "string"
        },
        {
         "name": "date",
         "rawType": "datetime64[ns]",
         "type": "datetime"
        },
        {
         "name": "count",
         "rawType": "int64",
         "type": "integer"
        },
        {
         "name": "count_per_k",
         "rawType": "float64",
         "type": "float"
        },
        {
         "name": "visit_count",
         "rawType": "int64",
         "type": "integer"
        },
        {
         "name": "visits_per_10k",
         "rawType": "float64",
         "type": "float"
        },
        {
         "name": "day",
         "rawType": "int64",
         "type": "integer"
        },
        {
         "name": "cumulative_visits",
         "rawType": "float64",
         "type": "float"
        }
       ],
       "ref": "f9fcde77-ab93-4d89-b300-c4e355398c4f",
       "rows": [
        [
         "0",
         "blu",
         "2024-07-11 00:00:00",
         "18400",
         "1.84",
         "1",
         "0.5434782608695652",
         "1",
         "0.5434782608695652"
        ],
        [
         "1",
         "blu",
         "2024-07-12 00:00:00",
         "18400",
         "1.84",
         "1",
         "0.5434782608695652",
         "2",
         "1.0869565217391304"
        ],
        [
         "2",
         "blu",
         "2024-07-13 00:00:00",
         "26524",
         "2.6524",
         "3",
         "1.1310511235107827",
         "3",
         "2.218007645249913"
        ],
        [
         "3",
         "blu",
         "2024-07-14 00:00:00",
         "53297",
         "5.3297",
         "4",
         "0.7505112858134604",
         "4",
         "2.9685189310633735"
        ],
        [
         "4",
         "blu",
         "2024-07-15 00:00:00",
         "35075",
         "3.5075",
         "2",
         "0.5702066999287242",
         "5",
         "3.5387256309920976"
        ],
        [
         "5",
         "blu",
         "2024-07-18 00:00:00",
         "50270",
         "5.027",
         "2",
         "0.3978516013526954",
         "8",
         "3.936577232344793"
        ],
        [
         "6",
         "blu",
         "2024-07-19 00:00:00",
         "99545",
         "9.9545",
         "3",
         "0.3013712391380783",
         "9",
         "4.237948471482872"
        ],
        [
         "7",
         "blu",
         "2024-07-21 00:00:00",
         "99515",
         "9.9515",
         "2",
         "0.20097472742802594",
         "11",
         "4.4389231989108975"
        ],
        [
         "8",
         "blu",
         "2024-07-22 00:00:00",
         "74508",
         "7.4508",
         "2",
         "0.2684275514038761",
         "12",
         "4.707350750314774"
        ],
        [
         "9",
         "blu",
         "2024-07-24 00:00:00",
         "92764",
         "9.2764",
         "6",
         "0.6468026389547669",
         "14",
         "5.35415338926954"
        ],
        [
         "10",
         "blu",
         "2024-07-25 00:00:00",
         "92762",
         "9.2762",
         "3",
         "0.3234082921886117",
         "15",
         "5.677561681458152"
        ],
        [
         "11",
         "blu",
         "2024-07-26 00:00:00",
         "92699",
         "9.2699",
         "2",
         "0.21575205773525066",
         "16",
         "5.8933137391934025"
        ],
        [
         "12",
         "blu",
         "2024-07-27 00:00:00",
         "92518",
         "9.2518",
         "3",
         "0.32426122484273334",
         "17",
         "6.217574964036136"
        ],
        [
         "13",
         "blu",
         "2024-07-28 00:00:00",
         "92726",
         "9.2726",
         "2",
         "0.2156892349502836",
         "18",
         "6.43326419898642"
        ],
        [
         "17",
         "blv",
         "2024-07-11 00:00:00",
         "18243",
         "1.8243",
         "3",
         "1.6444663706627198",
         "1",
         "1.6444663706627198"
        ],
        [
         "18",
         "blv",
         "2024-07-12 00:00:00",
         "18339",
         "1.8339",
         "2",
         "1.0905720050166312",
         "2",
         "2.735038375679351"
        ],
        [
         "19",
         "blv",
         "2024-07-13 00:00:00",
         "22547",
         "2.2547",
         "1",
         "0.4435179846542777",
         "3",
         "3.1785563603336286"
        ],
        [
         "20",
         "blv",
         "2024-07-14 00:00:00",
         "53383",
         "5.3383",
         "6",
         "1.1239533184721728",
         "4",
         "4.3025096788058015"
        ],
        [
         "21",
         "blv",
         "2024-07-15 00:00:00",
         "50038",
         "5.0038",
         "4",
         "0.7993924617290858",
         "5",
         "5.101902140534888"
        ],
        [
         "22",
         "blv",
         "2024-07-18 00:00:00",
         "61430",
         "6.143",
         "4",
         "0.6511476477291226",
         "8",
         "5.7530497882640095"
        ],
        [
         "23",
         "blv",
         "2024-07-19 00:00:00",
         "99580",
         "9.958",
         "5",
         "0.502108857200241",
         "9",
         "6.255158645464251"
        ],
        [
         "24",
         "blv",
         "2024-07-21 00:00:00",
         "99520",
         "9.952",
         "3",
         "0.30144694533762056",
         "11",
         "6.556605590801872"
        ],
        [
         "25",
         "blv",
         "2024-07-22 00:00:00",
         "86239",
         "8.6239",
         "2",
         "0.2319136353621911",
         "12",
         "6.788519226164063"
        ],
        [
         "26",
         "blv",
         "2024-07-24 00:00:00",
         "92846",
         "9.2846",
         "5",
         "0.5385261616009306",
         "14",
         "7.3270453877649935"
        ],
        [
         "27",
         "blv",
         "2024-07-25 00:00:00",
         "91510",
         "9.151",
         "6",
         "0.6556660474265108",
         "15",
         "7.982711435191504"
        ],
        [
         "28",
         "blv",
         "2024-07-26 00:00:00",
         "92720",
         "9.272",
         "5",
         "0.5392579810181191",
         "16",
         "8.521969416209624"
        ],
        [
         "29",
         "blv",
         "2024-07-27 00:00:00",
         "92583",
         "9.2583",
         "2",
         "0.21602237991855955",
         "17",
         "8.737991796128183"
        ],
        [
         "30",
         "blv",
         "2024-07-28 00:00:00",
         "92732",
         "9.2732",
         "3",
         "0.32351291894923007",
         "18",
         "9.061504715077412"
        ],
        [
         "31",
         "blv",
         "2024-07-29 00:00:00",
         "92677",
         "9.2677",
         "1",
         "0.10790163686783129",
         "19",
         "9.169406351945243"
        ],
        [
         "39",
         "cnt",
         "2024-07-11 00:00:00",
         "36645",
         "3.6645",
         "17",
         "4.639104925637877",
         "1",
         "4.639104925637877"
        ],
        [
         "40",
         "cnt",
         "2024-07-12 00:00:00",
         "36189",
         "3.6189",
         "10",
         "2.7632706070905524",
         "2",
         "7.4023755327284295"
        ],
        [
         "41",
         "cnt",
         "2024-07-13 00:00:00",
         "36194",
         "3.6194",
         "13",
         "3.5917555395921976",
         "3",
         "10.994131072320627"
        ],
        [
         "42",
         "cnt",
         "2024-07-14 00:00:00",
         "36469",
         "3.6469",
         "9",
         "2.467849406345115",
         "4",
         "13.461980478665742"
        ],
        [
         "43",
         "cnt",
         "2024-07-15 00:00:00",
         "34589",
         "3.4589",
         "13",
         "3.7584203070340285",
         "5",
         "17.22040078569977"
        ],
        [
         "44",
         "cnt",
         "2024-07-18 00:00:00",
         "60399",
         "6.0399",
         "2",
         "0.3311313101210285",
         "8",
         "17.5515320958208"
        ],
        [
         "45",
         "cnt",
         "2024-07-19 00:00:00",
         "99378",
         "9.9378",
         "3",
         "0.3018776791644026",
         "9",
         "17.853409774985202"
        ],
        [
         "46",
         "cnt",
         "2024-07-21 00:00:00",
         "99372",
         "9.9372",
         "6",
         "0.6037918125830213",
         "11",
         "18.457201587568225"
        ],
        [
         "47",
         "cnt",
         "2024-07-22 00:00:00",
         "98389",
         "9.8389",
         "7",
         "0.7114616471353504",
         "12",
         "19.168663234703573"
        ],
        [
         "48",
         "cnt",
         "2024-07-24 00:00:00",
         "92768",
         "9.2768",
         "2",
         "0.2155915833045878",
         "14",
         "19.384254818008163"
        ],
        [
         "49",
         "cnt",
         "2024-07-25 00:00:00",
         "92697",
         "9.2697",
         "1",
         "0.10787835636536242",
         "15",
         "19.492133174373524"
        ],
        [
         "50",
         "cnt",
         "2024-07-26 00:00:00",
         "92684",
         "9.2684",
         "4",
         "0.4315739501963662",
         "16",
         "19.92370712456989"
        ],
        [
         "51",
         "cnt",
         "2024-07-27 00:00:00",
         "92534",
         "9.2534",
         "1",
         "0.1080683856744548",
         "17",
         "20.031775510244344"
        ],
        [
         "52",
         "cnt",
         "2024-07-28 00:00:00",
         "92704",
         "9.2704",
         "2",
         "0.21574042112530203",
         "18",
         "20.247515931369648"
        ],
        [
         "53",
         "cnt",
         "2024-07-29 00:00:00",
         "92590",
         "9.259",
         "1",
         "0.10800302408467437",
         "19",
         "20.355518955454322"
        ],
        [
         "56",
         "grn",
         "2024-07-11 00:00:00",
         "25775",
         "2.5775",
         "4",
         "1.5518913676042676",
         "1",
         "1.5518913676042676"
        ],
        [
         "57",
         "grn",
         "2024-07-12 00:00:00",
         "35728",
         "3.5728",
         "4",
         "1.1195700850873265",
         "2",
         "2.6714614526915943"
        ],
        [
         "58",
         "grn",
         "2024-07-13 00:00:00",
         "35760",
         "3.576",
         "5",
         "1.3982102908277405",
         "3",
         "4.069671743519335"
        ],
        [
         "59",
         "grn",
         "2024-07-14 00:00:00",
         "34671",
         "3.4671",
         "6",
         "1.730552911655274",
         "4",
         "5.800224655174609"
        ],
        [
         "60",
         "grn",
         "2024-07-15 00:00:00",
         "35528",
         "3.5528",
         "5",
         "1.4073406890340014",
         "5",
         "7.20756534420861"
        ],
        [
         "61",
         "grn",
         "2024-07-16 00:00:00",
         "26824",
         "2.6824",
         "4",
         "1.4912019087384432",
         "6",
         "8.698767252947054"
        ]
       ],
       "shape": {
        "columns": 8,
        "rows": 77
       }
      },
      "text/html": [
       "<div>\n",
       "<style scoped>\n",
       "    .dataframe tbody tr th:only-of-type {\n",
       "        vertical-align: middle;\n",
       "    }\n",
       "\n",
       "    .dataframe tbody tr th {\n",
       "        vertical-align: top;\n",
       "    }\n",
       "\n",
       "    .dataframe thead th {\n",
       "        text-align: right;\n",
       "    }\n",
       "</style>\n",
       "<table border=\"1\" class=\"dataframe\">\n",
       "  <thead>\n",
       "    <tr style=\"text-align: right;\">\n",
       "      <th></th>\n",
       "      <th>color</th>\n",
       "      <th>date</th>\n",
       "      <th>count</th>\n",
       "      <th>count_per_k</th>\n",
       "      <th>visit_count</th>\n",
       "      <th>visits_per_10k</th>\n",
       "      <th>day</th>\n",
       "      <th>cumulative_visits</th>\n",
       "    </tr>\n",
       "  </thead>\n",
       "  <tbody>\n",
       "    <tr>\n",
       "      <th>0</th>\n",
       "      <td>blu</td>\n",
       "      <td>2024-07-11</td>\n",
       "      <td>18400</td>\n",
       "      <td>1.8400</td>\n",
       "      <td>1</td>\n",
       "      <td>0.543478</td>\n",
       "      <td>1</td>\n",
       "      <td>0.543478</td>\n",
       "    </tr>\n",
       "    <tr>\n",
       "      <th>1</th>\n",
       "      <td>blu</td>\n",
       "      <td>2024-07-12</td>\n",
       "      <td>18400</td>\n",
       "      <td>1.8400</td>\n",
       "      <td>1</td>\n",
       "      <td>0.543478</td>\n",
       "      <td>2</td>\n",
       "      <td>1.086957</td>\n",
       "    </tr>\n",
       "    <tr>\n",
       "      <th>2</th>\n",
       "      <td>blu</td>\n",
       "      <td>2024-07-13</td>\n",
       "      <td>26524</td>\n",
       "      <td>2.6524</td>\n",
       "      <td>3</td>\n",
       "      <td>1.131051</td>\n",
       "      <td>3</td>\n",
       "      <td>2.218008</td>\n",
       "    </tr>\n",
       "    <tr>\n",
       "      <th>3</th>\n",
       "      <td>blu</td>\n",
       "      <td>2024-07-14</td>\n",
       "      <td>53297</td>\n",
       "      <td>5.3297</td>\n",
       "      <td>4</td>\n",
       "      <td>0.750511</td>\n",
       "      <td>4</td>\n",
       "      <td>2.968519</td>\n",
       "    </tr>\n",
       "    <tr>\n",
       "      <th>4</th>\n",
       "      <td>blu</td>\n",
       "      <td>2024-07-15</td>\n",
       "      <td>35075</td>\n",
       "      <td>3.5075</td>\n",
       "      <td>2</td>\n",
       "      <td>0.570207</td>\n",
       "      <td>5</td>\n",
       "      <td>3.538726</td>\n",
       "    </tr>\n",
       "    <tr>\n",
       "      <th>...</th>\n",
       "      <td>...</td>\n",
       "      <td>...</td>\n",
       "      <td>...</td>\n",
       "      <td>...</td>\n",
       "      <td>...</td>\n",
       "      <td>...</td>\n",
       "      <td>...</td>\n",
       "      <td>...</td>\n",
       "    </tr>\n",
       "    <tr>\n",
       "      <th>84</th>\n",
       "      <td>yel</td>\n",
       "      <td>2024-07-24</td>\n",
       "      <td>92785</td>\n",
       "      <td>9.2785</td>\n",
       "      <td>1</td>\n",
       "      <td>0.107776</td>\n",
       "      <td>14</td>\n",
       "      <td>6.258333</td>\n",
       "    </tr>\n",
       "    <tr>\n",
       "      <th>85</th>\n",
       "      <td>yel</td>\n",
       "      <td>2024-07-25</td>\n",
       "      <td>92735</td>\n",
       "      <td>9.2735</td>\n",
       "      <td>1</td>\n",
       "      <td>0.107834</td>\n",
       "      <td>15</td>\n",
       "      <td>6.366167</td>\n",
       "    </tr>\n",
       "    <tr>\n",
       "      <th>86</th>\n",
       "      <td>yel</td>\n",
       "      <td>2024-07-27</td>\n",
       "      <td>92584</td>\n",
       "      <td>9.2584</td>\n",
       "      <td>2</td>\n",
       "      <td>0.216020</td>\n",
       "      <td>17</td>\n",
       "      <td>6.582187</td>\n",
       "    </tr>\n",
       "    <tr>\n",
       "      <th>87</th>\n",
       "      <td>yel</td>\n",
       "      <td>2024-07-28</td>\n",
       "      <td>92810</td>\n",
       "      <td>9.2810</td>\n",
       "      <td>1</td>\n",
       "      <td>0.107747</td>\n",
       "      <td>18</td>\n",
       "      <td>6.689934</td>\n",
       "    </tr>\n",
       "    <tr>\n",
       "      <th>88</th>\n",
       "      <td>yel</td>\n",
       "      <td>2024-07-29</td>\n",
       "      <td>82568</td>\n",
       "      <td>8.2568</td>\n",
       "      <td>1</td>\n",
       "      <td>0.121112</td>\n",
       "      <td>19</td>\n",
       "      <td>6.811046</td>\n",
       "    </tr>\n",
       "  </tbody>\n",
       "</table>\n",
       "<p>77 rows × 8 columns</p>\n",
       "</div>"
      ],
      "text/plain": [
       "   color       date  count  count_per_k  visit_count  visits_per_10k  day  \\\n",
       "0    blu 2024-07-11  18400       1.8400            1        0.543478    1   \n",
       "1    blu 2024-07-12  18400       1.8400            1        0.543478    2   \n",
       "2    blu 2024-07-13  26524       2.6524            3        1.131051    3   \n",
       "3    blu 2024-07-14  53297       5.3297            4        0.750511    4   \n",
       "4    blu 2024-07-15  35075       3.5075            2        0.570207    5   \n",
       "..   ...        ...    ...          ...          ...             ...  ...   \n",
       "84   yel 2024-07-24  92785       9.2785            1        0.107776   14   \n",
       "85   yel 2024-07-25  92735       9.2735            1        0.107834   15   \n",
       "86   yel 2024-07-27  92584       9.2584            2        0.216020   17   \n",
       "87   yel 2024-07-28  92810       9.2810            1        0.107747   18   \n",
       "88   yel 2024-07-29  82568       8.2568            1        0.121112   19   \n",
       "\n",
       "    cumulative_visits  \n",
       "0            0.543478  \n",
       "1            1.086957  \n",
       "2            2.218008  \n",
       "3            2.968519  \n",
       "4            3.538726  \n",
       "..                ...  \n",
       "84           6.258333  \n",
       "85           6.366167  \n",
       "86           6.582187  \n",
       "87           6.689934  \n",
       "88           6.811046  \n",
       "\n",
       "[77 rows x 8 columns]"
      ]
     },
     "execution_count": 32,
     "metadata": {},
     "output_type": "execute_result"
    }
   ],
   "source": [
    "merge_photos_visits = pd.merge(date_photo_counts, cumulative_color_visits, on=['color', 'date'], how='inner')\n",
    "merge_photos_visits['visits_per_10k'] = merge_photos_visits['visit_count']/merge_photos_visits['count_per_10k']\n",
    "# merge_photos_visits['cumulative_visits'] = merge_photos_visits.groupby('color')['visits_per_10k'].cumsum()\n",
    "merge_photos_visits\n",
    "merge_photos_visits_filtered = merge_photos_visits[merge_photos_visits['date'] <= merge_photos_visits['date'].min() + pd.Timedelta(days=18)]\n",
    "merge_photos_visits_filtered['date'] = pd.to_datetime(merge_photos_visits_filtered['date'])\n",
    "merge_photos_visits_filtered['day'] = (merge_photos_visits_filtered['date'] - merge_photos_visits_filtered['date'].min()).dt.days +1\n",
    "merge_photos_visits_filtered['cumulative_visits'] = merge_photos_visits_filtered.groupby('color')['visits_per_10k'].cumsum()\n",
    "merge_photos_visits_filtered"
   ]
  },
  {
   "cell_type": "code",
   "execution_count": null,
   "metadata": {},
   "outputs": [
    {
     "data": {
      "image/png": "[encoded data removed]",
      "text/plain": [
       "<Figure size 500x200 with 1 Axes>"
      ]
     },
     "metadata": {},
     "output_type": "display_data"
    }
   ],
   "source": [
    "plt.figure(figsize=(5, 2))\n",
    "\n",
    "for color, group in merge_photos_visits_filtered.groupby('color'):\n",
    "    plt.plot(group['day'], group['cumulative_visits'],\n",
    "             label=color, color=color_map.get(color))\n",
    "\n",
    "plt.xlabel('Day')\n",
    "plt.ylabel('Cumulative visits\\n per 10k images')\n",
    "plt.yticks([0, 5, 10, 15, 20])\n",
    "plt.xticks(range(0,20))\n",
    "\n",
    "plt.tight_layout()\n",
    "plt.savefig('figs/cumulative_visits_per_10k.svg', format='svg')"
   ]
  },
  {
   "cell_type": "code",
   "execution_count": null,
   "metadata": {},
   "outputs": [
    {
     "data": {
      "application/vnd.microsoft.datawrangler.viewer.v0+json": {
       "columns": [
        {
         "name": "index",
         "rawType": "int64",
         "type": "integer"
        },
        {
         "name": "color",
         "rawType": "object",
         "type": "string"
        },
        {
         "name": "date",
         "rawType": "datetime64[ns]",
         "type": "datetime"
        },
        {
         "name": "count",
         "rawType": "int64",
         "type": "integer"
        },
        {
         "name": "count_per_k",
         "rawType": "float64",
         "type": "float"
        },
        {
         "name": "visit_count",
         "rawType": "int64",
         "type": "integer"
        },
        {
         "name": "visits_per_10k",
         "rawType": "float64",
         "type": "float"
        },
        {
         "name": "day",
         "rawType": "int64",
         "type": "integer"
        },
        {
         "name": "cumulative_visits",
         "rawType": "float64",
         "type": "float"
        }
       ],
       "ref": "010b58b0-d903-479c-b77f-ad995aaeb2b9",
       "rows": [
        [
         "0",
         "blu",
         "2024-07-11 00:00:00",
         "18400",
         "1.84",
         "1",
         "0.5434782608695652",
         "1",
         "0.5434782608695652"
        ],
        [
         "1",
         "blu",
         "2024-07-12 00:00:00",
         "18400",
         "1.84",
         "1",
         "0.5434782608695652",
         "2",
         "1.0869565217391304"
        ],
        [
         "2",
         "blu",
         "2024-07-13 00:00:00",
         "26524",
         "2.6524",
         "3",
         "1.1310511235107827",
         "3",
         "2.218007645249913"
        ],
        [
         "3",
         "blu",
         "2024-07-14 00:00:00",
         "53297",
         "5.3297",
         "4",
         "0.7505112858134604",
         "4",
         "2.9685189310633735"
        ],
        [
         "4",
         "blu",
         "2024-07-15 00:00:00",
         "35075",
         "3.5075",
         "2",
         "0.5702066999287242",
         "5",
         "3.5387256309920976"
        ],
        [
         "5",
         "blu",
         "2024-07-18 00:00:00",
         "50270",
         "5.027",
         "2",
         "0.3978516013526954",
         "8",
         "3.936577232344793"
        ],
        [
         "6",
         "blu",
         "2024-07-19 00:00:00",
         "99545",
         "9.9545",
         "3",
         "0.3013712391380783",
         "9",
         "4.237948471482872"
        ],
        [
         "7",
         "blu",
         "2024-07-21 00:00:00",
         "99515",
         "9.9515",
         "2",
         "0.20097472742802594",
         "11",
         "4.4389231989108975"
        ],
        [
         "8",
         "blu",
         "2024-07-22 00:00:00",
         "74508",
         "7.4508",
         "2",
         "0.2684275514038761",
         "12",
         "4.707350750314774"
        ],
        [
         "9",
         "blu",
         "2024-07-24 00:00:00",
         "92764",
         "9.2764",
         "6",
         "0.6468026389547669",
         "14",
         "5.35415338926954"
        ],
        [
         "10",
         "blu",
         "2024-07-25 00:00:00",
         "92762",
         "9.2762",
         "3",
         "0.3234082921886117",
         "15",
         "5.677561681458152"
        ],
        [
         "11",
         "blu",
         "2024-07-26 00:00:00",
         "92699",
         "9.2699",
         "2",
         "0.21575205773525066",
         "16",
         "5.8933137391934025"
        ],
        [
         "12",
         "blu",
         "2024-07-27 00:00:00",
         "92518",
         "9.2518",
         "3",
         "0.32426122484273334",
         "17",
         "6.217574964036136"
        ],
        [
         "13",
         "blu",
         "2024-07-28 00:00:00",
         "92726",
         "9.2726",
         "2",
         "0.2156892349502836",
         "18",
         "6.43326419898642"
        ],
        [
         "17",
         "blv",
         "2024-07-11 00:00:00",
         "18243",
         "1.8243",
         "3",
         "1.6444663706627198",
         "1",
         "1.6444663706627198"
        ],
        [
         "18",
         "blv",
         "2024-07-12 00:00:00",
         "18339",
         "1.8339",
         "2",
         "1.0905720050166312",
         "2",
         "2.735038375679351"
        ],
        [
         "19",
         "blv",
         "2024-07-13 00:00:00",
         "22547",
         "2.2547",
         "1",
         "0.4435179846542777",
         "3",
         "3.1785563603336286"
        ],
        [
         "20",
         "blv",
         "2024-07-14 00:00:00",
         "53383",
         "5.3383",
         "6",
         "1.1239533184721728",
         "4",
         "4.3025096788058015"
        ],
        [
         "21",
         "blv",
         "2024-07-15 00:00:00",
         "50038",
         "5.0038",
         "4",
         "0.7993924617290858",
         "5",
         "5.101902140534888"
        ],
        [
         "22",
         "blv",
         "2024-07-18 00:00:00",
         "61430",
         "6.143",
         "4",
         "0.6511476477291226",
         "8",
         "5.7530497882640095"
        ],
        [
         "23",
         "blv",
         "2024-07-19 00:00:00",
         "99580",
         "9.958",
         "5",
         "0.502108857200241",
         "9",
         "6.255158645464251"
        ],
        [
         "24",
         "blv",
         "2024-07-21 00:00:00",
         "99520",
         "9.952",
         "3",
         "0.30144694533762056",
         "11",
         "6.556605590801872"
        ],
        [
         "25",
         "blv",
         "2024-07-22 00:00:00",
         "86239",
         "8.6239",
         "2",
         "0.2319136353621911",
         "12",
         "6.788519226164063"
        ],
        [
         "26",
         "blv",
         "2024-07-24 00:00:00",
         "92846",
         "9.2846",
         "5",
         "0.5385261616009306",
         "14",
         "7.3270453877649935"
        ],
        [
         "27",
         "blv",
         "2024-07-25 00:00:00",
         "91510",
         "9.151",
         "6",
         "0.6556660474265108",
         "15",
         "7.982711435191504"
        ],
        [
         "28",
         "blv",
         "2024-07-26 00:00:00",
         "92720",
         "9.272",
         "5",
         "0.5392579810181191",
         "16",
         "8.521969416209624"
        ],
        [
         "29",
         "blv",
         "2024-07-27 00:00:00",
         "92583",
         "9.2583",
         "2",
         "0.21602237991855955",
         "17",
         "8.737991796128183"
        ],
        [
         "30",
         "blv",
         "2024-07-28 00:00:00",
         "92732",
         "9.2732",
         "3",
         "0.32351291894923007",
         "18",
         "9.061504715077412"
        ],
        [
         "31",
         "blv",
         "2024-07-29 00:00:00",
         "92677",
         "9.2677",
         "1",
         "0.10790163686783129",
         "19",
         "9.169406351945243"
        ],
        [
         "39",
         "cnt",
         "2024-07-11 00:00:00",
         "36645",
         "3.6645",
         "17",
         "4.639104925637877",
         "1",
         "4.639104925637877"
        ],
        [
         "40",
         "cnt",
         "2024-07-12 00:00:00",
         "36189",
         "3.6189",
         "10",
         "2.7632706070905524",
         "2",
         "7.4023755327284295"
        ],
        [
         "41",
         "cnt",
         "2024-07-13 00:00:00",
         "36194",
         "3.6194",
         "13",
         "3.5917555395921976",
         "3",
         "10.994131072320627"
        ],
        [
         "42",
         "cnt",
         "2024-07-14 00:00:00",
         "36469",
         "3.6469",
         "9",
         "2.467849406345115",
         "4",
         "13.461980478665742"
        ],
        [
         "43",
         "cnt",
         "2024-07-15 00:00:00",
         "34589",
         "3.4589",
         "13",
         "3.7584203070340285",
         "5",
         "17.22040078569977"
        ],
        [
         "44",
         "cnt",
         "2024-07-18 00:00:00",
         "60399",
         "6.0399",
         "2",
         "0.3311313101210285",
         "8",
         "17.5515320958208"
        ],
        [
         "45",
         "cnt",
         "2024-07-19 00:00:00",
         "99378",
         "9.9378",
         "3",
         "0.3018776791644026",
         "9",
         "17.853409774985202"
        ],
        [
         "46",
         "cnt",
         "2024-07-21 00:00:00",
         "99372",
         "9.9372",
         "6",
         "0.6037918125830213",
         "11",
         "18.457201587568225"
        ],
        [
         "47",
         "cnt",
         "2024-07-22 00:00:00",
         "98389",
         "9.8389",
         "7",
         "0.7114616471353504",
         "12",
         "19.168663234703573"
        ],
        [
         "48",
         "cnt",
         "2024-07-24 00:00:00",
         "92768",
         "9.2768",
         "2",
         "0.2155915833045878",
         "14",
         "19.384254818008163"
        ],
        [
         "49",
         "cnt",
         "2024-07-25 00:00:00",
         "92697",
         "9.2697",
         "1",
         "0.10787835636536242",
         "15",
         "19.492133174373524"
        ],
        [
         "50",
         "cnt",
         "2024-07-26 00:00:00",
         "92684",
         "9.2684",
         "4",
         "0.4315739501963662",
         "16",
         "19.92370712456989"
        ],
        [
         "51",
         "cnt",
         "2024-07-27 00:00:00",
         "92534",
         "9.2534",
         "1",
         "0.1080683856744548",
         "17",
         "20.031775510244344"
        ],
        [
         "52",
         "cnt",
         "2024-07-28 00:00:00",
         "92704",
         "9.2704",
         "2",
         "0.21574042112530203",
         "18",
         "20.247515931369648"
        ],
        [
         "53",
         "cnt",
         "2024-07-29 00:00:00",
         "92590",
         "9.259",
         "1",
         "0.10800302408467437",
         "19",
         "20.355518955454322"
        ],
        [
         "56",
         "grn",
         "2024-07-11 00:00:00",
         "25775",
         "2.5775",
         "4",
         "1.5518913676042676",
         "1",
         "1.5518913676042676"
        ],
        [
         "57",
         "grn",
         "2024-07-12 00:00:00",
         "35728",
         "3.5728",
         "4",
         "1.1195700850873265",
         "2",
         "2.6714614526915943"
        ],
        [
         "58",
         "grn",
         "2024-07-13 00:00:00",
         "35760",
         "3.576",
         "5",
         "1.3982102908277405",
         "3",
         "4.069671743519335"
        ],
        [
         "59",
         "grn",
         "2024-07-14 00:00:00",
         "34671",
         "3.4671",
         "6",
         "1.730552911655274",
         "4",
         "5.800224655174609"
        ],
        [
         "60",
         "grn",
         "2024-07-15 00:00:00",
         "35528",
         "3.5528",
         "5",
         "1.4073406890340014",
         "5",
         "7.20756534420861"
        ],
        [
         "61",
         "grn",
         "2024-07-16 00:00:00",
         "26824",
         "2.6824",
         "4",
         "1.4912019087384432",
         "6",
         "8.698767252947054"
        ]
       ],
       "shape": {
        "columns": 8,
        "rows": 77
       }
      },
      "text/html": [
       "<div>\n",
       "<style scoped>\n",
       "    .dataframe tbody tr th:only-of-type {\n",
       "        vertical-align: middle;\n",
       "    }\n",
       "\n",
       "    .dataframe tbody tr th {\n",
       "        vertical-align: top;\n",
       "    }\n",
       "\n",
       "    .dataframe thead th {\n",
       "        text-align: right;\n",
       "    }\n",
       "</style>\n",
       "<table border=\"1\" class=\"dataframe\">\n",
       "  <thead>\n",
       "    <tr style=\"text-align: right;\">\n",
       "      <th></th>\n",
       "      <th>color</th>\n",
       "      <th>date</th>\n",
       "      <th>count</th>\n",
       "      <th>count_per_k</th>\n",
       "      <th>visit_count</th>\n",
       "      <th>visits_per_10k</th>\n",
       "      <th>day</th>\n",
       "      <th>cumulative_visits</th>\n",
       "    </tr>\n",
       "  </thead>\n",
       "  <tbody>\n",
       "    <tr>\n",
       "      <th>0</th>\n",
       "      <td>blu</td>\n",
       "      <td>2024-07-11</td>\n",
       "      <td>18400</td>\n",
       "      <td>1.8400</td>\n",
       "      <td>1</td>\n",
       "      <td>0.543478</td>\n",
       "      <td>1</td>\n",
       "      <td>0.543478</td>\n",
       "    </tr>\n",
       "    <tr>\n",
       "      <th>1</th>\n",
       "      <td>blu</td>\n",
       "      <td>2024-07-12</td>\n",
       "      <td>18400</td>\n",
       "      <td>1.8400</td>\n",
       "      <td>1</td>\n",
       "      <td>0.543478</td>\n",
       "      <td>2</td>\n",
       "      <td>1.086957</td>\n",
       "    </tr>\n",
       "    <tr>\n",
       "      <th>2</th>\n",
       "      <td>blu</td>\n",
       "      <td>2024-07-13</td>\n",
       "      <td>26524</td>\n",
       "      <td>2.6524</td>\n",
       "      <td>3</td>\n",
       "      <td>1.131051</td>\n",
       "      <td>3</td>\n",
       "      <td>2.218008</td>\n",
       "    </tr>\n",
       "    <tr>\n",
       "      <th>3</th>\n",
       "      <td>blu</td>\n",
       "      <td>2024-07-14</td>\n",
       "      <td>53297</td>\n",
       "      <td>5.3297</td>\n",
       "      <td>4</td>\n",
       "      <td>0.750511</td>\n",
       "      <td>4</td>\n",
       "      <td>2.968519</td>\n",
       "    </tr>\n",
       "    <tr>\n",
       "      <th>4</th>\n",
       "      <td>blu</td>\n",
       "      <td>2024-07-15</td>\n",
       "      <td>35075</td>\n",
       "      <td>3.5075</td>\n",
       "      <td>2</td>\n",
       "      <td>0.570207</td>\n",
       "      <td>5</td>\n",
       "      <td>3.538726</td>\n",
       "    </tr>\n",
       "    <tr>\n",
       "      <th>...</th>\n",
       "      <td>...</td>\n",
       "      <td>...</td>\n",
       "      <td>...</td>\n",
       "      <td>...</td>\n",
       "      <td>...</td>\n",
       "      <td>...</td>\n",
       "      <td>...</td>\n",
       "      <td>...</td>\n",
       "    </tr>\n",
       "    <tr>\n",
       "      <th>84</th>\n",
       "      <td>yel</td>\n",
       "      <td>2024-07-24</td>\n",
       "      <td>92785</td>\n",
       "      <td>9.2785</td>\n",
       "      <td>1</td>\n",
       "      <td>0.107776</td>\n",
       "      <td>14</td>\n",
       "      <td>6.258333</td>\n",
       "    </tr>\n",
       "    <tr>\n",
       "      <th>85</th>\n",
       "      <td>yel</td>\n",
       "      <td>2024-07-25</td>\n",
       "      <td>92735</td>\n",
       "      <td>9.2735</td>\n",
       "      <td>1</td>\n",
       "      <td>0.107834</td>\n",
       "      <td>15</td>\n",
       "      <td>6.366167</td>\n",
       "    </tr>\n",
       "    <tr>\n",
       "      <th>86</th>\n",
       "      <td>yel</td>\n",
       "      <td>2024-07-27</td>\n",
       "      <td>92584</td>\n",
       "      <td>9.2584</td>\n",
       "      <td>2</td>\n",
       "      <td>0.216020</td>\n",
       "      <td>17</td>\n",
       "      <td>6.582187</td>\n",
       "    </tr>\n",
       "    <tr>\n",
       "      <th>87</th>\n",
       "      <td>yel</td>\n",
       "      <td>2024-07-28</td>\n",
       "      <td>92810</td>\n",
       "      <td>9.2810</td>\n",
       "      <td>1</td>\n",
       "      <td>0.107747</td>\n",
       "      <td>18</td>\n",
       "      <td>6.689934</td>\n",
       "    </tr>\n",
       "    <tr>\n",
       "      <th>88</th>\n",
       "      <td>yel</td>\n",
       "      <td>2024-07-29</td>\n",
       "      <td>82568</td>\n",
       "      <td>8.2568</td>\n",
       "      <td>1</td>\n",
       "      <td>0.121112</td>\n",
       "      <td>19</td>\n",
       "      <td>6.811046</td>\n",
       "    </tr>\n",
       "  </tbody>\n",
       "</table>\n",
       "<p>77 rows × 8 columns</p>\n",
       "</div>"
      ],
      "text/plain": [
       "   color       date  count  count_per_k  visit_count  visits_per_10k  day  \\\n",
       "0    blu 2024-07-11  18400       1.8400            1        0.543478    1   \n",
       "1    blu 2024-07-12  18400       1.8400            1        0.543478    2   \n",
       "2    blu 2024-07-13  26524       2.6524            3        1.131051    3   \n",
       "3    blu 2024-07-14  53297       5.3297            4        0.750511    4   \n",
       "4    blu 2024-07-15  35075       3.5075            2        0.570207    5   \n",
       "..   ...        ...    ...          ...          ...             ...  ...   \n",
       "84   yel 2024-07-24  92785       9.2785            1        0.107776   14   \n",
       "85   yel 2024-07-25  92735       9.2735            1        0.107834   15   \n",
       "86   yel 2024-07-27  92584       9.2584            2        0.216020   17   \n",
       "87   yel 2024-07-28  92810       9.2810            1        0.107747   18   \n",
       "88   yel 2024-07-29  82568       8.2568            1        0.121112   19   \n",
       "\n",
       "    cumulative_visits  \n",
       "0            0.543478  \n",
       "1            1.086957  \n",
       "2            2.218008  \n",
       "3            2.968519  \n",
       "4            3.538726  \n",
       "..                ...  \n",
       "84           6.258333  \n",
       "85           6.366167  \n",
       "86           6.582187  \n",
       "87           6.689934  \n",
       "88           6.811046  \n",
       "\n",
       "[77 rows x 8 columns]"
      ]
     },
     "execution_count": 28,
     "metadata": {},
     "output_type": "execute_result"
    }
   ],
   "source": [
    "merge_photos_visits_filtered"
   ]
  },
  {
   "cell_type": "code",
   "execution_count": null,
   "metadata": {},
   "outputs": [
    {
     "data": {
      "application/vnd.microsoft.datawrangler.viewer.v0+json": {
       "columns": [
        {
         "name": "index",
         "rawType": "int64",
         "type": "integer"
        },
        {
         "name": "color",
         "rawType": "object",
         "type": "string"
        },
        {
         "name": "visits_per_10k",
         "rawType": "float64",
         "type": "float"
        }
       ],
       "ref": "c9a06148-b528-417e-8c09-31090d987019",
       "rows": [
        [
         "0",
         "blu",
         "6.43326419898642"
        ],
        [
         "1",
         "blv",
         "9.169406351945243"
        ],
        [
         "2",
         "cnt",
         "20.355518955454322"
        ],
        [
         "3",
         "grn",
         "14.390712038433557"
        ],
        [
         "4",
         "yel",
         "6.81104602026701"
        ]
       ],
       "shape": {
        "columns": 2,
        "rows": 5
       }
      },
      "text/html": [
       "<div>\n",
       "<style scoped>\n",
       "    .dataframe tbody tr th:only-of-type {\n",
       "        vertical-align: middle;\n",
       "    }\n",
       "\n",
       "    .dataframe tbody tr th {\n",
       "        vertical-align: top;\n",
       "    }\n",
       "\n",
       "    .dataframe thead th {\n",
       "        text-align: right;\n",
       "    }\n",
       "</style>\n",
       "<table border=\"1\" class=\"dataframe\">\n",
       "  <thead>\n",
       "    <tr style=\"text-align: right;\">\n",
       "      <th></th>\n",
       "      <th>color</th>\n",
       "      <th>visits_per_10k</th>\n",
       "    </tr>\n",
       "  </thead>\n",
       "  <tbody>\n",
       "    <tr>\n",
       "      <th>0</th>\n",
       "      <td>blu</td>\n",
       "      <td>6.433264</td>\n",
       "    </tr>\n",
       "    <tr>\n",
       "      <th>1</th>\n",
       "      <td>blv</td>\n",
       "      <td>9.169406</td>\n",
       "    </tr>\n",
       "    <tr>\n",
       "      <th>2</th>\n",
       "      <td>cnt</td>\n",
       "      <td>20.355519</td>\n",
       "    </tr>\n",
       "    <tr>\n",
       "      <th>3</th>\n",
       "      <td>grn</td>\n",
       "      <td>14.390712</td>\n",
       "    </tr>\n",
       "    <tr>\n",
       "      <th>4</th>\n",
       "      <td>yel</td>\n",
       "      <td>6.811046</td>\n",
       "    </tr>\n",
       "  </tbody>\n",
       "</table>\n",
       "</div>"
      ],
      "text/plain": [
       "  color  visits_per_10k\n",
       "0   blu        6.433264\n",
       "1   blv        9.169406\n",
       "2   cnt       20.355519\n",
       "3   grn       14.390712\n",
       "4   yel        6.811046"
      ]
     },
     "execution_count": 27,
     "metadata": {},
     "output_type": "execute_result"
    }
   ],
   "source": [
    "# FINAL CUMULATIVE COUNTS PER 10K IMAGES\n",
    "\n",
    "merge_photos_visits_filtered.groupby('color')['visits_per_10k'].sum().reset_index()"
   ]
  },
  {
   "cell_type": "code",
   "execution_count": null,
   "metadata": {},
   "outputs": [
    {
     "data": {
      "application/vnd.microsoft.datawrangler.viewer.v0+json": {
       "columns": [
        {
         "name": "index",
         "rawType": "int64",
         "type": "integer"
        },
        {
         "name": "color",
         "rawType": "object",
         "type": "string"
        },
        {
         "name": "cumulative_rate_per_day",
         "rawType": "float64",
         "type": "float"
        },
        {
         "name": "r_squared",
         "rawType": "float64",
         "type": "float"
        },
        {
         "name": "p_value",
         "rawType": "float64",
         "type": "float"
        }
       ],
       "ref": "e063fa35-b063-4bfa-bd2e-ed387e771277",
       "rows": [
        [
         "2",
         "cnt",
         "3.12221966660611",
         "0.9964490295771854",
         "8.990269926563623e-05"
        ],
        [
         "3",
         "grn",
         "1.44401111556917",
         "0.995118622160827",
         "0.00014495716578598986"
        ],
        [
         "1",
         "blv",
         "0.8482342842870786",
         "0.9878074293599023",
         "0.0005734926505428238"
        ],
        [
         "0",
         "blu",
         "0.7872057149569308",
         "0.9862955118644722",
         "0.0006837197725098477"
        ],
        [
         "4",
         "yel",
         "0.5416926395123944",
         "0.7996975600780771",
         "0.04061564146149672"
        ]
       ],
       "shape": {
        "columns": 4,
        "rows": 5
       }
      },
      "text/html": [
       "<div>\n",
       "<style scoped>\n",
       "    .dataframe tbody tr th:only-of-type {\n",
       "        vertical-align: middle;\n",
       "    }\n",
       "\n",
       "    .dataframe tbody tr th {\n",
       "        vertical-align: top;\n",
       "    }\n",
       "\n",
       "    .dataframe thead th {\n",
       "        text-align: right;\n",
       "    }\n",
       "</style>\n",
       "<table border=\"1\" class=\"dataframe\">\n",
       "  <thead>\n",
       "    <tr style=\"text-align: right;\">\n",
       "      <th></th>\n",
       "      <th>color</th>\n",
       "      <th>cumulative_rate_per_day</th>\n",
       "      <th>r_squared</th>\n",
       "      <th>p_value</th>\n",
       "    </tr>\n",
       "  </thead>\n",
       "  <tbody>\n",
       "    <tr>\n",
       "      <th>2</th>\n",
       "      <td>cnt</td>\n",
       "      <td>3.122220</td>\n",
       "      <td>0.996449</td>\n",
       "      <td>0.000090</td>\n",
       "    </tr>\n",
       "    <tr>\n",
       "      <th>3</th>\n",
       "      <td>grn</td>\n",
       "      <td>1.444011</td>\n",
       "      <td>0.995119</td>\n",
       "      <td>0.000145</td>\n",
       "    </tr>\n",
       "    <tr>\n",
       "      <th>1</th>\n",
       "      <td>blv</td>\n",
       "      <td>0.848234</td>\n",
       "      <td>0.987807</td>\n",
       "      <td>0.000573</td>\n",
       "    </tr>\n",
       "    <tr>\n",
       "      <th>0</th>\n",
       "      <td>blu</td>\n",
       "      <td>0.787206</td>\n",
       "      <td>0.986296</td>\n",
       "      <td>0.000684</td>\n",
       "    </tr>\n",
       "    <tr>\n",
       "      <th>4</th>\n",
       "      <td>yel</td>\n",
       "      <td>0.541693</td>\n",
       "      <td>0.799698</td>\n",
       "      <td>0.040616</td>\n",
       "    </tr>\n",
       "  </tbody>\n",
       "</table>\n",
       "</div>"
      ],
      "text/plain": [
       "  color  cumulative_rate_per_day  r_squared   p_value\n",
       "2   cnt                 3.122220   0.996449  0.000090\n",
       "3   grn                 1.444011   0.995119  0.000145\n",
       "1   blv                 0.848234   0.987807  0.000573\n",
       "0   blu                 0.787206   0.986296  0.000684\n",
       "4   yel                 0.541693   0.799698  0.040616"
      ]
     },
     "execution_count": 31,
     "metadata": {},
     "output_type": "execute_result"
    }
   ],
   "source": [
    "from scipy.stats import linregress\n",
    "from datetime import datetime \n",
    "\n",
    "start_date = pd.to_datetime(\"2024-07-11\")\n",
    "end_date = pd.to_datetime(\"2024-07-15\")\n",
    "subset = merge_photos_visits_filtered[\n",
    "    (merge_photos_visits_filtered['date'] >= start_date) &\n",
    "    (merge_photos_visits_filtered['date'] <= end_date)\n",
    "]\n",
    "daily_cum = subset.groupby(['color', 'date'])['cumulative_visits'].sum().reset_index()\n",
    "\n",
    "\n",
    "rates = []\n",
    "for color in daily_cum['color'].unique():\n",
    "    color_df = daily_cum[daily_cum['color'] == color].sort_values('date')\n",
    "    x = color_df['date'].map(datetime.toordinal)\n",
    "    y = color_df['cumulative_visits']\n",
    "    \n",
    "    slope, intercept, r_value, p_value, std_err = linregress(x, y)\n",
    "    \n",
    "    rates.append({\n",
    "        'color': color,\n",
    "        'cumulative_rate_per_day': slope,\n",
    "        'r_squared': r_value**2,\n",
    "        'p_value': p_value\n",
    "    })\n",
    "\n",
    "cumulative_rates_df = pd.DataFrame(rates).sort_values(by='cumulative_rate_per_day', ascending=False)\n",
    "\n",
    "cumulative_rates_df"
   ]
  },
  {
   "cell_type": "markdown",
   "metadata": {},
   "source": [
    "### Alt approaches to visualizing cumulative counts"
   ]
  },
  {
   "cell_type": "code",
   "execution_count": null,
   "metadata": {},
   "outputs": [
    {
     "data": {
      "image/png": "[encoded data removed]",
      "text/plain": [
       "<Figure size 1200x400 with 3 Axes>"
      ]
     },
     "metadata": {},
     "output_type": "display_data"
    }
   ],
   "source": [
    "# CUMULATIVE COUNTS BY TRAP, THREE PERIODS, RESET TO ZERO EACH PERIOD\n",
    "\n",
    "fig, axes = plt.subplots(1, len(periods), figsize=(4 * len(periods), 4))\n",
    "\n",
    "for i, (start, end) in enumerate(periods):\n",
    "    period_subset = cumulative_visits[\n",
    "        (cumulative_visits['visit_start'] >= start) & (cumulative_visits['visit_start'] <= end)\n",
    "    ].copy()\n",
    "    \n",
    "    period_subset['adjusted_cumulative_count'] = (\n",
    "        period_subset.groupby('pi_color')['cumulative_count']\n",
    "        .transform(lambda x: x - x.min())\n",
    "    )\n",
    "\n",
    "    ax = axes[i] if len(periods) > 1 else axes \n",
    "    for key, group in period_subset.groupby('pi_color'):\n",
    "        color_key = key.split('_')[-1]\n",
    "        line_color = color_map.get(color_key, 'k')\n",
    "        ax.plot(group['visit_start'], group['adjusted_cumulative_count'], label=key, color=line_color)\n",
    "    ax.spines['top'].set_visible(False)\n",
    "    ax.spines['right'].set_visible(False)\n",
    "    ax.set_title(f'{start.date()} to {end.date()}')\n",
    "\n",
    "plt.tight_layout()"
   ]
  },
  {
   "cell_type": "code",
   "execution_count": null,
   "metadata": {},
   "outputs": [],
   "source": [
    "treatment_times = pd.read_csv('csvs/treatment_times_fixed.csv', index_col=False)\n",
    "treatment_times['datetime'] = pd.to_datetime(treatment_times['datetime'], format= \"%Y-%m-%d %H:%M:%S\")\n",
    "treatment_times['date'] = pd.to_datetime(treatment_times['date'], format= \"%Y-%m-%d\")"
   ]
  },
  {
   "cell_type": "code",
   "execution_count": null,
   "metadata": {},
   "outputs": [],
   "source": [
    "treatment_times['pi_color'] = treatment_times['pi'].astype(str) + '_' + treatment_times['color']\n",
    "treatment_times = treatment_times.sort_values('datetime')"
   ]
  },
  {
   "cell_type": "code",
   "execution_count": null,
   "metadata": {},
   "outputs": [
    {
     "data": {
      "image/png": "[encoded data removed]",
      "text/plain": [
       "<Figure size 800x300 with 1 Axes>"
      ]
     },
     "metadata": {},
     "output_type": "display_data"
    }
   ],
   "source": [
    "fig, ax = plt.subplots(figsize=(8, 3))\n",
    "\n",
    "period_subset = treatment_times[\n",
    "    (treatment_times['datetime'] >= clover_start) & (treatment_times['datetime'] <= clover_end)\n",
    "].copy()\n",
    "\n",
    "\n",
    "image_counts = (\n",
    "period_subset.groupby(['color', 'datetime'])\n",
    ".size()\n",
    ".groupby(level=0)\n",
    ".cumsum()\n",
    ".reset_index(name='cumulative_count')   \n",
    ")\n",
    "\n",
    "# image_counts['adjusted_cumulative_count'] = (\n",
    "# image_counts.groupby('color')['cumulative_count']\n",
    "# .transform(lambda x: x - x.min())\n",
    "# )\n",
    "\n",
    "for key, group in image_counts.groupby('color'):\n",
    "    color_key = key.split('_')[-1]\n",
    "    pi_key = key.split('_')[0]\n",
    "    line_color = color_map.get(color_key, 'k')\n",
    "    ax.plot(group['datetime'], group['cumulative_count'], label=key, color=line_color)\n",
    "\n",
    "\n",
    "ax.spines['top'].set_visible(False)\n",
    "ax.spines['right'].set_visible(False)\n",
    "ax.set_title(f'{start.date()} to {end.date()}')\n",
    "ax.set_xticks(pd.date_range(start=clover_start, end=clover_end, freq='D'))\n",
    "ax.set_xticklabels([(tick - clover_start).days for tick in pd.date_range(start=clover_start, end=clover_end, freq='D')])\n",
    "ax.set_ylim(0, 1220000)\n",
    "plt.tight_layout()"
   ]
  },
  {
   "cell_type": "code",
   "execution_count": null,
   "metadata": {},
   "outputs": [
    {
     "data": {
      "image/png": "[encoded data removed]",
      "text/plain": [
       "<Figure size 1200x300 with 3 Axes>"
      ]
     },
     "metadata": {},
     "output_type": "display_data"
    }
   ],
   "source": [
    "color_map = {\n",
    "    'cnt': 'm',\n",
    "    'blu': 'b',\n",
    "    'blv': 'c',\n",
    "    'grn': 'g',\n",
    "    'yel': 'y'\n",
    "}\n",
    "\n",
    "fig, axes = plt.subplots(1, len(periods), figsize=(4 * len(periods), 3))\n",
    "\n",
    "for i, (start, end) in enumerate(periods):\n",
    "    period_subset = treatment_times[\n",
    "        (treatment_times['datetime'] >= start) & (treatment_times['datetime'] <= end)\n",
    "    ].copy()\n",
    "\n",
    "\n",
    "    image_counts = (\n",
    "    period_subset.groupby(['pi_color', 'datetime'])\n",
    "    .size()\n",
    "    .groupby(level=0)\n",
    "    .cumsum()\n",
    "    .reset_index(name='cumulative_count')   \n",
    "    )\n",
    "\n",
    "    image_counts['adjusted_cumulative_count'] = (\n",
    "    image_counts.groupby('pi_color')['cumulative_count']\n",
    "    .transform(lambda x: x - x.min())\n",
    "    )\n",
    "\n",
    "    ax = axes[i]\n",
    "    for key, group in image_counts.groupby('pi_color'):\n",
    "        color_key = key.split('_')[-1]\n",
    "        pi_key = key.split('_')[0]\n",
    "        line_color = color_map.get(color_key, 'k')\n",
    "        ax.plot(group['datetime'], group['adjusted_cumulative_count'], label=key, color=line_color)\n",
    "        ax.text(\n",
    "            group['datetime'].iloc[-1]+ pd.Timedelta(seconds=3600),\n",
    "            group['adjusted_cumulative_count'].iloc[-1]+0.7,\n",
    "            f'{pi_key}',\n",
    "            color=line_color,\n",
    "            fontsize=9,\n",
    "            verticalalignment='center'\n",
    "        )\n",
    "\n",
    "    ax.spines['top'].set_visible(False)\n",
    "    ax.spines['right'].set_visible(False)\n",
    "    ax.set_title(f'{start.date()} to {end.date()}')\n",
    "    ax.set_xticks(pd.date_range(start=start, end=end, freq='D'))\n",
    "    ax.set_xticklabels([(tick - start).days for tick in pd.date_range(start=start, end=end, freq='D')])\n",
    "\n",
    "\n",
    "plt.tight_layout()"
   ]
  },
  {
   "cell_type": "code",
   "execution_count": null,
   "metadata": {},
   "outputs": [
    {
     "name": "stderr",
     "output_type": "stream",
     "text": [
      "<>:24: SyntaxWarning: invalid escape sequence '\\i'\n",
      "<>:24: SyntaxWarning: invalid escape sequence '\\i'\n",
      "/tmp/ipykernel_4179113/4121611675.py:24: SyntaxWarning: invalid escape sequence '\\i'\n",
      "  ax.set_ylabel('$\\it{Bombus}$ visits')\n"
     ]
    },
    {
     "data": {
      "image/png": "[encoded data removed]",
      "text/plain": [
       "<Figure size 650x350 with 2 Axes>"
      ]
     },
     "metadata": {},
     "output_type": "display_data"
    }
   ],
   "source": [
    "# CUMULATIVE COUNTS BY COLOR, ALL PERIODS\n",
    "\n",
    "fig, axes = plt.subplots(2, 1, figsize=(6.5, 3.5), gridspec_kw={'height_ratios': [3, 2]}, sharex=True)\n",
    "\n",
    "period_subset_visits = cumulative_color_visits[\n",
    "    (cumulative_color_visits['visit_start'] >= clover_start) & (cumulative_color_visits['visit_start'] <= clover_end)\n",
    "].copy()\n",
    "\n",
    "period_subset_visits['visit_start_days'] = (period_subset_visits['visit_start'] - clover_start).dt.total_seconds() / (24 * 3600)\n",
    "    \n",
    "ax = axes[0]\n",
    "\n",
    "for key, group in period_subset_visits.groupby('color'):\n",
    "    color_key = key\n",
    "    line_color = color_map.get(color_key, 'k')\n",
    "    ax.plot(group['visit_start_days'], group['cumulative_count'], label=key, color=line_color)\n",
    "\n",
    "# ax.set_title(f'{clover_start.date()} to {clover_end.date()}')\n",
    "ax.set_xticks(range(20))\n",
    "ax.set_xticklabels([])\n",
    "ax.set_xlim(0, 19)\n",
    "ax.set_ylim(0, 100)\n",
    "\n",
    "ax.set_ylabel('$\\it{Bombus}$ visits')\n",
    "\n",
    "ax = axes[1]\n",
    "\n",
    "period_subset = cam_ints[\n",
    "    cam_ints['interval'].apply(lambda x: clover_start <= x.left and x.right <= clover_end)\n",
    "]\n",
    "\n",
    "for _, row in period_subset.iterrows():\n",
    "    ax.plot([(row['interval'].left - clover_start).total_seconds() / (24 * 3600), \n",
    "             (row['interval'].right - clover_start).total_seconds() / (24 * 3600)], \n",
    "            [row['pi'], row['pi']], color=color_map[row['color']])\n",
    "\n",
    "\n",
    "# ax.set_xticks(range(7))\n",
    "ax.set_xticklabels(range(20))\n",
    "ax.set_yticks(combined_df['pi'].unique())\n",
    "ax.set_yticklabels(combined_df['pi'].unique())\n",
    "ax.set_xlabel('Day')\n",
    "\n",
    "ax.set_ylabel('Pi number')\n",
    "\n",
    "plt.tight_layout()\n",
    "# plt.savefig('figs/visits_intervals.png', format='png', dpi=300 )"
   ]
  },
  {
   "cell_type": "code",
   "execution_count": null,
   "metadata": {},
   "outputs": [
    {
     "data": {
      "image/png": "[encoded data removed]",
      "text/plain": [
       "<Figure size 650x450 with 6 Axes>"
      ]
     },
     "metadata": {},
     "output_type": "display_data"
    }
   ],
   "source": [
    "fig, axes = plt.subplots(2, 3, figsize=(6.5, 4.5), gridspec_kw={'height_ratios': [2, 1]}, sharex=True)\n",
    "\n",
    "num_periods = len(periods)\n",
    "\n",
    "for idx, (start, end) in enumerate(periods):\n",
    "    ax = axes[0, idx]\n",
    "\n",
    "    period_subset_visits = cumulative_visits[\n",
    "        (cumulative_visits['visit_start'] >= start) & (cumulative_visits['visit_start'] <= end)\n",
    "    ].copy()\n",
    "\n",
    "    period_subset_visits['visit_start_days'] = (period_subset_visits['visit_start'] - start).dt.total_seconds() / (24 * 3600)\n",
    "\n",
    "    period_subset_visits['adjusted_cumulative_count'] = (\n",
    "        period_subset_visits.groupby('pi_color')['cumulative_count']\n",
    "        .transform(lambda x: x - x.min())\n",
    "    )\n",
    "\n",
    "    for key, group in period_subset_visits.groupby('pi_color'):\n",
    "        color_key = key.split('_')[-1]\n",
    "        pi_key = key.split('_')[0]\n",
    "        line_color = color_map.get(color_key, 'k')\n",
    "        \n",
    "        ax.plot(group['visit_start_days'], group['adjusted_cumulative_count'], label=key, color=line_color)\n",
    "        \n",
    "        # ax.text(\n",
    "        #     group['visit_start_days'].iloc[-1] + 0.1,  \n",
    "        #     group['adjusted_cumulative_count'].iloc[-1] + 0.5,\n",
    "        #     f'{pi_key}',\n",
    "        #     color=line_color,\n",
    "        #     fontsize=9,\n",
    "        #     verticalalignment='center'\n",
    "        # )\n",
    "\n",
    "    ax.spines['top'].set_visible(False)\n",
    "    ax.spines['right'].set_visible(False)\n",
    "    ax.set_title(f'{start.date()} to {end.date()}', fontsize=10)\n",
    "    ax.set_xticks(range(7))\n",
    "    ax.set_xticklabels([])\n",
    "    ax.set_xlim(0, 6)\n",
    "    ax.set_ylim(0, 40)\n",
    "    ax.set_yticks(range(0,45,5))\n",
    "    ax.set_yticklabels(range(0,45,5), fontsize=10)\n",
    "    \n",
    "    if idx == 0:\n",
    "        ax.set_ylabel('Bombus visits', fontsize=10)\n",
    "    if idx != 0:\n",
    "        ax.set_yticklabels([])\n",
    "\n",
    "for idx, (start, end) in enumerate(periods):\n",
    "    ax = axes[1, idx]\n",
    "\n",
    "    period_subset = cam_ints[\n",
    "        cam_ints['interval'].apply(lambda x: start <= x.left and x.right <= end)\n",
    "    ]\n",
    "\n",
    "    for _, row in period_subset.iterrows():\n",
    "        ax.plot([(row['interval'].left - start).total_seconds() / (24 * 3600), \n",
    "                 (row['interval'].right - start).total_seconds() / (24 * 3600)], \n",
    "                [row['pi'], row['pi']], color=color_map[row['color']])\n",
    "\n",
    "    ax.set_xticks(range(7))\n",
    "    ax.set_xticklabels(range(7), fontsize=10)\n",
    "    ax.set_yticks(combined_df['pi'].unique())\n",
    "    ax.set_yticklabels(combined_df['pi'].unique(), fontsize=10)\n",
    "    if idx != 0:\n",
    "        ax.set_yticklabels([])\n",
    "    ax.set_xlim(0, 6)\n",
    "    \n",
    "    if idx == 0:\n",
    "        ax.set_ylabel('Pi number', fontsize=10)\n",
    "\n",
    "plt.tight_layout()\n",
    "# plt.show()\n",
    "\n",
    "# plt.savefig('figs/cumulative_bombus_linear_pitimes.png', format='png', dpi=300)"
   ]
  }
 ],
 "metadata": {
  "kernelspec": {
   "display_name": "bee_mapping",
   "language": "python",
   "name": "python3"
  },
  "language_info": {
   "codemirror_mode": {
    "name": "ipython",
    "version": 3
   },
   "file_extension": ".py",
   "mimetype": "text/x-python",
   "name": "python",
   "nbconvert_exporter": "python",
   "pygments_lexer": "ipython3",
   "version": "3.12.0"
  }
 },
 "nbformat": 4,
 "nbformat_minor": 2
}
