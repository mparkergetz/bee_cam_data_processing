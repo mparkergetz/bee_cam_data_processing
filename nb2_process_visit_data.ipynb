{
 "cells": [
  {
   "cell_type": "code",
   "execution_count": 122,
   "id": "57a4b5ca",
   "metadata": {},
   "outputs": [],
   "source": [
    "import matplotlib.pyplot as plt\n",
    "import matplotlib\n",
    "matplotlib.rcParams['font.family'] = 'Nimbus Sans'\n",
    "plt.rcParams['font.size'] = 10\n",
    "import numpy as np\n",
    "import pandas as pd\n",
    "\n",
    "color_map = {\n",
    "    'cnt': 'm',\n",
    "    'blu': 'b',\n",
    "    'blv': 'c',\n",
    "    'grn': 'g',\n",
    "    'yel': 'y'\n",
    "}\n",
    "\n",
    "# periods = [('2024-07-11', '2024-07-18'),     # PERIODS FOR ALL TIME\n",
    "#            ('2024-07-18', '2024-07-23'), \n",
    "#            ('2024-07-23', '2024-08-15'), \n",
    "#            ('2024-08-15', '2024-09-03'),\n",
    "#            ('2024-09-03', '2024-09-10'), \n",
    "#            ]\n",
    "\n",
    "periods = [('2024-07-11', '2024-07-17'),  # PERIODS FOR JUST CLOVER\n",
    "           ('2024-07-18', '2024-07-24'), \n",
    "           ('2024-07-24', '2024-07-30')\n",
    "           ]\n",
    "\n",
    "periods = [(pd.to_datetime(start), pd.to_datetime(end)) for start, end in periods]\n",
    "\n",
    "clover_start = pd.to_datetime('2024-07-11')\n",
    "clover_end = pd.to_datetime('2024-07-30')"
   ]
  },
  {
   "cell_type": "code",
   "execution_count": 123,
   "id": "c4d3940f",
   "metadata": {},
   "outputs": [],
   "source": [
    "# STIMULUS SHUFFLE INTERVALS\n",
    "stim_ints = pd.read_csv('csvs/stimulus_intervals.csv', index_col=False)\n",
    "stim_ints['interval'] = stim_ints['interval'].apply(lambda x: pd.Interval(pd.Timestamp(x.split(', ')[0].strip('[')), \n",
    "                                                            pd.Timestamp(x.split(', ')[1].strip(')')), \n",
    "                                                            closed='left'))\n",
    "\n",
    "# CAMERA ON TIME INTERVALS\n",
    "cam_ints = pd.read_csv('csvs/camera_intervals.csv', index_col=False)\n",
    "cam_ints['interval'] = cam_ints['interval'].apply(lambda x: pd.Interval(pd.Timestamp(x.split(', ')[0].strip('[')), \n",
    "                                                            pd.Timestamp(x.split(', ')[1].strip(']')), \n",
    "                                                            closed='both'))"
   ]
  },
  {
   "cell_type": "code",
   "execution_count": 124,
   "id": "31a99562",
   "metadata": {},
   "outputs": [],
   "source": [
    "# LOAD ORIGINAL BOMBUS ID DATA\n",
    "bombus_df = pd.read_csv('csvs/clean_dfs/bombus_df_manualedit.csv')\n",
    "bombus_df['datetime'] = pd.to_datetime(bombus_df['datetime'])\n",
    "# bombus_df"
   ]
  },
  {
   "cell_type": "code",
   "execution_count": 125,
   "id": "62fb4ada",
   "metadata": {},
   "outputs": [],
   "source": [
    "# LOAD IN AND FORMAT NEW SAHI DETECTIONS, CONCAT TO BOMBUS_DF\n",
    "sahi_detections = pd.read_csv('csvs/bees_to_id_091625LRBupdate.csv', index_col=False)\n",
    "sahi_detections[['pi', 'datetime']] = sahi_detections['imageID'].str.extract(r'^pi(\\d+)_(\\d{8}_\\d{6})')\n",
    "sahi_detections['datetime'] = pd.to_datetime(sahi_detections['datetime'], format='%Y%m%d_%H%M%S')\n",
    "sahi_detections = sahi_detections.drop(columns=['caste', 'taxonomicNotes'])\n",
    "sahi_detections['species'] = sahi_detections['species'].str[7:]\n",
    "sahi_detections['species'] = sahi_detections['species'].replace('','unk')\n",
    "sahi_detections.columns = ['filename', 'species', 'sex', 'pi', 'datetime']\n",
    "sahi_detections['pi'] = sahi_detections['pi'].astype(int)\n",
    "sahi_detections['sex'] = sahi_detections['sex'].fillna('unk')\n",
    "bombus_df = pd.concat([bombus_df, sahi_detections], ignore_index=True)\n",
    "bombus_df = bombus_df.sort_values(by=['pi', 'datetime'], ascending=[True, True]).reset_index(drop=True)"
   ]
  },
  {
   "cell_type": "code",
   "execution_count": 126,
   "id": "e603e464",
   "metadata": {},
   "outputs": [],
   "source": [
    "# APPLY TREATMENT COLOR TO ROWS BASED ON STIMULUS SHUFFLE INTERVALS\n",
    "bombus_df['color'] = None\n",
    "for _, row in stim_ints.iterrows():\n",
    "    mask = (bombus_df['pi'] == row['pi']) & (bombus_df['datetime'].between(row['interval'].left, row['interval'].right, inclusive='left'))\n",
    "    bombus_df.loc[mask, 'color'] = row['color']\n",
    "bombus_df = bombus_df.drop(columns=['filename', 'date', 'time_diff'])\n",
    "bombus_df = bombus_df[['pi', 'datetime', 'color', 'species', 'sex']]"
   ]
  },
  {
   "cell_type": "code",
   "execution_count": 127,
   "id": "15afe855",
   "metadata": {},
   "outputs": [],
   "source": [
    "# LOAD AND FORMAT LONG VISITS (WERE EXCLUDED FROM FULL IMAGE LIST FOR ID SIMPLICITY)\n",
    "long_visits = pd.read_csv('csvs/stationary_bombus_filelist.txt', header=None, names=['filename'])\n",
    "long_visits[['pi', 'datetime']] = long_visits['filename'].str.extract(r'^pi(\\d+)_(\\d{8}_\\d{6})')\n",
    "long_visits['pi'] = long_visits['pi'].astype(int)\n",
    "long_visits = long_visits.drop(columns='filename')\n",
    "long_visits['datetime'] = pd.to_datetime(long_visits['datetime'], format='%Y%m%d_%H%M%S')\n",
    "long_visits = long_visits.sort_values(by=['pi', 'datetime'], ascending=[True, True]).reset_index(drop=True)"
   ]
  },
  {
   "cell_type": "code",
   "execution_count": 128,
   "id": "9c96f87b",
   "metadata": {},
   "outputs": [],
   "source": [
    "# ADD LONG VISITS TO ORIGINAL VISITS\n",
    "combined_df = pd.concat([bombus_df, long_visits], ignore_index=True)\n",
    "combined_df = combined_df.sort_values(by=['pi', 'datetime'])\n",
    "columns_to_fill = ['species', 'sex', 'color']\n",
    "combined_df[columns_to_fill] = combined_df[columns_to_fill].ffill()\n",
    "combined_df['time_diff'] = combined_df.groupby(['pi', 'color', 'species', 'sex'])['datetime'].diff()\n",
    "combined_df['new_visit'] = (combined_df['time_diff'] > pd.Timedelta(seconds=4)) | (combined_df['time_diff'].isna())\n",
    "combined_df['visit_id'] = combined_df.groupby(['species'])['new_visit'].cumsum()\n",
    "combined_df['time_diff_seconds'] = combined_df['time_diff'].dt.total_seconds()\n",
    "combined_df_clover = combined_df[combined_df['datetime'] < clover_end]"
   ]
  },
  {
   "cell_type": "code",
   "execution_count": 129,
   "id": "179a42dc",
   "metadata": {},
   "outputs": [
    {
     "data": {
      "text/plain": [
       "Text(0.5, 0, 'Seconds')"
      ]
     },
     "execution_count": 129,
     "metadata": {},
     "output_type": "execute_result"
    },
    {
     "data": {
      "image/png": "[encoded data removed]",
      "text/plain": [
       "<Figure size 150x200 with 1 Axes>"
      ]
     },
     "metadata": {},
     "output_type": "display_data"
    }
   ],
   "source": [
    "# PLOT HISTOGRAM OF SECONDS BETWEEN CONSECUTIVE SAME-SPECIES IMAGES\n",
    "\n",
    "time_diff_distribution = combined_df_clover['time_diff_seconds']\n",
    "bin_size = 1\n",
    "bins = np.arange(1,20 + bin_size, bin_size) - .9\n",
    "\n",
    "plt.figure(figsize=(1.5,2))\n",
    "plt.hist(time_diff_distribution[time_diff_distribution < 20], bins=bins, color='gray', log=True)\n",
    "# plt.yticks([1, 10, 100, 1000, 10000])\n",
    "plt.ylim(.9,10000)\n",
    "plt.xticks([0,4,10,20])\n",
    "plt.xlim(0, 20)\n",
    "plt.ylabel('Counts')\n",
    "# plt.yscale(\"log\")\n",
    "plt.xlabel('Seconds')\n",
    "# plt.tight_layout()"
   ]
  },
  {
   "cell_type": "code",
   "execution_count": 130,
   "id": "047b060c",
   "metadata": {},
   "outputs": [],
   "source": [
    "# CALCULATE VISIT DURATIONS\n",
    "visit_durations = (\n",
    "    combined_df.groupby(['species', 'visit_id', 'pi', 'color'])['datetime']\n",
    "    .agg(visit_start='min', visit_end='max')\n",
    "    .reset_index())\n",
    "visit_durations['duration'] = ((visit_durations['visit_end'] - visit_durations['visit_start']).dt.total_seconds())\n",
    "visit_durations['pi_color'] = visit_durations['pi'].astype(str) + '_' + visit_durations['color']\n",
    "visit_durations = visit_durations.sort_values(by='visit_start').reset_index(drop=True)"
   ]
  },
  {
   "cell_type": "code",
   "execution_count": 131,
   "id": "7a4f2d7b",
   "metadata": {},
   "outputs": [],
   "source": [
    "# MANUALLY ADD VISITS FOR EDGE CASE WITH MULTIPLE BEES IN ONE IMAGE\n",
    "\n",
    "def add_rows(df, new_rows):\n",
    "    new_df = pd.DataFrame(new_rows)\n",
    "    new_df['visit_start'] = pd.to_datetime(new_df['visit_start'])\n",
    "    new_df['visit_end'] = pd.to_datetime(new_df['visit_end'])\n",
    "    new_df['duration'] = (new_df['visit_end'] - new_df['visit_start']).dt.total_seconds()\n",
    "    for pi_color in new_df['pi_color'].unique():\n",
    "        if pd.notna(pi_color):\n",
    "            max_existing_id = df[df['pi_color'] == pi_color]['visit_id'].max()\n",
    "            max_existing_id = max_existing_id if pd.notna(max_existing_id) else 0\n",
    "            new_df.loc[new_df['pi_color'] == pi_color, 'visit_id'] = range(\n",
    "                int(max_existing_id) + 1, int(max_existing_id) + 1 + len(new_df[new_df['pi_color'] == pi_color])\n",
    "            )\n",
    "\n",
    "    df = pd.concat([df, new_df], ignore_index=True)\n",
    "    \n",
    "    return df\n",
    "\n",
    "new_rows = [\n",
    "    {\n",
    "        'species': 'vosnesenskii', 'pi': 9, 'color': 'grn',\n",
    "        'visit_start': '2024-07-23 09:41:43', 'visit_end': '2024-07-23 10:02:38',\n",
    "        'pi_color': '9_grn'\n",
    "    },\n",
    "    {\n",
    "        'species': 'vosnesenskii', 'pi': 9, 'color': 'grn',\n",
    "        'visit_start': '2024-07-23 10:02:19', 'visit_end': '2024-07-23 10:07:09',\n",
    "        'pi_color': '9_grn'\n",
    "    },\n",
    "    {\n",
    "        'species': 'vosnesenskii', 'pi': 9, 'color': 'grn',\n",
    "        'visit_start': '2024-07-23 10:02:35', 'visit_end': '2024-07-23 10:05:19',\n",
    "        'pi_color': '9_grn'\n",
    "    }\n",
    "]\n",
    "\n",
    "visit_durations = add_rows(visit_durations, new_rows)"
   ]
  },
  {
   "cell_type": "code",
   "execution_count": 132,
   "id": "e40fbd0e",
   "metadata": {},
   "outputs": [],
   "source": [
    "cumulative_visits = visit_durations.groupby(['pi_color', 'visit_start']).size().groupby(level=0).cumsum().reset_index(name='cumulative_count')\n",
    "cumulative_color_visits = visit_durations.groupby(['color', 'visit_start']).size().groupby(level=0).cumsum().reset_index(name='cumulative_count')\n",
    "\n",
    "visit_duration_distribution = visit_durations['duration']\n",
    "\n",
    "visit_durations.to_csv('csvs/bombus_visit_durations.csv', index=False)"
   ]
  },
  {
   "cell_type": "markdown",
   "id": "782093d9",
   "metadata": {},
   "source": [
    "### Calculate rate of bee capture in clover vs bare"
   ]
  },
  {
   "cell_type": "code",
   "execution_count": 133,
   "id": "81987c78",
   "metadata": {},
   "outputs": [
    {
     "name": "stdout",
     "output_type": "stream",
     "text": [
      "Total duration of intervals ending on or before 2024-07-30 (seconds): 6970149.0\n",
      "Total duration of intervals starting after 2024-07-30 (seconds): 13302447.0\n",
      "\n",
      "visit counts clover: 291\n",
      "visit counts bare: 16\n",
      "\n",
      "clover avg visits per trap per day: 0.3607153878633011\n",
      "bare avg visits per trap per day: 0.010392072977249974\n"
     ]
    }
   ],
   "source": [
    "threshold = pd.to_datetime('2024-07-30')\n",
    "\n",
    "visit_durations_clover = visit_durations[visit_durations['visit_end'] < threshold]\n",
    "visit_durations_bare = visit_durations[visit_durations['visit_end'] > threshold]\n",
    "\n",
    "visit_counts_clover = len(visit_durations[visit_durations['visit_end'] <= threshold])\n",
    "visit_counts_bare = len(visit_durations[visit_durations['visit_end'] > threshold])\n",
    "\n",
    "cam_ints['duration'] = cam_ints['interval'].apply(lambda x: x.right - x.left)\n",
    "before_or_on = cam_ints[cam_ints['interval'].apply(lambda x: x.right <= threshold)]\n",
    "after = cam_ints[cam_ints['interval'].apply(lambda x: x.left > threshold)]\n",
    "total_before_or_on = before_or_on['duration'].sum()\n",
    "total_after = after['duration'].sum()\n",
    "\n",
    "print(\"Total duration of intervals ending on or before 2024-07-30 (seconds):\", total_before_or_on.total_seconds())\n",
    "print(\"Total duration of intervals starting after 2024-07-30 (seconds):\", total_after.total_seconds())\n",
    "print()\n",
    "print('visit counts clover:', visit_counts_clover)\n",
    "print('visit counts bare:', visit_counts_bare)\n",
    "print()\n",
    "print(f'clover avg visits per trap per day: {(visit_counts_clover/(total_before_or_on.total_seconds()/3600/24))/10}')\n",
    "print(f'bare avg visits per trap per day: {(visit_counts_bare/(total_after.total_seconds()/3600/24))/10}')\n",
    "\n",
    "visit_durations_clover.to_csv('csvs/visit_durations_clover.csv', index=False)"
   ]
  },
  {
   "cell_type": "code",
   "execution_count": 134,
   "id": "4b6a8925",
   "metadata": {},
   "outputs": [
    {
     "data": {
      "application/vnd.microsoft.datawrangler.viewer.v0+json": {
       "columns": [
        {
         "name": "color",
         "rawType": "object",
         "type": "string"
        },
        {
         "name": "0",
         "rawType": "int64",
         "type": "integer"
        }
       ],
       "ref": "217bbba3-cd50-4972-9c63-cb606de7d42e",
       "rows": [
        [
         "blu",
         "36"
        ],
        [
         "blv",
         "54"
        ],
        [
         "cnt",
         "95"
        ],
        [
         "grn",
         "71"
        ],
        [
         "yel",
         "35"
        ]
       ],
       "shape": {
        "columns": 1,
        "rows": 5
       }
      },
      "text/plain": [
       "color\n",
       "blu    36\n",
       "blv    54\n",
       "cnt    95\n",
       "grn    71\n",
       "yel    35\n",
       "dtype: int64"
      ]
     },
     "execution_count": 134,
     "metadata": {},
     "output_type": "execute_result"
    }
   ],
   "source": [
    "# NUMBER OF VISITS PER STIMULUS\n",
    "visit_durations_clover.groupby('color').size()"
   ]
  },
  {
   "cell_type": "markdown",
   "id": "d239c127",
   "metadata": {},
   "source": [
    "### VISIT COUNTS BY HOUR OF DAY"
   ]
  },
  {
   "cell_type": "code",
   "execution_count": 135,
   "id": "8fae9213",
   "metadata": {},
   "outputs": [
    {
     "data": {
      "image/png": "[encoded data removed]",
      "text/plain": [
       "<Figure size 325x160 with 1 Axes>"
      ]
     },
     "metadata": {},
     "output_type": "display_data"
    }
   ],
   "source": [
    "total_counts_per_hour = visit_durations_clover['visit_start'].dt.hour.value_counts().sort_index()\n",
    "fig, ax = plt.subplots(figsize=(3.25, 1.6))\n",
    "ax.bar(total_counts_per_hour.index, total_counts_per_hour, color='goldenrod')\n",
    "ax.set_xlabel('Hour')\n",
    "ax.set_ylabel(r'$\\it{Bombus}$ visits')\n",
    "\n",
    "plt.ylim(0, 50)\n",
    "plt.yticks([0, 10, 20, 30, 40, 50], fontsize=9)\n",
    "plt.xlim(5.4, 19.5)\n",
    "\n",
    "xticks = total_counts_per_hour.index\n",
    "xlabels = ['6','7','8','9','10','11','12','13','14','15','16','17','18','19']\n",
    "plt.xticks(xticks, labels=xlabels, fontsize=9)\n",
    "\n",
    "plt.tight_layout()"
   ]
  },
  {
   "cell_type": "markdown",
   "id": "d8cc5c5a",
   "metadata": {},
   "source": [
    "### Subsample early 1hz Pis (how does phase of subsampling affect visit counts):\n",
    "\n",
    "-- RERUN PHASE GENERATION\n"
   ]
  },
  {
   "cell_type": "code",
   "execution_count": 136,
   "id": "7dddab9f",
   "metadata": {},
   "outputs": [],
   "source": [
    "onehz_camtimes_pi3 = pd.read_csv('csvs/onehz_visits_pi3.csv', index_col=0, parse_dates=['datetime'])\n",
    "onehz_camtimes_pi10 = pd.read_csv('csvs/onehz_visits_pi10.csv', index_col=0, parse_dates=['datetime'])\n",
    "\n",
    "pi3_subsampled_p0 = onehz_camtimes_pi3.iloc[::2]\n",
    "pi3_subsampled_p1 = onehz_camtimes_pi3.iloc[1::2]\n",
    "pi10_subsampled_p0 = onehz_camtimes_pi10.iloc[::2]\n",
    "pi10_subsampled_p1 = onehz_camtimes_pi10.iloc[1::2]\n",
    "\n",
    "onehz_visits_pi3 = combined_df[(combined_df['pi'] == 3) & (combined_df['datetime'] < '2024-07-17')]\n",
    "onehz_visits_pi10 = combined_df[(combined_df['pi'] == 10) & (combined_df['datetime'] < '2024-07-17')]\n",
    "shortvisits_pi3 = onehz_visits_pi3[onehz_visits_pi3['visit_id'] != 46]"
   ]
  },
  {
   "cell_type": "code",
   "execution_count": 137,
   "id": "9d71d64e",
   "metadata": {},
   "outputs": [
    {
     "name": "stdout",
     "output_type": "stream",
     "text": [
      "pi3 phase 0 = 14\n",
      "pi3 phase 1 = 15\n",
      "\n",
      "pi10 phase 0 = 4\n",
      "pi10 phase 1 = 3\n"
     ]
    }
   ],
   "source": [
    "print(f'pi3 phase 0 = {len(pi3_subsampled_p0[pi3_subsampled_p0['datetime'].isin(shortvisits_pi3['datetime'])])}')\n",
    "print(f'pi3 phase 1 = {len(pi3_subsampled_p1[pi3_subsampled_p1['datetime'].isin(shortvisits_pi3['datetime'])])}\\n')\n",
    "\n",
    "print(f'pi10 phase 0 = {len(pi10_subsampled_p0[pi10_subsampled_p0['datetime'].isin(onehz_visits_pi10['datetime'])])}')\n",
    "print(f'pi10 phase 1 = {len(pi10_subsampled_p1[pi10_subsampled_p1['datetime'].isin(onehz_visits_pi10['datetime'])])}')"
   ]
  },
  {
   "cell_type": "markdown",
   "id": "65447273",
   "metadata": {},
   "source": [
    "### Calculate visits per 10k photos each day"
   ]
  },
  {
   "cell_type": "code",
   "execution_count": 138,
   "id": "c0c72c4f",
   "metadata": {},
   "outputs": [
    {
     "data": {
      "application/vnd.microsoft.datawrangler.viewer.v0+json": {
       "columns": [
        {
         "name": "color",
         "rawType": "object",
         "type": "string"
        },
        {
         "name": "0",
         "rawType": "float64",
         "type": "float"
        }
       ],
       "ref": "0c244dce-fe97-4ebf-b415-970343974418",
       "rows": [
        [
         "blu",
         "2.0256410256410255"
        ],
        [
         "blv",
         "1.1290322580645162"
        ],
        [
         "cnt",
         "21.255102040816325"
        ],
        [
         "grn",
         "78.74647887323944"
        ],
        [
         "yel",
         "53.810810810810814"
        ]
       ],
       "shape": {
        "columns": 1,
        "rows": 5
       }
      },
      "text/plain": [
       "color\n",
       "blu     2.025641\n",
       "blv     1.129032\n",
       "cnt    21.255102\n",
       "grn    78.746479\n",
       "yel    53.810811\n",
       "dtype: float64"
      ]
     },
     "execution_count": 138,
     "metadata": {},
     "output_type": "execute_result"
    }
   ],
   "source": [
    "# AVG DURATION OF VISIT PER COLOR\n",
    "visit_durations['duration_adj'] = visit_durations['duration'] + 1\n",
    "color_visit_durations = visit_durations.groupby('color')['duration_adj'].sum().astype(int)\n",
    "color_total_counts = visit_durations.groupby('color')['pi'].count()\n",
    "color_visit_durations / color_total_counts"
   ]
  },
  {
   "cell_type": "code",
   "execution_count": 139,
   "id": "7e769d2f",
   "metadata": {},
   "outputs": [],
   "source": [
    "cumulative_color_visits['date'] = cumulative_color_visits['visit_start'].dt.date\n",
    "cumulative_color_visit_counts = cumulative_color_visits.groupby(['color','date']).size().reset_index(name='visit_count')"
   ]
  },
  {
   "cell_type": "code",
   "execution_count": 140,
   "id": "97c63e91",
   "metadata": {},
   "outputs": [
    {
     "data": {
      "application/vnd.microsoft.datawrangler.viewer.v0+json": {
       "columns": [
        {
         "name": "index",
         "rawType": "int64",
         "type": "integer"
        },
        {
         "name": "color",
         "rawType": "object",
         "type": "string"
        },
        {
         "name": "date",
         "rawType": "object",
         "type": "unknown"
        },
        {
         "name": "count",
         "rawType": "int64",
         "type": "integer"
        },
        {
         "name": "count_per_10k",
         "rawType": "float64",
         "type": "float"
        }
       ],
       "ref": "2da4ffdb-9850-49df-9ea7-d016127ba09c",
       "rows": [
        [
         "0",
         "blu",
         "2024-07-11",
         "18400",
         "1.84"
        ],
        [
         "1",
         "blu",
         "2024-07-12",
         "18400",
         "1.84"
        ],
        [
         "2",
         "blu",
         "2024-07-13",
         "26524",
         "2.6524"
        ],
        [
         "3",
         "blu",
         "2024-07-14",
         "53297",
         "5.3297"
        ],
        [
         "4",
         "blu",
         "2024-07-15",
         "35075",
         "3.5075"
        ],
        [
         "5",
         "blu",
         "2024-07-16",
         "5187",
         "0.5187"
        ],
        [
         "6",
         "blu",
         "2024-07-18",
         "50270",
         "5.027"
        ],
        [
         "7",
         "blu",
         "2024-07-19",
         "99545",
         "9.9545"
        ],
        [
         "8",
         "blu",
         "2024-07-20",
         "28762",
         "2.8762"
        ],
        [
         "9",
         "blu",
         "2024-07-21",
         "99515",
         "9.9515"
        ],
        [
         "10",
         "blu",
         "2024-07-22",
         "74508",
         "7.4508"
        ],
        [
         "11",
         "blu",
         "2024-07-23",
         "2",
         "0.0002"
        ],
        [
         "12",
         "blu",
         "2024-07-24",
         "92764",
         "9.2764"
        ],
        [
         "13",
         "blu",
         "2024-07-25",
         "92762",
         "9.2762"
        ],
        [
         "14",
         "blu",
         "2024-07-26",
         "92699",
         "9.2699"
        ],
        [
         "15",
         "blu",
         "2024-07-27",
         "92518",
         "9.2518"
        ],
        [
         "16",
         "blu",
         "2024-07-28",
         "92726",
         "9.2726"
        ],
        [
         "17",
         "blu",
         "2024-07-29",
         "88513",
         "8.8513"
        ],
        [
         "18",
         "blu",
         "2024-07-30",
         "92790",
         "9.279"
        ],
        [
         "19",
         "blu",
         "2024-07-31",
         "87389",
         "8.7389"
        ],
        [
         "20",
         "blu",
         "2024-08-01",
         "62324",
         "6.2324"
        ],
        [
         "21",
         "blu",
         "2024-08-02",
         "92930",
         "9.293"
        ],
        [
         "22",
         "blu",
         "2024-08-03",
         "94014",
         "9.4014"
        ],
        [
         "23",
         "blu",
         "2024-08-04",
         "78107",
         "7.8107"
        ],
        [
         "24",
         "blu",
         "2024-08-05",
         "1",
         "0.0001"
        ],
        [
         "25",
         "blu",
         "2024-08-06",
         "93591",
         "9.3591"
        ],
        [
         "26",
         "blu",
         "2024-08-07",
         "68656",
         "6.8656"
        ],
        [
         "27",
         "blu",
         "2024-08-08",
         "93397",
         "9.3397"
        ],
        [
         "28",
         "blu",
         "2024-08-09",
         "93210",
         "9.321"
        ],
        [
         "29",
         "blu",
         "2024-08-10",
         "93546",
         "9.3546"
        ],
        [
         "30",
         "blu",
         "2024-08-11",
         "22307",
         "2.2307"
        ],
        [
         "31",
         "blu",
         "2024-08-12",
         "2",
         "0.0002"
        ],
        [
         "32",
         "blu",
         "2024-08-13",
         "94128",
         "9.4128"
        ],
        [
         "33",
         "blu",
         "2024-08-14",
         "93259",
         "9.3259"
        ],
        [
         "34",
         "blu",
         "2024-08-15",
         "27502",
         "2.7502"
        ],
        [
         "35",
         "blu",
         "2024-08-16",
         "94682",
         "9.4682"
        ],
        [
         "36",
         "blu",
         "2024-08-17",
         "80406",
         "8.0406"
        ],
        [
         "37",
         "blu",
         "2024-08-18",
         "18684",
         "1.8684"
        ],
        [
         "38",
         "blu",
         "2024-08-19",
         "21957",
         "2.1957"
        ],
        [
         "39",
         "blu",
         "2024-08-20",
         "93716",
         "9.3716"
        ],
        [
         "40",
         "blu",
         "2024-08-21",
         "92558",
         "9.2558"
        ],
        [
         "41",
         "blu",
         "2024-08-22",
         "44540",
         "4.454"
        ],
        [
         "42",
         "blu",
         "2024-08-23",
         "94549",
         "9.4549"
        ],
        [
         "43",
         "blu",
         "2024-08-24",
         "94796",
         "9.4796"
        ],
        [
         "44",
         "blu",
         "2024-08-25",
         "93608",
         "9.3608"
        ],
        [
         "45",
         "blu",
         "2024-08-26",
         "94105",
         "9.4105"
        ],
        [
         "46",
         "blu",
         "2024-08-27",
         "52423",
         "5.2423"
        ],
        [
         "47",
         "blu",
         "2024-08-28",
         "69870",
         "6.987"
        ],
        [
         "48",
         "blu",
         "2024-08-29",
         "93945",
         "9.3945"
        ],
        [
         "49",
         "blu",
         "2024-08-30",
         "35677",
         "3.5677"
        ]
       ],
       "shape": {
        "columns": 4,
        "rows": 274
       }
      },
      "text/html": [
       "<div>\n",
       "<style scoped>\n",
       "    .dataframe tbody tr th:only-of-type {\n",
       "        vertical-align: middle;\n",
       "    }\n",
       "\n",
       "    .dataframe tbody tr th {\n",
       "        vertical-align: top;\n",
       "    }\n",
       "\n",
       "    .dataframe thead th {\n",
       "        text-align: right;\n",
       "    }\n",
       "</style>\n",
       "<table border=\"1\" class=\"dataframe\">\n",
       "  <thead>\n",
       "    <tr style=\"text-align: right;\">\n",
       "      <th></th>\n",
       "      <th>color</th>\n",
       "      <th>date</th>\n",
       "      <th>count</th>\n",
       "      <th>count_per_10k</th>\n",
       "    </tr>\n",
       "  </thead>\n",
       "  <tbody>\n",
       "    <tr>\n",
       "      <th>0</th>\n",
       "      <td>blu</td>\n",
       "      <td>2024-07-11</td>\n",
       "      <td>18400</td>\n",
       "      <td>1.8400</td>\n",
       "    </tr>\n",
       "    <tr>\n",
       "      <th>1</th>\n",
       "      <td>blu</td>\n",
       "      <td>2024-07-12</td>\n",
       "      <td>18400</td>\n",
       "      <td>1.8400</td>\n",
       "    </tr>\n",
       "    <tr>\n",
       "      <th>2</th>\n",
       "      <td>blu</td>\n",
       "      <td>2024-07-13</td>\n",
       "      <td>26524</td>\n",
       "      <td>2.6524</td>\n",
       "    </tr>\n",
       "    <tr>\n",
       "      <th>3</th>\n",
       "      <td>blu</td>\n",
       "      <td>2024-07-14</td>\n",
       "      <td>53297</td>\n",
       "      <td>5.3297</td>\n",
       "    </tr>\n",
       "    <tr>\n",
       "      <th>4</th>\n",
       "      <td>blu</td>\n",
       "      <td>2024-07-15</td>\n",
       "      <td>35075</td>\n",
       "      <td>3.5075</td>\n",
       "    </tr>\n",
       "    <tr>\n",
       "      <th>...</th>\n",
       "      <td>...</td>\n",
       "      <td>...</td>\n",
       "      <td>...</td>\n",
       "      <td>...</td>\n",
       "    </tr>\n",
       "    <tr>\n",
       "      <th>269</th>\n",
       "      <td>yel</td>\n",
       "      <td>2024-08-29</td>\n",
       "      <td>47623</td>\n",
       "      <td>4.7623</td>\n",
       "    </tr>\n",
       "    <tr>\n",
       "      <th>270</th>\n",
       "      <td>yel</td>\n",
       "      <td>2024-08-30</td>\n",
       "      <td>42781</td>\n",
       "      <td>4.2781</td>\n",
       "    </tr>\n",
       "    <tr>\n",
       "      <th>271</th>\n",
       "      <td>yel</td>\n",
       "      <td>2024-09-03</td>\n",
       "      <td>33030</td>\n",
       "      <td>3.3030</td>\n",
       "    </tr>\n",
       "    <tr>\n",
       "      <th>272</th>\n",
       "      <td>yel</td>\n",
       "      <td>2024-09-04</td>\n",
       "      <td>47499</td>\n",
       "      <td>4.7499</td>\n",
       "    </tr>\n",
       "    <tr>\n",
       "      <th>273</th>\n",
       "      <td>yel</td>\n",
       "      <td>2024-09-05</td>\n",
       "      <td>19085</td>\n",
       "      <td>1.9085</td>\n",
       "    </tr>\n",
       "  </tbody>\n",
       "</table>\n",
       "<p>274 rows × 4 columns</p>\n",
       "</div>"
      ],
      "text/plain": [
       "    color        date  count  count_per_10k\n",
       "0     blu  2024-07-11  18400         1.8400\n",
       "1     blu  2024-07-12  18400         1.8400\n",
       "2     blu  2024-07-13  26524         2.6524\n",
       "3     blu  2024-07-14  53297         5.3297\n",
       "4     blu  2024-07-15  35075         3.5075\n",
       "..    ...         ...    ...            ...\n",
       "269   yel  2024-08-29  47623         4.7623\n",
       "270   yel  2024-08-30  42781         4.2781\n",
       "271   yel  2024-09-03  33030         3.3030\n",
       "272   yel  2024-09-04  47499         4.7499\n",
       "273   yel  2024-09-05  19085         1.9085\n",
       "\n",
       "[274 rows x 4 columns]"
      ]
     },
     "execution_count": 140,
     "metadata": {},
     "output_type": "execute_result"
    }
   ],
   "source": [
    "date_photo_counts = pd.read_csv('csvs/date_color_counts.csv', index_col=False)\n",
    "date_photo_counts['date'] = pd.to_datetime(date_photo_counts['date']).dt.date\n",
    "date_photo_counts['count_per_10k'] = date_photo_counts['count']/10000\n",
    "date_photo_counts"
   ]
  },
  {
   "cell_type": "markdown",
   "id": "1d4afc10",
   "metadata": {},
   "source": [
    "### NUMBER OF IMAGES TAKEN FOR EACH COLOR"
   ]
  },
  {
   "cell_type": "code",
   "execution_count": 141,
   "id": "c3f23328",
   "metadata": {},
   "outputs": [
    {
     "data": {
      "application/vnd.microsoft.datawrangler.viewer.v0+json": {
       "columns": [
        {
         "name": "color",
         "rawType": "object",
         "type": "string"
        },
        {
         "name": "count",
         "rawType": "int64",
         "type": "integer"
        }
       ],
       "ref": "16b58d9d-7d58-4016-97b3-cf57249ea270",
       "rows": [
        [
         "blu",
         "1061467"
        ],
        [
         "blv",
         "1090255"
        ],
        [
         "cnt",
         "1157578"
        ],
        [
         "grn",
         "1185447"
        ],
        [
         "yel",
         "1212146"
        ]
       ],
       "shape": {
        "columns": 1,
        "rows": 5
       }
      },
      "text/plain": [
       "color\n",
       "blu    1061467\n",
       "blv    1090255\n",
       "cnt    1157578\n",
       "grn    1185447\n",
       "yel    1212146\n",
       "Name: count, dtype: int64"
      ]
     },
     "execution_count": 141,
     "metadata": {},
     "output_type": "execute_result"
    }
   ],
   "source": [
    "clover_date_photo_counts = date_photo_counts[date_photo_counts['date'] < pd.to_datetime('2024-07-30').date()]\n",
    "clover_date_photo_counts.groupby('color')['count'].sum()"
   ]
  },
  {
   "cell_type": "markdown",
   "id": "fe8e36a8",
   "metadata": {},
   "source": [
    "### PLOT CUMULATIVE VISIT COUNTS"
   ]
  },
  {
   "cell_type": "code",
   "execution_count": 142,
   "id": "dd661fa4",
   "metadata": {},
   "outputs": [
    {
     "name": "stderr",
     "output_type": "stream",
     "text": [
      "/tmp/ipykernel_3626861/2762496499.py:6: SettingWithCopyWarning: \n",
      "A value is trying to be set on a copy of a slice from a DataFrame.\n",
      "Try using .loc[row_indexer,col_indexer] = value instead\n",
      "\n",
      "See the caveats in the documentation: https://pandas.pydata.org/pandas-docs/stable/user_guide/indexing.html#returning-a-view-versus-a-copy\n",
      "  merge_photos_visits_filtered['date'] = pd.to_datetime(merge_photos_visits_filtered['date'])\n",
      "/tmp/ipykernel_3626861/2762496499.py:7: SettingWithCopyWarning: \n",
      "A value is trying to be set on a copy of a slice from a DataFrame.\n",
      "Try using .loc[row_indexer,col_indexer] = value instead\n",
      "\n",
      "See the caveats in the documentation: https://pandas.pydata.org/pandas-docs/stable/user_guide/indexing.html#returning-a-view-versus-a-copy\n",
      "  merge_photos_visits_filtered['day'] = (merge_photos_visits_filtered['date'] - merge_photos_visits_filtered['date'].min()).dt.days +1\n",
      "/tmp/ipykernel_3626861/2762496499.py:8: SettingWithCopyWarning: \n",
      "A value is trying to be set on a copy of a slice from a DataFrame.\n",
      "Try using .loc[row_indexer,col_indexer] = value instead\n",
      "\n",
      "See the caveats in the documentation: https://pandas.pydata.org/pandas-docs/stable/user_guide/indexing.html#returning-a-view-versus-a-copy\n",
      "  merge_photos_visits_filtered['cumulative_visits'] = merge_photos_visits_filtered.groupby('color')['visit_count'].cumsum()\n"
     ]
    },
    {
     "data": {
      "application/vnd.microsoft.datawrangler.viewer.v0+json": {
       "columns": [
        {
         "name": "index",
         "rawType": "int64",
         "type": "integer"
        },
        {
         "name": "color",
         "rawType": "object",
         "type": "string"
        },
        {
         "name": "date",
         "rawType": "datetime64[ns]",
         "type": "datetime"
        },
        {
         "name": "count",
         "rawType": "int64",
         "type": "integer"
        },
        {
         "name": "count_per_10k",
         "rawType": "float64",
         "type": "float"
        },
        {
         "name": "visit_count",
         "rawType": "int64",
         "type": "integer"
        },
        {
         "name": "visits_per_10k",
         "rawType": "float64",
         "type": "float"
        },
        {
         "name": "day",
         "rawType": "int64",
         "type": "integer"
        },
        {
         "name": "cumulative_visits",
         "rawType": "int64",
         "type": "integer"
        }
       ],
       "ref": "661a82b7-29eb-4a6b-947e-b6be33c9fc3b",
       "rows": [
        [
         "0",
         "blu",
         "2024-07-11 00:00:00",
         "18400",
         "1.84",
         "1",
         "0.5434782608695652",
         "1",
         "1"
        ],
        [
         "1",
         "blu",
         "2024-07-12 00:00:00",
         "18400",
         "1.84",
         "1",
         "0.5434782608695652",
         "2",
         "2"
        ],
        [
         "2",
         "blu",
         "2024-07-13 00:00:00",
         "26524",
         "2.6524",
         "3",
         "1.1310511235107827",
         "3",
         "5"
        ],
        [
         "3",
         "blu",
         "2024-07-14 00:00:00",
         "53297",
         "5.3297",
         "4",
         "0.7505112858134604",
         "4",
         "9"
        ],
        [
         "4",
         "blu",
         "2024-07-15 00:00:00",
         "35075",
         "3.5075",
         "2",
         "0.5702066999287242",
         "5",
         "11"
        ],
        [
         "5",
         "blu",
         "2024-07-18 00:00:00",
         "50270",
         "5.027",
         "2",
         "0.3978516013526954",
         "8",
         "13"
        ],
        [
         "6",
         "blu",
         "2024-07-19 00:00:00",
         "99545",
         "9.9545",
         "3",
         "0.3013712391380783",
         "9",
         "16"
        ],
        [
         "7",
         "blu",
         "2024-07-21 00:00:00",
         "99515",
         "9.9515",
         "2",
         "0.20097472742802594",
         "11",
         "18"
        ],
        [
         "8",
         "blu",
         "2024-07-22 00:00:00",
         "74508",
         "7.4508",
         "2",
         "0.2684275514038761",
         "12",
         "20"
        ],
        [
         "9",
         "blu",
         "2024-07-24 00:00:00",
         "92764",
         "9.2764",
         "6",
         "0.6468026389547669",
         "14",
         "26"
        ],
        [
         "10",
         "blu",
         "2024-07-25 00:00:00",
         "92762",
         "9.2762",
         "3",
         "0.3234082921886117",
         "15",
         "29"
        ],
        [
         "11",
         "blu",
         "2024-07-26 00:00:00",
         "92699",
         "9.2699",
         "2",
         "0.21575205773525066",
         "16",
         "31"
        ],
        [
         "12",
         "blu",
         "2024-07-27 00:00:00",
         "92518",
         "9.2518",
         "3",
         "0.32426122484273334",
         "17",
         "34"
        ],
        [
         "13",
         "blu",
         "2024-07-28 00:00:00",
         "92726",
         "9.2726",
         "2",
         "0.2156892349502836",
         "18",
         "36"
        ],
        [
         "17",
         "blv",
         "2024-07-11 00:00:00",
         "18243",
         "1.8243",
         "3",
         "1.6444663706627198",
         "1",
         "3"
        ],
        [
         "18",
         "blv",
         "2024-07-12 00:00:00",
         "18339",
         "1.8339",
         "2",
         "1.0905720050166312",
         "2",
         "5"
        ],
        [
         "19",
         "blv",
         "2024-07-13 00:00:00",
         "22547",
         "2.2547",
         "1",
         "0.4435179846542777",
         "3",
         "6"
        ],
        [
         "20",
         "blv",
         "2024-07-14 00:00:00",
         "53383",
         "5.3383",
         "6",
         "1.1239533184721728",
         "4",
         "12"
        ],
        [
         "21",
         "blv",
         "2024-07-15 00:00:00",
         "50038",
         "5.0038",
         "4",
         "0.7993924617290858",
         "5",
         "16"
        ],
        [
         "22",
         "blv",
         "2024-07-18 00:00:00",
         "61430",
         "6.143",
         "4",
         "0.6511476477291226",
         "8",
         "20"
        ],
        [
         "23",
         "blv",
         "2024-07-19 00:00:00",
         "99580",
         "9.958",
         "5",
         "0.502108857200241",
         "9",
         "25"
        ],
        [
         "24",
         "blv",
         "2024-07-21 00:00:00",
         "99520",
         "9.952",
         "5",
         "0.502411575562701",
         "11",
         "30"
        ],
        [
         "25",
         "blv",
         "2024-07-22 00:00:00",
         "86239",
         "8.6239",
         "2",
         "0.2319136353621911",
         "12",
         "32"
        ],
        [
         "26",
         "blv",
         "2024-07-24 00:00:00",
         "92846",
         "9.2846",
         "5",
         "0.5385261616009306",
         "14",
         "37"
        ],
        [
         "27",
         "blv",
         "2024-07-25 00:00:00",
         "91510",
         "9.151",
         "6",
         "0.6556660474265108",
         "15",
         "43"
        ],
        [
         "28",
         "blv",
         "2024-07-26 00:00:00",
         "92720",
         "9.272",
         "5",
         "0.5392579810181191",
         "16",
         "48"
        ],
        [
         "29",
         "blv",
         "2024-07-27 00:00:00",
         "92583",
         "9.2583",
         "2",
         "0.21602237991855955",
         "17",
         "50"
        ],
        [
         "30",
         "blv",
         "2024-07-28 00:00:00",
         "92732",
         "9.2732",
         "3",
         "0.32351291894923007",
         "18",
         "53"
        ],
        [
         "31",
         "blv",
         "2024-07-29 00:00:00",
         "92677",
         "9.2677",
         "1",
         "0.10790163686783129",
         "19",
         "54"
        ],
        [
         "39",
         "cnt",
         "2024-07-11 00:00:00",
         "36645",
         "3.6645",
         "17",
         "4.639104925637877",
         "1",
         "17"
        ],
        [
         "40",
         "cnt",
         "2024-07-12 00:00:00",
         "36189",
         "3.6189",
         "10",
         "2.7632706070905524",
         "2",
         "27"
        ],
        [
         "41",
         "cnt",
         "2024-07-13 00:00:00",
         "36194",
         "3.6194",
         "13",
         "3.5917555395921976",
         "3",
         "40"
        ],
        [
         "42",
         "cnt",
         "2024-07-14 00:00:00",
         "36469",
         "3.6469",
         "9",
         "2.467849406345115",
         "4",
         "49"
        ],
        [
         "43",
         "cnt",
         "2024-07-15 00:00:00",
         "34589",
         "3.4589",
         "13",
         "3.7584203070340285",
         "5",
         "62"
        ],
        [
         "44",
         "cnt",
         "2024-07-18 00:00:00",
         "60399",
         "6.0399",
         "3",
         "0.4966969651815427",
         "8",
         "65"
        ],
        [
         "45",
         "cnt",
         "2024-07-19 00:00:00",
         "99378",
         "9.9378",
         "3",
         "0.3018776791644026",
         "9",
         "68"
        ],
        [
         "46",
         "cnt",
         "2024-07-21 00:00:00",
         "99372",
         "9.9372",
         "8",
         "0.8050557501106951",
         "11",
         "76"
        ],
        [
         "47",
         "cnt",
         "2024-07-22 00:00:00",
         "98389",
         "9.8389",
         "7",
         "0.7114616471353504",
         "12",
         "83"
        ],
        [
         "48",
         "cnt",
         "2024-07-24 00:00:00",
         "92768",
         "9.2768",
         "3",
         "0.3233873749568817",
         "14",
         "86"
        ],
        [
         "49",
         "cnt",
         "2024-07-25 00:00:00",
         "92697",
         "9.2697",
         "1",
         "0.10787835636536242",
         "15",
         "87"
        ],
        [
         "50",
         "cnt",
         "2024-07-26 00:00:00",
         "92684",
         "9.2684",
         "4",
         "0.4315739501963662",
         "16",
         "91"
        ],
        [
         "51",
         "cnt",
         "2024-07-27 00:00:00",
         "92534",
         "9.2534",
         "1",
         "0.1080683856744548",
         "17",
         "92"
        ],
        [
         "52",
         "cnt",
         "2024-07-28 00:00:00",
         "92704",
         "9.2704",
         "2",
         "0.21574042112530203",
         "18",
         "94"
        ],
        [
         "53",
         "cnt",
         "2024-07-29 00:00:00",
         "92590",
         "9.259",
         "1",
         "0.10800302408467437",
         "19",
         "95"
        ],
        [
         "56",
         "grn",
         "2024-07-11 00:00:00",
         "25775",
         "2.5775",
         "4",
         "1.5518913676042676",
         "1",
         "4"
        ],
        [
         "57",
         "grn",
         "2024-07-12 00:00:00",
         "35728",
         "3.5728",
         "4",
         "1.1195700850873265",
         "2",
         "8"
        ],
        [
         "58",
         "grn",
         "2024-07-13 00:00:00",
         "35760",
         "3.576",
         "5",
         "1.3982102908277405",
         "3",
         "13"
        ],
        [
         "59",
         "grn",
         "2024-07-14 00:00:00",
         "34671",
         "3.4671",
         "6",
         "1.730552911655274",
         "4",
         "19"
        ],
        [
         "60",
         "grn",
         "2024-07-15 00:00:00",
         "35528",
         "3.5528",
         "5",
         "1.4073406890340014",
         "5",
         "24"
        ],
        [
         "61",
         "grn",
         "2024-07-16 00:00:00",
         "26824",
         "2.6824",
         "4",
         "1.4912019087384432",
         "6",
         "28"
        ]
       ],
       "shape": {
        "columns": 8,
        "rows": 78
       }
      },
      "text/html": [
       "<div>\n",
       "<style scoped>\n",
       "    .dataframe tbody tr th:only-of-type {\n",
       "        vertical-align: middle;\n",
       "    }\n",
       "\n",
       "    .dataframe tbody tr th {\n",
       "        vertical-align: top;\n",
       "    }\n",
       "\n",
       "    .dataframe thead th {\n",
       "        text-align: right;\n",
       "    }\n",
       "</style>\n",
       "<table border=\"1\" class=\"dataframe\">\n",
       "  <thead>\n",
       "    <tr style=\"text-align: right;\">\n",
       "      <th></th>\n",
       "      <th>color</th>\n",
       "      <th>date</th>\n",
       "      <th>count</th>\n",
       "      <th>count_per_10k</th>\n",
       "      <th>visit_count</th>\n",
       "      <th>visits_per_10k</th>\n",
       "      <th>day</th>\n",
       "      <th>cumulative_visits</th>\n",
       "    </tr>\n",
       "  </thead>\n",
       "  <tbody>\n",
       "    <tr>\n",
       "      <th>0</th>\n",
       "      <td>blu</td>\n",
       "      <td>2024-07-11</td>\n",
       "      <td>18400</td>\n",
       "      <td>1.8400</td>\n",
       "      <td>1</td>\n",
       "      <td>0.543478</td>\n",
       "      <td>1</td>\n",
       "      <td>1</td>\n",
       "    </tr>\n",
       "    <tr>\n",
       "      <th>1</th>\n",
       "      <td>blu</td>\n",
       "      <td>2024-07-12</td>\n",
       "      <td>18400</td>\n",
       "      <td>1.8400</td>\n",
       "      <td>1</td>\n",
       "      <td>0.543478</td>\n",
       "      <td>2</td>\n",
       "      <td>2</td>\n",
       "    </tr>\n",
       "    <tr>\n",
       "      <th>2</th>\n",
       "      <td>blu</td>\n",
       "      <td>2024-07-13</td>\n",
       "      <td>26524</td>\n",
       "      <td>2.6524</td>\n",
       "      <td>3</td>\n",
       "      <td>1.131051</td>\n",
       "      <td>3</td>\n",
       "      <td>5</td>\n",
       "    </tr>\n",
       "    <tr>\n",
       "      <th>3</th>\n",
       "      <td>blu</td>\n",
       "      <td>2024-07-14</td>\n",
       "      <td>53297</td>\n",
       "      <td>5.3297</td>\n",
       "      <td>4</td>\n",
       "      <td>0.750511</td>\n",
       "      <td>4</td>\n",
       "      <td>9</td>\n",
       "    </tr>\n",
       "    <tr>\n",
       "      <th>4</th>\n",
       "      <td>blu</td>\n",
       "      <td>2024-07-15</td>\n",
       "      <td>35075</td>\n",
       "      <td>3.5075</td>\n",
       "      <td>2</td>\n",
       "      <td>0.570207</td>\n",
       "      <td>5</td>\n",
       "      <td>11</td>\n",
       "    </tr>\n",
       "    <tr>\n",
       "      <th>...</th>\n",
       "      <td>...</td>\n",
       "      <td>...</td>\n",
       "      <td>...</td>\n",
       "      <td>...</td>\n",
       "      <td>...</td>\n",
       "      <td>...</td>\n",
       "      <td>...</td>\n",
       "      <td>...</td>\n",
       "    </tr>\n",
       "    <tr>\n",
       "      <th>85</th>\n",
       "      <td>yel</td>\n",
       "      <td>2024-07-25</td>\n",
       "      <td>92735</td>\n",
       "      <td>9.2735</td>\n",
       "      <td>1</td>\n",
       "      <td>0.107834</td>\n",
       "      <td>15</td>\n",
       "      <td>29</td>\n",
       "    </tr>\n",
       "    <tr>\n",
       "      <th>86</th>\n",
       "      <td>yel</td>\n",
       "      <td>2024-07-26</td>\n",
       "      <td>92779</td>\n",
       "      <td>9.2779</td>\n",
       "      <td>1</td>\n",
       "      <td>0.107783</td>\n",
       "      <td>16</td>\n",
       "      <td>30</td>\n",
       "    </tr>\n",
       "    <tr>\n",
       "      <th>87</th>\n",
       "      <td>yel</td>\n",
       "      <td>2024-07-27</td>\n",
       "      <td>92584</td>\n",
       "      <td>9.2584</td>\n",
       "      <td>3</td>\n",
       "      <td>0.324030</td>\n",
       "      <td>17</td>\n",
       "      <td>33</td>\n",
       "    </tr>\n",
       "    <tr>\n",
       "      <th>88</th>\n",
       "      <td>yel</td>\n",
       "      <td>2024-07-28</td>\n",
       "      <td>92810</td>\n",
       "      <td>9.2810</td>\n",
       "      <td>1</td>\n",
       "      <td>0.107747</td>\n",
       "      <td>18</td>\n",
       "      <td>34</td>\n",
       "    </tr>\n",
       "    <tr>\n",
       "      <th>89</th>\n",
       "      <td>yel</td>\n",
       "      <td>2024-07-29</td>\n",
       "      <td>82568</td>\n",
       "      <td>8.2568</td>\n",
       "      <td>1</td>\n",
       "      <td>0.121112</td>\n",
       "      <td>19</td>\n",
       "      <td>35</td>\n",
       "    </tr>\n",
       "  </tbody>\n",
       "</table>\n",
       "<p>78 rows × 8 columns</p>\n",
       "</div>"
      ],
      "text/plain": [
       "   color       date  count  count_per_10k  visit_count  visits_per_10k  day  \\\n",
       "0    blu 2024-07-11  18400         1.8400            1        0.543478    1   \n",
       "1    blu 2024-07-12  18400         1.8400            1        0.543478    2   \n",
       "2    blu 2024-07-13  26524         2.6524            3        1.131051    3   \n",
       "3    blu 2024-07-14  53297         5.3297            4        0.750511    4   \n",
       "4    blu 2024-07-15  35075         3.5075            2        0.570207    5   \n",
       "..   ...        ...    ...            ...          ...             ...  ...   \n",
       "85   yel 2024-07-25  92735         9.2735            1        0.107834   15   \n",
       "86   yel 2024-07-26  92779         9.2779            1        0.107783   16   \n",
       "87   yel 2024-07-27  92584         9.2584            3        0.324030   17   \n",
       "88   yel 2024-07-28  92810         9.2810            1        0.107747   18   \n",
       "89   yel 2024-07-29  82568         8.2568            1        0.121112   19   \n",
       "\n",
       "    cumulative_visits  \n",
       "0                   1  \n",
       "1                   2  \n",
       "2                   5  \n",
       "3                   9  \n",
       "4                  11  \n",
       "..                ...  \n",
       "85                 29  \n",
       "86                 30  \n",
       "87                 33  \n",
       "88                 34  \n",
       "89                 35  \n",
       "\n",
       "[78 rows x 8 columns]"
      ]
     },
     "execution_count": 142,
     "metadata": {},
     "output_type": "execute_result"
    }
   ],
   "source": [
    "merge_photos_visits = pd.merge(date_photo_counts, cumulative_color_visit_counts, on=['color', 'date'], how='inner')\n",
    "merge_photos_visits['visits_per_10k'] = merge_photos_visits['visit_count']/merge_photos_visits['count_per_10k']\n",
    "# merge_photos_visits['cumulative_visits'] = merge_photos_visits.groupby('color')['visits_per_10k'].cumsum()\n",
    "merge_photos_visits\n",
    "merge_photos_visits_filtered = merge_photos_visits[merge_photos_visits['date'] <= merge_photos_visits['date'].min() + pd.Timedelta(days=18)]\n",
    "merge_photos_visits_filtered['date'] = pd.to_datetime(merge_photos_visits_filtered['date'])\n",
    "merge_photos_visits_filtered['day'] = (merge_photos_visits_filtered['date'] - merge_photos_visits_filtered['date'].min()).dt.days +1\n",
    "merge_photos_visits_filtered['cumulative_visits'] = merge_photos_visits_filtered.groupby('color')['visit_count'].cumsum()\n",
    "merge_photos_visits_filtered"
   ]
  },
  {
   "cell_type": "code",
   "execution_count": 143,
   "id": "1c7f9ff3",
   "metadata": {},
   "outputs": [
    {
     "data": {
      "image/png": "[encoded data removed]",
      "text/plain": [
       "<Figure size 500x200 with 1 Axes>"
      ]
     },
     "metadata": {},
     "output_type": "display_data"
    }
   ],
   "source": [
    "plt.figure(figsize=(5, 2))\n",
    "\n",
    "for color, group in merge_photos_visits_filtered.groupby('color'):\n",
    "    plt.plot(group['day'], group['cumulative_visits'],\n",
    "             label=color, color=color_map.get(color))\n",
    "\n",
    "plt.xlabel('Day')\n",
    "plt.ylabel('Cumulative visits')\n",
    "plt.yticks(range(0,100, 10))\n",
    "plt.xticks(range(0,20))\n",
    "\n",
    "plt.tight_layout()\n",
    "# plt.savefig('figs/cumulative_visits_per_10k.svg', format='svg')"
   ]
  },
  {
   "cell_type": "code",
   "execution_count": 144,
   "id": "7d86e650",
   "metadata": {},
   "outputs": [
    {
     "data": {
      "image/png": "[encoded data removed]",
      "text/plain": [
       "<Figure size 300x200 with 1 Axes>"
      ]
     },
     "metadata": {},
     "output_type": "display_data"
    }
   ],
   "source": [
    "\n",
    "SKIPPED_DAYS = {6}\n",
    "\n",
    "def day_to_display_index(d_cal: int) -> int:\n",
    "    return d_cal - sum(1 for sd in SKIPPED_DAYS if sd < d_cal)\n",
    "\n",
    "plt.figure(figsize=(3, 2))\n",
    "\n",
    "for color, group in merge_photos_visits_filtered.groupby('color'):\n",
    "    disp_days = group['day'].apply(day_to_display_index)\n",
    "    plt.plot(disp_days, group['cumulative_visits'],\n",
    "             label=color, color=color_map.get(color))\n",
    "\n",
    "plt.xlabel('Day')\n",
    "plt.ylabel('Cumulative visits')\n",
    "plt.yticks(range(0, 100, 10))\n",
    "\n",
    "cal_days = [d for d in range(0, 19) if d not in SKIPPED_DAYS]\n",
    "disp_days = [day_to_display_index(d) for d in cal_days]\n",
    "\n",
    "ticks = range(0, 19)\n",
    "labels = [str(d) if d % 2 == 0 else \"\" for d in ticks]\n",
    "plt.xticks(ticks, labels)\n",
    "plt.xlim(0,18)\n",
    "\n",
    "plt.tight_layout()\n",
    "plt.savefig('figs/cumulative_visits_small.svg', format='svg')"
   ]
  },
  {
   "cell_type": "code",
   "execution_count": 145,
   "id": "7f9507bf",
   "metadata": {},
   "outputs": [
    {
     "name": "stderr",
     "output_type": "stream",
     "text": [
      "/tmp/ipykernel_3626861/1850973551.py:106: MatplotlibDeprecationWarning: The BrokenBarHCollection class was deprecated in Matplotlib 3.7 and will be removed two minor releases later.\n",
      "  coll = BrokenBarHCollection(\n"
     ]
    },
    {
     "data": {
      "image/png": "[encoded data removed]",
      "text/plain": [
       "<Figure size 450x300 with 2 Axes>"
      ]
     },
     "metadata": {},
     "output_type": "display_data"
    }
   ],
   "source": [
    "import pandas as pd\n",
    "import matplotlib.pyplot as plt\n",
    "import datetime as dt\n",
    "from matplotlib.collections import BrokenBarHCollection\n",
    "\n",
    "combined_df['datetime'] = pd.to_datetime(combined_df['datetime'])\n",
    "day0 = combined_df['datetime'].dt.floor('D').min()\n",
    "combined_df['day'] = (combined_df['datetime'].dt.floor('D') - day0).dt.days\n",
    "SKIPPED_DAYS = {6}\n",
    "\n",
    "def day_to_display_index(d_cal: int) -> int:\n",
    "    return d_cal - sum(1 for sd in SKIPPED_DAYS if sd < d_cal)\n",
    "\n",
    "daily_counts = (\n",
    "    combined_df\n",
    "    .groupby('day')\n",
    "    .size()\n",
    "    .reset_index(name='count')\n",
    ")\n",
    "daily_counts['cum_count'] = daily_counts['count'].cumsum()\n",
    "daily_counts = daily_counts[(daily_counts['day'] <= 18) & (~daily_counts['day'].isin(SKIPPED_DAYS))]\n",
    "daily_counts['disp_day'] = daily_counts['day'].apply(day_to_display_index)\n",
    "\n",
    "fig, (ax1, ax2) = plt.subplots(2, 1, figsize=(4.5, 3), sharex=True, gridspec_kw={'height_ratios':[1,1]})\n",
    "\n",
    "ax1.bar(daily_counts['disp_day'] + 0.5, daily_counts['count'], color='gray', width=0.8)\n",
    "ax1.set_ylabel(\"Bombus image\\ncount (log scale)\")\n",
    "ax1.set_yscale(\"log\")\n",
    "\n",
    "day0_date = clover_start.date()\n",
    "\n",
    "def day_window(datet):\n",
    "    d = (datet.date() - day0_date).days\n",
    "    if d <= 6:\n",
    "        ws, we = (5, 0), (16, 0)\n",
    "    elif d > 6 and d <= 12:\n",
    "        ws, we = (5, 0), (19, 0)\n",
    "    else:\n",
    "        ws, we = (6, 0), (20, 0)\n",
    "    tz = getattr(datet, 'tzinfo', None)\n",
    "    wstart = dt.datetime.combine(datet.date(), dt.time(*ws), tz)\n",
    "    wend   = dt.datetime.combine(datet.date(), dt.time(*we), tz)\n",
    "    return d, wstart, wend\n",
    "\n",
    "def compressed_x(t):\n",
    "    d_cal, wstart, wend = day_window(t)\n",
    "    base = float(day_to_display_index(d_cal))\n",
    "    if t <= wstart:\n",
    "        return base\n",
    "    if t >= wend:\n",
    "        return base + 1.0\n",
    "    frac = (t - wstart) / (wend - wstart)\n",
    "    return base + float(frac)\n",
    "\n",
    "TOL = 1e-12\n",
    "ROUND = 12\n",
    "def _rx(x): return float(round(x, ROUND))\n",
    "\n",
    "period_subset = cam_ints[\n",
    "    cam_ints['interval'].apply(lambda x: clover_start <= x.left and x.right <= clover_end)\n",
    "]\n",
    "\n",
    "pis = sorted(period_subset['pi'].unique())\n",
    "segments_by_pi = {pi: [] for pi in pis}\n",
    "\n",
    "def add_seg(pi, ldt, rdt, color_key):\n",
    "    x1 = _rx(compressed_x(ldt))\n",
    "    x2 = _rx(compressed_x(rdt))\n",
    "    if x2 <= x1 + TOL:\n",
    "        return\n",
    "    segments_by_pi[pi].append([x1, x2, color_map[color_key]])\n",
    "\n",
    "for _, row in period_subset.iterrows():\n",
    "    left, right = row['interval'].left, row['interval'].right\n",
    "    if left.date() != right.date():\n",
    "        _, _, wendL = day_window(left)\n",
    "        _, wstartR, _ = day_window(right)\n",
    "        add_seg(row['pi'], left, min(right, wendL), row['color'])\n",
    "        add_seg(row['pi'], max(right, wstartR), right, row['color'])\n",
    "    else:\n",
    "        add_seg(row['pi'], left, right, row['color'])\n",
    "\n",
    "for pi in pis:\n",
    "    segs = sorted(segments_by_pi[pi], key=lambda s: (s[0], s[1]))\n",
    "    snapped = []\n",
    "    for seg in segs:\n",
    "        x1, x2, c = seg\n",
    "        if not snapped:\n",
    "            snapped.append([x1, x2, c])\n",
    "            continue\n",
    "        px1, px2, pc = snapped[-1]\n",
    "        if x1 <= px2 + TOL:\n",
    "            x1 = px2\n",
    "        if c == pc and x1 <= px2 + TOL:\n",
    "            snapped[-1][1] = max(px2, x2)\n",
    "        else:\n",
    "            snapped.append([x1, x2, c])\n",
    "    segments_by_pi[pi] = snapped\n",
    "\n",
    "band_height = 1.0\n",
    "pi_to_band = {pi: i for i, pi in enumerate(pis)}\n",
    "\n",
    "for pi in pis:\n",
    "    y0 = pi_to_band[pi]\n",
    "    for x1, x2, col in segments_by_pi[pi]:\n",
    "        coll = BrokenBarHCollection(\n",
    "            [(x1, x2 - x1)],\n",
    "            (y0, band_height),\n",
    "            facecolors=col,\n",
    "            edgecolors='none',\n",
    "            linewidths=0,\n",
    "            antialiased=False,\n",
    "            snap=True\n",
    "        )\n",
    "        ax2.add_collection(coll)\n",
    "\n",
    "ax2.set_yticks([pi_to_band[pi] + band_height/2 for pi in pis])\n",
    "ax2.set_yticklabels([str(pi) for pi in pis], size=9)\n",
    "ax2.set_ylim(-0.01, len(pis))\n",
    "\n",
    "dmins = (period_subset['interval'].map(lambda x: (x.left.date()  - day0_date).days)).min()\n",
    "dmaxs = (period_subset['interval'].map(lambda x: (x.right.date() - day0_date).days)).max()\n",
    "cal_days_kept = [d for d in range(dmins, dmaxs + 1) if d not in SKIPPED_DAYS]\n",
    "disp_days     = [day_to_display_index(d) for d in cal_days_kept]\n",
    "ax2.set_xticks(disp_days+[18])\n",
    "ax2.set_xlim(min(disp_days), max(disp_days) + 1)\n",
    "ax2.set_xticklabels([f\"{d}\" for d in disp_days+[18]])\n",
    "\n",
    "ax2.set_xlabel(\"Sampling day\")\n",
    "ax2.set_ylabel(\"Camera trap\")\n",
    "\n",
    "plt.tight_layout()\n",
    "plt.savefig('figs/bombus_img_counts_sample_ints.png', format='png', dpi=300)\n"
   ]
  },
  {
   "cell_type": "code",
   "execution_count": 146,
   "id": "069a8794",
   "metadata": {},
   "outputs": [
    {
     "data": {
      "application/vnd.microsoft.datawrangler.viewer.v0+json": {
       "columns": [
        {
         "name": "index",
         "rawType": "int64",
         "type": "integer"
        },
        {
         "name": "color",
         "rawType": "object",
         "type": "string"
        },
        {
         "name": "visits_per_10k",
         "rawType": "float64",
         "type": "float"
        }
       ],
       "ref": "27e62b7a-f098-4f1a-8896-2ffb8510d7a1",
       "rows": [
        [
         "0",
         "blu",
         "6.43326419898642"
        ],
        [
         "1",
         "blv",
         "9.370370982170325"
        ],
        [
         "2",
         "cnt",
         "20.830144339694805"
        ],
        [
         "3",
         "grn",
         "14.692559343943277"
        ],
        [
         "4",
         "yel",
         "7.127414345501533"
        ]
       ],
       "shape": {
        "columns": 2,
        "rows": 5
       }
      },
      "text/html": [
       "<div>\n",
       "<style scoped>\n",
       "    .dataframe tbody tr th:only-of-type {\n",
       "        vertical-align: middle;\n",
       "    }\n",
       "\n",
       "    .dataframe tbody tr th {\n",
       "        vertical-align: top;\n",
       "    }\n",
       "\n",
       "    .dataframe thead th {\n",
       "        text-align: right;\n",
       "    }\n",
       "</style>\n",
       "<table border=\"1\" class=\"dataframe\">\n",
       "  <thead>\n",
       "    <tr style=\"text-align: right;\">\n",
       "      <th></th>\n",
       "      <th>color</th>\n",
       "      <th>visits_per_10k</th>\n",
       "    </tr>\n",
       "  </thead>\n",
       "  <tbody>\n",
       "    <tr>\n",
       "      <th>0</th>\n",
       "      <td>blu</td>\n",
       "      <td>6.433264</td>\n",
       "    </tr>\n",
       "    <tr>\n",
       "      <th>1</th>\n",
       "      <td>blv</td>\n",
       "      <td>9.370371</td>\n",
       "    </tr>\n",
       "    <tr>\n",
       "      <th>2</th>\n",
       "      <td>cnt</td>\n",
       "      <td>20.830144</td>\n",
       "    </tr>\n",
       "    <tr>\n",
       "      <th>3</th>\n",
       "      <td>grn</td>\n",
       "      <td>14.692559</td>\n",
       "    </tr>\n",
       "    <tr>\n",
       "      <th>4</th>\n",
       "      <td>yel</td>\n",
       "      <td>7.127414</td>\n",
       "    </tr>\n",
       "  </tbody>\n",
       "</table>\n",
       "</div>"
      ],
      "text/plain": [
       "  color  visits_per_10k\n",
       "0   blu        6.433264\n",
       "1   blv        9.370371\n",
       "2   cnt       20.830144\n",
       "3   grn       14.692559\n",
       "4   yel        7.127414"
      ]
     },
     "execution_count": 146,
     "metadata": {},
     "output_type": "execute_result"
    }
   ],
   "source": [
    "# FINAL CUMULATIVE COUNTS PER 10K IMAGES\n",
    "\n",
    "merge_photos_visits_filtered.groupby('color')['visits_per_10k'].sum().reset_index()"
   ]
  },
  {
   "cell_type": "code",
   "execution_count": 147,
   "id": "8dfa0c1a",
   "metadata": {},
   "outputs": [
    {
     "data": {
      "application/vnd.microsoft.datawrangler.viewer.v0+json": {
       "columns": [
        {
         "name": "index",
         "rawType": "int64",
         "type": "integer"
        },
        {
         "name": "color",
         "rawType": "object",
         "type": "string"
        },
        {
         "name": "visit_count",
         "rawType": "int64",
         "type": "integer"
        }
       ],
       "ref": "e714693a-2623-4495-a899-0ec6a8b89145",
       "rows": [
        [
         "0",
         "blu",
         "36"
        ],
        [
         "1",
         "blv",
         "54"
        ],
        [
         "2",
         "cnt",
         "95"
        ],
        [
         "3",
         "grn",
         "70"
        ],
        [
         "4",
         "yel",
         "35"
        ]
       ],
       "shape": {
        "columns": 2,
        "rows": 5
       }
      },
      "text/html": [
       "<div>\n",
       "<style scoped>\n",
       "    .dataframe tbody tr th:only-of-type {\n",
       "        vertical-align: middle;\n",
       "    }\n",
       "\n",
       "    .dataframe tbody tr th {\n",
       "        vertical-align: top;\n",
       "    }\n",
       "\n",
       "    .dataframe thead th {\n",
       "        text-align: right;\n",
       "    }\n",
       "</style>\n",
       "<table border=\"1\" class=\"dataframe\">\n",
       "  <thead>\n",
       "    <tr style=\"text-align: right;\">\n",
       "      <th></th>\n",
       "      <th>color</th>\n",
       "      <th>visit_count</th>\n",
       "    </tr>\n",
       "  </thead>\n",
       "  <tbody>\n",
       "    <tr>\n",
       "      <th>0</th>\n",
       "      <td>blu</td>\n",
       "      <td>36</td>\n",
       "    </tr>\n",
       "    <tr>\n",
       "      <th>1</th>\n",
       "      <td>blv</td>\n",
       "      <td>54</td>\n",
       "    </tr>\n",
       "    <tr>\n",
       "      <th>2</th>\n",
       "      <td>cnt</td>\n",
       "      <td>95</td>\n",
       "    </tr>\n",
       "    <tr>\n",
       "      <th>3</th>\n",
       "      <td>grn</td>\n",
       "      <td>70</td>\n",
       "    </tr>\n",
       "    <tr>\n",
       "      <th>4</th>\n",
       "      <td>yel</td>\n",
       "      <td>35</td>\n",
       "    </tr>\n",
       "  </tbody>\n",
       "</table>\n",
       "</div>"
      ],
      "text/plain": [
       "  color  visit_count\n",
       "0   blu           36\n",
       "1   blv           54\n",
       "2   cnt           95\n",
       "3   grn           70\n",
       "4   yel           35"
      ]
     },
     "execution_count": 147,
     "metadata": {},
     "output_type": "execute_result"
    }
   ],
   "source": [
    "merge_photos_visits_filtered.groupby('color')['visit_count'].sum().reset_index()"
   ]
  }
 ],
 "metadata": {
  "kernelspec": {
   "display_name": "bee_mapping",
   "language": "python",
   "name": "python3"
  },
  "language_info": {
   "codemirror_mode": {
    "name": "ipython",
    "version": 3
   },
   "file_extension": ".py",
   "mimetype": "text/x-python",
   "name": "python",
   "nbconvert_exporter": "python",
   "pygments_lexer": "ipython3",
   "version": "3.12.0"
  }
 },
 "nbformat": 4,
 "nbformat_minor": 5
}
