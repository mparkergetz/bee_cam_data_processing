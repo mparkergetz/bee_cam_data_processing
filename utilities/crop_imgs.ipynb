{
 "cells": [
  {
   "cell_type": "code",
   "execution_count": null,
   "metadata": {},
   "outputs": [],
   "source": [
    "import os\n",
    "from PIL import Image\n",
    "\n",
    "image_dir = \"/home/misha/data/bee_cam/bombus_for_gif_out\"\n",
    "txt_dir = \"/home/misha/data/bee_cam/bombus_for_gif_out\"\n",
    "output_dir = \"/home/misha/data/bee_cam/bombus_for_gif_cropped\"\n",
    "\n",
    "crop_size = 0.3  # Crop size as a proportion of the image dimensions (30% of width and height)\n",
    "\n",
    "os.makedirs(output_dir, exist_ok=True)\n",
    "\n",
    "for image_name in os.listdir(image_dir):\n",
    "    if image_name.lower().endswith('.jpg'):\n",
    "        base_name = os.path.splitext(image_name)[0]\n",
    "        txt_path = os.path.join(txt_dir, f\"{base_name}.txt\")\n",
    "        image_path = os.path.join(image_dir, image_name)\n",
    "        \n",
    "        if os.path.exists(txt_path):\n",
    "\n",
    "            img = Image.open(image_path)\n",
    "            img_width, img_height = img.size\n",
    "            \n",
    "            with open(txt_path, 'r') as txt_file:\n",
    "                for line in txt_file:\n",
    "                    data = line.strip().split()\n",
    "                    class_id = int(data[0])  \n",
    "                    x_center, y_center, bbox_width, bbox_height = map(float, data[1:])\n",
    "\n",
    "                    x_center_px = x_center * img_width\n",
    "                    y_center_px = y_center * img_height\n",
    "                    bbox_width_px = bbox_width * img_width\n",
    "                    bbox_height_px = bbox_height * img_height\n",
    "\n",
    "                    crop_width_px = crop_size * img_width\n",
    "                    crop_height_px = crop_size * img_height\n",
    "                    left = max(0, x_center_px - crop_width_px / 2)\n",
    "                    top = max(0, y_center_px - crop_height_px / 2)\n",
    "                    right = min(img_width, x_center_px + crop_width_px / 2)\n",
    "                    bottom = min(img_height, y_center_px + crop_height_px / 2)\n",
    "\n",
    "                    cropped_img = img.crop((left, top, right, bottom))\n",
    "                    \n",
    "                    output_path = os.path.join(output_dir, f\"{base_name}.jpg\")\n",
    "                    cropped_img.save(output_path)\n"
   ]
  }
 ],
 "metadata": {
  "kernelspec": {
   "display_name": "yolonew",
   "language": "python",
   "name": "python3"
  },
  "language_info": {
   "codemirror_mode": {
    "name": "ipython",
    "version": 3
   },
   "file_extension": ".py",
   "mimetype": "text/x-python",
   "name": "python",
   "nbconvert_exporter": "python",
   "pygments_lexer": "ipython3",
   "version": "3.11.5"
  }
 },
 "nbformat": 4,
 "nbformat_minor": 2
}
