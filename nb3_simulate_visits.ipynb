{
 "cells": [
  {
   "cell_type": "code",
   "execution_count": 1,
   "metadata": {},
   "outputs": [],
   "source": [
    "import pandas as pd\n",
    "from multiprocessing import Pool\n",
    "import numpy as np\n",
    "\n",
    "import matplotlib.pyplot as plt\n",
    "import matplotlib\n",
    "matplotlib.rcParams['font.family'] = 'Nimbus Sans'\n",
    "plt.rcParams['font.size'] = 9\n",
    "\n",
    "color_map = {\n",
    "    'cnt': 'm',\n",
    "    'blu': 'b',\n",
    "    'blv': 'c',\n",
    "    'grn': 'g',\n",
    "    'yel': 'y',\n",
    "    'red': 'r'\n",
    "}"
   ]
  },
  {
   "cell_type": "code",
   "execution_count": 2,
   "metadata": {},
   "outputs": [],
   "source": [
    "# stim_ints = pd.read_csv('csvs/stimulus_intervals.csv', index_col=False)\n",
    "# stim_ints['interval'] = stim_ints['interval'].apply(lambda x: pd.Interval(pd.Timestamp(x.split(', ')[0].strip('[')), \n",
    "#                                                             pd.Timestamp(x.split(', ')[1].strip(')')), \n",
    "#                                                             closed='left'))\n",
    "\n",
    "cam_ints = pd.read_csv('csvs/camera_intervals.csv', index_col=False)\n",
    "cam_ints['interval'] = cam_ints['interval'].apply(lambda x: pd.Interval(pd.Timestamp(x.split(', ')[0].strip('[')), \n",
    "                                                            pd.Timestamp(x.split(', ')[1].strip(']')), \n",
    "                                                            closed='both'))\n",
    "\n",
    "bombus_visits = pd.read_csv('csvs/bombus_visit_durations.csv', index_col=False, parse_dates=['visit_start', 'visit_end'])\n",
    "bombus_visits['interval'] = pd.IntervalIndex.from_arrays(bombus_visits['visit_start'], bombus_visits['visit_end'], closed='both')\n",
    "bombus_visits\n",
    "\n",
    "observed_values = bombus_visits['color'].value_counts()"
   ]
  },
  {
   "cell_type": "code",
   "execution_count": 15,
   "metadata": {},
   "outputs": [
    {
     "name": "stdout",
     "output_type": "stream",
     "text": [
      "total captured visits: 248\n"
     ]
    },
    {
     "data": {
      "text/plain": [
       "grn    74\n",
       "blv    41\n",
       "yel    45\n",
       "cnt    48\n",
       "blu    40\n",
       "dtype: int64"
      ]
     },
     "execution_count": 15,
     "metadata": {},
     "output_type": "execute_result"
    }
   ],
   "source": [
    "def run_simulation(cam_ints, bombus_visits):\n",
    "    visit_dict = {}\n",
    "    bombus_visits['pi'] = np.random.randint(1, 11, len(bombus_visits))\n",
    "\n",
    "    color_counts = pd.Series(dtype=int)\n",
    "    for i, visit in bombus_visits.iterrows():\n",
    "        pi = visit['pi']\n",
    "        visit_interval = visit['interval']\n",
    "        relevant_cams = cam_ints[cam_ints['pi'] == pi]\n",
    "        assigned = False\n",
    "\n",
    "        for _, cam in relevant_cams.iterrows():\n",
    "            cam_interval = cam['interval']\n",
    "            if visit_interval.overlaps(cam_interval):\n",
    "                color = cam['color']\n",
    "                visit_dict[i] = {'visit_start': visit_interval.left, 'pi': pi, 'color': color}\n",
    "                if color in color_counts:\n",
    "                    color_counts[color] += 1\n",
    "                else:\n",
    "                    color_counts[color] = 1\n",
    "                assigned = True\n",
    "        if not assigned:\n",
    "            visit_dict[i] = {'visit_start': visit_interval.left, 'pi': pi, 'color': 'red'}\n",
    "\n",
    "    return color_counts, visit_dict\n",
    "\n",
    "visit_counts, visit_dict = run_simulation(cam_ints, bombus_visits)\n",
    "print(f'total captured visits: {sum(visit_counts)}')\n",
    "visit_counts\n"
   ]
  },
  {
   "cell_type": "code",
   "execution_count": 16,
   "metadata": {},
   "outputs": [
    {
     "data": {
      "image/png": "[encoded data removed]",
      "text/plain": [
       "<Figure size 2000x200 with 1 Axes>"
      ]
     },
     "metadata": {},
     "output_type": "display_data"
    }
   ],
   "source": [
    "fig, ax = plt.subplots(figsize=(20, 2))\n",
    "for i, row in cam_ints.iterrows():\n",
    "    start = row['interval'].left\n",
    "    end = row['interval'].right\n",
    "    color = color_map[row['color']]\n",
    "    pi = row['pi']\n",
    "    ax.plot([start, end], [pi, pi], color=color)\n",
    "\n",
    "for key, entry in visit_dict.items():\n",
    "    visit_start = entry['visit_start']\n",
    "    pi = entry['pi']\n",
    "    color = color_map.get(entry['color'])\n",
    "    ax.scatter(visit_start, pi+.4 , color=color, marker='|', s=10, zorder=3)\n",
    "\n",
    "ax.set_yticks(np.arange(1,11))\n",
    "ax.set_yticklabels(np.arange(1,11))\n",
    "plt.show()"
   ]
  },
  {
   "cell_type": "code",
   "execution_count": 17,
   "metadata": {},
   "outputs": [],
   "source": [
    "def run_simulation(cam_on, visit_times, iterations=1):\n",
    "    results = []\n",
    "\n",
    "    for _ in range(iterations):\n",
    "        visit_times['pi'] = np.random.randint(1, 11, len(visit_times))\n",
    "        color_counts = pd.Series(dtype=int)\n",
    "        for _, visit in visit_times.iterrows():\n",
    "            pi = visit['pi']\n",
    "            visit_interval = visit['interval']\n",
    "            relevant_cams = cam_on[cam_on['pi'] == pi]\n",
    "\n",
    "            for _, cam in relevant_cams.iterrows():\n",
    "                cam_interval = cam['interval']\n",
    "                if visit_interval.overlaps(cam_interval):\n",
    "                    color = cam['color']\n",
    "                    color_counts[color] = color_counts.get(color, 0) + 1\n",
    "\n",
    "        results.append(color_counts)\n",
    "\n",
    "    final_results = pd.concat(results, axis=1).fillna(0).astype(int).T\n",
    "\n",
    "    return final_results\n",
    "\n",
    "# simulation_results = run_simulation(cam_ints, bombus_visits, iterations=1000)"
   ]
  },
  {
   "cell_type": "code",
   "execution_count": 18,
   "metadata": {},
   "outputs": [],
   "source": [
    "from joblib import Parallel, delayed\n",
    "\n",
    "def single_simulation(cam_on, visit_times):\n",
    "    visit_times = visit_times.copy()\n",
    "    visit_times['pi'] = np.random.randint(1, 11, len(visit_times))\n",
    "    color_counts = pd.Series(dtype=int)\n",
    "\n",
    "    for _, visit in visit_times.iterrows():\n",
    "        pi = visit['pi']\n",
    "        visit_interval = visit['interval']\n",
    "        relevant_cams = cam_on[cam_on['pi'] == pi]\n",
    "\n",
    "        for _, cam in relevant_cams.iterrows():\n",
    "            cam_interval = cam['interval']\n",
    "            if visit_interval.overlaps(cam_interval):\n",
    "                color = cam['color']\n",
    "                color_counts[color] = color_counts.get(color, 0) + 1\n",
    "\n",
    "    return color_counts\n",
    "\n",
    "def run_simulation_parallel(cam_on, visit_times, iterations=1000, num_jobs=20):\n",
    "    results = Parallel(n_jobs=num_jobs)(\n",
    "        delayed(single_simulation)(cam_on, visit_times) for _ in range(iterations)\n",
    "    )\n",
    "\n",
    "    final_results = pd.concat(results, axis=1).fillna(0).astype(int).T\n",
    "    return final_results\n",
    "\n",
    "# simulation_results_parallel = run_simulation_parallel(cam_ints, bombus_visits, iterations=10000)\n",
    "# simulation_results_parallel.to_csv('simresults_int_10000.csv', index=False)"
   ]
  },
  {
   "cell_type": "code",
   "execution_count": 19,
   "metadata": {},
   "outputs": [
    {
     "data": {
      "text/html": [
       "<div>\n",
       "<style scoped>\n",
       "    .dataframe tbody tr th:only-of-type {\n",
       "        vertical-align: middle;\n",
       "    }\n",
       "\n",
       "    .dataframe tbody tr th {\n",
       "        vertical-align: top;\n",
       "    }\n",
       "\n",
       "    .dataframe thead th {\n",
       "        text-align: right;\n",
       "    }\n",
       "</style>\n",
       "<table border=\"1\" class=\"dataframe\">\n",
       "  <thead>\n",
       "    <tr style=\"text-align: right;\">\n",
       "      <th></th>\n",
       "      <th>yel</th>\n",
       "      <th>grn</th>\n",
       "      <th>blu</th>\n",
       "      <th>cnt</th>\n",
       "      <th>blv</th>\n",
       "    </tr>\n",
       "  </thead>\n",
       "  <tbody>\n",
       "    <tr>\n",
       "      <th>0</th>\n",
       "      <td>47</td>\n",
       "      <td>47</td>\n",
       "      <td>30</td>\n",
       "      <td>67</td>\n",
       "      <td>58</td>\n",
       "    </tr>\n",
       "    <tr>\n",
       "      <th>1</th>\n",
       "      <td>44</td>\n",
       "      <td>58</td>\n",
       "      <td>41</td>\n",
       "      <td>66</td>\n",
       "      <td>42</td>\n",
       "    </tr>\n",
       "    <tr>\n",
       "      <th>2</th>\n",
       "      <td>51</td>\n",
       "      <td>55</td>\n",
       "      <td>45</td>\n",
       "      <td>48</td>\n",
       "      <td>53</td>\n",
       "    </tr>\n",
       "    <tr>\n",
       "      <th>3</th>\n",
       "      <td>57</td>\n",
       "      <td>55</td>\n",
       "      <td>48</td>\n",
       "      <td>47</td>\n",
       "      <td>47</td>\n",
       "    </tr>\n",
       "    <tr>\n",
       "      <th>4</th>\n",
       "      <td>55</td>\n",
       "      <td>58</td>\n",
       "      <td>39</td>\n",
       "      <td>53</td>\n",
       "      <td>52</td>\n",
       "    </tr>\n",
       "    <tr>\n",
       "      <th>...</th>\n",
       "      <td>...</td>\n",
       "      <td>...</td>\n",
       "      <td>...</td>\n",
       "      <td>...</td>\n",
       "      <td>...</td>\n",
       "    </tr>\n",
       "    <tr>\n",
       "      <th>9995</th>\n",
       "      <td>57</td>\n",
       "      <td>51</td>\n",
       "      <td>35</td>\n",
       "      <td>57</td>\n",
       "      <td>62</td>\n",
       "    </tr>\n",
       "    <tr>\n",
       "      <th>9996</th>\n",
       "      <td>57</td>\n",
       "      <td>55</td>\n",
       "      <td>40</td>\n",
       "      <td>64</td>\n",
       "      <td>47</td>\n",
       "    </tr>\n",
       "    <tr>\n",
       "      <th>9997</th>\n",
       "      <td>57</td>\n",
       "      <td>53</td>\n",
       "      <td>35</td>\n",
       "      <td>68</td>\n",
       "      <td>49</td>\n",
       "    </tr>\n",
       "    <tr>\n",
       "      <th>9998</th>\n",
       "      <td>60</td>\n",
       "      <td>49</td>\n",
       "      <td>41</td>\n",
       "      <td>58</td>\n",
       "      <td>44</td>\n",
       "    </tr>\n",
       "    <tr>\n",
       "      <th>9999</th>\n",
       "      <td>50</td>\n",
       "      <td>68</td>\n",
       "      <td>42</td>\n",
       "      <td>47</td>\n",
       "      <td>41</td>\n",
       "    </tr>\n",
       "  </tbody>\n",
       "</table>\n",
       "<p>10000 rows × 5 columns</p>\n",
       "</div>"
      ],
      "text/plain": [
       "      yel  grn  blu  cnt  blv\n",
       "0      47   47   30   67   58\n",
       "1      44   58   41   66   42\n",
       "2      51   55   45   48   53\n",
       "3      57   55   48   47   47\n",
       "4      55   58   39   53   52\n",
       "...   ...  ...  ...  ...  ...\n",
       "9995   57   51   35   57   62\n",
       "9996   57   55   40   64   47\n",
       "9997   57   53   35   68   49\n",
       "9998   60   49   41   58   44\n",
       "9999   50   68   42   47   41\n",
       "\n",
       "[10000 rows x 5 columns]"
      ]
     },
     "execution_count": 19,
     "metadata": {},
     "output_type": "execute_result"
    }
   ],
   "source": [
    "simulation_results_parallel= pd.read_csv('simresults_int_10000.csv')\n",
    "simulation_results_parallel"
   ]
  },
  {
   "cell_type": "markdown",
   "metadata": {},
   "source": [
    "## Simulated distributions vs observed counts"
   ]
  },
  {
   "cell_type": "code",
   "execution_count": 20,
   "metadata": {},
   "outputs": [
    {
     "data": {
      "image/png": "[encoded data removed]",
      "text/plain": [
       "<Figure size 640x480 with 1 Axes>"
      ]
     },
     "metadata": {},
     "output_type": "display_data"
    }
   ],
   "source": [
    "colors = [color_map[col] for col in simulation_results_parallel.columns]\n",
    "plt.hist(simulation_results_parallel.values, bins=simulation_results_parallel.values.max() - simulation_results_parallel.values.min()+1, color=colors, histtype='step', alpha=0.7)\n",
    "for col, color in zip(simulation_results_parallel.columns, colors):\n",
    "    plt.axvline(simulation_results_parallel[col].mean(), color=color, linestyle='dashed', linewidth=1)\n",
    "\n",
    "plt.scatter(observed_values.values, [700] * len(observed_values), \n",
    "           color=[color_map[color] for color in observed_values.index], s=10, marker='v')\n",
    "\n",
    "\n",
    "plt.show()"
   ]
  },
  {
   "cell_type": "code",
   "execution_count": 21,
   "metadata": {},
   "outputs": [
    {
     "data": {
      "text/plain": [
       "{'yel': 0.002371678862127524,\n",
       " 'grn': 0.03295492746896822,\n",
       " 'blu': 0.4287549967473159,\n",
       " 'cnt': 1.5881423953700846e-08,\n",
       " 'blv': 0.03205056367053394}"
      ]
     },
     "execution_count": 21,
     "metadata": {},
     "output_type": "execute_result"
    }
   ],
   "source": [
    "from scipy import stats\n",
    "\n",
    "sim_means = simulation_results_parallel.mean()\n",
    "sim_sds = simulation_results_parallel.std()\n",
    "pv_dict = {}\n",
    "\n",
    "for idx in sim_means.index:\n",
    "    z_score = (observed_values[idx] - sim_means[idx]) / sim_sds[idx]\n",
    "    pv = 2 * (1 - stats.norm.cdf(abs(z_score)))  \n",
    "    pv_dict[idx] = pv\n",
    "\n",
    "pv_dict\n"
   ]
  },
  {
   "cell_type": "markdown",
   "metadata": {},
   "source": [
    "## BLV - BLU simulated vs observed"
   ]
  },
  {
   "cell_type": "code",
   "execution_count": 22,
   "metadata": {},
   "outputs": [],
   "source": [
    "simulation_results_parallel['blv-blu'] = simulation_results_parallel['blv'] - simulation_results_parallel['blu']"
   ]
  },
  {
   "cell_type": "code",
   "execution_count": 23,
   "metadata": {},
   "outputs": [
    {
     "data": {
      "image/png": "[encoded data removed]",
      "text/plain": [
       "<Figure size 640x480 with 1 Axes>"
      ]
     },
     "metadata": {},
     "output_type": "display_data"
    }
   ],
   "source": [
    "plt.hist(simulation_results_parallel['blv-blu'], bins=simulation_results_parallel['blv-blu'].max() - simulation_results_parallel['blv-blu'].min()+1, color='b', histtype='step', alpha=0.7)\n",
    "plt.axvline(simulation_results_parallel['blv-blu'].mean(), color='b', linestyle='dashed', linewidth=1)\n",
    "\n",
    "plt.scatter(observed_values['blv'] - observed_values['blu'], 400, \n",
    "           color='c', s=10, marker='v')\n",
    "\n",
    "\n",
    "plt.show()"
   ]
  },
  {
   "cell_type": "code",
   "execution_count": 24,
   "metadata": {},
   "outputs": [
    {
     "name": "stdout",
     "output_type": "stream",
     "text": [
      "BLV-BLU p-value: 0.06058980285810778\n"
     ]
    }
   ],
   "source": [
    "sim_mean = simulation_results_parallel['blv-blu'].mean()\n",
    "sim_sd = simulation_results_parallel['blv-blu'].std()\n",
    "observed_value = observed_values['blv'] - observed_values['blu']\n",
    "\n",
    "z_score = (observed_value - sim_mean) / sim_sd\n",
    "pv = 2 * (1 - stats.norm.cdf(abs(z_score)))  \n",
    "\n",
    "print(f'BLV-BLU p-value: {pv}')"
   ]
  },
  {
   "cell_type": "markdown",
   "metadata": {},
   "source": [
    "## CNT - mean(others)"
   ]
  },
  {
   "cell_type": "code",
   "execution_count": 25,
   "metadata": {},
   "outputs": [],
   "source": [
    "simulation_results_parallel['cnt-all'] = simulation_results_parallel['cnt'] - simulation_results_parallel[['blu', 'yel', 'grn', 'blv']].mean(axis=1)"
   ]
  },
  {
   "cell_type": "code",
   "execution_count": 26,
   "metadata": {},
   "outputs": [
    {
     "data": {
      "text/plain": [
       "64.5"
      ]
     },
     "execution_count": 26,
     "metadata": {},
     "output_type": "execute_result"
    }
   ],
   "source": [
    "simulation_results_parallel['cnt-all'].max() - simulation_results_parallel['cnt-all'].min()+1"
   ]
  },
  {
   "cell_type": "code",
   "execution_count": 27,
   "metadata": {},
   "outputs": [
    {
     "data": {
      "text/plain": [
       "50.25"
      ]
     },
     "execution_count": 27,
     "metadata": {},
     "output_type": "execute_result"
    }
   ],
   "source": [
    "observed_values[['blu', 'yel', 'grn', 'blv']].mean()"
   ]
  },
  {
   "cell_type": "code",
   "execution_count": 28,
   "metadata": {},
   "outputs": [
    {
     "data": {
      "image/png": "[encoded data removed]",
      "text/plain": [
       "<Figure size 640x480 with 1 Axes>"
      ]
     },
     "metadata": {},
     "output_type": "display_data"
    }
   ],
   "source": [
    "plt.hist(simulation_results_parallel['cnt-all'], bins=int(simulation_results_parallel['cnt-all'].max() - simulation_results_parallel['cnt-all'].min()+1), color='m', histtype='step', alpha=0.7)\n",
    "plt.axvline(simulation_results_parallel['cnt-all'].mean(), color='m', linestyle='dashed', linewidth=1)\n",
    "\n",
    "plt.scatter(observed_values['cnt'] - observed_values[['blu', 'yel', 'grn', 'blv']].mean(), 400, \n",
    "           color='c', s=10, marker='v')\n",
    "\n",
    "\n",
    "plt.show()"
   ]
  },
  {
   "cell_type": "code",
   "execution_count": 29,
   "metadata": {},
   "outputs": [
    {
     "name": "stdout",
     "output_type": "stream",
     "text": [
      "BLV-BLU p-value: 0.06058980285810778\n"
     ]
    }
   ],
   "source": [
    "sim_mean = simulation_results_parallel['blv-blu'].mean()\n",
    "sim_sd = simulation_results_parallel['blv-blu'].std()\n",
    "observed_value = observed_values['blv'] - observed_values['blu']\n",
    "\n",
    "z_score = (observed_value - sim_mean) / sim_sd\n",
    "pv = 2 * (1 - stats.norm.cdf(abs(z_score)))  \n",
    "\n",
    "print(f'BLV-BLU p-value: {pv}')"
   ]
  }
 ],
 "metadata": {
  "kernelspec": {
   "display_name": "bee_mapping",
   "language": "python",
   "name": "python3"
  },
  "language_info": {
   "codemirror_mode": {
    "name": "ipython",
    "version": 3
   },
   "file_extension": ".py",
   "mimetype": "text/x-python",
   "name": "python",
   "nbconvert_exporter": "python",
   "pygments_lexer": "ipython3",
   "version": "3.12.0"
  }
 },
 "nbformat": 4,
 "nbformat_minor": 2
}
