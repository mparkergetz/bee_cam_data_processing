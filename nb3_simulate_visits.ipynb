{
 "cells": [
  {
   "cell_type": "code",
   "execution_count": 20,
   "metadata": {},
   "outputs": [],
   "source": [
    "import pandas as pd\n",
    "from multiprocessing import Pool\n",
    "import numpy as np\n",
    "\n",
    "import matplotlib.pyplot as plt\n",
    "import matplotlib\n",
    "matplotlib.rcParams['font.family'] = 'Nimbus Sans'\n",
    "plt.rcParams['font.size'] = 9\n",
    "\n",
    "color_map = {\n",
    "    'cnt': 'm',\n",
    "    'blu': 'b',\n",
    "    'blv': 'c',\n",
    "    'grn': 'g',\n",
    "    'yel': 'y',\n",
    "    'red': 'r'\n",
    "}"
   ]
  },
  {
   "cell_type": "code",
   "execution_count": 21,
   "metadata": {},
   "outputs": [],
   "source": [
    "cam_ints = pd.read_csv('csvs/camera_intervals.csv', index_col=False)\n",
    "cam_ints['interval'] = cam_ints['interval'].apply(lambda x: pd.Interval(pd.Timestamp(x.split(', ')[0].strip('[')), \n",
    "                                                            pd.Timestamp(x.split(', ')[1].strip(']')), \n",
    "                                                            closed='both'))\n",
    "\n",
    "bombus_visits = pd.read_csv('csvs/bombus_visit_durations.csv', index_col=False, parse_dates=['visit_start', 'visit_end'])\n",
    "bombus_visits['interval'] = pd.IntervalIndex.from_arrays(bombus_visits['visit_start'], bombus_visits['visit_end'], closed='both')\n",
    "bombus_visits= bombus_visits[bombus_visits['visit_end']<'2024-07-30']\n",
    "\n",
    "observed_values = bombus_visits['color'].value_counts()"
   ]
  },
  {
   "cell_type": "code",
   "execution_count": 22,
   "metadata": {},
   "outputs": [
    {
     "name": "stdout",
     "output_type": "stream",
     "text": [
      "total captured visits: 251\n"
     ]
    },
    {
     "data": {
      "application/vnd.microsoft.datawrangler.viewer.v0+json": {
       "columns": [
        {
         "name": "index",
         "rawType": "object",
         "type": "string"
        },
        {
         "name": "0",
         "rawType": "int64",
         "type": "integer"
        }
       ],
       "ref": "805ef5a9-a0db-4e2b-849d-3fec8d3f1bf4",
       "rows": [
        [
         "cnt",
         "60"
        ],
        [
         "grn",
         "53"
        ],
        [
         "blv",
         "45"
        ],
        [
         "blu",
         "46"
        ],
        [
         "yel",
         "47"
        ]
       ],
       "shape": {
        "columns": 1,
        "rows": 5
       }
      },
      "text/plain": [
       "cnt    60\n",
       "grn    53\n",
       "blv    45\n",
       "blu    46\n",
       "yel    47\n",
       "dtype: int64"
      ]
     },
     "execution_count": 22,
     "metadata": {},
     "output_type": "execute_result"
    }
   ],
   "source": [
    "def run_simulation(cam_ints, bombus_visits):\n",
    "    visit_dict = {}\n",
    "    bombus_visits['pi'] = np.random.randint(1, 11, len(bombus_visits))\n",
    "\n",
    "    color_counts = pd.Series(dtype=int)\n",
    "    for i, visit in bombus_visits.iterrows():\n",
    "        pi = visit['pi']\n",
    "        visit_interval = visit['interval']\n",
    "        relevant_cams = cam_ints[cam_ints['pi'] == pi]\n",
    "        assigned = False\n",
    "\n",
    "        for _, cam in relevant_cams.iterrows():\n",
    "            cam_interval = cam['interval']\n",
    "            if visit_interval.overlaps(cam_interval):\n",
    "                color = cam['color']\n",
    "                visit_dict[i] = {'visit_start': visit_interval.left, 'pi': pi, 'color': color}\n",
    "                if color in color_counts:\n",
    "                    color_counts[color] += 1\n",
    "                else:\n",
    "                    color_counts[color] = 1\n",
    "                assigned = True\n",
    "        if not assigned:\n",
    "            visit_dict[i] = {'visit_start': visit_interval.left, 'pi': pi, 'color': 'red'}\n",
    "\n",
    "    return color_counts, visit_dict\n",
    "\n",
    "visit_counts, visit_dict = run_simulation(cam_ints, bombus_visits)\n",
    "print(f'total captured visits: {sum(visit_counts)}')\n",
    "visit_counts\n"
   ]
  },
  {
   "cell_type": "code",
   "execution_count": 23,
   "metadata": {},
   "outputs": [
    {
     "data": {
      "image/png": "[encoded data removed]",
      "text/plain": [
       "<Figure size 2000x200 with 1 Axes>"
      ]
     },
     "metadata": {},
     "output_type": "display_data"
    }
   ],
   "source": [
    "fig, ax = plt.subplots(figsize=(20, 2))\n",
    "for i, row in cam_ints.iterrows():\n",
    "    start = row['interval'].left\n",
    "    end = row['interval'].right\n",
    "    color = color_map[row['color']]\n",
    "    pi = row['pi']\n",
    "    ax.plot([start, end], [pi, pi], color=color)\n",
    "\n",
    "for key, entry in visit_dict.items():\n",
    "    visit_start = entry['visit_start']\n",
    "    pi = entry['pi']\n",
    "    color = color_map.get(entry['color'])\n",
    "    ax.scatter(visit_start, pi+.4 , color=color, marker='|', s=10, zorder=3)\n",
    "\n",
    "ax.set_yticks(np.arange(1,11))\n",
    "ax.set_yticklabels(np.arange(1,11))\n",
    "plt.show()"
   ]
  },
  {
   "cell_type": "code",
   "execution_count": 24,
   "metadata": {},
   "outputs": [],
   "source": [
    "def run_simulation(cam_on, visit_times, iterations=1):\n",
    "    results = []\n",
    "\n",
    "    for _ in range(iterations):\n",
    "        visit_times['pi'] = np.random.randint(1, 11, len(visit_times))\n",
    "        color_counts = pd.Series(dtype=int)\n",
    "        for _, visit in visit_times.iterrows():\n",
    "            pi = visit['pi']\n",
    "            visit_interval = visit['interval']\n",
    "            relevant_cams = cam_on[cam_on['pi'] == pi]\n",
    "\n",
    "            for _, cam in relevant_cams.iterrows():\n",
    "                cam_interval = cam['interval']\n",
    "                if visit_interval.overlaps(cam_interval):\n",
    "                    color = cam['color']\n",
    "                    color_counts[color] = color_counts.get(color, 0) + 1\n",
    "\n",
    "        results.append(color_counts)\n",
    "\n",
    "    final_results = pd.concat(results, axis=1).fillna(0).astype(int).T\n",
    "\n",
    "    return final_results\n",
    "\n",
    "# simulation_results = run_simulation(cam_ints, bombus_visits, iterations=1000)"
   ]
  },
  {
   "cell_type": "code",
   "execution_count": 25,
   "metadata": {},
   "outputs": [],
   "source": [
    "from joblib import Parallel, delayed\n",
    "\n",
    "def single_simulation(cam_on, visit_times):\n",
    "    visit_times = visit_times.copy()\n",
    "    visit_times['pi'] = np.random.randint(1, 11, len(visit_times))\n",
    "    color_counts = pd.Series(dtype=int)\n",
    "\n",
    "    for _, visit in visit_times.iterrows():\n",
    "        pi = visit['pi']\n",
    "        visit_interval = visit['interval']\n",
    "        relevant_cams = cam_on[cam_on['pi'] == pi]\n",
    "\n",
    "        for _, cam in relevant_cams.iterrows():\n",
    "            cam_interval = cam['interval']\n",
    "            if visit_interval.overlaps(cam_interval):\n",
    "                color = cam['color']\n",
    "                color_counts[color] = color_counts.get(color, 0) + 1\n",
    "\n",
    "    return color_counts\n",
    "\n",
    "def run_simulation_parallel(cam_on, visit_times, iterations=1000, num_jobs=20):\n",
    "    results = Parallel(n_jobs=num_jobs)(\n",
    "        delayed(single_simulation)(cam_on, visit_times) for _ in range(iterations)\n",
    "    )\n",
    "\n",
    "    final_results = pd.concat(results, axis=1).fillna(0).astype(int).T\n",
    "    return final_results\n",
    "\n",
    "# simulation_results_parallel = run_simulation_parallel(cam_ints, bombus_visits, iterations=10000)\n",
    "# simulation_results_parallel.to_csv('simresults_clover_10000_092125.csv', index=False)"
   ]
  },
  {
   "cell_type": "markdown",
   "metadata": {},
   "source": [
    "## Simulated distributions vs observed counts"
   ]
  },
  {
   "cell_type": "code",
   "execution_count": 26,
   "metadata": {},
   "outputs": [],
   "source": [
    "df= pd.read_csv('csvs/simresults_clover_10000_092125.csv')\n",
    "\n",
    "color_map = {\n",
    "    'cnt': 'm',\n",
    "    'blu': 'b',\n",
    "    'blv': 'c',\n",
    "    'grn': 'g',\n",
    "    'yel': 'y',\n",
    "    'red': 'r'\n",
    "}\n",
    "\n",
    "name_map = {\n",
    "    'cnt': 'Contrast + UVF',\n",
    "    'blu': 'Blue',\n",
    "    'blv': 'Blue + UVF',\n",
    "    'grn': 'Green',\n",
    "    'yel': 'Yellow'\n",
    "}"
   ]
  },
  {
   "cell_type": "code",
   "execution_count": 27,
   "metadata": {},
   "outputs": [
    {
     "data": {
      "image/png": "[encoded data removed]",
      "text/plain": [
       "<Figure size 450x175 with 1 Axes>"
      ]
     },
     "metadata": {},
     "output_type": "display_data"
    }
   ],
   "source": [
    "new_order = ['yel', 'grn', 'blu', 'blv', 'cnt']\n",
    "plt.figure(figsize=(4.5, 1.75))\n",
    "\n",
    "for i, col in enumerate(new_order):\n",
    "    data = df[col].dropna()\n",
    "    min_val, max_val = data.min(), data.max()\n",
    "    observed = observed_values[col]\n",
    "    ci_low, ci_high = np.percentile(data, [2.5, 97.5])\n",
    "    # plt.hlines(y=i, xmin=min_val, xmax=max_val, color=color_map[col], linewidth=1)\n",
    "    plt.hlines(y=i, xmin=ci_low, xmax=ci_high, color=color_map[col], linewidth=2)\n",
    "    plt.plot(observed, i + 0.4, marker='v', color=color_map[col], markersize=6)\n",
    "\n",
    "plt.yticks(ticks=range(len(new_order)), labels=new_order)\n",
    "mapped_labels = [name_map.get(col, col) for col in new_order]\n",
    "plt.yticks(ticks=range(len(new_order)), labels=mapped_labels)\n",
    "plt.xlabel('Number of recorded visits')\n",
    "# plt.ylabel('Lure color')\n",
    "plt.tight_layout()\n",
    "# plt.savefig('figs/simulation_line_interval.png', format='png', dpi=300)\n",
    "# plt.savefig('figs/simulation_line_interval_clover.svg', format='svg')"
   ]
  },
  {
   "cell_type": "code",
   "execution_count": 37,
   "metadata": {},
   "outputs": [
    {
     "data": {
      "image/png": "[encoded data removed]",
      "text/plain": [
       "<Figure size 325x180 with 1 Axes>"
      ]
     },
     "metadata": {},
     "output_type": "display_data"
    }
   ],
   "source": [
    "plt.figure(figsize=(3.25, 1.8))\n",
    "\n",
    "for i, col in enumerate(new_order):\n",
    "    data = df[col].dropna()\n",
    "    min_val, max_val = data.min(), data.max()\n",
    "    observed = observed_values[col]\n",
    "    ci_low, ci_high = np.percentile(data, [2.5, 97.5])\n",
    "    # plt.hlines(y=i, xmin=min_val, xmax=max_val, color=color_map[col], linewidth=1)\n",
    "    plt.hlines(y=i, xmin=ci_low, xmax=ci_high, color=color_map[col], linewidth=2)\n",
    "    plt.plot(observed, i + 0.4, marker='v', color=color_map[col], markersize=6)\n",
    "\n",
    "mapped_labels = [name_map.get(col, col) for col in new_order]\n",
    "plt.yticks(ticks=range(len(new_order)), labels=mapped_labels)\n",
    "plt.xlabel('Number of visits')\n",
    "# plt.ylabel('Lure color')\n",
    "plt.tight_layout()\n",
    "# plt.savefig('figs/simulation_line_interval.png', format='png', dpi=300)\n",
    "plt.savefig('figs/simulation_interval_clover_small.svg', format='svg')"
   ]
  },
  {
   "cell_type": "code",
   "execution_count": 29,
   "metadata": {},
   "outputs": [
    {
     "data": {
      "application/vnd.microsoft.datawrangler.viewer.v0+json": {
       "columns": [
        {
         "name": "index",
         "rawType": "object",
         "type": "string"
        },
        {
         "name": "p-value",
         "rawType": "float64",
         "type": "float"
        }
       ],
       "ref": "14d15c53-b875-4507-b692-ddd4316d651e",
       "rows": [
        [
         "Blue",
         "0.2882"
        ],
        [
         "Blue + UVF",
         "0.2254"
        ],
        [
         "Contrast + UVF",
         "0.0"
        ],
        [
         "Green",
         "0.015"
        ],
        [
         "Yellow",
         "0.0042"
        ]
       ],
       "shape": {
        "columns": 1,
        "rows": 5
       }
      },
      "text/html": [
       "<div>\n",
       "<style scoped>\n",
       "    .dataframe tbody tr th:only-of-type {\n",
       "        vertical-align: middle;\n",
       "    }\n",
       "\n",
       "    .dataframe tbody tr th {\n",
       "        vertical-align: top;\n",
       "    }\n",
       "\n",
       "    .dataframe thead th {\n",
       "        text-align: right;\n",
       "    }\n",
       "</style>\n",
       "<table border=\"1\" class=\"dataframe\">\n",
       "  <thead>\n",
       "    <tr style=\"text-align: right;\">\n",
       "      <th></th>\n",
       "      <th>p-value</th>\n",
       "    </tr>\n",
       "  </thead>\n",
       "  <tbody>\n",
       "    <tr>\n",
       "      <th>Blue</th>\n",
       "      <td>0.2882</td>\n",
       "    </tr>\n",
       "    <tr>\n",
       "      <th>Blue + UVF</th>\n",
       "      <td>0.2254</td>\n",
       "    </tr>\n",
       "    <tr>\n",
       "      <th>Contrast + UVF</th>\n",
       "      <td>0.0000</td>\n",
       "    </tr>\n",
       "    <tr>\n",
       "      <th>Green</th>\n",
       "      <td>0.0150</td>\n",
       "    </tr>\n",
       "    <tr>\n",
       "      <th>Yellow</th>\n",
       "      <td>0.0042</td>\n",
       "    </tr>\n",
       "  </tbody>\n",
       "</table>\n",
       "</div>"
      ],
      "text/plain": [
       "                p-value\n",
       "Blue             0.2882\n",
       "Blue + UVF       0.2254\n",
       "Contrast + UVF   0.0000\n",
       "Green            0.0150\n",
       "Yellow           0.0042"
      ]
     },
     "execution_count": 29,
     "metadata": {},
     "output_type": "execute_result"
    }
   ],
   "source": [
    "p_values = {}\n",
    "\n",
    "for col in new_order:\n",
    "    data = df[col].dropna()\n",
    "    observed = observed_values[col]\n",
    "    p_val = (np.sum(data >= observed) if observed > np.median(data) \n",
    "             else np.sum(data <= observed)) / len(data)\n",
    "    p_val *= 2 \n",
    "    p_values[col] = min(p_val, 1.0)\n",
    "\n",
    "mapped_p_values = {name_map.get(col, col): p for col, p in p_values.items()}\n",
    "\n",
    "pval_df = pd.DataFrame.from_dict(mapped_p_values, orient='index', columns=['p-value'])\n",
    "pval_df = pval_df.sort_index()\n",
    "pval_df"
   ]
  },
  {
   "cell_type": "code",
   "execution_count": 30,
   "metadata": {},
   "outputs": [
    {
     "data": {
      "application/vnd.microsoft.datawrangler.viewer.v0+json": {
       "columns": [
        {
         "name": "index",
         "rawType": "object",
         "type": "string"
        },
        {
         "name": "Observed",
         "rawType": "int64",
         "type": "integer"
        },
        {
         "name": "Median of Sim",
         "rawType": "float64",
         "type": "float"
        },
        {
         "name": "Direction",
         "rawType": "object",
         "type": "string"
        },
        {
         "name": "Two-tailed p-value",
         "rawType": "float64",
         "type": "float"
        }
       ],
       "ref": "d8f5d1e6-9111-4afa-bc94-cb2aa61241bf",
       "rows": [
        [
         "Yellow",
         "35",
         "54.0",
         "lower",
         "0.0042"
        ],
        [
         "Green",
         "71",
         "54.0",
         "higher",
         "0.015"
        ],
        [
         "Blue",
         "36",
         "43.0",
         "lower",
         "0.2882"
        ],
        [
         "Blue + UVF",
         "54",
         "46.0",
         "higher",
         "0.2254"
        ],
        [
         "Contrast + UVF",
         "95",
         "55.0",
         "higher",
         "0.0"
        ]
       ],
       "shape": {
        "columns": 4,
        "rows": 5
       }
      },
      "text/html": [
       "<div>\n",
       "<style scoped>\n",
       "    .dataframe tbody tr th:only-of-type {\n",
       "        vertical-align: middle;\n",
       "    }\n",
       "\n",
       "    .dataframe tbody tr th {\n",
       "        vertical-align: top;\n",
       "    }\n",
       "\n",
       "    .dataframe thead th {\n",
       "        text-align: right;\n",
       "    }\n",
       "</style>\n",
       "<table border=\"1\" class=\"dataframe\">\n",
       "  <thead>\n",
       "    <tr style=\"text-align: right;\">\n",
       "      <th></th>\n",
       "      <th>Observed</th>\n",
       "      <th>Median of Sim</th>\n",
       "      <th>Direction</th>\n",
       "      <th>Two-tailed p-value</th>\n",
       "    </tr>\n",
       "  </thead>\n",
       "  <tbody>\n",
       "    <tr>\n",
       "      <th>Yellow</th>\n",
       "      <td>35</td>\n",
       "      <td>54.0</td>\n",
       "      <td>lower</td>\n",
       "      <td>0.0042</td>\n",
       "    </tr>\n",
       "    <tr>\n",
       "      <th>Green</th>\n",
       "      <td>71</td>\n",
       "      <td>54.0</td>\n",
       "      <td>higher</td>\n",
       "      <td>0.0150</td>\n",
       "    </tr>\n",
       "    <tr>\n",
       "      <th>Blue</th>\n",
       "      <td>36</td>\n",
       "      <td>43.0</td>\n",
       "      <td>lower</td>\n",
       "      <td>0.2882</td>\n",
       "    </tr>\n",
       "    <tr>\n",
       "      <th>Blue + UVF</th>\n",
       "      <td>54</td>\n",
       "      <td>46.0</td>\n",
       "      <td>higher</td>\n",
       "      <td>0.2254</td>\n",
       "    </tr>\n",
       "    <tr>\n",
       "      <th>Contrast + UVF</th>\n",
       "      <td>95</td>\n",
       "      <td>55.0</td>\n",
       "      <td>higher</td>\n",
       "      <td>0.0000</td>\n",
       "    </tr>\n",
       "  </tbody>\n",
       "</table>\n",
       "</div>"
      ],
      "text/plain": [
       "                Observed  Median of Sim Direction  Two-tailed p-value\n",
       "Yellow                35           54.0     lower              0.0042\n",
       "Green                 71           54.0    higher              0.0150\n",
       "Blue                  36           43.0     lower              0.2882\n",
       "Blue + UVF            54           46.0    higher              0.2254\n",
       "Contrast + UVF        95           55.0    higher              0.0000"
      ]
     },
     "execution_count": 30,
     "metadata": {},
     "output_type": "execute_result"
    }
   ],
   "source": [
    "p_values = {}\n",
    "directions = {}\n",
    "\n",
    "for col in new_order:\n",
    "    sim_data = df[col].dropna()\n",
    "    obs = observed_values[col]\n",
    "    median = np.median(sim_data)\n",
    "\n",
    "    if obs > median:\n",
    "        p = np.sum(sim_data >= obs) / len(sim_data)\n",
    "    else:\n",
    "        p = np.sum(sim_data <= obs) / len(sim_data)\n",
    "\n",
    "    p = min(p * 2, 1.0)\n",
    "    p_values[col] = p\n",
    "\n",
    "    directions[col] = \"higher\" if obs > median else \"lower\"\n",
    "\n",
    "results_df = pd.DataFrame({\n",
    "    'Observed': observed_values,\n",
    "    'Median of Sim': df.median(),\n",
    "    'Direction': directions,\n",
    "    'Two-tailed p-value': p_values\n",
    "}).loc[new_order]\n",
    "\n",
    "results_df.index = [name_map.get(c, c) for c in results_df.index]\n",
    "results_df"
   ]
  },
  {
   "cell_type": "code",
   "execution_count": 31,
   "metadata": {},
   "outputs": [
    {
     "data": {
      "application/vnd.microsoft.datawrangler.viewer.v0+json": {
       "columns": [
        {
         "name": "index",
         "rawType": "object",
         "type": "string"
        },
        {
         "name": "Observed",
         "rawType": "int64",
         "type": "integer"
        },
        {
         "name": "Median of Sim",
         "rawType": "float64",
         "type": "float"
        },
        {
         "name": "Direction",
         "rawType": "object",
         "type": "string"
        },
        {
         "name": "Raw p-value",
         "rawType": "float64",
         "type": "float"
        },
        {
         "name": "Bonferroni adj p",
         "rawType": "float64",
         "type": "float"
        },
        {
         "name": "Bonferroni reject (α=0.05)",
         "rawType": "bool",
         "type": "boolean"
        },
        {
         "name": "FDR adj p",
         "rawType": "float64",
         "type": "float"
        },
        {
         "name": "FDR reject (α=0.05)",
         "rawType": "bool",
         "type": "boolean"
        }
       ],
       "ref": "f010cfcb-c873-4dda-8383-37ff15348c5e",
       "rows": [
        [
         "Yellow",
         "35",
         "54.0",
         "lower",
         "0.0042",
         "0.020999999999999998",
         "True",
         "0.010499999999999999",
         "True"
        ],
        [
         "Green",
         "71",
         "54.0",
         "higher",
         "0.015",
         "0.075",
         "False",
         "0.025",
         "True"
        ],
        [
         "Blue",
         "36",
         "43.0",
         "lower",
         "0.2882",
         "1.0",
         "False",
         "0.2882",
         "False"
        ],
        [
         "Blue + UVF",
         "54",
         "46.0",
         "higher",
         "0.2254",
         "1.0",
         "False",
         "0.28174999999999994",
         "False"
        ],
        [
         "Contrast + UVF",
         "95",
         "55.0",
         "higher",
         "0.0",
         "0.0",
         "True",
         "0.0",
         "True"
        ]
       ],
       "shape": {
        "columns": 8,
        "rows": 5
       }
      },
      "text/html": [
       "<div>\n",
       "<style scoped>\n",
       "    .dataframe tbody tr th:only-of-type {\n",
       "        vertical-align: middle;\n",
       "    }\n",
       "\n",
       "    .dataframe tbody tr th {\n",
       "        vertical-align: top;\n",
       "    }\n",
       "\n",
       "    .dataframe thead th {\n",
       "        text-align: right;\n",
       "    }\n",
       "</style>\n",
       "<table border=\"1\" class=\"dataframe\">\n",
       "  <thead>\n",
       "    <tr style=\"text-align: right;\">\n",
       "      <th></th>\n",
       "      <th>Observed</th>\n",
       "      <th>Median of Sim</th>\n",
       "      <th>Direction</th>\n",
       "      <th>Raw p-value</th>\n",
       "      <th>Bonferroni adj p</th>\n",
       "      <th>Bonferroni reject (α=0.05)</th>\n",
       "      <th>FDR adj p</th>\n",
       "      <th>FDR reject (α=0.05)</th>\n",
       "    </tr>\n",
       "  </thead>\n",
       "  <tbody>\n",
       "    <tr>\n",
       "      <th>Yellow</th>\n",
       "      <td>35</td>\n",
       "      <td>54.0</td>\n",
       "      <td>lower</td>\n",
       "      <td>0.0042</td>\n",
       "      <td>0.021</td>\n",
       "      <td>True</td>\n",
       "      <td>0.01050</td>\n",
       "      <td>True</td>\n",
       "    </tr>\n",
       "    <tr>\n",
       "      <th>Green</th>\n",
       "      <td>71</td>\n",
       "      <td>54.0</td>\n",
       "      <td>higher</td>\n",
       "      <td>0.0150</td>\n",
       "      <td>0.075</td>\n",
       "      <td>False</td>\n",
       "      <td>0.02500</td>\n",
       "      <td>True</td>\n",
       "    </tr>\n",
       "    <tr>\n",
       "      <th>Blue</th>\n",
       "      <td>36</td>\n",
       "      <td>43.0</td>\n",
       "      <td>lower</td>\n",
       "      <td>0.2882</td>\n",
       "      <td>1.000</td>\n",
       "      <td>False</td>\n",
       "      <td>0.28820</td>\n",
       "      <td>False</td>\n",
       "    </tr>\n",
       "    <tr>\n",
       "      <th>Blue + UVF</th>\n",
       "      <td>54</td>\n",
       "      <td>46.0</td>\n",
       "      <td>higher</td>\n",
       "      <td>0.2254</td>\n",
       "      <td>1.000</td>\n",
       "      <td>False</td>\n",
       "      <td>0.28175</td>\n",
       "      <td>False</td>\n",
       "    </tr>\n",
       "    <tr>\n",
       "      <th>Contrast + UVF</th>\n",
       "      <td>95</td>\n",
       "      <td>55.0</td>\n",
       "      <td>higher</td>\n",
       "      <td>0.0000</td>\n",
       "      <td>0.000</td>\n",
       "      <td>True</td>\n",
       "      <td>0.00000</td>\n",
       "      <td>True</td>\n",
       "    </tr>\n",
       "  </tbody>\n",
       "</table>\n",
       "</div>"
      ],
      "text/plain": [
       "                Observed  Median of Sim Direction  Raw p-value  \\\n",
       "Yellow                35           54.0     lower       0.0042   \n",
       "Green                 71           54.0    higher       0.0150   \n",
       "Blue                  36           43.0     lower       0.2882   \n",
       "Blue + UVF            54           46.0    higher       0.2254   \n",
       "Contrast + UVF        95           55.0    higher       0.0000   \n",
       "\n",
       "                Bonferroni adj p  Bonferroni reject (α=0.05)  FDR adj p  \\\n",
       "Yellow                     0.021                        True    0.01050   \n",
       "Green                      0.075                       False    0.02500   \n",
       "Blue                       1.000                       False    0.28820   \n",
       "Blue + UVF                 1.000                       False    0.28175   \n",
       "Contrast + UVF             0.000                        True    0.00000   \n",
       "\n",
       "                FDR reject (α=0.05)  \n",
       "Yellow                         True  \n",
       "Green                          True  \n",
       "Blue                          False  \n",
       "Blue + UVF                    False  \n",
       "Contrast + UVF                 True  "
      ]
     },
     "execution_count": 31,
     "metadata": {},
     "output_type": "execute_result"
    }
   ],
   "source": [
    "from statsmodels.stats.multitest import multipletests\n",
    "\n",
    "raw_pvals = [p_values[col] for col in new_order]\n",
    "bonf_reject, bonf_pvals, _, _ = multipletests(raw_pvals, method='bonferroni')\n",
    "fdr_reject, fdr_pvals, _, _ = multipletests(raw_pvals, method='fdr_bh')\n",
    "\n",
    "adj_results_df = pd.DataFrame({\n",
    "    'Observed': [observed_values[col] for col in new_order],\n",
    "    'Median of Sim': [df[col].median() for col in new_order],\n",
    "    'Direction': [directions[col] for col in new_order],\n",
    "    'Raw p-value': raw_pvals,\n",
    "    'Bonferroni adj p': bonf_pvals,\n",
    "    'Bonferroni reject (α=0.05)': bonf_reject,\n",
    "    'FDR adj p': fdr_pvals,\n",
    "    'FDR reject (α=0.05)': fdr_reject\n",
    "}, index=[name_map.get(col, col) for col in new_order])\n",
    "\n",
    "adj_results_df"
   ]
  },
  {
   "cell_type": "code",
   "execution_count": 32,
   "metadata": {},
   "outputs": [
    {
     "data": {
      "image/png": "[encoded data removed]",
      "text/plain": [
       "<Figure size 640x480 with 1 Axes>"
      ]
     },
     "metadata": {},
     "output_type": "display_data"
    }
   ],
   "source": [
    "colors = [color_map[col] for col in df.columns]\n",
    "plt.hist(df.values, bins=df.values.max() - df.values.min()+1, color=colors, histtype='step', alpha=0.7)\n",
    "for col, color in zip(df.columns, colors):\n",
    "    plt.axvline(df[col].mean(), color=color, linestyle='dashed', linewidth=1)\n",
    "\n",
    "plt.scatter(observed_values.values, [700] * len(observed_values), \n",
    "           color=[color_map[color] for color in observed_values.index], s=10, marker='v')\n",
    "\n",
    "plt.show()"
   ]
  },
  {
   "cell_type": "code",
   "execution_count": 33,
   "metadata": {},
   "outputs": [
    {
     "data": {
      "text/plain": [
       "{'yel': 0.004147149398546102,\n",
       " 'blv': 0.19691091329363353,\n",
       " 'cnt': 1.6453323148368781e-09,\n",
       " 'grn': 0.009287611183721456,\n",
       " 'blu': 0.2485991276471755}"
      ]
     },
     "execution_count": 33,
     "metadata": {},
     "output_type": "execute_result"
    }
   ],
   "source": [
    "from scipy import stats\n",
    "\n",
    "sim_means = df.mean()\n",
    "sim_sds = df.std()\n",
    "pv_dict = {}\n",
    "\n",
    "for idx in sim_means.index:\n",
    "    z_score = (observed_values[idx] - sim_means[idx]) / sim_sds[idx]\n",
    "    pv = 2 * (1 - stats.norm.cdf(abs(z_score)))  \n",
    "    pv_dict[idx] = pv\n",
    "\n",
    "pv_dict\n"
   ]
  },
  {
   "cell_type": "markdown",
   "metadata": {},
   "source": [
    "## BLV - BLU simulated vs observed"
   ]
  },
  {
   "cell_type": "code",
   "execution_count": 34,
   "metadata": {},
   "outputs": [
    {
     "data": {
      "image/png": "[encoded data removed]",
      "text/plain": [
       "<Figure size 640x480 with 1 Axes>"
      ]
     },
     "metadata": {},
     "output_type": "display_data"
    }
   ],
   "source": [
    "df['blv-blu'] = df['blv'] - df['blu']\n",
    "\n",
    "plt.hist(df['blv-blu'], bins=df['blv-blu'].max() - df['blv-blu'].min()+1, color='b', histtype='step', alpha=0.7)\n",
    "plt.axvline(df['blv-blu'].mean(), color='b', linestyle='dashed', linewidth=1)\n",
    "\n",
    "plt.scatter(observed_values['blv'] - observed_values['blu'], 400, \n",
    "           color='c', s=10, marker='v')\n",
    "\n",
    "\n",
    "plt.show()"
   ]
  },
  {
   "cell_type": "code",
   "execution_count": 35,
   "metadata": {},
   "outputs": [
    {
     "name": "stdout",
     "output_type": "stream",
     "text": [
      "BLV-BLU p-value: 0.0578407838980286\n"
     ]
    }
   ],
   "source": [
    "sim_mean = df['blv-blu'].mean()\n",
    "sim_sd = df['blv-blu'].std()\n",
    "observed_value = observed_values['blv'] - observed_values['blu']\n",
    "\n",
    "z_score = (observed_value - sim_mean) / sim_sd\n",
    "pv = 1 - stats.norm.cdf(abs(z_score))\n",
    "\n",
    "print(f'BLV-BLU p-value: {pv}')"
   ]
  },
  {
   "cell_type": "markdown",
   "metadata": {},
   "source": [
    "## CNT - mean(others)"
   ]
  },
  {
   "cell_type": "code",
   "execution_count": 36,
   "metadata": {},
   "outputs": [
    {
     "ename": "KeyError",
     "evalue": "'cnt-all'",
     "output_type": "error",
     "traceback": [
      "\u001b[0;31m---------------------------------------------------------------------------\u001b[0m",
      "\u001b[0;31mKeyError\u001b[0m                                  Traceback (most recent call last)",
      "File \u001b[0;32m~/miniconda3/envs/bee_mapping/lib/python3.12/site-packages/pandas/core/indexes/base.py:3790\u001b[0m, in \u001b[0;36mIndex.get_loc\u001b[0;34m(self, key)\u001b[0m\n\u001b[1;32m   3789\u001b[0m \u001b[38;5;28;01mtry\u001b[39;00m:\n\u001b[0;32m-> 3790\u001b[0m     \u001b[38;5;28;01mreturn\u001b[39;00m \u001b[38;5;28;43mself\u001b[39;49m\u001b[38;5;241;43m.\u001b[39;49m\u001b[43m_engine\u001b[49m\u001b[38;5;241;43m.\u001b[39;49m\u001b[43mget_loc\u001b[49m\u001b[43m(\u001b[49m\u001b[43mcasted_key\u001b[49m\u001b[43m)\u001b[49m\n\u001b[1;32m   3791\u001b[0m \u001b[38;5;28;01mexcept\u001b[39;00m \u001b[38;5;167;01mKeyError\u001b[39;00m \u001b[38;5;28;01mas\u001b[39;00m err:\n",
      "File \u001b[0;32mindex.pyx:152\u001b[0m, in \u001b[0;36mpandas._libs.index.IndexEngine.get_loc\u001b[0;34m()\u001b[0m\n",
      "File \u001b[0;32mindex.pyx:181\u001b[0m, in \u001b[0;36mpandas._libs.index.IndexEngine.get_loc\u001b[0;34m()\u001b[0m\n",
      "File \u001b[0;32mpandas/_libs/hashtable_class_helper.pxi:7080\u001b[0m, in \u001b[0;36mpandas._libs.hashtable.PyObjectHashTable.get_item\u001b[0;34m()\u001b[0m\n",
      "File \u001b[0;32mpandas/_libs/hashtable_class_helper.pxi:7088\u001b[0m, in \u001b[0;36mpandas._libs.hashtable.PyObjectHashTable.get_item\u001b[0;34m()\u001b[0m\n",
      "\u001b[0;31mKeyError\u001b[0m: 'cnt-all'",
      "\nThe above exception was the direct cause of the following exception:\n",
      "\u001b[0;31mKeyError\u001b[0m                                  Traceback (most recent call last)",
      "Cell \u001b[0;32mIn[36], line 1\u001b[0m\n\u001b[0;32m----> 1\u001b[0m plt\u001b[38;5;241m.\u001b[39mhist(\u001b[43mdf\u001b[49m\u001b[43m[\u001b[49m\u001b[38;5;124;43m'\u001b[39;49m\u001b[38;5;124;43mcnt-all\u001b[39;49m\u001b[38;5;124;43m'\u001b[39;49m\u001b[43m]\u001b[49m, bins\u001b[38;5;241m=\u001b[39m\u001b[38;5;28mint\u001b[39m(df[\u001b[38;5;124m'\u001b[39m\u001b[38;5;124mcnt-all\u001b[39m\u001b[38;5;124m'\u001b[39m]\u001b[38;5;241m.\u001b[39mmax() \u001b[38;5;241m-\u001b[39m df[\u001b[38;5;124m'\u001b[39m\u001b[38;5;124mcnt-all\u001b[39m\u001b[38;5;124m'\u001b[39m]\u001b[38;5;241m.\u001b[39mmin()\u001b[38;5;241m+\u001b[39m\u001b[38;5;241m1\u001b[39m), color\u001b[38;5;241m=\u001b[39m\u001b[38;5;124m'\u001b[39m\u001b[38;5;124mm\u001b[39m\u001b[38;5;124m'\u001b[39m, histtype\u001b[38;5;241m=\u001b[39m\u001b[38;5;124m'\u001b[39m\u001b[38;5;124mstep\u001b[39m\u001b[38;5;124m'\u001b[39m, alpha\u001b[38;5;241m=\u001b[39m\u001b[38;5;241m0.7\u001b[39m)\n\u001b[1;32m      2\u001b[0m plt\u001b[38;5;241m.\u001b[39maxvline(df[\u001b[38;5;124m'\u001b[39m\u001b[38;5;124mcnt-all\u001b[39m\u001b[38;5;124m'\u001b[39m]\u001b[38;5;241m.\u001b[39mmean(), color\u001b[38;5;241m=\u001b[39m\u001b[38;5;124m'\u001b[39m\u001b[38;5;124mm\u001b[39m\u001b[38;5;124m'\u001b[39m, linestyle\u001b[38;5;241m=\u001b[39m\u001b[38;5;124m'\u001b[39m\u001b[38;5;124mdashed\u001b[39m\u001b[38;5;124m'\u001b[39m, linewidth\u001b[38;5;241m=\u001b[39m\u001b[38;5;241m1\u001b[39m)\n\u001b[1;32m      4\u001b[0m plt\u001b[38;5;241m.\u001b[39mscatter(observed_values[\u001b[38;5;124m'\u001b[39m\u001b[38;5;124mcnt\u001b[39m\u001b[38;5;124m'\u001b[39m] \u001b[38;5;241m-\u001b[39m observed_values[[\u001b[38;5;124m'\u001b[39m\u001b[38;5;124mblu\u001b[39m\u001b[38;5;124m'\u001b[39m, \u001b[38;5;124m'\u001b[39m\u001b[38;5;124myel\u001b[39m\u001b[38;5;124m'\u001b[39m, \u001b[38;5;124m'\u001b[39m\u001b[38;5;124mgrn\u001b[39m\u001b[38;5;124m'\u001b[39m, \u001b[38;5;124m'\u001b[39m\u001b[38;5;124mblv\u001b[39m\u001b[38;5;124m'\u001b[39m]]\u001b[38;5;241m.\u001b[39mmean(), \u001b[38;5;241m400\u001b[39m, \n\u001b[1;32m      5\u001b[0m            color\u001b[38;5;241m=\u001b[39m\u001b[38;5;124m'\u001b[39m\u001b[38;5;124mc\u001b[39m\u001b[38;5;124m'\u001b[39m, s\u001b[38;5;241m=\u001b[39m\u001b[38;5;241m10\u001b[39m, marker\u001b[38;5;241m=\u001b[39m\u001b[38;5;124m'\u001b[39m\u001b[38;5;124mv\u001b[39m\u001b[38;5;124m'\u001b[39m)\n",
      "File \u001b[0;32m~/miniconda3/envs/bee_mapping/lib/python3.12/site-packages/pandas/core/frame.py:3896\u001b[0m, in \u001b[0;36mDataFrame.__getitem__\u001b[0;34m(self, key)\u001b[0m\n\u001b[1;32m   3894\u001b[0m \u001b[38;5;28;01mif\u001b[39;00m \u001b[38;5;28mself\u001b[39m\u001b[38;5;241m.\u001b[39mcolumns\u001b[38;5;241m.\u001b[39mnlevels \u001b[38;5;241m>\u001b[39m \u001b[38;5;241m1\u001b[39m:\n\u001b[1;32m   3895\u001b[0m     \u001b[38;5;28;01mreturn\u001b[39;00m \u001b[38;5;28mself\u001b[39m\u001b[38;5;241m.\u001b[39m_getitem_multilevel(key)\n\u001b[0;32m-> 3896\u001b[0m indexer \u001b[38;5;241m=\u001b[39m \u001b[38;5;28;43mself\u001b[39;49m\u001b[38;5;241;43m.\u001b[39;49m\u001b[43mcolumns\u001b[49m\u001b[38;5;241;43m.\u001b[39;49m\u001b[43mget_loc\u001b[49m\u001b[43m(\u001b[49m\u001b[43mkey\u001b[49m\u001b[43m)\u001b[49m\n\u001b[1;32m   3897\u001b[0m \u001b[38;5;28;01mif\u001b[39;00m is_integer(indexer):\n\u001b[1;32m   3898\u001b[0m     indexer \u001b[38;5;241m=\u001b[39m [indexer]\n",
      "File \u001b[0;32m~/miniconda3/envs/bee_mapping/lib/python3.12/site-packages/pandas/core/indexes/base.py:3797\u001b[0m, in \u001b[0;36mIndex.get_loc\u001b[0;34m(self, key)\u001b[0m\n\u001b[1;32m   3792\u001b[0m     \u001b[38;5;28;01mif\u001b[39;00m \u001b[38;5;28misinstance\u001b[39m(casted_key, \u001b[38;5;28mslice\u001b[39m) \u001b[38;5;129;01mor\u001b[39;00m (\n\u001b[1;32m   3793\u001b[0m         \u001b[38;5;28misinstance\u001b[39m(casted_key, abc\u001b[38;5;241m.\u001b[39mIterable)\n\u001b[1;32m   3794\u001b[0m         \u001b[38;5;129;01mand\u001b[39;00m \u001b[38;5;28many\u001b[39m(\u001b[38;5;28misinstance\u001b[39m(x, \u001b[38;5;28mslice\u001b[39m) \u001b[38;5;28;01mfor\u001b[39;00m x \u001b[38;5;129;01min\u001b[39;00m casted_key)\n\u001b[1;32m   3795\u001b[0m     ):\n\u001b[1;32m   3796\u001b[0m         \u001b[38;5;28;01mraise\u001b[39;00m InvalidIndexError(key)\n\u001b[0;32m-> 3797\u001b[0m     \u001b[38;5;28;01mraise\u001b[39;00m \u001b[38;5;167;01mKeyError\u001b[39;00m(key) \u001b[38;5;28;01mfrom\u001b[39;00m \u001b[38;5;21;01merr\u001b[39;00m\n\u001b[1;32m   3798\u001b[0m \u001b[38;5;28;01mexcept\u001b[39;00m \u001b[38;5;167;01mTypeError\u001b[39;00m:\n\u001b[1;32m   3799\u001b[0m     \u001b[38;5;66;03m# If we have a listlike key, _check_indexing_error will raise\u001b[39;00m\n\u001b[1;32m   3800\u001b[0m     \u001b[38;5;66;03m#  InvalidIndexError. Otherwise we fall through and re-raise\u001b[39;00m\n\u001b[1;32m   3801\u001b[0m     \u001b[38;5;66;03m#  the TypeError.\u001b[39;00m\n\u001b[1;32m   3802\u001b[0m     \u001b[38;5;28mself\u001b[39m\u001b[38;5;241m.\u001b[39m_check_indexing_error(key)\n",
      "\u001b[0;31mKeyError\u001b[0m: 'cnt-all'"
     ]
    }
   ],
   "source": [
    "plt.hist(df['cnt-all'], bins=int(df['cnt-all'].max() - df['cnt-all'].min()+1), color='m', histtype='step', alpha=0.7)\n",
    "plt.axvline(df['cnt-all'].mean(), color='m', linestyle='dashed', linewidth=1)\n",
    "\n",
    "plt.scatter(observed_values['cnt'] - observed_values[['blu', 'yel', 'grn', 'blv']].mean(), 400, \n",
    "           color='c', s=10, marker='v')\n",
    "\n",
    "\n",
    "plt.show()"
   ]
  },
  {
   "cell_type": "code",
   "execution_count": null,
   "metadata": {},
   "outputs": [],
   "source": []
  }
 ],
 "metadata": {
  "kernelspec": {
   "display_name": "bee_mapping",
   "language": "python",
   "name": "python3"
  },
  "language_info": {
   "codemirror_mode": {
    "name": "ipython",
    "version": 3
   },
   "file_extension": ".py",
   "mimetype": "text/x-python",
   "name": "python",
   "nbconvert_exporter": "python",
   "pygments_lexer": "ipython3",
   "version": "3.12.0"
  }
 },
 "nbformat": 4,
 "nbformat_minor": 2
}
