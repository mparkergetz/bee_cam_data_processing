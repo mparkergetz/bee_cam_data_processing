{
 "cells": [
  {
   "cell_type": "code",
   "execution_count": 2,
   "metadata": {},
   "outputs": [],
   "source": [
    "import pandas as pd\n",
    "from multiprocessing import Pool\n",
    "import numpy as np\n",
    "\n",
    "import matplotlib.pyplot as plt\n",
    "import matplotlib\n",
    "matplotlib.rcParams['font.family'] = 'Nimbus Sans'\n",
    "plt.rcParams['font.size'] = 10\n",
    "\n",
    "color_map = {\n",
    "    'cnt': 'm',\n",
    "    'blu': 'b',\n",
    "    'blv': 'c',\n",
    "    'grn': 'g',\n",
    "    'yel': 'y',\n",
    "    'red': 'r'\n",
    "}"
   ]
  },
  {
   "cell_type": "code",
   "execution_count": 3,
   "metadata": {},
   "outputs": [],
   "source": [
    "# stim_ints = pd.read_csv('csvs/stimulus_intervals.csv', index_col=False)\n",
    "# stim_ints['interval'] = stim_ints['interval'].apply(lambda x: pd.Interval(pd.Timestamp(x.split(', ')[0].strip('[')), \n",
    "#                                                             pd.Timestamp(x.split(', ')[1].strip(')')), \n",
    "#                                                             closed='left'))\n",
    "\n",
    "cam_ints = pd.read_csv('csvs/camera_intervals.csv', index_col=False)\n",
    "cam_ints['interval'] = cam_ints['interval'].apply(lambda x: pd.Interval(pd.Timestamp(x.split(', ')[0].strip('[')), \n",
    "                                                            pd.Timestamp(x.split(', ')[1].strip(']')), \n",
    "                                                            closed='both'))\n",
    "\n",
    "bombus_visits = pd.read_csv('csvs/bombus_visit_durations.csv', index_col=False, parse_dates=['visit_start', 'visit_end'])\n",
    "bombus_visits['interval'] = pd.IntervalIndex.from_arrays(bombus_visits['visit_start'], bombus_visits['visit_end'], closed='both')\n",
    "bombus_visits\n",
    "\n",
    "observed_values = bombus_visits['color'].value_counts()"
   ]
  },
  {
   "cell_type": "code",
   "execution_count": 14,
   "metadata": {},
   "outputs": [],
   "source": [
    "bombus_clover = bombus_visits[bombus_visits['visit_end']<'2024-07-30']\n",
    "bombus_visits = bombus_clover\n",
    "observed_values = bombus_visits['color'].value_counts()"
   ]
  },
  {
   "cell_type": "code",
   "execution_count": 9,
   "metadata": {},
   "outputs": [
    {
     "name": "stderr",
     "output_type": "stream",
     "text": [
      "/tmp/ipykernel_1001741/2283102943.py:3: SettingWithCopyWarning: \n",
      "A value is trying to be set on a copy of a slice from a DataFrame.\n",
      "Try using .loc[row_indexer,col_indexer] = value instead\n",
      "\n",
      "See the caveats in the documentation: https://pandas.pydata.org/pandas-docs/stable/user_guide/indexing.html#returning-a-view-versus-a-copy\n",
      "  bombus_visits['pi'] = np.random.randint(1, 11, len(bombus_visits))\n"
     ]
    },
    {
     "name": "stdout",
     "output_type": "stream",
     "text": [
      "total captured visits: 239\n"
     ]
    },
    {
     "data": {
      "application/vnd.microsoft.datawrangler.viewer.v0+json": {
       "columns": [
        {
         "name": "index",
         "rawType": "object",
         "type": "string"
        },
        {
         "name": "0",
         "rawType": "int64",
         "type": "integer"
        }
       ],
       "ref": "e45f528f-2b6e-4671-a34d-f8abc29781c9",
       "rows": [
        [
         "grn",
         "53"
        ],
        [
         "yel",
         "44"
        ],
        [
         "cnt",
         "53"
        ],
        [
         "blu",
         "45"
        ],
        [
         "blv",
         "44"
        ]
       ],
       "shape": {
        "columns": 1,
        "rows": 5
       }
      },
      "text/plain": [
       "grn    53\n",
       "yel    44\n",
       "cnt    53\n",
       "blu    45\n",
       "blv    44\n",
       "dtype: int64"
      ]
     },
     "execution_count": 9,
     "metadata": {},
     "output_type": "execute_result"
    }
   ],
   "source": [
    "def run_simulation(cam_ints, bombus_visits):\n",
    "    visit_dict = {}\n",
    "    bombus_visits['pi'] = np.random.randint(1, 11, len(bombus_visits))\n",
    "\n",
    "    color_counts = pd.Series(dtype=int)\n",
    "    for i, visit in bombus_visits.iterrows():\n",
    "        pi = visit['pi']\n",
    "        visit_interval = visit['interval']\n",
    "        relevant_cams = cam_ints[cam_ints['pi'] == pi]\n",
    "        assigned = False\n",
    "\n",
    "        for _, cam in relevant_cams.iterrows():\n",
    "            cam_interval = cam['interval']\n",
    "            if visit_interval.overlaps(cam_interval):\n",
    "                color = cam['color']\n",
    "                visit_dict[i] = {'visit_start': visit_interval.left, 'pi': pi, 'color': color}\n",
    "                if color in color_counts:\n",
    "                    color_counts[color] += 1\n",
    "                else:\n",
    "                    color_counts[color] = 1\n",
    "                assigned = True\n",
    "        if not assigned:\n",
    "            visit_dict[i] = {'visit_start': visit_interval.left, 'pi': pi, 'color': 'red'}\n",
    "\n",
    "    return color_counts, visit_dict\n",
    "\n",
    "visit_counts, visit_dict = run_simulation(cam_ints, bombus_visits)\n",
    "print(f'total captured visits: {sum(visit_counts)}')\n",
    "visit_counts\n"
   ]
  },
  {
   "cell_type": "code",
   "execution_count": 10,
   "metadata": {},
   "outputs": [
    {
     "data": {
      "image/png": "[encoded data removed]",
      "text/plain": [
       "<Figure size 2000x200 with 1 Axes>"
      ]
     },
     "metadata": {},
     "output_type": "display_data"
    }
   ],
   "source": [
    "fig, ax = plt.subplots(figsize=(20, 2))\n",
    "for i, row in cam_ints.iterrows():\n",
    "    start = row['interval'].left\n",
    "    end = row['interval'].right\n",
    "    color = color_map[row['color']]\n",
    "    pi = row['pi']\n",
    "    ax.plot([start, end], [pi, pi], color=color)\n",
    "\n",
    "for key, entry in visit_dict.items():\n",
    "    visit_start = entry['visit_start']\n",
    "    pi = entry['pi']\n",
    "    color = color_map.get(entry['color'])\n",
    "    ax.scatter(visit_start, pi+.4 , color=color, marker='|', s=10, zorder=3)\n",
    "\n",
    "ax.set_yticks(np.arange(1,11))\n",
    "ax.set_yticklabels(np.arange(1,11))\n",
    "plt.show()"
   ]
  },
  {
   "cell_type": "code",
   "execution_count": 11,
   "metadata": {},
   "outputs": [],
   "source": [
    "def run_simulation(cam_on, visit_times, iterations=1):\n",
    "    results = []\n",
    "\n",
    "    for _ in range(iterations):\n",
    "        visit_times['pi'] = np.random.randint(1, 11, len(visit_times))\n",
    "        color_counts = pd.Series(dtype=int)\n",
    "        for _, visit in visit_times.iterrows():\n",
    "            pi = visit['pi']\n",
    "            visit_interval = visit['interval']\n",
    "            relevant_cams = cam_on[cam_on['pi'] == pi]\n",
    "\n",
    "            for _, cam in relevant_cams.iterrows():\n",
    "                cam_interval = cam['interval']\n",
    "                if visit_interval.overlaps(cam_interval):\n",
    "                    color = cam['color']\n",
    "                    color_counts[color] = color_counts.get(color, 0) + 1\n",
    "\n",
    "        results.append(color_counts)\n",
    "\n",
    "    final_results = pd.concat(results, axis=1).fillna(0).astype(int).T\n",
    "\n",
    "    return final_results\n",
    "\n",
    "# simulation_results = run_simulation(cam_ints, bombus_visits, iterations=1000)"
   ]
  },
  {
   "cell_type": "code",
   "execution_count": null,
   "metadata": {},
   "outputs": [],
   "source": [
    "from joblib import Parallel, delayed\n",
    "\n",
    "def single_simulation(cam_on, visit_times):\n",
    "    visit_times = visit_times.copy()\n",
    "    visit_times['pi'] = np.random.randint(1, 11, len(visit_times))\n",
    "    color_counts = pd.Series(dtype=int)\n",
    "\n",
    "    for _, visit in visit_times.iterrows():\n",
    "        pi = visit['pi']\n",
    "        visit_interval = visit['interval']\n",
    "        relevant_cams = cam_on[cam_on['pi'] == pi]\n",
    "\n",
    "        for _, cam in relevant_cams.iterrows():\n",
    "            cam_interval = cam['interval']\n",
    "            if visit_interval.overlaps(cam_interval):\n",
    "                color = cam['color']\n",
    "                color_counts[color] = color_counts.get(color, 0) + 1\n",
    "\n",
    "    return color_counts\n",
    "\n",
    "def run_simulation_parallel(cam_on, visit_times, iterations=1000, num_jobs=20):\n",
    "    results = Parallel(n_jobs=num_jobs)(\n",
    "        delayed(single_simulation)(cam_on, visit_times) for _ in range(iterations)\n",
    "    )\n",
    "\n",
    "    final_results = pd.concat(results, axis=1).fillna(0).astype(int).T\n",
    "    return final_results\n",
    "\n",
    "# simulation_results_parallel = run_simulation_parallel(cam_ints, bombus_visits, iterations=10000)\n",
    "# simulation_results_parallel.to_csv('simresults_clover_10000.csv', index=False)"
   ]
  },
  {
   "cell_type": "code",
   "execution_count": 23,
   "metadata": {},
   "outputs": [
    {
     "data": {
      "application/vnd.microsoft.datawrangler.viewer.v0+json": {
       "columns": [
        {
         "name": "index",
         "rawType": "int64",
         "type": "integer"
        },
        {
         "name": "blv",
         "rawType": "int64",
         "type": "integer"
        },
        {
         "name": "yel",
         "rawType": "int64",
         "type": "integer"
        },
        {
         "name": "grn",
         "rawType": "int64",
         "type": "integer"
        },
        {
         "name": "cnt",
         "rawType": "int64",
         "type": "integer"
        },
        {
         "name": "blu",
         "rawType": "int64",
         "type": "integer"
        }
       ],
       "ref": "2f1dfa01-798c-46e2-9708-c15e601ac592",
       "rows": [
        [
         "0",
         "36",
         "45",
         "51",
         "63",
         "37"
        ],
        [
         "1",
         "48",
         "41",
         "54",
         "56",
         "40"
        ],
        [
         "2",
         "43",
         "57",
         "42",
         "64",
         "39"
        ],
        [
         "3",
         "50",
         "45",
         "53",
         "66",
         "33"
        ],
        [
         "4",
         "49",
         "49",
         "53",
         "48",
         "43"
        ],
        [
         "5",
         "48",
         "52",
         "45",
         "57",
         "42"
        ],
        [
         "6",
         "45",
         "37",
         "49",
         "63",
         "45"
        ],
        [
         "7",
         "44",
         "55",
         "52",
         "56",
         "37"
        ],
        [
         "8",
         "47",
         "54",
         "48",
         "58",
         "42"
        ],
        [
         "9",
         "46",
         "53",
         "48",
         "52",
         "40"
        ],
        [
         "10",
         "46",
         "55",
         "43",
         "57",
         "39"
        ],
        [
         "11",
         "47",
         "45",
         "48",
         "63",
         "38"
        ],
        [
         "12",
         "42",
         "50",
         "47",
         "63",
         "37"
        ],
        [
         "13",
         "41",
         "60",
         "46",
         "48",
         "46"
        ],
        [
         "14",
         "56",
         "50",
         "49",
         "49",
         "40"
        ],
        [
         "15",
         "44",
         "57",
         "40",
         "55",
         "41"
        ],
        [
         "16",
         "39",
         "43",
         "64",
         "53",
         "41"
        ],
        [
         "17",
         "54",
         "56",
         "44",
         "47",
         "44"
        ],
        [
         "18",
         "55",
         "49",
         "39",
         "60",
         "40"
        ],
        [
         "19",
         "44",
         "48",
         "55",
         "53",
         "38"
        ],
        [
         "20",
         "45",
         "55",
         "43",
         "54",
         "40"
        ],
        [
         "21",
         "49",
         "40",
         "57",
         "59",
         "40"
        ],
        [
         "22",
         "35",
         "57",
         "60",
         "50",
         "35"
        ],
        [
         "23",
         "36",
         "49",
         "48",
         "59",
         "45"
        ],
        [
         "24",
         "45",
         "46",
         "52",
         "53",
         "41"
        ],
        [
         "25",
         "40",
         "44",
         "54",
         "49",
         "53"
        ],
        [
         "26",
         "50",
         "51",
         "36",
         "64",
         "42"
        ],
        [
         "27",
         "44",
         "42",
         "41",
         "54",
         "54"
        ],
        [
         "28",
         "43",
         "62",
         "46",
         "55",
         "39"
        ],
        [
         "29",
         "50",
         "42",
         "60",
         "55",
         "34"
        ],
        [
         "30",
         "47",
         "41",
         "64",
         "46",
         "45"
        ],
        [
         "31",
         "46",
         "46",
         "51",
         "60",
         "41"
        ],
        [
         "32",
         "47",
         "46",
         "55",
         "48",
         "38"
        ],
        [
         "33",
         "47",
         "45",
         "52",
         "45",
         "48"
        ],
        [
         "34",
         "55",
         "43",
         "64",
         "49",
         "41"
        ],
        [
         "35",
         "39",
         "48",
         "54",
         "56",
         "47"
        ],
        [
         "36",
         "52",
         "52",
         "48",
         "42",
         "39"
        ],
        [
         "37",
         "33",
         "60",
         "33",
         "57",
         "49"
        ],
        [
         "38",
         "34",
         "58",
         "69",
         "56",
         "26"
        ],
        [
         "39",
         "39",
         "52",
         "50",
         "43",
         "40"
        ],
        [
         "40",
         "45",
         "54",
         "45",
         "56",
         "36"
        ],
        [
         "41",
         "49",
         "48",
         "48",
         "58",
         "35"
        ],
        [
         "42",
         "47",
         "47",
         "56",
         "51",
         "36"
        ],
        [
         "43",
         "47",
         "52",
         "55",
         "65",
         "23"
        ],
        [
         "44",
         "44",
         "44",
         "50",
         "50",
         "43"
        ],
        [
         "45",
         "41",
         "44",
         "52",
         "52",
         "43"
        ],
        [
         "46",
         "47",
         "48",
         "51",
         "65",
         "31"
        ],
        [
         "47",
         "52",
         "54",
         "41",
         "54",
         "34"
        ],
        [
         "48",
         "48",
         "48",
         "41",
         "56",
         "42"
        ],
        [
         "49",
         "42",
         "48",
         "46",
         "59",
         "47"
        ]
       ],
       "shape": {
        "columns": 5,
        "rows": 10000
       }
      },
      "text/html": [
       "<div>\n",
       "<style scoped>\n",
       "    .dataframe tbody tr th:only-of-type {\n",
       "        vertical-align: middle;\n",
       "    }\n",
       "\n",
       "    .dataframe tbody tr th {\n",
       "        vertical-align: top;\n",
       "    }\n",
       "\n",
       "    .dataframe thead th {\n",
       "        text-align: right;\n",
       "    }\n",
       "</style>\n",
       "<table border=\"1\" class=\"dataframe\">\n",
       "  <thead>\n",
       "    <tr style=\"text-align: right;\">\n",
       "      <th></th>\n",
       "      <th>blv</th>\n",
       "      <th>yel</th>\n",
       "      <th>grn</th>\n",
       "      <th>cnt</th>\n",
       "      <th>blu</th>\n",
       "    </tr>\n",
       "  </thead>\n",
       "  <tbody>\n",
       "    <tr>\n",
       "      <th>0</th>\n",
       "      <td>36</td>\n",
       "      <td>45</td>\n",
       "      <td>51</td>\n",
       "      <td>63</td>\n",
       "      <td>37</td>\n",
       "    </tr>\n",
       "    <tr>\n",
       "      <th>1</th>\n",
       "      <td>48</td>\n",
       "      <td>41</td>\n",
       "      <td>54</td>\n",
       "      <td>56</td>\n",
       "      <td>40</td>\n",
       "    </tr>\n",
       "    <tr>\n",
       "      <th>2</th>\n",
       "      <td>43</td>\n",
       "      <td>57</td>\n",
       "      <td>42</td>\n",
       "      <td>64</td>\n",
       "      <td>39</td>\n",
       "    </tr>\n",
       "    <tr>\n",
       "      <th>3</th>\n",
       "      <td>50</td>\n",
       "      <td>45</td>\n",
       "      <td>53</td>\n",
       "      <td>66</td>\n",
       "      <td>33</td>\n",
       "    </tr>\n",
       "    <tr>\n",
       "      <th>4</th>\n",
       "      <td>49</td>\n",
       "      <td>49</td>\n",
       "      <td>53</td>\n",
       "      <td>48</td>\n",
       "      <td>43</td>\n",
       "    </tr>\n",
       "    <tr>\n",
       "      <th>...</th>\n",
       "      <td>...</td>\n",
       "      <td>...</td>\n",
       "      <td>...</td>\n",
       "      <td>...</td>\n",
       "      <td>...</td>\n",
       "    </tr>\n",
       "    <tr>\n",
       "      <th>9995</th>\n",
       "      <td>44</td>\n",
       "      <td>51</td>\n",
       "      <td>45</td>\n",
       "      <td>61</td>\n",
       "      <td>41</td>\n",
       "    </tr>\n",
       "    <tr>\n",
       "      <th>9996</th>\n",
       "      <td>47</td>\n",
       "      <td>43</td>\n",
       "      <td>56</td>\n",
       "      <td>44</td>\n",
       "      <td>48</td>\n",
       "    </tr>\n",
       "    <tr>\n",
       "      <th>9997</th>\n",
       "      <td>32</td>\n",
       "      <td>53</td>\n",
       "      <td>58</td>\n",
       "      <td>52</td>\n",
       "      <td>45</td>\n",
       "    </tr>\n",
       "    <tr>\n",
       "      <th>9998</th>\n",
       "      <td>36</td>\n",
       "      <td>66</td>\n",
       "      <td>45</td>\n",
       "      <td>53</td>\n",
       "      <td>40</td>\n",
       "    </tr>\n",
       "    <tr>\n",
       "      <th>9999</th>\n",
       "      <td>40</td>\n",
       "      <td>55</td>\n",
       "      <td>54</td>\n",
       "      <td>48</td>\n",
       "      <td>46</td>\n",
       "    </tr>\n",
       "  </tbody>\n",
       "</table>\n",
       "<p>10000 rows × 5 columns</p>\n",
       "</div>"
      ],
      "text/plain": [
       "      blv  yel  grn  cnt  blu\n",
       "0      36   45   51   63   37\n",
       "1      48   41   54   56   40\n",
       "2      43   57   42   64   39\n",
       "3      50   45   53   66   33\n",
       "4      49   49   53   48   43\n",
       "...   ...  ...  ...  ...  ...\n",
       "9995   44   51   45   61   41\n",
       "9996   47   43   56   44   48\n",
       "9997   32   53   58   52   45\n",
       "9998   36   66   45   53   40\n",
       "9999   40   55   54   48   46\n",
       "\n",
       "[10000 rows x 5 columns]"
      ]
     },
     "execution_count": 23,
     "metadata": {},
     "output_type": "execute_result"
    }
   ],
   "source": [
    "simulation_results_parallel= pd.read_csv('simresults_clover_10000.csv')\n",
    "simulation_results_parallel"
   ]
  },
  {
   "cell_type": "code",
   "execution_count": 26,
   "metadata": {},
   "outputs": [
    {
     "data": {
      "application/vnd.microsoft.datawrangler.viewer.v0+json": {
       "columns": [
        {
         "name": "color",
         "rawType": "object",
         "type": "string"
        },
        {
         "name": "count",
         "rawType": "int64",
         "type": "integer"
        }
       ],
       "ref": "d0490e11-b9af-44df-8d3a-c715569bc74d",
       "rows": [
        [
         "cnt",
         "91"
        ],
        [
         "grn",
         "68"
        ],
        [
         "blv",
         "52"
        ],
        [
         "blu",
         "36"
        ],
        [
         "yel",
         "32"
        ]
       ],
       "shape": {
        "columns": 1,
        "rows": 5
       }
      },
      "text/plain": [
       "color\n",
       "cnt    91\n",
       "grn    68\n",
       "blv    52\n",
       "blu    36\n",
       "yel    32\n",
       "Name: count, dtype: int64"
      ]
     },
     "execution_count": 26,
     "metadata": {},
     "output_type": "execute_result"
    }
   ],
   "source": [
    "observed_values"
   ]
  },
  {
   "cell_type": "markdown",
   "metadata": {},
   "source": [
    "## Simulated distributions vs observed counts"
   ]
  },
  {
   "cell_type": "code",
   "execution_count": null,
   "metadata": {},
   "outputs": [
    {
     "data": {
      "image/png": "[encoded data removed]",
      "text/plain": [
       "<Figure size 640x480 with 1 Axes>"
      ]
     },
     "metadata": {},
     "output_type": "display_data"
    }
   ],
   "source": [
    "colors = [color_map[col] for col in simulation_results_parallel.columns]\n",
    "plt.hist(simulation_results_parallel.values, bins=simulation_results_parallel.values.max() - simulation_results_parallel.values.min()+1, color=colors, histtype='step', alpha=0.7)\n",
    "for col, color in zip(simulation_results_parallel.columns, colors):\n",
    "    plt.axvline(simulation_results_parallel[col].mean(), color=color, linestyle='dashed', linewidth=1)\n",
    "\n",
    "plt.scatter(observed_values.values, [700] * len(observed_values), \n",
    "           color=[color_map[color] for color in observed_values.index], s=10, marker='v')\n",
    "\n",
    "plt.show()"
   ]
  },
  {
   "cell_type": "code",
   "execution_count": 27,
   "metadata": {},
   "outputs": [
    {
     "data": {
      "text/plain": [
       "{'blv': 0.16639940484338434,\n",
       " 'yel': 0.0028578946296760055,\n",
       " 'grn': 0.009060912889248929,\n",
       " 'cnt': 5.611657583060037e-09,\n",
       " 'blu': 0.43787762709750355}"
      ]
     },
     "execution_count": 27,
     "metadata": {},
     "output_type": "execute_result"
    }
   ],
   "source": [
    "from scipy import stats\n",
    "\n",
    "sim_means = simulation_results_parallel.mean()\n",
    "sim_sds = simulation_results_parallel.std()\n",
    "pv_dict = {}\n",
    "\n",
    "for idx in sim_means.index:\n",
    "    z_score = (observed_values[idx] - sim_means[idx]) / sim_sds[idx]\n",
    "    pv = 2 * (1 - stats.norm.cdf(abs(z_score)))  \n",
    "    pv_dict[idx] = pv\n",
    "\n",
    "pv_dict\n"
   ]
  },
  {
   "cell_type": "markdown",
   "metadata": {},
   "source": [
    "## BLV - BLU simulated vs observed"
   ]
  },
  {
   "cell_type": "code",
   "execution_count": 17,
   "metadata": {},
   "outputs": [],
   "source": [
    "simulation_results_parallel['blv-blu'] = simulation_results_parallel['blv'] - simulation_results_parallel['blu']"
   ]
  },
  {
   "cell_type": "code",
   "execution_count": 18,
   "metadata": {},
   "outputs": [
    {
     "data": {
      "image/png": "[encoded data removed]",
      "text/plain": [
       "<Figure size 640x480 with 1 Axes>"
      ]
     },
     "metadata": {},
     "output_type": "display_data"
    }
   ],
   "source": [
    "plt.hist(simulation_results_parallel['blv-blu'], bins=simulation_results_parallel['blv-blu'].max() - simulation_results_parallel['blv-blu'].min()+1, color='b', histtype='step', alpha=0.7)\n",
    "plt.axvline(simulation_results_parallel['blv-blu'].mean(), color='b', linestyle='dashed', linewidth=1)\n",
    "\n",
    "plt.scatter(observed_values['blv'] - observed_values['blu'], 400, \n",
    "           color='c', s=10, marker='v')\n",
    "\n",
    "\n",
    "plt.show()"
   ]
  },
  {
   "cell_type": "code",
   "execution_count": 21,
   "metadata": {},
   "outputs": [
    {
     "name": "stdout",
     "output_type": "stream",
     "text": [
      "BLV-BLU p-value: 0.08231450475537994\n"
     ]
    }
   ],
   "source": [
    "sim_mean = simulation_results_parallel['blv-blu'].mean()\n",
    "sim_sd = simulation_results_parallel['blv-blu'].std()\n",
    "observed_value = observed_values['blv'] - observed_values['blu']\n",
    "\n",
    "z_score = (observed_value - sim_mean) / sim_sd\n",
    "pv = 1 - stats.norm.cdf(abs(z_score))\n",
    "\n",
    "print(f'BLV-BLU p-value: {pv}')"
   ]
  },
  {
   "cell_type": "markdown",
   "metadata": {},
   "source": [
    "## CNT - mean(others)"
   ]
  },
  {
   "cell_type": "code",
   "execution_count": 25,
   "metadata": {},
   "outputs": [],
   "source": [
    "simulation_results_parallel['cnt-all'] = simulation_results_parallel['cnt'] - simulation_results_parallel[['blu', 'yel', 'grn', 'blv']].mean(axis=1)"
   ]
  },
  {
   "cell_type": "code",
   "execution_count": 26,
   "metadata": {},
   "outputs": [
    {
     "data": {
      "text/plain": [
       "64.5"
      ]
     },
     "execution_count": 26,
     "metadata": {},
     "output_type": "execute_result"
    }
   ],
   "source": [
    "simulation_results_parallel['cnt-all'].max() - simulation_results_parallel['cnt-all'].min()+1"
   ]
  },
  {
   "cell_type": "code",
   "execution_count": 27,
   "metadata": {},
   "outputs": [
    {
     "data": {
      "text/plain": [
       "50.25"
      ]
     },
     "execution_count": 27,
     "metadata": {},
     "output_type": "execute_result"
    }
   ],
   "source": [
    "observed_values[['blu', 'yel', 'grn', 'blv']].mean()"
   ]
  },
  {
   "cell_type": "code",
   "execution_count": 28,
   "metadata": {},
   "outputs": [
    {
     "data": {
      "image/png": "[encoded data removed]",
      "text/plain": [
       "<Figure size 640x480 with 1 Axes>"
      ]
     },
     "metadata": {},
     "output_type": "display_data"
    }
   ],
   "source": [
    "plt.hist(simulation_results_parallel['cnt-all'], bins=int(simulation_results_parallel['cnt-all'].max() - simulation_results_parallel['cnt-all'].min()+1), color='m', histtype='step', alpha=0.7)\n",
    "plt.axvline(simulation_results_parallel['cnt-all'].mean(), color='m', linestyle='dashed', linewidth=1)\n",
    "\n",
    "plt.scatter(observed_values['cnt'] - observed_values[['blu', 'yel', 'grn', 'blv']].mean(), 400, \n",
    "           color='c', s=10, marker='v')\n",
    "\n",
    "\n",
    "plt.show()"
   ]
  }
 ],
 "metadata": {
  "kernelspec": {
   "display_name": "bee_mapping",
   "language": "python",
   "name": "python3"
  },
  "language_info": {
   "codemirror_mode": {
    "name": "ipython",
    "version": 3
   },
   "file_extension": ".py",
   "mimetype": "text/x-python",
   "name": "python",
   "nbconvert_exporter": "python",
   "pygments_lexer": "ipython3",
   "version": "3.12.0"
  }
 },
 "nbformat": 4,
 "nbformat_minor": 2
}
