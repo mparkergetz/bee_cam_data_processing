{
 "cells": [
  {
   "cell_type": "code",
   "execution_count": 72,
   "metadata": {},
   "outputs": [],
   "source": [
    "import pandas as pd\n",
    "from multiprocessing import Pool\n",
    "import numpy as np\n",
    "\n",
    "import matplotlib.pyplot as plt\n",
    "import matplotlib\n",
    "matplotlib.rcParams['font.family'] = 'Nimbus Sans'\n",
    "plt.rcParams['font.size'] = 10\n",
    "\n",
    "color_map = {\n",
    "    'cnt': 'm',\n",
    "    'blu': 'b',\n",
    "    'blv': 'c',\n",
    "    'grn': 'g',\n",
    "    'yel': 'y',\n",
    "    'red': 'r'\n",
    "}"
   ]
  },
  {
   "cell_type": "code",
   "execution_count": 73,
   "metadata": {},
   "outputs": [],
   "source": [
    "# stim_ints = pd.read_csv('csvs/stimulus_intervals.csv', index_col=False)\n",
    "# stim_ints['interval'] = stim_ints['interval'].apply(lambda x: pd.Interval(pd.Timestamp(x.split(', ')[0].strip('[')), \n",
    "#                                                             pd.Timestamp(x.split(', ')[1].strip(')')), \n",
    "#                                                             closed='left'))\n",
    "\n",
    "cam_ints = pd.read_csv('csvs/camera_intervals.csv', index_col=False)\n",
    "cam_ints['interval'] = cam_ints['interval'].apply(lambda x: pd.Interval(pd.Timestamp(x.split(', ')[0].strip('[')), \n",
    "                                                            pd.Timestamp(x.split(', ')[1].strip(']')), \n",
    "                                                            closed='both'))\n",
    "\n",
    "bombus_visits = pd.read_csv('csvs/bombus_visit_durations.csv', index_col=False, parse_dates=['visit_start', 'visit_end'])\n",
    "bombus_visits['interval'] = pd.IntervalIndex.from_arrays(bombus_visits['visit_start'], bombus_visits['visit_end'], closed='both')\n",
    "bombus_visits\n",
    "\n",
    "observed_values = bombus_visits['color'].value_counts()"
   ]
  },
  {
   "cell_type": "code",
   "execution_count": 74,
   "metadata": {},
   "outputs": [],
   "source": [
    "bombus_clover = bombus_visits[bombus_visits['visit_end']<'2024-07-30']\n",
    "bombus_visits = bombus_clover\n",
    "observed_values = bombus_visits['color'].value_counts()"
   ]
  },
  {
   "cell_type": "code",
   "execution_count": 75,
   "metadata": {},
   "outputs": [
    {
     "data": {
      "application/vnd.microsoft.datawrangler.viewer.v0+json": {
       "columns": [
        {
         "name": "color",
         "rawType": "object",
         "type": "string"
        },
        {
         "name": "count",
         "rawType": "int64",
         "type": "integer"
        }
       ],
       "ref": "f5cc65ca-232e-4184-9bcd-6ea90bf842e4",
       "rows": [
        [
         "cnt",
         "95"
        ],
        [
         "grn",
         "71"
        ],
        [
         "blv",
         "54"
        ],
        [
         "blu",
         "36"
        ],
        [
         "yel",
         "35"
        ]
       ],
       "shape": {
        "columns": 1,
        "rows": 5
       }
      },
      "text/plain": [
       "color\n",
       "cnt    95\n",
       "grn    71\n",
       "blv    54\n",
       "blu    36\n",
       "yel    35\n",
       "Name: count, dtype: int64"
      ]
     },
     "execution_count": 75,
     "metadata": {},
     "output_type": "execute_result"
    }
   ],
   "source": [
    "observed_values"
   ]
  },
  {
   "cell_type": "code",
   "execution_count": 76,
   "metadata": {},
   "outputs": [
    {
     "name": "stdout",
     "output_type": "stream",
     "text": [
      "total captured visits: 246\n"
     ]
    },
    {
     "data": {
      "application/vnd.microsoft.datawrangler.viewer.v0+json": {
       "columns": [
        {
         "name": "index",
         "rawType": "object",
         "type": "string"
        },
        {
         "name": "0",
         "rawType": "int64",
         "type": "integer"
        }
       ],
       "ref": "a4801692-eb9f-4011-a0f3-1b4773afccc4",
       "rows": [
        [
         "blu",
         "52"
        ],
        [
         "grn",
         "52"
        ],
        [
         "cnt",
         "57"
        ],
        [
         "yel",
         "53"
        ],
        [
         "blv",
         "32"
        ]
       ],
       "shape": {
        "columns": 1,
        "rows": 5
       }
      },
      "text/plain": [
       "blu    52\n",
       "grn    52\n",
       "cnt    57\n",
       "yel    53\n",
       "blv    32\n",
       "dtype: int64"
      ]
     },
     "execution_count": 76,
     "metadata": {},
     "output_type": "execute_result"
    }
   ],
   "source": [
    "def run_simulation(cam_ints, bombus_visits):\n",
    "    visit_dict = {}\n",
    "    bombus_visits['pi'] = np.random.randint(1, 11, len(bombus_visits))\n",
    "\n",
    "    color_counts = pd.Series(dtype=int)\n",
    "    for i, visit in bombus_visits.iterrows():\n",
    "        pi = visit['pi']\n",
    "        visit_interval = visit['interval']\n",
    "        relevant_cams = cam_ints[cam_ints['pi'] == pi]\n",
    "        assigned = False\n",
    "\n",
    "        for _, cam in relevant_cams.iterrows():\n",
    "            cam_interval = cam['interval']\n",
    "            if visit_interval.overlaps(cam_interval):\n",
    "                color = cam['color']\n",
    "                visit_dict[i] = {'visit_start': visit_interval.left, 'pi': pi, 'color': color}\n",
    "                if color in color_counts:\n",
    "                    color_counts[color] += 1\n",
    "                else:\n",
    "                    color_counts[color] = 1\n",
    "                assigned = True\n",
    "        if not assigned:\n",
    "            visit_dict[i] = {'visit_start': visit_interval.left, 'pi': pi, 'color': 'red'}\n",
    "\n",
    "    return color_counts, visit_dict\n",
    "\n",
    "visit_counts, visit_dict = run_simulation(cam_ints, bombus_visits)\n",
    "print(f'total captured visits: {sum(visit_counts)}')\n",
    "visit_counts\n"
   ]
  },
  {
   "cell_type": "code",
   "execution_count": 77,
   "metadata": {},
   "outputs": [
    {
     "data": {
      "image/png": "[encoded data removed]",
      "text/plain": [
       "<Figure size 2000x200 with 1 Axes>"
      ]
     },
     "metadata": {},
     "output_type": "display_data"
    }
   ],
   "source": [
    "fig, ax = plt.subplots(figsize=(20, 2))\n",
    "for i, row in cam_ints.iterrows():\n",
    "    start = row['interval'].left\n",
    "    end = row['interval'].right\n",
    "    color = color_map[row['color']]\n",
    "    pi = row['pi']\n",
    "    ax.plot([start, end], [pi, pi], color=color)\n",
    "\n",
    "for key, entry in visit_dict.items():\n",
    "    visit_start = entry['visit_start']\n",
    "    pi = entry['pi']\n",
    "    color = color_map.get(entry['color'])\n",
    "    ax.scatter(visit_start, pi+.4 , color=color, marker='|', s=10, zorder=3)\n",
    "\n",
    "ax.set_yticks(np.arange(1,11))\n",
    "ax.set_yticklabels(np.arange(1,11))\n",
    "plt.show()"
   ]
  },
  {
   "cell_type": "code",
   "execution_count": 78,
   "metadata": {},
   "outputs": [],
   "source": [
    "def run_simulation(cam_on, visit_times, iterations=1):\n",
    "    results = []\n",
    "\n",
    "    for _ in range(iterations):\n",
    "        visit_times['pi'] = np.random.randint(1, 11, len(visit_times))\n",
    "        color_counts = pd.Series(dtype=int)\n",
    "        for _, visit in visit_times.iterrows():\n",
    "            pi = visit['pi']\n",
    "            visit_interval = visit['interval']\n",
    "            relevant_cams = cam_on[cam_on['pi'] == pi]\n",
    "\n",
    "            for _, cam in relevant_cams.iterrows():\n",
    "                cam_interval = cam['interval']\n",
    "                if visit_interval.overlaps(cam_interval):\n",
    "                    color = cam['color']\n",
    "                    color_counts[color] = color_counts.get(color, 0) + 1\n",
    "\n",
    "        results.append(color_counts)\n",
    "\n",
    "    final_results = pd.concat(results, axis=1).fillna(0).astype(int).T\n",
    "\n",
    "    return final_results\n",
    "\n",
    "# simulation_results = run_simulation(cam_ints, bombus_visits, iterations=1000)"
   ]
  },
  {
   "cell_type": "code",
   "execution_count": 79,
   "metadata": {},
   "outputs": [],
   "source": [
    "from joblib import Parallel, delayed\n",
    "\n",
    "def single_simulation(cam_on, visit_times):\n",
    "    visit_times = visit_times.copy()\n",
    "    visit_times['pi'] = np.random.randint(1, 11, len(visit_times))\n",
    "    color_counts = pd.Series(dtype=int)\n",
    "\n",
    "    for _, visit in visit_times.iterrows():\n",
    "        pi = visit['pi']\n",
    "        visit_interval = visit['interval']\n",
    "        relevant_cams = cam_on[cam_on['pi'] == pi]\n",
    "\n",
    "        for _, cam in relevant_cams.iterrows():\n",
    "            cam_interval = cam['interval']\n",
    "            if visit_interval.overlaps(cam_interval):\n",
    "                color = cam['color']\n",
    "                color_counts[color] = color_counts.get(color, 0) + 1\n",
    "\n",
    "    return color_counts\n",
    "\n",
    "def run_simulation_parallel(cam_on, visit_times, iterations=1000, num_jobs=20):\n",
    "    results = Parallel(n_jobs=num_jobs)(\n",
    "        delayed(single_simulation)(cam_on, visit_times) for _ in range(iterations)\n",
    "    )\n",
    "\n",
    "    final_results = pd.concat(results, axis=1).fillna(0).astype(int).T\n",
    "    return final_results\n",
    "\n",
    "simulation_results_parallel = run_simulation_parallel(cam_ints, bombus_visits, iterations=10000)\n",
    "simulation_results_parallel.to_csv('simresults_clover_10000_092125.csv', index=False)"
   ]
  },
  {
   "cell_type": "code",
   "execution_count": 80,
   "metadata": {},
   "outputs": [
    {
     "data": {
      "application/vnd.microsoft.datawrangler.viewer.v0+json": {
       "columns": [
        {
         "name": "index",
         "rawType": "int64",
         "type": "integer"
        },
        {
         "name": "yel",
         "rawType": "int64",
         "type": "integer"
        },
        {
         "name": "blv",
         "rawType": "int64",
         "type": "integer"
        },
        {
         "name": "cnt",
         "rawType": "int64",
         "type": "integer"
        },
        {
         "name": "grn",
         "rawType": "int64",
         "type": "integer"
        },
        {
         "name": "blu",
         "rawType": "int64",
         "type": "integer"
        }
       ],
       "ref": "dce81848-5d52-4356-bf70-5b28c5d47c0a",
       "rows": [
        [
         "0",
         "53",
         "41",
         "54",
         "53",
         "44"
        ],
        [
         "1",
         "67",
         "40",
         "49",
         "48",
         "49"
        ],
        [
         "2",
         "60",
         "43",
         "52",
         "65",
         "35"
        ],
        [
         "3",
         "63",
         "46",
         "53",
         "44",
         "49"
        ],
        [
         "4",
         "62",
         "42",
         "45",
         "53",
         "44"
        ],
        [
         "5",
         "54",
         "49",
         "58",
         "57",
         "36"
        ],
        [
         "6",
         "57",
         "47",
         "43",
         "62",
         "39"
        ],
        [
         "7",
         "48",
         "43",
         "59",
         "51",
         "43"
        ],
        [
         "8",
         "39",
         "45",
         "57",
         "44",
         "61"
        ],
        [
         "9",
         "58",
         "40",
         "43",
         "56",
         "52"
        ],
        [
         "10",
         "44",
         "40",
         "62",
         "53",
         "50"
        ],
        [
         "11",
         "67",
         "41",
         "50",
         "53",
         "45"
        ],
        [
         "12",
         "63",
         "38",
         "45",
         "52",
         "52"
        ],
        [
         "13",
         "50",
         "44",
         "57",
         "57",
         "55"
        ],
        [
         "14",
         "63",
         "43",
         "51",
         "57",
         "35"
        ],
        [
         "15",
         "58",
         "44",
         "49",
         "49",
         "52"
        ],
        [
         "16",
         "58",
         "54",
         "43",
         "50",
         "47"
        ],
        [
         "17",
         "52",
         "44",
         "65",
         "44",
         "45"
        ],
        [
         "18",
         "58",
         "43",
         "49",
         "61",
         "41"
        ],
        [
         "19",
         "60",
         "49",
         "41",
         "62",
         "34"
        ],
        [
         "20",
         "55",
         "55",
         "57",
         "51",
         "47"
        ],
        [
         "21",
         "64",
         "40",
         "62",
         "50",
         "35"
        ],
        [
         "22",
         "48",
         "43",
         "62",
         "53",
         "41"
        ],
        [
         "23",
         "51",
         "52",
         "62",
         "52",
         "44"
        ],
        [
         "24",
         "48",
         "51",
         "59",
         "50",
         "41"
        ],
        [
         "25",
         "44",
         "52",
         "61",
         "50",
         "44"
        ],
        [
         "26",
         "54",
         "49",
         "61",
         "56",
         "37"
        ],
        [
         "27",
         "47",
         "39",
         "53",
         "68",
         "33"
        ],
        [
         "28",
         "50",
         "38",
         "54",
         "63",
         "46"
        ],
        [
         "29",
         "56",
         "40",
         "55",
         "53",
         "49"
        ],
        [
         "30",
         "48",
         "54",
         "54",
         "44",
         "48"
        ],
        [
         "31",
         "42",
         "39",
         "51",
         "65",
         "55"
        ],
        [
         "32",
         "61",
         "33",
         "61",
         "62",
         "34"
        ],
        [
         "33",
         "56",
         "53",
         "49",
         "61",
         "34"
        ],
        [
         "34",
         "54",
         "53",
         "49",
         "50",
         "48"
        ],
        [
         "35",
         "45",
         "45",
         "52",
         "71",
         "41"
        ],
        [
         "36",
         "53",
         "43",
         "52",
         "56",
         "48"
        ],
        [
         "37",
         "57",
         "49",
         "53",
         "49",
         "38"
        ],
        [
         "38",
         "53",
         "46",
         "61",
         "48",
         "43"
        ],
        [
         "39",
         "53",
         "48",
         "59",
         "54",
         "38"
        ],
        [
         "40",
         "42",
         "56",
         "58",
         "48",
         "40"
        ],
        [
         "41",
         "53",
         "40",
         "56",
         "66",
         "45"
        ],
        [
         "42",
         "42",
         "45",
         "59",
         "50",
         "49"
        ],
        [
         "43",
         "46",
         "47",
         "60",
         "56",
         "47"
        ],
        [
         "44",
         "54",
         "40",
         "56",
         "55",
         "47"
        ],
        [
         "45",
         "48",
         "48",
         "53",
         "54",
         "52"
        ],
        [
         "46",
         "58",
         "47",
         "59",
         "40",
         "44"
        ],
        [
         "47",
         "47",
         "55",
         "56",
         "54",
         "41"
        ],
        [
         "48",
         "60",
         "37",
         "51",
         "55",
         "45"
        ],
        [
         "49",
         "65",
         "54",
         "52",
         "57",
         "30"
        ]
       ],
       "shape": {
        "columns": 5,
        "rows": 10000
       }
      },
      "text/html": [
       "<div>\n",
       "<style scoped>\n",
       "    .dataframe tbody tr th:only-of-type {\n",
       "        vertical-align: middle;\n",
       "    }\n",
       "\n",
       "    .dataframe tbody tr th {\n",
       "        vertical-align: top;\n",
       "    }\n",
       "\n",
       "    .dataframe thead th {\n",
       "        text-align: right;\n",
       "    }\n",
       "</style>\n",
       "<table border=\"1\" class=\"dataframe\">\n",
       "  <thead>\n",
       "    <tr style=\"text-align: right;\">\n",
       "      <th></th>\n",
       "      <th>yel</th>\n",
       "      <th>blv</th>\n",
       "      <th>cnt</th>\n",
       "      <th>grn</th>\n",
       "      <th>blu</th>\n",
       "    </tr>\n",
       "  </thead>\n",
       "  <tbody>\n",
       "    <tr>\n",
       "      <th>0</th>\n",
       "      <td>53</td>\n",
       "      <td>41</td>\n",
       "      <td>54</td>\n",
       "      <td>53</td>\n",
       "      <td>44</td>\n",
       "    </tr>\n",
       "    <tr>\n",
       "      <th>1</th>\n",
       "      <td>67</td>\n",
       "      <td>40</td>\n",
       "      <td>49</td>\n",
       "      <td>48</td>\n",
       "      <td>49</td>\n",
       "    </tr>\n",
       "    <tr>\n",
       "      <th>2</th>\n",
       "      <td>60</td>\n",
       "      <td>43</td>\n",
       "      <td>52</td>\n",
       "      <td>65</td>\n",
       "      <td>35</td>\n",
       "    </tr>\n",
       "    <tr>\n",
       "      <th>3</th>\n",
       "      <td>63</td>\n",
       "      <td>46</td>\n",
       "      <td>53</td>\n",
       "      <td>44</td>\n",
       "      <td>49</td>\n",
       "    </tr>\n",
       "    <tr>\n",
       "      <th>4</th>\n",
       "      <td>62</td>\n",
       "      <td>42</td>\n",
       "      <td>45</td>\n",
       "      <td>53</td>\n",
       "      <td>44</td>\n",
       "    </tr>\n",
       "    <tr>\n",
       "      <th>...</th>\n",
       "      <td>...</td>\n",
       "      <td>...</td>\n",
       "      <td>...</td>\n",
       "      <td>...</td>\n",
       "      <td>...</td>\n",
       "    </tr>\n",
       "    <tr>\n",
       "      <th>9995</th>\n",
       "      <td>49</td>\n",
       "      <td>52</td>\n",
       "      <td>60</td>\n",
       "      <td>52</td>\n",
       "      <td>42</td>\n",
       "    </tr>\n",
       "    <tr>\n",
       "      <th>9996</th>\n",
       "      <td>46</td>\n",
       "      <td>37</td>\n",
       "      <td>65</td>\n",
       "      <td>63</td>\n",
       "      <td>41</td>\n",
       "    </tr>\n",
       "    <tr>\n",
       "      <th>9997</th>\n",
       "      <td>58</td>\n",
       "      <td>37</td>\n",
       "      <td>48</td>\n",
       "      <td>67</td>\n",
       "      <td>49</td>\n",
       "    </tr>\n",
       "    <tr>\n",
       "      <th>9998</th>\n",
       "      <td>48</td>\n",
       "      <td>47</td>\n",
       "      <td>51</td>\n",
       "      <td>54</td>\n",
       "      <td>47</td>\n",
       "    </tr>\n",
       "    <tr>\n",
       "      <th>9999</th>\n",
       "      <td>53</td>\n",
       "      <td>33</td>\n",
       "      <td>59</td>\n",
       "      <td>58</td>\n",
       "      <td>50</td>\n",
       "    </tr>\n",
       "  </tbody>\n",
       "</table>\n",
       "<p>10000 rows × 5 columns</p>\n",
       "</div>"
      ],
      "text/plain": [
       "      yel  blv  cnt  grn  blu\n",
       "0      53   41   54   53   44\n",
       "1      67   40   49   48   49\n",
       "2      60   43   52   65   35\n",
       "3      63   46   53   44   49\n",
       "4      62   42   45   53   44\n",
       "...   ...  ...  ...  ...  ...\n",
       "9995   49   52   60   52   42\n",
       "9996   46   37   65   63   41\n",
       "9997   58   37   48   67   49\n",
       "9998   48   47   51   54   47\n",
       "9999   53   33   59   58   50\n",
       "\n",
       "[10000 rows x 5 columns]"
      ]
     },
     "execution_count": 80,
     "metadata": {},
     "output_type": "execute_result"
    }
   ],
   "source": [
    "simulation_results_parallel= pd.read_csv('simresults_clover_10000_092125.csv')\n",
    "simulation_results_parallel"
   ]
  },
  {
   "cell_type": "code",
   "execution_count": 81,
   "metadata": {},
   "outputs": [
    {
     "data": {
      "application/vnd.microsoft.datawrangler.viewer.v0+json": {
       "columns": [
        {
         "name": "color",
         "rawType": "object",
         "type": "string"
        },
        {
         "name": "count",
         "rawType": "int64",
         "type": "integer"
        }
       ],
       "ref": "7b0be997-58d3-4431-8e03-19eed9adbc92",
       "rows": [
        [
         "cnt",
         "95"
        ],
        [
         "grn",
         "71"
        ],
        [
         "blv",
         "54"
        ],
        [
         "blu",
         "36"
        ],
        [
         "yel",
         "35"
        ]
       ],
       "shape": {
        "columns": 1,
        "rows": 5
       }
      },
      "text/plain": [
       "color\n",
       "cnt    95\n",
       "grn    71\n",
       "blv    54\n",
       "blu    36\n",
       "yel    35\n",
       "Name: count, dtype: int64"
      ]
     },
     "execution_count": 81,
     "metadata": {},
     "output_type": "execute_result"
    }
   ],
   "source": [
    "observed_values"
   ]
  },
  {
   "cell_type": "markdown",
   "metadata": {},
   "source": [
    "## Simulated distributions vs observed counts"
   ]
  },
  {
   "cell_type": "code",
   "execution_count": 82,
   "metadata": {},
   "outputs": [
    {
     "data": {
      "image/png": "[encoded data removed]",
      "text/plain": [
       "<Figure size 640x480 with 1 Axes>"
      ]
     },
     "metadata": {},
     "output_type": "display_data"
    }
   ],
   "source": [
    "colors = [color_map[col] for col in simulation_results_parallel.columns]\n",
    "plt.hist(simulation_results_parallel.values, bins=simulation_results_parallel.values.max() - simulation_results_parallel.values.min()+1, color=colors, histtype='step', alpha=0.7)\n",
    "for col, color in zip(simulation_results_parallel.columns, colors):\n",
    "    plt.axvline(simulation_results_parallel[col].mean(), color=color, linestyle='dashed', linewidth=1)\n",
    "\n",
    "plt.scatter(observed_values.values, [700] * len(observed_values), \n",
    "           color=[color_map[color] for color in observed_values.index], s=10, marker='v')\n",
    "\n",
    "plt.show()"
   ]
  },
  {
   "cell_type": "code",
   "execution_count": 83,
   "metadata": {},
   "outputs": [
    {
     "data": {
      "text/plain": [
       "{'yel': 0.004147149398546102,\n",
       " 'blv': 0.19691091329363353,\n",
       " 'cnt': 1.6453323148368781e-09,\n",
       " 'grn': 0.009287611183721456,\n",
       " 'blu': 0.2485991276471755}"
      ]
     },
     "execution_count": 83,
     "metadata": {},
     "output_type": "execute_result"
    }
   ],
   "source": [
    "from scipy import stats\n",
    "\n",
    "sim_means = simulation_results_parallel.mean()\n",
    "sim_sds = simulation_results_parallel.std()\n",
    "pv_dict = {}\n",
    "\n",
    "for idx in sim_means.index:\n",
    "    z_score = (observed_values[idx] - sim_means[idx]) / sim_sds[idx]\n",
    "    pv = 2 * (1 - stats.norm.cdf(abs(z_score)))  \n",
    "    pv_dict[idx] = pv\n",
    "\n",
    "pv_dict\n"
   ]
  },
  {
   "cell_type": "markdown",
   "metadata": {},
   "source": [
    "## BLV - BLU simulated vs observed"
   ]
  },
  {
   "cell_type": "code",
   "execution_count": 84,
   "metadata": {},
   "outputs": [],
   "source": [
    "simulation_results_parallel['blv-blu'] = simulation_results_parallel['blv'] - simulation_results_parallel['blu']"
   ]
  },
  {
   "cell_type": "code",
   "execution_count": 85,
   "metadata": {},
   "outputs": [
    {
     "data": {
      "image/png": "[encoded data removed]",
      "text/plain": [
       "<Figure size 640x480 with 1 Axes>"
      ]
     },
     "metadata": {},
     "output_type": "display_data"
    }
   ],
   "source": [
    "plt.hist(simulation_results_parallel['blv-blu'], bins=simulation_results_parallel['blv-blu'].max() - simulation_results_parallel['blv-blu'].min()+1, color='b', histtype='step', alpha=0.7)\n",
    "plt.axvline(simulation_results_parallel['blv-blu'].mean(), color='b', linestyle='dashed', linewidth=1)\n",
    "\n",
    "plt.scatter(observed_values['blv'] - observed_values['blu'], 400, \n",
    "           color='c', s=10, marker='v')\n",
    "\n",
    "\n",
    "plt.show()"
   ]
  },
  {
   "cell_type": "code",
   "execution_count": 86,
   "metadata": {},
   "outputs": [
    {
     "name": "stdout",
     "output_type": "stream",
     "text": [
      "BLV-BLU p-value: 0.0578407838980286\n"
     ]
    }
   ],
   "source": [
    "sim_mean = simulation_results_parallel['blv-blu'].mean()\n",
    "sim_sd = simulation_results_parallel['blv-blu'].std()\n",
    "observed_value = observed_values['blv'] - observed_values['blu']\n",
    "\n",
    "z_score = (observed_value - sim_mean) / sim_sd\n",
    "pv = 1 - stats.norm.cdf(abs(z_score))\n",
    "\n",
    "print(f'BLV-BLU p-value: {pv}')"
   ]
  },
  {
   "cell_type": "markdown",
   "metadata": {},
   "source": [
    "## CNT - mean(others)"
   ]
  },
  {
   "cell_type": "code",
   "execution_count": 87,
   "metadata": {},
   "outputs": [],
   "source": [
    "simulation_results_parallel['cnt-all'] = simulation_results_parallel['cnt'] - simulation_results_parallel[['blu', 'yel', 'grn', 'blv']].mean(axis=1)"
   ]
  },
  {
   "cell_type": "code",
   "execution_count": 88,
   "metadata": {},
   "outputs": [
    {
     "data": {
      "text/plain": [
       "67.0"
      ]
     },
     "execution_count": 88,
     "metadata": {},
     "output_type": "execute_result"
    }
   ],
   "source": [
    "simulation_results_parallel['cnt-all'].max() - simulation_results_parallel['cnt-all'].min()+1"
   ]
  },
  {
   "cell_type": "code",
   "execution_count": 89,
   "metadata": {},
   "outputs": [
    {
     "data": {
      "text/plain": [
       "49.0"
      ]
     },
     "execution_count": 89,
     "metadata": {},
     "output_type": "execute_result"
    }
   ],
   "source": [
    "observed_values[['blu', 'yel', 'grn', 'blv']].mean()"
   ]
  },
  {
   "cell_type": "code",
   "execution_count": 90,
   "metadata": {},
   "outputs": [
    {
     "data": {
      "image/png": "[encoded data removed]",
      "text/plain": [
       "<Figure size 640x480 with 1 Axes>"
      ]
     },
     "metadata": {},
     "output_type": "display_data"
    }
   ],
   "source": [
    "plt.hist(simulation_results_parallel['cnt-all'], bins=int(simulation_results_parallel['cnt-all'].max() - simulation_results_parallel['cnt-all'].min()+1), color='m', histtype='step', alpha=0.7)\n",
    "plt.axvline(simulation_results_parallel['cnt-all'].mean(), color='m', linestyle='dashed', linewidth=1)\n",
    "\n",
    "plt.scatter(observed_values['cnt'] - observed_values[['blu', 'yel', 'grn', 'blv']].mean(), 400, \n",
    "           color='c', s=10, marker='v')\n",
    "\n",
    "\n",
    "plt.show()"
   ]
  },
  {
   "cell_type": "code",
   "execution_count": null,
   "metadata": {},
   "outputs": [],
   "source": []
  }
 ],
 "metadata": {
  "kernelspec": {
   "display_name": "bee_mapping",
   "language": "python",
   "name": "python3"
  },
  "language_info": {
   "codemirror_mode": {
    "name": "ipython",
    "version": 3
   },
   "file_extension": ".py",
   "mimetype": "text/x-python",
   "name": "python",
   "nbconvert_exporter": "python",
   "pygments_lexer": "ipython3",
   "version": "3.12.0"
  }
 },
 "nbformat": 4,
 "nbformat_minor": 2
}
