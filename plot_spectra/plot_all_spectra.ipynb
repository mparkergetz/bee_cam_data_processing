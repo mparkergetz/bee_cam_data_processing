{
 "cells": [
  {
   "cell_type": "code",
   "execution_count": 98,
   "metadata": {},
   "outputs": [
    {
     "data": {
      "application/vnd.microsoft.datawrangler.viewer.v0+json": {
       "columns": [
        {
         "name": "index",
         "rawType": "int64",
         "type": "integer"
        },
        {
         "name": "0",
         "rawType": "float64",
         "type": "float"
        }
       ],
       "ref": "cffa688a-9eb6-48f8-abc4-188b014e37cb",
       "rows": [
        [
         "0",
         "-198.7"
        ],
        [
         "1",
         "3.5"
        ],
        [
         "2",
         "6.9"
        ],
        [
         "3",
         "7.7"
        ],
        [
         "4",
         "7.1"
        ],
        [
         "5",
         "9.7"
        ],
        [
         "6",
         "9.5"
        ],
        [
         "7",
         "11.9"
        ],
        [
         "8",
         "12.3"
        ],
        [
         "9",
         "15.9"
        ],
        [
         "10",
         "13.5"
        ],
        [
         "11",
         "14.3"
        ],
        [
         "12",
         "14.1"
        ],
        [
         "13",
         "15.1"
        ],
        [
         "14",
         "16.7"
        ],
        [
         "15",
         "15.7"
        ],
        [
         "16",
         "11.7"
        ],
        [
         "17",
         "13.1"
        ],
        [
         "18",
         "12.9"
        ],
        [
         "19",
         "10.9"
        ],
        [
         "20",
         "17.3"
        ],
        [
         "21",
         "11.9"
        ],
        [
         "22",
         "13.5"
        ],
        [
         "23",
         "13.7"
        ],
        [
         "24",
         "14.9"
        ],
        [
         "25",
         "14.1"
        ],
        [
         "26",
         "15.5"
        ],
        [
         "27",
         "14.1"
        ],
        [
         "28",
         "12.5"
        ],
        [
         "29",
         "15.9"
        ],
        [
         "30",
         "14.7"
        ],
        [
         "31",
         "14.7"
        ],
        [
         "32",
         "16.1"
        ],
        [
         "33",
         "13.9"
        ],
        [
         "34",
         "16.3"
        ],
        [
         "35",
         "16.5"
        ],
        [
         "36",
         "14.1"
        ],
        [
         "37",
         "14.3"
        ],
        [
         "38",
         "13.9"
        ],
        [
         "39",
         "14.9"
        ],
        [
         "40",
         "14.9"
        ],
        [
         "41",
         "15.7"
        ],
        [
         "42",
         "16.5"
        ],
        [
         "43",
         "13.9"
        ],
        [
         "44",
         "18.5"
        ],
        [
         "45",
         "15.9"
        ],
        [
         "46",
         "17.1"
        ],
        [
         "47",
         "16.3"
        ],
        [
         "48",
         "13.3"
        ],
        [
         "49",
         "15.3"
        ]
       ],
       "shape": {
        "columns": 1,
        "rows": 2048
       }
      },
      "text/plain": [
       "0      -198.7\n",
       "1         3.5\n",
       "2         6.9\n",
       "3         7.7\n",
       "4         7.1\n",
       "        ...  \n",
       "2043     27.9\n",
       "2044     23.9\n",
       "2045     24.3\n",
       "2046     25.3\n",
       "2047     25.7\n",
       "Length: 2048, dtype: float64"
      ]
     },
     "execution_count": 98,
     "metadata": {},
     "output_type": "execute_result"
    }
   ],
   "source": [
    "import os\n",
    "import glob\n",
    "import pandas as pd\n",
    "import matplotlib.pyplot as plt\n",
    "import numpy as np\n",
    "\n",
    "DATA_DIR = \"./202504_data/spectra_20250608\"\n",
    "csv_files = glob.glob(os.path.join(DATA_DIR, \"*.txt\"))\n",
    "\n",
    "background_df = pd.read_csv('/home/misha/repos/bee_cam_process_data/plot_spectra/202504_data/rgb_white_background_refl.txt', sep='\\t', header=None)\n",
    "background_data = background_df.iloc[1:].reset_index(drop=True)\n",
    "avg_background = sum(background_data[i] for i in range(1, 10, 2)) / 5\n",
    "\n",
    "avg_background"
   ]
  },
  {
   "cell_type": "code",
   "execution_count": 99,
   "metadata": {},
   "outputs": [
    {
     "name": "stderr",
     "output_type": "stream",
     "text": [
      "/tmp/ipykernel_996986/1655410687.py:11: SettingWithCopyWarning: \n",
      "A value is trying to be set on a copy of a slice from a DataFrame.\n",
      "Try using .loc[row_indexer,col_indexer] = value instead\n",
      "\n",
      "See the caveats in the documentation: https://pandas.pydata.org/pandas-docs/stable/user_guide/indexing.html#returning-a-view-versus-a-copy\n",
      "  yellow_filtered['minmax'] = (yellow_filtered['norm'] - yellow_filtered['norm'].min()) / (yellow_filtered['norm'].max() - yellow_filtered['norm'].min())\n",
      "/tmp/ipykernel_996986/1655410687.py:22: SettingWithCopyWarning: \n",
      "A value is trying to be set on a copy of a slice from a DataFrame.\n",
      "Try using .loc[row_indexer,col_indexer] = value instead\n",
      "\n",
      "See the caveats in the documentation: https://pandas.pydata.org/pandas-docs/stable/user_guide/indexing.html#returning-a-view-versus-a-copy\n",
      "  green_filtered['minmax'] = (green_filtered['norm'] - green_filtered['norm'].min()) / (green_filtered['norm'].max() - green_filtered['norm'].min())\n"
     ]
    },
    {
     "data": {
      "text/plain": [
       "(0.0, 1.0)"
      ]
     },
     "execution_count": 99,
     "metadata": {},
     "output_type": "execute_result"
    },
    {
     "data": {
      "image/png": "[encoded data removed]",
      "text/plain": [
       "<Figure size 640x480 with 1 Axes>"
      ]
     },
     "metadata": {},
     "output_type": "display_data"
    }
   ],
   "source": [
    "yellow_data = pd.read_csv('202504_data/spectra_20250608/yellow board whitelight june8th.txt', sep='\\t', header=None)\n",
    "yellow_data = yellow_data.drop(columns=[1,2, 4, 6, 8, 10, 12])\n",
    "yellow_data = yellow_data.drop(index=0).reset_index(drop=True)\n",
    "\n",
    "yellow_data['avg'] = yellow_data.iloc[:, [1,2,3,4,5]].mean(axis=1)\n",
    "yellow_data['norm'] = yellow_data['avg']/avg_background\n",
    "\n",
    "yellow_data[0] = yellow_data[0].astype(float)\n",
    "\n",
    "yellow_filtered = yellow_data[(yellow_data[0]>430) & (yellow_data[0]<=600)]\n",
    "yellow_filtered['minmax'] = (yellow_filtered['norm'] - yellow_filtered['norm'].min()) / (yellow_filtered['norm'].max() - yellow_filtered['norm'].min())\n",
    "\n",
    "\n",
    "green_data = pd.read_csv('202504_data/spectra_20250608/green board whitelight june8th.txt', sep='\\t', header=None)\n",
    "green_data = green_data.drop(columns=[2, 4, 6, 8, 10, 12])\n",
    "green_data['avg'] = green_data.iloc[:, [1,2,3,4,5,6]].mean(axis=1)\n",
    "green_data['norm'] = green_data['avg']/avg_background\n",
    "green_data = green_data.drop(index=0).reset_index(drop=True)\n",
    "green_data[0] = green_data[0].astype(float)\n",
    "\n",
    "green_filtered = green_data[(green_data[0]>430) & (green_data[0]<=600)]\n",
    "green_filtered['minmax'] = (green_filtered['norm'] - green_filtered['norm'].min()) / (green_filtered['norm'].max() - green_filtered['norm'].min())\n",
    "\n",
    "plt.plot(green_filtered[0], (green_filtered['minmax']), color='g')\n",
    "plt.plot(yellow_filtered[0], (yellow_filtered['minmax']), color='y')\n",
    "\n",
    "plt.xticks(\n",
    "    ticks=range(400,700,50),\n",
    "    labels=range(400,700,50)\n",
    ")\n",
    "\n",
    "plt.xlabel('wavelength (nm)')\n",
    "plt.ylabel('Normalized Values')\n",
    "plt.xlim(400,600)\n",
    "plt.ylim(0,1)"
   ]
  },
  {
   "cell_type": "code",
   "execution_count": 2,
   "metadata": {},
   "outputs": [
    {
     "data": {
      "image/png": "[encoded data removed]",
      "text/plain": [
       "<Figure size 640x480 with 1 Axes>"
      ]
     },
     "metadata": {},
     "output_type": "display_data"
    },
    {
     "data": {
      "image/png": "[encoded data removed]",
      "text/plain": [
       "<Figure size 640x480 with 1 Axes>"
      ]
     },
     "metadata": {},
     "output_type": "display_data"
    },
    {
     "data": {
      "image/png": "[encoded data removed]",
      "text/plain": [
       "<Figure size 640x480 with 1 Axes>"
      ]
     },
     "metadata": {},
     "output_type": "display_data"
    }
   ],
   "source": [
    "\n",
    "for csv_file in csv_files:\n",
    "    df = pd.read_csv(csv_file, sep='\\t', header=None)\n",
    "    header = df.iloc[0].dropna().tolist()\n",
    "    data = df.iloc[1:].reset_index(drop=True)\n",
    "    # print(len(data))\n",
    "    clean_header = [h for h in header if pd.notna(h) and str(h).strip() != '']\n",
    "    if len(clean_header) % 2 != 0:\n",
    "        clean_header = clean_header[:-1] \n",
    "    col_pairs = [(clean_header[i], clean_header[i + 1]) for i in range(0, len(clean_header), 2)]\n",
    "\n",
    "    plt.figure()\n",
    "    for i, (x_label, y_label) in enumerate(col_pairs):\n",
    "        x_vals = pd.to_numeric(data.iloc[:, 2*i])\n",
    "        y_vals = pd.to_numeric(data.iloc[:, 2*i + 1])\n",
    "        norm_y = y_vals / avg_background\n",
    "        plt.plot(x_vals, norm_y, label=f\"Norm {y_label}\")\n",
    "\n",
    "    plt.xlim(400, 600)\n",
    "    # plt.ylim(0,10)\n",
    "    # plt.axvline(x=430, color='red', linestyle='--', linewidth=1.5)\n",
    "\n",
    "    plt.title(f\"{os.path.basename(csv_file)}\")\n",
    "    plt.xlabel(\"nm\")\n",
    "    plt.ylabel(\"refl\")\n",
    "    plt.tight_layout()\n",
    "    plt.show()\n"
   ]
  },
  {
   "cell_type": "code",
   "execution_count": 3,
   "metadata": {},
   "outputs": [
    {
     "data": {
      "image/png": "[encoded data removed]",
      "text/plain": [
       "<Figure size 800x500 with 1 Axes>"
      ]
     },
     "metadata": {},
     "output_type": "display_data"
    }
   ],
   "source": [
    "plt.figure(figsize=(8, 5))\n",
    "x_vals = pd.to_numeric(data.iloc[:, 0])\n",
    "y_vals = pd.to_numeric(data.iloc[:, 1])\n",
    "\n",
    "plt.plot(x_vals, y_vals)\n",
    "\n",
    "plt.xlabel(\"nm\")\n",
    "plt.ylabel(\"Raw Reflectance\")\n",
    "plt.grid(True)\n",
    "plt.tight_layout()\n",
    "plt.show()"
   ]
  },
  {
   "cell_type": "code",
   "execution_count": null,
   "metadata": {},
   "outputs": [],
   "source": []
  },
  {
   "cell_type": "code",
   "execution_count": 4,
   "metadata": {},
   "outputs": [
    {
     "data": {
      "application/vnd.microsoft.datawrangler.viewer.v0+json": {
       "columns": [
        {
         "name": "index",
         "rawType": "int64",
         "type": "integer"
        },
        {
         "name": "0",
         "rawType": "object",
         "type": "string"
        },
        {
         "name": "1",
         "rawType": "float64",
         "type": "float"
        },
        {
         "name": "2",
         "rawType": "object",
         "type": "string"
        },
        {
         "name": "3",
         "rawType": "float64",
         "type": "float"
        },
        {
         "name": "4",
         "rawType": "object",
         "type": "string"
        },
        {
         "name": "5",
         "rawType": "float64",
         "type": "float"
        },
        {
         "name": "6",
         "rawType": "object",
         "type": "string"
        },
        {
         "name": "7",
         "rawType": "float64",
         "type": "float"
        },
        {
         "name": "8",
         "rawType": "object",
         "type": "string"
        },
        {
         "name": "9",
         "rawType": "float64",
         "type": "float"
        },
        {
         "name": "10",
         "rawType": "object",
         "type": "string"
        },
        {
         "name": "11",
         "rawType": "float64",
         "type": "float"
        },
        {
         "name": "12",
         "rawType": "float64",
         "type": "float"
        }
       ],
       "ref": "301fc73a-dbdb-4890-90f6-a31c25731a0f",
       "rows": [
        [
         "0",
         "340.064",
         "-198.22",
         "340.064",
         "-198.61",
         "340.064",
         "-198.83",
         "340.064",
         "-199.39",
         "340.064",
         "-199.17",
         "340.064",
         "-199.5",
         null
        ],
        [
         "1",
         "340.433",
         "7.78",
         "340.433",
         "1.39",
         "340.433",
         "4.17",
         "340.433",
         "5.61",
         "340.433",
         "3.83",
         "340.433",
         "6.5",
         null
        ],
        [
         "2",
         "340.803",
         "5.78",
         "340.803",
         "8.39",
         "340.803",
         "9.17",
         "340.803",
         "3.61",
         "340.803",
         "5.83",
         "340.803",
         "9.5",
         null
        ],
        [
         "3",
         "341.172",
         "7.78",
         "341.172",
         "5.39",
         "341.172",
         "5.17",
         "341.172",
         "7.61",
         "341.172",
         "7.83",
         "341.172",
         "8.5",
         null
        ],
        [
         "4",
         "341.542",
         "8.78",
         "341.542",
         "7.39",
         "341.542",
         "6.17",
         "341.542",
         "7.61",
         "341.542",
         "7.83",
         "341.542",
         "6.5",
         null
        ],
        [
         "5",
         "341.911",
         "8.78",
         "341.911",
         "5.39",
         "341.911",
         "11.17",
         "341.911",
         "9.61",
         "341.911",
         "9.83",
         "341.911",
         "11.5",
         null
        ],
        [
         "6",
         "342.28",
         "9.78",
         "342.28",
         "8.39",
         "342.28",
         "8.17",
         "342.28",
         "7.61",
         "342.28",
         "11.83",
         "342.28",
         "10.5",
         null
        ],
        [
         "7",
         "342.65",
         "10.78",
         "342.65",
         "13.39",
         "342.65",
         "12.17",
         "342.65",
         "10.61",
         "342.65",
         "12.83",
         "342.65",
         "9.5",
         null
        ],
        [
         "8",
         "343.019",
         "11.78",
         "343.019",
         "14.39",
         "343.019",
         "14.17",
         "343.019",
         "13.61",
         "343.019",
         "6.83",
         "343.019",
         "14.5",
         null
        ],
        [
         "9",
         "343.388",
         "12.78",
         "343.388",
         "17.39",
         "343.388",
         "18.17",
         "343.388",
         "16.61",
         "343.388",
         "14.83",
         "343.388",
         "13.5",
         null
        ],
        [
         "10",
         "343.757",
         "10.78",
         "343.757",
         "18.39",
         "343.757",
         "16.17",
         "343.757",
         "16.61",
         "343.757",
         "11.83",
         "343.757",
         "14.5",
         null
        ],
        [
         "11",
         "344.127",
         "11.78",
         "344.127",
         "13.39",
         "344.127",
         "13.17",
         "344.127",
         "16.61",
         "344.127",
         "10.83",
         "344.127",
         "10.5",
         null
        ],
        [
         "12",
         "344.496",
         "14.78",
         "344.496",
         "10.39",
         "344.496",
         "12.17",
         "344.496",
         "11.61",
         "344.496",
         "14.83",
         "344.496",
         "14.5",
         null
        ],
        [
         "13",
         "344.865",
         "14.78",
         "344.865",
         "15.39",
         "344.865",
         "9.17",
         "344.865",
         "14.61",
         "344.865",
         "14.83",
         "344.865",
         "11.5",
         null
        ],
        [
         "14",
         "345.234",
         "16.78",
         "345.234",
         "13.39",
         "345.234",
         "15.17",
         "345.234",
         "12.61",
         "345.234",
         "17.83",
         "345.234",
         "12.5",
         null
        ],
        [
         "15",
         "345.603",
         "15.78",
         "345.603",
         "17.39",
         "345.603",
         "19.17",
         "345.603",
         "18.61",
         "345.603",
         "16.83",
         "345.603",
         "17.5",
         null
        ],
        [
         "16",
         "345.972",
         "15.78",
         "345.972",
         "15.39",
         "345.972",
         "11.17",
         "345.972",
         "13.61",
         "345.972",
         "16.83",
         "345.972",
         "14.5",
         null
        ],
        [
         "17",
         "346.342",
         "13.78",
         "346.342",
         "13.39",
         "346.342",
         "14.17",
         "346.342",
         "12.61",
         "346.342",
         "13.83",
         "346.342",
         "13.5",
         null
        ],
        [
         "18",
         "346.711",
         "15.78",
         "346.711",
         "15.39",
         "346.711",
         "22.17",
         "346.711",
         "13.61",
         "346.711",
         "11.83",
         "346.711",
         "13.5",
         null
        ],
        [
         "19",
         "347.08",
         "9.78",
         "347.08",
         "18.39",
         "347.08",
         "13.17",
         "347.08",
         "12.61",
         "347.08",
         "14.83",
         "347.08",
         "12.5",
         null
        ],
        [
         "20",
         "347.449",
         "18.78",
         "347.449",
         "22.39",
         "347.449",
         "19.17",
         "347.449",
         "22.61",
         "347.449",
         "19.83",
         "347.449",
         "18.5",
         null
        ],
        [
         "21",
         "347.818",
         "14.78",
         "347.818",
         "14.39",
         "347.818",
         "12.17",
         "347.818",
         "12.61",
         "347.818",
         "13.83",
         "347.818",
         "12.5",
         null
        ],
        [
         "22",
         "348.186",
         "15.78",
         "348.186",
         "17.39",
         "348.186",
         "13.17",
         "348.186",
         "15.61",
         "348.186",
         "13.83",
         "348.186",
         "13.5",
         null
        ],
        [
         "23",
         "348.555",
         "13.78",
         "348.555",
         "10.39",
         "348.555",
         "16.17",
         "348.555",
         "15.61",
         "348.555",
         "10.83",
         "348.555",
         "9.5",
         null
        ],
        [
         "24",
         "348.924",
         "13.78",
         "348.924",
         "15.39",
         "348.924",
         "20.17",
         "348.924",
         "13.61",
         "348.924",
         "17.83",
         "348.924",
         "11.5",
         null
        ],
        [
         "25",
         "349.293",
         "11.78",
         "349.293",
         "16.39",
         "349.293",
         "18.17",
         "349.293",
         "15.61",
         "349.293",
         "16.83",
         "349.293",
         "15.5",
         null
        ],
        [
         "26",
         "349.662",
         "15.78",
         "349.662",
         "11.39",
         "349.662",
         "13.17",
         "349.662",
         "15.61",
         "349.662",
         "13.83",
         "349.662",
         "11.5",
         null
        ],
        [
         "27",
         "350.031",
         "12.78",
         "350.031",
         "12.39",
         "350.031",
         "10.17",
         "350.031",
         "13.61",
         "350.031",
         "11.83",
         "350.031",
         "18.5",
         null
        ],
        [
         "28",
         "350.399",
         "15.78",
         "350.399",
         "16.39",
         "350.399",
         "14.17",
         "350.399",
         "12.61",
         "350.399",
         "14.83",
         "350.399",
         "16.5",
         null
        ],
        [
         "29",
         "350.768",
         "12.78",
         "350.768",
         "15.39",
         "350.768",
         "17.17",
         "350.768",
         "11.61",
         "350.768",
         "15.83",
         "350.768",
         "14.5",
         null
        ],
        [
         "30",
         "351.137",
         "13.78",
         "351.137",
         "17.39",
         "351.137",
         "14.17",
         "351.137",
         "17.61",
         "351.137",
         "13.83",
         "351.137",
         "14.5",
         null
        ],
        [
         "31",
         "351.506",
         "9.78",
         "351.506",
         "13.39",
         "351.506",
         "13.17",
         "351.506",
         "18.61",
         "351.506",
         "10.83",
         "351.506",
         "10.5",
         null
        ],
        [
         "32",
         "351.874",
         "13.78",
         "351.874",
         "15.39",
         "351.874",
         "16.17",
         "351.874",
         "15.61",
         "351.874",
         "13.83",
         "351.874",
         "14.5",
         null
        ],
        [
         "33",
         "352.243",
         "17.78",
         "352.243",
         "15.39",
         "352.243",
         "14.17",
         "352.243",
         "13.61",
         "352.243",
         "14.83",
         "352.243",
         "18.5",
         null
        ],
        [
         "34",
         "352.611",
         "14.78",
         "352.611",
         "13.39",
         "352.611",
         "18.17",
         "352.611",
         "16.61",
         "352.611",
         "14.83",
         "352.611",
         "15.5",
         null
        ],
        [
         "35",
         "352.98",
         "13.78",
         "352.98",
         "15.39",
         "352.98",
         "14.17",
         "352.98",
         "10.61",
         "352.98",
         "14.83",
         "352.98",
         "13.5",
         null
        ],
        [
         "36",
         "353.349",
         "10.78",
         "353.349",
         "17.39",
         "353.349",
         "16.17",
         "353.349",
         "16.61",
         "353.349",
         "10.83",
         "353.349",
         "15.5",
         null
        ],
        [
         "37",
         "353.717",
         "13.78",
         "353.717",
         "18.39",
         "353.717",
         "17.17",
         "353.717",
         "13.61",
         "353.717",
         "13.83",
         "353.717",
         "17.5",
         null
        ],
        [
         "38",
         "354.086",
         "9.78",
         "354.086",
         "15.39",
         "354.086",
         "9.17",
         "354.086",
         "16.61",
         "354.086",
         "13.83",
         "354.086",
         "10.5",
         null
        ],
        [
         "39",
         "354.454",
         "12.78",
         "354.454",
         "19.39",
         "354.454",
         "15.17",
         "354.454",
         "13.61",
         "354.454",
         "14.83",
         "354.454",
         "13.5",
         null
        ],
        [
         "40",
         "354.822",
         "16.78",
         "354.822",
         "16.39",
         "354.822",
         "13.17",
         "354.822",
         "12.61",
         "354.822",
         "16.83",
         "354.822",
         "14.5",
         null
        ],
        [
         "41",
         "355.191",
         "13.78",
         "355.191",
         "15.39",
         "355.191",
         "15.17",
         "355.191",
         "11.61",
         "355.191",
         "13.83",
         "355.191",
         "10.5",
         null
        ],
        [
         "42",
         "355.559",
         "12.78",
         "355.559",
         "13.39",
         "355.559",
         "13.17",
         "355.559",
         "15.61",
         "355.559",
         "14.83",
         "355.559",
         "12.5",
         null
        ],
        [
         "43",
         "355.927",
         "14.78",
         "355.927",
         "12.39",
         "355.927",
         "11.17",
         "355.927",
         "14.61",
         "355.927",
         "17.83",
         "355.927",
         "10.5",
         null
        ],
        [
         "44",
         "356.296",
         "11.78",
         "356.296",
         "17.39",
         "356.296",
         "20.17",
         "356.296",
         "18.61",
         "356.296",
         "12.83",
         "356.296",
         "15.5",
         null
        ],
        [
         "45",
         "356.664",
         "14.78",
         "356.664",
         "10.39",
         "356.664",
         "17.17",
         "356.664",
         "18.61",
         "356.664",
         "12.83",
         "356.664",
         "17.5",
         null
        ],
        [
         "46",
         "357.032",
         "10.78",
         "357.032",
         "18.39",
         "357.032",
         "15.17",
         "357.032",
         "16.61",
         "357.032",
         "15.83",
         "357.032",
         "14.5",
         null
        ],
        [
         "47",
         "357.401",
         "9.78",
         "357.401",
         "17.39",
         "357.401",
         "16.17",
         "357.401",
         "10.61",
         "357.401",
         "15.83",
         "357.401",
         "14.5",
         null
        ],
        [
         "48",
         "357.769",
         "12.78",
         "357.769",
         "11.39",
         "357.769",
         "16.17",
         "357.769",
         "14.61",
         "357.769",
         "18.83",
         "357.769",
         "12.5",
         null
        ],
        [
         "49",
         "358.137",
         "16.78",
         "358.137",
         "19.39",
         "358.137",
         "16.17",
         "358.137",
         "15.61",
         "358.137",
         "16.83",
         "358.137",
         "16.5",
         null
        ]
       ],
       "shape": {
        "columns": 13,
        "rows": 2048
       }
      },
      "text/html": [
       "<div>\n",
       "<style scoped>\n",
       "    .dataframe tbody tr th:only-of-type {\n",
       "        vertical-align: middle;\n",
       "    }\n",
       "\n",
       "    .dataframe tbody tr th {\n",
       "        vertical-align: top;\n",
       "    }\n",
       "\n",
       "    .dataframe thead th {\n",
       "        text-align: right;\n",
       "    }\n",
       "</style>\n",
       "<table border=\"1\" class=\"dataframe\">\n",
       "  <thead>\n",
       "    <tr style=\"text-align: right;\">\n",
       "      <th></th>\n",
       "      <th>0</th>\n",
       "      <th>1</th>\n",
       "      <th>2</th>\n",
       "      <th>3</th>\n",
       "      <th>4</th>\n",
       "      <th>5</th>\n",
       "      <th>6</th>\n",
       "      <th>7</th>\n",
       "      <th>8</th>\n",
       "      <th>9</th>\n",
       "      <th>10</th>\n",
       "      <th>11</th>\n",
       "      <th>12</th>\n",
       "    </tr>\n",
       "  </thead>\n",
       "  <tbody>\n",
       "    <tr>\n",
       "      <th>0</th>\n",
       "      <td>340.064</td>\n",
       "      <td>-198.22</td>\n",
       "      <td>340.064</td>\n",
       "      <td>-198.61</td>\n",
       "      <td>340.064</td>\n",
       "      <td>-198.83</td>\n",
       "      <td>340.064</td>\n",
       "      <td>-199.39</td>\n",
       "      <td>340.064</td>\n",
       "      <td>-199.17</td>\n",
       "      <td>340.064</td>\n",
       "      <td>-199.5</td>\n",
       "      <td>NaN</td>\n",
       "    </tr>\n",
       "    <tr>\n",
       "      <th>1</th>\n",
       "      <td>340.433</td>\n",
       "      <td>7.78</td>\n",
       "      <td>340.433</td>\n",
       "      <td>1.39</td>\n",
       "      <td>340.433</td>\n",
       "      <td>4.17</td>\n",
       "      <td>340.433</td>\n",
       "      <td>5.61</td>\n",
       "      <td>340.433</td>\n",
       "      <td>3.83</td>\n",
       "      <td>340.433</td>\n",
       "      <td>6.5</td>\n",
       "      <td>NaN</td>\n",
       "    </tr>\n",
       "    <tr>\n",
       "      <th>2</th>\n",
       "      <td>340.803</td>\n",
       "      <td>5.78</td>\n",
       "      <td>340.803</td>\n",
       "      <td>8.39</td>\n",
       "      <td>340.803</td>\n",
       "      <td>9.17</td>\n",
       "      <td>340.803</td>\n",
       "      <td>3.61</td>\n",
       "      <td>340.803</td>\n",
       "      <td>5.83</td>\n",
       "      <td>340.803</td>\n",
       "      <td>9.5</td>\n",
       "      <td>NaN</td>\n",
       "    </tr>\n",
       "    <tr>\n",
       "      <th>3</th>\n",
       "      <td>341.172</td>\n",
       "      <td>7.78</td>\n",
       "      <td>341.172</td>\n",
       "      <td>5.39</td>\n",
       "      <td>341.172</td>\n",
       "      <td>5.17</td>\n",
       "      <td>341.172</td>\n",
       "      <td>7.61</td>\n",
       "      <td>341.172</td>\n",
       "      <td>7.83</td>\n",
       "      <td>341.172</td>\n",
       "      <td>8.5</td>\n",
       "      <td>NaN</td>\n",
       "    </tr>\n",
       "    <tr>\n",
       "      <th>4</th>\n",
       "      <td>341.542</td>\n",
       "      <td>8.78</td>\n",
       "      <td>341.542</td>\n",
       "      <td>7.39</td>\n",
       "      <td>341.542</td>\n",
       "      <td>6.17</td>\n",
       "      <td>341.542</td>\n",
       "      <td>7.61</td>\n",
       "      <td>341.542</td>\n",
       "      <td>7.83</td>\n",
       "      <td>341.542</td>\n",
       "      <td>6.5</td>\n",
       "      <td>NaN</td>\n",
       "    </tr>\n",
       "    <tr>\n",
       "      <th>...</th>\n",
       "      <td>...</td>\n",
       "      <td>...</td>\n",
       "      <td>...</td>\n",
       "      <td>...</td>\n",
       "      <td>...</td>\n",
       "      <td>...</td>\n",
       "      <td>...</td>\n",
       "      <td>...</td>\n",
       "      <td>...</td>\n",
       "      <td>...</td>\n",
       "      <td>...</td>\n",
       "      <td>...</td>\n",
       "      <td>...</td>\n",
       "    </tr>\n",
       "    <tr>\n",
       "      <th>2043</th>\n",
       "      <td>1018.456</td>\n",
       "      <td>20.78</td>\n",
       "      <td>1018.456</td>\n",
       "      <td>30.39</td>\n",
       "      <td>1018.456</td>\n",
       "      <td>31.17</td>\n",
       "      <td>1018.456</td>\n",
       "      <td>27.61</td>\n",
       "      <td>1018.456</td>\n",
       "      <td>30.83</td>\n",
       "      <td>1018.456</td>\n",
       "      <td>29.5</td>\n",
       "      <td>NaN</td>\n",
       "    </tr>\n",
       "    <tr>\n",
       "      <th>2044</th>\n",
       "      <td>1018.741</td>\n",
       "      <td>19.78</td>\n",
       "      <td>1018.741</td>\n",
       "      <td>27.39</td>\n",
       "      <td>1018.741</td>\n",
       "      <td>27.17</td>\n",
       "      <td>1018.741</td>\n",
       "      <td>29.61</td>\n",
       "      <td>1018.741</td>\n",
       "      <td>28.83</td>\n",
       "      <td>1018.741</td>\n",
       "      <td>28.5</td>\n",
       "      <td>NaN</td>\n",
       "    </tr>\n",
       "    <tr>\n",
       "      <th>2045</th>\n",
       "      <td>1019.026</td>\n",
       "      <td>17.78</td>\n",
       "      <td>1019.026</td>\n",
       "      <td>32.39</td>\n",
       "      <td>1019.026</td>\n",
       "      <td>30.17</td>\n",
       "      <td>1019.026</td>\n",
       "      <td>32.61</td>\n",
       "      <td>1019.026</td>\n",
       "      <td>24.83</td>\n",
       "      <td>1019.026</td>\n",
       "      <td>26.5</td>\n",
       "      <td>NaN</td>\n",
       "    </tr>\n",
       "    <tr>\n",
       "      <th>2046</th>\n",
       "      <td>1019.312</td>\n",
       "      <td>21.78</td>\n",
       "      <td>1019.312</td>\n",
       "      <td>29.39</td>\n",
       "      <td>1019.312</td>\n",
       "      <td>34.17</td>\n",
       "      <td>1019.312</td>\n",
       "      <td>34.61</td>\n",
       "      <td>1019.312</td>\n",
       "      <td>26.83</td>\n",
       "      <td>1019.312</td>\n",
       "      <td>26.5</td>\n",
       "      <td>NaN</td>\n",
       "    </tr>\n",
       "    <tr>\n",
       "      <th>2047</th>\n",
       "      <td>1019.597</td>\n",
       "      <td>19.78</td>\n",
       "      <td>1019.597</td>\n",
       "      <td>26.39</td>\n",
       "      <td>1019.597</td>\n",
       "      <td>26.17</td>\n",
       "      <td>1019.597</td>\n",
       "      <td>26.61</td>\n",
       "      <td>1019.597</td>\n",
       "      <td>25.83</td>\n",
       "      <td>1019.597</td>\n",
       "      <td>28.5</td>\n",
       "      <td>NaN</td>\n",
       "    </tr>\n",
       "  </tbody>\n",
       "</table>\n",
       "<p>2048 rows × 13 columns</p>\n",
       "</div>"
      ],
      "text/plain": [
       "            0       1         2       3         4       5         6       7   \\\n",
       "0      340.064 -198.22   340.064 -198.61   340.064 -198.83   340.064 -199.39   \n",
       "1      340.433    7.78   340.433    1.39   340.433    4.17   340.433    5.61   \n",
       "2      340.803    5.78   340.803    8.39   340.803    9.17   340.803    3.61   \n",
       "3      341.172    7.78   341.172    5.39   341.172    5.17   341.172    7.61   \n",
       "4      341.542    8.78   341.542    7.39   341.542    6.17   341.542    7.61   \n",
       "...        ...     ...       ...     ...       ...     ...       ...     ...   \n",
       "2043  1018.456   20.78  1018.456   30.39  1018.456   31.17  1018.456   27.61   \n",
       "2044  1018.741   19.78  1018.741   27.39  1018.741   27.17  1018.741   29.61   \n",
       "2045  1019.026   17.78  1019.026   32.39  1019.026   30.17  1019.026   32.61   \n",
       "2046  1019.312   21.78  1019.312   29.39  1019.312   34.17  1019.312   34.61   \n",
       "2047  1019.597   19.78  1019.597   26.39  1019.597   26.17  1019.597   26.61   \n",
       "\n",
       "            8       9         10     11  12  \n",
       "0      340.064 -199.17   340.064 -199.5 NaN  \n",
       "1      340.433    3.83   340.433    6.5 NaN  \n",
       "2      340.803    5.83   340.803    9.5 NaN  \n",
       "3      341.172    7.83   341.172    8.5 NaN  \n",
       "4      341.542    7.83   341.542    6.5 NaN  \n",
       "...        ...     ...       ...    ...  ..  \n",
       "2043  1018.456   30.83  1018.456   29.5 NaN  \n",
       "2044  1018.741   28.83  1018.741   28.5 NaN  \n",
       "2045  1019.026   24.83  1019.026   26.5 NaN  \n",
       "2046  1019.312   26.83  1019.312   26.5 NaN  \n",
       "2047  1019.597   25.83  1019.597   28.5 NaN  \n",
       "\n",
       "[2048 rows x 13 columns]"
      ]
     },
     "execution_count": 4,
     "metadata": {},
     "output_type": "execute_result"
    }
   ],
   "source": [
    "data"
   ]
  },
  {
   "cell_type": "code",
   "execution_count": 5,
   "metadata": {},
   "outputs": [
    {
     "name": "stdout",
     "output_type": "stream",
     "text": [
      "2048\n"
     ]
    },
    {
     "data": {
      "text/plain": [
       "(0.0, 10.0)"
      ]
     },
     "execution_count": 5,
     "metadata": {},
     "output_type": "execute_result"
    },
    {
     "data": {
      "image/png": "[encoded data removed]",
      "text/plain": [
       "<Figure size 640x480 with 1 Axes>"
      ]
     },
     "metadata": {},
     "output_type": "display_data"
    }
   ],
   "source": [
    "df = pd.read_csv(\"202504_data/UTF-8whitelight Murdock CMYc blue.txt\", sep='\\t', header=None)\n",
    "\n",
    "df = df.drop(columns=[2, 4, 6, 8, 10])\n",
    "data = df.iloc[1:].reset_index(drop=True)\n",
    "\n",
    "background_data = background_df.iloc[1:].reset_index(drop=True)\n",
    "avg_background = (background_data[3]+background_data[1])/2\n",
    "print(len(avg_background))\n",
    "\n",
    "for col in range(1, 11, 2):\n",
    "    plt.plot(data[0], (data[col])/avg_background)\n",
    "\n",
    "plt.xticks(\n",
    "    ticks=range(400,700,50),\n",
    "    labels=range(400,700,50)\n",
    ")\n",
    "\n",
    "plt.xlabel('wavelength (nm)')\n",
    "plt.ylabel('Normalized Values')\n",
    "plt.xlim(400,600)\n",
    "plt.ylim(0,10)"
   ]
  },
  {
   "cell_type": "code",
   "execution_count": 6,
   "metadata": {},
   "outputs": [
    {
     "data": {
      "application/vnd.microsoft.datawrangler.viewer.v0+json": {
       "columns": [
        {
         "name": "index",
         "rawType": "int64",
         "type": "integer"
        },
        {
         "name": "0",
         "rawType": "float64",
         "type": "float"
        }
       ],
       "ref": "697361c5-0d95-45cd-a871-17a669d3260f",
       "rows": [
        [
         "0",
         "-198.695"
        ],
        [
         "1",
         "2.805"
        ],
        [
         "2",
         "6.305"
        ],
        [
         "3",
         "8.805"
        ],
        [
         "4",
         "6.805"
        ],
        [
         "5",
         "9.305"
        ],
        [
         "6",
         "11.805"
        ],
        [
         "7",
         "12.305"
        ],
        [
         "8",
         "12.805"
        ],
        [
         "9",
         "15.805"
        ],
        [
         "10",
         "14.305"
        ],
        [
         "11",
         "13.305"
        ],
        [
         "12",
         "12.805"
        ],
        [
         "13",
         "14.805"
        ],
        [
         "14",
         "17.805"
        ],
        [
         "15",
         "16.805"
        ],
        [
         "16",
         "10.805"
        ],
        [
         "17",
         "11.305"
        ],
        [
         "18",
         "12.805"
        ],
        [
         "19",
         "10.305"
        ],
        [
         "20",
         "16.305"
        ],
        [
         "21",
         "12.805"
        ],
        [
         "22",
         "14.305"
        ],
        [
         "23",
         "14.305"
        ],
        [
         "24",
         "15.305"
        ],
        [
         "25",
         "13.805"
        ],
        [
         "26",
         "14.805"
        ],
        [
         "27",
         "13.805"
        ],
        [
         "28",
         "13.305"
        ],
        [
         "29",
         "15.805"
        ],
        [
         "30",
         "14.305"
        ],
        [
         "31",
         "17.805"
        ],
        [
         "32",
         "17.305"
        ],
        [
         "33",
         "13.805"
        ],
        [
         "34",
         "18.305"
        ],
        [
         "35",
         "17.305"
        ],
        [
         "36",
         "14.805"
        ],
        [
         "37",
         "14.305"
        ],
        [
         "38",
         "14.305"
        ],
        [
         "39",
         "16.305"
        ],
        [
         "40",
         "12.805"
        ],
        [
         "41",
         "13.805"
        ],
        [
         "42",
         "17.305"
        ],
        [
         "43",
         "11.805"
        ],
        [
         "44",
         "17.805"
        ],
        [
         "45",
         "13.805"
        ],
        [
         "46",
         "16.805"
        ],
        [
         "47",
         "17.305"
        ],
        [
         "48",
         "12.805"
        ],
        [
         "49",
         "14.305"
        ]
       ],
       "shape": {
        "columns": 1,
        "rows": 2048
       }
      },
      "text/plain": [
       "0      -198.695\n",
       "1         2.805\n",
       "2         6.305\n",
       "3         8.805\n",
       "4         6.805\n",
       "         ...   \n",
       "2043     27.805\n",
       "2044     24.805\n",
       "2045     24.305\n",
       "2046     25.805\n",
       "2047     25.805\n",
       "Length: 2048, dtype: float64"
      ]
     },
     "execution_count": 6,
     "metadata": {},
     "output_type": "execute_result"
    }
   ],
   "source": [
    "background_data = data = background_df.iloc[1:].reset_index(drop=True)\n",
    "avg_background = (background_data[3]+background_data[1])/2\n",
    "avg_background\n"
   ]
  }
 ],
 "metadata": {
  "kernelspec": {
   "display_name": "bee_mapping",
   "language": "python",
   "name": "python3"
  },
  "language_info": {
   "codemirror_mode": {
    "name": "ipython",
    "version": 3
   },
   "file_extension": ".py",
   "mimetype": "text/x-python",
   "name": "python",
   "nbconvert_exporter": "python",
   "pygments_lexer": "ipython3",
   "version": "3.12.0"
  }
 },
 "nbformat": 4,
 "nbformat_minor": 2
}
