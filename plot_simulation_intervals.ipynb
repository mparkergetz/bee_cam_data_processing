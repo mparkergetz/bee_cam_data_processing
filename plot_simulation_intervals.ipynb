{
 "cells": [
  {
   "cell_type": "code",
   "execution_count": 11,
   "metadata": {},
   "outputs": [],
   "source": [
    "import pandas as pd\n",
    "import matplotlib.pyplot as plt\n",
    "import matplotlib\n",
    "import seaborn as sns\n",
    "import numpy as np\n",
    "\n",
    "matplotlib.rcParams['font.family'] = 'Nimbus Sans'\n",
    "plt.rcParams['font.size'] = 10"
   ]
  },
  {
   "cell_type": "code",
   "execution_count": 15,
   "metadata": {},
   "outputs": [],
   "source": [
    "# df = pd.read_csv('simresults_int_10000.csv')\n",
    "df = pd.read_csv('simresults_clover_10000.csv')\n",
    "\n",
    "# observed_values = {\n",
    "#     'yel': 34,\n",
    "#     'grn': 68,\n",
    "#     'blu': 39,\n",
    "#     'cnt': 94,\n",
    "#     'blv': 60\n",
    "# }\n",
    "\n",
    "observed_values = { # FOR CLOVER ONLY\n",
    "    'yel': 32,\n",
    "    'grn': 68,\n",
    "    'blu': 36,\n",
    "    'cnt': 91,\n",
    "    'blv': 52\n",
    "}\n",
    "\n",
    "\n",
    "color_map = {\n",
    "    'cnt': 'm',\n",
    "    'blu': 'b',\n",
    "    'blv': 'c',\n",
    "    'grn': 'g',\n",
    "    'yel': 'y',\n",
    "    'red': 'r'\n",
    "}\n",
    "\n",
    "name_map = {\n",
    "    'cnt': 'Contrast + UVF',\n",
    "    'blu': 'Blue',\n",
    "    'blv': 'Blue + UVF',\n",
    "    'grn': 'Green',\n",
    "    'yel': 'Yellow'\n",
    "}"
   ]
  },
  {
   "cell_type": "code",
   "execution_count": 16,
   "metadata": {},
   "outputs": [
    {
     "data": {
      "image/png": "[encoded data removed]",
      "text/plain": [
       "<Figure size 450x175 with 1 Axes>"
      ]
     },
     "metadata": {},
     "output_type": "display_data"
    }
   ],
   "source": [
    "# new_order = ['cnt', 'blv', 'blu', 'grn', 'yel']\n",
    "new_order = ['yel', 'grn', 'blu', 'blv', 'cnt']\n",
    "plt.figure(figsize=(4.5, 1.75))\n",
    "\n",
    "for i, col in enumerate(new_order):\n",
    "    data = df[col].dropna()\n",
    "    min_val, max_val = data.min(), data.max()\n",
    "    observed = observed_values[col]\n",
    "    ci_low, ci_high = np.percentile(data, [2.5, 97.5])\n",
    "    # plt.hlines(y=i, xmin=min_val, xmax=max_val, color=color_map[col], linewidth=1)\n",
    "    plt.hlines(y=i, xmin=ci_low, xmax=ci_high, color=color_map[col], linewidth=2)\n",
    "    plt.plot(observed, i + 0.4, marker='v', color=color_map[col], markersize=6)\n",
    "\n",
    "plt.yticks(ticks=range(len(new_order)), labels=new_order)\n",
    "mapped_labels = [name_map.get(col, col) for col in new_order]\n",
    "plt.yticks(ticks=range(len(new_order)), labels=mapped_labels)\n",
    "plt.xlabel('Number of recorded visits')\n",
    "# plt.ylabel('Lure color')\n",
    "plt.tight_layout()\n",
    "# plt.savefig('figs/simulation_line_interval.png', format='png', dpi=300)\n",
    "plt.savefig('figs/simulation_line_interval_clover.svg', format='svg')"
   ]
  },
  {
   "cell_type": "code",
   "execution_count": 4,
   "metadata": {},
   "outputs": [
    {
     "data": {
      "application/vnd.microsoft.datawrangler.viewer.v0+json": {
       "columns": [
        {
         "name": "index",
         "rawType": "object",
         "type": "string"
        },
        {
         "name": "p-value",
         "rawType": "float64",
         "type": "float"
        }
       ],
       "ref": "2e27a4a5-f24a-4596-8108-121749b1ef28",
       "rows": [
        [
         "Blue",
         "0.4992"
        ],
        [
         "Blue + UV",
         "0.2048"
        ],
        [
         "Contrast + UV",
         "0.0"
        ],
        [
         "Green",
         "0.0138"
        ],
        [
         "Yellow",
         "0.0018"
        ]
       ],
       "shape": {
        "columns": 1,
        "rows": 5
       }
      },
      "text/html": [
       "<div>\n",
       "<style scoped>\n",
       "    .dataframe tbody tr th:only-of-type {\n",
       "        vertical-align: middle;\n",
       "    }\n",
       "\n",
       "    .dataframe tbody tr th {\n",
       "        vertical-align: top;\n",
       "    }\n",
       "\n",
       "    .dataframe thead th {\n",
       "        text-align: right;\n",
       "    }\n",
       "</style>\n",
       "<table border=\"1\" class=\"dataframe\">\n",
       "  <thead>\n",
       "    <tr style=\"text-align: right;\">\n",
       "      <th></th>\n",
       "      <th>p-value</th>\n",
       "    </tr>\n",
       "  </thead>\n",
       "  <tbody>\n",
       "    <tr>\n",
       "      <th>Blue</th>\n",
       "      <td>0.4992</td>\n",
       "    </tr>\n",
       "    <tr>\n",
       "      <th>Blue + UV</th>\n",
       "      <td>0.2048</td>\n",
       "    </tr>\n",
       "    <tr>\n",
       "      <th>Contrast + UV</th>\n",
       "      <td>0.0000</td>\n",
       "    </tr>\n",
       "    <tr>\n",
       "      <th>Green</th>\n",
       "      <td>0.0138</td>\n",
       "    </tr>\n",
       "    <tr>\n",
       "      <th>Yellow</th>\n",
       "      <td>0.0018</td>\n",
       "    </tr>\n",
       "  </tbody>\n",
       "</table>\n",
       "</div>"
      ],
      "text/plain": [
       "               p-value\n",
       "Blue            0.4992\n",
       "Blue + UV       0.2048\n",
       "Contrast + UV   0.0000\n",
       "Green           0.0138\n",
       "Yellow          0.0018"
      ]
     },
     "execution_count": 4,
     "metadata": {},
     "output_type": "execute_result"
    }
   ],
   "source": [
    "p_values = {}\n",
    "\n",
    "for col in new_order:\n",
    "    data = df[col].dropna()\n",
    "    observed = observed_values[col]\n",
    "    p_val = (np.sum(data >= observed) if observed > np.median(data) \n",
    "             else np.sum(data <= observed)) / len(data)\n",
    "    p_val *= 2 \n",
    "    p_values[col] = min(p_val, 1.0)\n",
    "\n",
    "mapped_p_values = {name_map.get(col, col): p for col, p in p_values.items()}\n",
    "\n",
    "pval_df = pd.DataFrame.from_dict(mapped_p_values, orient='index', columns=['p-value'])\n",
    "pval_df = pval_df.sort_index()\n",
    "pval_df"
   ]
  },
  {
   "cell_type": "code",
   "execution_count": 5,
   "metadata": {},
   "outputs": [
    {
     "data": {
      "application/vnd.microsoft.datawrangler.viewer.v0+json": {
       "columns": [
        {
         "name": "index",
         "rawType": "object",
         "type": "string"
        },
        {
         "name": "Observed",
         "rawType": "int64",
         "type": "integer"
        },
        {
         "name": "Median of Sim",
         "rawType": "float64",
         "type": "float"
        },
        {
         "name": "Direction",
         "rawType": "object",
         "type": "string"
        },
        {
         "name": "Two-tailed p-value",
         "rawType": "float64",
         "type": "float"
        }
       ],
       "ref": "16619f98-c1f2-4347-af98-49b930b66a33",
       "rows": [
        [
         "Yellow",
         "32",
         "51.0",
         "lower",
         "0.0018"
        ],
        [
         "Green",
         "68",
         "51.0",
         "higher",
         "0.0138"
        ],
        [
         "Blue",
         "36",
         "40.0",
         "lower",
         "0.4992"
        ],
        [
         "Blue + UV",
         "52",
         "44.0",
         "higher",
         "0.2048"
        ],
        [
         "Contrast + UV",
         "91",
         "53.0",
         "higher",
         "0.0"
        ]
       ],
       "shape": {
        "columns": 4,
        "rows": 5
       }
      },
      "text/html": [
       "<div>\n",
       "<style scoped>\n",
       "    .dataframe tbody tr th:only-of-type {\n",
       "        vertical-align: middle;\n",
       "    }\n",
       "\n",
       "    .dataframe tbody tr th {\n",
       "        vertical-align: top;\n",
       "    }\n",
       "\n",
       "    .dataframe thead th {\n",
       "        text-align: right;\n",
       "    }\n",
       "</style>\n",
       "<table border=\"1\" class=\"dataframe\">\n",
       "  <thead>\n",
       "    <tr style=\"text-align: right;\">\n",
       "      <th></th>\n",
       "      <th>Observed</th>\n",
       "      <th>Median of Sim</th>\n",
       "      <th>Direction</th>\n",
       "      <th>Two-tailed p-value</th>\n",
       "    </tr>\n",
       "  </thead>\n",
       "  <tbody>\n",
       "    <tr>\n",
       "      <th>Yellow</th>\n",
       "      <td>32</td>\n",
       "      <td>51.0</td>\n",
       "      <td>lower</td>\n",
       "      <td>0.0018</td>\n",
       "    </tr>\n",
       "    <tr>\n",
       "      <th>Green</th>\n",
       "      <td>68</td>\n",
       "      <td>51.0</td>\n",
       "      <td>higher</td>\n",
       "      <td>0.0138</td>\n",
       "    </tr>\n",
       "    <tr>\n",
       "      <th>Blue</th>\n",
       "      <td>36</td>\n",
       "      <td>40.0</td>\n",
       "      <td>lower</td>\n",
       "      <td>0.4992</td>\n",
       "    </tr>\n",
       "    <tr>\n",
       "      <th>Blue + UV</th>\n",
       "      <td>52</td>\n",
       "      <td>44.0</td>\n",
       "      <td>higher</td>\n",
       "      <td>0.2048</td>\n",
       "    </tr>\n",
       "    <tr>\n",
       "      <th>Contrast + UV</th>\n",
       "      <td>91</td>\n",
       "      <td>53.0</td>\n",
       "      <td>higher</td>\n",
       "      <td>0.0000</td>\n",
       "    </tr>\n",
       "  </tbody>\n",
       "</table>\n",
       "</div>"
      ],
      "text/plain": [
       "               Observed  Median of Sim Direction  Two-tailed p-value\n",
       "Yellow               32           51.0     lower              0.0018\n",
       "Green                68           51.0    higher              0.0138\n",
       "Blue                 36           40.0     lower              0.4992\n",
       "Blue + UV            52           44.0    higher              0.2048\n",
       "Contrast + UV        91           53.0    higher              0.0000"
      ]
     },
     "execution_count": 5,
     "metadata": {},
     "output_type": "execute_result"
    }
   ],
   "source": [
    "p_values = {}\n",
    "directions = {}\n",
    "\n",
    "for col in new_order:\n",
    "    sim_data = df[col].dropna()\n",
    "    obs = observed_values[col]\n",
    "    median = np.median(sim_data)\n",
    "\n",
    "    if obs > median:\n",
    "        p = np.sum(sim_data >= obs) / len(sim_data)\n",
    "    else:\n",
    "        p = np.sum(sim_data <= obs) / len(sim_data)\n",
    "\n",
    "    p = min(p * 2, 1.0)\n",
    "    p_values[col] = p\n",
    "\n",
    "    directions[col] = \"higher\" if obs > median else \"lower\"\n",
    "\n",
    "results_df = pd.DataFrame({\n",
    "    'Observed': observed_values,\n",
    "    'Median of Sim': df.median(),\n",
    "    'Direction': directions,\n",
    "    'Two-tailed p-value': p_values\n",
    "}).loc[new_order]\n",
    "\n",
    "results_df.index = [name_map.get(c, c) for c in results_df.index]\n",
    "results_df"
   ]
  },
  {
   "cell_type": "code",
   "execution_count": 6,
   "metadata": {},
   "outputs": [
    {
     "data": {
      "application/vnd.microsoft.datawrangler.viewer.v0+json": {
       "columns": [
        {
         "name": "index",
         "rawType": "object",
         "type": "string"
        },
        {
         "name": "Observed",
         "rawType": "int64",
         "type": "integer"
        },
        {
         "name": "Median of Sim",
         "rawType": "float64",
         "type": "float"
        },
        {
         "name": "Direction",
         "rawType": "object",
         "type": "string"
        },
        {
         "name": "Raw p-value",
         "rawType": "float64",
         "type": "float"
        },
        {
         "name": "Bonferroni adj p",
         "rawType": "float64",
         "type": "float"
        },
        {
         "name": "Bonferroni reject (α=0.05)",
         "rawType": "bool",
         "type": "boolean"
        },
        {
         "name": "FDR adj p",
         "rawType": "float64",
         "type": "float"
        },
        {
         "name": "FDR reject (α=0.05)",
         "rawType": "bool",
         "type": "boolean"
        }
       ],
       "ref": "9a15540c-02b7-4179-92fe-baf38a7b4ebf",
       "rows": [
        [
         "Yellow",
         "32",
         "51.0",
         "lower",
         "0.0018",
         "0.009",
         "True",
         "0.0045",
         "True"
        ],
        [
         "Green",
         "68",
         "51.0",
         "higher",
         "0.0138",
         "0.069",
         "False",
         "0.023",
         "True"
        ],
        [
         "Blue",
         "36",
         "40.0",
         "lower",
         "0.4992",
         "1.0",
         "False",
         "0.4992",
         "False"
        ],
        [
         "Blue + UV",
         "52",
         "44.0",
         "higher",
         "0.2048",
         "1.0",
         "False",
         "0.256",
         "False"
        ],
        [
         "Contrast + UV",
         "91",
         "53.0",
         "higher",
         "0.0",
         "0.0",
         "True",
         "0.0",
         "True"
        ]
       ],
       "shape": {
        "columns": 8,
        "rows": 5
       }
      },
      "text/html": [
       "<div>\n",
       "<style scoped>\n",
       "    .dataframe tbody tr th:only-of-type {\n",
       "        vertical-align: middle;\n",
       "    }\n",
       "\n",
       "    .dataframe tbody tr th {\n",
       "        vertical-align: top;\n",
       "    }\n",
       "\n",
       "    .dataframe thead th {\n",
       "        text-align: right;\n",
       "    }\n",
       "</style>\n",
       "<table border=\"1\" class=\"dataframe\">\n",
       "  <thead>\n",
       "    <tr style=\"text-align: right;\">\n",
       "      <th></th>\n",
       "      <th>Observed</th>\n",
       "      <th>Median of Sim</th>\n",
       "      <th>Direction</th>\n",
       "      <th>Raw p-value</th>\n",
       "      <th>Bonferroni adj p</th>\n",
       "      <th>Bonferroni reject (α=0.05)</th>\n",
       "      <th>FDR adj p</th>\n",
       "      <th>FDR reject (α=0.05)</th>\n",
       "    </tr>\n",
       "  </thead>\n",
       "  <tbody>\n",
       "    <tr>\n",
       "      <th>Yellow</th>\n",
       "      <td>32</td>\n",
       "      <td>51.0</td>\n",
       "      <td>lower</td>\n",
       "      <td>0.0018</td>\n",
       "      <td>0.009</td>\n",
       "      <td>True</td>\n",
       "      <td>0.0045</td>\n",
       "      <td>True</td>\n",
       "    </tr>\n",
       "    <tr>\n",
       "      <th>Green</th>\n",
       "      <td>68</td>\n",
       "      <td>51.0</td>\n",
       "      <td>higher</td>\n",
       "      <td>0.0138</td>\n",
       "      <td>0.069</td>\n",
       "      <td>False</td>\n",
       "      <td>0.0230</td>\n",
       "      <td>True</td>\n",
       "    </tr>\n",
       "    <tr>\n",
       "      <th>Blue</th>\n",
       "      <td>36</td>\n",
       "      <td>40.0</td>\n",
       "      <td>lower</td>\n",
       "      <td>0.4992</td>\n",
       "      <td>1.000</td>\n",
       "      <td>False</td>\n",
       "      <td>0.4992</td>\n",
       "      <td>False</td>\n",
       "    </tr>\n",
       "    <tr>\n",
       "      <th>Blue + UV</th>\n",
       "      <td>52</td>\n",
       "      <td>44.0</td>\n",
       "      <td>higher</td>\n",
       "      <td>0.2048</td>\n",
       "      <td>1.000</td>\n",
       "      <td>False</td>\n",
       "      <td>0.2560</td>\n",
       "      <td>False</td>\n",
       "    </tr>\n",
       "    <tr>\n",
       "      <th>Contrast + UV</th>\n",
       "      <td>91</td>\n",
       "      <td>53.0</td>\n",
       "      <td>higher</td>\n",
       "      <td>0.0000</td>\n",
       "      <td>0.000</td>\n",
       "      <td>True</td>\n",
       "      <td>0.0000</td>\n",
       "      <td>True</td>\n",
       "    </tr>\n",
       "  </tbody>\n",
       "</table>\n",
       "</div>"
      ],
      "text/plain": [
       "               Observed  Median of Sim Direction  Raw p-value  \\\n",
       "Yellow               32           51.0     lower       0.0018   \n",
       "Green                68           51.0    higher       0.0138   \n",
       "Blue                 36           40.0     lower       0.4992   \n",
       "Blue + UV            52           44.0    higher       0.2048   \n",
       "Contrast + UV        91           53.0    higher       0.0000   \n",
       "\n",
       "               Bonferroni adj p  Bonferroni reject (α=0.05)  FDR adj p  \\\n",
       "Yellow                    0.009                        True     0.0045   \n",
       "Green                     0.069                       False     0.0230   \n",
       "Blue                      1.000                       False     0.4992   \n",
       "Blue + UV                 1.000                       False     0.2560   \n",
       "Contrast + UV             0.000                        True     0.0000   \n",
       "\n",
       "               FDR reject (α=0.05)  \n",
       "Yellow                        True  \n",
       "Green                         True  \n",
       "Blue                         False  \n",
       "Blue + UV                    False  \n",
       "Contrast + UV                 True  "
      ]
     },
     "execution_count": 6,
     "metadata": {},
     "output_type": "execute_result"
    }
   ],
   "source": [
    "from statsmodels.stats.multitest import multipletests\n",
    "\n",
    "raw_pvals = [p_values[col] for col in new_order]\n",
    "bonf_reject, bonf_pvals, _, _ = multipletests(raw_pvals, method='bonferroni')\n",
    "fdr_reject, fdr_pvals, _, _ = multipletests(raw_pvals, method='fdr_bh')\n",
    "\n",
    "adj_results_df = pd.DataFrame({\n",
    "    'Observed': [observed_values[col] for col in new_order],\n",
    "    'Median of Sim': [df[col].median() for col in new_order],\n",
    "    'Direction': [directions[col] for col in new_order],\n",
    "    'Raw p-value': raw_pvals,\n",
    "    'Bonferroni adj p': bonf_pvals,\n",
    "    'Bonferroni reject (α=0.05)': bonf_reject,\n",
    "    'FDR adj p': fdr_pvals,\n",
    "    'FDR reject (α=0.05)': fdr_reject\n",
    "}, index=[name_map.get(col, col) for col in new_order])\n",
    "\n",
    "adj_results_df"
   ]
  }
 ],
 "metadata": {
  "kernelspec": {
   "display_name": "bee_mapping",
   "language": "python",
   "name": "python3"
  },
  "language_info": {
   "codemirror_mode": {
    "name": "ipython",
    "version": 3
   },
   "file_extension": ".py",
   "mimetype": "text/x-python",
   "name": "python",
   "nbconvert_exporter": "python",
   "pygments_lexer": "ipython3",
   "version": "3.12.0"
  }
 },
 "nbformat": 4,
 "nbformat_minor": 2
}
