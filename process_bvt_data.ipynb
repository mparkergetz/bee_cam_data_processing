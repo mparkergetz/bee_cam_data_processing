{
 "cells": [
  {
   "cell_type": "code",
   "execution_count": 1,
   "metadata": {},
   "outputs": [],
   "source": [
    "import pandas as pd\n",
    "import matplotlib.pyplot as plt\n",
    "from scipy.stats import entropy\n",
    "import numpy as np"
   ]
  },
  {
   "cell_type": "code",
   "execution_count": 2,
   "metadata": {},
   "outputs": [
    {
     "data": {
      "text/plain": [
       "Collection method\n",
       "vane trap    449\n",
       "net          189\n",
       "Name: count, dtype: int64"
      ]
     },
     "execution_count": 2,
     "metadata": {},
     "output_type": "execute_result"
    }
   ],
   "source": [
    "data = pd.read_csv('csvs/Clover_Bee_occurrence_data.csv')\n",
    "bvt_data  = data[data['Collection method'] == 'vane trap'].reset_index(drop=True)\n",
    "net_data  = data[data['Collection method'] == 'net'].reset_index(drop=True)\n",
    "\n",
    "data['Collection method'].value_counts()"
   ]
  },
  {
   "cell_type": "markdown",
   "metadata": {},
   "source": []
  },
  {
   "cell_type": "code",
   "execution_count": 3,
   "metadata": {},
   "outputs": [],
   "source": [
    "bvt_taxa = bvt_data[['Order ', 'Genus', 'Species', 'Sex', 'Caste']]\n",
    "bvt_genus_counts = bvt_taxa['Genus'].value_counts()"
   ]
  },
  {
   "cell_type": "code",
   "execution_count": 4,
   "metadata": {},
   "outputs": [],
   "source": [
    "bvt_bombus_counts = bvt_taxa[bvt_taxa['Genus'] == 'Bombus']['Species'].value_counts()"
   ]
  },
  {
   "cell_type": "code",
   "execution_count": 5,
   "metadata": {},
   "outputs": [
    {
     "data": {
      "text/html": [
       "<div>\n",
       "<style scoped>\n",
       "    .dataframe tbody tr th:only-of-type {\n",
       "        vertical-align: middle;\n",
       "    }\n",
       "\n",
       "    .dataframe tbody tr th {\n",
       "        vertical-align: top;\n",
       "    }\n",
       "\n",
       "    .dataframe thead th {\n",
       "        text-align: right;\n",
       "    }\n",
       "</style>\n",
       "<table border=\"1\" class=\"dataframe\">\n",
       "  <thead>\n",
       "    <tr style=\"text-align: right;\">\n",
       "      <th></th>\n",
       "      <th>Order</th>\n",
       "      <th>Genus</th>\n",
       "      <th>Species</th>\n",
       "      <th>Sex</th>\n",
       "      <th>Caste</th>\n",
       "    </tr>\n",
       "  </thead>\n",
       "  <tbody>\n",
       "    <tr>\n",
       "      <th>0</th>\n",
       "      <td>Hymenoptera</td>\n",
       "      <td>Bombus</td>\n",
       "      <td>griseocollis</td>\n",
       "      <td>female</td>\n",
       "      <td>gyne</td>\n",
       "    </tr>\n",
       "    <tr>\n",
       "      <th>3</th>\n",
       "      <td>Hymenoptera</td>\n",
       "      <td>Bombus</td>\n",
       "      <td>vosnesenskii</td>\n",
       "      <td>female</td>\n",
       "      <td>worker</td>\n",
       "    </tr>\n",
       "    <tr>\n",
       "      <th>4</th>\n",
       "      <td>Hymenoptera</td>\n",
       "      <td>Bombus</td>\n",
       "      <td>vosnesenskii</td>\n",
       "      <td>female</td>\n",
       "      <td>worker</td>\n",
       "    </tr>\n",
       "    <tr>\n",
       "      <th>5</th>\n",
       "      <td>Hymenoptera</td>\n",
       "      <td>Bombus</td>\n",
       "      <td>vosnesenskii</td>\n",
       "      <td>male</td>\n",
       "      <td>drone</td>\n",
       "    </tr>\n",
       "    <tr>\n",
       "      <th>6</th>\n",
       "      <td>Hymenoptera</td>\n",
       "      <td>Bombus</td>\n",
       "      <td>vosnesenskii</td>\n",
       "      <td>female</td>\n",
       "      <td>worker</td>\n",
       "    </tr>\n",
       "    <tr>\n",
       "      <th>...</th>\n",
       "      <td>...</td>\n",
       "      <td>...</td>\n",
       "      <td>...</td>\n",
       "      <td>...</td>\n",
       "      <td>...</td>\n",
       "    </tr>\n",
       "    <tr>\n",
       "      <th>392</th>\n",
       "      <td>Hymenoptera</td>\n",
       "      <td>Bombus</td>\n",
       "      <td>vosnesenskii</td>\n",
       "      <td>male</td>\n",
       "      <td>drone</td>\n",
       "    </tr>\n",
       "    <tr>\n",
       "      <th>393</th>\n",
       "      <td>Hymenoptera</td>\n",
       "      <td>Bombus</td>\n",
       "      <td>vosnesenskii</td>\n",
       "      <td>female</td>\n",
       "      <td>worker</td>\n",
       "    </tr>\n",
       "    <tr>\n",
       "      <th>394</th>\n",
       "      <td>Hymenoptera</td>\n",
       "      <td>Bombus</td>\n",
       "      <td>vosnesenskii</td>\n",
       "      <td>female</td>\n",
       "      <td>worker</td>\n",
       "    </tr>\n",
       "    <tr>\n",
       "      <th>395</th>\n",
       "      <td>Hymenoptera</td>\n",
       "      <td>Bombus</td>\n",
       "      <td>fervidus</td>\n",
       "      <td>female</td>\n",
       "      <td>worker</td>\n",
       "    </tr>\n",
       "    <tr>\n",
       "      <th>448</th>\n",
       "      <td>Hymenoptera</td>\n",
       "      <td>Bombus</td>\n",
       "      <td>nevadensis</td>\n",
       "      <td>male</td>\n",
       "      <td>drone</td>\n",
       "    </tr>\n",
       "  </tbody>\n",
       "</table>\n",
       "<p>130 rows × 5 columns</p>\n",
       "</div>"
      ],
      "text/plain": [
       "          Order    Genus       Species     Sex   Caste\n",
       "0    Hymenoptera  Bombus  griseocollis  female    gyne\n",
       "3    Hymenoptera  Bombus  vosnesenskii  female  worker\n",
       "4    Hymenoptera  Bombus  vosnesenskii  female  worker\n",
       "5    Hymenoptera  Bombus  vosnesenskii    male   drone\n",
       "6    Hymenoptera  Bombus  vosnesenskii  female  worker\n",
       "..           ...     ...           ...     ...     ...\n",
       "392  Hymenoptera  Bombus  vosnesenskii    male   drone\n",
       "393  Hymenoptera  Bombus  vosnesenskii  female  worker\n",
       "394  Hymenoptera  Bombus  vosnesenskii  female  worker\n",
       "395  Hymenoptera  Bombus      fervidus  female  worker\n",
       "448  Hymenoptera  Bombus    nevadensis    male   drone\n",
       "\n",
       "[130 rows x 5 columns]"
      ]
     },
     "execution_count": 5,
     "metadata": {},
     "output_type": "execute_result"
    }
   ],
   "source": [
    "bvt_taxa[bvt_taxa['Genus'] == 'Bombus']"
   ]
  },
  {
   "cell_type": "code",
   "execution_count": 20,
   "metadata": {},
   "outputs": [
    {
     "data": {
      "text/html": [
       "<div>\n",
       "<style scoped>\n",
       "    .dataframe tbody tr th:only-of-type {\n",
       "        vertical-align: middle;\n",
       "    }\n",
       "\n",
       "    .dataframe tbody tr th {\n",
       "        vertical-align: top;\n",
       "    }\n",
       "\n",
       "    .dataframe thead th {\n",
       "        text-align: right;\n",
       "    }\n",
       "</style>\n",
       "<table border=\"1\" class=\"dataframe\">\n",
       "  <thead>\n",
       "    <tr style=\"text-align: right;\">\n",
       "      <th></th>\n",
       "      <th>Order</th>\n",
       "      <th>Genus</th>\n",
       "      <th>Species</th>\n",
       "      <th>Sex</th>\n",
       "      <th>Caste</th>\n",
       "    </tr>\n",
       "  </thead>\n",
       "  <tbody>\n",
       "    <tr>\n",
       "      <th>96</th>\n",
       "      <td>Hymenoptera</td>\n",
       "      <td>Apis</td>\n",
       "      <td>mellifera</td>\n",
       "      <td>female</td>\n",
       "      <td>worker</td>\n",
       "    </tr>\n",
       "    <tr>\n",
       "      <th>158</th>\n",
       "      <td>Hymenoptera</td>\n",
       "      <td>Apis</td>\n",
       "      <td>mellifera</td>\n",
       "      <td>female</td>\n",
       "      <td>worker</td>\n",
       "    </tr>\n",
       "    <tr>\n",
       "      <th>320</th>\n",
       "      <td>Hymenoptera</td>\n",
       "      <td>Apis</td>\n",
       "      <td>mellifera</td>\n",
       "      <td>female</td>\n",
       "      <td>worker</td>\n",
       "    </tr>\n",
       "    <tr>\n",
       "      <th>322</th>\n",
       "      <td>Hymenoptera</td>\n",
       "      <td>Apis</td>\n",
       "      <td>mellifera</td>\n",
       "      <td>female</td>\n",
       "      <td>worker</td>\n",
       "    </tr>\n",
       "    <tr>\n",
       "      <th>323</th>\n",
       "      <td>Hymenoptera</td>\n",
       "      <td>Apis</td>\n",
       "      <td>mellifera</td>\n",
       "      <td>female</td>\n",
       "      <td>worker</td>\n",
       "    </tr>\n",
       "    <tr>\n",
       "      <th>324</th>\n",
       "      <td>Hymenoptera</td>\n",
       "      <td>Apis</td>\n",
       "      <td>mellifera</td>\n",
       "      <td>female</td>\n",
       "      <td>worker</td>\n",
       "    </tr>\n",
       "    <tr>\n",
       "      <th>325</th>\n",
       "      <td>Hymenoptera</td>\n",
       "      <td>Apis</td>\n",
       "      <td>mellifera</td>\n",
       "      <td>female</td>\n",
       "      <td>worker</td>\n",
       "    </tr>\n",
       "    <tr>\n",
       "      <th>326</th>\n",
       "      <td>Hymenoptera</td>\n",
       "      <td>Apis</td>\n",
       "      <td>mellifera</td>\n",
       "      <td>female</td>\n",
       "      <td>worker</td>\n",
       "    </tr>\n",
       "    <tr>\n",
       "      <th>349</th>\n",
       "      <td>Hymenoptera</td>\n",
       "      <td>Apis</td>\n",
       "      <td>mellifera</td>\n",
       "      <td>female</td>\n",
       "      <td>worker</td>\n",
       "    </tr>\n",
       "    <tr>\n",
       "      <th>352</th>\n",
       "      <td>Hymenoptera</td>\n",
       "      <td>Apis</td>\n",
       "      <td>mellifera</td>\n",
       "      <td>female</td>\n",
       "      <td>worker</td>\n",
       "    </tr>\n",
       "  </tbody>\n",
       "</table>\n",
       "</div>"
      ],
      "text/plain": [
       "          Order  Genus    Species     Sex   Caste\n",
       "96   Hymenoptera  Apis  mellifera  female  worker\n",
       "158  Hymenoptera  Apis  mellifera  female  worker\n",
       "320  Hymenoptera  Apis  mellifera  female  worker\n",
       "322  Hymenoptera  Apis  mellifera  female  worker\n",
       "323  Hymenoptera  Apis  mellifera  female  worker\n",
       "324  Hymenoptera  Apis  mellifera  female  worker\n",
       "325  Hymenoptera  Apis  mellifera  female  worker\n",
       "326  Hymenoptera  Apis  mellifera  female  worker\n",
       "349  Hymenoptera  Apis  mellifera  female  worker\n",
       "352  Hymenoptera  Apis  mellifera  female  worker"
      ]
     },
     "execution_count": 20,
     "metadata": {},
     "output_type": "execute_result"
    }
   ],
   "source": [
    "bvt_taxa[bvt_taxa['Genus'] == 'Apis']"
   ]
  },
  {
   "cell_type": "code",
   "execution_count": 6,
   "metadata": {},
   "outputs": [],
   "source": [
    "# bvt_taxa[bvt_taxa['Genus'] == 'Osmia']['Species'].value_counts()"
   ]
  },
  {
   "cell_type": "code",
   "execution_count": 7,
   "metadata": {},
   "outputs": [],
   "source": [
    "net_taxa = net_data[['Order ', 'Genus', 'Species', 'Sex', 'Caste']]\n",
    "net_genus_counts = net_taxa['Genus'].value_counts()"
   ]
  },
  {
   "cell_type": "code",
   "execution_count": 8,
   "metadata": {},
   "outputs": [
    {
     "data": {
      "text/html": [
       "<div>\n",
       "<style scoped>\n",
       "    .dataframe tbody tr th:only-of-type {\n",
       "        vertical-align: middle;\n",
       "    }\n",
       "\n",
       "    .dataframe tbody tr th {\n",
       "        vertical-align: top;\n",
       "    }\n",
       "\n",
       "    .dataframe thead th {\n",
       "        text-align: right;\n",
       "    }\n",
       "</style>\n",
       "<table border=\"1\" class=\"dataframe\">\n",
       "  <thead>\n",
       "    <tr style=\"text-align: right;\">\n",
       "      <th></th>\n",
       "      <th>Order</th>\n",
       "      <th>Genus</th>\n",
       "      <th>Species</th>\n",
       "      <th>Sex</th>\n",
       "      <th>Caste</th>\n",
       "    </tr>\n",
       "  </thead>\n",
       "  <tbody>\n",
       "    <tr>\n",
       "      <th>0</th>\n",
       "      <td>Hymenoptera</td>\n",
       "      <td>Bombus</td>\n",
       "      <td>fervidus</td>\n",
       "      <td>female</td>\n",
       "      <td>worker</td>\n",
       "    </tr>\n",
       "    <tr>\n",
       "      <th>1</th>\n",
       "      <td>Hymenoptera</td>\n",
       "      <td>Bombus</td>\n",
       "      <td>vosnesenskii</td>\n",
       "      <td>female</td>\n",
       "      <td>worker</td>\n",
       "    </tr>\n",
       "    <tr>\n",
       "      <th>2</th>\n",
       "      <td>Hymenoptera</td>\n",
       "      <td>Bombus</td>\n",
       "      <td>appositus</td>\n",
       "      <td>female</td>\n",
       "      <td>worker</td>\n",
       "    </tr>\n",
       "    <tr>\n",
       "      <th>3</th>\n",
       "      <td>Hymenoptera</td>\n",
       "      <td>Bombus</td>\n",
       "      <td>fervidus</td>\n",
       "      <td>female</td>\n",
       "      <td>worker</td>\n",
       "    </tr>\n",
       "    <tr>\n",
       "      <th>4</th>\n",
       "      <td>Hymenoptera</td>\n",
       "      <td>Bombus</td>\n",
       "      <td>fervidus</td>\n",
       "      <td>female</td>\n",
       "      <td>worker</td>\n",
       "    </tr>\n",
       "    <tr>\n",
       "      <th>...</th>\n",
       "      <td>...</td>\n",
       "      <td>...</td>\n",
       "      <td>...</td>\n",
       "      <td>...</td>\n",
       "      <td>...</td>\n",
       "    </tr>\n",
       "    <tr>\n",
       "      <th>184</th>\n",
       "      <td>Hymenoptera</td>\n",
       "      <td>Bombus</td>\n",
       "      <td>fervidus</td>\n",
       "      <td>female</td>\n",
       "      <td>worker</td>\n",
       "    </tr>\n",
       "    <tr>\n",
       "      <th>185</th>\n",
       "      <td>Hymenoptera</td>\n",
       "      <td>Bombus</td>\n",
       "      <td>vosnesenskii</td>\n",
       "      <td>male</td>\n",
       "      <td>drone</td>\n",
       "    </tr>\n",
       "    <tr>\n",
       "      <th>186</th>\n",
       "      <td>Hymenoptera</td>\n",
       "      <td>Bombus</td>\n",
       "      <td>vosnesenskii</td>\n",
       "      <td>male</td>\n",
       "      <td>drone</td>\n",
       "    </tr>\n",
       "    <tr>\n",
       "      <th>187</th>\n",
       "      <td>Hymenoptera</td>\n",
       "      <td>Bombus</td>\n",
       "      <td>vosnesenskii</td>\n",
       "      <td>male</td>\n",
       "      <td>drone</td>\n",
       "    </tr>\n",
       "    <tr>\n",
       "      <th>188</th>\n",
       "      <td>Hymenoptera</td>\n",
       "      <td>Bombus</td>\n",
       "      <td>fervidus</td>\n",
       "      <td>female</td>\n",
       "      <td>worker</td>\n",
       "    </tr>\n",
       "  </tbody>\n",
       "</table>\n",
       "<p>176 rows × 5 columns</p>\n",
       "</div>"
      ],
      "text/plain": [
       "          Order    Genus       Species     Sex   Caste\n",
       "0    Hymenoptera  Bombus      fervidus  female  worker\n",
       "1    Hymenoptera  Bombus  vosnesenskii  female  worker\n",
       "2    Hymenoptera  Bombus     appositus  female  worker\n",
       "3    Hymenoptera  Bombus      fervidus  female  worker\n",
       "4    Hymenoptera  Bombus      fervidus  female  worker\n",
       "..           ...     ...           ...     ...     ...\n",
       "184  Hymenoptera  Bombus      fervidus  female  worker\n",
       "185  Hymenoptera  Bombus  vosnesenskii    male   drone\n",
       "186  Hymenoptera  Bombus  vosnesenskii    male   drone\n",
       "187  Hymenoptera  Bombus  vosnesenskii    male   drone\n",
       "188  Hymenoptera  Bombus      fervidus  female  worker\n",
       "\n",
       "[176 rows x 5 columns]"
      ]
     },
     "execution_count": 8,
     "metadata": {},
     "output_type": "execute_result"
    }
   ],
   "source": [
    "net_taxa[net_taxa['Genus'] == 'Bombus']"
   ]
  },
  {
   "cell_type": "code",
   "execution_count": 21,
   "metadata": {},
   "outputs": [
    {
     "data": {
      "text/html": [
       "<div>\n",
       "<style scoped>\n",
       "    .dataframe tbody tr th:only-of-type {\n",
       "        vertical-align: middle;\n",
       "    }\n",
       "\n",
       "    .dataframe tbody tr th {\n",
       "        vertical-align: top;\n",
       "    }\n",
       "\n",
       "    .dataframe thead th {\n",
       "        text-align: right;\n",
       "    }\n",
       "</style>\n",
       "<table border=\"1\" class=\"dataframe\">\n",
       "  <thead>\n",
       "    <tr style=\"text-align: right;\">\n",
       "      <th></th>\n",
       "      <th>Order</th>\n",
       "      <th>Genus</th>\n",
       "      <th>Species</th>\n",
       "      <th>Sex</th>\n",
       "      <th>Caste</th>\n",
       "    </tr>\n",
       "  </thead>\n",
       "  <tbody>\n",
       "    <tr>\n",
       "      <th>91</th>\n",
       "      <td>Hymenoptera</td>\n",
       "      <td>Apis</td>\n",
       "      <td>mellifera</td>\n",
       "      <td>female</td>\n",
       "      <td>worker</td>\n",
       "    </tr>\n",
       "    <tr>\n",
       "      <th>160</th>\n",
       "      <td>Hymenoptera</td>\n",
       "      <td>Apis</td>\n",
       "      <td>mellifera</td>\n",
       "      <td>female</td>\n",
       "      <td>worker</td>\n",
       "    </tr>\n",
       "    <tr>\n",
       "      <th>174</th>\n",
       "      <td>Hymenoptera</td>\n",
       "      <td>Apis</td>\n",
       "      <td>mellifera</td>\n",
       "      <td>female</td>\n",
       "      <td>worker</td>\n",
       "    </tr>\n",
       "  </tbody>\n",
       "</table>\n",
       "</div>"
      ],
      "text/plain": [
       "          Order  Genus    Species     Sex   Caste\n",
       "91   Hymenoptera  Apis  mellifera  female  worker\n",
       "160  Hymenoptera  Apis  mellifera  female  worker\n",
       "174  Hymenoptera  Apis  mellifera  female  worker"
      ]
     },
     "execution_count": 21,
     "metadata": {},
     "output_type": "execute_result"
    }
   ],
   "source": [
    "net_taxa[net_taxa['Genus'] == 'Apis']"
   ]
  },
  {
   "cell_type": "code",
   "execution_count": 9,
   "metadata": {},
   "outputs": [],
   "source": [
    "\n",
    "net_bombus_counts = net_taxa[net_taxa['Genus'] == 'Bombus']['Species'].value_counts()"
   ]
  },
  {
   "cell_type": "code",
   "execution_count": 10,
   "metadata": {},
   "outputs": [],
   "source": [
    "# data[data['Genus'].isna()]"
   ]
  },
  {
   "cell_type": "markdown",
   "metadata": {},
   "source": [
    "### RICHNESS"
   ]
  },
  {
   "cell_type": "code",
   "execution_count": 11,
   "metadata": {},
   "outputs": [
    {
     "data": {
      "image/png": "[encoded data removed]",
      "text/plain": [
       "<Figure size 600x250 with 1 Axes>"
      ]
     },
     "metadata": {},
     "output_type": "display_data"
    }
   ],
   "source": [
    "plt.figure(figsize=(6, 2.5))\n",
    "plt.barh(net_bombus_counts.index[::-1], net_bombus_counts[::-1], color='salmon')\n",
    "plt.xlabel('Counts')\n",
    "plt.title('Netting')\n",
    "plt.tight_layout()"
   ]
  },
  {
   "cell_type": "code",
   "execution_count": 12,
   "metadata": {},
   "outputs": [
    {
     "data": {
      "image/png": "[encoded data removed]",
      "text/plain": [
       "<Figure size 600x400 with 1 Axes>"
      ]
     },
     "metadata": {},
     "output_type": "display_data"
    }
   ],
   "source": [
    "plt.figure(figsize=(6, 4))\n",
    "plt.barh(bvt_bombus_counts.index[::-1], bvt_bombus_counts[::-1])\n",
    "plt.xlabel('Counts')\n",
    "plt.title('BVT')\n",
    "plt.tight_layout()"
   ]
  },
  {
   "cell_type": "code",
   "execution_count": 13,
   "metadata": {},
   "outputs": [
    {
     "data": {
      "image/png": "[encoded data removed]",
      "text/plain": [
       "<Figure size 600x600 with 2 Axes>"
      ]
     },
     "metadata": {},
     "output_type": "display_data"
    }
   ],
   "source": [
    "fig, (ax1, ax2) = plt.subplots(2, 1, figsize=(6, 6), gridspec_kw={'height_ratios': [1, 2]}, constrained_layout=False)\n",
    "ax1.barh(net_genus_counts.index[::-1], net_genus_counts[::-1], color='salmon')\n",
    "ax1.set_title('Hand netting')\n",
    "ax1.spines['top'].set_visible(False)\n",
    "ax1.spines['right'].set_visible(False)\n",
    "# ax1.spines['bottom'].set_visible(False)  # Turn off bottom spine\n",
    "\n",
    "ax1.set_xticks([]) \n",
    "\n",
    "\n",
    "ax2.barh(bvt_genus_counts.index[::-1], bvt_genus_counts[::-1])\n",
    "ax2.set_xlabel('Counts')\n",
    "ax2.set_title('BVT', pad=-10)\n",
    " \n",
    "\n",
    "plt.tight_layout()\n",
    "plt.savefig('figs/bvt_net_genera_counts.png', format='png', dpi=300)"
   ]
  },
  {
   "cell_type": "code",
   "execution_count": 14,
   "metadata": {},
   "outputs": [
    {
     "name": "stdout",
     "output_type": "stream",
     "text": [
      " BVT genus richness:12\n",
      " BVT Bombus richness:7\n",
      " Net genus richness:6\n",
      " Net Bombus richness:5\n",
      "\n"
     ]
    }
   ],
   "source": [
    "\n",
    "\n",
    "print(f' BVT genus richness:{bvt_genus_counts.count()}\\n',\n",
    "      f'BVT Bombus richness:{bvt_bombus_counts.count()}\\n',\n",
    "      f'Net genus richness:{net_genus_counts.count()}\\n',\n",
    "      f'Net Bombus richness:{net_bombus_counts.count()}\\n'\n",
    ")"
   ]
  },
  {
   "cell_type": "markdown",
   "metadata": {},
   "source": [
    "### SHANNON DIVERSITY (range 1.2 (low) to 2.5 (moderate to high))"
   ]
  },
  {
   "cell_type": "code",
   "execution_count": 15,
   "metadata": {},
   "outputs": [
    {
     "name": "stdout",
     "output_type": "stream",
     "text": [
      " BVT genus diversity: 1.2935969323731789\n",
      " BVT Bombus diversity: 1.4699260229670823\n",
      " Net genus diversity: 0.3212740010848035\n",
      " Net Bombus diversity: 1.0237207970530864\n",
      "\n"
     ]
    }
   ],
   "source": [
    "bvt_genus_diversity = entropy(bvt_genus_counts / bvt_genus_counts.sum(), base=np.e)\n",
    "bvt_bombus_diversity = entropy(bvt_bombus_counts / bvt_bombus_counts.sum(), base=np.e)\n",
    "net_genus_diversity = entropy(net_genus_counts / net_genus_counts.sum(), base=np.e)\n",
    "net_bombus_diversity = entropy(net_bombus_counts / net_bombus_counts.sum(), base=np.e)\n",
    "\n",
    "print(f' BVT genus diversity: {bvt_genus_diversity}\\n',\n",
    "      f'BVT Bombus diversity: {bvt_bombus_diversity}\\n',\n",
    "      f'Net genus diversity: {net_genus_diversity}\\n',\n",
    "      f'Net Bombus diversity: {net_bombus_diversity}\\n'\n",
    ")"
   ]
  },
  {
   "cell_type": "code",
   "execution_count": 16,
   "metadata": {},
   "outputs": [
    {
     "data": {
      "image/png": "[encoded data removed]",
      "text/plain": [
       "<Figure size 500x350 with 1 Axes>"
      ]
     },
     "metadata": {},
     "output_type": "display_data"
    }
   ],
   "source": [
    "categories = ['BVT Genus',  'Net Genus','BVT Bombus', 'Net Bombus']\n",
    "\n",
    "diversity_values = [bvt_genus_diversity, net_genus_diversity, bvt_bombus_diversity, net_bombus_diversity]\n",
    "\n",
    "group_labels = ['BVT', 'Net']\n",
    "\n",
    "plt.figure(figsize=(5, 3.5))\n",
    "\n",
    "positions = [0, 1, 2.5, 3.6]\n",
    "bars = plt.bar(positions, diversity_values, color=['#479cd6', '#e69943', '#89bde0', '#fac991'])\n",
    "\n",
    "plt.xticks(positions, categories)\n",
    "\n",
    "plt.title('Shannon Diversity Index')\n",
    "plt.gca().spines['top'].set_visible(False)\n",
    "plt.gca().spines['right'].set_visible(False)\n",
    "\n",
    "plt.axhline(y=1.2, color='gray', linestyle='--', linewidth=1)\n",
    "plt.text(x=4.2, y=1.2, s='low', verticalalignment='center')\n",
    "plt.axhline(y=2.5, color='gray', linestyle='--', linewidth=1)\n",
    "plt.text(x=4.2, y=2.5, s='high', verticalalignment='center')\n",
    "\n",
    "plt.tight_layout()\n",
    "plt.savefig('figs/bvt_net_shannon.png', format='png', dpi=300)"
   ]
  },
  {
   "cell_type": "markdown",
   "metadata": {},
   "source": [
    "### SIMPSON DIVERSITY (0 (low) to 1 (high), emphasizes evenness by giving more weight to common species)"
   ]
  },
  {
   "cell_type": "code",
   "execution_count": 17,
   "metadata": {},
   "outputs": [
    {
     "name": "stdout",
     "output_type": "stream",
     "text": [
      " BVT genus diversity:0.6172556612096852\n",
      " BVT Bombus diversity:0.700828402366864\n",
      " Net genus diversity:0.1222272521502944\n",
      " Net Bombus diversity:0.5859375\n",
      "\n"
     ]
    }
   ],
   "source": [
    "print(f' BVT genus diversity:{1 - np.sum((bvt_genus_counts/bvt_genus_counts.sum())**2)}\\n',\n",
    "      f'BVT Bombus diversity:{1 - np.sum((bvt_bombus_counts/bvt_bombus_counts.sum())**2)}\\n',\n",
    "      f'Net genus diversity:{1 - np.sum((net_genus_counts/net_genus_counts.sum())**2)}\\n',\n",
    "      f'Net Bombus diversity:{1 - np.sum((net_bombus_counts/net_bombus_counts.sum())**2)}\\n'\n",
    ")"
   ]
  },
  {
   "cell_type": "code",
   "execution_count": 18,
   "metadata": {},
   "outputs": [],
   "source": [
    "bvt_genus_diversity = 1 - np.sum((bvt_genus_counts / bvt_genus_counts.sum()) ** 2)\n",
    "bvt_bombus_diversity = 1 - np.sum((bvt_bombus_counts / bvt_bombus_counts.sum()) ** 2)\n",
    "net_genus_diversity = 1 - np.sum((net_genus_counts / net_genus_counts.sum()) ** 2)\n",
    "net_bombus_diversity = 1 - np.sum((net_bombus_counts / net_bombus_counts.sum()) ** 2)\n",
    "\n",
    "diversity_values = [bvt_genus_diversity, net_genus_diversity,bvt_bombus_diversity , net_bombus_diversity]\n",
    "categories = ['BVT Genus', 'Net Genus', 'BVT Bombus', 'Net Bombus']"
   ]
  },
  {
   "cell_type": "code",
   "execution_count": 19,
   "metadata": {},
   "outputs": [
    {
     "data": {
      "image/png": "[encoded data removed]",
      "text/plain": [
       "<Figure size 500x350 with 1 Axes>"
      ]
     },
     "metadata": {},
     "output_type": "display_data"
    }
   ],
   "source": [
    "\n",
    "plt.figure(figsize=(5, 3.5))\n",
    "\n",
    "positions = [0, 1, 2.5, 3.6]\n",
    "bars = plt.bar(positions, diversity_values, color=['#479cd6', '#e69943', '#89bde0', '#fac991'])\n",
    "\n",
    "plt.xticks(positions, categories)\n",
    "plt.ylim(0, 1)\n",
    "plt.title('Simpson Diversity Index')\n",
    "plt.gca().spines['top'].set_visible(False)\n",
    "plt.gca().spines['right'].set_visible(False)\n",
    "\n",
    "plt.tight_layout()\n",
    "plt.savefig('figs/bvt_net_simpsons.png', format='png', dpi=300)"
   ]
  }
 ],
 "metadata": {
  "kernelspec": {
   "display_name": "bee_mapping",
   "language": "python",
   "name": "python3"
  },
  "language_info": {
   "codemirror_mode": {
    "name": "ipython",
    "version": 3
   },
   "file_extension": ".py",
   "mimetype": "text/x-python",
   "name": "python",
   "nbconvert_exporter": "python",
   "pygments_lexer": "ipython3",
   "version": "3.12.0"
  }
 },
 "nbformat": 4,
 "nbformat_minor": 2
}
