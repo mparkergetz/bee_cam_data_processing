{
 "cells": [
  {
   "cell_type": "code",
   "execution_count": 1,
   "metadata": {},
   "outputs": [],
   "source": [
    "import pandas as pd\n",
    "import matplotlib.pyplot as plt\n",
    "import numpy as np\n",
    "import matplotlib\n",
    "matplotlib.rcParams['font.family'] = 'Nimbus Sans'\n",
    "plt.rcParams['font.size'] = 10"
   ]
  },
  {
   "cell_type": "code",
   "execution_count": 2,
   "metadata": {},
   "outputs": [],
   "source": [
    "# img_list = pd.read_csv('csvs/filenames.csv', header=None)\n",
    "# img_list.columns = ['filename']\n",
    "# img_list"
   ]
  },
  {
   "cell_type": "code",
   "execution_count": 3,
   "metadata": {},
   "outputs": [
    {
     "data": {
      "application/vnd.microsoft.datawrangler.viewer.v0+json": {
       "columns": [
        {
         "name": "index",
         "rawType": "int64",
         "type": "integer"
        },
        {
         "name": "filename",
         "rawType": "object",
         "type": "string"
        },
        {
         "name": "order",
         "rawType": "object",
         "type": "unknown"
        },
        {
         "name": "family",
         "rawType": "object",
         "type": "unknown"
        },
        {
         "name": "genus",
         "rawType": "object",
         "type": "unknown"
        },
        {
         "name": "species ",
         "rawType": "object",
         "type": "unknown"
        },
        {
         "name": "sex",
         "rawType": "object",
         "type": "unknown"
        }
       ],
       "ref": "d83565ea-0e59-40a6-9e68-bbe2991c625a",
       "rows": [
        [
         "0",
         "pi1_20240711_084351.jpg",
         "Hymenoptera",
         "Apidae",
         "Bombus ",
         "vosnesenskii",
         "female"
        ],
        [
         "1",
         "pi1_20240711_090237.jpg",
         "Hymenoptera",
         "Apidae",
         "Bombus ",
         "fervidus",
         "female"
        ],
        [
         "2",
         "pi1_20240711_095506.jpg",
         "Hymenoptera",
         "Apidae",
         "Bombus ",
         "fervidus",
         "female"
        ],
        [
         "3",
         "pi1_20240711_104047.jpg",
         "Hymenoptera",
         "Apidae",
         "Bombus ",
         "fervidus",
         "female"
        ],
        [
         "4",
         "pi1_20240711_120641.jpg",
         "Hymenoptera",
         "Apidae",
         "Bombus ",
         "fervidus",
         "female"
        ],
        [
         "5",
         "pi1_20240711_121937.jpg",
         "Hymenoptera",
         "Apidae",
         "Bombus ",
         "fervidus",
         "female"
        ],
        [
         "6",
         "pi1_20240711_123412.jpg",
         "Hymenoptera",
         "Apidae",
         "Bombus ",
         "vosnesenskii",
         "female"
        ],
        [
         "7",
         "pi1_20240711_132145.jpg",
         "Hymenoptera",
         "Apidae",
         "Bombus ",
         "griseocollis ",
         "female"
        ],
        [
         "8",
         "pi1_20240711_133046.jpg",
         "Hymenoptera",
         "Apidae",
         "Anthophora ",
         "urbana",
         "female"
        ],
        [
         "9",
         "pi1_20240711_143458.jpg",
         "Hymenoptera",
         "Apidae",
         "Anthophora ",
         "urbana",
         "female"
        ],
        [
         "10",
         "pi1_20240711_143501.jpg",
         "Hymenoptera",
         "Apidae",
         "Anthophora ",
         "urbana",
         "female"
        ],
        [
         "11",
         "pi1_20240711_153555.jpg",
         "Hymenoptera",
         "Apidae",
         "Bombus ",
         "vosnesenskii",
         "female"
        ],
        [
         "12",
         "pi1_20240711_155837.jpg",
         "Hymenoptera",
         "Apidae",
         "Bombus ",
         null,
         "female"
        ],
        [
         "13",
         "pi1_20240712_084508.jpg",
         "Hymenoptera",
         "Apidae",
         "Bombus ",
         "fervidus",
         "female"
        ],
        [
         "14",
         "pi1_20240712_093517.jpg",
         "Hymenoptera",
         "Apidae",
         "Anthophora ",
         "urbana",
         "female"
        ],
        [
         "15",
         "pi1_20240712_093520.jpg",
         "Hymenoptera",
         "Apidae",
         "Anthophora ",
         "urbana",
         "female"
        ],
        [
         "16",
         "pi1_20240712_095611.jpg",
         "Hymenoptera",
         "Apidae",
         "Bombus ",
         "fervidus",
         "female"
        ],
        [
         "17",
         "pi1_20240712_101550.jpg",
         "Hymenoptera",
         "Apidae",
         "Bombus ",
         "fervidus",
         "female"
        ],
        [
         "18",
         "pi1_20240712_104326.jpg",
         "Hymenoptera",
         "Apidae",
         "Bombus ",
         "vosnesenskii",
         "female"
        ],
        [
         "19",
         "pi1_20240712_111932.jpg",
         "Hymenoptera",
         "Apidae",
         "Bombus ",
         "vosnesenskii",
         "female"
        ],
        [
         "20",
         "pi1_20240712_111934.jpg",
         "Hymenoptera",
         "Apidae",
         "Bombus ",
         "vosnesenskii",
         "female"
        ],
        [
         "21",
         "pi1_20240712_111936.jpg",
         "Hymenoptera",
         "Apidae",
         "Bombus ",
         "vosnesenskii",
         "female"
        ],
        [
         "22",
         "pi1_20240712_111938.jpg",
         "Hymenoptera",
         "Apidae",
         "Bombus ",
         "vosnesenskii",
         "female"
        ],
        [
         "23",
         "pi1_20240712_111941.jpg",
         "Hymenoptera",
         "Apidae",
         "Bombus ",
         "vosnesenskii",
         "female"
        ],
        [
         "24",
         "pi1_20240712_111943.jpg",
         "Hymenoptera",
         "Apidae",
         "Bombus ",
         "vosnesenskii",
         "female"
        ],
        [
         "25",
         "pi1_20240712_111945.jpg",
         "Hymenoptera",
         "Apidae",
         "Bombus ",
         "vosnesenskii",
         "female"
        ],
        [
         "26",
         "pi1_20240712_111947.jpg",
         "Hymenoptera",
         "Apidae",
         "Bombus ",
         "vosnesenskii",
         "female"
        ],
        [
         "27",
         "pi1_20240712_111949.jpg",
         "Hymenoptera",
         "Apidae",
         "Bombus ",
         "vosnesenskii",
         "female"
        ],
        [
         "28",
         "pi1_20240712_120015.jpg",
         "Hymenoptera",
         "Apidae",
         "Anthophora ",
         "urbana",
         "female"
        ],
        [
         "29",
         "pi1_20240712_121945.jpg",
         "Hymenoptera",
         "Apidae",
         "Bombus ",
         "vosnesenskii",
         "female"
        ],
        [
         "30",
         "pi1_20240712_144149.jpg",
         "Hymenoptera",
         "Apidae",
         "Bombus ",
         "vosnesenskii",
         null
        ],
        [
         "31",
         "pi1_20240712_154435.jpg",
         "Hymenoptera",
         "Apidae",
         "Bombus ",
         "vosnesenskii",
         "female"
        ],
        [
         "32",
         "pi1_20240713_061826.jpg",
         "Hymenoptera",
         "Apidae",
         "Bombus ",
         "fervidus",
         "female"
        ],
        [
         "33",
         "pi1_20240713_090336.jpg",
         "Hymenoptera",
         "Apidae",
         "Bombus ",
         "vosnesenskii",
         "female"
        ],
        [
         "34",
         "pi1_20240713_090338.jpg",
         "Hymenoptera",
         "Apidae",
         "Bombus ",
         "vosnesenskii",
         "female"
        ],
        [
         "35",
         "pi1_20240713_090341.jpg",
         "Hymenoptera",
         "Apidae",
         "Bombus ",
         "vosnesenskii",
         "female"
        ],
        [
         "36",
         "pi1_20240713_092202.jpg",
         "Hymenoptera",
         "Apidae",
         "Bombus ",
         "fervidus",
         "female"
        ],
        [
         "37",
         "pi1_20240713_093641.jpg",
         "Hymenoptera",
         "Apidae",
         "Bombus ",
         "fervidus",
         "female"
        ],
        [
         "38",
         "pi1_20240713_095623.jpg",
         "Hymenoptera",
         "Apidae",
         "Bombus ",
         "vosnesenskii",
         "female"
        ],
        [
         "39",
         "pi1_20240713_111907.jpg",
         "Hymenoptera",
         "Apidae",
         "Bombus ",
         null,
         null
        ],
        [
         "40",
         "pi1_20240713_122331.jpg",
         "Hymenoptera",
         "Apidae",
         "Bombus ",
         "vosnesenskii",
         "female"
        ],
        [
         "41",
         "pi1_20240714_083553.jpg",
         "Hymenoptera",
         "Apidae",
         "Bombus ",
         "fervidus",
         "female"
        ],
        [
         "42",
         "pi1_20240714_092852.jpg",
         "Hymenoptera",
         "Apidae",
         "Bombus ",
         "vosnesenskii",
         "female"
        ],
        [
         "43",
         "pi1_20240714_100117.jpg",
         "Hymenoptera",
         "Apidae",
         "Bombus ",
         "vosnesenskii",
         "female"
        ],
        [
         "44",
         "pi1_20240714_101711.jpg",
         "Hymenoptera",
         "Apidae",
         "Bombus ",
         null,
         null
        ],
        [
         "45",
         "pi1_20240714_101952.jpg",
         "Hymenoptera",
         "Apidae",
         "Bombus ",
         "fervidus",
         "female"
        ],
        [
         "46",
         "pi1_20240715_081736.jpg",
         "Hymenoptera",
         "Apidae",
         "Bombus ",
         null,
         "female"
        ],
        [
         "47",
         "pi1_20240715_081852.jpg",
         "Hymenoptera",
         "Apidae",
         "Bombus ",
         "fervidus",
         "female"
        ],
        [
         "48",
         "pi1_20240715_083633.jpg",
         "Hymenoptera",
         "Apidae",
         "Bombus ",
         "vosnesenskii",
         "female"
        ],
        [
         "49",
         "pi1_20240715_083712.jpg",
         "Hymenoptera",
         "Apidae",
         "Bombus ",
         "vosnesenskii",
         "female"
        ]
       ],
       "shape": {
        "columns": 6,
        "rows": 7634
       }
      },
      "text/html": [
       "<div>\n",
       "<style scoped>\n",
       "    .dataframe tbody tr th:only-of-type {\n",
       "        vertical-align: middle;\n",
       "    }\n",
       "\n",
       "    .dataframe tbody tr th {\n",
       "        vertical-align: top;\n",
       "    }\n",
       "\n",
       "    .dataframe thead th {\n",
       "        text-align: right;\n",
       "    }\n",
       "</style>\n",
       "<table border=\"1\" class=\"dataframe\">\n",
       "  <thead>\n",
       "    <tr style=\"text-align: right;\">\n",
       "      <th></th>\n",
       "      <th>filename</th>\n",
       "      <th>order</th>\n",
       "      <th>family</th>\n",
       "      <th>genus</th>\n",
       "      <th>species</th>\n",
       "      <th>sex</th>\n",
       "    </tr>\n",
       "  </thead>\n",
       "  <tbody>\n",
       "    <tr>\n",
       "      <th>0</th>\n",
       "      <td>pi1_20240711_084351.jpg</td>\n",
       "      <td>Hymenoptera</td>\n",
       "      <td>Apidae</td>\n",
       "      <td>Bombus</td>\n",
       "      <td>vosnesenskii</td>\n",
       "      <td>female</td>\n",
       "    </tr>\n",
       "    <tr>\n",
       "      <th>1</th>\n",
       "      <td>pi1_20240711_090237.jpg</td>\n",
       "      <td>Hymenoptera</td>\n",
       "      <td>Apidae</td>\n",
       "      <td>Bombus</td>\n",
       "      <td>fervidus</td>\n",
       "      <td>female</td>\n",
       "    </tr>\n",
       "    <tr>\n",
       "      <th>2</th>\n",
       "      <td>pi1_20240711_095506.jpg</td>\n",
       "      <td>Hymenoptera</td>\n",
       "      <td>Apidae</td>\n",
       "      <td>Bombus</td>\n",
       "      <td>fervidus</td>\n",
       "      <td>female</td>\n",
       "    </tr>\n",
       "    <tr>\n",
       "      <th>3</th>\n",
       "      <td>pi1_20240711_104047.jpg</td>\n",
       "      <td>Hymenoptera</td>\n",
       "      <td>Apidae</td>\n",
       "      <td>Bombus</td>\n",
       "      <td>fervidus</td>\n",
       "      <td>female</td>\n",
       "    </tr>\n",
       "    <tr>\n",
       "      <th>4</th>\n",
       "      <td>pi1_20240711_120641.jpg</td>\n",
       "      <td>Hymenoptera</td>\n",
       "      <td>Apidae</td>\n",
       "      <td>Bombus</td>\n",
       "      <td>fervidus</td>\n",
       "      <td>female</td>\n",
       "    </tr>\n",
       "    <tr>\n",
       "      <th>...</th>\n",
       "      <td>...</td>\n",
       "      <td>...</td>\n",
       "      <td>...</td>\n",
       "      <td>...</td>\n",
       "      <td>...</td>\n",
       "      <td>...</td>\n",
       "    </tr>\n",
       "    <tr>\n",
       "      <th>7629</th>\n",
       "      <td>pi9_20240726_170056.jpg</td>\n",
       "      <td>Hymenoptera</td>\n",
       "      <td>Apidae</td>\n",
       "      <td>Bombus</td>\n",
       "      <td>vosnesenskii</td>\n",
       "      <td>NaN</td>\n",
       "    </tr>\n",
       "    <tr>\n",
       "      <th>7630</th>\n",
       "      <td>pi9_20240727_173648.jpg</td>\n",
       "      <td>Hymenoptera</td>\n",
       "      <td>Apidae</td>\n",
       "      <td>Bombus</td>\n",
       "      <td>vosnesenskii</td>\n",
       "      <td>NaN</td>\n",
       "    </tr>\n",
       "    <tr>\n",
       "      <th>7631</th>\n",
       "      <td>pi9_20240728_125915.jpg</td>\n",
       "      <td>Hymenoptera</td>\n",
       "      <td>Apidae</td>\n",
       "      <td>Bombus</td>\n",
       "      <td>vosnesenskii</td>\n",
       "      <td>female</td>\n",
       "    </tr>\n",
       "    <tr>\n",
       "      <th>7632</th>\n",
       "      <td>pi9_20240728_162048.jpg</td>\n",
       "      <td>Hymenoptera</td>\n",
       "      <td>Apidae</td>\n",
       "      <td>Bombus</td>\n",
       "      <td>vosnesenskii</td>\n",
       "      <td>male</td>\n",
       "    </tr>\n",
       "    <tr>\n",
       "      <th>7633</th>\n",
       "      <td>pi9_20240905_135324.jpg</td>\n",
       "      <td>Hymenoptera</td>\n",
       "      <td>Apidae</td>\n",
       "      <td>Anthophora</td>\n",
       "      <td>urbana</td>\n",
       "      <td>female</td>\n",
       "    </tr>\n",
       "  </tbody>\n",
       "</table>\n",
       "<p>7634 rows × 6 columns</p>\n",
       "</div>"
      ],
      "text/plain": [
       "                     filename        order  family        genus      species   \\\n",
       "0     pi1_20240711_084351.jpg  Hymenoptera  Apidae      Bombus   vosnesenskii   \n",
       "1     pi1_20240711_090237.jpg  Hymenoptera  Apidae      Bombus       fervidus   \n",
       "2     pi1_20240711_095506.jpg  Hymenoptera  Apidae      Bombus       fervidus   \n",
       "3     pi1_20240711_104047.jpg  Hymenoptera  Apidae      Bombus       fervidus   \n",
       "4     pi1_20240711_120641.jpg  Hymenoptera  Apidae      Bombus       fervidus   \n",
       "...                       ...          ...     ...          ...           ...   \n",
       "7629  pi9_20240726_170056.jpg  Hymenoptera  Apidae       Bombus  vosnesenskii   \n",
       "7630  pi9_20240727_173648.jpg  Hymenoptera  Apidae       Bombus  vosnesenskii   \n",
       "7631  pi9_20240728_125915.jpg  Hymenoptera  Apidae       Bombus  vosnesenskii   \n",
       "7632  pi9_20240728_162048.jpg  Hymenoptera  Apidae       Bombus  vosnesenskii   \n",
       "7633  pi9_20240905_135324.jpg  Hymenoptera  Apidae  Anthophora         urbana   \n",
       "\n",
       "         sex  \n",
       "0     female  \n",
       "1     female  \n",
       "2     female  \n",
       "3     female  \n",
       "4     female  \n",
       "...      ...  \n",
       "7629     NaN  \n",
       "7630     NaN  \n",
       "7631  female  \n",
       "7632    male  \n",
       "7633  female  \n",
       "\n",
       "[7634 rows x 6 columns]"
      ]
     },
     "execution_count": 3,
     "metadata": {},
     "output_type": "execute_result"
    }
   ],
   "source": [
    "df = pd.read_csv('csvs/bee_filenames_1118.csv')\n",
    "df"
   ]
  },
  {
   "cell_type": "code",
   "execution_count": 4,
   "metadata": {},
   "outputs": [
    {
     "data": {
      "text/plain": [
       "Index(['filename', 'order', 'family', 'genus', 'species ', 'sex'], dtype='object')"
      ]
     },
     "execution_count": 4,
     "metadata": {},
     "output_type": "execute_result"
    }
   ],
   "source": [
    "df.columns"
   ]
  },
  {
   "cell_type": "code",
   "execution_count": 5,
   "metadata": {},
   "outputs": [
    {
     "data": {
      "application/vnd.microsoft.datawrangler.viewer.v0+json": {
       "columns": [
        {
         "name": "index",
         "rawType": "int64",
         "type": "integer"
        },
        {
         "name": "filename",
         "rawType": "object",
         "type": "string"
        },
        {
         "name": "order",
         "rawType": "object",
         "type": "string"
        },
        {
         "name": "family",
         "rawType": "object",
         "type": "string"
        },
        {
         "name": "genus",
         "rawType": "object",
         "type": "string"
        },
        {
         "name": "species ",
         "rawType": "object",
         "type": "unknown"
        },
        {
         "name": "sex",
         "rawType": "object",
         "type": "string"
        }
       ],
       "ref": "68ebad0f-0af7-453b-a9f2-1a08d40faf44",
       "rows": [
        [
         "0",
         "pi1_20240806_125252.jpg",
         "Hymenoptera",
         "Apidae",
         "Bombus",
         "nevadensis",
         "male"
        ],
        [
         "1",
         "pi1_20240809_144038.jpg",
         "Hymenoptera",
         "Apidae",
         "Bombus",
         "fervidus",
         "female"
        ],
        [
         "2",
         "pi10_20240809_090208.jpg",
         "Hymenoptera",
         "Apidae",
         "Bombus",
         "fervidus",
         "female"
        ],
        [
         "3",
         "pi2_20240809_144633.jpg",
         "Hymenoptera",
         "Apidae",
         "Bombus",
         "vosnesenskii",
         "male"
        ],
        [
         "4",
         "pi3_20240825_114927.jpg",
         "Hymenoptera",
         "Apidae",
         "Bombus",
         "fervidus",
         "female"
        ],
        [
         "5",
         "pi3_20240825_114928.jpg",
         "Hymenoptera",
         "Apidae",
         "Bombus",
         "fervidus",
         "female"
        ],
        [
         "6",
         "pi3_20240825_114929.jpg",
         "Hymenoptera",
         "Apidae",
         "Bombus",
         "fervidus",
         "female"
        ],
        [
         "7",
         "pi5_20240731_153359.jpg",
         "Hymenoptera",
         "Apidae",
         "Bombus",
         "nevadensis",
         "male"
        ],
        [
         "8",
         "pi5_20240814_132339.jpg",
         "Hymenoptera",
         "Apidae",
         "Bombus",
         "griseocollis",
         "female"
        ],
        [
         "9",
         "pi6_20240820_120352.jpg",
         "Hymenoptera",
         "Apidae",
         "Bombus",
         "vosnesenskii",
         "female"
        ],
        [
         "10",
         "pi6_20240824_131028.jpg",
         "Hymenoptera",
         "Apidae",
         "Bombus",
         "fervidus",
         "female"
        ],
        [
         "11",
         "pi6_20240824_133050.jpg",
         "Hymenoptera",
         "Apidae",
         "Melissodes",
         null,
         "female"
        ],
        [
         "12",
         "pi6_20240824_133051.jpg",
         "Hymenoptera",
         "Apidae",
         "Melissodes",
         null,
         "female"
        ],
        [
         "13",
         "pi6_20240824_133052.jpg",
         "Hymenoptera",
         "Apidae",
         "Melissodes",
         null,
         "female"
        ],
        [
         "14",
         "pi6_20240824_133053.jpg",
         "Hymenoptera",
         "Apidae",
         "Melissodes",
         null,
         "female"
        ],
        [
         "15",
         "pi7_20240816_095207.jpg",
         "Hymenoptera",
         "Apidae",
         "Bombus",
         "vosnesenskii",
         "female"
        ],
        [
         "16",
         "pi8_20240801_123139.jpg",
         "Hymenoptera",
         "Apidae",
         "Bombus",
         "nevadensis",
         "male"
        ],
        [
         "17",
         "pi8_20240825_133559.jpg",
         "Hymenoptera",
         "Apidae",
         "Bombus",
         "fervidus",
         "male"
        ],
        [
         "18",
         "pi9_20240804_120508.jpg",
         "Hymenoptera",
         "Apidae",
         "Bombus",
         "vosnesenskii",
         "female"
        ],
        [
         "19",
         "pi9_20240804_121508.jpg",
         "Hymenoptera",
         "Apidae",
         "Bombus",
         "nevadensis",
         "male"
        ],
        [
         "20",
         "pi9_20240804_121509.jpg",
         "Hymenoptera",
         "Apidae",
         "Bombus",
         "nevadensis",
         "male"
        ],
        [
         "21",
         "pi9_20240808_130939.jpg",
         "Hymenoptera",
         "Apidae",
         "Bombus",
         "nevadensis",
         "male"
        ]
       ],
       "shape": {
        "columns": 6,
        "rows": 22
       }
      },
      "text/html": [
       "<div>\n",
       "<style scoped>\n",
       "    .dataframe tbody tr th:only-of-type {\n",
       "        vertical-align: middle;\n",
       "    }\n",
       "\n",
       "    .dataframe tbody tr th {\n",
       "        vertical-align: top;\n",
       "    }\n",
       "\n",
       "    .dataframe thead th {\n",
       "        text-align: right;\n",
       "    }\n",
       "</style>\n",
       "<table border=\"1\" class=\"dataframe\">\n",
       "  <thead>\n",
       "    <tr style=\"text-align: right;\">\n",
       "      <th></th>\n",
       "      <th>filename</th>\n",
       "      <th>order</th>\n",
       "      <th>family</th>\n",
       "      <th>genus</th>\n",
       "      <th>species</th>\n",
       "      <th>sex</th>\n",
       "    </tr>\n",
       "  </thead>\n",
       "  <tbody>\n",
       "    <tr>\n",
       "      <th>0</th>\n",
       "      <td>pi1_20240806_125252.jpg</td>\n",
       "      <td>Hymenoptera</td>\n",
       "      <td>Apidae</td>\n",
       "      <td>Bombus</td>\n",
       "      <td>nevadensis</td>\n",
       "      <td>male</td>\n",
       "    </tr>\n",
       "    <tr>\n",
       "      <th>1</th>\n",
       "      <td>pi1_20240809_144038.jpg</td>\n",
       "      <td>Hymenoptera</td>\n",
       "      <td>Apidae</td>\n",
       "      <td>Bombus</td>\n",
       "      <td>fervidus</td>\n",
       "      <td>female</td>\n",
       "    </tr>\n",
       "    <tr>\n",
       "      <th>2</th>\n",
       "      <td>pi10_20240809_090208.jpg</td>\n",
       "      <td>Hymenoptera</td>\n",
       "      <td>Apidae</td>\n",
       "      <td>Bombus</td>\n",
       "      <td>fervidus</td>\n",
       "      <td>female</td>\n",
       "    </tr>\n",
       "    <tr>\n",
       "      <th>3</th>\n",
       "      <td>pi2_20240809_144633.jpg</td>\n",
       "      <td>Hymenoptera</td>\n",
       "      <td>Apidae</td>\n",
       "      <td>Bombus</td>\n",
       "      <td>vosnesenskii</td>\n",
       "      <td>male</td>\n",
       "    </tr>\n",
       "    <tr>\n",
       "      <th>4</th>\n",
       "      <td>pi3_20240825_114927.jpg</td>\n",
       "      <td>Hymenoptera</td>\n",
       "      <td>Apidae</td>\n",
       "      <td>Bombus</td>\n",
       "      <td>fervidus</td>\n",
       "      <td>female</td>\n",
       "    </tr>\n",
       "    <tr>\n",
       "      <th>5</th>\n",
       "      <td>pi3_20240825_114928.jpg</td>\n",
       "      <td>Hymenoptera</td>\n",
       "      <td>Apidae</td>\n",
       "      <td>Bombus</td>\n",
       "      <td>fervidus</td>\n",
       "      <td>female</td>\n",
       "    </tr>\n",
       "    <tr>\n",
       "      <th>6</th>\n",
       "      <td>pi3_20240825_114929.jpg</td>\n",
       "      <td>Hymenoptera</td>\n",
       "      <td>Apidae</td>\n",
       "      <td>Bombus</td>\n",
       "      <td>fervidus</td>\n",
       "      <td>female</td>\n",
       "    </tr>\n",
       "    <tr>\n",
       "      <th>7</th>\n",
       "      <td>pi5_20240731_153359.jpg</td>\n",
       "      <td>Hymenoptera</td>\n",
       "      <td>Apidae</td>\n",
       "      <td>Bombus</td>\n",
       "      <td>nevadensis</td>\n",
       "      <td>male</td>\n",
       "    </tr>\n",
       "    <tr>\n",
       "      <th>8</th>\n",
       "      <td>pi5_20240814_132339.jpg</td>\n",
       "      <td>Hymenoptera</td>\n",
       "      <td>Apidae</td>\n",
       "      <td>Bombus</td>\n",
       "      <td>griseocollis</td>\n",
       "      <td>female</td>\n",
       "    </tr>\n",
       "    <tr>\n",
       "      <th>9</th>\n",
       "      <td>pi6_20240820_120352.jpg</td>\n",
       "      <td>Hymenoptera</td>\n",
       "      <td>Apidae</td>\n",
       "      <td>Bombus</td>\n",
       "      <td>vosnesenskii</td>\n",
       "      <td>female</td>\n",
       "    </tr>\n",
       "    <tr>\n",
       "      <th>10</th>\n",
       "      <td>pi6_20240824_131028.jpg</td>\n",
       "      <td>Hymenoptera</td>\n",
       "      <td>Apidae</td>\n",
       "      <td>Bombus</td>\n",
       "      <td>fervidus</td>\n",
       "      <td>female</td>\n",
       "    </tr>\n",
       "    <tr>\n",
       "      <th>11</th>\n",
       "      <td>pi6_20240824_133050.jpg</td>\n",
       "      <td>Hymenoptera</td>\n",
       "      <td>Apidae</td>\n",
       "      <td>Melissodes</td>\n",
       "      <td>NaN</td>\n",
       "      <td>female</td>\n",
       "    </tr>\n",
       "    <tr>\n",
       "      <th>12</th>\n",
       "      <td>pi6_20240824_133051.jpg</td>\n",
       "      <td>Hymenoptera</td>\n",
       "      <td>Apidae</td>\n",
       "      <td>Melissodes</td>\n",
       "      <td>NaN</td>\n",
       "      <td>female</td>\n",
       "    </tr>\n",
       "    <tr>\n",
       "      <th>13</th>\n",
       "      <td>pi6_20240824_133052.jpg</td>\n",
       "      <td>Hymenoptera</td>\n",
       "      <td>Apidae</td>\n",
       "      <td>Melissodes</td>\n",
       "      <td>NaN</td>\n",
       "      <td>female</td>\n",
       "    </tr>\n",
       "    <tr>\n",
       "      <th>14</th>\n",
       "      <td>pi6_20240824_133053.jpg</td>\n",
       "      <td>Hymenoptera</td>\n",
       "      <td>Apidae</td>\n",
       "      <td>Melissodes</td>\n",
       "      <td>NaN</td>\n",
       "      <td>female</td>\n",
       "    </tr>\n",
       "    <tr>\n",
       "      <th>15</th>\n",
       "      <td>pi7_20240816_095207.jpg</td>\n",
       "      <td>Hymenoptera</td>\n",
       "      <td>Apidae</td>\n",
       "      <td>Bombus</td>\n",
       "      <td>vosnesenskii</td>\n",
       "      <td>female</td>\n",
       "    </tr>\n",
       "    <tr>\n",
       "      <th>16</th>\n",
       "      <td>pi8_20240801_123139.jpg</td>\n",
       "      <td>Hymenoptera</td>\n",
       "      <td>Apidae</td>\n",
       "      <td>Bombus</td>\n",
       "      <td>nevadensis</td>\n",
       "      <td>male</td>\n",
       "    </tr>\n",
       "    <tr>\n",
       "      <th>17</th>\n",
       "      <td>pi8_20240825_133559.jpg</td>\n",
       "      <td>Hymenoptera</td>\n",
       "      <td>Apidae</td>\n",
       "      <td>Bombus</td>\n",
       "      <td>fervidus</td>\n",
       "      <td>male</td>\n",
       "    </tr>\n",
       "    <tr>\n",
       "      <th>18</th>\n",
       "      <td>pi9_20240804_120508.jpg</td>\n",
       "      <td>Hymenoptera</td>\n",
       "      <td>Apidae</td>\n",
       "      <td>Bombus</td>\n",
       "      <td>vosnesenskii</td>\n",
       "      <td>female</td>\n",
       "    </tr>\n",
       "    <tr>\n",
       "      <th>19</th>\n",
       "      <td>pi9_20240804_121508.jpg</td>\n",
       "      <td>Hymenoptera</td>\n",
       "      <td>Apidae</td>\n",
       "      <td>Bombus</td>\n",
       "      <td>nevadensis</td>\n",
       "      <td>male</td>\n",
       "    </tr>\n",
       "    <tr>\n",
       "      <th>20</th>\n",
       "      <td>pi9_20240804_121509.jpg</td>\n",
       "      <td>Hymenoptera</td>\n",
       "      <td>Apidae</td>\n",
       "      <td>Bombus</td>\n",
       "      <td>nevadensis</td>\n",
       "      <td>male</td>\n",
       "    </tr>\n",
       "    <tr>\n",
       "      <th>21</th>\n",
       "      <td>pi9_20240808_130939.jpg</td>\n",
       "      <td>Hymenoptera</td>\n",
       "      <td>Apidae</td>\n",
       "      <td>Bombus</td>\n",
       "      <td>nevadensis</td>\n",
       "      <td>male</td>\n",
       "    </tr>\n",
       "  </tbody>\n",
       "</table>\n",
       "</div>"
      ],
      "text/plain": [
       "                    filename        order  family       genus      species   \\\n",
       "0    pi1_20240806_125252.jpg  Hymenoptera  Apidae      Bombus    nevadensis   \n",
       "1    pi1_20240809_144038.jpg  Hymenoptera  Apidae      Bombus      fervidus   \n",
       "2   pi10_20240809_090208.jpg  Hymenoptera  Apidae      Bombus      fervidus   \n",
       "3    pi2_20240809_144633.jpg  Hymenoptera  Apidae      Bombus  vosnesenskii   \n",
       "4    pi3_20240825_114927.jpg  Hymenoptera  Apidae      Bombus      fervidus   \n",
       "5    pi3_20240825_114928.jpg  Hymenoptera  Apidae      Bombus      fervidus   \n",
       "6    pi3_20240825_114929.jpg  Hymenoptera  Apidae      Bombus      fervidus   \n",
       "7    pi5_20240731_153359.jpg  Hymenoptera  Apidae      Bombus    nevadensis   \n",
       "8    pi5_20240814_132339.jpg  Hymenoptera  Apidae      Bombus  griseocollis   \n",
       "9    pi6_20240820_120352.jpg  Hymenoptera  Apidae      Bombus  vosnesenskii   \n",
       "10   pi6_20240824_131028.jpg  Hymenoptera  Apidae      Bombus      fervidus   \n",
       "11   pi6_20240824_133050.jpg  Hymenoptera  Apidae  Melissodes           NaN   \n",
       "12   pi6_20240824_133051.jpg  Hymenoptera  Apidae  Melissodes           NaN   \n",
       "13   pi6_20240824_133052.jpg  Hymenoptera  Apidae  Melissodes           NaN   \n",
       "14   pi6_20240824_133053.jpg  Hymenoptera  Apidae  Melissodes           NaN   \n",
       "15   pi7_20240816_095207.jpg  Hymenoptera  Apidae      Bombus  vosnesenskii   \n",
       "16   pi8_20240801_123139.jpg  Hymenoptera  Apidae      Bombus    nevadensis   \n",
       "17   pi8_20240825_133559.jpg  Hymenoptera  Apidae      Bombus      fervidus   \n",
       "18   pi9_20240804_120508.jpg  Hymenoptera  Apidae      Bombus  vosnesenskii   \n",
       "19   pi9_20240804_121508.jpg  Hymenoptera  Apidae      Bombus    nevadensis   \n",
       "20   pi9_20240804_121509.jpg  Hymenoptera  Apidae      Bombus    nevadensis   \n",
       "21   pi9_20240808_130939.jpg  Hymenoptera  Apidae      Bombus    nevadensis   \n",
       "\n",
       "       sex  \n",
       "0     male  \n",
       "1   female  \n",
       "2   female  \n",
       "3     male  \n",
       "4   female  \n",
       "5   female  \n",
       "6   female  \n",
       "7     male  \n",
       "8   female  \n",
       "9   female  \n",
       "10  female  \n",
       "11  female  \n",
       "12  female  \n",
       "13  female  \n",
       "14  female  \n",
       "15  female  \n",
       "16    male  \n",
       "17    male  \n",
       "18  female  \n",
       "19    male  \n",
       "20    male  \n",
       "21    male  "
      ]
     },
     "execution_count": 5,
     "metadata": {},
     "output_type": "execute_result"
    }
   ],
   "source": [
    "df_1124 = pd.read_csv('csvs/bees_to_id_112424.csv')\n",
    "df_1124.columns = df.columns\n",
    "df_1124"
   ]
  },
  {
   "cell_type": "code",
   "execution_count": 6,
   "metadata": {},
   "outputs": [
    {
     "data": {
      "application/vnd.microsoft.datawrangler.viewer.v0+json": {
       "columns": [
        {
         "name": "index",
         "rawType": "int64",
         "type": "integer"
        },
        {
         "name": "filename",
         "rawType": "object",
         "type": "string"
        },
        {
         "name": "order",
         "rawType": "object",
         "type": "string"
        },
        {
         "name": "family",
         "rawType": "object",
         "type": "string"
        },
        {
         "name": "genus",
         "rawType": "object",
         "type": "string"
        },
        {
         "name": "species ",
         "rawType": "object",
         "type": "unknown"
        },
        {
         "name": "sex",
         "rawType": "object",
         "type": "string"
        }
       ],
       "ref": "69ae8fe2-e38b-4fcf-82b4-70029ef48064",
       "rows": [
        [
         "0",
         "pi1_20240806_125252.jpg",
         "Hymenoptera",
         "Apidae",
         "Bombus",
         "nevadensis",
         "male"
        ],
        [
         "1",
         "pi1_20240809_144038.jpg",
         "Hymenoptera",
         "Apidae",
         "Bombus",
         "fervidus",
         "female"
        ],
        [
         "2",
         "pi2_20240809_144633.jpg",
         "Hymenoptera",
         "Apidae",
         "Bombus",
         "vosnesenskii",
         "female"
        ],
        [
         "3",
         "pi3_20240825_114927.jpg",
         "Hymenoptera",
         "Apidae",
         "Bombus",
         "fervidus",
         "female"
        ],
        [
         "4",
         "pi3_20240825_114928.jpg",
         "Hymenoptera",
         "Apidae",
         "Bombus",
         "fervidus",
         "female"
        ],
        [
         "5",
         "pi3_20240825_114929.jpg",
         "Hymenoptera",
         "Apidae",
         "Bombus",
         "fervidus",
         "female"
        ],
        [
         "6",
         "pi5_20240731_153359.jpg",
         "Hymenoptera",
         "Apidae",
         "Bombus",
         "nevadensis",
         "male"
        ],
        [
         "7",
         "pi5_20240814_132339.jpg",
         "Hymenoptera",
         "Apidae",
         "Bombus",
         "griseocollis",
         "female"
        ],
        [
         "8",
         "pi6_20240820_120352.jpg",
         "Hymenoptera",
         "Apidae",
         "Bombus",
         "vosnesenskii",
         "female"
        ],
        [
         "9",
         "pi6_20240824_131028.jpg",
         "Hymenoptera",
         "Apidae",
         "Bombus",
         "fervidus",
         "female"
        ],
        [
         "10",
         "pi6_20240824_133050.jpg",
         "Hymenoptera",
         "Apidae",
         "Melissodes",
         null,
         "female"
        ],
        [
         "11",
         "pi6_20240824_133051.jpg",
         "Hymenoptera",
         "Apidae",
         "Melissodes",
         null,
         "female"
        ],
        [
         "12",
         "pi6_20240824_133052.jpg",
         "Hymenoptera",
         "Apidae",
         "Melissodes",
         null,
         "female"
        ],
        [
         "13",
         "pi6_20240824_133053.jpg",
         "Hymenoptera",
         "Apidae",
         "Melissodes",
         null,
         "female"
        ],
        [
         "14",
         "pi7_20240816_095207.jpg",
         "Hymenoptera",
         "Apidae",
         "Bombus",
         "vosnesenskii",
         "female"
        ],
        [
         "15",
         "pi8_20240801_123139.jpg",
         "Hymenoptera",
         "Apidae",
         "Bombus",
         "nevadensis",
         "male"
        ],
        [
         "16",
         "pi8_20240825_133559.jpg",
         "Hymenoptera",
         "Apidae",
         "Bombus",
         "fervidus",
         "male"
        ],
        [
         "17",
         "pi9_20240804_120508.jpg",
         "Hymenoptera",
         "Apidae",
         "Bombus",
         "vosnesenskii",
         "female"
        ],
        [
         "18",
         "pi9_20240804_121508.jpg",
         "Hymenoptera",
         "Apidae",
         "Bombus",
         "nevadensis",
         "male"
        ],
        [
         "19",
         "pi9_20240804_121509.jpg",
         "Hymenoptera",
         "Apidae",
         "Bombus",
         "nevadensis",
         "male"
        ]
       ],
       "shape": {
        "columns": 6,
        "rows": 20
       }
      },
      "text/html": [
       "<div>\n",
       "<style scoped>\n",
       "    .dataframe tbody tr th:only-of-type {\n",
       "        vertical-align: middle;\n",
       "    }\n",
       "\n",
       "    .dataframe tbody tr th {\n",
       "        vertical-align: top;\n",
       "    }\n",
       "\n",
       "    .dataframe thead th {\n",
       "        text-align: right;\n",
       "    }\n",
       "</style>\n",
       "<table border=\"1\" class=\"dataframe\">\n",
       "  <thead>\n",
       "    <tr style=\"text-align: right;\">\n",
       "      <th></th>\n",
       "      <th>filename</th>\n",
       "      <th>order</th>\n",
       "      <th>family</th>\n",
       "      <th>genus</th>\n",
       "      <th>species</th>\n",
       "      <th>sex</th>\n",
       "    </tr>\n",
       "  </thead>\n",
       "  <tbody>\n",
       "    <tr>\n",
       "      <th>0</th>\n",
       "      <td>pi1_20240806_125252.jpg</td>\n",
       "      <td>Hymenoptera</td>\n",
       "      <td>Apidae</td>\n",
       "      <td>Bombus</td>\n",
       "      <td>nevadensis</td>\n",
       "      <td>male</td>\n",
       "    </tr>\n",
       "    <tr>\n",
       "      <th>1</th>\n",
       "      <td>pi1_20240809_144038.jpg</td>\n",
       "      <td>Hymenoptera</td>\n",
       "      <td>Apidae</td>\n",
       "      <td>Bombus</td>\n",
       "      <td>fervidus</td>\n",
       "      <td>female</td>\n",
       "    </tr>\n",
       "    <tr>\n",
       "      <th>2</th>\n",
       "      <td>pi2_20240809_144633.jpg</td>\n",
       "      <td>Hymenoptera</td>\n",
       "      <td>Apidae</td>\n",
       "      <td>Bombus</td>\n",
       "      <td>vosnesenskii</td>\n",
       "      <td>female</td>\n",
       "    </tr>\n",
       "    <tr>\n",
       "      <th>3</th>\n",
       "      <td>pi3_20240825_114927.jpg</td>\n",
       "      <td>Hymenoptera</td>\n",
       "      <td>Apidae</td>\n",
       "      <td>Bombus</td>\n",
       "      <td>fervidus</td>\n",
       "      <td>female</td>\n",
       "    </tr>\n",
       "    <tr>\n",
       "      <th>4</th>\n",
       "      <td>pi3_20240825_114928.jpg</td>\n",
       "      <td>Hymenoptera</td>\n",
       "      <td>Apidae</td>\n",
       "      <td>Bombus</td>\n",
       "      <td>fervidus</td>\n",
       "      <td>female</td>\n",
       "    </tr>\n",
       "    <tr>\n",
       "      <th>5</th>\n",
       "      <td>pi3_20240825_114929.jpg</td>\n",
       "      <td>Hymenoptera</td>\n",
       "      <td>Apidae</td>\n",
       "      <td>Bombus</td>\n",
       "      <td>fervidus</td>\n",
       "      <td>female</td>\n",
       "    </tr>\n",
       "    <tr>\n",
       "      <th>6</th>\n",
       "      <td>pi5_20240731_153359.jpg</td>\n",
       "      <td>Hymenoptera</td>\n",
       "      <td>Apidae</td>\n",
       "      <td>Bombus</td>\n",
       "      <td>nevadensis</td>\n",
       "      <td>male</td>\n",
       "    </tr>\n",
       "    <tr>\n",
       "      <th>7</th>\n",
       "      <td>pi5_20240814_132339.jpg</td>\n",
       "      <td>Hymenoptera</td>\n",
       "      <td>Apidae</td>\n",
       "      <td>Bombus</td>\n",
       "      <td>griseocollis</td>\n",
       "      <td>female</td>\n",
       "    </tr>\n",
       "    <tr>\n",
       "      <th>8</th>\n",
       "      <td>pi6_20240820_120352.jpg</td>\n",
       "      <td>Hymenoptera</td>\n",
       "      <td>Apidae</td>\n",
       "      <td>Bombus</td>\n",
       "      <td>vosnesenskii</td>\n",
       "      <td>female</td>\n",
       "    </tr>\n",
       "    <tr>\n",
       "      <th>9</th>\n",
       "      <td>pi6_20240824_131028.jpg</td>\n",
       "      <td>Hymenoptera</td>\n",
       "      <td>Apidae</td>\n",
       "      <td>Bombus</td>\n",
       "      <td>fervidus</td>\n",
       "      <td>female</td>\n",
       "    </tr>\n",
       "    <tr>\n",
       "      <th>10</th>\n",
       "      <td>pi6_20240824_133050.jpg</td>\n",
       "      <td>Hymenoptera</td>\n",
       "      <td>Apidae</td>\n",
       "      <td>Melissodes</td>\n",
       "      <td>NaN</td>\n",
       "      <td>female</td>\n",
       "    </tr>\n",
       "    <tr>\n",
       "      <th>11</th>\n",
       "      <td>pi6_20240824_133051.jpg</td>\n",
       "      <td>Hymenoptera</td>\n",
       "      <td>Apidae</td>\n",
       "      <td>Melissodes</td>\n",
       "      <td>NaN</td>\n",
       "      <td>female</td>\n",
       "    </tr>\n",
       "    <tr>\n",
       "      <th>12</th>\n",
       "      <td>pi6_20240824_133052.jpg</td>\n",
       "      <td>Hymenoptera</td>\n",
       "      <td>Apidae</td>\n",
       "      <td>Melissodes</td>\n",
       "      <td>NaN</td>\n",
       "      <td>female</td>\n",
       "    </tr>\n",
       "    <tr>\n",
       "      <th>13</th>\n",
       "      <td>pi6_20240824_133053.jpg</td>\n",
       "      <td>Hymenoptera</td>\n",
       "      <td>Apidae</td>\n",
       "      <td>Melissodes</td>\n",
       "      <td>NaN</td>\n",
       "      <td>female</td>\n",
       "    </tr>\n",
       "    <tr>\n",
       "      <th>14</th>\n",
       "      <td>pi7_20240816_095207.jpg</td>\n",
       "      <td>Hymenoptera</td>\n",
       "      <td>Apidae</td>\n",
       "      <td>Bombus</td>\n",
       "      <td>vosnesenskii</td>\n",
       "      <td>female</td>\n",
       "    </tr>\n",
       "    <tr>\n",
       "      <th>15</th>\n",
       "      <td>pi8_20240801_123139.jpg</td>\n",
       "      <td>Hymenoptera</td>\n",
       "      <td>Apidae</td>\n",
       "      <td>Bombus</td>\n",
       "      <td>nevadensis</td>\n",
       "      <td>male</td>\n",
       "    </tr>\n",
       "    <tr>\n",
       "      <th>16</th>\n",
       "      <td>pi8_20240825_133559.jpg</td>\n",
       "      <td>Hymenoptera</td>\n",
       "      <td>Apidae</td>\n",
       "      <td>Bombus</td>\n",
       "      <td>fervidus</td>\n",
       "      <td>male</td>\n",
       "    </tr>\n",
       "    <tr>\n",
       "      <th>17</th>\n",
       "      <td>pi9_20240804_120508.jpg</td>\n",
       "      <td>Hymenoptera</td>\n",
       "      <td>Apidae</td>\n",
       "      <td>Bombus</td>\n",
       "      <td>vosnesenskii</td>\n",
       "      <td>female</td>\n",
       "    </tr>\n",
       "    <tr>\n",
       "      <th>18</th>\n",
       "      <td>pi9_20240804_121508.jpg</td>\n",
       "      <td>Hymenoptera</td>\n",
       "      <td>Apidae</td>\n",
       "      <td>Bombus</td>\n",
       "      <td>nevadensis</td>\n",
       "      <td>male</td>\n",
       "    </tr>\n",
       "    <tr>\n",
       "      <th>19</th>\n",
       "      <td>pi9_20240804_121509.jpg</td>\n",
       "      <td>Hymenoptera</td>\n",
       "      <td>Apidae</td>\n",
       "      <td>Bombus</td>\n",
       "      <td>nevadensis</td>\n",
       "      <td>male</td>\n",
       "    </tr>\n",
       "  </tbody>\n",
       "</table>\n",
       "</div>"
      ],
      "text/plain": [
       "                   filename        order  family       genus      species   \\\n",
       "0   pi1_20240806_125252.jpg  Hymenoptera  Apidae      Bombus    nevadensis   \n",
       "1   pi1_20240809_144038.jpg  Hymenoptera  Apidae      Bombus      fervidus   \n",
       "2   pi2_20240809_144633.jpg  Hymenoptera  Apidae      Bombus  vosnesenskii   \n",
       "3   pi3_20240825_114927.jpg  Hymenoptera  Apidae      Bombus      fervidus   \n",
       "4   pi3_20240825_114928.jpg  Hymenoptera  Apidae      Bombus      fervidus   \n",
       "5   pi3_20240825_114929.jpg  Hymenoptera  Apidae      Bombus      fervidus   \n",
       "6   pi5_20240731_153359.jpg  Hymenoptera  Apidae      Bombus    nevadensis   \n",
       "7   pi5_20240814_132339.jpg  Hymenoptera  Apidae      Bombus  griseocollis   \n",
       "8   pi6_20240820_120352.jpg  Hymenoptera  Apidae      Bombus  vosnesenskii   \n",
       "9   pi6_20240824_131028.jpg  Hymenoptera  Apidae      Bombus      fervidus   \n",
       "10  pi6_20240824_133050.jpg  Hymenoptera  Apidae  Melissodes           NaN   \n",
       "11  pi6_20240824_133051.jpg  Hymenoptera  Apidae  Melissodes           NaN   \n",
       "12  pi6_20240824_133052.jpg  Hymenoptera  Apidae  Melissodes           NaN   \n",
       "13  pi6_20240824_133053.jpg  Hymenoptera  Apidae  Melissodes           NaN   \n",
       "14  pi7_20240816_095207.jpg  Hymenoptera  Apidae      Bombus  vosnesenskii   \n",
       "15  pi8_20240801_123139.jpg  Hymenoptera  Apidae      Bombus    nevadensis   \n",
       "16  pi8_20240825_133559.jpg  Hymenoptera  Apidae      Bombus      fervidus   \n",
       "17  pi9_20240804_120508.jpg  Hymenoptera  Apidae      Bombus  vosnesenskii   \n",
       "18  pi9_20240804_121508.jpg  Hymenoptera  Apidae      Bombus    nevadensis   \n",
       "19  pi9_20240804_121509.jpg  Hymenoptera  Apidae      Bombus    nevadensis   \n",
       "\n",
       "       sex  \n",
       "0     male  \n",
       "1   female  \n",
       "2   female  \n",
       "3   female  \n",
       "4   female  \n",
       "5   female  \n",
       "6     male  \n",
       "7   female  \n",
       "8   female  \n",
       "9   female  \n",
       "10  female  \n",
       "11  female  \n",
       "12  female  \n",
       "13  female  \n",
       "14  female  \n",
       "15    male  \n",
       "16    male  \n",
       "17  female  \n",
       "18    male  \n",
       "19    male  "
      ]
     },
     "execution_count": 6,
     "metadata": {},
     "output_type": "execute_result"
    }
   ],
   "source": [
    "df_recheck = pd.read_csv('csvs/recheck_imgs.csv')\n",
    "df_recheck.columns = df.columns\n",
    "df_recheck"
   ]
  },
  {
   "cell_type": "code",
   "execution_count": 7,
   "metadata": {},
   "outputs": [
    {
     "data": {
      "application/vnd.microsoft.datawrangler.viewer.v0+json": {
       "columns": [
        {
         "name": "index",
         "rawType": "int64",
         "type": "integer"
        },
        {
         "name": "filename",
         "rawType": "object",
         "type": "string"
        },
        {
         "name": "order",
         "rawType": "object",
         "type": "unknown"
        },
        {
         "name": "family",
         "rawType": "object",
         "type": "unknown"
        },
        {
         "name": "genus",
         "rawType": "object",
         "type": "unknown"
        },
        {
         "name": "species ",
         "rawType": "object",
         "type": "unknown"
        },
        {
         "name": "sex",
         "rawType": "object",
         "type": "unknown"
        }
       ],
       "ref": "576d2fb0-f1e8-43e0-967a-620d0631efe1",
       "rows": [
        [
         "0",
         "pi1_20240711_084351.jpg",
         "Hymenoptera",
         "Apidae",
         "Bombus ",
         "vosnesenskii",
         "female"
        ],
        [
         "1",
         "pi1_20240711_090237.jpg",
         "Hymenoptera",
         "Apidae",
         "Bombus ",
         "fervidus",
         "female"
        ],
        [
         "2",
         "pi1_20240711_095506.jpg",
         "Hymenoptera",
         "Apidae",
         "Bombus ",
         "fervidus",
         "female"
        ],
        [
         "3",
         "pi1_20240711_104047.jpg",
         "Hymenoptera",
         "Apidae",
         "Bombus ",
         "fervidus",
         "female"
        ],
        [
         "4",
         "pi1_20240711_120641.jpg",
         "Hymenoptera",
         "Apidae",
         "Bombus ",
         "fervidus",
         "female"
        ],
        [
         "5",
         "pi1_20240711_121937.jpg",
         "Hymenoptera",
         "Apidae",
         "Bombus ",
         "fervidus",
         "female"
        ],
        [
         "6",
         "pi1_20240711_123412.jpg",
         "Hymenoptera",
         "Apidae",
         "Bombus ",
         "vosnesenskii",
         "female"
        ],
        [
         "7",
         "pi1_20240711_132145.jpg",
         "Hymenoptera",
         "Apidae",
         "Bombus ",
         "griseocollis ",
         "female"
        ],
        [
         "8",
         "pi1_20240711_133046.jpg",
         "Hymenoptera",
         "Apidae",
         "Anthophora ",
         "urbana",
         "female"
        ],
        [
         "9",
         "pi1_20240711_143458.jpg",
         "Hymenoptera",
         "Apidae",
         "Anthophora ",
         "urbana",
         "female"
        ],
        [
         "10",
         "pi1_20240711_143501.jpg",
         "Hymenoptera",
         "Apidae",
         "Anthophora ",
         "urbana",
         "female"
        ],
        [
         "11",
         "pi1_20240711_153555.jpg",
         "Hymenoptera",
         "Apidae",
         "Bombus ",
         "vosnesenskii",
         "female"
        ],
        [
         "12",
         "pi1_20240711_155837.jpg",
         "Hymenoptera",
         "Apidae",
         "Bombus ",
         null,
         "female"
        ],
        [
         "13",
         "pi1_20240712_084508.jpg",
         "Hymenoptera",
         "Apidae",
         "Bombus ",
         "fervidus",
         "female"
        ],
        [
         "14",
         "pi1_20240712_093517.jpg",
         "Hymenoptera",
         "Apidae",
         "Anthophora ",
         "urbana",
         "female"
        ],
        [
         "15",
         "pi1_20240712_093520.jpg",
         "Hymenoptera",
         "Apidae",
         "Anthophora ",
         "urbana",
         "female"
        ],
        [
         "16",
         "pi1_20240712_095611.jpg",
         "Hymenoptera",
         "Apidae",
         "Bombus ",
         "fervidus",
         "female"
        ],
        [
         "17",
         "pi1_20240712_101550.jpg",
         "Hymenoptera",
         "Apidae",
         "Bombus ",
         "fervidus",
         "female"
        ],
        [
         "18",
         "pi1_20240712_104326.jpg",
         "Hymenoptera",
         "Apidae",
         "Bombus ",
         "vosnesenskii",
         "female"
        ],
        [
         "19",
         "pi1_20240712_111932.jpg",
         "Hymenoptera",
         "Apidae",
         "Bombus ",
         "vosnesenskii",
         "female"
        ],
        [
         "20",
         "pi1_20240712_111934.jpg",
         "Hymenoptera",
         "Apidae",
         "Bombus ",
         "vosnesenskii",
         "female"
        ],
        [
         "21",
         "pi1_20240712_111936.jpg",
         "Hymenoptera",
         "Apidae",
         "Bombus ",
         "vosnesenskii",
         "female"
        ],
        [
         "22",
         "pi1_20240712_111938.jpg",
         "Hymenoptera",
         "Apidae",
         "Bombus ",
         "vosnesenskii",
         "female"
        ],
        [
         "23",
         "pi1_20240712_111941.jpg",
         "Hymenoptera",
         "Apidae",
         "Bombus ",
         "vosnesenskii",
         "female"
        ],
        [
         "24",
         "pi1_20240712_111943.jpg",
         "Hymenoptera",
         "Apidae",
         "Bombus ",
         "vosnesenskii",
         "female"
        ],
        [
         "25",
         "pi1_20240712_111945.jpg",
         "Hymenoptera",
         "Apidae",
         "Bombus ",
         "vosnesenskii",
         "female"
        ],
        [
         "26",
         "pi1_20240712_111947.jpg",
         "Hymenoptera",
         "Apidae",
         "Bombus ",
         "vosnesenskii",
         "female"
        ],
        [
         "27",
         "pi1_20240712_111949.jpg",
         "Hymenoptera",
         "Apidae",
         "Bombus ",
         "vosnesenskii",
         "female"
        ],
        [
         "28",
         "pi1_20240712_120015.jpg",
         "Hymenoptera",
         "Apidae",
         "Anthophora ",
         "urbana",
         "female"
        ],
        [
         "29",
         "pi1_20240712_121945.jpg",
         "Hymenoptera",
         "Apidae",
         "Bombus ",
         "vosnesenskii",
         "female"
        ],
        [
         "30",
         "pi1_20240712_144149.jpg",
         "Hymenoptera",
         "Apidae",
         "Bombus ",
         "vosnesenskii",
         null
        ],
        [
         "31",
         "pi1_20240712_154435.jpg",
         "Hymenoptera",
         "Apidae",
         "Bombus ",
         "vosnesenskii",
         "female"
        ],
        [
         "32",
         "pi1_20240713_061826.jpg",
         "Hymenoptera",
         "Apidae",
         "Bombus ",
         "fervidus",
         "female"
        ],
        [
         "33",
         "pi1_20240713_090336.jpg",
         "Hymenoptera",
         "Apidae",
         "Bombus ",
         "vosnesenskii",
         "female"
        ],
        [
         "34",
         "pi1_20240713_090338.jpg",
         "Hymenoptera",
         "Apidae",
         "Bombus ",
         "vosnesenskii",
         "female"
        ],
        [
         "35",
         "pi1_20240713_090341.jpg",
         "Hymenoptera",
         "Apidae",
         "Bombus ",
         "vosnesenskii",
         "female"
        ],
        [
         "36",
         "pi1_20240713_092202.jpg",
         "Hymenoptera",
         "Apidae",
         "Bombus ",
         "fervidus",
         "female"
        ],
        [
         "37",
         "pi1_20240713_093641.jpg",
         "Hymenoptera",
         "Apidae",
         "Bombus ",
         "fervidus",
         "female"
        ],
        [
         "38",
         "pi1_20240713_095623.jpg",
         "Hymenoptera",
         "Apidae",
         "Bombus ",
         "vosnesenskii",
         "female"
        ],
        [
         "39",
         "pi1_20240713_111907.jpg",
         "Hymenoptera",
         "Apidae",
         "Bombus ",
         null,
         null
        ],
        [
         "40",
         "pi1_20240713_122331.jpg",
         "Hymenoptera",
         "Apidae",
         "Bombus ",
         "vosnesenskii",
         "female"
        ],
        [
         "41",
         "pi1_20240714_083553.jpg",
         "Hymenoptera",
         "Apidae",
         "Bombus ",
         "fervidus",
         "female"
        ],
        [
         "42",
         "pi1_20240714_092852.jpg",
         "Hymenoptera",
         "Apidae",
         "Bombus ",
         "vosnesenskii",
         "female"
        ],
        [
         "43",
         "pi1_20240714_100117.jpg",
         "Hymenoptera",
         "Apidae",
         "Bombus ",
         "vosnesenskii",
         "female"
        ],
        [
         "44",
         "pi1_20240714_101711.jpg",
         "Hymenoptera",
         "Apidae",
         "Bombus ",
         null,
         null
        ],
        [
         "45",
         "pi1_20240714_101952.jpg",
         "Hymenoptera",
         "Apidae",
         "Bombus ",
         "fervidus",
         "female"
        ],
        [
         "46",
         "pi1_20240715_081736.jpg",
         "Hymenoptera",
         "Apidae",
         "Bombus ",
         null,
         "female"
        ],
        [
         "47",
         "pi1_20240715_081852.jpg",
         "Hymenoptera",
         "Apidae",
         "Bombus ",
         "fervidus",
         "female"
        ],
        [
         "48",
         "pi1_20240715_083633.jpg",
         "Hymenoptera",
         "Apidae",
         "Bombus ",
         "vosnesenskii",
         "female"
        ],
        [
         "49",
         "pi1_20240715_083712.jpg",
         "Hymenoptera",
         "Apidae",
         "Bombus ",
         "vosnesenskii",
         "female"
        ]
       ],
       "shape": {
        "columns": 6,
        "rows": 7656
       }
      },
      "text/html": [
       "<div>\n",
       "<style scoped>\n",
       "    .dataframe tbody tr th:only-of-type {\n",
       "        vertical-align: middle;\n",
       "    }\n",
       "\n",
       "    .dataframe tbody tr th {\n",
       "        vertical-align: top;\n",
       "    }\n",
       "\n",
       "    .dataframe thead th {\n",
       "        text-align: right;\n",
       "    }\n",
       "</style>\n",
       "<table border=\"1\" class=\"dataframe\">\n",
       "  <thead>\n",
       "    <tr style=\"text-align: right;\">\n",
       "      <th></th>\n",
       "      <th>filename</th>\n",
       "      <th>order</th>\n",
       "      <th>family</th>\n",
       "      <th>genus</th>\n",
       "      <th>species</th>\n",
       "      <th>sex</th>\n",
       "    </tr>\n",
       "  </thead>\n",
       "  <tbody>\n",
       "    <tr>\n",
       "      <th>0</th>\n",
       "      <td>pi1_20240711_084351.jpg</td>\n",
       "      <td>Hymenoptera</td>\n",
       "      <td>Apidae</td>\n",
       "      <td>Bombus</td>\n",
       "      <td>vosnesenskii</td>\n",
       "      <td>female</td>\n",
       "    </tr>\n",
       "    <tr>\n",
       "      <th>1</th>\n",
       "      <td>pi1_20240711_090237.jpg</td>\n",
       "      <td>Hymenoptera</td>\n",
       "      <td>Apidae</td>\n",
       "      <td>Bombus</td>\n",
       "      <td>fervidus</td>\n",
       "      <td>female</td>\n",
       "    </tr>\n",
       "    <tr>\n",
       "      <th>2</th>\n",
       "      <td>pi1_20240711_095506.jpg</td>\n",
       "      <td>Hymenoptera</td>\n",
       "      <td>Apidae</td>\n",
       "      <td>Bombus</td>\n",
       "      <td>fervidus</td>\n",
       "      <td>female</td>\n",
       "    </tr>\n",
       "    <tr>\n",
       "      <th>3</th>\n",
       "      <td>pi1_20240711_104047.jpg</td>\n",
       "      <td>Hymenoptera</td>\n",
       "      <td>Apidae</td>\n",
       "      <td>Bombus</td>\n",
       "      <td>fervidus</td>\n",
       "      <td>female</td>\n",
       "    </tr>\n",
       "    <tr>\n",
       "      <th>4</th>\n",
       "      <td>pi1_20240711_120641.jpg</td>\n",
       "      <td>Hymenoptera</td>\n",
       "      <td>Apidae</td>\n",
       "      <td>Bombus</td>\n",
       "      <td>fervidus</td>\n",
       "      <td>female</td>\n",
       "    </tr>\n",
       "    <tr>\n",
       "      <th>...</th>\n",
       "      <td>...</td>\n",
       "      <td>...</td>\n",
       "      <td>...</td>\n",
       "      <td>...</td>\n",
       "      <td>...</td>\n",
       "      <td>...</td>\n",
       "    </tr>\n",
       "    <tr>\n",
       "      <th>17</th>\n",
       "      <td>pi8_20240825_133559.jpg</td>\n",
       "      <td>Hymenoptera</td>\n",
       "      <td>Apidae</td>\n",
       "      <td>Bombus</td>\n",
       "      <td>fervidus</td>\n",
       "      <td>male</td>\n",
       "    </tr>\n",
       "    <tr>\n",
       "      <th>18</th>\n",
       "      <td>pi9_20240804_120508.jpg</td>\n",
       "      <td>Hymenoptera</td>\n",
       "      <td>Apidae</td>\n",
       "      <td>Bombus</td>\n",
       "      <td>vosnesenskii</td>\n",
       "      <td>female</td>\n",
       "    </tr>\n",
       "    <tr>\n",
       "      <th>19</th>\n",
       "      <td>pi9_20240804_121508.jpg</td>\n",
       "      <td>Hymenoptera</td>\n",
       "      <td>Apidae</td>\n",
       "      <td>Bombus</td>\n",
       "      <td>nevadensis</td>\n",
       "      <td>male</td>\n",
       "    </tr>\n",
       "    <tr>\n",
       "      <th>20</th>\n",
       "      <td>pi9_20240804_121509.jpg</td>\n",
       "      <td>Hymenoptera</td>\n",
       "      <td>Apidae</td>\n",
       "      <td>Bombus</td>\n",
       "      <td>nevadensis</td>\n",
       "      <td>male</td>\n",
       "    </tr>\n",
       "    <tr>\n",
       "      <th>21</th>\n",
       "      <td>pi9_20240808_130939.jpg</td>\n",
       "      <td>Hymenoptera</td>\n",
       "      <td>Apidae</td>\n",
       "      <td>Bombus</td>\n",
       "      <td>nevadensis</td>\n",
       "      <td>male</td>\n",
       "    </tr>\n",
       "  </tbody>\n",
       "</table>\n",
       "<p>7656 rows × 6 columns</p>\n",
       "</div>"
      ],
      "text/plain": [
       "                   filename        order  family    genus      species   \\\n",
       "0   pi1_20240711_084351.jpg  Hymenoptera  Apidae  Bombus   vosnesenskii   \n",
       "1   pi1_20240711_090237.jpg  Hymenoptera  Apidae  Bombus       fervidus   \n",
       "2   pi1_20240711_095506.jpg  Hymenoptera  Apidae  Bombus       fervidus   \n",
       "3   pi1_20240711_104047.jpg  Hymenoptera  Apidae  Bombus       fervidus   \n",
       "4   pi1_20240711_120641.jpg  Hymenoptera  Apidae  Bombus       fervidus   \n",
       "..                      ...          ...     ...      ...           ...   \n",
       "17  pi8_20240825_133559.jpg  Hymenoptera  Apidae   Bombus      fervidus   \n",
       "18  pi9_20240804_120508.jpg  Hymenoptera  Apidae   Bombus  vosnesenskii   \n",
       "19  pi9_20240804_121508.jpg  Hymenoptera  Apidae   Bombus    nevadensis   \n",
       "20  pi9_20240804_121509.jpg  Hymenoptera  Apidae   Bombus    nevadensis   \n",
       "21  pi9_20240808_130939.jpg  Hymenoptera  Apidae   Bombus    nevadensis   \n",
       "\n",
       "       sex  \n",
       "0   female  \n",
       "1   female  \n",
       "2   female  \n",
       "3   female  \n",
       "4   female  \n",
       "..     ...  \n",
       "17    male  \n",
       "18  female  \n",
       "19    male  \n",
       "20    male  \n",
       "21    male  \n",
       "\n",
       "[7656 rows x 6 columns]"
      ]
     },
     "execution_count": 7,
     "metadata": {},
     "output_type": "execute_result"
    }
   ],
   "source": [
    "df = pd.concat([df, df_1124, df_recheck]).drop_duplicates(subset=['filename'], keep='first')\n",
    "df"
   ]
  },
  {
   "cell_type": "code",
   "execution_count": 8,
   "metadata": {},
   "outputs": [],
   "source": [
    "\n",
    "df[['pi', 'datetime']] = df['filename'].str.extract(r'^pi(\\d+)_(\\d{8}_\\d{6})')\n",
    "df['pi'] = df['pi'].astype(int)\n",
    "df['datetime'] = pd.to_datetime(df['datetime'], format='%Y%m%d_%H%M%S')\n",
    "df['date'] = df['datetime'].dt.date\n",
    "df.columns = df.columns.str.strip()\n",
    "\n",
    "for col in df.select_dtypes(include='object').columns:\n",
    "    if df[col].apply(lambda x: isinstance(x, str)).any():\n",
    "        try:\n",
    "            df[col] = df[col].str.strip()\n",
    "        except:\n",
    "            continue"
   ]
  },
  {
   "cell_type": "code",
   "execution_count": 9,
   "metadata": {},
   "outputs": [],
   "source": [
    "apis_df = pd.read_csv('csvs/apis.csv')\n",
    "apis_df= apis_df[apis_df['genus'] == 'Apis']\n",
    "# apis_df.to_csv('csvs/clean_dfs/apis_df.csv', index=False)"
   ]
  },
  {
   "cell_type": "code",
   "execution_count": 10,
   "metadata": {},
   "outputs": [
    {
     "data": {
      "application/vnd.microsoft.datawrangler.viewer.v0+json": {
       "columns": [
        {
         "name": "index",
         "rawType": "int64",
         "type": "integer"
        },
        {
         "name": "filename",
         "rawType": "object",
         "type": "string"
        },
        {
         "name": "Order",
         "rawType": "object",
         "type": "string"
        },
        {
         "name": "family",
         "rawType": "object",
         "type": "string"
        },
        {
         "name": "genus",
         "rawType": "object",
         "type": "string"
        },
        {
         "name": "species",
         "rawType": "object",
         "type": "string"
        },
        {
         "name": "sex",
         "rawType": "object",
         "type": "string"
        }
       ],
       "ref": "9bfb2451-a336-48b4-9769-a8c24666c405",
       "rows": [
        [
         "0",
         "pi10_20240808_152658.jpg",
         "Hymenoptera",
         "Apidae",
         "Apis",
         "mellifera",
         "female"
        ],
        [
         "1",
         "pi10_20240810_151632.jpg",
         "Hymenoptera",
         "Apidae",
         "Apis",
         "mellifera",
         "female"
        ],
        [
         "2",
         "pi10_20240816_181239.jpg",
         "Hymenoptera",
         "Apidae",
         "Apis",
         "mellifera",
         "female"
        ],
        [
         "3",
         "pi10_20240827_152056.jpg",
         "Hymenoptera",
         "Apidae",
         "Apis",
         "mellifera",
         "female"
        ],
        [
         "4",
         "pi10_20240827_152601.jpg",
         "Hymenoptera",
         "Apidae",
         "Apis",
         "mellifera",
         "female"
        ],
        [
         "5",
         "pi10_20240903_173306.jpg",
         "Hymenoptera",
         "Apidae",
         "Apis",
         "mellifera",
         "female"
        ],
        [
         "6",
         "pi1_20240714_144948.jpg",
         "Hymenoptera",
         "Apidae",
         "Apis",
         "mellifera",
         "female"
        ],
        [
         "7",
         "pi1_20240724_113536.jpg",
         "Hymenoptera",
         "Apidae",
         "Apis",
         "mellifera",
         "female"
        ],
        [
         "8",
         "pi1_20240724_155930.jpg",
         "Hymenoptera",
         "Apidae",
         "Apis",
         "mellifera",
         "female"
        ],
        [
         "9",
         "pi1_20240726_140810.jpg",
         "Hymenoptera",
         "Apidae",
         "Apis",
         "mellifera",
         "female"
        ],
        [
         "10",
         "pi1_20240802_145602.jpg",
         "Hymenoptera",
         "Apidae",
         "Apis",
         "mellifera",
         "female"
        ],
        [
         "11",
         "pi1_20240810_110048.jpg",
         "Hymenoptera",
         "Apidae",
         "Apis",
         "mellifera",
         "female"
        ],
        [
         "12",
         "pi1_20240821_131212.jpg",
         "Hymenoptera",
         "Apidae",
         "Apis",
         "mellifera",
         "female"
        ],
        [
         "13",
         "pi2_20240731_174453.jpg",
         "Hymenoptera",
         "Apidae",
         "Apis",
         "mellifera",
         "female"
        ],
        [
         "14",
         "pi2_20240731_174455.jpg",
         "Hymenoptera",
         "Apidae",
         "Apis",
         "mellifera",
         "female"
        ],
        [
         "15",
         "pi2_20240803_144315.jpg",
         "Hymenoptera",
         "Apidae",
         "Apis",
         "mellifera",
         "female"
        ],
        [
         "16",
         "pi2_20240806_125258.jpg",
         "Hymenoptera",
         "Apidae",
         "Apis",
         "mellifera",
         "female"
        ],
        [
         "17",
         "pi2_20240806_161014.jpg",
         "Hymenoptera",
         "Apidae",
         "Apis",
         "mellifera",
         "female"
        ],
        [
         "18",
         "pi2_20240808_161857.jpg",
         "Hymenoptera",
         "Apidae",
         "Apis",
         "mellifera",
         "female"
        ],
        [
         "19",
         "pi2_20240808_162020.jpg",
         "Hymenoptera",
         "Apidae",
         "Apis",
         "mellifera",
         "female"
        ],
        [
         "20",
         "pi2_20240810_122317.jpg",
         "Hymenoptera",
         "Apidae",
         "Apis",
         "mellifera",
         "female"
        ],
        [
         "21",
         "pi2_20240817_133715.jpg",
         "Hymenoptera",
         "Apidae",
         "Apis",
         "mellifera",
         "female"
        ],
        [
         "22",
         "pi2_20240817_133716.jpg",
         "Hymenoptera",
         "Apidae",
         "Apis",
         "mellifera",
         "female"
        ],
        [
         "23",
         "pi2_20240817_133717.jpg",
         "Hymenoptera",
         "Apidae",
         "Apis",
         "mellifera",
         "female"
        ],
        [
         "24",
         "pi2_20240817_133718.jpg",
         "Hymenoptera",
         "Apidae",
         "Apis",
         "mellifera",
         "female"
        ],
        [
         "25",
         "pi2_20240817_133719.jpg",
         "Hymenoptera",
         "Apidae",
         "Apis",
         "mellifera",
         "female"
        ],
        [
         "26",
         "pi2_20240817_133720.jpg",
         "Hymenoptera",
         "Apidae",
         "Apis",
         "mellifera",
         "female"
        ],
        [
         "27",
         "pi2_20240817_133721.jpg",
         "Hymenoptera",
         "Apidae",
         "Apis",
         "mellifera",
         "female"
        ],
        [
         "28",
         "pi2_20240817_133722.jpg",
         "Hymenoptera",
         "Apidae",
         "Apis",
         "mellifera",
         "female"
        ],
        [
         "29",
         "pi2_20240817_133723.jpg",
         "Hymenoptera",
         "Apidae",
         "Apis",
         "mellifera",
         "female"
        ],
        [
         "30",
         "pi2_20240817_133725.jpg",
         "Hymenoptera",
         "Apidae",
         "Apis",
         "mellifera",
         "female"
        ],
        [
         "31",
         "pi2_20240817_133726.jpg",
         "Hymenoptera",
         "Apidae",
         "Apis",
         "mellifera",
         "female"
        ],
        [
         "32",
         "pi2_20240817_133727.jpg",
         "Hymenoptera",
         "Apidae",
         "Apis",
         "mellifera",
         "female"
        ],
        [
         "33",
         "pi2_20240817_133728.jpg",
         "Hymenoptera",
         "Apidae",
         "Apis",
         "mellifera",
         "female"
        ],
        [
         "34",
         "pi2_20240817_133729.jpg",
         "Hymenoptera",
         "Apidae",
         "Apis",
         "mellifera",
         "female"
        ],
        [
         "35",
         "pi2_20240817_133730.jpg",
         "Hymenoptera",
         "Apidae",
         "Apis",
         "mellifera",
         "female"
        ],
        [
         "36",
         "pi2_20240817_133731.jpg",
         "Hymenoptera",
         "Apidae",
         "Apis",
         "mellifera",
         "female"
        ],
        [
         "37",
         "pi2_20240817_133732.jpg",
         "Hymenoptera",
         "Apidae",
         "Apis",
         "mellifera",
         "female"
        ],
        [
         "38",
         "pi2_20240817_133733.jpg",
         "Hymenoptera",
         "Apidae",
         "Apis",
         "mellifera",
         "female"
        ],
        [
         "39",
         "pi2_20240817_133734.jpg",
         "Hymenoptera",
         "Apidae",
         "Apis",
         "mellifera",
         "female"
        ],
        [
         "40",
         "pi2_20240817_133735.jpg",
         "Hymenoptera",
         "Apidae",
         "Apis",
         "mellifera",
         "female"
        ],
        [
         "41",
         "pi2_20240817_133736.jpg",
         "Hymenoptera",
         "Apidae",
         "Apis",
         "mellifera",
         "female"
        ],
        [
         "42",
         "pi2_20240817_133737.jpg",
         "Hymenoptera",
         "Apidae",
         "Apis",
         "mellifera",
         "female"
        ],
        [
         "43",
         "pi2_20240817_133738.jpg",
         "Hymenoptera",
         "Apidae",
         "Apis",
         "mellifera",
         "female"
        ],
        [
         "44",
         "pi2_20240817_133739.jpg",
         "Hymenoptera",
         "Apidae",
         "Apis",
         "mellifera",
         "female"
        ],
        [
         "45",
         "pi2_20240817_133741.jpg",
         "Hymenoptera",
         "Apidae",
         "Apis",
         "mellifera",
         "female"
        ],
        [
         "46",
         "pi2_20240817_133742.jpg",
         "Hymenoptera",
         "Apidae",
         "Apis",
         "mellifera",
         "female"
        ],
        [
         "47",
         "pi2_20240817_133743.jpg",
         "Hymenoptera",
         "Apidae",
         "Apis",
         "mellifera",
         "female"
        ],
        [
         "48",
         "pi2_20240817_133744.jpg",
         "Hymenoptera",
         "Apidae",
         "Apis",
         "mellifera",
         "female"
        ],
        [
         "49",
         "pi2_20240817_133745.jpg",
         "Hymenoptera",
         "Apidae",
         "Apis",
         "mellifera",
         "female"
        ]
       ],
       "shape": {
        "columns": 6,
        "rows": 210
       }
      },
      "text/html": [
       "<div>\n",
       "<style scoped>\n",
       "    .dataframe tbody tr th:only-of-type {\n",
       "        vertical-align: middle;\n",
       "    }\n",
       "\n",
       "    .dataframe tbody tr th {\n",
       "        vertical-align: top;\n",
       "    }\n",
       "\n",
       "    .dataframe thead th {\n",
       "        text-align: right;\n",
       "    }\n",
       "</style>\n",
       "<table border=\"1\" class=\"dataframe\">\n",
       "  <thead>\n",
       "    <tr style=\"text-align: right;\">\n",
       "      <th></th>\n",
       "      <th>filename</th>\n",
       "      <th>Order</th>\n",
       "      <th>family</th>\n",
       "      <th>genus</th>\n",
       "      <th>species</th>\n",
       "      <th>sex</th>\n",
       "    </tr>\n",
       "  </thead>\n",
       "  <tbody>\n",
       "    <tr>\n",
       "      <th>0</th>\n",
       "      <td>pi10_20240808_152658.jpg</td>\n",
       "      <td>Hymenoptera</td>\n",
       "      <td>Apidae</td>\n",
       "      <td>Apis</td>\n",
       "      <td>mellifera</td>\n",
       "      <td>female</td>\n",
       "    </tr>\n",
       "    <tr>\n",
       "      <th>1</th>\n",
       "      <td>pi10_20240810_151632.jpg</td>\n",
       "      <td>Hymenoptera</td>\n",
       "      <td>Apidae</td>\n",
       "      <td>Apis</td>\n",
       "      <td>mellifera</td>\n",
       "      <td>female</td>\n",
       "    </tr>\n",
       "    <tr>\n",
       "      <th>2</th>\n",
       "      <td>pi10_20240816_181239.jpg</td>\n",
       "      <td>Hymenoptera</td>\n",
       "      <td>Apidae</td>\n",
       "      <td>Apis</td>\n",
       "      <td>mellifera</td>\n",
       "      <td>female</td>\n",
       "    </tr>\n",
       "    <tr>\n",
       "      <th>3</th>\n",
       "      <td>pi10_20240827_152056.jpg</td>\n",
       "      <td>Hymenoptera</td>\n",
       "      <td>Apidae</td>\n",
       "      <td>Apis</td>\n",
       "      <td>mellifera</td>\n",
       "      <td>female</td>\n",
       "    </tr>\n",
       "    <tr>\n",
       "      <th>4</th>\n",
       "      <td>pi10_20240827_152601.jpg</td>\n",
       "      <td>Hymenoptera</td>\n",
       "      <td>Apidae</td>\n",
       "      <td>Apis</td>\n",
       "      <td>mellifera</td>\n",
       "      <td>female</td>\n",
       "    </tr>\n",
       "    <tr>\n",
       "      <th>...</th>\n",
       "      <td>...</td>\n",
       "      <td>...</td>\n",
       "      <td>...</td>\n",
       "      <td>...</td>\n",
       "      <td>...</td>\n",
       "      <td>...</td>\n",
       "    </tr>\n",
       "    <tr>\n",
       "      <th>216</th>\n",
       "      <td>pi9_20240731_171503.jpg</td>\n",
       "      <td>Hymenoptera</td>\n",
       "      <td>Apidae</td>\n",
       "      <td>Apis</td>\n",
       "      <td>mellifera</td>\n",
       "      <td>female</td>\n",
       "    </tr>\n",
       "    <tr>\n",
       "      <th>217</th>\n",
       "      <td>pi9_20240806_160443.jpg</td>\n",
       "      <td>Hymenoptera</td>\n",
       "      <td>Apidae</td>\n",
       "      <td>Apis</td>\n",
       "      <td>mellifera</td>\n",
       "      <td>female</td>\n",
       "    </tr>\n",
       "    <tr>\n",
       "      <th>218</th>\n",
       "      <td>pi9_20240813_165823.jpg</td>\n",
       "      <td>Hymenoptera</td>\n",
       "      <td>Apidae</td>\n",
       "      <td>Apis</td>\n",
       "      <td>mellifera</td>\n",
       "      <td>female</td>\n",
       "    </tr>\n",
       "    <tr>\n",
       "      <th>219</th>\n",
       "      <td>pi9_20240813_165824.jpg</td>\n",
       "      <td>Hymenoptera</td>\n",
       "      <td>Apidae</td>\n",
       "      <td>Apis</td>\n",
       "      <td>mellifera</td>\n",
       "      <td>female</td>\n",
       "    </tr>\n",
       "    <tr>\n",
       "      <th>220</th>\n",
       "      <td>pi9_20240908_112251.jpg</td>\n",
       "      <td>Hymenoptera</td>\n",
       "      <td>Apidae</td>\n",
       "      <td>Apis</td>\n",
       "      <td>mellifera</td>\n",
       "      <td>female</td>\n",
       "    </tr>\n",
       "  </tbody>\n",
       "</table>\n",
       "<p>210 rows × 6 columns</p>\n",
       "</div>"
      ],
      "text/plain": [
       "                     filename        Order  family genus    species     sex\n",
       "0    pi10_20240808_152658.jpg  Hymenoptera  Apidae  Apis  mellifera  female\n",
       "1    pi10_20240810_151632.jpg  Hymenoptera  Apidae  Apis  mellifera  female\n",
       "2    pi10_20240816_181239.jpg  Hymenoptera  Apidae  Apis  mellifera  female\n",
       "3    pi10_20240827_152056.jpg  Hymenoptera  Apidae  Apis  mellifera  female\n",
       "4    pi10_20240827_152601.jpg  Hymenoptera  Apidae  Apis  mellifera  female\n",
       "..                        ...          ...     ...   ...        ...     ...\n",
       "216   pi9_20240731_171503.jpg  Hymenoptera  Apidae  Apis  mellifera  female\n",
       "217   pi9_20240806_160443.jpg  Hymenoptera  Apidae  Apis  mellifera  female\n",
       "218   pi9_20240813_165823.jpg  Hymenoptera  Apidae  Apis  mellifera  female\n",
       "219   pi9_20240813_165824.jpg  Hymenoptera  Apidae  Apis  mellifera  female\n",
       "220   pi9_20240908_112251.jpg  Hymenoptera  Apidae  Apis  mellifera  female\n",
       "\n",
       "[210 rows x 6 columns]"
      ]
     },
     "execution_count": 10,
     "metadata": {},
     "output_type": "execute_result"
    }
   ],
   "source": [
    "apis_df"
   ]
  },
  {
   "cell_type": "code",
   "execution_count": 11,
   "metadata": {},
   "outputs": [],
   "source": [
    "# missed_files = set(img_list['filename']) - set(df['filename'])\n",
    "# unique_filenames_df = pd.DataFrame(list(missed_files), columns=['filename'])\n",
    "# unique_filenames_df.to_csv('missed_filenames.csv', index=False, header=False)\n"
   ]
  },
  {
   "cell_type": "code",
   "execution_count": 13,
   "metadata": {},
   "outputs": [
    {
     "data": {
      "text/plain": [
       "array(['vosnesenskii', 'fervidus', 'griseocollis', 'unk', 'appositus',\n",
       "       'nevadensis'], dtype=object)"
      ]
     },
     "execution_count": 13,
     "metadata": {},
     "output_type": "execute_result"
    }
   ],
   "source": [
    "bombus_df = df[df['genus'] == 'Bombus'].drop(columns=['order', 'family', 'genus'])\n",
    "bombus_df = bombus_df.fillna('unk')\n",
    "bombus_df['species'].unique()"
   ]
  },
  {
   "cell_type": "code",
   "execution_count": 14,
   "metadata": {},
   "outputs": [
    {
     "data": {
      "application/vnd.microsoft.datawrangler.viewer.v0+json": {
       "columns": [
        {
         "name": "index",
         "rawType": "int64",
         "type": "integer"
        },
        {
         "name": "filename",
         "rawType": "object",
         "type": "string"
        },
        {
         "name": "species",
         "rawType": "object",
         "type": "string"
        },
        {
         "name": "sex",
         "rawType": "object",
         "type": "string"
        },
        {
         "name": "pi",
         "rawType": "int64",
         "type": "integer"
        },
        {
         "name": "datetime",
         "rawType": "datetime64[ns]",
         "type": "datetime"
        },
        {
         "name": "date",
         "rawType": "object",
         "type": "unknown"
        },
        {
         "name": "time_diff",
         "rawType": "float64",
         "type": "float"
        }
       ],
       "ref": "5f8cfb37-e8f6-46df-9d45-a6a52b762a19",
       "rows": [
        [
         "0",
         "pi1_20240711_084351.jpg",
         "vosnesenskii",
         "female",
         "1",
         "2024-07-11 08:43:51",
         "2024-07-11",
         null
        ],
        [
         "1",
         "pi1_20240711_090237.jpg",
         "fervidus",
         "female",
         "1",
         "2024-07-11 09:02:37",
         "2024-07-11",
         null
        ],
        [
         "2",
         "pi1_20240711_095506.jpg",
         "fervidus",
         "female",
         "1",
         "2024-07-11 09:55:06",
         "2024-07-11",
         "3149.0"
        ],
        [
         "3",
         "pi1_20240711_104047.jpg",
         "fervidus",
         "female",
         "1",
         "2024-07-11 10:40:47",
         "2024-07-11",
         "2741.0"
        ],
        [
         "4",
         "pi1_20240711_120641.jpg",
         "fervidus",
         "female",
         "1",
         "2024-07-11 12:06:41",
         "2024-07-11",
         "5154.0"
        ],
        [
         "5",
         "pi1_20240711_121937.jpg",
         "fervidus",
         "female",
         "1",
         "2024-07-11 12:19:37",
         "2024-07-11",
         "776.0"
        ],
        [
         "6",
         "pi1_20240711_123412.jpg",
         "vosnesenskii",
         "female",
         "1",
         "2024-07-11 12:34:12",
         "2024-07-11",
         "13821.0"
        ],
        [
         "7",
         "pi1_20240711_132145.jpg",
         "griseocollis",
         "female",
         "1",
         "2024-07-11 13:21:45",
         "2024-07-11",
         null
        ],
        [
         "11",
         "pi1_20240711_153555.jpg",
         "vosnesenskii",
         "female",
         "1",
         "2024-07-11 15:35:55",
         "2024-07-11",
         "10903.0"
        ],
        [
         "12",
         "pi1_20240711_155837.jpg",
         "unk",
         "female",
         "1",
         "2024-07-11 15:58:37",
         "2024-07-11",
         null
        ],
        [
         "13",
         "pi1_20240712_084508.jpg",
         "fervidus",
         "female",
         "1",
         "2024-07-12 08:45:08",
         "2024-07-12",
         null
        ],
        [
         "16",
         "pi1_20240712_095611.jpg",
         "fervidus",
         "female",
         "1",
         "2024-07-12 09:56:11",
         "2024-07-12",
         "4263.0"
        ],
        [
         "17",
         "pi1_20240712_101550.jpg",
         "fervidus",
         "female",
         "1",
         "2024-07-12 10:15:50",
         "2024-07-12",
         "1179.0"
        ],
        [
         "18",
         "pi1_20240712_104326.jpg",
         "vosnesenskii",
         "female",
         "1",
         "2024-07-12 10:43:26",
         "2024-07-12",
         null
        ],
        [
         "19",
         "pi1_20240712_111932.jpg",
         "vosnesenskii",
         "female",
         "1",
         "2024-07-12 11:19:32",
         "2024-07-12",
         "2166.0"
        ],
        [
         "29",
         "pi1_20240712_121945.jpg",
         "vosnesenskii",
         "female",
         "1",
         "2024-07-12 12:19:45",
         "2024-07-12",
         "3596.0"
        ],
        [
         "30",
         "pi1_20240712_144149.jpg",
         "vosnesenskii",
         "unk",
         "1",
         "2024-07-12 14:41:49",
         "2024-07-12",
         null
        ],
        [
         "31",
         "pi1_20240712_154435.jpg",
         "vosnesenskii",
         "female",
         "1",
         "2024-07-12 15:44:35",
         "2024-07-12",
         "12290.0"
        ],
        [
         "32",
         "pi1_20240713_061826.jpg",
         "fervidus",
         "female",
         "1",
         "2024-07-13 06:18:26",
         "2024-07-13",
         null
        ],
        [
         "33",
         "pi1_20240713_090336.jpg",
         "vosnesenskii",
         "female",
         "1",
         "2024-07-13 09:03:36",
         "2024-07-13",
         null
        ],
        [
         "36",
         "pi1_20240713_092202.jpg",
         "fervidus",
         "female",
         "1",
         "2024-07-13 09:22:02",
         "2024-07-13",
         "11016.0"
        ],
        [
         "37",
         "pi1_20240713_093641.jpg",
         "fervidus",
         "female",
         "1",
         "2024-07-13 09:36:41",
         "2024-07-13",
         "879.0"
        ],
        [
         "38",
         "pi1_20240713_095623.jpg",
         "vosnesenskii",
         "female",
         "1",
         "2024-07-13 09:56:23",
         "2024-07-13",
         "3162.0"
        ],
        [
         "39",
         "pi1_20240713_111907.jpg",
         "unk",
         "unk",
         "1",
         "2024-07-13 11:19:07",
         "2024-07-13",
         null
        ],
        [
         "40",
         "pi1_20240713_122331.jpg",
         "vosnesenskii",
         "female",
         "1",
         "2024-07-13 12:23:31",
         "2024-07-13",
         "8828.0"
        ],
        [
         "41",
         "pi1_20240714_083553.jpg",
         "fervidus",
         "female",
         "1",
         "2024-07-14 08:35:53",
         "2024-07-14",
         null
        ],
        [
         "42",
         "pi1_20240714_092852.jpg",
         "vosnesenskii",
         "female",
         "1",
         "2024-07-14 09:28:52",
         "2024-07-14",
         null
        ],
        [
         "43",
         "pi1_20240714_100117.jpg",
         "vosnesenskii",
         "female",
         "1",
         "2024-07-14 10:01:17",
         "2024-07-14",
         "1945.0"
        ],
        [
         "44",
         "pi1_20240714_101711.jpg",
         "unk",
         "unk",
         "1",
         "2024-07-14 10:17:11",
         "2024-07-14",
         null
        ],
        [
         "45",
         "pi1_20240714_101952.jpg",
         "fervidus",
         "female",
         "1",
         "2024-07-14 10:19:52",
         "2024-07-14",
         "6239.0"
        ],
        [
         "46",
         "pi1_20240715_081736.jpg",
         "unk",
         "female",
         "1",
         "2024-07-15 08:17:36",
         "2024-07-15",
         null
        ],
        [
         "47",
         "pi1_20240715_081852.jpg",
         "fervidus",
         "female",
         "1",
         "2024-07-15 08:18:52",
         "2024-07-15",
         null
        ],
        [
         "48",
         "pi1_20240715_083633.jpg",
         "vosnesenskii",
         "female",
         "1",
         "2024-07-15 08:36:33",
         "2024-07-15",
         null
        ],
        [
         "49",
         "pi1_20240715_083712.jpg",
         "vosnesenskii",
         "female",
         "1",
         "2024-07-15 08:37:12",
         "2024-07-15",
         "39.0"
        ],
        [
         "78",
         "pi1_20240715_093816.jpg",
         "vosnesenskii",
         "female",
         "1",
         "2024-07-15 09:38:16",
         "2024-07-15",
         "3604.0"
        ],
        [
         "79",
         "pi1_20240715_093827.jpg",
         "vosnesenskii",
         "female",
         "1",
         "2024-07-15 09:38:27",
         "2024-07-15",
         "11.0"
        ],
        [
         "80",
         "pi1_20240715_111630.jpg",
         "fervidus",
         "female",
         "1",
         "2024-07-15 11:16:30",
         "2024-07-15",
         "10658.0"
        ],
        [
         "81",
         "pi1_20240715_115758.jpg",
         "fervidus",
         "female",
         "1",
         "2024-07-15 11:57:58",
         "2024-07-15",
         "2488.0"
        ],
        [
         "82",
         "pi1_20240715_121333.jpg",
         "fervidus",
         "female",
         "1",
         "2024-07-15 12:13:33",
         "2024-07-15",
         "935.0"
        ],
        [
         "83",
         "pi1_20240715_132645.jpg",
         "fervidus",
         "female",
         "1",
         "2024-07-15 13:26:45",
         "2024-07-15",
         "4392.0"
        ],
        [
         "84",
         "pi1_20240719_085543.jpg",
         "vosnesenskii",
         "male",
         "1",
         "2024-07-19 08:55:43",
         "2024-07-19",
         null
        ],
        [
         "117",
         "pi1_20240721_090944.jpg",
         "vosnesenskii",
         "female",
         "1",
         "2024-07-21 09:09:44",
         "2024-07-21",
         null
        ],
        [
         "243",
         "pi1_20240721_103717.jpg",
         "unk",
         "unk",
         "1",
         "2024-07-21 10:37:17",
         "2024-07-21",
         null
        ],
        [
         "246",
         "pi1_20240721_171224.jpg",
         "vosnesenskii",
         "male",
         "1",
         "2024-07-21 17:12:24",
         "2024-07-21",
         null
        ],
        [
         "444",
         "pi1_20240722_072415.jpg",
         "vosnesenskii",
         "male",
         "1",
         "2024-07-22 07:24:15",
         "2024-07-22",
         null
        ],
        [
         "445",
         "pi1_20240722_100841.jpg",
         "vosnesenskii",
         "female",
         "1",
         "2024-07-22 10:08:41",
         "2024-07-22",
         null
        ],
        [
         "493",
         "pi1_20240722_135609.jpg",
         "vosnesenskii",
         "female",
         "1",
         "2024-07-22 13:56:09",
         "2024-07-22",
         "13597.0"
        ],
        [
         "494",
         "pi1_20240722_162947.jpg",
         "vosnesenskii",
         "female",
         "1",
         "2024-07-22 16:29:47",
         "2024-07-22",
         "9218.0"
        ],
        [
         "495",
         "pi1_20240724_161546.jpg",
         "vosnesenskii",
         "female",
         "1",
         "2024-07-24 16:15:46",
         "2024-07-24",
         null
        ],
        [
         "496",
         "pi1_20240724_164431.jpg",
         "vosnesenskii",
         "male",
         "1",
         "2024-07-24 16:44:31",
         "2024-07-24",
         null
        ]
       ],
       "shape": {
        "columns": 7,
        "rows": 298
       }
      },
      "text/html": [
       "<div>\n",
       "<style scoped>\n",
       "    .dataframe tbody tr th:only-of-type {\n",
       "        vertical-align: middle;\n",
       "    }\n",
       "\n",
       "    .dataframe tbody tr th {\n",
       "        vertical-align: top;\n",
       "    }\n",
       "\n",
       "    .dataframe thead th {\n",
       "        text-align: right;\n",
       "    }\n",
       "</style>\n",
       "<table border=\"1\" class=\"dataframe\">\n",
       "  <thead>\n",
       "    <tr style=\"text-align: right;\">\n",
       "      <th></th>\n",
       "      <th>filename</th>\n",
       "      <th>species</th>\n",
       "      <th>sex</th>\n",
       "      <th>pi</th>\n",
       "      <th>datetime</th>\n",
       "      <th>date</th>\n",
       "      <th>time_diff</th>\n",
       "    </tr>\n",
       "  </thead>\n",
       "  <tbody>\n",
       "    <tr>\n",
       "      <th>0</th>\n",
       "      <td>pi1_20240711_084351.jpg</td>\n",
       "      <td>vosnesenskii</td>\n",
       "      <td>female</td>\n",
       "      <td>1</td>\n",
       "      <td>2024-07-11 08:43:51</td>\n",
       "      <td>2024-07-11</td>\n",
       "      <td>NaN</td>\n",
       "    </tr>\n",
       "    <tr>\n",
       "      <th>1</th>\n",
       "      <td>pi1_20240711_090237.jpg</td>\n",
       "      <td>fervidus</td>\n",
       "      <td>female</td>\n",
       "      <td>1</td>\n",
       "      <td>2024-07-11 09:02:37</td>\n",
       "      <td>2024-07-11</td>\n",
       "      <td>NaN</td>\n",
       "    </tr>\n",
       "    <tr>\n",
       "      <th>2</th>\n",
       "      <td>pi1_20240711_095506.jpg</td>\n",
       "      <td>fervidus</td>\n",
       "      <td>female</td>\n",
       "      <td>1</td>\n",
       "      <td>2024-07-11 09:55:06</td>\n",
       "      <td>2024-07-11</td>\n",
       "      <td>3149.0</td>\n",
       "    </tr>\n",
       "    <tr>\n",
       "      <th>3</th>\n",
       "      <td>pi1_20240711_104047.jpg</td>\n",
       "      <td>fervidus</td>\n",
       "      <td>female</td>\n",
       "      <td>1</td>\n",
       "      <td>2024-07-11 10:40:47</td>\n",
       "      <td>2024-07-11</td>\n",
       "      <td>2741.0</td>\n",
       "    </tr>\n",
       "    <tr>\n",
       "      <th>4</th>\n",
       "      <td>pi1_20240711_120641.jpg</td>\n",
       "      <td>fervidus</td>\n",
       "      <td>female</td>\n",
       "      <td>1</td>\n",
       "      <td>2024-07-11 12:06:41</td>\n",
       "      <td>2024-07-11</td>\n",
       "      <td>5154.0</td>\n",
       "    </tr>\n",
       "    <tr>\n",
       "      <th>...</th>\n",
       "      <td>...</td>\n",
       "      <td>...</td>\n",
       "      <td>...</td>\n",
       "      <td>...</td>\n",
       "      <td>...</td>\n",
       "      <td>...</td>\n",
       "      <td>...</td>\n",
       "    </tr>\n",
       "    <tr>\n",
       "      <th>16</th>\n",
       "      <td>pi8_20240801_123139.jpg</td>\n",
       "      <td>nevadensis</td>\n",
       "      <td>male</td>\n",
       "      <td>8</td>\n",
       "      <td>2024-08-01 12:31:39</td>\n",
       "      <td>2024-08-01</td>\n",
       "      <td>NaN</td>\n",
       "    </tr>\n",
       "    <tr>\n",
       "      <th>17</th>\n",
       "      <td>pi8_20240825_133559.jpg</td>\n",
       "      <td>fervidus</td>\n",
       "      <td>male</td>\n",
       "      <td>8</td>\n",
       "      <td>2024-08-25 13:35:59</td>\n",
       "      <td>2024-08-25</td>\n",
       "      <td>NaN</td>\n",
       "    </tr>\n",
       "    <tr>\n",
       "      <th>18</th>\n",
       "      <td>pi9_20240804_120508.jpg</td>\n",
       "      <td>vosnesenskii</td>\n",
       "      <td>female</td>\n",
       "      <td>9</td>\n",
       "      <td>2024-08-04 12:05:08</td>\n",
       "      <td>2024-08-04</td>\n",
       "      <td>NaN</td>\n",
       "    </tr>\n",
       "    <tr>\n",
       "      <th>19</th>\n",
       "      <td>pi9_20240804_121508.jpg</td>\n",
       "      <td>nevadensis</td>\n",
       "      <td>male</td>\n",
       "      <td>9</td>\n",
       "      <td>2024-08-04 12:15:08</td>\n",
       "      <td>2024-08-04</td>\n",
       "      <td>NaN</td>\n",
       "    </tr>\n",
       "    <tr>\n",
       "      <th>21</th>\n",
       "      <td>pi9_20240808_130939.jpg</td>\n",
       "      <td>nevadensis</td>\n",
       "      <td>male</td>\n",
       "      <td>9</td>\n",
       "      <td>2024-08-08 13:09:39</td>\n",
       "      <td>2024-08-08</td>\n",
       "      <td>NaN</td>\n",
       "    </tr>\n",
       "  </tbody>\n",
       "</table>\n",
       "<p>298 rows × 7 columns</p>\n",
       "</div>"
      ],
      "text/plain": [
       "                   filename       species     sex  pi            datetime  \\\n",
       "0   pi1_20240711_084351.jpg  vosnesenskii  female   1 2024-07-11 08:43:51   \n",
       "1   pi1_20240711_090237.jpg      fervidus  female   1 2024-07-11 09:02:37   \n",
       "2   pi1_20240711_095506.jpg      fervidus  female   1 2024-07-11 09:55:06   \n",
       "3   pi1_20240711_104047.jpg      fervidus  female   1 2024-07-11 10:40:47   \n",
       "4   pi1_20240711_120641.jpg      fervidus  female   1 2024-07-11 12:06:41   \n",
       "..                      ...           ...     ...  ..                 ...   \n",
       "16  pi8_20240801_123139.jpg    nevadensis    male   8 2024-08-01 12:31:39   \n",
       "17  pi8_20240825_133559.jpg      fervidus    male   8 2024-08-25 13:35:59   \n",
       "18  pi9_20240804_120508.jpg  vosnesenskii  female   9 2024-08-04 12:05:08   \n",
       "19  pi9_20240804_121508.jpg    nevadensis    male   9 2024-08-04 12:15:08   \n",
       "21  pi9_20240808_130939.jpg    nevadensis    male   9 2024-08-08 13:09:39   \n",
       "\n",
       "          date  time_diff  \n",
       "0   2024-07-11        NaN  \n",
       "1   2024-07-11        NaN  \n",
       "2   2024-07-11     3149.0  \n",
       "3   2024-07-11     2741.0  \n",
       "4   2024-07-11     5154.0  \n",
       "..         ...        ...  \n",
       "16  2024-08-01        NaN  \n",
       "17  2024-08-25        NaN  \n",
       "18  2024-08-04        NaN  \n",
       "19  2024-08-04        NaN  \n",
       "21  2024-08-08        NaN  \n",
       "\n",
       "[298 rows x 7 columns]"
      ]
     },
     "execution_count": 14,
     "metadata": {},
     "output_type": "execute_result"
    }
   ],
   "source": [
    "bombus_df['time_diff'] = bombus_df.groupby(['pi', 'date', 'species', 'sex'])['datetime'].diff().dt.total_seconds()\n",
    "bombus_visits = bombus_df[(bombus_df['time_diff'] > 4) | (bombus_df['time_diff'].isna())]\n",
    "# bombus_visits = bombus_visits[bombus_visits['species'] != 'unk']\n",
    "bombus_visits_clover = bombus_visits[bombus_visits['datetime'] < pd.Timestamp('2024-07-30')]\n",
    "bombus_visits_bare = bombus_visits[bombus_visits['datetime'] >= pd.Timestamp('2024-07-30')]\n",
    "bombus_visits\n",
    "\n",
    "# bombus_df.to_csv('csvs/bombus_df_ids.csv', index=False)"
   ]
  },
  {
   "cell_type": "code",
   "execution_count": 15,
   "metadata": {},
   "outputs": [
    {
     "data": {
      "application/vnd.microsoft.datawrangler.viewer.v0+json": {
       "columns": [
        {
         "name": "index",
         "rawType": "int64",
         "type": "integer"
        },
        {
         "name": "filename",
         "rawType": "object",
         "type": "string"
        },
        {
         "name": "species",
         "rawType": "object",
         "type": "string"
        },
        {
         "name": "sex",
         "rawType": "object",
         "type": "string"
        },
        {
         "name": "pi",
         "rawType": "int64",
         "type": "integer"
        },
        {
         "name": "datetime",
         "rawType": "datetime64[ns]",
         "type": "datetime"
        },
        {
         "name": "date",
         "rawType": "object",
         "type": "unknown"
        },
        {
         "name": "time_diff",
         "rawType": "float64",
         "type": "float"
        }
       ],
       "ref": "3d8f04c0-8752-4a9f-a727-6563adcf4106",
       "rows": [
        [
         "0",
         "pi1_20240711_084351.jpg",
         "vosnesenskii",
         "female",
         "1",
         "2024-07-11 08:43:51",
         "2024-07-11",
         null
        ],
        [
         "1",
         "pi1_20240711_090237.jpg",
         "fervidus",
         "female",
         "1",
         "2024-07-11 09:02:37",
         "2024-07-11",
         null
        ],
        [
         "2",
         "pi1_20240711_095506.jpg",
         "fervidus",
         "female",
         "1",
         "2024-07-11 09:55:06",
         "2024-07-11",
         "3149.0"
        ],
        [
         "3",
         "pi1_20240711_104047.jpg",
         "fervidus",
         "female",
         "1",
         "2024-07-11 10:40:47",
         "2024-07-11",
         "2741.0"
        ],
        [
         "4",
         "pi1_20240711_120641.jpg",
         "fervidus",
         "female",
         "1",
         "2024-07-11 12:06:41",
         "2024-07-11",
         "5154.0"
        ],
        [
         "5",
         "pi1_20240711_121937.jpg",
         "fervidus",
         "female",
         "1",
         "2024-07-11 12:19:37",
         "2024-07-11",
         "776.0"
        ],
        [
         "6",
         "pi1_20240711_123412.jpg",
         "vosnesenskii",
         "female",
         "1",
         "2024-07-11 12:34:12",
         "2024-07-11",
         "13821.0"
        ],
        [
         "7",
         "pi1_20240711_132145.jpg",
         "griseocollis",
         "female",
         "1",
         "2024-07-11 13:21:45",
         "2024-07-11",
         null
        ],
        [
         "11",
         "pi1_20240711_153555.jpg",
         "vosnesenskii",
         "female",
         "1",
         "2024-07-11 15:35:55",
         "2024-07-11",
         "10903.0"
        ],
        [
         "12",
         "pi1_20240711_155837.jpg",
         "unk",
         "female",
         "1",
         "2024-07-11 15:58:37",
         "2024-07-11",
         null
        ],
        [
         "13",
         "pi1_20240712_084508.jpg",
         "fervidus",
         "female",
         "1",
         "2024-07-12 08:45:08",
         "2024-07-12",
         null
        ],
        [
         "16",
         "pi1_20240712_095611.jpg",
         "fervidus",
         "female",
         "1",
         "2024-07-12 09:56:11",
         "2024-07-12",
         "4263.0"
        ],
        [
         "17",
         "pi1_20240712_101550.jpg",
         "fervidus",
         "female",
         "1",
         "2024-07-12 10:15:50",
         "2024-07-12",
         "1179.0"
        ],
        [
         "18",
         "pi1_20240712_104326.jpg",
         "vosnesenskii",
         "female",
         "1",
         "2024-07-12 10:43:26",
         "2024-07-12",
         null
        ],
        [
         "19",
         "pi1_20240712_111932.jpg",
         "vosnesenskii",
         "female",
         "1",
         "2024-07-12 11:19:32",
         "2024-07-12",
         "2166.0"
        ],
        [
         "29",
         "pi1_20240712_121945.jpg",
         "vosnesenskii",
         "female",
         "1",
         "2024-07-12 12:19:45",
         "2024-07-12",
         "3596.0"
        ],
        [
         "30",
         "pi1_20240712_144149.jpg",
         "vosnesenskii",
         "unk",
         "1",
         "2024-07-12 14:41:49",
         "2024-07-12",
         null
        ],
        [
         "31",
         "pi1_20240712_154435.jpg",
         "vosnesenskii",
         "female",
         "1",
         "2024-07-12 15:44:35",
         "2024-07-12",
         "12290.0"
        ],
        [
         "32",
         "pi1_20240713_061826.jpg",
         "fervidus",
         "female",
         "1",
         "2024-07-13 06:18:26",
         "2024-07-13",
         null
        ],
        [
         "33",
         "pi1_20240713_090336.jpg",
         "vosnesenskii",
         "female",
         "1",
         "2024-07-13 09:03:36",
         "2024-07-13",
         null
        ],
        [
         "36",
         "pi1_20240713_092202.jpg",
         "fervidus",
         "female",
         "1",
         "2024-07-13 09:22:02",
         "2024-07-13",
         "11016.0"
        ],
        [
         "37",
         "pi1_20240713_093641.jpg",
         "fervidus",
         "female",
         "1",
         "2024-07-13 09:36:41",
         "2024-07-13",
         "879.0"
        ],
        [
         "38",
         "pi1_20240713_095623.jpg",
         "vosnesenskii",
         "female",
         "1",
         "2024-07-13 09:56:23",
         "2024-07-13",
         "3162.0"
        ],
        [
         "39",
         "pi1_20240713_111907.jpg",
         "unk",
         "unk",
         "1",
         "2024-07-13 11:19:07",
         "2024-07-13",
         null
        ],
        [
         "40",
         "pi1_20240713_122331.jpg",
         "vosnesenskii",
         "female",
         "1",
         "2024-07-13 12:23:31",
         "2024-07-13",
         "8828.0"
        ],
        [
         "41",
         "pi1_20240714_083553.jpg",
         "fervidus",
         "female",
         "1",
         "2024-07-14 08:35:53",
         "2024-07-14",
         null
        ],
        [
         "42",
         "pi1_20240714_092852.jpg",
         "vosnesenskii",
         "female",
         "1",
         "2024-07-14 09:28:52",
         "2024-07-14",
         null
        ],
        [
         "43",
         "pi1_20240714_100117.jpg",
         "vosnesenskii",
         "female",
         "1",
         "2024-07-14 10:01:17",
         "2024-07-14",
         "1945.0"
        ],
        [
         "44",
         "pi1_20240714_101711.jpg",
         "unk",
         "unk",
         "1",
         "2024-07-14 10:17:11",
         "2024-07-14",
         null
        ],
        [
         "45",
         "pi1_20240714_101952.jpg",
         "fervidus",
         "female",
         "1",
         "2024-07-14 10:19:52",
         "2024-07-14",
         "6239.0"
        ],
        [
         "46",
         "pi1_20240715_081736.jpg",
         "unk",
         "female",
         "1",
         "2024-07-15 08:17:36",
         "2024-07-15",
         null
        ],
        [
         "47",
         "pi1_20240715_081852.jpg",
         "fervidus",
         "female",
         "1",
         "2024-07-15 08:18:52",
         "2024-07-15",
         null
        ],
        [
         "48",
         "pi1_20240715_083633.jpg",
         "vosnesenskii",
         "female",
         "1",
         "2024-07-15 08:36:33",
         "2024-07-15",
         null
        ],
        [
         "49",
         "pi1_20240715_083712.jpg",
         "vosnesenskii",
         "female",
         "1",
         "2024-07-15 08:37:12",
         "2024-07-15",
         "39.0"
        ],
        [
         "78",
         "pi1_20240715_093816.jpg",
         "vosnesenskii",
         "female",
         "1",
         "2024-07-15 09:38:16",
         "2024-07-15",
         "3604.0"
        ],
        [
         "79",
         "pi1_20240715_093827.jpg",
         "vosnesenskii",
         "female",
         "1",
         "2024-07-15 09:38:27",
         "2024-07-15",
         "11.0"
        ],
        [
         "80",
         "pi1_20240715_111630.jpg",
         "fervidus",
         "female",
         "1",
         "2024-07-15 11:16:30",
         "2024-07-15",
         "10658.0"
        ],
        [
         "81",
         "pi1_20240715_115758.jpg",
         "fervidus",
         "female",
         "1",
         "2024-07-15 11:57:58",
         "2024-07-15",
         "2488.0"
        ],
        [
         "82",
         "pi1_20240715_121333.jpg",
         "fervidus",
         "female",
         "1",
         "2024-07-15 12:13:33",
         "2024-07-15",
         "935.0"
        ],
        [
         "83",
         "pi1_20240715_132645.jpg",
         "fervidus",
         "female",
         "1",
         "2024-07-15 13:26:45",
         "2024-07-15",
         "4392.0"
        ],
        [
         "84",
         "pi1_20240719_085543.jpg",
         "vosnesenskii",
         "male",
         "1",
         "2024-07-19 08:55:43",
         "2024-07-19",
         null
        ],
        [
         "117",
         "pi1_20240721_090944.jpg",
         "vosnesenskii",
         "female",
         "1",
         "2024-07-21 09:09:44",
         "2024-07-21",
         null
        ],
        [
         "243",
         "pi1_20240721_103717.jpg",
         "unk",
         "unk",
         "1",
         "2024-07-21 10:37:17",
         "2024-07-21",
         null
        ],
        [
         "246",
         "pi1_20240721_171224.jpg",
         "vosnesenskii",
         "male",
         "1",
         "2024-07-21 17:12:24",
         "2024-07-21",
         null
        ],
        [
         "444",
         "pi1_20240722_072415.jpg",
         "vosnesenskii",
         "male",
         "1",
         "2024-07-22 07:24:15",
         "2024-07-22",
         null
        ],
        [
         "445",
         "pi1_20240722_100841.jpg",
         "vosnesenskii",
         "female",
         "1",
         "2024-07-22 10:08:41",
         "2024-07-22",
         null
        ],
        [
         "493",
         "pi1_20240722_135609.jpg",
         "vosnesenskii",
         "female",
         "1",
         "2024-07-22 13:56:09",
         "2024-07-22",
         "13597.0"
        ],
        [
         "494",
         "pi1_20240722_162947.jpg",
         "vosnesenskii",
         "female",
         "1",
         "2024-07-22 16:29:47",
         "2024-07-22",
         "9218.0"
        ],
        [
         "495",
         "pi1_20240724_161546.jpg",
         "vosnesenskii",
         "female",
         "1",
         "2024-07-24 16:15:46",
         "2024-07-24",
         null
        ],
        [
         "496",
         "pi1_20240724_164431.jpg",
         "vosnesenskii",
         "male",
         "1",
         "2024-07-24 16:44:31",
         "2024-07-24",
         null
        ]
       ],
       "shape": {
        "columns": 7,
        "rows": 281
       }
      },
      "text/html": [
       "<div>\n",
       "<style scoped>\n",
       "    .dataframe tbody tr th:only-of-type {\n",
       "        vertical-align: middle;\n",
       "    }\n",
       "\n",
       "    .dataframe tbody tr th {\n",
       "        vertical-align: top;\n",
       "    }\n",
       "\n",
       "    .dataframe thead th {\n",
       "        text-align: right;\n",
       "    }\n",
       "</style>\n",
       "<table border=\"1\" class=\"dataframe\">\n",
       "  <thead>\n",
       "    <tr style=\"text-align: right;\">\n",
       "      <th></th>\n",
       "      <th>filename</th>\n",
       "      <th>species</th>\n",
       "      <th>sex</th>\n",
       "      <th>pi</th>\n",
       "      <th>datetime</th>\n",
       "      <th>date</th>\n",
       "      <th>time_diff</th>\n",
       "    </tr>\n",
       "  </thead>\n",
       "  <tbody>\n",
       "    <tr>\n",
       "      <th>0</th>\n",
       "      <td>pi1_20240711_084351.jpg</td>\n",
       "      <td>vosnesenskii</td>\n",
       "      <td>female</td>\n",
       "      <td>1</td>\n",
       "      <td>2024-07-11 08:43:51</td>\n",
       "      <td>2024-07-11</td>\n",
       "      <td>NaN</td>\n",
       "    </tr>\n",
       "    <tr>\n",
       "      <th>1</th>\n",
       "      <td>pi1_20240711_090237.jpg</td>\n",
       "      <td>fervidus</td>\n",
       "      <td>female</td>\n",
       "      <td>1</td>\n",
       "      <td>2024-07-11 09:02:37</td>\n",
       "      <td>2024-07-11</td>\n",
       "      <td>NaN</td>\n",
       "    </tr>\n",
       "    <tr>\n",
       "      <th>2</th>\n",
       "      <td>pi1_20240711_095506.jpg</td>\n",
       "      <td>fervidus</td>\n",
       "      <td>female</td>\n",
       "      <td>1</td>\n",
       "      <td>2024-07-11 09:55:06</td>\n",
       "      <td>2024-07-11</td>\n",
       "      <td>3149.0</td>\n",
       "    </tr>\n",
       "    <tr>\n",
       "      <th>3</th>\n",
       "      <td>pi1_20240711_104047.jpg</td>\n",
       "      <td>fervidus</td>\n",
       "      <td>female</td>\n",
       "      <td>1</td>\n",
       "      <td>2024-07-11 10:40:47</td>\n",
       "      <td>2024-07-11</td>\n",
       "      <td>2741.0</td>\n",
       "    </tr>\n",
       "    <tr>\n",
       "      <th>4</th>\n",
       "      <td>pi1_20240711_120641.jpg</td>\n",
       "      <td>fervidus</td>\n",
       "      <td>female</td>\n",
       "      <td>1</td>\n",
       "      <td>2024-07-11 12:06:41</td>\n",
       "      <td>2024-07-11</td>\n",
       "      <td>5154.0</td>\n",
       "    </tr>\n",
       "    <tr>\n",
       "      <th>...</th>\n",
       "      <td>...</td>\n",
       "      <td>...</td>\n",
       "      <td>...</td>\n",
       "      <td>...</td>\n",
       "      <td>...</td>\n",
       "      <td>...</td>\n",
       "      <td>...</td>\n",
       "    </tr>\n",
       "    <tr>\n",
       "      <th>7628</th>\n",
       "      <td>pi9_20240726_152605.jpg</td>\n",
       "      <td>vosnesenskii</td>\n",
       "      <td>unk</td>\n",
       "      <td>9</td>\n",
       "      <td>2024-07-26 15:26:05</td>\n",
       "      <td>2024-07-26</td>\n",
       "      <td>NaN</td>\n",
       "    </tr>\n",
       "    <tr>\n",
       "      <th>7629</th>\n",
       "      <td>pi9_20240726_170056.jpg</td>\n",
       "      <td>vosnesenskii</td>\n",
       "      <td>unk</td>\n",
       "      <td>9</td>\n",
       "      <td>2024-07-26 17:00:56</td>\n",
       "      <td>2024-07-26</td>\n",
       "      <td>5691.0</td>\n",
       "    </tr>\n",
       "    <tr>\n",
       "      <th>7630</th>\n",
       "      <td>pi9_20240727_173648.jpg</td>\n",
       "      <td>vosnesenskii</td>\n",
       "      <td>unk</td>\n",
       "      <td>9</td>\n",
       "      <td>2024-07-27 17:36:48</td>\n",
       "      <td>2024-07-27</td>\n",
       "      <td>NaN</td>\n",
       "    </tr>\n",
       "    <tr>\n",
       "      <th>7631</th>\n",
       "      <td>pi9_20240728_125915.jpg</td>\n",
       "      <td>vosnesenskii</td>\n",
       "      <td>female</td>\n",
       "      <td>9</td>\n",
       "      <td>2024-07-28 12:59:15</td>\n",
       "      <td>2024-07-28</td>\n",
       "      <td>NaN</td>\n",
       "    </tr>\n",
       "    <tr>\n",
       "      <th>7632</th>\n",
       "      <td>pi9_20240728_162048.jpg</td>\n",
       "      <td>vosnesenskii</td>\n",
       "      <td>male</td>\n",
       "      <td>9</td>\n",
       "      <td>2024-07-28 16:20:48</td>\n",
       "      <td>2024-07-28</td>\n",
       "      <td>NaN</td>\n",
       "    </tr>\n",
       "  </tbody>\n",
       "</table>\n",
       "<p>281 rows × 7 columns</p>\n",
       "</div>"
      ],
      "text/plain": [
       "                     filename       species     sex  pi            datetime  \\\n",
       "0     pi1_20240711_084351.jpg  vosnesenskii  female   1 2024-07-11 08:43:51   \n",
       "1     pi1_20240711_090237.jpg      fervidus  female   1 2024-07-11 09:02:37   \n",
       "2     pi1_20240711_095506.jpg      fervidus  female   1 2024-07-11 09:55:06   \n",
       "3     pi1_20240711_104047.jpg      fervidus  female   1 2024-07-11 10:40:47   \n",
       "4     pi1_20240711_120641.jpg      fervidus  female   1 2024-07-11 12:06:41   \n",
       "...                       ...           ...     ...  ..                 ...   \n",
       "7628  pi9_20240726_152605.jpg  vosnesenskii     unk   9 2024-07-26 15:26:05   \n",
       "7629  pi9_20240726_170056.jpg  vosnesenskii     unk   9 2024-07-26 17:00:56   \n",
       "7630  pi9_20240727_173648.jpg  vosnesenskii     unk   9 2024-07-27 17:36:48   \n",
       "7631  pi9_20240728_125915.jpg  vosnesenskii  female   9 2024-07-28 12:59:15   \n",
       "7632  pi9_20240728_162048.jpg  vosnesenskii    male   9 2024-07-28 16:20:48   \n",
       "\n",
       "            date  time_diff  \n",
       "0     2024-07-11        NaN  \n",
       "1     2024-07-11        NaN  \n",
       "2     2024-07-11     3149.0  \n",
       "3     2024-07-11     2741.0  \n",
       "4     2024-07-11     5154.0  \n",
       "...          ...        ...  \n",
       "7628  2024-07-26        NaN  \n",
       "7629  2024-07-26     5691.0  \n",
       "7630  2024-07-27        NaN  \n",
       "7631  2024-07-28        NaN  \n",
       "7632  2024-07-28        NaN  \n",
       "\n",
       "[281 rows x 7 columns]"
      ]
     },
     "execution_count": 15,
     "metadata": {},
     "output_type": "execute_result"
    }
   ],
   "source": [
    "bombus_visits_clover"
   ]
  },
  {
   "cell_type": "code",
   "execution_count": 16,
   "metadata": {},
   "outputs": [
    {
     "name": "stdout",
     "output_type": "stream",
     "text": [
      "116\n"
     ]
    },
    {
     "data": {
      "text/plain": [
       "89"
      ]
     },
     "execution_count": 16,
     "metadata": {},
     "output_type": "execute_result"
    }
   ],
   "source": [
    "apis_df\n",
    "\n",
    "apis_df[['pi', 'datetime']] = apis_df['filename'].str.extract(r'^pi(\\d+)_(\\d{8}_\\d{6})')\n",
    "apis_df['pi'] = apis_df['pi'].astype(int)\n",
    "apis_df['datetime'] = pd.to_datetime(apis_df['datetime'], format='%Y%m%d_%H%M%S')\n",
    "apis_df['date'] = apis_df['datetime'].dt.date\n",
    "apis_df.columns = apis_df.columns.str.strip()\n",
    "apis_df['time_diff'] = apis_df.groupby(['pi', 'date', 'species', 'sex'])['datetime'].diff().dt.total_seconds()\n",
    "apis_visits = apis_df[(apis_df['time_diff'] > 4) | (apis_df['time_diff'].isna())]\n",
    "# bombus_visits = bombus_visits[bombus_visits['species'] != 'unk']\n",
    "apis_visits_clover = apis_visits[apis_visits['datetime'] >= pd.Timestamp('2024-07-30')]\n",
    "\n",
    "print(len(apis_visits))\n",
    "len(apis_visits_clover)"
   ]
  },
  {
   "cell_type": "code",
   "execution_count": 17,
   "metadata": {},
   "outputs": [],
   "source": [
    "# bombus_df.to_csv('csvs/clean_dfs/bombus_df.csv', index=False)"
   ]
  },
  {
   "cell_type": "code",
   "execution_count": 18,
   "metadata": {},
   "outputs": [],
   "source": [
    "bombus_species_counts = bombus_visits_clover['species'].value_counts()\n",
    "# bombus_species_counts = bombus_species_counts.drop('unk')"
   ]
  },
  {
   "cell_type": "code",
   "execution_count": 19,
   "metadata": {},
   "outputs": [
    {
     "data": {
      "application/vnd.microsoft.datawrangler.viewer.v0+json": {
       "columns": [
        {
         "name": "species",
         "rawType": "object",
         "type": "string"
        },
        {
         "name": "count",
         "rawType": "int64",
         "type": "integer"
        }
       ],
       "ref": "ff45dc61-3e7a-456a-9d3e-82e8461a8776",
       "rows": [
        [
         "vosnesenskii",
         "166"
        ],
        [
         "fervidus",
         "68"
        ],
        [
         "unk",
         "32"
        ],
        [
         "griseocollis",
         "13"
        ],
        [
         "appositus",
         "1"
        ],
        [
         "nevadensis",
         "1"
        ]
       ],
       "shape": {
        "columns": 1,
        "rows": 6
       }
      },
      "text/plain": [
       "species\n",
       "vosnesenskii    166\n",
       "fervidus         68\n",
       "unk              32\n",
       "griseocollis     13\n",
       "appositus         1\n",
       "nevadensis        1\n",
       "Name: count, dtype: int64"
      ]
     },
     "execution_count": 19,
     "metadata": {},
     "output_type": "execute_result"
    }
   ],
   "source": [
    "bombus_species_counts"
   ]
  },
  {
   "cell_type": "code",
   "execution_count": 21,
   "metadata": {},
   "outputs": [
    {
     "data": {
      "image/png": "[encoded data removed]",
      "text/plain": [
       "<Figure size 450x250 with 1 Axes>"
      ]
     },
     "metadata": {},
     "output_type": "display_data"
    }
   ],
   "source": [
    "plt.figure(figsize=(4.5, 2.5))\n",
    "plt.barh(bombus_species_counts.index[::-1], bombus_species_counts[::-1], color='goldenrod')\n",
    "ax=plt.gca()\n",
    "ax.spines['top'].set_visible(False)\n",
    "ax.spines['right'].set_visible(False)\n",
    "plt.xlim(0,175)\n",
    "plt.xlabel('Visits')\n",
    "plt.title('Camera Traps')\n",
    "plt.tight_layout()"
   ]
  },
  {
   "cell_type": "code",
   "execution_count": 22,
   "metadata": {},
   "outputs": [
    {
     "data": {
      "application/vnd.microsoft.datawrangler.viewer.v0+json": {
       "columns": [
        {
         "name": "Collection method",
         "rawType": "object",
         "type": "string"
        },
        {
         "name": "count",
         "rawType": "int64",
         "type": "integer"
        }
       ],
       "ref": "aec1390d-f4a0-4883-b89c-51919023c16b",
       "rows": [
        [
         "vane trap",
         "449"
        ],
        [
         "net",
         "189"
        ]
       ],
       "shape": {
        "columns": 1,
        "rows": 2
       }
      },
      "text/plain": [
       "Collection method\n",
       "vane trap    449\n",
       "net          189\n",
       "Name: count, dtype: int64"
      ]
     },
     "execution_count": 22,
     "metadata": {},
     "output_type": "execute_result"
    }
   ],
   "source": [
    "data = pd.read_csv('csvs/Clover_Bee_occurrence_data.csv')\n",
    "bvt_data  = data[data['Collection method'] == 'vane trap'].reset_index(drop=True)\n",
    "net_data  = data[data['Collection method'] == 'net'].reset_index(drop=True)\n",
    "data['Collection method'].value_counts()"
   ]
  },
  {
   "cell_type": "code",
   "execution_count": 23,
   "metadata": {},
   "outputs": [],
   "source": [
    "bvt_taxa = bvt_data[['Order ', 'Genus', 'Species', 'Sex', 'Caste']]\n",
    "bvt_bombus_counts = bvt_taxa[bvt_taxa['Genus'] == 'Bombus']['Species'].value_counts()\n",
    "bvt_apis_counts = bvt_taxa[bvt_taxa['Genus'] == 'Apis']['Species'].value_counts()\n",
    "\n",
    "net_taxa = net_data[['Order ', 'Genus', 'Species', 'Sex', 'Caste']]\n",
    "net_bombus_counts = net_taxa[net_taxa['Genus'] == 'Bombus']['Species'].value_counts()\n",
    "net_apis_counts = net_taxa[net_taxa['Genus'] == 'Apis']['Species'].value_counts()"
   ]
  },
  {
   "cell_type": "code",
   "execution_count": 24,
   "metadata": {},
   "outputs": [
    {
     "data": {
      "application/vnd.microsoft.datawrangler.viewer.v0+json": {
       "columns": [
        {
         "name": "species",
         "rawType": "object",
         "type": "string"
        },
        {
         "name": "count",
         "rawType": "int64",
         "type": "integer"
        }
       ],
       "ref": "84334310-a597-4490-91de-7b1c089b3e4c",
       "rows": [
        [
         "vosnesenskii",
         "166"
        ],
        [
         "fervidus",
         "68"
        ],
        [
         "unk",
         "32"
        ],
        [
         "griseocollis",
         "13"
        ],
        [
         "appositus",
         "1"
        ],
        [
         "nevadensis",
         "1"
        ]
       ],
       "shape": {
        "columns": 1,
        "rows": 6
       }
      },
      "text/plain": [
       "species\n",
       "vosnesenskii    166\n",
       "fervidus         68\n",
       "unk              32\n",
       "griseocollis     13\n",
       "appositus         1\n",
       "nevadensis        1\n",
       "Name: count, dtype: int64"
      ]
     },
     "execution_count": 24,
     "metadata": {},
     "output_type": "execute_result"
    }
   ],
   "source": [
    "bombus_species_counts"
   ]
  },
  {
   "cell_type": "code",
   "execution_count": 25,
   "metadata": {},
   "outputs": [],
   "source": [
    "species_all = list(set(bombus_species_counts.index).union(bvt_bombus_counts.index, net_bombus_counts.index))\n",
    "\n",
    "species_all = [\n",
    " 'mixtus',\n",
    " 'caliginosus',\n",
    " 'appositus',\n",
    " 'nevadensis',\n",
    " 'griseocollis',\n",
    " 'fervidus',\n",
    " 'vosnesenskii']\n",
    "\n",
    "counts_s1 = [bombus_species_counts[species] if species in bombus_species_counts.index else 0 for species in species_all]\n",
    "counts_s1 = [len(apis_visits_clover)] + counts_s1\n",
    "counts_s2 = [bvt_bombus_counts[species] if species in bvt_bombus_counts.index else 0 for species in species_all]\n",
    "counts_s2 = [bvt_apis_counts['mellifera']] + counts_s2\n",
    "counts_s3 = [net_bombus_counts[species] if species in net_bombus_counts.index else 0 for species in species_all]\n",
    "counts_s3 = [net_apis_counts['mellifera']] + counts_s3"
   ]
  },
  {
   "cell_type": "code",
   "execution_count": 26,
   "metadata": {},
   "outputs": [],
   "source": [
    "species_all = [\n",
    " 'A. mellifera',\n",
    " 'B. mixtus',\n",
    " 'B. caliginosus',\n",
    " 'B. appositus',\n",
    " 'B. nevadensis',\n",
    " 'B. griseocollis',\n",
    " 'B. fervidus',\n",
    " 'B. vosnesenskii']"
   ]
  },
  {
   "cell_type": "code",
   "execution_count": 27,
   "metadata": {},
   "outputs": [
    {
     "data": {
      "image/png": "[encoded data removed]",
      "text/plain": [
       "<Figure size 600x250 with 1 Axes>"
      ]
     },
     "metadata": {},
     "output_type": "display_data"
    }
   ],
   "source": [
    "bar_width = 0.25\n",
    "y_pos = range(len(species_all))\n",
    "\n",
    "plt.figure(figsize=(6, 2.5))\n",
    "plt.barh([y + bar_width for y in y_pos], counts_s1, height=bar_width, label='camera', align='center', color='m')\n",
    "plt.barh([y - bar_width for y in y_pos], counts_s2, height=bar_width, label='bvt', align='center', color='c')\n",
    "plt.barh(y_pos, counts_s3, height=bar_width, label='net', align='center', color='k')\n",
    "\n",
    "ax=plt.gca()\n",
    "ax.spines['top'].set_visible(False)\n",
    "ax.spines['right'].set_visible(False)\n",
    "ax.spines['left'].set_visible(False)\n",
    "\n",
    "plt.xlim(0,180)\n",
    "plt.yticks(y_pos, species_all)\n",
    "plt.gca().tick_params(axis='y', which='both', length=0)\n",
    "plt.xlabel('Count')\n",
    "plt.ylabel('Species')\n",
    "ax.set_yticklabels([f\"{label}\" for label in species_all], style='italic')\n",
    "\n",
    "# plt.legend( loc='lower right')\n",
    "plt.tight_layout()\n",
    "# plt.savefig('figs/sample_method_counts_bare.svg', format='svg')"
   ]
  },
  {
   "cell_type": "code",
   "execution_count": null,
   "metadata": {},
   "outputs": [],
   "source": [
    "df_counts = pd.DataFrame({\n",
    "    'Species': species_all,\n",
    "    'Camera': counts_s1,\n",
    "    'BVT': counts_s2,\n",
    "    'Net': counts_s3\n",
    "})\n",
    "\n",
    "# df_counts.to_csv('method_comparison_fig/sample_method_counts.csv', index=False)"
   ]
  },
  {
   "cell_type": "code",
   "execution_count": null,
   "metadata": {},
   "outputs": [
    {
     "data": {
      "image/png": "[encoded data removed]",
      "text/plain": [
       "<Figure size 450x200 with 3 Axes>"
      ]
     },
     "metadata": {},
     "output_type": "display_data"
    }
   ],
   "source": [
    "bar_width = 0.4  \n",
    "species_all_reversed = list(reversed(species_all))\n",
    "y_pos = range(len(species_all_reversed))  \n",
    "\n",
    "fig, axs = plt.subplots(1, 3, figsize=(4.5, 2), sharey=True)\n",
    "\n",
    "axs[0].barh(y_pos, list(reversed(counts_s1)), height=bar_width, color='m')\n",
    "axs[0].set_yticks(y_pos)\n",
    "axs[0].invert_yaxis()\n",
    "axs[0].set_xlabel('Count')\n",
    "axs[0].set_title('Camera Traps', size=10)\n",
    "\n",
    "axs[1].barh(y_pos, list(reversed(counts_s2)), height=bar_width, color='c')\n",
    "axs[1].set_yticks(y_pos)\n",
    "axs[1].set_yticklabels([])  \n",
    "axs[1].invert_yaxis()\n",
    "axs[1].set_xlabel('Count')\n",
    "axs[1].set_title('Blue Vane Traps', size=10)\n",
    "\n",
    "axs[2].barh(y_pos, list(reversed(counts_s3)), height=bar_width, color='k')\n",
    "axs[2].set_yticks(y_pos)\n",
    "axs[2].set_yticklabels([]) \n",
    "axs[2].invert_yaxis()\n",
    "axs[2].set_xlabel('Count')\n",
    "axs[2].set_title('Hand Netting', size=10)\n",
    "\n",
    "for ax in axs:\n",
    "    ax.spines['left'].set_visible(False)\n",
    "    ax.tick_params(axis='y', length=0)\n",
    "    ax.set_xlim(0, 180)\n",
    "    ax.set_xticks(range(0, 181, 60))\n",
    "\n",
    "axs[0].set_yticklabels([f\"{label}\" for label in species_all_reversed], style='italic', size=9)\n",
    "plt.tight_layout()\n",
    "# plt.savefig('figs/methods_comparison_separated.svg', format='svg')"
   ]
  },
  {
   "cell_type": "code",
   "execution_count": 30,
   "metadata": {},
   "outputs": [
    {
     "name": "stdout",
     "output_type": "stream",
     "text": [
      "0.700828402366864 0.5773229822317346 0.5859375\n"
     ]
    }
   ],
   "source": [
    "bvt_bombus_diversity = 1 - np.sum((bvt_bombus_counts / bvt_bombus_counts.sum()) ** 2)\n",
    "cam_bombus_diversity = 1 - np.sum((bombus_species_counts / bombus_species_counts.sum()) ** 2)\n",
    "net_bombus_diversity = 1 - np.sum((net_bombus_counts / net_bombus_counts.sum()) ** 2)\n",
    "\n",
    "print(bvt_bombus_diversity, cam_bombus_diversity, net_bombus_diversity)"
   ]
  },
  {
   "cell_type": "code",
   "execution_count": 31,
   "metadata": {},
   "outputs": [],
   "source": [
    "bvt_bombus_simp = 0.700828402366864\n",
    "net_bombus_simp = 0.5859375"
   ]
  },
  {
   "cell_type": "code",
   "execution_count": 32,
   "metadata": {},
   "outputs": [],
   "source": [
    "treatment_times = pd.read_csv('csvs/treatment_times.csv', index_col=False)\n",
    "treatment_times['datetime'] = pd.to_datetime(treatment_times['datetime'], format= \"%Y-%m-%d %H:%M:%S\")\n",
    "treatment_times['date'] = pd.to_datetime(treatment_times['date'], format= \"%Y-%m-%d\")"
   ]
  },
  {
   "cell_type": "code",
   "execution_count": 33,
   "metadata": {},
   "outputs": [],
   "source": [
    "bombus_visits = pd.merge(bombus_visits, treatment_times[['pi', 'datetime', 'color']], on=['pi', 'datetime'], how='left')\n"
   ]
  },
  {
   "cell_type": "code",
   "execution_count": 34,
   "metadata": {},
   "outputs": [],
   "source": [
    "bombus_visits = bombus_visits.sort_values('datetime')"
   ]
  },
  {
   "cell_type": "code",
   "execution_count": 35,
   "metadata": {},
   "outputs": [
    {
     "data": {
      "application/vnd.microsoft.datawrangler.viewer.v0+json": {
       "columns": [
        {
         "name": "index",
         "rawType": "int64",
         "type": "integer"
        },
        {
         "name": "filename",
         "rawType": "object",
         "type": "string"
        },
        {
         "name": "species",
         "rawType": "object",
         "type": "string"
        },
        {
         "name": "sex",
         "rawType": "object",
         "type": "string"
        },
        {
         "name": "pi",
         "rawType": "int64",
         "type": "integer"
        },
        {
         "name": "datetime",
         "rawType": "datetime64[ns]",
         "type": "datetime"
        },
        {
         "name": "date",
         "rawType": "object",
         "type": "unknown"
        },
        {
         "name": "time_diff",
         "rawType": "float64",
         "type": "float"
        },
        {
         "name": "color",
         "rawType": "object",
         "type": "string"
        }
       ],
       "ref": "7a8fdf2a-02a5-44f2-8305-6b926f2be85e",
       "rows": [
        [
         "237",
         "pi9_20240711_072842.jpg",
         "fervidus",
         "female",
         "9",
         "2024-07-11 07:28:42",
         "2024-07-11",
         null,
         "grn"
        ],
        [
         "82",
         "pi2_20240711_075119.jpg",
         "vosnesenskii",
         "female",
         "2",
         "2024-07-11 07:51:19",
         "2024-07-11",
         null,
         "blv"
        ],
        [
         "170",
         "pi6_20240711_080909.jpg",
         "vosnesenskii",
         "unk",
         "6",
         "2024-07-11 08:09:09",
         "2024-07-11",
         null,
         "cnt"
        ],
        [
         "113",
         "pi4_20240711_084037.jpg",
         "fervidus",
         "female",
         "4",
         "2024-07-11 08:40:37",
         "2024-07-11",
         null,
         "grn"
        ],
        [
         "0",
         "pi1_20240711_084351.jpg",
         "vosnesenskii",
         "female",
         "1",
         "2024-07-11 08:43:51",
         "2024-07-11",
         null,
         "cnt"
        ],
        [
         "1",
         "pi1_20240711_090237.jpg",
         "fervidus",
         "female",
         "1",
         "2024-07-11 09:02:37",
         "2024-07-11",
         null,
         "cnt"
        ],
        [
         "171",
         "pi6_20240711_093529.jpg",
         "vosnesenskii",
         "unk",
         "6",
         "2024-07-11 09:35:29",
         "2024-07-11",
         "5180.0",
         "cnt"
        ],
        [
         "83",
         "pi2_20240711_095150.jpg",
         "vosnesenskii",
         "female",
         "2",
         "2024-07-11 09:51:50",
         "2024-07-11",
         "7231.0",
         "blv"
        ],
        [
         "2",
         "pi1_20240711_095506.jpg",
         "fervidus",
         "female",
         "1",
         "2024-07-11 09:55:06",
         "2024-07-11",
         "3149.0",
         "cnt"
        ],
        [
         "172",
         "pi6_20240711_101148.jpg",
         "vosnesenskii",
         "female",
         "6",
         "2024-07-11 10:11:48",
         "2024-07-11",
         null,
         "cnt"
        ],
        [
         "208",
         "pi7_20240711_101718.jpg",
         "vosnesenskii",
         "unk",
         "7",
         "2024-07-11 10:17:18",
         "2024-07-11",
         null,
         "yel"
        ],
        [
         "173",
         "pi6_20240711_103306.jpg",
         "fervidus",
         "female",
         "6",
         "2024-07-11 10:33:06",
         "2024-07-11",
         null,
         "cnt"
        ],
        [
         "174",
         "pi6_20240711_103537.jpg",
         "vosnesenskii",
         "female",
         "6",
         "2024-07-11 10:35:37",
         "2024-07-11",
         "1429.0",
         "cnt"
        ],
        [
         "3",
         "pi1_20240711_104047.jpg",
         "fervidus",
         "female",
         "1",
         "2024-07-11 10:40:47",
         "2024-07-11",
         "2741.0",
         "cnt"
        ],
        [
         "175",
         "pi6_20240711_110507.jpg",
         "vosnesenskii",
         "unk",
         "6",
         "2024-07-11 11:05:07",
         "2024-07-11",
         "5378.0",
         "cnt"
        ],
        [
         "222",
         "pi8_20240711_111310.jpg",
         "vosnesenskii",
         "unk",
         "8",
         "2024-07-11 11:13:10",
         "2024-07-11",
         null,
         "blu"
        ],
        [
         "209",
         "pi7_20240711_112615.jpg",
         "fervidus",
         "female",
         "7",
         "2024-07-11 11:26:15",
         "2024-07-11",
         null,
         "yel"
        ],
        [
         "4",
         "pi1_20240711_120641.jpg",
         "fervidus",
         "female",
         "1",
         "2024-07-11 12:06:41",
         "2024-07-11",
         "5154.0",
         "cnt"
        ],
        [
         "5",
         "pi1_20240711_121937.jpg",
         "fervidus",
         "female",
         "1",
         "2024-07-11 12:19:37",
         "2024-07-11",
         "776.0",
         "cnt"
        ],
        [
         "6",
         "pi1_20240711_123412.jpg",
         "vosnesenskii",
         "female",
         "1",
         "2024-07-11 12:34:12",
         "2024-07-11",
         "13821.0",
         "cnt"
        ],
        [
         "84",
         "pi2_20240711_125724.jpg",
         "griseocollis",
         "female",
         "2",
         "2024-07-11 12:57:24",
         "2024-07-11",
         null,
         "blv"
        ],
        [
         "147",
         "pi5_20240711_130839.jpg",
         "vosnesenskii",
         "unk",
         "5",
         "2024-07-11 13:08:39",
         "2024-07-11",
         null,
         "yel"
        ],
        [
         "114",
         "pi4_20240711_132046.jpg",
         "fervidus",
         "female",
         "4",
         "2024-07-11 13:20:46",
         "2024-07-11",
         "16809.0",
         "grn"
        ],
        [
         "7",
         "pi1_20240711_132145.jpg",
         "griseocollis",
         "female",
         "1",
         "2024-07-11 13:21:45",
         "2024-07-11",
         null,
         "cnt"
        ],
        [
         "115",
         "pi4_20240711_144943.jpg",
         "vosnesenskii",
         "female",
         "4",
         "2024-07-11 14:49:43",
         "2024-07-11",
         null,
         "grn"
        ],
        [
         "8",
         "pi1_20240711_153555.jpg",
         "vosnesenskii",
         "female",
         "1",
         "2024-07-11 15:35:55",
         "2024-07-11",
         "10903.0",
         "cnt"
        ],
        [
         "210",
         "pi7_20240711_154544.jpg",
         "vosnesenskii",
         "unk",
         "7",
         "2024-07-11 15:45:44",
         "2024-07-11",
         "19706.0",
         "yel"
        ],
        [
         "176",
         "pi6_20240711_154644.jpg",
         "vosnesenskii",
         "unk",
         "6",
         "2024-07-11 15:46:44",
         "2024-07-11",
         "16897.0",
         "cnt"
        ],
        [
         "9",
         "pi1_20240711_155837.jpg",
         "unk",
         "female",
         "1",
         "2024-07-11 15:58:37",
         "2024-07-11",
         null,
         "cnt"
        ],
        [
         "10",
         "pi1_20240712_084508.jpg",
         "fervidus",
         "female",
         "1",
         "2024-07-12 08:45:08",
         "2024-07-12",
         null,
         "cnt"
        ],
        [
         "177",
         "pi6_20240712_090549.jpg",
         "fervidus",
         "female",
         "6",
         "2024-07-12 09:05:49",
         "2024-07-12",
         null,
         "cnt"
        ],
        [
         "116",
         "pi4_20240712_091319.jpg",
         "vosnesenskii",
         "female",
         "4",
         "2024-07-12 09:13:19",
         "2024-07-12",
         null,
         "grn"
        ],
        [
         "11",
         "pi1_20240712_095611.jpg",
         "fervidus",
         "female",
         "1",
         "2024-07-12 09:56:11",
         "2024-07-12",
         "4263.0",
         "cnt"
        ],
        [
         "238",
         "pi9_20240712_100229.jpg",
         "unk",
         "unk",
         "9",
         "2024-07-12 10:02:29",
         "2024-07-12",
         null,
         "grn"
        ],
        [
         "12",
         "pi1_20240712_101550.jpg",
         "fervidus",
         "female",
         "1",
         "2024-07-12 10:15:50",
         "2024-07-12",
         "1179.0",
         "cnt"
        ],
        [
         "13",
         "pi1_20240712_104326.jpg",
         "vosnesenskii",
         "female",
         "1",
         "2024-07-12 10:43:26",
         "2024-07-12",
         null,
         "cnt"
        ],
        [
         "14",
         "pi1_20240712_111932.jpg",
         "vosnesenskii",
         "female",
         "1",
         "2024-07-12 11:19:32",
         "2024-07-12",
         "2166.0",
         "cnt"
        ],
        [
         "178",
         "pi6_20240712_112605.jpg",
         "fervidus",
         "female",
         "6",
         "2024-07-12 11:26:05",
         "2024-07-12",
         "8416.0",
         "cnt"
        ],
        [
         "148",
         "pi5_20240712_114547.jpg",
         "vosnesenskii",
         "female",
         "5",
         "2024-07-12 11:45:47",
         "2024-07-12",
         null,
         "yel"
        ],
        [
         "15",
         "pi1_20240712_121945.jpg",
         "vosnesenskii",
         "female",
         "1",
         "2024-07-12 12:19:45",
         "2024-07-12",
         "3596.0",
         "cnt"
        ],
        [
         "239",
         "pi9_20240712_125428.jpg",
         "vosnesenskii",
         "female",
         "9",
         "2024-07-12 12:54:28",
         "2024-07-12",
         null,
         "grn"
        ],
        [
         "85",
         "pi2_20240712_130635.jpg",
         "fervidus",
         "female",
         "2",
         "2024-07-12 13:06:35",
         "2024-07-12",
         null,
         "blv"
        ],
        [
         "240",
         "pi9_20240712_134248.jpg",
         "vosnesenskii",
         "unk",
         "9",
         "2024-07-12 13:42:48",
         "2024-07-12",
         null,
         "grn"
        ],
        [
         "16",
         "pi1_20240712_144149.jpg",
         "vosnesenskii",
         "unk",
         "1",
         "2024-07-12 14:41:49",
         "2024-07-12",
         null,
         "cnt"
        ],
        [
         "86",
         "pi2_20240712_151137.jpg",
         "vosnesenskii",
         "female",
         "2",
         "2024-07-12 15:11:37",
         "2024-07-12",
         null,
         "blv"
        ],
        [
         "223",
         "pi8_20240712_153324.jpg",
         "fervidus",
         "female",
         "8",
         "2024-07-12 15:33:24",
         "2024-07-12",
         null,
         "blu"
        ],
        [
         "17",
         "pi1_20240712_154435.jpg",
         "vosnesenskii",
         "female",
         "1",
         "2024-07-12 15:44:35",
         "2024-07-12",
         "12290.0",
         "cnt"
        ],
        [
         "18",
         "pi1_20240713_061826.jpg",
         "fervidus",
         "female",
         "1",
         "2024-07-13 06:18:26",
         "2024-07-13",
         null,
         "cnt"
        ],
        [
         "179",
         "pi6_20240713_082402.jpg",
         "vosnesenskii",
         "female",
         "6",
         "2024-07-13 08:24:02",
         "2024-07-13",
         null,
         "cnt"
        ],
        [
         "180",
         "pi6_20240713_085656.jpg",
         "vosnesenskii",
         "female",
         "6",
         "2024-07-13 08:56:56",
         "2024-07-13",
         "1974.0",
         "cnt"
        ]
       ],
       "shape": {
        "columns": 8,
        "rows": 298
       }
      },
      "text/html": [
       "<div>\n",
       "<style scoped>\n",
       "    .dataframe tbody tr th:only-of-type {\n",
       "        vertical-align: middle;\n",
       "    }\n",
       "\n",
       "    .dataframe tbody tr th {\n",
       "        vertical-align: top;\n",
       "    }\n",
       "\n",
       "    .dataframe thead th {\n",
       "        text-align: right;\n",
       "    }\n",
       "</style>\n",
       "<table border=\"1\" class=\"dataframe\">\n",
       "  <thead>\n",
       "    <tr style=\"text-align: right;\">\n",
       "      <th></th>\n",
       "      <th>filename</th>\n",
       "      <th>species</th>\n",
       "      <th>sex</th>\n",
       "      <th>pi</th>\n",
       "      <th>datetime</th>\n",
       "      <th>date</th>\n",
       "      <th>time_diff</th>\n",
       "      <th>color</th>\n",
       "    </tr>\n",
       "  </thead>\n",
       "  <tbody>\n",
       "    <tr>\n",
       "      <th>237</th>\n",
       "      <td>pi9_20240711_072842.jpg</td>\n",
       "      <td>fervidus</td>\n",
       "      <td>female</td>\n",
       "      <td>9</td>\n",
       "      <td>2024-07-11 07:28:42</td>\n",
       "      <td>2024-07-11</td>\n",
       "      <td>NaN</td>\n",
       "      <td>grn</td>\n",
       "    </tr>\n",
       "    <tr>\n",
       "      <th>82</th>\n",
       "      <td>pi2_20240711_075119.jpg</td>\n",
       "      <td>vosnesenskii</td>\n",
       "      <td>female</td>\n",
       "      <td>2</td>\n",
       "      <td>2024-07-11 07:51:19</td>\n",
       "      <td>2024-07-11</td>\n",
       "      <td>NaN</td>\n",
       "      <td>blv</td>\n",
       "    </tr>\n",
       "    <tr>\n",
       "      <th>170</th>\n",
       "      <td>pi6_20240711_080909.jpg</td>\n",
       "      <td>vosnesenskii</td>\n",
       "      <td>unk</td>\n",
       "      <td>6</td>\n",
       "      <td>2024-07-11 08:09:09</td>\n",
       "      <td>2024-07-11</td>\n",
       "      <td>NaN</td>\n",
       "      <td>cnt</td>\n",
       "    </tr>\n",
       "    <tr>\n",
       "      <th>113</th>\n",
       "      <td>pi4_20240711_084037.jpg</td>\n",
       "      <td>fervidus</td>\n",
       "      <td>female</td>\n",
       "      <td>4</td>\n",
       "      <td>2024-07-11 08:40:37</td>\n",
       "      <td>2024-07-11</td>\n",
       "      <td>NaN</td>\n",
       "      <td>grn</td>\n",
       "    </tr>\n",
       "    <tr>\n",
       "      <th>0</th>\n",
       "      <td>pi1_20240711_084351.jpg</td>\n",
       "      <td>vosnesenskii</td>\n",
       "      <td>female</td>\n",
       "      <td>1</td>\n",
       "      <td>2024-07-11 08:43:51</td>\n",
       "      <td>2024-07-11</td>\n",
       "      <td>NaN</td>\n",
       "      <td>cnt</td>\n",
       "    </tr>\n",
       "    <tr>\n",
       "      <th>...</th>\n",
       "      <td>...</td>\n",
       "      <td>...</td>\n",
       "      <td>...</td>\n",
       "      <td>...</td>\n",
       "      <td>...</td>\n",
       "      <td>...</td>\n",
       "      <td>...</td>\n",
       "      <td>...</td>\n",
       "    </tr>\n",
       "    <tr>\n",
       "      <th>291</th>\n",
       "      <td>pi6_20240824_131028.jpg</td>\n",
       "      <td>fervidus</td>\n",
       "      <td>female</td>\n",
       "      <td>6</td>\n",
       "      <td>2024-08-24 13:10:28</td>\n",
       "      <td>2024-08-24</td>\n",
       "      <td>NaN</td>\n",
       "      <td>blv</td>\n",
       "    </tr>\n",
       "    <tr>\n",
       "      <th>287</th>\n",
       "      <td>pi3_20240825_114927.jpg</td>\n",
       "      <td>fervidus</td>\n",
       "      <td>female</td>\n",
       "      <td>3</td>\n",
       "      <td>2024-08-25 11:49:27</td>\n",
       "      <td>2024-08-25</td>\n",
       "      <td>NaN</td>\n",
       "      <td>cnt</td>\n",
       "    </tr>\n",
       "    <tr>\n",
       "      <th>294</th>\n",
       "      <td>pi8_20240825_133559.jpg</td>\n",
       "      <td>fervidus</td>\n",
       "      <td>male</td>\n",
       "      <td>8</td>\n",
       "      <td>2024-08-25 13:35:59</td>\n",
       "      <td>2024-08-25</td>\n",
       "      <td>NaN</td>\n",
       "      <td>cnt</td>\n",
       "    </tr>\n",
       "    <tr>\n",
       "      <th>57</th>\n",
       "      <td>pi1_20240905_073955.jpg</td>\n",
       "      <td>vosnesenskii</td>\n",
       "      <td>unk</td>\n",
       "      <td>1</td>\n",
       "      <td>2024-09-05 07:39:55</td>\n",
       "      <td>2024-09-05</td>\n",
       "      <td>NaN</td>\n",
       "      <td>blv</td>\n",
       "    </tr>\n",
       "    <tr>\n",
       "      <th>58</th>\n",
       "      <td>pi1_20240905_073956.jpg</td>\n",
       "      <td>vosnesenskii</td>\n",
       "      <td>female</td>\n",
       "      <td>1</td>\n",
       "      <td>2024-09-05 07:39:56</td>\n",
       "      <td>2024-09-05</td>\n",
       "      <td>NaN</td>\n",
       "      <td>blv</td>\n",
       "    </tr>\n",
       "  </tbody>\n",
       "</table>\n",
       "<p>298 rows × 8 columns</p>\n",
       "</div>"
      ],
      "text/plain": [
       "                    filename       species     sex  pi            datetime  \\\n",
       "237  pi9_20240711_072842.jpg      fervidus  female   9 2024-07-11 07:28:42   \n",
       "82   pi2_20240711_075119.jpg  vosnesenskii  female   2 2024-07-11 07:51:19   \n",
       "170  pi6_20240711_080909.jpg  vosnesenskii     unk   6 2024-07-11 08:09:09   \n",
       "113  pi4_20240711_084037.jpg      fervidus  female   4 2024-07-11 08:40:37   \n",
       "0    pi1_20240711_084351.jpg  vosnesenskii  female   1 2024-07-11 08:43:51   \n",
       "..                       ...           ...     ...  ..                 ...   \n",
       "291  pi6_20240824_131028.jpg      fervidus  female   6 2024-08-24 13:10:28   \n",
       "287  pi3_20240825_114927.jpg      fervidus  female   3 2024-08-25 11:49:27   \n",
       "294  pi8_20240825_133559.jpg      fervidus    male   8 2024-08-25 13:35:59   \n",
       "57   pi1_20240905_073955.jpg  vosnesenskii     unk   1 2024-09-05 07:39:55   \n",
       "58   pi1_20240905_073956.jpg  vosnesenskii  female   1 2024-09-05 07:39:56   \n",
       "\n",
       "           date  time_diff color  \n",
       "237  2024-07-11        NaN   grn  \n",
       "82   2024-07-11        NaN   blv  \n",
       "170  2024-07-11        NaN   cnt  \n",
       "113  2024-07-11        NaN   grn  \n",
       "0    2024-07-11        NaN   cnt  \n",
       "..          ...        ...   ...  \n",
       "291  2024-08-24        NaN   blv  \n",
       "287  2024-08-25        NaN   cnt  \n",
       "294  2024-08-25        NaN   cnt  \n",
       "57   2024-09-05        NaN   blv  \n",
       "58   2024-09-05        NaN   blv  \n",
       "\n",
       "[298 rows x 8 columns]"
      ]
     },
     "execution_count": 35,
     "metadata": {},
     "output_type": "execute_result"
    }
   ],
   "source": [
    "bombus_visits"
   ]
  },
  {
   "cell_type": "code",
   "execution_count": 36,
   "metadata": {},
   "outputs": [
    {
     "data": {
      "image/png": "[encoded data removed]",
      "text/plain": [
       "<Figure size 1000x600 with 1 Axes>"
      ]
     },
     "metadata": {},
     "output_type": "display_data"
    }
   ],
   "source": [
    "def simpsons_diversity(counts):\n",
    "    total = sum(counts)\n",
    "    proportions = counts / total\n",
    "    return 1 - sum(proportions ** 2)\n",
    "\n",
    "cumulative_counts = {}\n",
    "diversity_over_time = []\n",
    "dates = []\n",
    "\n",
    "for _, row in bombus_visits.iterrows():\n",
    "    species = row['species']\n",
    "    date = row['datetime']\n",
    "    \n",
    "    if species in cumulative_counts:\n",
    "        cumulative_counts[species] += 1\n",
    "    else:\n",
    "        cumulative_counts[species] = 1\n",
    "    \n",
    "    diversity_over_time.append(simpsons_diversity(np.array(list(cumulative_counts.values()))))\n",
    "    dates.append(date)\n",
    "\n",
    "plt.figure(figsize=(10, 6))\n",
    "plt.plot(dates, diversity_over_time)\n",
    "plt.xlabel('Date')\n",
    "plt.ylabel(\"Cumulative Simpson's Diversity Index\")\n",
    "plt.title(\"Cumulative Simpson's Diversity Over Time\")\n",
    "plt.xticks(rotation=45)\n",
    "plt.tight_layout()\n",
    "plt.show()"
   ]
  },
  {
   "cell_type": "code",
   "execution_count": 37,
   "metadata": {},
   "outputs": [
    {
     "data": {
      "text/plain": [
       "0.5396825396825398"
      ]
     },
     "execution_count": 37,
     "metadata": {},
     "output_type": "execute_result"
    }
   ],
   "source": [
    "diversity_over_time[20]"
   ]
  },
  {
   "cell_type": "code",
   "execution_count": 38,
   "metadata": {},
   "outputs": [
    {
     "data": {
      "application/vnd.microsoft.datawrangler.viewer.v0+json": {
       "columns": [
        {
         "name": "color",
         "rawType": "object",
         "type": "string"
        },
        {
         "name": "0",
         "rawType": "int64",
         "type": "integer"
        }
       ],
       "ref": "047995de-579f-442d-a0ea-792865c79c12",
       "rows": [
        [
         "blu",
         "39"
        ],
        [
         "blv",
         "68"
        ],
        [
         "cnt",
         "96"
        ],
        [
         "grn",
         "63"
        ],
        [
         "yel",
         "32"
        ]
       ],
       "shape": {
        "columns": 1,
        "rows": 5
       }
      },
      "text/plain": [
       "color\n",
       "blu    39\n",
       "blv    68\n",
       "cnt    96\n",
       "grn    63\n",
       "yel    32\n",
       "dtype: int64"
      ]
     },
     "execution_count": 38,
     "metadata": {},
     "output_type": "execute_result"
    }
   ],
   "source": [
    "bombus_visits.groupby(['color']).size()"
   ]
  },
  {
   "cell_type": "code",
   "execution_count": 39,
   "metadata": {},
   "outputs": [
    {
     "data": {
      "application/vnd.microsoft.datawrangler.viewer.v0+json": {
       "columns": [
        {
         "name": "index",
         "rawType": "int64",
         "type": "integer"
        },
        {
         "name": "species",
         "rawType": "object",
         "type": "string"
        },
        {
         "name": "color",
         "rawType": "object",
         "type": "string"
        },
        {
         "name": "visit_count",
         "rawType": "int64",
         "type": "integer"
        }
       ],
       "ref": "32397395-9aa1-4be9-bee4-835ee5ae541f",
       "rows": [
        [
         "0",
         "appositus",
         "blv",
         "1"
        ],
        [
         "1",
         "fervidus",
         "blu",
         "7"
        ],
        [
         "2",
         "fervidus",
         "blv",
         "7"
        ],
        [
         "3",
         "fervidus",
         "cnt",
         "33"
        ],
        [
         "4",
         "fervidus",
         "grn",
         "18"
        ],
        [
         "5",
         "fervidus",
         "yel",
         "8"
        ],
        [
         "6",
         "griseocollis",
         "blu",
         "4"
        ],
        [
         "7",
         "griseocollis",
         "blv",
         "3"
        ],
        [
         "8",
         "griseocollis",
         "cnt",
         "7"
        ],
        [
         "9",
         "nevadensis",
         "blu",
         "1"
        ],
        [
         "10",
         "nevadensis",
         "blv",
         "4"
        ],
        [
         "11",
         "nevadensis",
         "yel",
         "1"
        ],
        [
         "12",
         "vosnesenskii",
         "blu",
         "20"
        ],
        [
         "13",
         "vosnesenskii",
         "blv",
         "47"
        ],
        [
         "14",
         "vosnesenskii",
         "cnt",
         "49"
        ],
        [
         "15",
         "vosnesenskii",
         "grn",
         "39"
        ],
        [
         "16",
         "vosnesenskii",
         "yel",
         "17"
        ]
       ],
       "shape": {
        "columns": 3,
        "rows": 17
       }
      },
      "text/html": [
       "<div>\n",
       "<style scoped>\n",
       "    .dataframe tbody tr th:only-of-type {\n",
       "        vertical-align: middle;\n",
       "    }\n",
       "\n",
       "    .dataframe tbody tr th {\n",
       "        vertical-align: top;\n",
       "    }\n",
       "\n",
       "    .dataframe thead th {\n",
       "        text-align: right;\n",
       "    }\n",
       "</style>\n",
       "<table border=\"1\" class=\"dataframe\">\n",
       "  <thead>\n",
       "    <tr style=\"text-align: right;\">\n",
       "      <th></th>\n",
       "      <th>species</th>\n",
       "      <th>color</th>\n",
       "      <th>visit_count</th>\n",
       "    </tr>\n",
       "  </thead>\n",
       "  <tbody>\n",
       "    <tr>\n",
       "      <th>0</th>\n",
       "      <td>appositus</td>\n",
       "      <td>blv</td>\n",
       "      <td>1</td>\n",
       "    </tr>\n",
       "    <tr>\n",
       "      <th>1</th>\n",
       "      <td>fervidus</td>\n",
       "      <td>blu</td>\n",
       "      <td>7</td>\n",
       "    </tr>\n",
       "    <tr>\n",
       "      <th>2</th>\n",
       "      <td>fervidus</td>\n",
       "      <td>blv</td>\n",
       "      <td>7</td>\n",
       "    </tr>\n",
       "    <tr>\n",
       "      <th>3</th>\n",
       "      <td>fervidus</td>\n",
       "      <td>cnt</td>\n",
       "      <td>33</td>\n",
       "    </tr>\n",
       "    <tr>\n",
       "      <th>4</th>\n",
       "      <td>fervidus</td>\n",
       "      <td>grn</td>\n",
       "      <td>18</td>\n",
       "    </tr>\n",
       "    <tr>\n",
       "      <th>5</th>\n",
       "      <td>fervidus</td>\n",
       "      <td>yel</td>\n",
       "      <td>8</td>\n",
       "    </tr>\n",
       "    <tr>\n",
       "      <th>6</th>\n",
       "      <td>griseocollis</td>\n",
       "      <td>blu</td>\n",
       "      <td>4</td>\n",
       "    </tr>\n",
       "    <tr>\n",
       "      <th>7</th>\n",
       "      <td>griseocollis</td>\n",
       "      <td>blv</td>\n",
       "      <td>3</td>\n",
       "    </tr>\n",
       "    <tr>\n",
       "      <th>8</th>\n",
       "      <td>griseocollis</td>\n",
       "      <td>cnt</td>\n",
       "      <td>7</td>\n",
       "    </tr>\n",
       "    <tr>\n",
       "      <th>9</th>\n",
       "      <td>nevadensis</td>\n",
       "      <td>blu</td>\n",
       "      <td>1</td>\n",
       "    </tr>\n",
       "    <tr>\n",
       "      <th>10</th>\n",
       "      <td>nevadensis</td>\n",
       "      <td>blv</td>\n",
       "      <td>4</td>\n",
       "    </tr>\n",
       "    <tr>\n",
       "      <th>11</th>\n",
       "      <td>nevadensis</td>\n",
       "      <td>yel</td>\n",
       "      <td>1</td>\n",
       "    </tr>\n",
       "    <tr>\n",
       "      <th>12</th>\n",
       "      <td>vosnesenskii</td>\n",
       "      <td>blu</td>\n",
       "      <td>20</td>\n",
       "    </tr>\n",
       "    <tr>\n",
       "      <th>13</th>\n",
       "      <td>vosnesenskii</td>\n",
       "      <td>blv</td>\n",
       "      <td>47</td>\n",
       "    </tr>\n",
       "    <tr>\n",
       "      <th>14</th>\n",
       "      <td>vosnesenskii</td>\n",
       "      <td>cnt</td>\n",
       "      <td>49</td>\n",
       "    </tr>\n",
       "    <tr>\n",
       "      <th>15</th>\n",
       "      <td>vosnesenskii</td>\n",
       "      <td>grn</td>\n",
       "      <td>39</td>\n",
       "    </tr>\n",
       "    <tr>\n",
       "      <th>16</th>\n",
       "      <td>vosnesenskii</td>\n",
       "      <td>yel</td>\n",
       "      <td>17</td>\n",
       "    </tr>\n",
       "  </tbody>\n",
       "</table>\n",
       "</div>"
      ],
      "text/plain": [
       "         species color  visit_count\n",
       "0      appositus   blv            1\n",
       "1       fervidus   blu            7\n",
       "2       fervidus   blv            7\n",
       "3       fervidus   cnt           33\n",
       "4       fervidus   grn           18\n",
       "5       fervidus   yel            8\n",
       "6   griseocollis   blu            4\n",
       "7   griseocollis   blv            3\n",
       "8   griseocollis   cnt            7\n",
       "9     nevadensis   blu            1\n",
       "10    nevadensis   blv            4\n",
       "11    nevadensis   yel            1\n",
       "12  vosnesenskii   blu           20\n",
       "13  vosnesenskii   blv           47\n",
       "14  vosnesenskii   cnt           49\n",
       "15  vosnesenskii   grn           39\n",
       "16  vosnesenskii   yel           17"
      ]
     },
     "execution_count": 39,
     "metadata": {},
     "output_type": "execute_result"
    }
   ],
   "source": [
    "species_col_visits = pd.DataFrame(bombus_visits[bombus_visits['species'] != 'unk'].groupby(['species', 'color']).size()).reset_index()\n",
    "species_col_visits.columns = ['species', 'color', 'visit_count']\n",
    "species_col_visits"
   ]
  },
  {
   "cell_type": "code",
   "execution_count": 40,
   "metadata": {},
   "outputs": [
    {
     "data": {
      "application/vnd.microsoft.datawrangler.viewer.v0+json": {
       "columns": [
        {
         "name": "species",
         "rawType": "object",
         "type": "string"
        },
        {
         "name": "yel",
         "rawType": "float64",
         "type": "float"
        },
        {
         "name": "blu",
         "rawType": "float64",
         "type": "float"
        },
        {
         "name": "grn",
         "rawType": "float64",
         "type": "float"
        },
        {
         "name": "blv",
         "rawType": "float64",
         "type": "float"
        },
        {
         "name": "cnt",
         "rawType": "float64",
         "type": "float"
        }
       ],
       "ref": "da6407a2-8b10-4f03-b2d9-19de2142739f",
       "rows": [
        [
         "appositus",
         "0.0",
         "0.0",
         "0.0",
         "1.0",
         "0.0"
        ],
        [
         "nevadensis",
         "1.0",
         "1.0",
         "0.0",
         "4.0",
         "0.0"
        ],
        [
         "griseocollis",
         "0.0",
         "4.0",
         "0.0",
         "3.0",
         "7.0"
        ],
        [
         "fervidus",
         "8.0",
         "7.0",
         "18.0",
         "7.0",
         "33.0"
        ],
        [
         "vosnesenskii",
         "17.0",
         "20.0",
         "39.0",
         "47.0",
         "49.0"
        ]
       ],
       "shape": {
        "columns": 5,
        "rows": 5
       }
      },
      "text/html": [
       "<div>\n",
       "<style scoped>\n",
       "    .dataframe tbody tr th:only-of-type {\n",
       "        vertical-align: middle;\n",
       "    }\n",
       "\n",
       "    .dataframe tbody tr th {\n",
       "        vertical-align: top;\n",
       "    }\n",
       "\n",
       "    .dataframe thead th {\n",
       "        text-align: right;\n",
       "    }\n",
       "</style>\n",
       "<table border=\"1\" class=\"dataframe\">\n",
       "  <thead>\n",
       "    <tr style=\"text-align: right;\">\n",
       "      <th>color</th>\n",
       "      <th>yel</th>\n",
       "      <th>blu</th>\n",
       "      <th>grn</th>\n",
       "      <th>blv</th>\n",
       "      <th>cnt</th>\n",
       "    </tr>\n",
       "    <tr>\n",
       "      <th>species</th>\n",
       "      <th></th>\n",
       "      <th></th>\n",
       "      <th></th>\n",
       "      <th></th>\n",
       "      <th></th>\n",
       "    </tr>\n",
       "  </thead>\n",
       "  <tbody>\n",
       "    <tr>\n",
       "      <th>appositus</th>\n",
       "      <td>0.0</td>\n",
       "      <td>0.0</td>\n",
       "      <td>0.0</td>\n",
       "      <td>1.0</td>\n",
       "      <td>0.0</td>\n",
       "    </tr>\n",
       "    <tr>\n",
       "      <th>nevadensis</th>\n",
       "      <td>1.0</td>\n",
       "      <td>1.0</td>\n",
       "      <td>0.0</td>\n",
       "      <td>4.0</td>\n",
       "      <td>0.0</td>\n",
       "    </tr>\n",
       "    <tr>\n",
       "      <th>griseocollis</th>\n",
       "      <td>0.0</td>\n",
       "      <td>4.0</td>\n",
       "      <td>0.0</td>\n",
       "      <td>3.0</td>\n",
       "      <td>7.0</td>\n",
       "    </tr>\n",
       "    <tr>\n",
       "      <th>fervidus</th>\n",
       "      <td>8.0</td>\n",
       "      <td>7.0</td>\n",
       "      <td>18.0</td>\n",
       "      <td>7.0</td>\n",
       "      <td>33.0</td>\n",
       "    </tr>\n",
       "    <tr>\n",
       "      <th>vosnesenskii</th>\n",
       "      <td>17.0</td>\n",
       "      <td>20.0</td>\n",
       "      <td>39.0</td>\n",
       "      <td>47.0</td>\n",
       "      <td>49.0</td>\n",
       "    </tr>\n",
       "  </tbody>\n",
       "</table>\n",
       "</div>"
      ],
      "text/plain": [
       "color          yel   blu   grn   blv   cnt\n",
       "species                                   \n",
       "appositus      0.0   0.0   0.0   1.0   0.0\n",
       "nevadensis     1.0   1.0   0.0   4.0   0.0\n",
       "griseocollis   0.0   4.0   0.0   3.0   7.0\n",
       "fervidus       8.0   7.0  18.0   7.0  33.0\n",
       "vosnesenskii  17.0  20.0  39.0  47.0  49.0"
      ]
     },
     "execution_count": 40,
     "metadata": {},
     "output_type": "execute_result"
    }
   ],
   "source": [
    "species_col_visits\n",
    "pivot_data = species_col_visits.pivot_table(\n",
    "    index='species',\n",
    "    columns='color',\n",
    "    values='visit_count',\n",
    "    fill_value=0\n",
    ")\n",
    "\n",
    "order = ['appositus', 'nevadensis', 'griseocollis', 'fervidus', 'vosnesenskii']\n",
    "# color_order = ['cnt', 'blv', 'grn', 'blu', 'yel']\n",
    "color_order = ['yel','blu', 'grn','blv','cnt']\n",
    "pivot_data = pivot_data[color_order]\n",
    "\n",
    "pivot_data = pivot_data.reindex(order)\n",
    "\n",
    "pivot_data"
   ]
  },
  {
   "cell_type": "code",
   "execution_count": null,
   "metadata": {},
   "outputs": [
    {
     "data": {
      "image/png": "[encoded data removed]",
      "text/plain": [
       "<Figure size 450x200 with 1 Axes>"
      ]
     },
     "metadata": {},
     "output_type": "display_data"
    }
   ],
   "source": [
    "\n",
    "colors = pivot_data.columns\n",
    "species = ['appo.', 'neva.', 'gris.', 'ferv.', 'vosn.']\n",
    "\n",
    "color_map = {\n",
    "    'blu': 'b',\n",
    "    'blv': 'c',\n",
    "    'cnt': 'm',\n",
    "    'grn': 'g',\n",
    "    'yel': 'y'\n",
    "}\n",
    "\n",
    "x = np.arange(len(species))\n",
    "width = 0.15 \n",
    "\n",
    "fig, ax = plt.subplots(figsize=(4.5, 2))\n",
    "for i, color in enumerate(colors):\n",
    "    ax.barh(x + i * width, pivot_data[color], width, color=color_map[color])\n",
    "\n",
    "ax.set_xlabel('Counts')\n",
    "ax.set_ylabel(r'$\\it{Bombus}$ species')\n",
    "\n",
    "ax.set_yticks(x + width * len(colors) / 2)\n",
    "ax.set_yticklabels(species)\n",
    "\n",
    "ax.spines['top'].set_visible(False)\n",
    "ax.spines['right'].set_visible(False)\n",
    "ax.spines['left'].set_visible(False)\n",
    "ax.tick_params(axis='y', which='both', length=0)\n",
    "ax.set_yticklabels([f\"{label}\" for label in species], style='italic')\n",
    "\n",
    "plt.tight_layout()\n",
    "# plt.savefig('figs/stimulus_species_counts_smaller.svg', format='svg')"
   ]
  },
  {
   "cell_type": "code",
   "execution_count": 42,
   "metadata": {},
   "outputs": [
    {
     "data": {
      "text/plain": [
       "['appo.', 'neva.', 'gris.', 'ferv.', 'vosn.']"
      ]
     },
     "execution_count": 42,
     "metadata": {},
     "output_type": "execute_result"
    }
   ],
   "source": [
    "species"
   ]
  },
  {
   "cell_type": "code",
   "execution_count": 43,
   "metadata": {},
   "outputs": [
    {
     "data": {
      "application/vnd.microsoft.datawrangler.viewer.v0+json": {
       "columns": [
        {
         "name": "index",
         "rawType": "int64",
         "type": "integer"
        },
        {
         "name": "species",
         "rawType": "object",
         "type": "string"
        },
        {
         "name": "color",
         "rawType": "object",
         "type": "string"
        },
        {
         "name": "visit_count",
         "rawType": "int64",
         "type": "integer"
        }
       ],
       "ref": "bcfe1144-d935-48f9-8365-8b8089f47b19",
       "rows": [
        [
         "0",
         "appositus",
         "blv",
         "1"
        ],
        [
         "1",
         "fervidus",
         "blu",
         "7"
        ],
        [
         "2",
         "fervidus",
         "blv",
         "7"
        ],
        [
         "3",
         "fervidus",
         "cnt",
         "33"
        ],
        [
         "4",
         "fervidus",
         "grn",
         "18"
        ],
        [
         "5",
         "fervidus",
         "yel",
         "8"
        ],
        [
         "6",
         "griseocollis",
         "blu",
         "4"
        ],
        [
         "7",
         "griseocollis",
         "blv",
         "3"
        ],
        [
         "8",
         "griseocollis",
         "cnt",
         "7"
        ],
        [
         "9",
         "nevadensis",
         "blu",
         "1"
        ],
        [
         "10",
         "nevadensis",
         "blv",
         "4"
        ],
        [
         "11",
         "nevadensis",
         "yel",
         "1"
        ],
        [
         "12",
         "vosnesenskii",
         "blu",
         "20"
        ],
        [
         "13",
         "vosnesenskii",
         "blv",
         "47"
        ],
        [
         "14",
         "vosnesenskii",
         "cnt",
         "49"
        ],
        [
         "15",
         "vosnesenskii",
         "grn",
         "39"
        ],
        [
         "16",
         "vosnesenskii",
         "yel",
         "17"
        ]
       ],
       "shape": {
        "columns": 3,
        "rows": 17
       }
      },
      "text/html": [
       "<div>\n",
       "<style scoped>\n",
       "    .dataframe tbody tr th:only-of-type {\n",
       "        vertical-align: middle;\n",
       "    }\n",
       "\n",
       "    .dataframe tbody tr th {\n",
       "        vertical-align: top;\n",
       "    }\n",
       "\n",
       "    .dataframe thead th {\n",
       "        text-align: right;\n",
       "    }\n",
       "</style>\n",
       "<table border=\"1\" class=\"dataframe\">\n",
       "  <thead>\n",
       "    <tr style=\"text-align: right;\">\n",
       "      <th></th>\n",
       "      <th>species</th>\n",
       "      <th>color</th>\n",
       "      <th>visit_count</th>\n",
       "    </tr>\n",
       "  </thead>\n",
       "  <tbody>\n",
       "    <tr>\n",
       "      <th>0</th>\n",
       "      <td>appositus</td>\n",
       "      <td>blv</td>\n",
       "      <td>1</td>\n",
       "    </tr>\n",
       "    <tr>\n",
       "      <th>1</th>\n",
       "      <td>fervidus</td>\n",
       "      <td>blu</td>\n",
       "      <td>7</td>\n",
       "    </tr>\n",
       "    <tr>\n",
       "      <th>2</th>\n",
       "      <td>fervidus</td>\n",
       "      <td>blv</td>\n",
       "      <td>7</td>\n",
       "    </tr>\n",
       "    <tr>\n",
       "      <th>3</th>\n",
       "      <td>fervidus</td>\n",
       "      <td>cnt</td>\n",
       "      <td>33</td>\n",
       "    </tr>\n",
       "    <tr>\n",
       "      <th>4</th>\n",
       "      <td>fervidus</td>\n",
       "      <td>grn</td>\n",
       "      <td>18</td>\n",
       "    </tr>\n",
       "    <tr>\n",
       "      <th>5</th>\n",
       "      <td>fervidus</td>\n",
       "      <td>yel</td>\n",
       "      <td>8</td>\n",
       "    </tr>\n",
       "    <tr>\n",
       "      <th>6</th>\n",
       "      <td>griseocollis</td>\n",
       "      <td>blu</td>\n",
       "      <td>4</td>\n",
       "    </tr>\n",
       "    <tr>\n",
       "      <th>7</th>\n",
       "      <td>griseocollis</td>\n",
       "      <td>blv</td>\n",
       "      <td>3</td>\n",
       "    </tr>\n",
       "    <tr>\n",
       "      <th>8</th>\n",
       "      <td>griseocollis</td>\n",
       "      <td>cnt</td>\n",
       "      <td>7</td>\n",
       "    </tr>\n",
       "    <tr>\n",
       "      <th>9</th>\n",
       "      <td>nevadensis</td>\n",
       "      <td>blu</td>\n",
       "      <td>1</td>\n",
       "    </tr>\n",
       "    <tr>\n",
       "      <th>10</th>\n",
       "      <td>nevadensis</td>\n",
       "      <td>blv</td>\n",
       "      <td>4</td>\n",
       "    </tr>\n",
       "    <tr>\n",
       "      <th>11</th>\n",
       "      <td>nevadensis</td>\n",
       "      <td>yel</td>\n",
       "      <td>1</td>\n",
       "    </tr>\n",
       "    <tr>\n",
       "      <th>12</th>\n",
       "      <td>vosnesenskii</td>\n",
       "      <td>blu</td>\n",
       "      <td>20</td>\n",
       "    </tr>\n",
       "    <tr>\n",
       "      <th>13</th>\n",
       "      <td>vosnesenskii</td>\n",
       "      <td>blv</td>\n",
       "      <td>47</td>\n",
       "    </tr>\n",
       "    <tr>\n",
       "      <th>14</th>\n",
       "      <td>vosnesenskii</td>\n",
       "      <td>cnt</td>\n",
       "      <td>49</td>\n",
       "    </tr>\n",
       "    <tr>\n",
       "      <th>15</th>\n",
       "      <td>vosnesenskii</td>\n",
       "      <td>grn</td>\n",
       "      <td>39</td>\n",
       "    </tr>\n",
       "    <tr>\n",
       "      <th>16</th>\n",
       "      <td>vosnesenskii</td>\n",
       "      <td>yel</td>\n",
       "      <td>17</td>\n",
       "    </tr>\n",
       "  </tbody>\n",
       "</table>\n",
       "</div>"
      ],
      "text/plain": [
       "         species color  visit_count\n",
       "0      appositus   blv            1\n",
       "1       fervidus   blu            7\n",
       "2       fervidus   blv            7\n",
       "3       fervidus   cnt           33\n",
       "4       fervidus   grn           18\n",
       "5       fervidus   yel            8\n",
       "6   griseocollis   blu            4\n",
       "7   griseocollis   blv            3\n",
       "8   griseocollis   cnt            7\n",
       "9     nevadensis   blu            1\n",
       "10    nevadensis   blv            4\n",
       "11    nevadensis   yel            1\n",
       "12  vosnesenskii   blu           20\n",
       "13  vosnesenskii   blv           47\n",
       "14  vosnesenskii   cnt           49\n",
       "15  vosnesenskii   grn           39\n",
       "16  vosnesenskii   yel           17"
      ]
     },
     "execution_count": 43,
     "metadata": {},
     "output_type": "execute_result"
    }
   ],
   "source": [
    "species_col_visits"
   ]
  },
  {
   "cell_type": "code",
   "execution_count": 44,
   "metadata": {},
   "outputs": [
    {
     "data": {
      "application/vnd.microsoft.datawrangler.viewer.v0+json": {
       "columns": [
        {
         "name": "('species', 'color')",
         "rawType": "object",
         "type": "unknown"
        },
        {
         "name": "0",
         "rawType": "int64",
         "type": "integer"
        }
       ],
       "ref": "3f3f7ffe-7f9d-4b02-a54d-7bd940708420",
       "rows": [
        [
         "('appositus', 'blv')",
         "1"
        ],
        [
         "('fervidus', 'blu')",
         "6"
        ],
        [
         "('fervidus', 'blv')",
         "5"
        ],
        [
         "('fervidus', 'cnt')",
         "31"
        ],
        [
         "('fervidus', 'grn')",
         "18"
        ],
        [
         "('fervidus', 'yel')",
         "8"
        ],
        [
         "('griseocollis', 'blu')",
         "3"
        ],
        [
         "('griseocollis', 'blv')",
         "3"
        ],
        [
         "('griseocollis', 'cnt')",
         "7"
        ],
        [
         "('nevadensis', 'blv')",
         "1"
        ],
        [
         "('unk', 'blu')",
         "7"
        ],
        [
         "('unk', 'blv')",
         "6"
        ],
        [
         "('unk', 'cnt')",
         "7"
        ],
        [
         "('unk', 'grn')",
         "6"
        ],
        [
         "('unk', 'yel')",
         "6"
        ],
        [
         "('vosnesenskii', 'blu')",
         "20"
        ],
        [
         "('vosnesenskii', 'blv')",
         "43"
        ],
        [
         "('vosnesenskii', 'cnt')",
         "48"
        ],
        [
         "('vosnesenskii', 'grn')",
         "39"
        ],
        [
         "('vosnesenskii', 'yel')",
         "16"
        ]
       ],
       "shape": {
        "columns": 1,
        "rows": 20
       }
      },
      "text/plain": [
       "species       color\n",
       "appositus     blv       1\n",
       "fervidus      blu       6\n",
       "              blv       5\n",
       "              cnt      31\n",
       "              grn      18\n",
       "              yel       8\n",
       "griseocollis  blu       3\n",
       "              blv       3\n",
       "              cnt       7\n",
       "nevadensis    blv       1\n",
       "unk           blu       7\n",
       "              blv       6\n",
       "              cnt       7\n",
       "              grn       6\n",
       "              yel       6\n",
       "vosnesenskii  blu      20\n",
       "              blv      43\n",
       "              cnt      48\n",
       "              grn      39\n",
       "              yel      16\n",
       "dtype: int64"
      ]
     },
     "execution_count": 44,
     "metadata": {},
     "output_type": "execute_result"
    }
   ],
   "source": [
    "bombus_visits[bombus_visits['datetime'] < pd.Timestamp('2024-07-30')].groupby(['species', 'color']).size()"
   ]
  },
  {
   "cell_type": "code",
   "execution_count": 45,
   "metadata": {},
   "outputs": [
    {
     "data": {
      "application/vnd.microsoft.datawrangler.viewer.v0+json": {
       "columns": [
        {
         "name": "('species', 'color')",
         "rawType": "object",
         "type": "unknown"
        },
        {
         "name": "0",
         "rawType": "int64",
         "type": "integer"
        }
       ],
       "ref": "30013b9c-5832-47b3-a2af-2ee5d604482c",
       "rows": [
        [
         "('fervidus', 'blu')",
         "1"
        ],
        [
         "('fervidus', 'blv')",
         "2"
        ],
        [
         "('fervidus', 'cnt')",
         "2"
        ],
        [
         "('griseocollis', 'blu')",
         "1"
        ],
        [
         "('nevadensis', 'blu')",
         "1"
        ],
        [
         "('nevadensis', 'blv')",
         "3"
        ],
        [
         "('nevadensis', 'yel')",
         "1"
        ],
        [
         "('vosnesenskii', 'blv')",
         "4"
        ],
        [
         "('vosnesenskii', 'cnt')",
         "1"
        ],
        [
         "('vosnesenskii', 'yel')",
         "1"
        ]
       ],
       "shape": {
        "columns": 1,
        "rows": 10
       }
      },
      "text/plain": [
       "species       color\n",
       "fervidus      blu      1\n",
       "              blv      2\n",
       "              cnt      2\n",
       "griseocollis  blu      1\n",
       "nevadensis    blu      1\n",
       "              blv      3\n",
       "              yel      1\n",
       "vosnesenskii  blv      4\n",
       "              cnt      1\n",
       "              yel      1\n",
       "dtype: int64"
      ]
     },
     "execution_count": 45,
     "metadata": {},
     "output_type": "execute_result"
    }
   ],
   "source": [
    "bombus_visits[bombus_visits['datetime'] >= pd.Timestamp('2024-07-30')].groupby(['species', 'color']).size()"
   ]
  },
  {
   "cell_type": "code",
   "execution_count": 46,
   "metadata": {},
   "outputs": [
    {
     "name": "stderr",
     "output_type": "stream",
     "text": [
      "/tmp/ipykernel_64379/4253131337.py:12: SettingWithCopyWarning: \n",
      "A value is trying to be set on a copy of a slice from a DataFrame.\n",
      "Try using .loc[row_indexer,col_indexer] = value instead\n",
      "\n",
      "See the caveats in the documentation: https://pandas.pydata.org/pandas-docs/stable/user_guide/indexing.html#returning-a-view-versus-a-copy\n",
      "  bvt_spec_dates['datetime'] = bvt_spec_dates['date'].apply(convert_to_datetime)\n"
     ]
    }
   ],
   "source": [
    "bvt_spec_dates = bvt_data[['Genus', 'Species', 'Collection Day 2',]]\n",
    "bvt_spec_dates.columns = ['genus', 'species', 'date']\n",
    "\n",
    "def convert_to_datetime(date):\n",
    "    if date in [27, 29]:\n",
    "        return pd.Timestamp(f'2024-07-{int(date):02d} 00:00')\n",
    "    elif date in [1, 2]:\n",
    "        return pd.Timestamp(f'2024-08-{int(date):02d} 00:00')\n",
    "    else:\n",
    "        return pd.NaT \n",
    "\n",
    "bvt_spec_dates['datetime'] = bvt_spec_dates['date'].apply(convert_to_datetime)\n",
    "bvt_spec_dates = bvt_spec_dates.sort_values('datetime')\n",
    "\n",
    "bvt_bombus = bvt_spec_dates[bvt_spec_dates['genus'] == 'Bombus']\n",
    "bvt_bombus\n",
    "\n",
    "bvt_cum_counts = {}\n",
    "bvt_diversity_time = []\n",
    "bvt_dates = []\n",
    "\n",
    "for _, row in bvt_bombus.iterrows():\n",
    "    species = row['species']\n",
    "    date = row['datetime']\n",
    "    \n",
    "    if species in bvt_cum_counts:\n",
    "        bvt_cum_counts[species] += 1\n",
    "    else:\n",
    "        bvt_cum_counts[species] = 1\n",
    "    \n",
    "    bvt_diversity_time.append(simpsons_diversity(np.array(list(bvt_cum_counts.values()))))\n",
    "    bvt_dates.append(date)"
   ]
  },
  {
   "cell_type": "code",
   "execution_count": 47,
   "metadata": {},
   "outputs": [
    {
     "name": "stderr",
     "output_type": "stream",
     "text": [
      "/tmp/ipykernel_64379/4231246071.py:3: SettingWithCopyWarning: \n",
      "A value is trying to be set on a copy of a slice from a DataFrame.\n",
      "Try using .loc[row_indexer,col_indexer] = value instead\n",
      "\n",
      "See the caveats in the documentation: https://pandas.pydata.org/pandas-docs/stable/user_guide/indexing.html#returning-a-view-versus-a-copy\n",
      "  bombus_visits_clover['days_from_start'] = (bombus_visits_clover['datetime'] - reference_date).dt.days\n"
     ]
    }
   ],
   "source": [
    "bombus_visits_clover = bombus_visits[bombus_visits['datetime'] < pd.Timestamp('2024-07-30')]\n",
    "reference_date = pd.Timestamp('2024-07-11')\n",
    "bombus_visits_clover['days_from_start'] = (bombus_visits_clover['datetime'] - reference_date).dt.days\n",
    "\n"
   ]
  },
  {
   "cell_type": "code",
   "execution_count": 48,
   "metadata": {},
   "outputs": [],
   "source": [
    "bombus_visits_clover_nounk = bombus_visits_clover[bombus_visits_clover['species'] != 'unk']"
   ]
  },
  {
   "cell_type": "code",
   "execution_count": null,
   "metadata": {},
   "outputs": [
    {
     "data": {
      "image/png": "[encoded data removed]",
      "text/plain": [
       "<Figure size 310x180 with 1 Axes>"
      ]
     },
     "metadata": {},
     "output_type": "display_data"
    }
   ],
   "source": [
    "cumulative_richness = pd.DataFrame()\n",
    "\n",
    "for color in bombus_visits_clover_nounk['color'].unique():\n",
    "    subset = bombus_visits_clover_nounk[bombus_visits_clover_nounk['color'] == color].sort_values(by='date')\n",
    "    subset['is_new_species'] = ~subset['species'].duplicated()\n",
    "    subset['cumulative_richness'] = subset['is_new_species'].cumsum()\n",
    "    cumulative_richness = pd.concat([cumulative_richness, subset], axis=0)\n",
    "\n",
    "plot_data = cumulative_richness.groupby(['date', 'color'])['cumulative_richness'].max().reset_index()\n",
    "plot_data['date'] = pd.to_datetime(plot_data['date'])\n",
    "plot_data['days_from_start'] = (plot_data['date'] - plot_data['date'].min()).dt.days\n",
    "\n",
    "\n",
    "color_hatch_map = {\n",
    "    'blu': ('b', ''),\n",
    "    'blv': ('c', ''),\n",
    "    'cnt': ('m', ''),\n",
    "    'grn': ('g', ''),\n",
    "    'yel': ('y', '')\n",
    "}\n",
    "\n",
    "offset = 0.07  \n",
    "colors = plot_data['color'].unique()\n",
    "\n",
    "plt.figure(figsize=(3.1, 1.8))\n",
    "\n",
    "for idx, color in enumerate(colors):\n",
    "    if color in color_hatch_map:\n",
    "        plot_color, _ = color_hatch_map[color] \n",
    "    else:\n",
    "        plot_color = 'k'  \n",
    "    color_data = plot_data[plot_data['color'] == color]\n",
    "    plt.plot(\n",
    "        color_data['days_from_start'],\n",
    "        color_data['cumulative_richness'] + idx * offset, \n",
    "        label=f\"{color} (offset)\",\n",
    "        color=plot_color\n",
    "    )\n",
    "\n",
    "ax=plt.gca()\n",
    "ax.spines['top'].set_visible(False)\n",
    "ax.spines['right'].set_visible(False)\n",
    "\n",
    "plt.ylim(0,5.5)\n",
    "plt.xlim(-1, 19)\n",
    "plt.xticks(ticks=range(0, 20, 2), labels=[i+1 for i in range(0, 20, 2)])\n",
    "plt.yticks(ticks=range(0, 6, 1))\n",
    "plt.xlabel('Days from 2024-07-11')\n",
    "plt.ylabel('Cumulative Richness')\n",
    "# plt.legend(title='Color')\n",
    "plt.tight_layout()\n",
    "\n",
    "# plt.savefig('figs/richness_hours_all.svg', format='svg')"
   ]
  },
  {
   "cell_type": "code",
   "execution_count": 50,
   "metadata": {},
   "outputs": [],
   "source": [
    "reference_date = bombus_visits_clover['datetime'].min()\n",
    "all_dates = pd.date_range(start=reference_date, end=bombus_visits_clover['datetime'].max(), freq='D')\n",
    "days_from_start = [(date - reference_date).days for date in all_dates]\n"
   ]
  },
  {
   "cell_type": "code",
   "execution_count": 51,
   "metadata": {},
   "outputs": [],
   "source": [
    "# div_df = pd.DataFrame(list(final_diversities.items()), columns=['color', 'diversity'])\n",
    "\n",
    "\n",
    "color_hatch_map = {\n",
    "    'blu': ('b', ''),\n",
    "    'blv': ('c', ''),\n",
    "    'cnt': ('m', ''),\n",
    "    'grn': ('g', ''),\n",
    "    'yel': ('y', '')\n",
    "}\n",
    "\n",
    "# color_name_map = {\n",
    "#     'blu': 'blue',\n",
    "#     'blv': 'blue + UV',\n",
    "#     'cnt': 'contrast + UV',\n",
    "#     'grn': 'green',\n",
    "#     'yel': 'yellow'\n",
    "# }\n",
    "\n",
    "# plt.figure(figsize=(4, 2))\n",
    "# ax = plt.gca()\n",
    "\n",
    "# # Iterate over rows in the DataFrame to plot counts_per_hour\n",
    "# for i, row in div_df.iterrows():\n",
    "#     color = row['color']\n",
    "#     diversity = row['diversity']\n",
    "#     plot_color, hatch_pattern = color_hatch_map.get(color, ('grey', ''))\n",
    "#     ax.barh(i, diversity, label=color, color=plot_color)\n",
    "\n",
    "# # Set y-axis ticks and labels\n",
    "# # ytick_labels = [color_name_map.get(color, color) for color in color_name_map]\n",
    "# # ax.set_yticks(range(len(color_name_map)))\n",
    "# # ax.set_yticklabels(ytick_labels)\n",
    "# # ax.set_xticks(np.arange(0, 0.40, 0.05), labels=['','0.05', '','0.15', '','0.25', '', '0.35'])\n",
    "\n",
    "# plt.xlim(0.3, 0.55)\n",
    "# ax.spines['top'].set_visible(False)\n",
    "# ax.spines['right'].set_visible(False)\n",
    "# plt.ylabel('Treatment')\n",
    "# plt.xlabel('Visits per Hour')\n",
    "\n",
    "# plt.tight_layout()"
   ]
  },
  {
   "cell_type": "code",
   "execution_count": 52,
   "metadata": {},
   "outputs": [
    {
     "data": {
      "application/vnd.microsoft.datawrangler.viewer.v0+json": {
       "columns": [
        {
         "name": "species",
         "rawType": "object",
         "type": "string"
        },
        {
         "name": "count",
         "rawType": "int64",
         "type": "integer"
        }
       ],
       "ref": "062504c1-5734-4e48-8eac-c0f95ad77176",
       "rows": [
        [
         "vosnesenskii",
         "166"
        ],
        [
         "fervidus",
         "68"
        ],
        [
         "unk",
         "32"
        ],
        [
         "griseocollis",
         "13"
        ],
        [
         "appositus",
         "1"
        ],
        [
         "nevadensis",
         "1"
        ]
       ],
       "shape": {
        "columns": 1,
        "rows": 6
       }
      },
      "text/plain": [
       "species\n",
       "vosnesenskii    166\n",
       "fervidus         68\n",
       "unk              32\n",
       "griseocollis     13\n",
       "appositus         1\n",
       "nevadensis        1\n",
       "Name: count, dtype: int64"
      ]
     },
     "execution_count": 52,
     "metadata": {},
     "output_type": "execute_result"
    }
   ],
   "source": [
    "cam_bombus_counts = bombus_species_counts\n",
    "cam_bombus_counts"
   ]
  },
  {
   "cell_type": "code",
   "execution_count": 53,
   "metadata": {},
   "outputs": [
    {
     "data": {
      "application/vnd.microsoft.datawrangler.viewer.v0+json": {
       "columns": [
        {
         "name": "Species",
         "rawType": "object",
         "type": "string"
        },
        {
         "name": "count",
         "rawType": "int64",
         "type": "integer"
        }
       ],
       "ref": "9f699470-15b0-4e2c-a589-a67c7dd54714",
       "rows": [
        [
         "vosnesenskii",
         "63"
        ],
        [
         "griseocollis",
         "21"
        ],
        [
         "nevadensis",
         "18"
        ],
        [
         "appositus",
         "14"
        ],
        [
         "fervidus",
         "11"
        ],
        [
         "caliginosus",
         "2"
        ],
        [
         "mixtus",
         "1"
        ]
       ],
       "shape": {
        "columns": 1,
        "rows": 7
       }
      },
      "text/plain": [
       "Species\n",
       "vosnesenskii    63\n",
       "griseocollis    21\n",
       "nevadensis      18\n",
       "appositus       14\n",
       "fervidus        11\n",
       "caliginosus      2\n",
       "mixtus           1\n",
       "Name: count, dtype: int64"
      ]
     },
     "execution_count": 53,
     "metadata": {},
     "output_type": "execute_result"
    }
   ],
   "source": [
    "bvt_bombus_counts"
   ]
  },
  {
   "cell_type": "code",
   "execution_count": 54,
   "metadata": {},
   "outputs": [
    {
     "data": {
      "application/vnd.microsoft.datawrangler.viewer.v0+json": {
       "columns": [
        {
         "name": "Species",
         "rawType": "object",
         "type": "string"
        },
        {
         "name": "count",
         "rawType": "int64",
         "type": "integer"
        }
       ],
       "ref": "d658127a-ebd4-4301-97bd-3bfb31e35766",
       "rows": [
        [
         "vosnesenskii",
         "92"
        ],
        [
         "fervidus",
         "64"
        ],
        [
         "appositus",
         "16"
        ],
        [
         "griseocollis",
         "3"
        ],
        [
         "nevadensis",
         "1"
        ]
       ],
       "shape": {
        "columns": 1,
        "rows": 5
       }
      },
      "text/plain": [
       "Species\n",
       "vosnesenskii    92\n",
       "fervidus        64\n",
       "appositus       16\n",
       "griseocollis     3\n",
       "nevadensis       1\n",
       "Name: count, dtype: int64"
      ]
     },
     "execution_count": 54,
     "metadata": {},
     "output_type": "execute_result"
    }
   ],
   "source": [
    "net_bombus_counts"
   ]
  },
  {
   "cell_type": "code",
   "execution_count": 55,
   "metadata": {},
   "outputs": [],
   "source": [
    "cam_bombus_counts = cam_bombus_counts.to_frame()\n",
    "cam_abund = cam_bombus_counts.sum(axis=1).to_dict()\n",
    "cam_abund.pop('unk')\n",
    "bvt_bombus_counts = bvt_bombus_counts.to_frame()\n",
    "bvt_abund = bvt_bombus_counts.sum(axis=1).to_dict()\n",
    "net_bombus_counts = net_bombus_counts.to_frame()\n",
    "net_abund = net_bombus_counts.sum(axis=1).to_dict()\n",
    "\n",
    "abundance_list = {\n",
    "    \"camera\": cam_abund,\n",
    "    \"bvt\": bvt_abund,\n",
    "    \"net\": net_abund\n",
    "}"
   ]
  },
  {
   "cell_type": "code",
   "execution_count": 56,
   "metadata": {},
   "outputs": [
    {
     "data": {
      "text/plain": [
       "{'vosnesenskii': 92,\n",
       " 'fervidus': 64,\n",
       " 'appositus': 16,\n",
       " 'griseocollis': 3,\n",
       " 'nevadensis': 1}"
      ]
     },
     "execution_count": 56,
     "metadata": {},
     "output_type": "execute_result"
    }
   ],
   "source": [
    "net_abund"
   ]
  },
  {
   "cell_type": "code",
   "execution_count": 57,
   "metadata": {},
   "outputs": [
    {
     "data": {
      "text/plain": [
       "{'vosnesenskii': 63,\n",
       " 'griseocollis': 21,\n",
       " 'nevadensis': 18,\n",
       " 'appositus': 14,\n",
       " 'fervidus': 11,\n",
       " 'caliginosus': 2,\n",
       " 'mixtus': 1}"
      ]
     },
     "execution_count": 57,
     "metadata": {},
     "output_type": "execute_result"
    }
   ],
   "source": [
    "bvt_abund"
   ]
  },
  {
   "cell_type": "code",
   "execution_count": 58,
   "metadata": {},
   "outputs": [],
   "source": [
    "import json\n",
    "\n",
    "all_species = set()\n",
    "for method_data in abundance_list.values():\n",
    "    all_species.update(method_data.keys())\n",
    "all_species = sorted(all_species)\n",
    "\n",
    "inext_ready = {\n",
    "    method: [method_data.get(species, 0) for species in all_species]\n",
    "    for method, method_data in abundance_list.items()\n",
    "}\n",
    "\n",
    "\n",
    "with open(\"csvs/abundance_list.json\", \"w\") as f:\n",
    "    json.dump(inext_ready, f)"
   ]
  }
 ],
 "metadata": {
  "kernelspec": {
   "display_name": "bee_mapping",
   "language": "python",
   "name": "python3"
  },
  "language_info": {
   "codemirror_mode": {
    "name": "ipython",
    "version": 3
   },
   "file_extension": ".py",
   "mimetype": "text/x-python",
   "name": "python",
   "nbconvert_exporter": "python",
   "pygments_lexer": "ipython3",
   "version": "3.12.0"
  }
 },
 "nbformat": 4,
 "nbformat_minor": 2
}
