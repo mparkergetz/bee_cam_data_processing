{
 "cells": [
  {
   "cell_type": "code",
   "execution_count": 123,
   "metadata": {},
   "outputs": [],
   "source": [
    "import matplotlib.pyplot as plt\n",
    "import matplotlib\n",
    "matplotlib.rcParams['font.family'] = 'Nimbus Sans'\n",
    "plt.rcParams['font.size'] = 10\n",
    "\n",
    "import pandas as pd\n",
    "\n",
    "color_map = {\n",
    "    'cnt': 'm',\n",
    "    'blu': 'b',\n",
    "    'blv': 'c',\n",
    "    'grn': 'g',\n",
    "    'yel': 'y'\n",
    "}\n",
    "\n",
    "# periods = [('2024-07-11', '2024-07-18'),     # PERIODS FOR ALL TIME\n",
    "#            ('2024-07-18', '2024-07-23'), \n",
    "#            ('2024-07-23', '2024-08-15'), \n",
    "#            ('2024-08-15', '2024-09-03'),\n",
    "#            ('2024-09-03', '2024-09-10'), \n",
    "#            ]\n",
    "\n",
    "periods = [('2024-07-11', '2024-07-17'),  # PERIODS FOR JUST CLOVER\n",
    "           ('2024-07-18', '2024-07-24'), \n",
    "           ('2024-07-24', '2024-07-30')\n",
    "           ]\n",
    "\n",
    "periods = [(pd.to_datetime(start), pd.to_datetime(end)) for start, end in periods]\n",
    "\n",
    "clover_start = pd.to_datetime('2024-07-11')\n",
    "clover_end = pd.to_datetime('2024-07-30')"
   ]
  },
  {
   "cell_type": "code",
   "execution_count": 124,
   "metadata": {},
   "outputs": [],
   "source": [
    "# STIMULUS SHUFFLE INTERVALS\n",
    "stim_ints = pd.read_csv('csvs/stimulus_intervals.csv', index_col=False)\n",
    "stim_ints['interval'] = stim_ints['interval'].apply(lambda x: pd.Interval(pd.Timestamp(x.split(', ')[0].strip('[')), \n",
    "                                                            pd.Timestamp(x.split(', ')[1].strip(')')), \n",
    "                                                            closed='left'))\n",
    "\n",
    "# CAMERA ON TIME INTERVALS\n",
    "cam_ints = pd.read_csv('csvs/camera_intervals.csv', index_col=False)\n",
    "cam_ints['interval'] = cam_ints['interval'].apply(lambda x: pd.Interval(pd.Timestamp(x.split(', ')[0].strip('[')), \n",
    "                                                            pd.Timestamp(x.split(', ')[1].strip(']')), \n",
    "                                                            closed='both'))"
   ]
  },
  {
   "cell_type": "code",
   "execution_count": 142,
   "metadata": {},
   "outputs": [],
   "source": [
    "# LOAD ORIGINAL BOMBUS ID DATA\n",
    "bombus_df = pd.read_csv('csvs/clean_dfs/bombus_df_manualedit.csv')\n",
    "bombus_df['datetime'] = pd.to_datetime(bombus_df['datetime'])\n",
    "# bombus_df"
   ]
  },
  {
   "cell_type": "code",
   "execution_count": 143,
   "metadata": {},
   "outputs": [],
   "source": [
    "# LOAD IN AND FORMAT NEW SAHI DETECTIONS, CONCAT TO BOMBUS_DF\n",
    "sahi_detections = pd.read_csv('csvs/bees_to_id_091625LRBupdate.csv', index_col=False)\n",
    "sahi_detections[['pi', 'datetime']] = sahi_detections['imageID'].str.extract(r'^pi(\\d+)_(\\d{8}_\\d{6})')\n",
    "sahi_detections['datetime'] = pd.to_datetime(sahi_detections['datetime'], format='%Y%m%d_%H%M%S')\n",
    "sahi_detections = sahi_detections.drop(columns=['sex', 'caste', 'taxonomicNotes'])\n",
    "sahi_detections['species'] = sahi_detections['species'].str[7:]\n",
    "sahi_detections['species'] = sahi_detections['species'].replace('','unk')\n",
    "sahi_detections.columns = ['filename', 'species', 'pi', 'datetime']\n",
    "sahi_detections['pi'] = sahi_detections['pi'].astype(int)\n",
    "sahi_detections['sex'] = None\n",
    "sahi_detections.loc[sahi_detections[\"filename\"] == 'pi5_20240720_081914.jpg', \"sex\"] = \"female\"\n",
    "sahi_detections.loc[sahi_detections[\"filename\"] == 'pi6_20240723_100122.jpg', \"sex\"]   = \"male\"\n",
    "sahi_detections['sex'] = sahi_detections['sex'].fillna('unk')\n",
    "bombus_df = pd.concat([bombus_df, sahi_detections], ignore_index=True)\n",
    "bombus_df = bombus_df.sort_values(by=['pi', 'datetime'], ascending=[True, True]).reset_index(drop=True)"
   ]
  },
  {
   "cell_type": "code",
   "execution_count": 144,
   "metadata": {},
   "outputs": [],
   "source": [
    "# APPLY TREATMENT COLOR TO ROWS BASED ON STIM_INTS\n",
    "bombus_df['color'] = None\n",
    "for _, row in stim_ints.iterrows():\n",
    "    mask = (bombus_df['pi'] == row['pi']) & (bombus_df['datetime'].between(row['interval'].left, row['interval'].right, inclusive='left'))\n",
    "    bombus_df.loc[mask, 'color'] = row['color']\n",
    "bombus_df = bombus_df.drop(columns=['filename', 'date', 'time_diff'])\n",
    "bombus_df = bombus_df[['pi', 'datetime', 'color', 'species', 'sex']]"
   ]
  },
  {
   "cell_type": "code",
   "execution_count": 145,
   "metadata": {},
   "outputs": [],
   "source": [
    "# LOAD AND FORMAT LONG VISITS (WERE EXCLUDED FROM FULL IMAGE LIST FOR ID SIMPLICITY)\n",
    "long_visits = pd.read_csv('csvs/stationary_bombus_filelist.txt', header=None, names=['filename'])\n",
    "long_visits[['pi', 'datetime']] = long_visits['filename'].str.extract(r'^pi(\\d+)_(\\d{8}_\\d{6})')\n",
    "long_visits['pi'] = long_visits['pi'].astype(int)\n",
    "long_visits = long_visits.drop(columns='filename')\n",
    "long_visits['datetime'] = pd.to_datetime(long_visits['datetime'], format='%Y%m%d_%H%M%S')\n",
    "long_visits = long_visits.sort_values(by=['pi', 'datetime'], ascending=[True, True]).reset_index(drop=True)"
   ]
  },
  {
   "cell_type": "code",
   "execution_count": 146,
   "metadata": {},
   "outputs": [],
   "source": [
    "# ADD LONG VISITS TO ORIGINAL VISITS\n",
    "combined_df = pd.concat([bombus_df, long_visits], ignore_index=True)\n",
    "combined_df = combined_df.sort_values(by=['pi', 'datetime'])\n",
    "columns_to_fill = ['species', 'sex', 'color']\n",
    "combined_df[columns_to_fill] = combined_df[columns_to_fill].ffill()\n",
    "combined_df['time_diff'] = combined_df.groupby(['pi', 'color', 'species', 'sex'])['datetime'].diff()\n",
    "combined_df['new_visit'] = (combined_df['time_diff'] > pd.Timedelta(seconds=4)) | (combined_df['time_diff'].isna())\n",
    "combined_df['visit_id'] = combined_df.groupby(['species'])['new_visit'].cumsum()"
   ]
  },
  {
   "cell_type": "code",
   "execution_count": 147,
   "metadata": {},
   "outputs": [],
   "source": [
    "# CALCULATE VISIT DURATIONS\n",
    "visit_durations = (\n",
    "    combined_df.groupby(['species', 'visit_id', 'pi', 'color'])['datetime']\n",
    "    .agg(visit_start='min', visit_end='max')\n",
    "    .reset_index())\n",
    "visit_durations['duration'] = ((visit_durations['visit_end'] - visit_durations['visit_start']).dt.total_seconds())\n",
    "visit_durations['pi_color'] = visit_durations['pi'].astype(str) + '_' + visit_durations['color']\n",
    "visit_durations = visit_durations.sort_values(by='visit_start').reset_index(drop=True)\n",
    "visit_durations = visit_durations.drop(index=[184, 187])"
   ]
  },
  {
   "cell_type": "code",
   "execution_count": 148,
   "metadata": {},
   "outputs": [],
   "source": [
    "# MANUALLY ADD MULT VISITS\n",
    "\n",
    "def add_rows(df, new_rows):\n",
    "    new_df = pd.DataFrame(new_rows)\n",
    "    new_df['visit_start'] = pd.to_datetime(new_df['visit_start'])\n",
    "    new_df['visit_end'] = pd.to_datetime(new_df['visit_end'])\n",
    "    new_df['duration'] = (new_df['visit_end'] - new_df['visit_start']).dt.total_seconds()\n",
    "    for pi_color in new_df['pi_color'].unique():\n",
    "        if pd.notna(pi_color):\n",
    "            max_existing_id = df[df['pi_color'] == pi_color]['visit_id'].max()\n",
    "            max_existing_id = max_existing_id if pd.notna(max_existing_id) else 0\n",
    "            new_df.loc[new_df['pi_color'] == pi_color, 'visit_id'] = range(\n",
    "                int(max_existing_id) + 1, int(max_existing_id) + 1 + len(new_df[new_df['pi_color'] == pi_color])\n",
    "            )\n",
    "\n",
    "    df = pd.concat([df, new_df], ignore_index=True)\n",
    "    \n",
    "    return df\n",
    "\n",
    "new_rows = [\n",
    "    {\n",
    "        'species': 'vosnesenskii', 'pi': 9, 'color': 'grn',\n",
    "        'visit_start': '2024-07-23 09:41:43', 'visit_end': '2024-07-23 10:02:38',\n",
    "        'pi_color': '9_grn'\n",
    "    },\n",
    "    {\n",
    "        'species': 'vosnesenskii', 'pi': 9, 'color': 'grn',\n",
    "        'visit_start': '2024-07-23 10:02:19', 'visit_end': '2024-07-23 10:07:09',\n",
    "        'pi_color': '9_grn'\n",
    "    },\n",
    "    {\n",
    "        'species': 'vosnesenskii', 'pi': 9, 'color': 'grn',\n",
    "        'visit_start': '2024-07-23 10:02:35', 'visit_end': '2024-07-23 10:05:19',\n",
    "        'pi_color': '9_grn'\n",
    "    }\n",
    "]\n",
    "\n",
    "visit_durations = add_rows(visit_durations, new_rows)"
   ]
  },
  {
   "cell_type": "code",
   "execution_count": 149,
   "metadata": {},
   "outputs": [
    {
     "data": {
      "application/vnd.microsoft.datawrangler.viewer.v0+json": {
       "columns": [
        {
         "name": "index",
         "rawType": "int64",
         "type": "integer"
        },
        {
         "name": "species",
         "rawType": "object",
         "type": "string"
        },
        {
         "name": "visit_id",
         "rawType": "float64",
         "type": "float"
        },
        {
         "name": "pi",
         "rawType": "int64",
         "type": "integer"
        },
        {
         "name": "color",
         "rawType": "object",
         "type": "string"
        },
        {
         "name": "visit_start",
         "rawType": "datetime64[ns]",
         "type": "datetime"
        },
        {
         "name": "visit_end",
         "rawType": "datetime64[ns]",
         "type": "datetime"
        },
        {
         "name": "duration",
         "rawType": "float64",
         "type": "float"
        },
        {
         "name": "pi_color",
         "rawType": "object",
         "type": "string"
        }
       ],
       "ref": "7f4b7870-113c-41db-a3c7-1ed0b5891703",
       "rows": [
        [
         "0",
         "fervidus",
         "69.0",
         "9",
         "grn",
         "2024-07-11 07:28:42",
         "2024-07-11 07:28:42",
         "0.0",
         "9_grn"
        ],
        [
         "1",
         "vosnesenskii",
         "32.0",
         "2",
         "blv",
         "2024-07-11 07:51:19",
         "2024-07-11 07:51:19",
         "0.0",
         "2_blv"
        ],
        [
         "2",
         "vosnesenskii",
         "80.0",
         "6",
         "cnt",
         "2024-07-11 08:09:09",
         "2024-07-11 08:09:09",
         "0.0",
         "6_cnt"
        ],
        [
         "3",
         "fervidus",
         "29.0",
         "4",
         "grn",
         "2024-07-11 08:40:37",
         "2024-07-11 08:40:37",
         "0.0",
         "4_grn"
        ],
        [
         "4",
         "vosnesenskii",
         "1.0",
         "1",
         "cnt",
         "2024-07-11 08:43:51",
         "2024-07-11 08:43:51",
         "0.0",
         "1_cnt"
        ],
        [
         "5",
         "fervidus",
         "1.0",
         "1",
         "cnt",
         "2024-07-11 09:02:37",
         "2024-07-11 09:02:37",
         "0.0",
         "1_cnt"
        ],
        [
         "6",
         "vosnesenskii",
         "81.0",
         "6",
         "cnt",
         "2024-07-11 09:35:29",
         "2024-07-11 09:35:29",
         "0.0",
         "6_cnt"
        ],
        [
         "7",
         "vosnesenskii",
         "33.0",
         "2",
         "blv",
         "2024-07-11 09:51:50",
         "2024-07-11 09:51:50",
         "0.0",
         "2_blv"
        ],
        [
         "8",
         "fervidus",
         "2.0",
         "1",
         "cnt",
         "2024-07-11 09:55:06",
         "2024-07-11 09:55:06",
         "0.0",
         "1_cnt"
        ],
        [
         "9",
         "vosnesenskii",
         "82.0",
         "6",
         "cnt",
         "2024-07-11 10:11:48",
         "2024-07-11 10:11:48",
         "0.0",
         "6_cnt"
        ],
        [
         "10",
         "vosnesenskii",
         "106.0",
         "7",
         "yel",
         "2024-07-11 10:17:18",
         "2024-07-11 10:17:18",
         "0.0",
         "7_yel"
        ],
        [
         "11",
         "fervidus",
         "50.0",
         "6",
         "cnt",
         "2024-07-11 10:33:06",
         "2024-07-11 10:33:06",
         "0.0",
         "6_cnt"
        ],
        [
         "12",
         "vosnesenskii",
         "83.0",
         "6",
         "cnt",
         "2024-07-11 10:35:37",
         "2024-07-11 10:35:39",
         "2.0",
         "6_cnt"
        ],
        [
         "13",
         "fervidus",
         "3.0",
         "1",
         "cnt",
         "2024-07-11 10:40:47",
         "2024-07-11 10:40:47",
         "0.0",
         "1_cnt"
        ],
        [
         "14",
         "vosnesenskii",
         "84.0",
         "6",
         "cnt",
         "2024-07-11 11:05:07",
         "2024-07-11 11:05:07",
         "0.0",
         "6_cnt"
        ],
        [
         "15",
         "vosnesenskii",
         "115.0",
         "8",
         "blu",
         "2024-07-11 11:13:10",
         "2024-07-11 11:13:10",
         "0.0",
         "8_blu"
        ],
        [
         "16",
         "fervidus",
         "61.0",
         "7",
         "yel",
         "2024-07-11 11:26:15",
         "2024-07-11 11:26:15",
         "0.0",
         "7_yel"
        ],
        [
         "17",
         "fervidus",
         "4.0",
         "1",
         "cnt",
         "2024-07-11 12:06:41",
         "2024-07-11 12:06:41",
         "0.0",
         "1_cnt"
        ],
        [
         "18",
         "fervidus",
         "5.0",
         "1",
         "cnt",
         "2024-07-11 12:19:37",
         "2024-07-11 12:19:37",
         "0.0",
         "1_cnt"
        ],
        [
         "19",
         "vosnesenskii",
         "2.0",
         "1",
         "cnt",
         "2024-07-11 12:34:12",
         "2024-07-11 12:34:12",
         "0.0",
         "1_cnt"
        ],
        [
         "20",
         "griseocollis",
         "2.0",
         "2",
         "blv",
         "2024-07-11 12:57:24",
         "2024-07-11 12:57:24",
         "0.0",
         "2_blv"
        ],
        [
         "21",
         "vosnesenskii",
         "68.0",
         "5",
         "yel",
         "2024-07-11 13:08:39",
         "2024-07-11 13:08:39",
         "0.0",
         "5_yel"
        ],
        [
         "22",
         "fervidus",
         "30.0",
         "4",
         "grn",
         "2024-07-11 13:20:46",
         "2024-07-11 13:20:46",
         "0.0",
         "4_grn"
        ],
        [
         "23",
         "griseocollis",
         "1.0",
         "1",
         "cnt",
         "2024-07-11 13:21:45",
         "2024-07-11 13:21:45",
         "0.0",
         "1_cnt"
        ],
        [
         "24",
         "vosnesenskii",
         "53.0",
         "4",
         "grn",
         "2024-07-11 14:49:43",
         "2024-07-11 14:49:43",
         "0.0",
         "4_grn"
        ],
        [
         "25",
         "vosnesenskii",
         "3.0",
         "1",
         "cnt",
         "2024-07-11 15:35:55",
         "2024-07-11 15:35:55",
         "0.0",
         "1_cnt"
        ],
        [
         "26",
         "vosnesenskii",
         "107.0",
         "7",
         "yel",
         "2024-07-11 15:45:44",
         "2024-07-11 15:45:44",
         "0.0",
         "7_yel"
        ],
        [
         "27",
         "vosnesenskii",
         "85.0",
         "6",
         "cnt",
         "2024-07-11 15:46:44",
         "2024-07-11 15:46:44",
         "0.0",
         "6_cnt"
        ],
        [
         "28",
         "unk",
         "1.0",
         "1",
         "cnt",
         "2024-07-11 15:58:37",
         "2024-07-11 15:58:37",
         "0.0",
         "1_cnt"
        ],
        [
         "29",
         "fervidus",
         "6.0",
         "1",
         "cnt",
         "2024-07-12 08:45:08",
         "2024-07-12 08:45:08",
         "0.0",
         "1_cnt"
        ],
        [
         "30",
         "fervidus",
         "51.0",
         "6",
         "cnt",
         "2024-07-12 09:05:49",
         "2024-07-12 09:05:49",
         "0.0",
         "6_cnt"
        ],
        [
         "31",
         "vosnesenskii",
         "54.0",
         "4",
         "grn",
         "2024-07-12 09:13:19",
         "2024-07-12 09:13:19",
         "0.0",
         "4_grn"
        ],
        [
         "32",
         "fervidus",
         "7.0",
         "1",
         "cnt",
         "2024-07-12 09:56:11",
         "2024-07-12 09:56:11",
         "0.0",
         "1_cnt"
        ],
        [
         "33",
         "unk",
         "23.0",
         "9",
         "grn",
         "2024-07-12 10:02:29",
         "2024-07-12 10:02:29",
         "0.0",
         "9_grn"
        ],
        [
         "34",
         "fervidus",
         "8.0",
         "1",
         "cnt",
         "2024-07-12 10:15:50",
         "2024-07-12 10:15:50",
         "0.0",
         "1_cnt"
        ],
        [
         "35",
         "vosnesenskii",
         "4.0",
         "1",
         "cnt",
         "2024-07-12 10:43:26",
         "2024-07-12 10:43:26",
         "0.0",
         "1_cnt"
        ],
        [
         "36",
         "vosnesenskii",
         "5.0",
         "1",
         "cnt",
         "2024-07-12 11:19:32",
         "2024-07-12 11:19:49",
         "17.0",
         "1_cnt"
        ],
        [
         "37",
         "fervidus",
         "52.0",
         "6",
         "cnt",
         "2024-07-12 11:26:05",
         "2024-07-12 11:26:05",
         "0.0",
         "6_cnt"
        ],
        [
         "38",
         "vosnesenskii",
         "69.0",
         "5",
         "yel",
         "2024-07-12 11:45:47",
         "2024-07-12 11:45:47",
         "0.0",
         "5_yel"
        ],
        [
         "39",
         "vosnesenskii",
         "6.0",
         "1",
         "cnt",
         "2024-07-12 12:19:45",
         "2024-07-12 12:19:45",
         "0.0",
         "1_cnt"
        ],
        [
         "40",
         "vosnesenskii",
         "126.0",
         "9",
         "grn",
         "2024-07-12 12:54:28",
         "2024-07-12 12:54:28",
         "0.0",
         "9_grn"
        ],
        [
         "41",
         "fervidus",
         "23.0",
         "2",
         "blv",
         "2024-07-12 13:06:35",
         "2024-07-12 13:06:35",
         "0.0",
         "2_blv"
        ],
        [
         "42",
         "vosnesenskii",
         "127.0",
         "9",
         "grn",
         "2024-07-12 13:42:48",
         "2024-07-12 13:42:48",
         "0.0",
         "9_grn"
        ],
        [
         "43",
         "vosnesenskii",
         "7.0",
         "1",
         "cnt",
         "2024-07-12 14:41:49",
         "2024-07-12 14:41:49",
         "0.0",
         "1_cnt"
        ],
        [
         "44",
         "vosnesenskii",
         "34.0",
         "2",
         "blv",
         "2024-07-12 15:11:37",
         "2024-07-12 15:11:37",
         "0.0",
         "2_blv"
        ],
        [
         "45",
         "fervidus",
         "66.0",
         "8",
         "blu",
         "2024-07-12 15:33:24",
         "2024-07-12 15:33:24",
         "0.0",
         "8_blu"
        ],
        [
         "46",
         "vosnesenskii",
         "8.0",
         "1",
         "cnt",
         "2024-07-12 15:44:35",
         "2024-07-12 15:44:35",
         "0.0",
         "1_cnt"
        ],
        [
         "47",
         "fervidus",
         "9.0",
         "1",
         "cnt",
         "2024-07-13 06:18:26",
         "2024-07-13 06:18:26",
         "0.0",
         "1_cnt"
        ],
        [
         "48",
         "vosnesenskii",
         "86.0",
         "6",
         "cnt",
         "2024-07-13 08:24:02",
         "2024-07-13 08:24:02",
         "0.0",
         "6_cnt"
        ],
        [
         "49",
         "vosnesenskii",
         "87.0",
         "6",
         "cnt",
         "2024-07-13 08:56:56",
         "2024-07-13 08:57:37",
         "41.0",
         "6_cnt"
        ]
       ],
       "shape": {
        "columns": 8,
        "rows": 307
       }
      },
      "text/html": [
       "<div>\n",
       "<style scoped>\n",
       "    .dataframe tbody tr th:only-of-type {\n",
       "        vertical-align: middle;\n",
       "    }\n",
       "\n",
       "    .dataframe tbody tr th {\n",
       "        vertical-align: top;\n",
       "    }\n",
       "\n",
       "    .dataframe thead th {\n",
       "        text-align: right;\n",
       "    }\n",
       "</style>\n",
       "<table border=\"1\" class=\"dataframe\">\n",
       "  <thead>\n",
       "    <tr style=\"text-align: right;\">\n",
       "      <th></th>\n",
       "      <th>species</th>\n",
       "      <th>visit_id</th>\n",
       "      <th>pi</th>\n",
       "      <th>color</th>\n",
       "      <th>visit_start</th>\n",
       "      <th>visit_end</th>\n",
       "      <th>duration</th>\n",
       "      <th>pi_color</th>\n",
       "    </tr>\n",
       "  </thead>\n",
       "  <tbody>\n",
       "    <tr>\n",
       "      <th>0</th>\n",
       "      <td>fervidus</td>\n",
       "      <td>69.0</td>\n",
       "      <td>9</td>\n",
       "      <td>grn</td>\n",
       "      <td>2024-07-11 07:28:42</td>\n",
       "      <td>2024-07-11 07:28:42</td>\n",
       "      <td>0.0</td>\n",
       "      <td>9_grn</td>\n",
       "    </tr>\n",
       "    <tr>\n",
       "      <th>1</th>\n",
       "      <td>vosnesenskii</td>\n",
       "      <td>32.0</td>\n",
       "      <td>2</td>\n",
       "      <td>blv</td>\n",
       "      <td>2024-07-11 07:51:19</td>\n",
       "      <td>2024-07-11 07:51:19</td>\n",
       "      <td>0.0</td>\n",
       "      <td>2_blv</td>\n",
       "    </tr>\n",
       "    <tr>\n",
       "      <th>2</th>\n",
       "      <td>vosnesenskii</td>\n",
       "      <td>80.0</td>\n",
       "      <td>6</td>\n",
       "      <td>cnt</td>\n",
       "      <td>2024-07-11 08:09:09</td>\n",
       "      <td>2024-07-11 08:09:09</td>\n",
       "      <td>0.0</td>\n",
       "      <td>6_cnt</td>\n",
       "    </tr>\n",
       "    <tr>\n",
       "      <th>3</th>\n",
       "      <td>fervidus</td>\n",
       "      <td>29.0</td>\n",
       "      <td>4</td>\n",
       "      <td>grn</td>\n",
       "      <td>2024-07-11 08:40:37</td>\n",
       "      <td>2024-07-11 08:40:37</td>\n",
       "      <td>0.0</td>\n",
       "      <td>4_grn</td>\n",
       "    </tr>\n",
       "    <tr>\n",
       "      <th>4</th>\n",
       "      <td>vosnesenskii</td>\n",
       "      <td>1.0</td>\n",
       "      <td>1</td>\n",
       "      <td>cnt</td>\n",
       "      <td>2024-07-11 08:43:51</td>\n",
       "      <td>2024-07-11 08:43:51</td>\n",
       "      <td>0.0</td>\n",
       "      <td>1_cnt</td>\n",
       "    </tr>\n",
       "    <tr>\n",
       "      <th>...</th>\n",
       "      <td>...</td>\n",
       "      <td>...</td>\n",
       "      <td>...</td>\n",
       "      <td>...</td>\n",
       "      <td>...</td>\n",
       "      <td>...</td>\n",
       "      <td>...</td>\n",
       "      <td>...</td>\n",
       "    </tr>\n",
       "    <tr>\n",
       "      <th>302</th>\n",
       "      <td>fervidus</td>\n",
       "      <td>68.0</td>\n",
       "      <td>8</td>\n",
       "      <td>cnt</td>\n",
       "      <td>2024-08-25 13:35:59</td>\n",
       "      <td>2024-08-25 13:35:59</td>\n",
       "      <td>0.0</td>\n",
       "      <td>8_cnt</td>\n",
       "    </tr>\n",
       "    <tr>\n",
       "      <th>303</th>\n",
       "      <td>vosnesenskii</td>\n",
       "      <td>31.0</td>\n",
       "      <td>1</td>\n",
       "      <td>blv</td>\n",
       "      <td>2024-09-05 07:39:55</td>\n",
       "      <td>2024-09-05 07:40:00</td>\n",
       "      <td>5.0</td>\n",
       "      <td>1_blv</td>\n",
       "    </tr>\n",
       "    <tr>\n",
       "      <th>304</th>\n",
       "      <td>vosnesenskii</td>\n",
       "      <td>147.0</td>\n",
       "      <td>9</td>\n",
       "      <td>grn</td>\n",
       "      <td>2024-07-23 09:41:43</td>\n",
       "      <td>2024-07-23 10:02:38</td>\n",
       "      <td>1255.0</td>\n",
       "      <td>9_grn</td>\n",
       "    </tr>\n",
       "    <tr>\n",
       "      <th>305</th>\n",
       "      <td>vosnesenskii</td>\n",
       "      <td>148.0</td>\n",
       "      <td>9</td>\n",
       "      <td>grn</td>\n",
       "      <td>2024-07-23 10:02:19</td>\n",
       "      <td>2024-07-23 10:07:09</td>\n",
       "      <td>290.0</td>\n",
       "      <td>9_grn</td>\n",
       "    </tr>\n",
       "    <tr>\n",
       "      <th>306</th>\n",
       "      <td>vosnesenskii</td>\n",
       "      <td>149.0</td>\n",
       "      <td>9</td>\n",
       "      <td>grn</td>\n",
       "      <td>2024-07-23 10:02:35</td>\n",
       "      <td>2024-07-23 10:05:19</td>\n",
       "      <td>164.0</td>\n",
       "      <td>9_grn</td>\n",
       "    </tr>\n",
       "  </tbody>\n",
       "</table>\n",
       "<p>307 rows × 8 columns</p>\n",
       "</div>"
      ],
      "text/plain": [
       "          species  visit_id  pi color         visit_start           visit_end  \\\n",
       "0        fervidus      69.0   9   grn 2024-07-11 07:28:42 2024-07-11 07:28:42   \n",
       "1    vosnesenskii      32.0   2   blv 2024-07-11 07:51:19 2024-07-11 07:51:19   \n",
       "2    vosnesenskii      80.0   6   cnt 2024-07-11 08:09:09 2024-07-11 08:09:09   \n",
       "3        fervidus      29.0   4   grn 2024-07-11 08:40:37 2024-07-11 08:40:37   \n",
       "4    vosnesenskii       1.0   1   cnt 2024-07-11 08:43:51 2024-07-11 08:43:51   \n",
       "..            ...       ...  ..   ...                 ...                 ...   \n",
       "302      fervidus      68.0   8   cnt 2024-08-25 13:35:59 2024-08-25 13:35:59   \n",
       "303  vosnesenskii      31.0   1   blv 2024-09-05 07:39:55 2024-09-05 07:40:00   \n",
       "304  vosnesenskii     147.0   9   grn 2024-07-23 09:41:43 2024-07-23 10:02:38   \n",
       "305  vosnesenskii     148.0   9   grn 2024-07-23 10:02:19 2024-07-23 10:07:09   \n",
       "306  vosnesenskii     149.0   9   grn 2024-07-23 10:02:35 2024-07-23 10:05:19   \n",
       "\n",
       "     duration pi_color  \n",
       "0         0.0    9_grn  \n",
       "1         0.0    2_blv  \n",
       "2         0.0    6_cnt  \n",
       "3         0.0    4_grn  \n",
       "4         0.0    1_cnt  \n",
       "..        ...      ...  \n",
       "302       0.0    8_cnt  \n",
       "303       5.0    1_blv  \n",
       "304    1255.0    9_grn  \n",
       "305     290.0    9_grn  \n",
       "306     164.0    9_grn  \n",
       "\n",
       "[307 rows x 8 columns]"
      ]
     },
     "execution_count": 149,
     "metadata": {},
     "output_type": "execute_result"
    }
   ],
   "source": [
    "visit_durations"
   ]
  },
  {
   "cell_type": "code",
   "execution_count": null,
   "metadata": {},
   "outputs": [],
   "source": [
    "cumulative_visits = visit_durations.groupby(['pi_color', 'visit_start']).size().groupby(level=0).cumsum().reset_index(name='cumulative_count')\n",
    "cumulative_color_visits = visit_durations.groupby(['color', 'visit_start']).size().groupby(level=0).cumsum().reset_index(name='cumulative_count')\n",
    "\n",
    "visit_duration_distribution = visit_durations['duration']\n",
    "\n",
    "# visit_durations.to_csv('csvs/bombus_visit_durations.csv', index=False)"
   ]
  },
  {
   "cell_type": "code",
   "execution_count": 151,
   "metadata": {},
   "outputs": [
    {
     "data": {
      "application/vnd.microsoft.datawrangler.viewer.v0+json": {
       "columns": [
        {
         "name": "index",
         "rawType": "int64",
         "type": "integer"
        },
        {
         "name": "color",
         "rawType": "object",
         "type": "string"
        },
        {
         "name": "visit_start",
         "rawType": "datetime64[ns]",
         "type": "datetime"
        },
        {
         "name": "cumulative_count",
         "rawType": "int64",
         "type": "integer"
        }
       ],
       "ref": "2abb5d12-8d08-48ec-89bd-60cc67337406",
       "rows": [
        [
         "0",
         "blu",
         "2024-07-11 11:13:10",
         "1"
        ],
        [
         "1",
         "blu",
         "2024-07-12 15:33:24",
         "2"
        ],
        [
         "2",
         "blu",
         "2024-07-13 09:18:15",
         "3"
        ],
        [
         "3",
         "blu",
         "2024-07-13 13:59:28",
         "4"
        ],
        [
         "4",
         "blu",
         "2024-07-13 14:13:07",
         "5"
        ],
        [
         "5",
         "blu",
         "2024-07-14 08:14:15",
         "6"
        ],
        [
         "6",
         "blu",
         "2024-07-14 08:37:11",
         "7"
        ],
        [
         "7",
         "blu",
         "2024-07-14 09:43:43",
         "8"
        ],
        [
         "8",
         "blu",
         "2024-07-14 11:56:53",
         "9"
        ],
        [
         "9",
         "blu",
         "2024-07-15 10:53:34",
         "10"
        ],
        [
         "10",
         "blu",
         "2024-07-15 15:44:04",
         "11"
        ],
        [
         "11",
         "blu",
         "2024-07-18 17:06:39",
         "12"
        ],
        [
         "12",
         "blu",
         "2024-07-18 18:27:38",
         "13"
        ],
        [
         "13",
         "blu",
         "2024-07-19 09:41:53",
         "14"
        ],
        [
         "14",
         "blu",
         "2024-07-19 09:57:58",
         "15"
        ],
        [
         "15",
         "blu",
         "2024-07-19 16:56:49",
         "16"
        ],
        [
         "16",
         "blu",
         "2024-07-21 11:20:34",
         "17"
        ],
        [
         "17",
         "blu",
         "2024-07-21 16:35:12",
         "18"
        ],
        [
         "18",
         "blu",
         "2024-07-22 15:18:28",
         "19"
        ],
        [
         "19",
         "blu",
         "2024-07-22 16:51:42",
         "20"
        ],
        [
         "20",
         "blu",
         "2024-07-24 11:34:02",
         "21"
        ],
        [
         "21",
         "blu",
         "2024-07-24 15:13:42",
         "22"
        ],
        [
         "22",
         "blu",
         "2024-07-24 15:28:06",
         "23"
        ],
        [
         "23",
         "blu",
         "2024-07-24 15:39:38",
         "24"
        ],
        [
         "24",
         "blu",
         "2024-07-24 15:46:12",
         "25"
        ],
        [
         "25",
         "blu",
         "2024-07-24 16:11:50",
         "26"
        ],
        [
         "26",
         "blu",
         "2024-07-25 14:38:49",
         "27"
        ],
        [
         "27",
         "blu",
         "2024-07-25 14:53:23",
         "28"
        ],
        [
         "28",
         "blu",
         "2024-07-25 16:03:36",
         "29"
        ],
        [
         "29",
         "blu",
         "2024-07-26 09:57:09",
         "30"
        ],
        [
         "30",
         "blu",
         "2024-07-26 15:22:16",
         "31"
        ],
        [
         "31",
         "blu",
         "2024-07-27 12:41:26",
         "32"
        ],
        [
         "32",
         "blu",
         "2024-07-27 15:05:13",
         "33"
        ],
        [
         "33",
         "blu",
         "2024-07-27 16:07:58",
         "34"
        ],
        [
         "34",
         "blu",
         "2024-07-28 15:13:20",
         "35"
        ],
        [
         "35",
         "blu",
         "2024-07-28 16:00:58",
         "36"
        ],
        [
         "36",
         "blu",
         "2024-07-31 15:33:59",
         "37"
        ],
        [
         "37",
         "blu",
         "2024-08-09 09:02:08",
         "38"
        ],
        [
         "38",
         "blu",
         "2024-08-14 13:23:39",
         "39"
        ],
        [
         "39",
         "blv",
         "2024-07-11 07:51:19",
         "1"
        ],
        [
         "40",
         "blv",
         "2024-07-11 09:51:50",
         "2"
        ],
        [
         "41",
         "blv",
         "2024-07-11 12:57:24",
         "3"
        ],
        [
         "42",
         "blv",
         "2024-07-12 13:06:35",
         "4"
        ],
        [
         "43",
         "blv",
         "2024-07-12 15:11:37",
         "5"
        ],
        [
         "44",
         "blv",
         "2024-07-13 13:53:04",
         "6"
        ],
        [
         "45",
         "blv",
         "2024-07-14 09:50:02",
         "7"
        ],
        [
         "46",
         "blv",
         "2024-07-14 10:19:08",
         "8"
        ],
        [
         "47",
         "blv",
         "2024-07-14 11:42:42",
         "9"
        ],
        [
         "48",
         "blv",
         "2024-07-14 12:56:25",
         "10"
        ],
        [
         "49",
         "blv",
         "2024-07-14 13:11:13",
         "11"
        ]
       ],
       "shape": {
        "columns": 3,
        "rows": 306
       }
      },
      "text/html": [
       "<div>\n",
       "<style scoped>\n",
       "    .dataframe tbody tr th:only-of-type {\n",
       "        vertical-align: middle;\n",
       "    }\n",
       "\n",
       "    .dataframe tbody tr th {\n",
       "        vertical-align: top;\n",
       "    }\n",
       "\n",
       "    .dataframe thead th {\n",
       "        text-align: right;\n",
       "    }\n",
       "</style>\n",
       "<table border=\"1\" class=\"dataframe\">\n",
       "  <thead>\n",
       "    <tr style=\"text-align: right;\">\n",
       "      <th></th>\n",
       "      <th>color</th>\n",
       "      <th>visit_start</th>\n",
       "      <th>cumulative_count</th>\n",
       "    </tr>\n",
       "  </thead>\n",
       "  <tbody>\n",
       "    <tr>\n",
       "      <th>0</th>\n",
       "      <td>blu</td>\n",
       "      <td>2024-07-11 11:13:10</td>\n",
       "      <td>1</td>\n",
       "    </tr>\n",
       "    <tr>\n",
       "      <th>1</th>\n",
       "      <td>blu</td>\n",
       "      <td>2024-07-12 15:33:24</td>\n",
       "      <td>2</td>\n",
       "    </tr>\n",
       "    <tr>\n",
       "      <th>2</th>\n",
       "      <td>blu</td>\n",
       "      <td>2024-07-13 09:18:15</td>\n",
       "      <td>3</td>\n",
       "    </tr>\n",
       "    <tr>\n",
       "      <th>3</th>\n",
       "      <td>blu</td>\n",
       "      <td>2024-07-13 13:59:28</td>\n",
       "      <td>4</td>\n",
       "    </tr>\n",
       "    <tr>\n",
       "      <th>4</th>\n",
       "      <td>blu</td>\n",
       "      <td>2024-07-13 14:13:07</td>\n",
       "      <td>5</td>\n",
       "    </tr>\n",
       "    <tr>\n",
       "      <th>...</th>\n",
       "      <td>...</td>\n",
       "      <td>...</td>\n",
       "      <td>...</td>\n",
       "    </tr>\n",
       "    <tr>\n",
       "      <th>301</th>\n",
       "      <td>yel</td>\n",
       "      <td>2024-07-27 18:05:23</td>\n",
       "      <td>34</td>\n",
       "    </tr>\n",
       "    <tr>\n",
       "      <th>302</th>\n",
       "      <td>yel</td>\n",
       "      <td>2024-07-28 17:41:04</td>\n",
       "      <td>35</td>\n",
       "    </tr>\n",
       "    <tr>\n",
       "      <th>303</th>\n",
       "      <td>yel</td>\n",
       "      <td>2024-07-29 12:43:35</td>\n",
       "      <td>36</td>\n",
       "    </tr>\n",
       "    <tr>\n",
       "      <th>304</th>\n",
       "      <td>yel</td>\n",
       "      <td>2024-08-01 12:31:39</td>\n",
       "      <td>37</td>\n",
       "    </tr>\n",
       "    <tr>\n",
       "      <th>305</th>\n",
       "      <td>yel</td>\n",
       "      <td>2024-08-16 09:52:07</td>\n",
       "      <td>38</td>\n",
       "    </tr>\n",
       "  </tbody>\n",
       "</table>\n",
       "<p>306 rows × 3 columns</p>\n",
       "</div>"
      ],
      "text/plain": [
       "    color         visit_start  cumulative_count\n",
       "0     blu 2024-07-11 11:13:10                 1\n",
       "1     blu 2024-07-12 15:33:24                 2\n",
       "2     blu 2024-07-13 09:18:15                 3\n",
       "3     blu 2024-07-13 13:59:28                 4\n",
       "4     blu 2024-07-13 14:13:07                 5\n",
       "..    ...                 ...               ...\n",
       "301   yel 2024-07-27 18:05:23                34\n",
       "302   yel 2024-07-28 17:41:04                35\n",
       "303   yel 2024-07-29 12:43:35                36\n",
       "304   yel 2024-08-01 12:31:39                37\n",
       "305   yel 2024-08-16 09:52:07                38\n",
       "\n",
       "[306 rows x 3 columns]"
      ]
     },
     "execution_count": 151,
     "metadata": {},
     "output_type": "execute_result"
    }
   ],
   "source": [
    "cumulative_color_visits"
   ]
  },
  {
   "cell_type": "markdown",
   "metadata": {},
   "source": [
    "### Calculate rate of bee capture in clover vs bare"
   ]
  },
  {
   "cell_type": "code",
   "execution_count": 152,
   "metadata": {},
   "outputs": [
    {
     "name": "stdout",
     "output_type": "stream",
     "text": [
      "Total duration of intervals ending on or before 2024-07-30 (seconds): 6970149.0\n",
      "Total duration of intervals starting after 2024-07-30 (seconds): 13302447.0\n",
      "\n",
      "visit counts clover: 291\n",
      "visit counts bare: 16\n",
      "\n",
      "clover avg visits per trap per day: 0.3607153878633011\n",
      "bare avg visits per trap per day: 0.010392072977249974\n"
     ]
    }
   ],
   "source": [
    "threshold = pd.to_datetime('2024-07-30')\n",
    "\n",
    "visit_durations_clover = visit_durations[visit_durations['visit_end'] < threshold]\n",
    "visit_durations_bare = visit_durations[visit_durations['visit_end'] > threshold]\n",
    "\n",
    "visit_counts_clover = len(visit_durations[visit_durations['visit_end'] <= threshold])\n",
    "visit_counts_bare = len(visit_durations[visit_durations['visit_end'] > threshold])\n",
    "\n",
    "cam_ints['duration'] = cam_ints['interval'].apply(lambda x: x.right - x.left)\n",
    "before_or_on = cam_ints[cam_ints['interval'].apply(lambda x: x.right <= threshold)]\n",
    "after = cam_ints[cam_ints['interval'].apply(lambda x: x.left > threshold)]\n",
    "total_before_or_on = before_or_on['duration'].sum()\n",
    "total_after = after['duration'].sum()\n",
    "\n",
    "print(\"Total duration of intervals ending on or before 2024-07-30 (seconds):\", total_before_or_on.total_seconds())\n",
    "print(\"Total duration of intervals starting after 2024-07-30 (seconds):\", total_after.total_seconds())\n",
    "print()\n",
    "print('visit counts clover:', visit_counts_clover)\n",
    "print('visit counts bare:', visit_counts_bare)\n",
    "print()\n",
    "print(f'clover avg visits per trap per day: {(visit_counts_clover/(total_before_or_on.total_seconds()/3600/24))/10}')\n",
    "print(f'bare avg visits per trap per day: {(visit_counts_bare/(total_after.total_seconds()/3600/24))/10}')"
   ]
  },
  {
   "cell_type": "code",
   "execution_count": null,
   "metadata": {},
   "outputs": [],
   "source": [
    "# visit_durations_clover.to_csv('csvs/visit_durations_clover.csv', index=False)"
   ]
  },
  {
   "cell_type": "markdown",
   "metadata": {},
   "source": [
    "### Subsample early 1hz Pis (how does phase of subsampling affect visit counts):\n",
    "\n",
    "-- RERUN PHASE GENERATION\n"
   ]
  },
  {
   "cell_type": "code",
   "execution_count": 160,
   "metadata": {},
   "outputs": [],
   "source": [
    "onehz_camtimes_pi3 = pd.read_csv('csvs/onehz_visits_pi3.csv', index_col=0, parse_dates=['datetime'])\n",
    "onehz_camtimes_pi10 = pd.read_csv('csvs/onehz_visits_pi10.csv', index_col=0, parse_dates=['datetime'])\n",
    "\n",
    "pi3_subsampled_p0 = onehz_camtimes_pi3.iloc[::2]\n",
    "pi3_subsampled_p1 = onehz_camtimes_pi3.iloc[1::2]\n",
    "pi10_subsampled_p0 = onehz_camtimes_pi10.iloc[::2]\n",
    "pi10_subsampled_p1 = onehz_camtimes_pi10.iloc[1::2]\n",
    "\n",
    "onehz_visits_pi3 = combined_df[(combined_df['pi'] == 3) & (combined_df['datetime'] < '2024-07-17')]\n",
    "onehz_visits_pi10 = combined_df[(combined_df['pi'] == 10) & (combined_df['datetime'] < '2024-07-17')]\n",
    "shortvisits_pi3 = onehz_visits_pi3[onehz_visits_pi3['visit_id'] != 46]"
   ]
  },
  {
   "cell_type": "code",
   "execution_count": 161,
   "metadata": {},
   "outputs": [
    {
     "name": "stdout",
     "output_type": "stream",
     "text": [
      "pi3 phase 0 = 14\n",
      "pi3 phase 1 = 15\n",
      "\n",
      "pi10 phase 0 = 4\n",
      "pi10 phase 1 = 3\n"
     ]
    }
   ],
   "source": [
    "print(f'pi3 phase 0 = {len(pi3_subsampled_p0[pi3_subsampled_p0['datetime'].isin(shortvisits_pi3['datetime'])])}')\n",
    "print(f'pi3 phase 1 = {len(pi3_subsampled_p1[pi3_subsampled_p1['datetime'].isin(shortvisits_pi3['datetime'])])}\\n')\n",
    "\n",
    "print(f'pi10 phase 0 = {len(pi10_subsampled_p0[pi10_subsampled_p0['datetime'].isin(onehz_visits_pi10['datetime'])])}')\n",
    "print(f'pi10 phase 1 = {len(pi10_subsampled_p1[pi10_subsampled_p1['datetime'].isin(onehz_visits_pi10['datetime'])])}')"
   ]
  },
  {
   "cell_type": "code",
   "execution_count": 162,
   "metadata": {},
   "outputs": [
    {
     "data": {
      "application/vnd.microsoft.datawrangler.viewer.v0+json": {
       "columns": [
        {
         "name": "color",
         "rawType": "object",
         "type": "string"
        },
        {
         "name": "0",
         "rawType": "float64",
         "type": "float"
        }
       ],
       "ref": "642afcda-b134-45e6-bff5-a514f06bcb1b",
       "rows": [
        [
         "blu",
         "2.0256410256410255"
        ],
        [
         "blv",
         "1.0952380952380953"
        ],
        [
         "cnt",
         "21.463917525773194"
        ],
        [
         "grn",
         "79.85714285714286"
        ],
        [
         "yel",
         "52.39473684210526"
        ]
       ],
       "shape": {
        "columns": 1,
        "rows": 5
       }
      },
      "text/plain": [
       "color\n",
       "blu     2.025641\n",
       "blv     1.095238\n",
       "cnt    21.463918\n",
       "grn    79.857143\n",
       "yel    52.394737\n",
       "dtype: float64"
      ]
     },
     "execution_count": 162,
     "metadata": {},
     "output_type": "execute_result"
    }
   ],
   "source": [
    "# AVG DURATION OF VISIT PER COLOR\n",
    "visit_durations['duration_adj'] = visit_durations['duration'] + 1\n",
    "color_visit_durations = visit_durations.groupby('color')['duration_adj'].sum().astype(int)\n",
    "color_total_counts = visit_durations.groupby('color')['pi'].count()\n",
    "color_visit_durations / color_total_counts"
   ]
  },
  {
   "cell_type": "markdown",
   "metadata": {},
   "source": [
    "### Distribution of dwell time\n",
    "- VERIFY visit duration metric"
   ]
  },
  {
   "cell_type": "code",
   "execution_count": 163,
   "metadata": {},
   "outputs": [
    {
     "name": "stdout",
     "output_type": "stream",
     "text": [
      "yel: 1.0, 52.39473684210526\n",
      "blu: 1.0, 2.0256410256410255\n",
      "blv: 1.0, 1.0952380952380953\n",
      "grn: 1.0, 79.85714285714286\n",
      "cnt: 1.0, 21.463917525773194\n"
     ]
    },
    {
     "data": {
      "image/png": "[encoded data removed]",
      "text/plain": [
       "<Figure size 300x200 with 1 Axes>"
      ]
     },
     "metadata": {},
     "output_type": "display_data"
    }
   ],
   "source": [
    "import numpy as np\n",
    "\n",
    "new_order = ['yel', 'blu', 'blv','grn', 'cnt']\n",
    "\n",
    "name_map = {\n",
    "    'cnt': 'Contrast + UV',\n",
    "    'blu': 'Blue',\n",
    "    'blv': 'Blue + UV',\n",
    "    'grn': 'Green',\n",
    "    'yel': 'Yellow'\n",
    "}\n",
    "\n",
    "fig, ax = plt.subplots(figsize=(3, 2))\n",
    "\n",
    "for i, color in enumerate(new_order):\n",
    "    group = visit_durations[visit_durations['color'] == color]\n",
    "    y = i + np.random.uniform(-0.3, 0.3, size=len(group))\n",
    "    ax.scatter(group['duration_adj'], y, edgecolor=color_map[color], facecolor='none', label=color, s=30, linewidths=1, alpha=1)\n",
    "    median = group['duration_adj'].median()\n",
    "    avg = group['duration_adj'].mean()\n",
    "    print(f'{color}: {median}, {avg}')\n",
    "\n",
    "ax.set_yticks([])\n",
    "ax.set_yticklabels([])\n",
    "ax.set_xlabel('Seconds')\n",
    "plt.tight_layout()\n",
    "# plt.savefig('figs/visit_duration_scatter.png', format='png', dpi=300)\n"
   ]
  },
  {
   "cell_type": "code",
   "execution_count": 164,
   "metadata": {},
   "outputs": [
    {
     "name": "stdout",
     "output_type": "stream",
     "text": [
      "yel: median=1.00, mean=7.46, n=37\n",
      "blu: median=1.00, mean=1.32, n=38\n",
      "blv: median=1.00, mean=1.02, n=62\n",
      "grn: median=1.00, mean=30.33, n=67\n",
      "cnt: median=1.00, mean=3.02, n=96\n"
     ]
    },
    {
     "data": {
      "image/png": "[encoded data removed]",
      "text/plain": [
       "<Figure size 300x200 with 1 Axes>"
      ]
     },
     "metadata": {},
     "output_type": "display_data"
    }
   ],
   "source": [
    "fig, ax = plt.subplots(figsize=(3, 2))\n",
    "\n",
    "for i, color in enumerate(new_order):\n",
    "    group = visit_durations[visit_durations['color'] == color]\n",
    "    \n",
    "    mean = group['duration_adj'].mean()\n",
    "    std = group['duration_adj'].std()\n",
    "    z = 2.576  # 99% CI z-score\n",
    "    lower = mean - z * std\n",
    "    upper = mean + z * std\n",
    "    filtered = group[(group['duration_adj'] >= lower) & (group['duration_adj'] <= upper)]\n",
    "    y = i + np.random.uniform(-0.3, 0.3, size=len(filtered))\n",
    "\n",
    "    ax.scatter(\n",
    "        filtered['duration_adj'], y,\n",
    "        edgecolor=color_map[color], facecolor='none',\n",
    "        label=color, s=30, linewidths=1, alpha=1\n",
    "    )\n",
    "\n",
    "    median = filtered['duration_adj'].median()\n",
    "    avg = filtered['duration_adj'].mean()\n",
    "    print(f'{color}: median={median:.2f}, mean={avg:.2f}, n={len(filtered)}')\n",
    "\n",
    "ax.set_yticks([])\n",
    "ax.set_yticklabels([])\n",
    "ax.set_xlabel('Seconds')\n",
    "plt.tight_layout()"
   ]
  },
  {
   "cell_type": "markdown",
   "metadata": {},
   "source": [
    "### Calculate visits per 10k photos each day"
   ]
  },
  {
   "cell_type": "code",
   "execution_count": 165,
   "metadata": {},
   "outputs": [],
   "source": [
    "cumulative_color_visits['date'] = cumulative_color_visits['visit_start'].dt.date\n",
    "cumulative_color_visit_counts = cumulative_color_visits.groupby(['color','date']).size().reset_index(name='visit_count')"
   ]
  },
  {
   "cell_type": "code",
   "execution_count": 166,
   "metadata": {},
   "outputs": [
    {
     "data": {
      "application/vnd.microsoft.datawrangler.viewer.v0+json": {
       "columns": [
        {
         "name": "index",
         "rawType": "int64",
         "type": "integer"
        },
        {
         "name": "color",
         "rawType": "object",
         "type": "string"
        },
        {
         "name": "date",
         "rawType": "object",
         "type": "unknown"
        },
        {
         "name": "visit_count",
         "rawType": "int64",
         "type": "integer"
        }
       ],
       "ref": "89c144f5-6aa8-4440-8c70-d25715fce0a9",
       "rows": [
        [
         "0",
         "blu",
         "2024-07-11",
         "1"
        ],
        [
         "1",
         "blu",
         "2024-07-12",
         "1"
        ],
        [
         "2",
         "blu",
         "2024-07-13",
         "3"
        ],
        [
         "3",
         "blu",
         "2024-07-14",
         "4"
        ],
        [
         "4",
         "blu",
         "2024-07-15",
         "2"
        ],
        [
         "5",
         "blu",
         "2024-07-18",
         "2"
        ],
        [
         "6",
         "blu",
         "2024-07-19",
         "3"
        ],
        [
         "7",
         "blu",
         "2024-07-21",
         "2"
        ],
        [
         "8",
         "blu",
         "2024-07-22",
         "2"
        ],
        [
         "9",
         "blu",
         "2024-07-24",
         "6"
        ],
        [
         "10",
         "blu",
         "2024-07-25",
         "3"
        ],
        [
         "11",
         "blu",
         "2024-07-26",
         "2"
        ],
        [
         "12",
         "blu",
         "2024-07-27",
         "3"
        ],
        [
         "13",
         "blu",
         "2024-07-28",
         "2"
        ],
        [
         "14",
         "blu",
         "2024-07-31",
         "1"
        ],
        [
         "15",
         "blu",
         "2024-08-09",
         "1"
        ],
        [
         "16",
         "blu",
         "2024-08-14",
         "1"
        ],
        [
         "17",
         "blv",
         "2024-07-11",
         "3"
        ],
        [
         "18",
         "blv",
         "2024-07-12",
         "2"
        ],
        [
         "19",
         "blv",
         "2024-07-13",
         "1"
        ],
        [
         "20",
         "blv",
         "2024-07-14",
         "6"
        ],
        [
         "21",
         "blv",
         "2024-07-15",
         "5"
        ],
        [
         "22",
         "blv",
         "2024-07-18",
         "4"
        ],
        [
         "23",
         "blv",
         "2024-07-19",
         "5"
        ],
        [
         "24",
         "blv",
         "2024-07-21",
         "5"
        ],
        [
         "25",
         "blv",
         "2024-07-22",
         "2"
        ],
        [
         "26",
         "blv",
         "2024-07-24",
         "5"
        ],
        [
         "27",
         "blv",
         "2024-07-25",
         "6"
        ],
        [
         "28",
         "blv",
         "2024-07-26",
         "5"
        ],
        [
         "29",
         "blv",
         "2024-07-27",
         "2"
        ],
        [
         "30",
         "blv",
         "2024-07-28",
         "3"
        ],
        [
         "31",
         "blv",
         "2024-07-29",
         "1"
        ],
        [
         "32",
         "blv",
         "2024-08-04",
         "2"
        ],
        [
         "33",
         "blv",
         "2024-08-06",
         "1"
        ],
        [
         "34",
         "blv",
         "2024-08-08",
         "1"
        ],
        [
         "35",
         "blv",
         "2024-08-09",
         "1"
        ],
        [
         "36",
         "blv",
         "2024-08-20",
         "1"
        ],
        [
         "37",
         "blv",
         "2024-08-24",
         "1"
        ],
        [
         "38",
         "blv",
         "2024-09-05",
         "1"
        ],
        [
         "39",
         "cnt",
         "2024-07-11",
         "17"
        ],
        [
         "40",
         "cnt",
         "2024-07-12",
         "10"
        ],
        [
         "41",
         "cnt",
         "2024-07-13",
         "13"
        ],
        [
         "42",
         "cnt",
         "2024-07-14",
         "9"
        ],
        [
         "43",
         "cnt",
         "2024-07-15",
         "13"
        ],
        [
         "44",
         "cnt",
         "2024-07-18",
         "3"
        ],
        [
         "45",
         "cnt",
         "2024-07-19",
         "3"
        ],
        [
         "46",
         "cnt",
         "2024-07-21",
         "7"
        ],
        [
         "47",
         "cnt",
         "2024-07-22",
         "7"
        ],
        [
         "48",
         "cnt",
         "2024-07-24",
         "3"
        ],
        [
         "49",
         "cnt",
         "2024-07-25",
         "1"
        ]
       ],
       "shape": {
        "columns": 3,
        "rows": 92
       }
      },
      "text/html": [
       "<div>\n",
       "<style scoped>\n",
       "    .dataframe tbody tr th:only-of-type {\n",
       "        vertical-align: middle;\n",
       "    }\n",
       "\n",
       "    .dataframe tbody tr th {\n",
       "        vertical-align: top;\n",
       "    }\n",
       "\n",
       "    .dataframe thead th {\n",
       "        text-align: right;\n",
       "    }\n",
       "</style>\n",
       "<table border=\"1\" class=\"dataframe\">\n",
       "  <thead>\n",
       "    <tr style=\"text-align: right;\">\n",
       "      <th></th>\n",
       "      <th>color</th>\n",
       "      <th>date</th>\n",
       "      <th>visit_count</th>\n",
       "    </tr>\n",
       "  </thead>\n",
       "  <tbody>\n",
       "    <tr>\n",
       "      <th>0</th>\n",
       "      <td>blu</td>\n",
       "      <td>2024-07-11</td>\n",
       "      <td>1</td>\n",
       "    </tr>\n",
       "    <tr>\n",
       "      <th>1</th>\n",
       "      <td>blu</td>\n",
       "      <td>2024-07-12</td>\n",
       "      <td>1</td>\n",
       "    </tr>\n",
       "    <tr>\n",
       "      <th>2</th>\n",
       "      <td>blu</td>\n",
       "      <td>2024-07-13</td>\n",
       "      <td>3</td>\n",
       "    </tr>\n",
       "    <tr>\n",
       "      <th>3</th>\n",
       "      <td>blu</td>\n",
       "      <td>2024-07-14</td>\n",
       "      <td>4</td>\n",
       "    </tr>\n",
       "    <tr>\n",
       "      <th>4</th>\n",
       "      <td>blu</td>\n",
       "      <td>2024-07-15</td>\n",
       "      <td>2</td>\n",
       "    </tr>\n",
       "    <tr>\n",
       "      <th>...</th>\n",
       "      <td>...</td>\n",
       "      <td>...</td>\n",
       "      <td>...</td>\n",
       "    </tr>\n",
       "    <tr>\n",
       "      <th>87</th>\n",
       "      <td>yel</td>\n",
       "      <td>2024-07-27</td>\n",
       "      <td>3</td>\n",
       "    </tr>\n",
       "    <tr>\n",
       "      <th>88</th>\n",
       "      <td>yel</td>\n",
       "      <td>2024-07-28</td>\n",
       "      <td>1</td>\n",
       "    </tr>\n",
       "    <tr>\n",
       "      <th>89</th>\n",
       "      <td>yel</td>\n",
       "      <td>2024-07-29</td>\n",
       "      <td>1</td>\n",
       "    </tr>\n",
       "    <tr>\n",
       "      <th>90</th>\n",
       "      <td>yel</td>\n",
       "      <td>2024-08-01</td>\n",
       "      <td>1</td>\n",
       "    </tr>\n",
       "    <tr>\n",
       "      <th>91</th>\n",
       "      <td>yel</td>\n",
       "      <td>2024-08-16</td>\n",
       "      <td>1</td>\n",
       "    </tr>\n",
       "  </tbody>\n",
       "</table>\n",
       "<p>92 rows × 3 columns</p>\n",
       "</div>"
      ],
      "text/plain": [
       "   color        date  visit_count\n",
       "0    blu  2024-07-11            1\n",
       "1    blu  2024-07-12            1\n",
       "2    blu  2024-07-13            3\n",
       "3    blu  2024-07-14            4\n",
       "4    blu  2024-07-15            2\n",
       "..   ...         ...          ...\n",
       "87   yel  2024-07-27            3\n",
       "88   yel  2024-07-28            1\n",
       "89   yel  2024-07-29            1\n",
       "90   yel  2024-08-01            1\n",
       "91   yel  2024-08-16            1\n",
       "\n",
       "[92 rows x 3 columns]"
      ]
     },
     "execution_count": 166,
     "metadata": {},
     "output_type": "execute_result"
    }
   ],
   "source": [
    "cumulative_color_visit_counts"
   ]
  },
  {
   "cell_type": "code",
   "execution_count": 167,
   "metadata": {},
   "outputs": [
    {
     "data": {
      "application/vnd.microsoft.datawrangler.viewer.v0+json": {
       "columns": [
        {
         "name": "index",
         "rawType": "int64",
         "type": "integer"
        },
        {
         "name": "color",
         "rawType": "object",
         "type": "string"
        },
        {
         "name": "date",
         "rawType": "object",
         "type": "unknown"
        },
        {
         "name": "count",
         "rawType": "int64",
         "type": "integer"
        },
        {
         "name": "count_per_10k",
         "rawType": "float64",
         "type": "float"
        }
       ],
       "ref": "c88ab3df-e0b8-4327-acb6-641fff94dde1",
       "rows": [
        [
         "0",
         "blu",
         "2024-07-11",
         "18400",
         "1.84"
        ],
        [
         "1",
         "blu",
         "2024-07-12",
         "18400",
         "1.84"
        ],
        [
         "2",
         "blu",
         "2024-07-13",
         "26524",
         "2.6524"
        ],
        [
         "3",
         "blu",
         "2024-07-14",
         "53297",
         "5.3297"
        ],
        [
         "4",
         "blu",
         "2024-07-15",
         "35075",
         "3.5075"
        ],
        [
         "5",
         "blu",
         "2024-07-16",
         "5187",
         "0.5187"
        ],
        [
         "6",
         "blu",
         "2024-07-18",
         "50270",
         "5.027"
        ],
        [
         "7",
         "blu",
         "2024-07-19",
         "99545",
         "9.9545"
        ],
        [
         "8",
         "blu",
         "2024-07-20",
         "28762",
         "2.8762"
        ],
        [
         "9",
         "blu",
         "2024-07-21",
         "99515",
         "9.9515"
        ],
        [
         "10",
         "blu",
         "2024-07-22",
         "74508",
         "7.4508"
        ],
        [
         "11",
         "blu",
         "2024-07-23",
         "2",
         "0.0002"
        ],
        [
         "12",
         "blu",
         "2024-07-24",
         "92764",
         "9.2764"
        ],
        [
         "13",
         "blu",
         "2024-07-25",
         "92762",
         "9.2762"
        ],
        [
         "14",
         "blu",
         "2024-07-26",
         "92699",
         "9.2699"
        ],
        [
         "15",
         "blu",
         "2024-07-27",
         "92518",
         "9.2518"
        ],
        [
         "16",
         "blu",
         "2024-07-28",
         "92726",
         "9.2726"
        ],
        [
         "17",
         "blu",
         "2024-07-29",
         "88513",
         "8.8513"
        ],
        [
         "18",
         "blu",
         "2024-07-30",
         "92790",
         "9.279"
        ],
        [
         "19",
         "blu",
         "2024-07-31",
         "87389",
         "8.7389"
        ],
        [
         "20",
         "blu",
         "2024-08-01",
         "62324",
         "6.2324"
        ],
        [
         "21",
         "blu",
         "2024-08-02",
         "92930",
         "9.293"
        ],
        [
         "22",
         "blu",
         "2024-08-03",
         "94014",
         "9.4014"
        ],
        [
         "23",
         "blu",
         "2024-08-04",
         "78107",
         "7.8107"
        ],
        [
         "24",
         "blu",
         "2024-08-05",
         "1",
         "0.0001"
        ],
        [
         "25",
         "blu",
         "2024-08-06",
         "93591",
         "9.3591"
        ],
        [
         "26",
         "blu",
         "2024-08-07",
         "68656",
         "6.8656"
        ],
        [
         "27",
         "blu",
         "2024-08-08",
         "93397",
         "9.3397"
        ],
        [
         "28",
         "blu",
         "2024-08-09",
         "93210",
         "9.321"
        ],
        [
         "29",
         "blu",
         "2024-08-10",
         "93546",
         "9.3546"
        ],
        [
         "30",
         "blu",
         "2024-08-11",
         "22307",
         "2.2307"
        ],
        [
         "31",
         "blu",
         "2024-08-12",
         "2",
         "0.0002"
        ],
        [
         "32",
         "blu",
         "2024-08-13",
         "94128",
         "9.4128"
        ],
        [
         "33",
         "blu",
         "2024-08-14",
         "93259",
         "9.3259"
        ],
        [
         "34",
         "blu",
         "2024-08-15",
         "27502",
         "2.7502"
        ],
        [
         "35",
         "blu",
         "2024-08-16",
         "94682",
         "9.4682"
        ],
        [
         "36",
         "blu",
         "2024-08-17",
         "80406",
         "8.0406"
        ],
        [
         "37",
         "blu",
         "2024-08-18",
         "18684",
         "1.8684"
        ],
        [
         "38",
         "blu",
         "2024-08-19",
         "21957",
         "2.1957"
        ],
        [
         "39",
         "blu",
         "2024-08-20",
         "93716",
         "9.3716"
        ],
        [
         "40",
         "blu",
         "2024-08-21",
         "92558",
         "9.2558"
        ],
        [
         "41",
         "blu",
         "2024-08-22",
         "44540",
         "4.454"
        ],
        [
         "42",
         "blu",
         "2024-08-23",
         "94549",
         "9.4549"
        ],
        [
         "43",
         "blu",
         "2024-08-24",
         "94796",
         "9.4796"
        ],
        [
         "44",
         "blu",
         "2024-08-25",
         "93608",
         "9.3608"
        ],
        [
         "45",
         "blu",
         "2024-08-26",
         "94105",
         "9.4105"
        ],
        [
         "46",
         "blu",
         "2024-08-27",
         "52423",
         "5.2423"
        ],
        [
         "47",
         "blu",
         "2024-08-28",
         "69870",
         "6.987"
        ],
        [
         "48",
         "blu",
         "2024-08-29",
         "93945",
         "9.3945"
        ],
        [
         "49",
         "blu",
         "2024-08-30",
         "35677",
         "3.5677"
        ]
       ],
       "shape": {
        "columns": 4,
        "rows": 274
       }
      },
      "text/html": [
       "<div>\n",
       "<style scoped>\n",
       "    .dataframe tbody tr th:only-of-type {\n",
       "        vertical-align: middle;\n",
       "    }\n",
       "\n",
       "    .dataframe tbody tr th {\n",
       "        vertical-align: top;\n",
       "    }\n",
       "\n",
       "    .dataframe thead th {\n",
       "        text-align: right;\n",
       "    }\n",
       "</style>\n",
       "<table border=\"1\" class=\"dataframe\">\n",
       "  <thead>\n",
       "    <tr style=\"text-align: right;\">\n",
       "      <th></th>\n",
       "      <th>color</th>\n",
       "      <th>date</th>\n",
       "      <th>count</th>\n",
       "      <th>count_per_10k</th>\n",
       "    </tr>\n",
       "  </thead>\n",
       "  <tbody>\n",
       "    <tr>\n",
       "      <th>0</th>\n",
       "      <td>blu</td>\n",
       "      <td>2024-07-11</td>\n",
       "      <td>18400</td>\n",
       "      <td>1.8400</td>\n",
       "    </tr>\n",
       "    <tr>\n",
       "      <th>1</th>\n",
       "      <td>blu</td>\n",
       "      <td>2024-07-12</td>\n",
       "      <td>18400</td>\n",
       "      <td>1.8400</td>\n",
       "    </tr>\n",
       "    <tr>\n",
       "      <th>2</th>\n",
       "      <td>blu</td>\n",
       "      <td>2024-07-13</td>\n",
       "      <td>26524</td>\n",
       "      <td>2.6524</td>\n",
       "    </tr>\n",
       "    <tr>\n",
       "      <th>3</th>\n",
       "      <td>blu</td>\n",
       "      <td>2024-07-14</td>\n",
       "      <td>53297</td>\n",
       "      <td>5.3297</td>\n",
       "    </tr>\n",
       "    <tr>\n",
       "      <th>4</th>\n",
       "      <td>blu</td>\n",
       "      <td>2024-07-15</td>\n",
       "      <td>35075</td>\n",
       "      <td>3.5075</td>\n",
       "    </tr>\n",
       "    <tr>\n",
       "      <th>...</th>\n",
       "      <td>...</td>\n",
       "      <td>...</td>\n",
       "      <td>...</td>\n",
       "      <td>...</td>\n",
       "    </tr>\n",
       "    <tr>\n",
       "      <th>269</th>\n",
       "      <td>yel</td>\n",
       "      <td>2024-08-29</td>\n",
       "      <td>47623</td>\n",
       "      <td>4.7623</td>\n",
       "    </tr>\n",
       "    <tr>\n",
       "      <th>270</th>\n",
       "      <td>yel</td>\n",
       "      <td>2024-08-30</td>\n",
       "      <td>42781</td>\n",
       "      <td>4.2781</td>\n",
       "    </tr>\n",
       "    <tr>\n",
       "      <th>271</th>\n",
       "      <td>yel</td>\n",
       "      <td>2024-09-03</td>\n",
       "      <td>33030</td>\n",
       "      <td>3.3030</td>\n",
       "    </tr>\n",
       "    <tr>\n",
       "      <th>272</th>\n",
       "      <td>yel</td>\n",
       "      <td>2024-09-04</td>\n",
       "      <td>47499</td>\n",
       "      <td>4.7499</td>\n",
       "    </tr>\n",
       "    <tr>\n",
       "      <th>273</th>\n",
       "      <td>yel</td>\n",
       "      <td>2024-09-05</td>\n",
       "      <td>19085</td>\n",
       "      <td>1.9085</td>\n",
       "    </tr>\n",
       "  </tbody>\n",
       "</table>\n",
       "<p>274 rows × 4 columns</p>\n",
       "</div>"
      ],
      "text/plain": [
       "    color        date  count  count_per_10k\n",
       "0     blu  2024-07-11  18400         1.8400\n",
       "1     blu  2024-07-12  18400         1.8400\n",
       "2     blu  2024-07-13  26524         2.6524\n",
       "3     blu  2024-07-14  53297         5.3297\n",
       "4     blu  2024-07-15  35075         3.5075\n",
       "..    ...         ...    ...            ...\n",
       "269   yel  2024-08-29  47623         4.7623\n",
       "270   yel  2024-08-30  42781         4.2781\n",
       "271   yel  2024-09-03  33030         3.3030\n",
       "272   yel  2024-09-04  47499         4.7499\n",
       "273   yel  2024-09-05  19085         1.9085\n",
       "\n",
       "[274 rows x 4 columns]"
      ]
     },
     "execution_count": 167,
     "metadata": {},
     "output_type": "execute_result"
    }
   ],
   "source": [
    "date_photo_counts = pd.read_csv('csvs/date_color_counts.csv', index_col=False)\n",
    "date_photo_counts['date'] = pd.to_datetime(date_photo_counts['date']).dt.date\n",
    "date_photo_counts['count_per_10k'] = date_photo_counts['count']/10000\n",
    "date_photo_counts"
   ]
  },
  {
   "cell_type": "markdown",
   "metadata": {},
   "source": [
    "### NUMBER OF IMAGES TAKEN FOR EACH COLOR"
   ]
  },
  {
   "cell_type": "code",
   "execution_count": 168,
   "metadata": {},
   "outputs": [
    {
     "data": {
      "application/vnd.microsoft.datawrangler.viewer.v0+json": {
       "columns": [
        {
         "name": "color",
         "rawType": "object",
         "type": "string"
        },
        {
         "name": "count",
         "rawType": "int64",
         "type": "integer"
        }
       ],
       "ref": "8c1190ee-ebfc-4c5e-885c-18abe0198edb",
       "rows": [
        [
         "blu",
         "1061467"
        ],
        [
         "blv",
         "1090255"
        ],
        [
         "cnt",
         "1157578"
        ],
        [
         "grn",
         "1185447"
        ],
        [
         "yel",
         "1212146"
        ]
       ],
       "shape": {
        "columns": 1,
        "rows": 5
       }
      },
      "text/plain": [
       "color\n",
       "blu    1061467\n",
       "blv    1090255\n",
       "cnt    1157578\n",
       "grn    1185447\n",
       "yel    1212146\n",
       "Name: count, dtype: int64"
      ]
     },
     "execution_count": 168,
     "metadata": {},
     "output_type": "execute_result"
    }
   ],
   "source": [
    "clover_date_photo_counts = date_photo_counts[date_photo_counts['date'] < pd.to_datetime('2024-07-30').date()]\n",
    "clover_date_photo_counts.groupby('color')['count'].sum()"
   ]
  },
  {
   "cell_type": "code",
   "execution_count": 169,
   "metadata": {},
   "outputs": [
    {
     "name": "stderr",
     "output_type": "stream",
     "text": [
      "/tmp/ipykernel_1555528/2762496499.py:6: SettingWithCopyWarning: \n",
      "A value is trying to be set on a copy of a slice from a DataFrame.\n",
      "Try using .loc[row_indexer,col_indexer] = value instead\n",
      "\n",
      "See the caveats in the documentation: https://pandas.pydata.org/pandas-docs/stable/user_guide/indexing.html#returning-a-view-versus-a-copy\n",
      "  merge_photos_visits_filtered['date'] = pd.to_datetime(merge_photos_visits_filtered['date'])\n",
      "/tmp/ipykernel_1555528/2762496499.py:7: SettingWithCopyWarning: \n",
      "A value is trying to be set on a copy of a slice from a DataFrame.\n",
      "Try using .loc[row_indexer,col_indexer] = value instead\n",
      "\n",
      "See the caveats in the documentation: https://pandas.pydata.org/pandas-docs/stable/user_guide/indexing.html#returning-a-view-versus-a-copy\n",
      "  merge_photos_visits_filtered['day'] = (merge_photos_visits_filtered['date'] - merge_photos_visits_filtered['date'].min()).dt.days +1\n",
      "/tmp/ipykernel_1555528/2762496499.py:8: SettingWithCopyWarning: \n",
      "A value is trying to be set on a copy of a slice from a DataFrame.\n",
      "Try using .loc[row_indexer,col_indexer] = value instead\n",
      "\n",
      "See the caveats in the documentation: https://pandas.pydata.org/pandas-docs/stable/user_guide/indexing.html#returning-a-view-versus-a-copy\n",
      "  merge_photos_visits_filtered['cumulative_visits'] = merge_photos_visits_filtered.groupby('color')['visit_count'].cumsum()\n"
     ]
    },
    {
     "data": {
      "application/vnd.microsoft.datawrangler.viewer.v0+json": {
       "columns": [
        {
         "name": "index",
         "rawType": "int64",
         "type": "integer"
        },
        {
         "name": "color",
         "rawType": "object",
         "type": "string"
        },
        {
         "name": "date",
         "rawType": "datetime64[ns]",
         "type": "datetime"
        },
        {
         "name": "count",
         "rawType": "int64",
         "type": "integer"
        },
        {
         "name": "count_per_10k",
         "rawType": "float64",
         "type": "float"
        },
        {
         "name": "visit_count",
         "rawType": "int64",
         "type": "integer"
        },
        {
         "name": "visits_per_10k",
         "rawType": "float64",
         "type": "float"
        },
        {
         "name": "day",
         "rawType": "int64",
         "type": "integer"
        },
        {
         "name": "cumulative_visits",
         "rawType": "int64",
         "type": "integer"
        }
       ],
       "ref": "a0cb9a86-1abb-43b1-adff-c2d9a3341c51",
       "rows": [
        [
         "0",
         "blu",
         "2024-07-11 00:00:00",
         "18400",
         "1.84",
         "1",
         "0.5434782608695652",
         "1",
         "1"
        ],
        [
         "1",
         "blu",
         "2024-07-12 00:00:00",
         "18400",
         "1.84",
         "1",
         "0.5434782608695652",
         "2",
         "2"
        ],
        [
         "2",
         "blu",
         "2024-07-13 00:00:00",
         "26524",
         "2.6524",
         "3",
         "1.1310511235107827",
         "3",
         "5"
        ],
        [
         "3",
         "blu",
         "2024-07-14 00:00:00",
         "53297",
         "5.3297",
         "4",
         "0.7505112858134604",
         "4",
         "9"
        ],
        [
         "4",
         "blu",
         "2024-07-15 00:00:00",
         "35075",
         "3.5075",
         "2",
         "0.5702066999287242",
         "5",
         "11"
        ],
        [
         "5",
         "blu",
         "2024-07-18 00:00:00",
         "50270",
         "5.027",
         "2",
         "0.3978516013526954",
         "8",
         "13"
        ],
        [
         "6",
         "blu",
         "2024-07-19 00:00:00",
         "99545",
         "9.9545",
         "3",
         "0.3013712391380783",
         "9",
         "16"
        ],
        [
         "7",
         "blu",
         "2024-07-21 00:00:00",
         "99515",
         "9.9515",
         "2",
         "0.20097472742802594",
         "11",
         "18"
        ],
        [
         "8",
         "blu",
         "2024-07-22 00:00:00",
         "74508",
         "7.4508",
         "2",
         "0.2684275514038761",
         "12",
         "20"
        ],
        [
         "9",
         "blu",
         "2024-07-24 00:00:00",
         "92764",
         "9.2764",
         "6",
         "0.6468026389547669",
         "14",
         "26"
        ],
        [
         "10",
         "blu",
         "2024-07-25 00:00:00",
         "92762",
         "9.2762",
         "3",
         "0.3234082921886117",
         "15",
         "29"
        ],
        [
         "11",
         "blu",
         "2024-07-26 00:00:00",
         "92699",
         "9.2699",
         "2",
         "0.21575205773525066",
         "16",
         "31"
        ],
        [
         "12",
         "blu",
         "2024-07-27 00:00:00",
         "92518",
         "9.2518",
         "3",
         "0.32426122484273334",
         "17",
         "34"
        ],
        [
         "13",
         "blu",
         "2024-07-28 00:00:00",
         "92726",
         "9.2726",
         "2",
         "0.2156892349502836",
         "18",
         "36"
        ],
        [
         "17",
         "blv",
         "2024-07-11 00:00:00",
         "18243",
         "1.8243",
         "3",
         "1.6444663706627198",
         "1",
         "3"
        ],
        [
         "18",
         "blv",
         "2024-07-12 00:00:00",
         "18339",
         "1.8339",
         "2",
         "1.0905720050166312",
         "2",
         "5"
        ],
        [
         "19",
         "blv",
         "2024-07-13 00:00:00",
         "22547",
         "2.2547",
         "1",
         "0.4435179846542777",
         "3",
         "6"
        ],
        [
         "20",
         "blv",
         "2024-07-14 00:00:00",
         "53383",
         "5.3383",
         "6",
         "1.1239533184721728",
         "4",
         "12"
        ],
        [
         "21",
         "blv",
         "2024-07-15 00:00:00",
         "50038",
         "5.0038",
         "5",
         "0.9992405771613574",
         "5",
         "17"
        ],
        [
         "22",
         "blv",
         "2024-07-18 00:00:00",
         "61430",
         "6.143",
         "4",
         "0.6511476477291226",
         "8",
         "21"
        ],
        [
         "23",
         "blv",
         "2024-07-19 00:00:00",
         "99580",
         "9.958",
         "5",
         "0.502108857200241",
         "9",
         "26"
        ],
        [
         "24",
         "blv",
         "2024-07-21 00:00:00",
         "99520",
         "9.952",
         "5",
         "0.502411575562701",
         "11",
         "31"
        ],
        [
         "25",
         "blv",
         "2024-07-22 00:00:00",
         "86239",
         "8.6239",
         "2",
         "0.2319136353621911",
         "12",
         "33"
        ],
        [
         "26",
         "blv",
         "2024-07-24 00:00:00",
         "92846",
         "9.2846",
         "5",
         "0.5385261616009306",
         "14",
         "38"
        ],
        [
         "27",
         "blv",
         "2024-07-25 00:00:00",
         "91510",
         "9.151",
         "6",
         "0.6556660474265108",
         "15",
         "44"
        ],
        [
         "28",
         "blv",
         "2024-07-26 00:00:00",
         "92720",
         "9.272",
         "5",
         "0.5392579810181191",
         "16",
         "49"
        ],
        [
         "29",
         "blv",
         "2024-07-27 00:00:00",
         "92583",
         "9.2583",
         "2",
         "0.21602237991855955",
         "17",
         "51"
        ],
        [
         "30",
         "blv",
         "2024-07-28 00:00:00",
         "92732",
         "9.2732",
         "3",
         "0.32351291894923007",
         "18",
         "54"
        ],
        [
         "31",
         "blv",
         "2024-07-29 00:00:00",
         "92677",
         "9.2677",
         "1",
         "0.10790163686783129",
         "19",
         "55"
        ],
        [
         "39",
         "cnt",
         "2024-07-11 00:00:00",
         "36645",
         "3.6645",
         "17",
         "4.639104925637877",
         "1",
         "17"
        ],
        [
         "40",
         "cnt",
         "2024-07-12 00:00:00",
         "36189",
         "3.6189",
         "10",
         "2.7632706070905524",
         "2",
         "27"
        ],
        [
         "41",
         "cnt",
         "2024-07-13 00:00:00",
         "36194",
         "3.6194",
         "13",
         "3.5917555395921976",
         "3",
         "40"
        ],
        [
         "42",
         "cnt",
         "2024-07-14 00:00:00",
         "36469",
         "3.6469",
         "9",
         "2.467849406345115",
         "4",
         "49"
        ],
        [
         "43",
         "cnt",
         "2024-07-15 00:00:00",
         "34589",
         "3.4589",
         "13",
         "3.7584203070340285",
         "5",
         "62"
        ],
        [
         "44",
         "cnt",
         "2024-07-18 00:00:00",
         "60399",
         "6.0399",
         "3",
         "0.4966969651815427",
         "8",
         "65"
        ],
        [
         "45",
         "cnt",
         "2024-07-19 00:00:00",
         "99378",
         "9.9378",
         "3",
         "0.3018776791644026",
         "9",
         "68"
        ],
        [
         "46",
         "cnt",
         "2024-07-21 00:00:00",
         "99372",
         "9.9372",
         "7",
         "0.7044237813468582",
         "11",
         "75"
        ],
        [
         "47",
         "cnt",
         "2024-07-22 00:00:00",
         "98389",
         "9.8389",
         "7",
         "0.7114616471353504",
         "12",
         "82"
        ],
        [
         "48",
         "cnt",
         "2024-07-24 00:00:00",
         "92768",
         "9.2768",
         "3",
         "0.3233873749568817",
         "14",
         "85"
        ],
        [
         "49",
         "cnt",
         "2024-07-25 00:00:00",
         "92697",
         "9.2697",
         "1",
         "0.10787835636536242",
         "15",
         "86"
        ],
        [
         "50",
         "cnt",
         "2024-07-26 00:00:00",
         "92684",
         "9.2684",
         "4",
         "0.4315739501963662",
         "16",
         "90"
        ],
        [
         "51",
         "cnt",
         "2024-07-27 00:00:00",
         "92534",
         "9.2534",
         "1",
         "0.1080683856744548",
         "17",
         "91"
        ],
        [
         "52",
         "cnt",
         "2024-07-28 00:00:00",
         "92704",
         "9.2704",
         "2",
         "0.21574042112530203",
         "18",
         "93"
        ],
        [
         "53",
         "cnt",
         "2024-07-29 00:00:00",
         "92590",
         "9.259",
         "1",
         "0.10800302408467437",
         "19",
         "94"
        ],
        [
         "56",
         "grn",
         "2024-07-11 00:00:00",
         "25775",
         "2.5775",
         "4",
         "1.5518913676042676",
         "1",
         "4"
        ],
        [
         "57",
         "grn",
         "2024-07-12 00:00:00",
         "35728",
         "3.5728",
         "4",
         "1.1195700850873265",
         "2",
         "8"
        ],
        [
         "58",
         "grn",
         "2024-07-13 00:00:00",
         "35760",
         "3.576",
         "5",
         "1.3982102908277405",
         "3",
         "13"
        ],
        [
         "59",
         "grn",
         "2024-07-14 00:00:00",
         "34671",
         "3.4671",
         "6",
         "1.730552911655274",
         "4",
         "19"
        ],
        [
         "60",
         "grn",
         "2024-07-15 00:00:00",
         "35528",
         "3.5528",
         "5",
         "1.4073406890340014",
         "5",
         "24"
        ],
        [
         "61",
         "grn",
         "2024-07-16 00:00:00",
         "26824",
         "2.6824",
         "4",
         "1.4912019087384432",
         "6",
         "28"
        ]
       ],
       "shape": {
        "columns": 8,
        "rows": 78
       }
      },
      "text/html": [
       "<div>\n",
       "<style scoped>\n",
       "    .dataframe tbody tr th:only-of-type {\n",
       "        vertical-align: middle;\n",
       "    }\n",
       "\n",
       "    .dataframe tbody tr th {\n",
       "        vertical-align: top;\n",
       "    }\n",
       "\n",
       "    .dataframe thead th {\n",
       "        text-align: right;\n",
       "    }\n",
       "</style>\n",
       "<table border=\"1\" class=\"dataframe\">\n",
       "  <thead>\n",
       "    <tr style=\"text-align: right;\">\n",
       "      <th></th>\n",
       "      <th>color</th>\n",
       "      <th>date</th>\n",
       "      <th>count</th>\n",
       "      <th>count_per_10k</th>\n",
       "      <th>visit_count</th>\n",
       "      <th>visits_per_10k</th>\n",
       "      <th>day</th>\n",
       "      <th>cumulative_visits</th>\n",
       "    </tr>\n",
       "  </thead>\n",
       "  <tbody>\n",
       "    <tr>\n",
       "      <th>0</th>\n",
       "      <td>blu</td>\n",
       "      <td>2024-07-11</td>\n",
       "      <td>18400</td>\n",
       "      <td>1.8400</td>\n",
       "      <td>1</td>\n",
       "      <td>0.543478</td>\n",
       "      <td>1</td>\n",
       "      <td>1</td>\n",
       "    </tr>\n",
       "    <tr>\n",
       "      <th>1</th>\n",
       "      <td>blu</td>\n",
       "      <td>2024-07-12</td>\n",
       "      <td>18400</td>\n",
       "      <td>1.8400</td>\n",
       "      <td>1</td>\n",
       "      <td>0.543478</td>\n",
       "      <td>2</td>\n",
       "      <td>2</td>\n",
       "    </tr>\n",
       "    <tr>\n",
       "      <th>2</th>\n",
       "      <td>blu</td>\n",
       "      <td>2024-07-13</td>\n",
       "      <td>26524</td>\n",
       "      <td>2.6524</td>\n",
       "      <td>3</td>\n",
       "      <td>1.131051</td>\n",
       "      <td>3</td>\n",
       "      <td>5</td>\n",
       "    </tr>\n",
       "    <tr>\n",
       "      <th>3</th>\n",
       "      <td>blu</td>\n",
       "      <td>2024-07-14</td>\n",
       "      <td>53297</td>\n",
       "      <td>5.3297</td>\n",
       "      <td>4</td>\n",
       "      <td>0.750511</td>\n",
       "      <td>4</td>\n",
       "      <td>9</td>\n",
       "    </tr>\n",
       "    <tr>\n",
       "      <th>4</th>\n",
       "      <td>blu</td>\n",
       "      <td>2024-07-15</td>\n",
       "      <td>35075</td>\n",
       "      <td>3.5075</td>\n",
       "      <td>2</td>\n",
       "      <td>0.570207</td>\n",
       "      <td>5</td>\n",
       "      <td>11</td>\n",
       "    </tr>\n",
       "    <tr>\n",
       "      <th>...</th>\n",
       "      <td>...</td>\n",
       "      <td>...</td>\n",
       "      <td>...</td>\n",
       "      <td>...</td>\n",
       "      <td>...</td>\n",
       "      <td>...</td>\n",
       "      <td>...</td>\n",
       "      <td>...</td>\n",
       "    </tr>\n",
       "    <tr>\n",
       "      <th>85</th>\n",
       "      <td>yel</td>\n",
       "      <td>2024-07-25</td>\n",
       "      <td>92735</td>\n",
       "      <td>9.2735</td>\n",
       "      <td>1</td>\n",
       "      <td>0.107834</td>\n",
       "      <td>15</td>\n",
       "      <td>30</td>\n",
       "    </tr>\n",
       "    <tr>\n",
       "      <th>86</th>\n",
       "      <td>yel</td>\n",
       "      <td>2024-07-26</td>\n",
       "      <td>92779</td>\n",
       "      <td>9.2779</td>\n",
       "      <td>1</td>\n",
       "      <td>0.107783</td>\n",
       "      <td>16</td>\n",
       "      <td>31</td>\n",
       "    </tr>\n",
       "    <tr>\n",
       "      <th>87</th>\n",
       "      <td>yel</td>\n",
       "      <td>2024-07-27</td>\n",
       "      <td>92584</td>\n",
       "      <td>9.2584</td>\n",
       "      <td>3</td>\n",
       "      <td>0.324030</td>\n",
       "      <td>17</td>\n",
       "      <td>34</td>\n",
       "    </tr>\n",
       "    <tr>\n",
       "      <th>88</th>\n",
       "      <td>yel</td>\n",
       "      <td>2024-07-28</td>\n",
       "      <td>92810</td>\n",
       "      <td>9.2810</td>\n",
       "      <td>1</td>\n",
       "      <td>0.107747</td>\n",
       "      <td>18</td>\n",
       "      <td>35</td>\n",
       "    </tr>\n",
       "    <tr>\n",
       "      <th>89</th>\n",
       "      <td>yel</td>\n",
       "      <td>2024-07-29</td>\n",
       "      <td>82568</td>\n",
       "      <td>8.2568</td>\n",
       "      <td>1</td>\n",
       "      <td>0.121112</td>\n",
       "      <td>19</td>\n",
       "      <td>36</td>\n",
       "    </tr>\n",
       "  </tbody>\n",
       "</table>\n",
       "<p>78 rows × 8 columns</p>\n",
       "</div>"
      ],
      "text/plain": [
       "   color       date  count  count_per_10k  visit_count  visits_per_10k  day  \\\n",
       "0    blu 2024-07-11  18400         1.8400            1        0.543478    1   \n",
       "1    blu 2024-07-12  18400         1.8400            1        0.543478    2   \n",
       "2    blu 2024-07-13  26524         2.6524            3        1.131051    3   \n",
       "3    blu 2024-07-14  53297         5.3297            4        0.750511    4   \n",
       "4    blu 2024-07-15  35075         3.5075            2        0.570207    5   \n",
       "..   ...        ...    ...            ...          ...             ...  ...   \n",
       "85   yel 2024-07-25  92735         9.2735            1        0.107834   15   \n",
       "86   yel 2024-07-26  92779         9.2779            1        0.107783   16   \n",
       "87   yel 2024-07-27  92584         9.2584            3        0.324030   17   \n",
       "88   yel 2024-07-28  92810         9.2810            1        0.107747   18   \n",
       "89   yel 2024-07-29  82568         8.2568            1        0.121112   19   \n",
       "\n",
       "    cumulative_visits  \n",
       "0                   1  \n",
       "1                   2  \n",
       "2                   5  \n",
       "3                   9  \n",
       "4                  11  \n",
       "..                ...  \n",
       "85                 30  \n",
       "86                 31  \n",
       "87                 34  \n",
       "88                 35  \n",
       "89                 36  \n",
       "\n",
       "[78 rows x 8 columns]"
      ]
     },
     "execution_count": 169,
     "metadata": {},
     "output_type": "execute_result"
    }
   ],
   "source": [
    "merge_photos_visits = pd.merge(date_photo_counts, cumulative_color_visit_counts, on=['color', 'date'], how='inner')\n",
    "merge_photos_visits['visits_per_10k'] = merge_photos_visits['visit_count']/merge_photos_visits['count_per_10k']\n",
    "# merge_photos_visits['cumulative_visits'] = merge_photos_visits.groupby('color')['visits_per_10k'].cumsum()\n",
    "merge_photos_visits\n",
    "merge_photos_visits_filtered = merge_photos_visits[merge_photos_visits['date'] <= merge_photos_visits['date'].min() + pd.Timedelta(days=18)]\n",
    "merge_photos_visits_filtered['date'] = pd.to_datetime(merge_photos_visits_filtered['date'])\n",
    "merge_photos_visits_filtered['day'] = (merge_photos_visits_filtered['date'] - merge_photos_visits_filtered['date'].min()).dt.days +1\n",
    "merge_photos_visits_filtered['cumulative_visits'] = merge_photos_visits_filtered.groupby('color')['visit_count'].cumsum()\n",
    "merge_photos_visits_filtered"
   ]
  },
  {
   "cell_type": "code",
   "execution_count": 170,
   "metadata": {},
   "outputs": [
    {
     "data": {
      "image/png": "[encoded data removed]",
      "text/plain": [
       "<Figure size 500x200 with 1 Axes>"
      ]
     },
     "metadata": {},
     "output_type": "display_data"
    }
   ],
   "source": [
    "plt.figure(figsize=(5, 2))\n",
    "\n",
    "for color, group in merge_photos_visits_filtered.groupby('color'):\n",
    "    plt.plot(group['day'], group['cumulative_visits'],\n",
    "             label=color, color=color_map.get(color))\n",
    "\n",
    "plt.xlabel('Day')\n",
    "plt.ylabel('Cumulative visits')\n",
    "plt.yticks(range(0,100, 10))\n",
    "plt.xticks(range(0,20))\n",
    "\n",
    "plt.tight_layout()\n",
    "# plt.savefig('figs/cumulative_visits_per_10k.svg', format='svg')"
   ]
  },
  {
   "cell_type": "code",
   "execution_count": 171,
   "metadata": {},
   "outputs": [
    {
     "data": {
      "image/png": "[encoded data removed]",
      "text/plain": [
       "<Figure size 300x200 with 1 Axes>"
      ]
     },
     "metadata": {},
     "output_type": "display_data"
    }
   ],
   "source": [
    "\n",
    "SKIPPED_DAYS = {6}\n",
    "\n",
    "def day_to_display_index(d_cal: int) -> int:\n",
    "    return d_cal - sum(1 for sd in SKIPPED_DAYS if sd < d_cal)\n",
    "\n",
    "plt.figure(figsize=(3, 2))\n",
    "\n",
    "for color, group in merge_photos_visits_filtered.groupby('color'):\n",
    "    disp_days = group['day'].apply(day_to_display_index)\n",
    "    plt.plot(disp_days, group['cumulative_visits'],\n",
    "             label=color, color=color_map.get(color))\n",
    "\n",
    "plt.xlabel('Day')\n",
    "plt.ylabel('Cumulative visits')\n",
    "plt.yticks(range(0, 100, 10))\n",
    "\n",
    "cal_days = [d for d in range(0, 19) if d not in SKIPPED_DAYS]\n",
    "disp_days = [day_to_display_index(d) for d in cal_days]\n",
    "\n",
    "ticks = range(0, 19)\n",
    "labels = [str(d) if d % 2 == 0 else \"\" for d in ticks]\n",
    "plt.xticks(ticks, labels)\n",
    "plt.xlim(0,18)\n",
    "\n",
    "plt.tight_layout()\n",
    "plt.savefig('figs/cumulative_visits_small.svg', format='svg')"
   ]
  },
  {
   "cell_type": "code",
   "execution_count": 172,
   "metadata": {},
   "outputs": [
    {
     "name": "stderr",
     "output_type": "stream",
     "text": [
      "/tmp/ipykernel_1555528/1850973551.py:106: MatplotlibDeprecationWarning: The BrokenBarHCollection class was deprecated in Matplotlib 3.7 and will be removed two minor releases later.\n",
      "  coll = BrokenBarHCollection(\n"
     ]
    },
    {
     "data": {
      "image/png": "[encoded data removed]",
      "text/plain": [
       "<Figure size 450x300 with 2 Axes>"
      ]
     },
     "metadata": {},
     "output_type": "display_data"
    }
   ],
   "source": [
    "import pandas as pd\n",
    "import matplotlib.pyplot as plt\n",
    "import datetime as dt\n",
    "from matplotlib.collections import BrokenBarHCollection\n",
    "\n",
    "combined_df['datetime'] = pd.to_datetime(combined_df['datetime'])\n",
    "day0 = combined_df['datetime'].dt.floor('D').min()\n",
    "combined_df['day'] = (combined_df['datetime'].dt.floor('D') - day0).dt.days\n",
    "SKIPPED_DAYS = {6}\n",
    "\n",
    "def day_to_display_index(d_cal: int) -> int:\n",
    "    return d_cal - sum(1 for sd in SKIPPED_DAYS if sd < d_cal)\n",
    "\n",
    "daily_counts = (\n",
    "    combined_df\n",
    "    .groupby('day')\n",
    "    .size()\n",
    "    .reset_index(name='count')\n",
    ")\n",
    "daily_counts['cum_count'] = daily_counts['count'].cumsum()\n",
    "daily_counts = daily_counts[(daily_counts['day'] <= 18) & (~daily_counts['day'].isin(SKIPPED_DAYS))]\n",
    "daily_counts['disp_day'] = daily_counts['day'].apply(day_to_display_index)\n",
    "\n",
    "fig, (ax1, ax2) = plt.subplots(2, 1, figsize=(4.5, 3), sharex=True, gridspec_kw={'height_ratios':[1,1]})\n",
    "\n",
    "ax1.bar(daily_counts['disp_day'] + 0.5, daily_counts['count'], color='gray', width=0.8)\n",
    "ax1.set_ylabel(\"Bombus image\\ncount (log scale)\")\n",
    "ax1.set_yscale(\"log\")\n",
    "\n",
    "day0_date = clover_start.date()\n",
    "\n",
    "def day_window(datet):\n",
    "    d = (datet.date() - day0_date).days\n",
    "    if d <= 6:\n",
    "        ws, we = (5, 0), (16, 0)\n",
    "    elif d > 6 and d <= 12:\n",
    "        ws, we = (5, 0), (19, 0)\n",
    "    else:\n",
    "        ws, we = (6, 0), (20, 0)\n",
    "    tz = getattr(datet, 'tzinfo', None)\n",
    "    wstart = dt.datetime.combine(datet.date(), dt.time(*ws), tz)\n",
    "    wend   = dt.datetime.combine(datet.date(), dt.time(*we), tz)\n",
    "    return d, wstart, wend\n",
    "\n",
    "def compressed_x(t):\n",
    "    d_cal, wstart, wend = day_window(t)\n",
    "    base = float(day_to_display_index(d_cal))\n",
    "    if t <= wstart:\n",
    "        return base\n",
    "    if t >= wend:\n",
    "        return base + 1.0\n",
    "    frac = (t - wstart) / (wend - wstart)\n",
    "    return base + float(frac)\n",
    "\n",
    "TOL = 1e-12\n",
    "ROUND = 12\n",
    "def _rx(x): return float(round(x, ROUND))\n",
    "\n",
    "period_subset = cam_ints[\n",
    "    cam_ints['interval'].apply(lambda x: clover_start <= x.left and x.right <= clover_end)\n",
    "]\n",
    "\n",
    "pis = sorted(period_subset['pi'].unique())\n",
    "segments_by_pi = {pi: [] for pi in pis}\n",
    "\n",
    "def add_seg(pi, ldt, rdt, color_key):\n",
    "    x1 = _rx(compressed_x(ldt))\n",
    "    x2 = _rx(compressed_x(rdt))\n",
    "    if x2 <= x1 + TOL:\n",
    "        return\n",
    "    segments_by_pi[pi].append([x1, x2, color_map[color_key]])\n",
    "\n",
    "for _, row in period_subset.iterrows():\n",
    "    left, right = row['interval'].left, row['interval'].right\n",
    "    if left.date() != right.date():\n",
    "        _, _, wendL = day_window(left)\n",
    "        _, wstartR, _ = day_window(right)\n",
    "        add_seg(row['pi'], left, min(right, wendL), row['color'])\n",
    "        add_seg(row['pi'], max(right, wstartR), right, row['color'])\n",
    "    else:\n",
    "        add_seg(row['pi'], left, right, row['color'])\n",
    "\n",
    "for pi in pis:\n",
    "    segs = sorted(segments_by_pi[pi], key=lambda s: (s[0], s[1]))\n",
    "    snapped = []\n",
    "    for seg in segs:\n",
    "        x1, x2, c = seg\n",
    "        if not snapped:\n",
    "            snapped.append([x1, x2, c])\n",
    "            continue\n",
    "        px1, px2, pc = snapped[-1]\n",
    "        if x1 <= px2 + TOL:\n",
    "            x1 = px2\n",
    "        if c == pc and x1 <= px2 + TOL:\n",
    "            snapped[-1][1] = max(px2, x2)\n",
    "        else:\n",
    "            snapped.append([x1, x2, c])\n",
    "    segments_by_pi[pi] = snapped\n",
    "\n",
    "band_height = 1.0\n",
    "pi_to_band = {pi: i for i, pi in enumerate(pis)}\n",
    "\n",
    "for pi in pis:\n",
    "    y0 = pi_to_band[pi]\n",
    "    for x1, x2, col in segments_by_pi[pi]:\n",
    "        coll = BrokenBarHCollection(\n",
    "            [(x1, x2 - x1)],\n",
    "            (y0, band_height),\n",
    "            facecolors=col,\n",
    "            edgecolors='none',\n",
    "            linewidths=0,\n",
    "            antialiased=False,\n",
    "            snap=True\n",
    "        )\n",
    "        ax2.add_collection(coll)\n",
    "\n",
    "ax2.set_yticks([pi_to_band[pi] + band_height/2 for pi in pis])\n",
    "ax2.set_yticklabels([str(pi) for pi in pis], size=9)\n",
    "ax2.set_ylim(-0.01, len(pis))\n",
    "\n",
    "dmins = (period_subset['interval'].map(lambda x: (x.left.date()  - day0_date).days)).min()\n",
    "dmaxs = (period_subset['interval'].map(lambda x: (x.right.date() - day0_date).days)).max()\n",
    "cal_days_kept = [d for d in range(dmins, dmaxs + 1) if d not in SKIPPED_DAYS]\n",
    "disp_days     = [day_to_display_index(d) for d in cal_days_kept]\n",
    "ax2.set_xticks(disp_days+[18])\n",
    "ax2.set_xlim(min(disp_days), max(disp_days) + 1)\n",
    "ax2.set_xticklabels([f\"{d}\" for d in disp_days+[18]])\n",
    "\n",
    "ax2.set_xlabel(\"Sampling day\")\n",
    "ax2.set_ylabel(\"Camera trap\")\n",
    "\n",
    "plt.tight_layout()\n",
    "plt.savefig('figs/bombus_img_counts_sample_ints.png', format='png', dpi=300)\n"
   ]
  },
  {
   "cell_type": "code",
   "execution_count": 173,
   "metadata": {},
   "outputs": [
    {
     "data": {
      "application/vnd.microsoft.datawrangler.viewer.v0+json": {
       "columns": [
        {
         "name": "index",
         "rawType": "int64",
         "type": "integer"
        },
        {
         "name": "color",
         "rawType": "object",
         "type": "string"
        },
        {
         "name": "date",
         "rawType": "datetime64[ns]",
         "type": "datetime"
        },
        {
         "name": "count",
         "rawType": "int64",
         "type": "integer"
        },
        {
         "name": "count_per_10k",
         "rawType": "float64",
         "type": "float"
        },
        {
         "name": "visit_count",
         "rawType": "int64",
         "type": "integer"
        },
        {
         "name": "visits_per_10k",
         "rawType": "float64",
         "type": "float"
        },
        {
         "name": "day",
         "rawType": "int64",
         "type": "integer"
        },
        {
         "name": "cumulative_visits",
         "rawType": "int64",
         "type": "integer"
        }
       ],
       "ref": "b57ade45-7e98-4690-95ac-1e17503edbf8",
       "rows": [
        [
         "0",
         "blu",
         "2024-07-11 00:00:00",
         "18400",
         "1.84",
         "1",
         "0.5434782608695652",
         "1",
         "1"
        ],
        [
         "1",
         "blu",
         "2024-07-12 00:00:00",
         "18400",
         "1.84",
         "1",
         "0.5434782608695652",
         "2",
         "2"
        ],
        [
         "2",
         "blu",
         "2024-07-13 00:00:00",
         "26524",
         "2.6524",
         "3",
         "1.1310511235107827",
         "3",
         "5"
        ],
        [
         "3",
         "blu",
         "2024-07-14 00:00:00",
         "53297",
         "5.3297",
         "4",
         "0.7505112858134604",
         "4",
         "9"
        ],
        [
         "4",
         "blu",
         "2024-07-15 00:00:00",
         "35075",
         "3.5075",
         "2",
         "0.5702066999287242",
         "5",
         "11"
        ],
        [
         "5",
         "blu",
         "2024-07-18 00:00:00",
         "50270",
         "5.027",
         "2",
         "0.3978516013526954",
         "8",
         "13"
        ],
        [
         "6",
         "blu",
         "2024-07-19 00:00:00",
         "99545",
         "9.9545",
         "3",
         "0.3013712391380783",
         "9",
         "16"
        ],
        [
         "7",
         "blu",
         "2024-07-21 00:00:00",
         "99515",
         "9.9515",
         "2",
         "0.20097472742802594",
         "11",
         "18"
        ],
        [
         "8",
         "blu",
         "2024-07-22 00:00:00",
         "74508",
         "7.4508",
         "2",
         "0.2684275514038761",
         "12",
         "20"
        ],
        [
         "9",
         "blu",
         "2024-07-24 00:00:00",
         "92764",
         "9.2764",
         "6",
         "0.6468026389547669",
         "14",
         "26"
        ],
        [
         "10",
         "blu",
         "2024-07-25 00:00:00",
         "92762",
         "9.2762",
         "3",
         "0.3234082921886117",
         "15",
         "29"
        ],
        [
         "11",
         "blu",
         "2024-07-26 00:00:00",
         "92699",
         "9.2699",
         "2",
         "0.21575205773525066",
         "16",
         "31"
        ],
        [
         "12",
         "blu",
         "2024-07-27 00:00:00",
         "92518",
         "9.2518",
         "3",
         "0.32426122484273334",
         "17",
         "34"
        ],
        [
         "13",
         "blu",
         "2024-07-28 00:00:00",
         "92726",
         "9.2726",
         "2",
         "0.2156892349502836",
         "18",
         "36"
        ],
        [
         "17",
         "blv",
         "2024-07-11 00:00:00",
         "18243",
         "1.8243",
         "3",
         "1.6444663706627198",
         "1",
         "3"
        ],
        [
         "18",
         "blv",
         "2024-07-12 00:00:00",
         "18339",
         "1.8339",
         "2",
         "1.0905720050166312",
         "2",
         "5"
        ],
        [
         "19",
         "blv",
         "2024-07-13 00:00:00",
         "22547",
         "2.2547",
         "1",
         "0.4435179846542777",
         "3",
         "6"
        ],
        [
         "20",
         "blv",
         "2024-07-14 00:00:00",
         "53383",
         "5.3383",
         "6",
         "1.1239533184721728",
         "4",
         "12"
        ],
        [
         "21",
         "blv",
         "2024-07-15 00:00:00",
         "50038",
         "5.0038",
         "5",
         "0.9992405771613574",
         "5",
         "17"
        ],
        [
         "22",
         "blv",
         "2024-07-18 00:00:00",
         "61430",
         "6.143",
         "4",
         "0.6511476477291226",
         "8",
         "21"
        ],
        [
         "23",
         "blv",
         "2024-07-19 00:00:00",
         "99580",
         "9.958",
         "5",
         "0.502108857200241",
         "9",
         "26"
        ],
        [
         "24",
         "blv",
         "2024-07-21 00:00:00",
         "99520",
         "9.952",
         "5",
         "0.502411575562701",
         "11",
         "31"
        ],
        [
         "25",
         "blv",
         "2024-07-22 00:00:00",
         "86239",
         "8.6239",
         "2",
         "0.2319136353621911",
         "12",
         "33"
        ],
        [
         "26",
         "blv",
         "2024-07-24 00:00:00",
         "92846",
         "9.2846",
         "5",
         "0.5385261616009306",
         "14",
         "38"
        ],
        [
         "27",
         "blv",
         "2024-07-25 00:00:00",
         "91510",
         "9.151",
         "6",
         "0.6556660474265108",
         "15",
         "44"
        ],
        [
         "28",
         "blv",
         "2024-07-26 00:00:00",
         "92720",
         "9.272",
         "5",
         "0.5392579810181191",
         "16",
         "49"
        ],
        [
         "29",
         "blv",
         "2024-07-27 00:00:00",
         "92583",
         "9.2583",
         "2",
         "0.21602237991855955",
         "17",
         "51"
        ],
        [
         "30",
         "blv",
         "2024-07-28 00:00:00",
         "92732",
         "9.2732",
         "3",
         "0.32351291894923007",
         "18",
         "54"
        ],
        [
         "31",
         "blv",
         "2024-07-29 00:00:00",
         "92677",
         "9.2677",
         "1",
         "0.10790163686783129",
         "19",
         "55"
        ],
        [
         "39",
         "cnt",
         "2024-07-11 00:00:00",
         "36645",
         "3.6645",
         "17",
         "4.639104925637877",
         "1",
         "17"
        ],
        [
         "40",
         "cnt",
         "2024-07-12 00:00:00",
         "36189",
         "3.6189",
         "10",
         "2.7632706070905524",
         "2",
         "27"
        ],
        [
         "41",
         "cnt",
         "2024-07-13 00:00:00",
         "36194",
         "3.6194",
         "13",
         "3.5917555395921976",
         "3",
         "40"
        ],
        [
         "42",
         "cnt",
         "2024-07-14 00:00:00",
         "36469",
         "3.6469",
         "9",
         "2.467849406345115",
         "4",
         "49"
        ],
        [
         "43",
         "cnt",
         "2024-07-15 00:00:00",
         "34589",
         "3.4589",
         "13",
         "3.7584203070340285",
         "5",
         "62"
        ],
        [
         "44",
         "cnt",
         "2024-07-18 00:00:00",
         "60399",
         "6.0399",
         "3",
         "0.4966969651815427",
         "8",
         "65"
        ],
        [
         "45",
         "cnt",
         "2024-07-19 00:00:00",
         "99378",
         "9.9378",
         "3",
         "0.3018776791644026",
         "9",
         "68"
        ],
        [
         "46",
         "cnt",
         "2024-07-21 00:00:00",
         "99372",
         "9.9372",
         "7",
         "0.7044237813468582",
         "11",
         "75"
        ],
        [
         "47",
         "cnt",
         "2024-07-22 00:00:00",
         "98389",
         "9.8389",
         "7",
         "0.7114616471353504",
         "12",
         "82"
        ],
        [
         "48",
         "cnt",
         "2024-07-24 00:00:00",
         "92768",
         "9.2768",
         "3",
         "0.3233873749568817",
         "14",
         "85"
        ],
        [
         "49",
         "cnt",
         "2024-07-25 00:00:00",
         "92697",
         "9.2697",
         "1",
         "0.10787835636536242",
         "15",
         "86"
        ],
        [
         "50",
         "cnt",
         "2024-07-26 00:00:00",
         "92684",
         "9.2684",
         "4",
         "0.4315739501963662",
         "16",
         "90"
        ],
        [
         "51",
         "cnt",
         "2024-07-27 00:00:00",
         "92534",
         "9.2534",
         "1",
         "0.1080683856744548",
         "17",
         "91"
        ],
        [
         "52",
         "cnt",
         "2024-07-28 00:00:00",
         "92704",
         "9.2704",
         "2",
         "0.21574042112530203",
         "18",
         "93"
        ],
        [
         "53",
         "cnt",
         "2024-07-29 00:00:00",
         "92590",
         "9.259",
         "1",
         "0.10800302408467437",
         "19",
         "94"
        ],
        [
         "56",
         "grn",
         "2024-07-11 00:00:00",
         "25775",
         "2.5775",
         "4",
         "1.5518913676042676",
         "1",
         "4"
        ],
        [
         "57",
         "grn",
         "2024-07-12 00:00:00",
         "35728",
         "3.5728",
         "4",
         "1.1195700850873265",
         "2",
         "8"
        ],
        [
         "58",
         "grn",
         "2024-07-13 00:00:00",
         "35760",
         "3.576",
         "5",
         "1.3982102908277405",
         "3",
         "13"
        ],
        [
         "59",
         "grn",
         "2024-07-14 00:00:00",
         "34671",
         "3.4671",
         "6",
         "1.730552911655274",
         "4",
         "19"
        ],
        [
         "60",
         "grn",
         "2024-07-15 00:00:00",
         "35528",
         "3.5528",
         "5",
         "1.4073406890340014",
         "5",
         "24"
        ],
        [
         "61",
         "grn",
         "2024-07-16 00:00:00",
         "26824",
         "2.6824",
         "4",
         "1.4912019087384432",
         "6",
         "28"
        ]
       ],
       "shape": {
        "columns": 8,
        "rows": 78
       }
      },
      "text/html": [
       "<div>\n",
       "<style scoped>\n",
       "    .dataframe tbody tr th:only-of-type {\n",
       "        vertical-align: middle;\n",
       "    }\n",
       "\n",
       "    .dataframe tbody tr th {\n",
       "        vertical-align: top;\n",
       "    }\n",
       "\n",
       "    .dataframe thead th {\n",
       "        text-align: right;\n",
       "    }\n",
       "</style>\n",
       "<table border=\"1\" class=\"dataframe\">\n",
       "  <thead>\n",
       "    <tr style=\"text-align: right;\">\n",
       "      <th></th>\n",
       "      <th>color</th>\n",
       "      <th>date</th>\n",
       "      <th>count</th>\n",
       "      <th>count_per_10k</th>\n",
       "      <th>visit_count</th>\n",
       "      <th>visits_per_10k</th>\n",
       "      <th>day</th>\n",
       "      <th>cumulative_visits</th>\n",
       "    </tr>\n",
       "  </thead>\n",
       "  <tbody>\n",
       "    <tr>\n",
       "      <th>0</th>\n",
       "      <td>blu</td>\n",
       "      <td>2024-07-11</td>\n",
       "      <td>18400</td>\n",
       "      <td>1.8400</td>\n",
       "      <td>1</td>\n",
       "      <td>0.543478</td>\n",
       "      <td>1</td>\n",
       "      <td>1</td>\n",
       "    </tr>\n",
       "    <tr>\n",
       "      <th>1</th>\n",
       "      <td>blu</td>\n",
       "      <td>2024-07-12</td>\n",
       "      <td>18400</td>\n",
       "      <td>1.8400</td>\n",
       "      <td>1</td>\n",
       "      <td>0.543478</td>\n",
       "      <td>2</td>\n",
       "      <td>2</td>\n",
       "    </tr>\n",
       "    <tr>\n",
       "      <th>2</th>\n",
       "      <td>blu</td>\n",
       "      <td>2024-07-13</td>\n",
       "      <td>26524</td>\n",
       "      <td>2.6524</td>\n",
       "      <td>3</td>\n",
       "      <td>1.131051</td>\n",
       "      <td>3</td>\n",
       "      <td>5</td>\n",
       "    </tr>\n",
       "    <tr>\n",
       "      <th>3</th>\n",
       "      <td>blu</td>\n",
       "      <td>2024-07-14</td>\n",
       "      <td>53297</td>\n",
       "      <td>5.3297</td>\n",
       "      <td>4</td>\n",
       "      <td>0.750511</td>\n",
       "      <td>4</td>\n",
       "      <td>9</td>\n",
       "    </tr>\n",
       "    <tr>\n",
       "      <th>4</th>\n",
       "      <td>blu</td>\n",
       "      <td>2024-07-15</td>\n",
       "      <td>35075</td>\n",
       "      <td>3.5075</td>\n",
       "      <td>2</td>\n",
       "      <td>0.570207</td>\n",
       "      <td>5</td>\n",
       "      <td>11</td>\n",
       "    </tr>\n",
       "    <tr>\n",
       "      <th>...</th>\n",
       "      <td>...</td>\n",
       "      <td>...</td>\n",
       "      <td>...</td>\n",
       "      <td>...</td>\n",
       "      <td>...</td>\n",
       "      <td>...</td>\n",
       "      <td>...</td>\n",
       "      <td>...</td>\n",
       "    </tr>\n",
       "    <tr>\n",
       "      <th>85</th>\n",
       "      <td>yel</td>\n",
       "      <td>2024-07-25</td>\n",
       "      <td>92735</td>\n",
       "      <td>9.2735</td>\n",
       "      <td>1</td>\n",
       "      <td>0.107834</td>\n",
       "      <td>15</td>\n",
       "      <td>30</td>\n",
       "    </tr>\n",
       "    <tr>\n",
       "      <th>86</th>\n",
       "      <td>yel</td>\n",
       "      <td>2024-07-26</td>\n",
       "      <td>92779</td>\n",
       "      <td>9.2779</td>\n",
       "      <td>1</td>\n",
       "      <td>0.107783</td>\n",
       "      <td>16</td>\n",
       "      <td>31</td>\n",
       "    </tr>\n",
       "    <tr>\n",
       "      <th>87</th>\n",
       "      <td>yel</td>\n",
       "      <td>2024-07-27</td>\n",
       "      <td>92584</td>\n",
       "      <td>9.2584</td>\n",
       "      <td>3</td>\n",
       "      <td>0.324030</td>\n",
       "      <td>17</td>\n",
       "      <td>34</td>\n",
       "    </tr>\n",
       "    <tr>\n",
       "      <th>88</th>\n",
       "      <td>yel</td>\n",
       "      <td>2024-07-28</td>\n",
       "      <td>92810</td>\n",
       "      <td>9.2810</td>\n",
       "      <td>1</td>\n",
       "      <td>0.107747</td>\n",
       "      <td>18</td>\n",
       "      <td>35</td>\n",
       "    </tr>\n",
       "    <tr>\n",
       "      <th>89</th>\n",
       "      <td>yel</td>\n",
       "      <td>2024-07-29</td>\n",
       "      <td>82568</td>\n",
       "      <td>8.2568</td>\n",
       "      <td>1</td>\n",
       "      <td>0.121112</td>\n",
       "      <td>19</td>\n",
       "      <td>36</td>\n",
       "    </tr>\n",
       "  </tbody>\n",
       "</table>\n",
       "<p>78 rows × 8 columns</p>\n",
       "</div>"
      ],
      "text/plain": [
       "   color       date  count  count_per_10k  visit_count  visits_per_10k  day  \\\n",
       "0    blu 2024-07-11  18400         1.8400            1        0.543478    1   \n",
       "1    blu 2024-07-12  18400         1.8400            1        0.543478    2   \n",
       "2    blu 2024-07-13  26524         2.6524            3        1.131051    3   \n",
       "3    blu 2024-07-14  53297         5.3297            4        0.750511    4   \n",
       "4    blu 2024-07-15  35075         3.5075            2        0.570207    5   \n",
       "..   ...        ...    ...            ...          ...             ...  ...   \n",
       "85   yel 2024-07-25  92735         9.2735            1        0.107834   15   \n",
       "86   yel 2024-07-26  92779         9.2779            1        0.107783   16   \n",
       "87   yel 2024-07-27  92584         9.2584            3        0.324030   17   \n",
       "88   yel 2024-07-28  92810         9.2810            1        0.107747   18   \n",
       "89   yel 2024-07-29  82568         8.2568            1        0.121112   19   \n",
       "\n",
       "    cumulative_visits  \n",
       "0                   1  \n",
       "1                   2  \n",
       "2                   5  \n",
       "3                   9  \n",
       "4                  11  \n",
       "..                ...  \n",
       "85                 30  \n",
       "86                 31  \n",
       "87                 34  \n",
       "88                 35  \n",
       "89                 36  \n",
       "\n",
       "[78 rows x 8 columns]"
      ]
     },
     "execution_count": 173,
     "metadata": {},
     "output_type": "execute_result"
    }
   ],
   "source": [
    "merge_photos_visits_filtered"
   ]
  },
  {
   "cell_type": "code",
   "execution_count": 174,
   "metadata": {},
   "outputs": [
    {
     "data": {
      "application/vnd.microsoft.datawrangler.viewer.v0+json": {
       "columns": [
        {
         "name": "index",
         "rawType": "int64",
         "type": "integer"
        },
        {
         "name": "color",
         "rawType": "object",
         "type": "string"
        },
        {
         "name": "visits_per_10k",
         "rawType": "float64",
         "type": "float"
        }
       ],
       "ref": "683156ef-8459-4136-b796-3ee9e53c86dc",
       "rows": [
        [
         "0",
         "blu",
         "6.43326419898642"
        ],
        [
         "1",
         "blv",
         "9.570219097602596"
        ],
        [
         "2",
         "cnt",
         "20.729512370930966"
        ],
        [
         "3",
         "grn",
         "14.591943575440038"
        ],
        [
         "4",
         "yel",
         "7.4344359291188615"
        ]
       ],
       "shape": {
        "columns": 2,
        "rows": 5
       }
      },
      "text/html": [
       "<div>\n",
       "<style scoped>\n",
       "    .dataframe tbody tr th:only-of-type {\n",
       "        vertical-align: middle;\n",
       "    }\n",
       "\n",
       "    .dataframe tbody tr th {\n",
       "        vertical-align: top;\n",
       "    }\n",
       "\n",
       "    .dataframe thead th {\n",
       "        text-align: right;\n",
       "    }\n",
       "</style>\n",
       "<table border=\"1\" class=\"dataframe\">\n",
       "  <thead>\n",
       "    <tr style=\"text-align: right;\">\n",
       "      <th></th>\n",
       "      <th>color</th>\n",
       "      <th>visits_per_10k</th>\n",
       "    </tr>\n",
       "  </thead>\n",
       "  <tbody>\n",
       "    <tr>\n",
       "      <th>0</th>\n",
       "      <td>blu</td>\n",
       "      <td>6.433264</td>\n",
       "    </tr>\n",
       "    <tr>\n",
       "      <th>1</th>\n",
       "      <td>blv</td>\n",
       "      <td>9.570219</td>\n",
       "    </tr>\n",
       "    <tr>\n",
       "      <th>2</th>\n",
       "      <td>cnt</td>\n",
       "      <td>20.729512</td>\n",
       "    </tr>\n",
       "    <tr>\n",
       "      <th>3</th>\n",
       "      <td>grn</td>\n",
       "      <td>14.591944</td>\n",
       "    </tr>\n",
       "    <tr>\n",
       "      <th>4</th>\n",
       "      <td>yel</td>\n",
       "      <td>7.434436</td>\n",
       "    </tr>\n",
       "  </tbody>\n",
       "</table>\n",
       "</div>"
      ],
      "text/plain": [
       "  color  visits_per_10k\n",
       "0   blu        6.433264\n",
       "1   blv        9.570219\n",
       "2   cnt       20.729512\n",
       "3   grn       14.591944\n",
       "4   yel        7.434436"
      ]
     },
     "execution_count": 174,
     "metadata": {},
     "output_type": "execute_result"
    }
   ],
   "source": [
    "# FINAL CUMULATIVE COUNTS PER 10K IMAGES\n",
    "\n",
    "merge_photos_visits_filtered.groupby('color')['visits_per_10k'].sum().reset_index()"
   ]
  },
  {
   "cell_type": "code",
   "execution_count": 175,
   "metadata": {},
   "outputs": [
    {
     "data": {
      "application/vnd.microsoft.datawrangler.viewer.v0+json": {
       "columns": [
        {
         "name": "index",
         "rawType": "int64",
         "type": "integer"
        },
        {
         "name": "color",
         "rawType": "object",
         "type": "string"
        },
        {
         "name": "cumulative_rate_per_day",
         "rawType": "float64",
         "type": "float"
        },
        {
         "name": "r_squared",
         "rawType": "float64",
         "type": "float"
        },
        {
         "name": "p_value",
         "rawType": "float64",
         "type": "float"
        }
       ],
       "ref": "2bd2dae5-d8c2-4aa9-a535-4cdec643f179",
       "rows": [
        [
         "2",
         "cnt",
         "11.200000000000001",
         "0.9971383147853737",
         "6.502717838934263e-05"
        ],
        [
         "3",
         "grn",
         "5.1000000000000005",
         "0.995788667687596",
         "0.0001161362272550147"
        ],
        [
         "1",
         "blv",
         "3.5",
         "0.9196696696696698",
         "0.009906358299451327"
        ],
        [
         "0",
         "blu",
         "2.7",
         "0.9694148936170214",
         "0.002291324367761573"
        ],
        [
         "4",
         "yel",
         "1.4000000000000001",
         "0.9245283018867927",
         "0.009007352110221932"
        ]
       ],
       "shape": {
        "columns": 4,
        "rows": 5
       }
      },
      "text/html": [
       "<div>\n",
       "<style scoped>\n",
       "    .dataframe tbody tr th:only-of-type {\n",
       "        vertical-align: middle;\n",
       "    }\n",
       "\n",
       "    .dataframe tbody tr th {\n",
       "        vertical-align: top;\n",
       "    }\n",
       "\n",
       "    .dataframe thead th {\n",
       "        text-align: right;\n",
       "    }\n",
       "</style>\n",
       "<table border=\"1\" class=\"dataframe\">\n",
       "  <thead>\n",
       "    <tr style=\"text-align: right;\">\n",
       "      <th></th>\n",
       "      <th>color</th>\n",
       "      <th>cumulative_rate_per_day</th>\n",
       "      <th>r_squared</th>\n",
       "      <th>p_value</th>\n",
       "    </tr>\n",
       "  </thead>\n",
       "  <tbody>\n",
       "    <tr>\n",
       "      <th>2</th>\n",
       "      <td>cnt</td>\n",
       "      <td>11.2</td>\n",
       "      <td>0.997138</td>\n",
       "      <td>0.000065</td>\n",
       "    </tr>\n",
       "    <tr>\n",
       "      <th>3</th>\n",
       "      <td>grn</td>\n",
       "      <td>5.1</td>\n",
       "      <td>0.995789</td>\n",
       "      <td>0.000116</td>\n",
       "    </tr>\n",
       "    <tr>\n",
       "      <th>1</th>\n",
       "      <td>blv</td>\n",
       "      <td>3.5</td>\n",
       "      <td>0.919670</td>\n",
       "      <td>0.009906</td>\n",
       "    </tr>\n",
       "    <tr>\n",
       "      <th>0</th>\n",
       "      <td>blu</td>\n",
       "      <td>2.7</td>\n",
       "      <td>0.969415</td>\n",
       "      <td>0.002291</td>\n",
       "    </tr>\n",
       "    <tr>\n",
       "      <th>4</th>\n",
       "      <td>yel</td>\n",
       "      <td>1.4</td>\n",
       "      <td>0.924528</td>\n",
       "      <td>0.009007</td>\n",
       "    </tr>\n",
       "  </tbody>\n",
       "</table>\n",
       "</div>"
      ],
      "text/plain": [
       "  color  cumulative_rate_per_day  r_squared   p_value\n",
       "2   cnt                     11.2   0.997138  0.000065\n",
       "3   grn                      5.1   0.995789  0.000116\n",
       "1   blv                      3.5   0.919670  0.009906\n",
       "0   blu                      2.7   0.969415  0.002291\n",
       "4   yel                      1.4   0.924528  0.009007"
      ]
     },
     "execution_count": 175,
     "metadata": {},
     "output_type": "execute_result"
    }
   ],
   "source": [
    "from scipy.stats import linregress\n",
    "from datetime import datetime \n",
    "\n",
    "start_date = pd.to_datetime(\"2024-07-11\")\n",
    "end_date = pd.to_datetime(\"2024-07-15\")\n",
    "subset = merge_photos_visits_filtered[\n",
    "    (merge_photos_visits_filtered['date'] >= start_date) &\n",
    "    (merge_photos_visits_filtered['date'] <= end_date)\n",
    "]\n",
    "daily_cum = subset.groupby(['color', 'date'])['cumulative_visits'].sum().reset_index()\n",
    "\n",
    "\n",
    "rates = []\n",
    "for color in daily_cum['color'].unique():\n",
    "    color_df = daily_cum[daily_cum['color'] == color].sort_values('date')\n",
    "    x = color_df['date'].map(datetime.toordinal)\n",
    "    y = color_df['cumulative_visits']\n",
    "    \n",
    "    slope, intercept, r_value, p_value, std_err = linregress(x, y)\n",
    "    \n",
    "    rates.append({\n",
    "        'color': color,\n",
    "        'cumulative_rate_per_day': slope,\n",
    "        'r_squared': r_value**2,\n",
    "        'p_value': p_value\n",
    "    })\n",
    "\n",
    "cumulative_rates_df = pd.DataFrame(rates).sort_values(by='cumulative_rate_per_day', ascending=False)\n",
    "\n",
    "cumulative_rates_df"
   ]
  },
  {
   "cell_type": "markdown",
   "metadata": {},
   "source": [
    "### Alt approaches to visualizing cumulative counts"
   ]
  },
  {
   "cell_type": "code",
   "execution_count": null,
   "metadata": {},
   "outputs": [
    {
     "data": {
      "image/png": "[encoded data removed]",
      "text/plain": [
       "<Figure size 1200x400 with 3 Axes>"
      ]
     },
     "metadata": {},
     "output_type": "display_data"
    }
   ],
   "source": [
    "# CUMULATIVE COUNTS BY TRAP, THREE PERIODS, RESET TO ZERO EACH PERIOD\n",
    "\n",
    "fig, axes = plt.subplots(1, len(periods), figsize=(4 * len(periods), 4))\n",
    "\n",
    "for i, (start, end) in enumerate(periods):\n",
    "    period_subset = cumulative_visits[\n",
    "        (cumulative_visits['visit_start'] >= start) & (cumulative_visits['visit_start'] <= end)\n",
    "    ].copy()\n",
    "    \n",
    "    period_subset['adjusted_cumulative_count'] = (\n",
    "        period_subset.groupby('pi_color')['cumulative_count']\n",
    "        .transform(lambda x: x - x.min())\n",
    "    )\n",
    "\n",
    "    ax = axes[i] if len(periods) > 1 else axes \n",
    "    for key, group in period_subset.groupby('pi_color'):\n",
    "        color_key = key.split('_')[-1]\n",
    "        line_color = color_map.get(color_key, 'k')\n",
    "        ax.plot(group['visit_start'], group['adjusted_cumulative_count'], label=key, color=line_color)\n",
    "    ax.spines['top'].set_visible(False)\n",
    "    ax.spines['right'].set_visible(False)\n",
    "    ax.set_title(f'{start.date()} to {end.date()}')\n",
    "\n",
    "plt.tight_layout()"
   ]
  },
  {
   "cell_type": "code",
   "execution_count": null,
   "metadata": {},
   "outputs": [],
   "source": [
    "treatment_times = pd.read_csv('csvs/treatment_times_fixed.csv', index_col=False)\n",
    "treatment_times['datetime'] = pd.to_datetime(treatment_times['datetime'], format= \"%Y-%m-%d %H:%M:%S\")\n",
    "treatment_times['date'] = pd.to_datetime(treatment_times['date'], format= \"%Y-%m-%d\")"
   ]
  },
  {
   "cell_type": "code",
   "execution_count": null,
   "metadata": {},
   "outputs": [],
   "source": [
    "treatment_times['pi_color'] = treatment_times['pi'].astype(str) + '_' + treatment_times['color']\n",
    "treatment_times = treatment_times.sort_values('datetime')"
   ]
  },
  {
   "cell_type": "code",
   "execution_count": null,
   "metadata": {},
   "outputs": [
    {
     "data": {
      "image/png": "[encoded data removed]",
      "text/plain": [
       "<Figure size 800x300 with 1 Axes>"
      ]
     },
     "metadata": {},
     "output_type": "display_data"
    }
   ],
   "source": [
    "fig, ax = plt.subplots(figsize=(8, 3))\n",
    "\n",
    "period_subset = treatment_times[\n",
    "    (treatment_times['datetime'] >= clover_start) & (treatment_times['datetime'] <= clover_end)\n",
    "].copy()\n",
    "\n",
    "\n",
    "image_counts = (\n",
    "period_subset.groupby(['color', 'datetime'])\n",
    ".size()\n",
    ".groupby(level=0)\n",
    ".cumsum()\n",
    ".reset_index(name='cumulative_count')   \n",
    ")\n",
    "\n",
    "# image_counts['adjusted_cumulative_count'] = (\n",
    "# image_counts.groupby('color')['cumulative_count']\n",
    "# .transform(lambda x: x - x.min())\n",
    "# )\n",
    "\n",
    "for key, group in image_counts.groupby('color'):\n",
    "    color_key = key.split('_')[-1]\n",
    "    pi_key = key.split('_')[0]\n",
    "    line_color = color_map.get(color_key, 'k')\n",
    "    ax.plot(group['datetime'], group['cumulative_count'], label=key, color=line_color)\n",
    "\n",
    "\n",
    "ax.spines['top'].set_visible(False)\n",
    "ax.spines['right'].set_visible(False)\n",
    "ax.set_title(f'{start.date()} to {end.date()}')\n",
    "ax.set_xticks(pd.date_range(start=clover_start, end=clover_end, freq='D'))\n",
    "ax.set_xticklabels([(tick - clover_start).days for tick in pd.date_range(start=clover_start, end=clover_end, freq='D')])\n",
    "ax.set_ylim(0, 1220000)\n",
    "plt.tight_layout()"
   ]
  },
  {
   "cell_type": "code",
   "execution_count": null,
   "metadata": {},
   "outputs": [
    {
     "data": {
      "image/png": "[encoded data removed]",
      "text/plain": [
       "<Figure size 1200x300 with 3 Axes>"
      ]
     },
     "metadata": {},
     "output_type": "display_data"
    }
   ],
   "source": [
    "color_map = {\n",
    "    'cnt': 'm',\n",
    "    'blu': 'b',\n",
    "    'blv': 'c',\n",
    "    'grn': 'g',\n",
    "    'yel': 'y'\n",
    "}\n",
    "\n",
    "fig, axes = plt.subplots(1, len(periods), figsize=(4 * len(periods), 3))\n",
    "\n",
    "for i, (start, end) in enumerate(periods):\n",
    "    period_subset = treatment_times[\n",
    "        (treatment_times['datetime'] >= start) & (treatment_times['datetime'] <= end)\n",
    "    ].copy()\n",
    "\n",
    "\n",
    "    image_counts = (\n",
    "    period_subset.groupby(['pi_color', 'datetime'])\n",
    "    .size()\n",
    "    .groupby(level=0)\n",
    "    .cumsum()\n",
    "    .reset_index(name='cumulative_count')   \n",
    "    )\n",
    "\n",
    "    image_counts['adjusted_cumulative_count'] = (\n",
    "    image_counts.groupby('pi_color')['cumulative_count']\n",
    "    .transform(lambda x: x - x.min())\n",
    "    )\n",
    "\n",
    "    ax = axes[i]\n",
    "    for key, group in image_counts.groupby('pi_color'):\n",
    "        color_key = key.split('_')[-1]\n",
    "        pi_key = key.split('_')[0]\n",
    "        line_color = color_map.get(color_key, 'k')\n",
    "        ax.plot(group['datetime'], group['adjusted_cumulative_count'], label=key, color=line_color)\n",
    "        ax.text(\n",
    "            group['datetime'].iloc[-1]+ pd.Timedelta(seconds=3600),\n",
    "            group['adjusted_cumulative_count'].iloc[-1]+0.7,\n",
    "            f'{pi_key}',\n",
    "            color=line_color,\n",
    "            fontsize=9,\n",
    "            verticalalignment='center'\n",
    "        )\n",
    "\n",
    "    ax.spines['top'].set_visible(False)\n",
    "    ax.spines['right'].set_visible(False)\n",
    "    ax.set_title(f'{start.date()} to {end.date()}')\n",
    "    ax.set_xticks(pd.date_range(start=start, end=end, freq='D'))\n",
    "    ax.set_xticklabels([(tick - start).days for tick in pd.date_range(start=start, end=end, freq='D')])\n",
    "\n",
    "\n",
    "plt.tight_layout()"
   ]
  },
  {
   "cell_type": "code",
   "execution_count": null,
   "metadata": {},
   "outputs": [
    {
     "data": {
      "application/vnd.microsoft.datawrangler.viewer.v0+json": {
       "columns": [
        {
         "name": "index",
         "rawType": "int64",
         "type": "integer"
        },
        {
         "name": "color",
         "rawType": "object",
         "type": "string"
        },
        {
         "name": "visit_start",
         "rawType": "datetime64[ns]",
         "type": "datetime"
        },
        {
         "name": "cumulative_count",
         "rawType": "int64",
         "type": "integer"
        },
        {
         "name": "date",
         "rawType": "object",
         "type": "unknown"
        }
       ],
       "ref": "f600a171-e917-4894-b24c-55f60ac3b3f9",
       "rows": [
        [
         "0",
         "blu",
         "2024-07-11 11:13:10",
         "1",
         "2024-07-11"
        ],
        [
         "1",
         "blu",
         "2024-07-12 15:33:24",
         "2",
         "2024-07-12"
        ],
        [
         "2",
         "blu",
         "2024-07-13 09:18:15",
         "3",
         "2024-07-13"
        ],
        [
         "3",
         "blu",
         "2024-07-13 13:59:28",
         "4",
         "2024-07-13"
        ],
        [
         "4",
         "blu",
         "2024-07-13 14:13:07",
         "5",
         "2024-07-13"
        ],
        [
         "5",
         "blu",
         "2024-07-14 08:14:15",
         "6",
         "2024-07-14"
        ],
        [
         "6",
         "blu",
         "2024-07-14 08:37:11",
         "7",
         "2024-07-14"
        ],
        [
         "7",
         "blu",
         "2024-07-14 09:43:43",
         "8",
         "2024-07-14"
        ],
        [
         "8",
         "blu",
         "2024-07-14 11:56:53",
         "9",
         "2024-07-14"
        ],
        [
         "9",
         "blu",
         "2024-07-15 10:53:34",
         "10",
         "2024-07-15"
        ],
        [
         "10",
         "blu",
         "2024-07-15 15:44:04",
         "11",
         "2024-07-15"
        ],
        [
         "11",
         "blu",
         "2024-07-18 17:06:39",
         "12",
         "2024-07-18"
        ],
        [
         "12",
         "blu",
         "2024-07-18 18:27:38",
         "13",
         "2024-07-18"
        ],
        [
         "13",
         "blu",
         "2024-07-19 09:41:53",
         "14",
         "2024-07-19"
        ],
        [
         "14",
         "blu",
         "2024-07-19 09:57:58",
         "15",
         "2024-07-19"
        ],
        [
         "15",
         "blu",
         "2024-07-19 16:56:49",
         "16",
         "2024-07-19"
        ],
        [
         "16",
         "blu",
         "2024-07-21 11:20:34",
         "17",
         "2024-07-21"
        ],
        [
         "17",
         "blu",
         "2024-07-21 16:35:12",
         "18",
         "2024-07-21"
        ],
        [
         "18",
         "blu",
         "2024-07-22 15:18:28",
         "19",
         "2024-07-22"
        ],
        [
         "19",
         "blu",
         "2024-07-22 16:51:42",
         "20",
         "2024-07-22"
        ],
        [
         "20",
         "blu",
         "2024-07-24 11:34:02",
         "21",
         "2024-07-24"
        ],
        [
         "21",
         "blu",
         "2024-07-24 15:13:42",
         "22",
         "2024-07-24"
        ],
        [
         "22",
         "blu",
         "2024-07-24 15:28:06",
         "23",
         "2024-07-24"
        ],
        [
         "23",
         "blu",
         "2024-07-24 15:39:38",
         "24",
         "2024-07-24"
        ],
        [
         "24",
         "blu",
         "2024-07-24 15:46:12",
         "25",
         "2024-07-24"
        ],
        [
         "25",
         "blu",
         "2024-07-24 16:11:50",
         "26",
         "2024-07-24"
        ],
        [
         "26",
         "blu",
         "2024-07-25 14:38:49",
         "27",
         "2024-07-25"
        ],
        [
         "27",
         "blu",
         "2024-07-25 14:53:23",
         "28",
         "2024-07-25"
        ],
        [
         "28",
         "blu",
         "2024-07-25 16:03:36",
         "29",
         "2024-07-25"
        ],
        [
         "29",
         "blu",
         "2024-07-26 09:57:09",
         "30",
         "2024-07-26"
        ],
        [
         "30",
         "blu",
         "2024-07-26 15:22:16",
         "31",
         "2024-07-26"
        ],
        [
         "31",
         "blu",
         "2024-07-27 12:41:26",
         "32",
         "2024-07-27"
        ],
        [
         "32",
         "blu",
         "2024-07-27 15:05:13",
         "33",
         "2024-07-27"
        ],
        [
         "33",
         "blu",
         "2024-07-27 16:07:58",
         "34",
         "2024-07-27"
        ],
        [
         "34",
         "blu",
         "2024-07-28 15:13:20",
         "35",
         "2024-07-28"
        ],
        [
         "35",
         "blu",
         "2024-07-28 16:00:58",
         "36",
         "2024-07-28"
        ],
        [
         "36",
         "blu",
         "2024-07-31 15:33:59",
         "37",
         "2024-07-31"
        ],
        [
         "37",
         "blu",
         "2024-08-09 09:02:08",
         "38",
         "2024-08-09"
        ],
        [
         "38",
         "blu",
         "2024-08-14 13:23:39",
         "39",
         "2024-08-14"
        ],
        [
         "39",
         "blv",
         "2024-07-11 07:51:19",
         "1",
         "2024-07-11"
        ],
        [
         "40",
         "blv",
         "2024-07-11 09:51:50",
         "2",
         "2024-07-11"
        ],
        [
         "41",
         "blv",
         "2024-07-11 12:57:24",
         "3",
         "2024-07-11"
        ],
        [
         "42",
         "blv",
         "2024-07-12 13:06:35",
         "4",
         "2024-07-12"
        ],
        [
         "43",
         "blv",
         "2024-07-12 15:11:37",
         "5",
         "2024-07-12"
        ],
        [
         "44",
         "blv",
         "2024-07-13 13:53:04",
         "6",
         "2024-07-13"
        ],
        [
         "45",
         "blv",
         "2024-07-14 09:50:02",
         "7",
         "2024-07-14"
        ],
        [
         "46",
         "blv",
         "2024-07-14 10:19:08",
         "8",
         "2024-07-14"
        ],
        [
         "47",
         "blv",
         "2024-07-14 11:42:42",
         "9",
         "2024-07-14"
        ],
        [
         "48",
         "blv",
         "2024-07-14 12:56:25",
         "10",
         "2024-07-14"
        ],
        [
         "49",
         "blv",
         "2024-07-14 13:11:13",
         "11",
         "2024-07-14"
        ]
       ],
       "shape": {
        "columns": 4,
        "rows": 294
       }
      },
      "text/html": [
       "<div>\n",
       "<style scoped>\n",
       "    .dataframe tbody tr th:only-of-type {\n",
       "        vertical-align: middle;\n",
       "    }\n",
       "\n",
       "    .dataframe tbody tr th {\n",
       "        vertical-align: top;\n",
       "    }\n",
       "\n",
       "    .dataframe thead th {\n",
       "        text-align: right;\n",
       "    }\n",
       "</style>\n",
       "<table border=\"1\" class=\"dataframe\">\n",
       "  <thead>\n",
       "    <tr style=\"text-align: right;\">\n",
       "      <th></th>\n",
       "      <th>color</th>\n",
       "      <th>visit_start</th>\n",
       "      <th>cumulative_count</th>\n",
       "      <th>date</th>\n",
       "    </tr>\n",
       "  </thead>\n",
       "  <tbody>\n",
       "    <tr>\n",
       "      <th>0</th>\n",
       "      <td>blu</td>\n",
       "      <td>2024-07-11 11:13:10</td>\n",
       "      <td>1</td>\n",
       "      <td>2024-07-11</td>\n",
       "    </tr>\n",
       "    <tr>\n",
       "      <th>1</th>\n",
       "      <td>blu</td>\n",
       "      <td>2024-07-12 15:33:24</td>\n",
       "      <td>2</td>\n",
       "      <td>2024-07-12</td>\n",
       "    </tr>\n",
       "    <tr>\n",
       "      <th>2</th>\n",
       "      <td>blu</td>\n",
       "      <td>2024-07-13 09:18:15</td>\n",
       "      <td>3</td>\n",
       "      <td>2024-07-13</td>\n",
       "    </tr>\n",
       "    <tr>\n",
       "      <th>3</th>\n",
       "      <td>blu</td>\n",
       "      <td>2024-07-13 13:59:28</td>\n",
       "      <td>4</td>\n",
       "      <td>2024-07-13</td>\n",
       "    </tr>\n",
       "    <tr>\n",
       "      <th>4</th>\n",
       "      <td>blu</td>\n",
       "      <td>2024-07-13 14:13:07</td>\n",
       "      <td>5</td>\n",
       "      <td>2024-07-13</td>\n",
       "    </tr>\n",
       "    <tr>\n",
       "      <th>...</th>\n",
       "      <td>...</td>\n",
       "      <td>...</td>\n",
       "      <td>...</td>\n",
       "      <td>...</td>\n",
       "    </tr>\n",
       "    <tr>\n",
       "      <th>289</th>\n",
       "      <td>yel</td>\n",
       "      <td>2024-07-27 18:05:23</td>\n",
       "      <td>30</td>\n",
       "      <td>2024-07-27</td>\n",
       "    </tr>\n",
       "    <tr>\n",
       "      <th>290</th>\n",
       "      <td>yel</td>\n",
       "      <td>2024-07-28 17:41:04</td>\n",
       "      <td>31</td>\n",
       "      <td>2024-07-28</td>\n",
       "    </tr>\n",
       "    <tr>\n",
       "      <th>291</th>\n",
       "      <td>yel</td>\n",
       "      <td>2024-07-29 12:43:35</td>\n",
       "      <td>32</td>\n",
       "      <td>2024-07-29</td>\n",
       "    </tr>\n",
       "    <tr>\n",
       "      <th>292</th>\n",
       "      <td>yel</td>\n",
       "      <td>2024-08-01 12:31:39</td>\n",
       "      <td>33</td>\n",
       "      <td>2024-08-01</td>\n",
       "    </tr>\n",
       "    <tr>\n",
       "      <th>293</th>\n",
       "      <td>yel</td>\n",
       "      <td>2024-08-16 09:52:07</td>\n",
       "      <td>34</td>\n",
       "      <td>2024-08-16</td>\n",
       "    </tr>\n",
       "  </tbody>\n",
       "</table>\n",
       "<p>294 rows × 4 columns</p>\n",
       "</div>"
      ],
      "text/plain": [
       "    color         visit_start  cumulative_count        date\n",
       "0     blu 2024-07-11 11:13:10                 1  2024-07-11\n",
       "1     blu 2024-07-12 15:33:24                 2  2024-07-12\n",
       "2     blu 2024-07-13 09:18:15                 3  2024-07-13\n",
       "3     blu 2024-07-13 13:59:28                 4  2024-07-13\n",
       "4     blu 2024-07-13 14:13:07                 5  2024-07-13\n",
       "..    ...                 ...               ...         ...\n",
       "289   yel 2024-07-27 18:05:23                30  2024-07-27\n",
       "290   yel 2024-07-28 17:41:04                31  2024-07-28\n",
       "291   yel 2024-07-29 12:43:35                32  2024-07-29\n",
       "292   yel 2024-08-01 12:31:39                33  2024-08-01\n",
       "293   yel 2024-08-16 09:52:07                34  2024-08-16\n",
       "\n",
       "[294 rows x 4 columns]"
      ]
     },
     "execution_count": 34,
     "metadata": {},
     "output_type": "execute_result"
    }
   ],
   "source": [
    "cumulative_color_visits"
   ]
  },
  {
   "cell_type": "code",
   "execution_count": null,
   "metadata": {},
   "outputs": [
    {
     "name": "stderr",
     "output_type": "stream",
     "text": [
      "<>:24: SyntaxWarning: invalid escape sequence '\\i'\n",
      "<>:24: SyntaxWarning: invalid escape sequence '\\i'\n",
      "/tmp/ipykernel_1555528/4121611675.py:24: SyntaxWarning: invalid escape sequence '\\i'\n",
      "  ax.set_ylabel('$\\it{Bombus}$ visits')\n"
     ]
    },
    {
     "data": {
      "image/png": "[encoded data removed]",
      "text/plain": [
       "<Figure size 650x350 with 2 Axes>"
      ]
     },
     "metadata": {},
     "output_type": "display_data"
    }
   ],
   "source": [
    "# CUMULATIVE COUNTS BY COLOR, ALL PERIODS\n",
    "\n",
    "fig, axes = plt.subplots(2, 1, figsize=(6.5, 3.5), gridspec_kw={'height_ratios': [3, 2]}, sharex=True)\n",
    "\n",
    "period_subset_visits = cumulative_color_visits[\n",
    "    (cumulative_color_visits['visit_start'] >= clover_start) & (cumulative_color_visits['visit_start'] <= clover_end)\n",
    "].copy()\n",
    "\n",
    "period_subset_visits['visit_start_days'] = (period_subset_visits['visit_start'] - clover_start).dt.total_seconds() / (24 * 3600)\n",
    "    \n",
    "ax = axes[0]\n",
    "\n",
    "for key, group in period_subset_visits.groupby('color'):\n",
    "    color_key = key\n",
    "    line_color = color_map.get(color_key, 'k')\n",
    "    ax.plot(group['visit_start_days'], group['cumulative_count'], label=key, color=line_color)\n",
    "\n",
    "# ax.set_title(f'{clover_start.date()} to {clover_end.date()}')\n",
    "ax.set_xticks(range(20))\n",
    "ax.set_xticklabels([])\n",
    "ax.set_xlim(0, 19)\n",
    "ax.set_ylim(0, 100)\n",
    "\n",
    "ax.set_ylabel('$\\it{Bombus}$ visits')\n",
    "\n",
    "ax = axes[1]\n",
    "\n",
    "period_subset = cam_ints[\n",
    "    cam_ints['interval'].apply(lambda x: clover_start <= x.left and x.right <= clover_end)\n",
    "]\n",
    "\n",
    "for _, row in period_subset.iterrows():\n",
    "    ax.plot([(row['interval'].left - clover_start).total_seconds() / (24 * 3600), \n",
    "             (row['interval'].right - clover_start).total_seconds() / (24 * 3600)], \n",
    "            [row['pi'], row['pi']], color=color_map[row['color']])\n",
    "\n",
    "\n",
    "# ax.set_xticks(range(7))\n",
    "ax.set_xticklabels(range(20))\n",
    "ax.set_yticks(combined_df['pi'].unique())\n",
    "ax.set_yticklabels(combined_df['pi'].unique())\n",
    "ax.set_xlabel('Day')\n",
    "\n",
    "ax.set_ylabel('Pi number')\n",
    "\n",
    "plt.tight_layout()\n",
    "# plt.savefig('figs/visits_intervals.png', format='png', dpi=300 )"
   ]
  },
  {
   "cell_type": "code",
   "execution_count": null,
   "metadata": {},
   "outputs": [],
   "source": [
    "# fig, axes = plt.subplots(2, 1, figsize=(6.5, 3.5), gridspec_kw={'height_ratios': [3, 2]}, sharex=True)\n",
    "\n",
    "# # period_subset_visits = cumulative_color_visits[\n",
    "# #     (cumulative_color_visits['visit_start'] >= clover_start) & (cumulative_color_visits['visit_start'] <= clover_end)\n",
    "# # ].copy()\n",
    "\n",
    "# # period_subset_visits['visit_start_days'] = (period_subset_visits['visit_start'] - clover_start).dt.total_seconds() / (24 * 3600)    \n",
    "# ax = axes[0]\n",
    "\n",
    "# for key, group in period_subset_visits.groupby('color'):\n",
    "#     color_key = key\n",
    "#     line_color = color_map.get(color_key, 'k')\n",
    "#     ax.plot(group['visit_start_days'], group['cumulative_count'], label=key, color=line_color)\n",
    "\n",
    "# ax.set_xticks(range(20))\n",
    "# ax.set_xticklabels([])\n",
    "# ax.set_xlim(0, 19)\n",
    "# ax.set_ylim(0, 100)\n",
    "# ax.set_ylabel('$\\it{Bombus}$ visits')\n",
    "# ax = axes[1]\n",
    "\n",
    "# period_subset = cam_ints[\n",
    "#     cam_ints['interval'].apply(lambda x: clover_start <= x.left and x.right <= clover_end)\n",
    "# ]\n",
    "\n",
    "# for _, row in period_subset.iterrows():\n",
    "#     ax.hlines(\n",
    "#         y=row['pi'],\n",
    "#         xmin=(row['interval'].left - clover_start).total_seconds() / (24 * 3600),\n",
    "#         xmax=(row['interval'].right - clover_start).total_seconds() / (24 * 3600),\n",
    "#         color=color_map[row['color']],\n",
    "#         linewidth=7\n",
    "# )\n",
    "\n",
    "# ax.set_xticklabels(range(20))\n",
    "# ax.set_yticks(combined_df['pi'].unique())\n",
    "# ax.set_yticklabels(combined_df['pi'].unique())\n",
    "# ax.set_xlabel('Day')\n",
    "# ax.set_ylabel('Pi number')\n",
    "\n",
    "# plt.tight_layout()\n",
    "# plt.savefig('figs/visits_intervals.png', format='png', dpi=300)"
   ]
  },
  {
   "cell_type": "code",
   "execution_count": null,
   "metadata": {},
   "outputs": [
    {
     "data": {
      "application/vnd.microsoft.datawrangler.viewer.v0+json": {
       "columns": [
        {
         "name": "index",
         "rawType": "int64",
         "type": "integer"
        },
        {
         "name": "pi",
         "rawType": "int64",
         "type": "integer"
        },
        {
         "name": "interval",
         "rawType": "interval[datetime64[ns], both]",
         "type": "unknown"
        },
        {
         "name": "color",
         "rawType": "object",
         "type": "string"
        },
        {
         "name": "duration",
         "rawType": "timedelta64[ns]",
         "type": "unknown"
        }
       ],
       "ref": "590904fd-b6e3-4edf-b376-a2aed76c4385",
       "rows": [
        [
         "0",
         "1",
         "[2024-07-11 05:02:04, 2024-07-11 16:00:01]",
         "cnt",
         "0 days 10:57:57"
        ],
        [
         "1",
         "1",
         "[2024-07-12 05:02:02, 2024-07-12 16:00:00]",
         "cnt",
         "0 days 10:57:58"
        ],
        [
         "2",
         "1",
         "[2024-07-13 05:02:00, 2024-07-13 13:41:57]",
         "cnt",
         "0 days 08:39:57"
        ],
        [
         "3",
         "1",
         "[2024-07-13 13:44:28, 2024-07-13 15:59:59]",
         "cnt",
         "0 days 02:15:31"
        ],
        [
         "4",
         "1",
         "[2024-07-14 05:02:33, 2024-07-14 16:00:00]",
         "cnt",
         "0 days 10:57:27"
        ],
        [
         "5",
         "1",
         "[2024-07-15 05:02:01, 2024-07-15 14:56:59]",
         "cnt",
         "0 days 09:54:58"
        ],
        [
         "6",
         "1",
         "[2024-07-18 11:10:32, 2024-07-18 19:59:59]",
         "grn",
         "0 days 08:49:27"
        ],
        [
         "7",
         "1",
         "[2024-07-19 05:01:04, 2024-07-19 20:00:00]",
         "grn",
         "0 days 14:58:56"
        ],
        [
         "8",
         "1",
         "[2024-07-20 05:01:04, 2024-07-20 13:11:53]",
         "grn",
         "0 days 08:10:49"
        ],
        [
         "9",
         "1",
         "[2024-07-20 13:23:52, 2024-07-20 13:24:34]",
         "grn",
         "0 days 00:00:42"
        ],
        [
         "10",
         "1",
         "[2024-07-20 13:36:32, 2024-07-20 13:36:33]",
         "grn",
         "0 days 00:00:01"
        ],
        [
         "11",
         "1",
         "[2024-07-20 21:03:51, 2024-07-20 21:03:51]",
         "grn",
         "0 days 00:00:00"
        ],
        [
         "12",
         "1",
         "[2024-07-21 05:01:05, 2024-07-21 20:00:00]",
         "grn",
         "0 days 14:58:55"
        ],
        [
         "13",
         "1",
         "[2024-07-22 05:01:05, 2024-07-22 19:59:59]",
         "grn",
         "0 days 14:58:54"
        ],
        [
         "14",
         "1",
         "[2024-07-23 05:01:05, 2024-07-23 08:22:57]",
         "grn",
         "0 days 03:21:52"
        ],
        [
         "15",
         "1",
         "[2024-07-23 20:31:59, 2024-07-23 20:31:59]",
         "grn",
         "0 days 00:00:00"
        ],
        [
         "16",
         "1",
         "[2024-07-24 06:00:57, 2024-07-24 19:59:59]",
         "blv",
         "0 days 13:59:02"
        ],
        [
         "17",
         "1",
         "[2024-07-25 06:00:57, 2024-07-25 19:36:52]",
         "blv",
         "0 days 13:35:55"
        ],
        [
         "18",
         "1",
         "[2024-07-25 19:48:42, 2024-07-25 19:49:24]",
         "blv",
         "0 days 00:00:42"
        ],
        [
         "19",
         "1",
         "[2024-07-25 20:33:14, 2024-07-25 20:33:14]",
         "blv",
         "0 days 00:00:00"
        ],
        [
         "20",
         "1",
         "[2024-07-25 20:45:53, 2024-07-25 20:45:53]",
         "blv",
         "0 days 00:00:00"
        ],
        [
         "21",
         "1",
         "[2024-07-26 06:01:04, 2024-07-26 20:00:00]",
         "blv",
         "0 days 13:58:56"
        ],
        [
         "22",
         "1",
         "[2024-07-27 06:01:06, 2024-07-27 14:37:54]",
         "blv",
         "0 days 08:36:48"
        ],
        [
         "23",
         "1",
         "[2024-07-27 14:39:27, 2024-07-27 19:59:59]",
         "blv",
         "0 days 05:20:32"
        ],
        [
         "24",
         "1",
         "[2024-07-28 06:00:57, 2024-07-28 19:59:59]",
         "blv",
         "0 days 13:59:02"
        ],
        [
         "25",
         "1",
         "[2024-07-29 06:00:58, 2024-07-29 19:22:42]",
         "blv",
         "0 days 13:21:44"
        ],
        [
         "26",
         "1",
         "[2024-07-29 19:25:05, 2024-07-29 19:59:59]",
         "blv",
         "0 days 00:34:54"
        ],
        [
         "74",
         "2",
         "[2024-07-11 05:02:07, 2024-07-11 16:00:00]",
         "blv",
         "0 days 10:57:53"
        ],
        [
         "75",
         "2",
         "[2024-07-12 05:01:57, 2024-07-12 16:00:00]",
         "blv",
         "0 days 10:58:03"
        ],
        [
         "76",
         "2",
         "[2024-07-13 05:02:01, 2024-07-13 13:30:43]",
         "blv",
         "0 days 08:28:42"
        ],
        [
         "77",
         "2",
         "[2024-07-13 17:44:18, 2024-07-13 17:44:18]",
         "blv",
         "0 days 00:00:00"
        ],
        [
         "78",
         "2",
         "[2024-07-13 18:51:34, 2024-07-13 18:51:34]",
         "blv",
         "0 days 00:00:00"
        ],
        [
         "79",
         "2",
         "[2024-07-14 05:01:59, 2024-07-14 15:59:59]",
         "blv",
         "0 days 10:58:00"
        ],
        [
         "80",
         "2",
         "[2024-07-15 05:01:58, 2024-07-15 14:01:13]",
         "blv",
         "0 days 08:59:15"
        ],
        [
         "81",
         "2",
         "[2024-07-18 10:34:11, 2024-07-18 20:00:00]",
         "blv",
         "0 days 09:25:49"
        ],
        [
         "82",
         "2",
         "[2024-07-19 05:01:03, 2024-07-19 19:59:59]",
         "blv",
         "0 days 14:58:56"
        ],
        [
         "83",
         "2",
         "[2024-07-20 05:01:04, 2024-07-20 08:35:34]",
         "blv",
         "0 days 03:34:30"
        ],
        [
         "84",
         "2",
         "[2024-07-20 08:47:34, 2024-07-20 08:48:11]",
         "blv",
         "0 days 00:00:37"
        ],
        [
         "85",
         "2",
         "[2024-07-20 09:00:10, 2024-07-20 09:00:11]",
         "blv",
         "0 days 00:00:01"
        ],
        [
         "86",
         "2",
         "[2024-07-20 21:02:07, 2024-07-20 21:02:07]",
         "blv",
         "0 days 00:00:00"
        ],
        [
         "87",
         "2",
         "[2024-07-20 21:20:56, 2024-07-20 21:20:56]",
         "blv",
         "0 days 00:00:00"
        ],
        [
         "88",
         "2",
         "[2024-07-21 05:01:05, 2024-07-21 20:00:00]",
         "blv",
         "0 days 14:58:55"
        ],
        [
         "89",
         "2",
         "[2024-07-22 05:01:04, 2024-07-22 17:37:32]",
         "blv",
         "0 days 12:36:28"
        ],
        [
         "90",
         "2",
         "[2024-07-22 17:49:31, 2024-07-22 17:50:35]",
         "blv",
         "0 days 00:01:04"
        ],
        [
         "91",
         "2",
         "[2024-07-22 18:02:35, 2024-07-22 18:03:05]",
         "blv",
         "0 days 00:00:30"
        ],
        [
         "92",
         "2",
         "[2024-07-22 18:15:04, 2024-07-22 18:15:19]",
         "blv",
         "0 days 00:00:15"
        ],
        [
         "93",
         "2",
         "[2024-07-22 18:27:18, 2024-07-22 18:27:24]",
         "blv",
         "0 days 00:00:06"
        ],
        [
         "94",
         "2",
         "[2024-07-22 18:39:23, 2024-07-22 18:39:27]",
         "blv",
         "0 days 00:00:04"
        ],
        [
         "95",
         "2",
         "[2024-07-22 18:51:26, 2024-07-22 18:51:26]",
         "blv",
         "0 days 00:00:00"
        ],
        [
         "96",
         "2",
         "[2024-07-22 19:03:25, 2024-07-22 19:03:25]",
         "blv",
         "0 days 00:00:00"
        ]
       ],
       "shape": {
        "columns": 4,
        "rows": 338
       }
      },
      "text/html": [
       "<div>\n",
       "<style scoped>\n",
       "    .dataframe tbody tr th:only-of-type {\n",
       "        vertical-align: middle;\n",
       "    }\n",
       "\n",
       "    .dataframe tbody tr th {\n",
       "        vertical-align: top;\n",
       "    }\n",
       "\n",
       "    .dataframe thead th {\n",
       "        text-align: right;\n",
       "    }\n",
       "</style>\n",
       "<table border=\"1\" class=\"dataframe\">\n",
       "  <thead>\n",
       "    <tr style=\"text-align: right;\">\n",
       "      <th></th>\n",
       "      <th>pi</th>\n",
       "      <th>interval</th>\n",
       "      <th>color</th>\n",
       "      <th>duration</th>\n",
       "    </tr>\n",
       "  </thead>\n",
       "  <tbody>\n",
       "    <tr>\n",
       "      <th>0</th>\n",
       "      <td>1</td>\n",
       "      <td>[2024-07-11 05:02:04, 2024-07-11 16:00:01]</td>\n",
       "      <td>cnt</td>\n",
       "      <td>0 days 10:57:57</td>\n",
       "    </tr>\n",
       "    <tr>\n",
       "      <th>1</th>\n",
       "      <td>1</td>\n",
       "      <td>[2024-07-12 05:02:02, 2024-07-12 16:00:00]</td>\n",
       "      <td>cnt</td>\n",
       "      <td>0 days 10:57:58</td>\n",
       "    </tr>\n",
       "    <tr>\n",
       "      <th>2</th>\n",
       "      <td>1</td>\n",
       "      <td>[2024-07-13 05:02:00, 2024-07-13 13:41:57]</td>\n",
       "      <td>cnt</td>\n",
       "      <td>0 days 08:39:57</td>\n",
       "    </tr>\n",
       "    <tr>\n",
       "      <th>3</th>\n",
       "      <td>1</td>\n",
       "      <td>[2024-07-13 13:44:28, 2024-07-13 15:59:59]</td>\n",
       "      <td>cnt</td>\n",
       "      <td>0 days 02:15:31</td>\n",
       "    </tr>\n",
       "    <tr>\n",
       "      <th>4</th>\n",
       "      <td>1</td>\n",
       "      <td>[2024-07-14 05:02:33, 2024-07-14 16:00:00]</td>\n",
       "      <td>cnt</td>\n",
       "      <td>0 days 10:57:27</td>\n",
       "    </tr>\n",
       "    <tr>\n",
       "      <th>...</th>\n",
       "      <td>...</td>\n",
       "      <td>...</td>\n",
       "      <td>...</td>\n",
       "      <td>...</td>\n",
       "    </tr>\n",
       "    <tr>\n",
       "      <th>708</th>\n",
       "      <td>10</td>\n",
       "      <td>[2024-07-27 06:01:05, 2024-07-27 14:42:45]</td>\n",
       "      <td>blu</td>\n",
       "      <td>0 days 08:41:40</td>\n",
       "    </tr>\n",
       "    <tr>\n",
       "      <th>709</th>\n",
       "      <td>10</td>\n",
       "      <td>[2024-07-27 14:44:20, 2024-07-27 19:59:59]</td>\n",
       "      <td>blu</td>\n",
       "      <td>0 days 05:15:39</td>\n",
       "    </tr>\n",
       "    <tr>\n",
       "      <th>710</th>\n",
       "      <td>10</td>\n",
       "      <td>[2024-07-28 06:00:57, 2024-07-28 19:59:59]</td>\n",
       "      <td>blu</td>\n",
       "      <td>0 days 13:59:02</td>\n",
       "    </tr>\n",
       "    <tr>\n",
       "      <th>711</th>\n",
       "      <td>10</td>\n",
       "      <td>[2024-07-29 06:00:56, 2024-07-29 18:08:48]</td>\n",
       "      <td>blu</td>\n",
       "      <td>0 days 12:07:52</td>\n",
       "    </tr>\n",
       "    <tr>\n",
       "      <th>712</th>\n",
       "      <td>10</td>\n",
       "      <td>[2024-07-29 19:26:55, 2024-07-29 19:59:59]</td>\n",
       "      <td>blu</td>\n",
       "      <td>0 days 00:33:04</td>\n",
       "    </tr>\n",
       "  </tbody>\n",
       "</table>\n",
       "<p>338 rows × 4 columns</p>\n",
       "</div>"
      ],
      "text/plain": [
       "     pi                                    interval color        duration\n",
       "0     1  [2024-07-11 05:02:04, 2024-07-11 16:00:01]   cnt 0 days 10:57:57\n",
       "1     1  [2024-07-12 05:02:02, 2024-07-12 16:00:00]   cnt 0 days 10:57:58\n",
       "2     1  [2024-07-13 05:02:00, 2024-07-13 13:41:57]   cnt 0 days 08:39:57\n",
       "3     1  [2024-07-13 13:44:28, 2024-07-13 15:59:59]   cnt 0 days 02:15:31\n",
       "4     1  [2024-07-14 05:02:33, 2024-07-14 16:00:00]   cnt 0 days 10:57:27\n",
       "..   ..                                         ...   ...             ...\n",
       "708  10  [2024-07-27 06:01:05, 2024-07-27 14:42:45]   blu 0 days 08:41:40\n",
       "709  10  [2024-07-27 14:44:20, 2024-07-27 19:59:59]   blu 0 days 05:15:39\n",
       "710  10  [2024-07-28 06:00:57, 2024-07-28 19:59:59]   blu 0 days 13:59:02\n",
       "711  10  [2024-07-29 06:00:56, 2024-07-29 18:08:48]   blu 0 days 12:07:52\n",
       "712  10  [2024-07-29 19:26:55, 2024-07-29 19:59:59]   blu 0 days 00:33:04\n",
       "\n",
       "[338 rows x 4 columns]"
      ]
     },
     "execution_count": 37,
     "metadata": {},
     "output_type": "execute_result"
    }
   ],
   "source": [
    "period_subset"
   ]
  },
  {
   "cell_type": "code",
   "execution_count": null,
   "metadata": {},
   "outputs": [
    {
     "name": "stderr",
     "output_type": "stream",
     "text": [
      "/tmp/ipykernel_1555528/381565571.py:14: FutureWarning: DataFrame.fillna with 'method' is deprecated and will raise in a future version. Use obj.ffill() or obj.bfill() instead.\n",
      "  pivoted = daily_counts.pivot(index='day', columns='color', values='cum_count').fillna(method='ffill').fillna(0)\n"
     ]
    },
    {
     "data": {
      "image/png": "[encoded data removed]",
      "text/plain": [
       "<Figure size 640x480 with 1 Axes>"
      ]
     },
     "metadata": {},
     "output_type": "display_data"
    }
   ],
   "source": [
    "day0 = combined_df['datetime'].dt.floor('D').min()\n",
    "combined_df['day'] = (combined_df['datetime'].dt.floor('D') - day0).dt.days\n",
    "\n",
    "daily_counts = (\n",
    "    combined_df\n",
    "    .groupby(['color', 'day'])\n",
    "    .size()\n",
    "    .reset_index(name='count')\n",
    ")\n",
    "\n",
    "daily_counts['cum_count'] = daily_counts.groupby('color')['count'].cumsum()\n",
    "daily_counts = daily_counts[daily_counts['day'] <= 18]\n",
    "\n",
    "pivoted = daily_counts.pivot(index='day', columns='color', values='cum_count').fillna(method='ffill').fillna(0)\n",
    "\n",
    "fig, ax = plt.subplots()\n",
    "pivoted.plot(\n",
    "    kind=\"bar\",\n",
    "    ax=ax,\n",
    "    width=0.8,\n",
    "    color=[color_map.get(col, 'k') for col in pivoted.columns]\n",
    ")\n",
    "\n",
    "ax.set_xlabel(\"Sample day\")\n",
    "ax.set_ylabel(\"Cumulative count of Bombus images\\n(log scale)\")\n",
    "ax.set_yscale(\"log\")\n",
    "ax.get_legend().remove()\n",
    "plt.show()\n"
   ]
  },
  {
   "cell_type": "code",
   "execution_count": null,
   "metadata": {},
   "outputs": [
    {
     "data": {
      "image/png": "[encoded data removed]",
      "text/plain": [
       "<Figure size 640x480 with 1 Axes>"
      ]
     },
     "metadata": {},
     "output_type": "display_data"
    }
   ],
   "source": [
    "\n",
    "day0 = combined_df['datetime'].dt.floor('D').min()\n",
    "combined_df['day'] = (combined_df['datetime'].dt.floor('D') - day0).dt.days\n",
    "\n",
    "SKIPPED_DAYS = {6}\n",
    "\n",
    "def day_to_display_index(d_cal: int) -> int:\n",
    "    \"\"\"Map calendar day index -> compressed display index, skipping SKIPPED_DAYS.\"\"\"\n",
    "    return d_cal - sum(1 for sd in SKIPPED_DAYS if sd < d_cal)\n",
    "\n",
    "daily_counts = (\n",
    "    combined_df\n",
    "    .groupby('day')\n",
    "    .size()\n",
    "    .reset_index(name='count')\n",
    ")\n",
    "\n",
    "daily_counts['cum_count'] = daily_counts['count']\n",
    "\n",
    "daily_counts = daily_counts[(daily_counts['day'] <= 18) & (~daily_counts['day'].isin(SKIPPED_DAYS))]\n",
    "\n",
    "daily_counts['disp_day'] = daily_counts['day'].apply(day_to_display_index)\n",
    "fig, ax = plt.subplots()\n",
    "ax.bar(daily_counts['disp_day'], daily_counts['cum_count'], color='gray', width=0.8)\n",
    "\n",
    "ax.set_xlabel(\"Sample day\")\n",
    "ax.set_ylabel(\"Cumulative count of Bombus images\")\n",
    "# ax.set_yscale(\"log\")\n",
    "\n",
    "# set ticks to show compressed day labels\n",
    "ax.set_xticks(daily_counts['disp_day'])\n",
    "ax.set_xticklabels(daily_counts['disp_day'])\n",
    "\n",
    "plt.show()\n"
   ]
  },
  {
   "cell_type": "code",
   "execution_count": null,
   "metadata": {},
   "outputs": [
    {
     "name": "stderr",
     "output_type": "stream",
     "text": [
      "/tmp/ipykernel_1555528/3869832065.py:140: MatplotlibDeprecationWarning: The BrokenBarHCollection class was deprecated in Matplotlib 3.7 and will be removed two minor releases later.\n",
      "  coll = BrokenBarHCollection(\n"
     ]
    },
    {
     "data": {
      "text/plain": [
       "Text(0.5, 0, 'Sampling day')"
      ]
     },
     "execution_count": 40,
     "metadata": {},
     "output_type": "execute_result"
    },
    {
     "data": {
      "image/png": "[encoded data removed]",
      "text/plain": [
       "<Figure size 400x200 with 1 Axes>"
      ]
     },
     "metadata": {},
     "output_type": "display_data"
    }
   ],
   "source": [
    "import datetime as dt\n",
    "from matplotlib.collections import BrokenBarHCollection\n",
    "pis = sorted(period_subset['pi'].unique())\n",
    "pi_to_band = {pi: i for i, pi in enumerate(pis)}\n",
    "band_height = 1.0\n",
    "segments_by_pi = {pi: [] for pi in pis}\n",
    "colors_by_pi   = {pi: [] for pi in pis}\n",
    "\n",
    "day0_date = clover_start.date()\n",
    "SKIPPED_DAYS = {6}\n",
    "\n",
    "def day_to_display_index(d_cal: int) -> int:\n",
    "    \"\"\"Map calendar day index -> compressed display index, skipping SKIPPED_DAYS.\"\"\"\n",
    "    return d_cal - sum(1 for sd in SKIPPED_DAYS if sd < d_cal)\n",
    "\n",
    "def day_window(datet):\n",
    "    \"\"\"Return (calendar_day_index, window_start_dt, window_end_dt) for a given datetime.\"\"\"\n",
    "    d = (datet.date() - day0_date).days\n",
    "    if d <= 6:\n",
    "        ws, we = (5, 0), (16, 0)\n",
    "    elif d > 6 and d <= 12:\n",
    "        ws, we = (5, 0), (19, 0)\n",
    "    else:\n",
    "        ws, we = (6, 0), (20, 0)\n",
    "\n",
    "    tz = getattr(datet, 'tzinfo', None)\n",
    "    wstart = dt.datetime.combine(datet.date(), dt.time(*ws), tz)\n",
    "    wend   = dt.datetime.combine(datet.date(), dt.time(*we), tz)\n",
    "    return d, wstart, wend\n",
    "\n",
    "def compressed_x(t):\n",
    "    \"\"\"Datetime -> compressed x where each kept day spans 1 unit and skipped days are removed.\"\"\"\n",
    "    d_cal, wstart, wend = day_window(t)\n",
    "    base = float(day_to_display_index(d_cal)) \n",
    "\n",
    "    if t <= wstart:\n",
    "        return base\n",
    "    if t >= wend:\n",
    "        return base + 1.0\n",
    "    frac = (t - wstart) / (wend - wstart)\n",
    "    return base + float(frac)\n",
    "\n",
    "def overlaps_skipped(interval):\n",
    "    dL = (interval.left.date()  - day0_date).days\n",
    "    dR = (interval.right.date() - day0_date).days\n",
    "    return (dL in SKIPPED_DAYS) or (dR in SKIPPED_DAYS)\n",
    "\n",
    "period_subset = cam_ints[\n",
    "    cam_ints['interval'].apply(lambda x: clover_start <= x.left and x.right <= clover_end)\n",
    "]\n",
    "\n",
    "fig, ax = plt.subplots(figsize=(4,2))\n",
    "import datetime as dt\n",
    "\n",
    "day0_date = clover_start.date()\n",
    "SKIPPED_DAYS = {6}\n",
    "\n",
    "def day_to_display_index(d_cal: int) -> int:\n",
    "    \"\"\"Map calendar day index -> compressed display index, skipping SKIPPED_DAYS.\"\"\"\n",
    "    return d_cal - sum(1 for sd in SKIPPED_DAYS if sd < d_cal)\n",
    "\n",
    "def day_window(datet):\n",
    "    \"\"\"Return (calendar_day_index, window_start_dt, window_end_dt) for a given datetime.\"\"\"\n",
    "    d = (datet.date() - day0_date).days\n",
    "    if d <= 6:\n",
    "        ws, we = (5, 0), (16, 0)\n",
    "    elif d > 6 and d <= 12:\n",
    "        ws, we = (5, 0), (19, 0)\n",
    "    else:\n",
    "        ws, we = (6, 0), (20, 0)\n",
    "\n",
    "    tz = getattr(datet, 'tzinfo', None)\n",
    "    wstart = dt.datetime.combine(datet.date(), dt.time(*ws), tz)\n",
    "    wend   = dt.datetime.combine(datet.date(), dt.time(*we), tz)\n",
    "    return d, wstart, wend\n",
    "\n",
    "def compressed_x(t):\n",
    "    \"\"\"Datetime -> compressed x where each kept day spans 1 unit and skipped days are removed.\"\"\"\n",
    "    d_cal, wstart, wend = day_window(t)\n",
    "    base = float(day_to_display_index(d_cal))\n",
    "\n",
    "    if t <= wstart:\n",
    "        return base\n",
    "    if t >= wend:\n",
    "        return base + 1.0\n",
    "    frac = (t - wstart) / (wend - wstart)\n",
    "    return base + float(frac)\n",
    "\n",
    "TOL = 1e-12\n",
    "ROUND = 12\n",
    "\n",
    "def _rx(x):\n",
    "    return float(round(x, ROUND))\n",
    "\n",
    "pis = sorted(period_subset['pi'].unique())\n",
    "segments_by_pi = {pi: [] for pi in pis}\n",
    "\n",
    "def add_seg(pi, ldt, rdt, color_key):\n",
    "    x1 = _rx(compressed_x(ldt))\n",
    "    x2 = _rx(compressed_x(rdt))\n",
    "    if x2 <= x1 + TOL:\n",
    "        return\n",
    "    segments_by_pi[pi].append([x1, x2, color_map[color_key]])\n",
    "\n",
    "for _, row in period_subset.iterrows():\n",
    "    left, right = row['interval'].left, row['interval'].right\n",
    "    if left.date() != right.date():\n",
    "        _, _, wendL = day_window(left)\n",
    "        _, wstartR, _ = day_window(right)\n",
    "        add_seg(row['pi'], left, min(right, wendL), row['color'])\n",
    "        add_seg(row['pi'], max(right, wstartR), right, row['color'])\n",
    "    else:\n",
    "        add_seg(row['pi'], left, right, row['color'])\n",
    "\n",
    "for pi in pis:\n",
    "    segs = sorted(segments_by_pi[pi], key=lambda s: (s[0], s[1]))\n",
    "    snapped = []\n",
    "    for seg in segs:\n",
    "        x1, x2, c = seg\n",
    "        if not snapped:\n",
    "            snapped.append([x1, x2, c])\n",
    "            continue\n",
    "\n",
    "        px1, px2, pc = snapped[-1]\n",
    "        if x1 <= px2 + TOL:\n",
    "            x1 = px2  \n",
    "        if c == pc and x1 <= px2 + TOL:\n",
    "            snapped[-1][1] = max(px2, x2)\n",
    "        else:\n",
    "            snapped.append([x1, x2, c])\n",
    "\n",
    "    segments_by_pi[pi] = snapped\n",
    "\n",
    "band_height = 1.0\n",
    "pi_to_band = {pi: i for i, pi in enumerate(pis)}\n",
    "\n",
    "for pi in pis:\n",
    "    y0 = pi_to_band[pi]\n",
    "    for x1, x2, col in segments_by_pi[pi]:\n",
    "        coll = BrokenBarHCollection(\n",
    "            [(x1, x2 - x1)],\n",
    "            (y0, band_height),\n",
    "            facecolors=col,\n",
    "            edgecolors='none',\n",
    "            linewidths=0,     \n",
    "            antialiased=False, \n",
    "            snap=True             \n",
    "        )\n",
    "        ax.add_collection(coll)\n",
    "\n",
    "ax.set_yticks([pi_to_band[pi] + band_height/2 for pi in pis])\n",
    "ax.set_yticklabels([str(pi) for pi in pis])\n",
    "ax.set_ylim(-0.01, len(pis))\n",
    "\n",
    "if not period_subset.empty:\n",
    "    dmins = (period_subset['interval'].map(lambda x: (x.left.date()  - day0_date).days)).min()\n",
    "    dmaxs = (period_subset['interval'].map(lambda x: (x.right.date() - day0_date).days)).max()\n",
    "\n",
    "    cal_days_kept = [d for d in range(dmins, dmaxs + 1) if d not in SKIPPED_DAYS]\n",
    "    disp_days     = [day_to_display_index(d) for d in cal_days_kept]\n",
    "\n",
    "    ax.set_xticks(disp_days+[18])\n",
    "    ax.set_xlim(min(disp_days), max(disp_days) + 1)\n",
    "    ax.set_xticklabels([f\"{d}\" for d in disp_days+[18]])\n",
    "\n",
    "ax.set_xlabel(\"Sampling day\")\n"
   ]
  },
  {
   "cell_type": "code",
   "execution_count": null,
   "metadata": {},
   "outputs": [
    {
     "name": "stderr",
     "output_type": "stream",
     "text": [
      "/tmp/ipykernel_1555528/1538155895.py:106: MatplotlibDeprecationWarning: The BrokenBarHCollection class was deprecated in Matplotlib 3.7 and will be removed two minor releases later.\n",
      "  coll = BrokenBarHCollection(\n"
     ]
    },
    {
     "data": {
      "image/png": "[encoded data removed]",
      "text/plain": [
       "<Figure size 450x300 with 2 Axes>"
      ]
     },
     "metadata": {},
     "output_type": "display_data"
    }
   ],
   "source": [
    "import pandas as pd\n",
    "import matplotlib.pyplot as plt\n",
    "import datetime as dt\n",
    "from matplotlib.collections import BrokenBarHCollection\n",
    "\n",
    "combined_df['datetime'] = pd.to_datetime(combined_df['datetime'])\n",
    "day0 = combined_df['datetime'].dt.floor('D').min()\n",
    "combined_df['day'] = (combined_df['datetime'].dt.floor('D') - day0).dt.days\n",
    "SKIPPED_DAYS = {6}\n",
    "\n",
    "def day_to_display_index(d_cal: int) -> int:\n",
    "    return d_cal - sum(1 for sd in SKIPPED_DAYS if sd < d_cal)\n",
    "\n",
    "daily_counts = (\n",
    "    combined_df\n",
    "    .groupby('day')\n",
    "    .size()\n",
    "    .reset_index(name='count')\n",
    ")\n",
    "daily_counts['cum_count'] = daily_counts['count'].cumsum()\n",
    "daily_counts = daily_counts[(daily_counts['day'] <= 18) & (~daily_counts['day'].isin(SKIPPED_DAYS))]\n",
    "daily_counts['disp_day'] = daily_counts['day'].apply(day_to_display_index)\n",
    "\n",
    "fig, (ax1, ax2) = plt.subplots(2, 1, figsize=(4.5, 3), sharex=True, gridspec_kw={'height_ratios':[1,1]})\n",
    "\n",
    "ax1.bar(daily_counts['disp_day'] + 0.5, daily_counts['count'], color='gray', width=0.8)\n",
    "ax1.set_ylabel(\"Bombus image\\ncount (log scale)\")\n",
    "ax1.set_yscale(\"log\")\n",
    "\n",
    "day0_date = clover_start.date()\n",
    "\n",
    "def day_window(datet):\n",
    "    d = (datet.date() - day0_date).days\n",
    "    if d <= 6:\n",
    "        ws, we = (5, 0), (16, 0)\n",
    "    elif d > 6 and d <= 12:\n",
    "        ws, we = (5, 0), (19, 0)\n",
    "    else:\n",
    "        ws, we = (6, 0), (20, 0)\n",
    "    tz = getattr(datet, 'tzinfo', None)\n",
    "    wstart = dt.datetime.combine(datet.date(), dt.time(*ws), tz)\n",
    "    wend   = dt.datetime.combine(datet.date(), dt.time(*we), tz)\n",
    "    return d, wstart, wend\n",
    "\n",
    "def compressed_x(t):\n",
    "    d_cal, wstart, wend = day_window(t)\n",
    "    base = float(day_to_display_index(d_cal))\n",
    "    if t <= wstart:\n",
    "        return base\n",
    "    if t >= wend:\n",
    "        return base + 1.0\n",
    "    frac = (t - wstart) / (wend - wstart)\n",
    "    return base + float(frac)\n",
    "\n",
    "TOL = 1e-12\n",
    "ROUND = 12\n",
    "def _rx(x): return float(round(x, ROUND))\n",
    "\n",
    "period_subset = cam_ints[\n",
    "    cam_ints['interval'].apply(lambda x: clover_start <= x.left and x.right <= clover_end)\n",
    "]\n",
    "\n",
    "pis = sorted(period_subset['pi'].unique())\n",
    "segments_by_pi = {pi: [] for pi in pis}\n",
    "\n",
    "def add_seg(pi, ldt, rdt, color_key):\n",
    "    x1 = _rx(compressed_x(ldt))\n",
    "    x2 = _rx(compressed_x(rdt))\n",
    "    if x2 <= x1 + TOL:\n",
    "        return\n",
    "    segments_by_pi[pi].append([x1, x2, color_map[color_key]])\n",
    "\n",
    "for _, row in period_subset.iterrows():\n",
    "    left, right = row['interval'].left, row['interval'].right\n",
    "    if left.date() != right.date():\n",
    "        _, _, wendL = day_window(left)\n",
    "        _, wstartR, _ = day_window(right)\n",
    "        add_seg(row['pi'], left, min(right, wendL), row['color'])\n",
    "        add_seg(row['pi'], max(right, wstartR), right, row['color'])\n",
    "    else:\n",
    "        add_seg(row['pi'], left, right, row['color'])\n",
    "\n",
    "for pi in pis:\n",
    "    segs = sorted(segments_by_pi[pi], key=lambda s: (s[0], s[1]))\n",
    "    snapped = []\n",
    "    for seg in segs:\n",
    "        x1, x2, c = seg\n",
    "        if not snapped:\n",
    "            snapped.append([x1, x2, c])\n",
    "            continue\n",
    "        px1, px2, pc = snapped[-1]\n",
    "        if x1 <= px2 + TOL:\n",
    "            x1 = px2\n",
    "        if c == pc and x1 <= px2 + TOL:\n",
    "            snapped[-1][1] = max(px2, x2)\n",
    "        else:\n",
    "            snapped.append([x1, x2, c])\n",
    "    segments_by_pi[pi] = snapped\n",
    "\n",
    "band_height = 1.0\n",
    "pi_to_band = {pi: i for i, pi in enumerate(pis)}\n",
    "\n",
    "for pi in pis:\n",
    "    y0 = pi_to_band[pi]\n",
    "    for x1, x2, col in segments_by_pi[pi]:\n",
    "        coll = BrokenBarHCollection(\n",
    "            [(x1, x2 - x1)],\n",
    "            (y0, band_height),\n",
    "            facecolors=col,\n",
    "            edgecolors='none',\n",
    "            linewidths=0,\n",
    "            antialiased=False,\n",
    "            snap=True\n",
    "        )\n",
    "        ax2.add_collection(coll)\n",
    "\n",
    "ax2.set_yticks([pi_to_band[pi] + band_height/2 for pi in pis])\n",
    "ax2.set_yticklabels([str(pi) for pi in pis], size=9)\n",
    "ax2.set_ylim(-0.01, len(pis))\n",
    "\n",
    "dmins = (period_subset['interval'].map(lambda x: (x.left.date()  - day0_date).days)).min()\n",
    "dmaxs = (period_subset['interval'].map(lambda x: (x.right.date() - day0_date).days)).max()\n",
    "cal_days_kept = [d for d in range(dmins, dmaxs + 1) if d not in SKIPPED_DAYS]\n",
    "disp_days     = [day_to_display_index(d) for d in cal_days_kept]\n",
    "ax2.set_xticks(disp_days+[18])\n",
    "ax2.set_xlim(min(disp_days), max(disp_days) + 1)\n",
    "ax2.set_xticklabels([f\"{d}\" for d in disp_days+[18]])\n",
    "\n",
    "ax2.set_xlabel(\"Sampling day\")\n",
    "ax2.set_ylabel(\"Camera trap\")\n",
    "\n",
    "plt.tight_layout()\n",
    "# plt.savefig('figs/bombus_img_counts_sample_ints.png', format='png', dpi=300)\n"
   ]
  },
  {
   "cell_type": "code",
   "execution_count": null,
   "metadata": {},
   "outputs": [
    {
     "data": {
      "text/plain": [
       "[Text(0, 0, '0'),\n",
       " Text(1, 0, '1'),\n",
       " Text(2, 0, '2'),\n",
       " Text(3, 0, '3'),\n",
       " Text(4, 0, '4'),\n",
       " Text(5, 0, '5'),\n",
       " Text(6, 0, '6'),\n",
       " Text(7, 0, '7'),\n",
       " Text(8, 0, '8'),\n",
       " Text(9, 0, '9'),\n",
       " Text(10, 0, '10'),\n",
       " Text(11, 0, '11'),\n",
       " Text(12, 0, '12'),\n",
       " Text(13, 0, '13'),\n",
       " Text(14, 0, '14'),\n",
       " Text(15, 0, '15'),\n",
       " Text(16, 0, '16'),\n",
       " Text(17, 0, '17'),\n",
       " Text(18, 0, '18')]"
      ]
     },
     "execution_count": 57,
     "metadata": {},
     "output_type": "execute_result"
    },
    {
     "data": {
      "image/png": "[encoded data removed]",
      "text/plain": [
       "<Figure size 400x200 with 1 Axes>"
      ]
     },
     "metadata": {},
     "output_type": "display_data"
    }
   ],
   "source": [
    "\n",
    "fig, ax = plt.subplots(figsize=(4, 2))\n",
    "\n",
    "ax.bar(daily_counts['disp_day'] + 0.5,\n",
    "       daily_counts['count'],\n",
    "       color='gray',\n",
    "       width=0.8)\n",
    "\n",
    "ax.set_ylabel(\"Bombus image\\ncount (log scale)\")\n",
    "ax.set_yscale(\"log\")\n",
    "\n",
    "disp_days     = [day_to_display_index(d) for d in cal_days_kept]\n",
    "ax.set_xticks(disp_days+[18])\n",
    "ax.set_xlim(min(disp_days), max(disp_days) + 1)\n",
    "ax.set_xticklabels([f\"{d}\" for d in disp_days+[18]])"
   ]
  },
  {
   "cell_type": "code",
   "execution_count": null,
   "metadata": {},
   "outputs": [
    {
     "data": {
      "image/png": "[encoded data removed]",
      "text/plain": [
       "<Figure size 650x450 with 6 Axes>"
      ]
     },
     "metadata": {},
     "output_type": "display_data"
    }
   ],
   "source": [
    "fig, axes = plt.subplots(2, 3, figsize=(6.5, 4.5), gridspec_kw={'height_ratios': [2, 1]}, sharex=True)\n",
    "\n",
    "num_periods = len(periods)\n",
    "\n",
    "for idx, (start, end) in enumerate(periods):\n",
    "    ax = axes[0, idx]\n",
    "\n",
    "    period_subset_visits = cumulative_visits[\n",
    "        (cumulative_visits['visit_start'] >= start) & (cumulative_visits['visit_start'] <= end)\n",
    "    ].copy()\n",
    "\n",
    "    period_subset_visits['visit_start_days'] = (period_subset_visits['visit_start'] - start).dt.total_seconds() / (24 * 3600)\n",
    "\n",
    "    period_subset_visits['adjusted_cumulative_count'] = (\n",
    "        period_subset_visits.groupby('pi_color')['cumulative_count']\n",
    "        .transform(lambda x: x - x.min())\n",
    "    )\n",
    "\n",
    "    for key, group in period_subset_visits.groupby('pi_color'):\n",
    "        color_key = key.split('_')[-1]\n",
    "        pi_key = key.split('_')[0]\n",
    "        line_color = color_map.get(color_key, 'k')\n",
    "        \n",
    "        ax.plot(group['visit_start_days'], group['adjusted_cumulative_count'], label=key, color=line_color)\n",
    "        \n",
    "        # ax.text(\n",
    "        #     group['visit_start_days'].iloc[-1] + 0.1,  \n",
    "        #     group['adjusted_cumulative_count'].iloc[-1] + 0.5,\n",
    "        #     f'{pi_key}',\n",
    "        #     color=line_color,\n",
    "        #     fontsize=9,\n",
    "        #     verticalalignment='center'\n",
    "        # )\n",
    "\n",
    "    ax.spines['top'].set_visible(False)\n",
    "    ax.spines['right'].set_visible(False)\n",
    "    ax.set_title(f'{start.date()} to {end.date()}', fontsize=10)\n",
    "    ax.set_xticks(range(7))\n",
    "    ax.set_xticklabels([])\n",
    "    ax.set_xlim(0, 6)\n",
    "    ax.set_ylim(0, 40)\n",
    "    ax.set_yticks(range(0,45,5))\n",
    "    ax.set_yticklabels(range(0,45,5), fontsize=10)\n",
    "    \n",
    "    if idx == 0:\n",
    "        ax.set_ylabel('Bombus visits', fontsize=10)\n",
    "    if idx != 0:\n",
    "        ax.set_yticklabels([])\n",
    "\n",
    "for idx, (start, end) in enumerate(periods):\n",
    "    ax = axes[1, idx]\n",
    "\n",
    "    period_subset = cam_ints[\n",
    "        cam_ints['interval'].apply(lambda x: start <= x.left and x.right <= end)\n",
    "    ]\n",
    "\n",
    "    for _, row in period_subset.iterrows():\n",
    "        ax.plot([(row['interval'].left - start).total_seconds() / (24 * 3600), \n",
    "                 (row['interval'].right - start).total_seconds() / (24 * 3600)], \n",
    "                [row['pi'], row['pi']], color=color_map[row['color']])\n",
    "\n",
    "    ax.set_xticks(range(7))\n",
    "    ax.set_xticklabels(range(7), fontsize=10)\n",
    "    ax.set_yticks(combined_df['pi'].unique())\n",
    "    ax.set_yticklabels(combined_df['pi'].unique(), fontsize=10)\n",
    "    if idx != 0:\n",
    "        ax.set_yticklabels([])\n",
    "    ax.set_xlim(0, 6)\n",
    "    \n",
    "    if idx == 0:\n",
    "        ax.set_ylabel('Pi number', fontsize=10)\n",
    "\n",
    "plt.tight_layout()\n",
    "# plt.show()\n",
    "\n",
    "# plt.savefig('figs/cumulative_bombus_linear_pitimes.png', format='png', dpi=300)"
   ]
  }
 ],
 "metadata": {
  "kernelspec": {
   "display_name": "bee_mapping",
   "language": "python",
   "name": "python3"
  },
  "language_info": {
   "codemirror_mode": {
    "name": "ipython",
    "version": 3
   },
   "file_extension": ".py",
   "mimetype": "text/x-python",
   "name": "python",
   "nbconvert_exporter": "python",
   "pygments_lexer": "ipython3",
   "version": "3.12.0"
  }
 },
 "nbformat": 4,
 "nbformat_minor": 2
}
