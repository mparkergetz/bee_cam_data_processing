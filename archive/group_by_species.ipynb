{
 "cells": [
  {
   "cell_type": "code",
   "execution_count": 10,
   "id": "fca63077",
   "metadata": {},
   "outputs": [],
   "source": [
    "import pandas as pd\n",
    "import os\n",
    "import shutil\n",
    "\n",
    "data = pd.read_csv('csvs/bombus_df_ids.csv')\n",
    "\n",
    "img_path = '/home/misha/data/bee_cam/2024_image_processing/bombus_clean'\n",
    "output_dir = '/home/misha/data/bee_cam/2024_image_processing/bombus_by_species'\n",
    "os.makedirs(output_dir, exist_ok=True)\n",
    "\n",
    "species_list = data['species'].unique().tolist()\n",
    "for species in species_list:\n",
    "    os.makedirs(os.path.join(output_dir,species), exist_ok=True)\n",
    "\n",
    "all_imgs = os.listdir(img_path)\n",
    "\n",
    "for idx, row in data.iterrows():\n",
    "    filename = row['filename']  \n",
    "    species = row['species']\n",
    "    \n",
    "    src = os.path.join(img_path, filename)\n",
    "    dst = os.path.join(output_dir, species, filename)\n",
    "\n",
    "    if os.path.exists(src):\n",
    "        shutil.copy(src, dst)"
   ]
  }
 ],
 "metadata": {
  "kernelspec": {
   "display_name": "bee_mapping",
   "language": "python",
   "name": "python3"
  },
  "language_info": {
   "codemirror_mode": {
    "name": "ipython",
    "version": 3
   },
   "file_extension": ".py",
   "mimetype": "text/x-python",
   "name": "python",
   "nbconvert_exporter": "python",
   "pygments_lexer": "ipython3",
   "version": "3.12.0"
  }
 },
 "nbformat": 4,
 "nbformat_minor": 5
}
