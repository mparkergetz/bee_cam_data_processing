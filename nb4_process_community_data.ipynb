{
 "cells": [
  {
   "cell_type": "code",
   "execution_count": 76,
   "id": "55e0ba47",
   "metadata": {},
   "outputs": [],
   "source": [
    "import pandas as pd\n",
    "import matplotlib.pyplot as plt\n",
    "import numpy as np\n",
    "import matplotlib\n",
    "matplotlib.rcParams['font.family'] = 'Nimbus Sans'\n",
    "plt.rcParams['font.size'] = 9"
   ]
  },
  {
   "cell_type": "code",
   "execution_count": 77,
   "id": "905924ee",
   "metadata": {},
   "outputs": [
    {
     "data": {
      "application/vnd.microsoft.datawrangler.viewer.v0+json": {
       "columns": [
        {
         "name": "species",
         "rawType": "object",
         "type": "string"
        },
        {
         "name": "count",
         "rawType": "int64",
         "type": "integer"
        }
       ],
       "ref": "85c06d50-5a7e-458f-a18b-30c920c2a9e5",
       "rows": [
        [
         "vosnesenskii",
         "173"
        ],
        [
         "fervidus",
         "70"
        ],
        [
         "unk",
         "31"
        ],
        [
         "griseocollis",
         "13"
        ],
        [
         "nevadensis",
         "2"
        ],
        [
         "mixtus",
         "1"
        ],
        [
         "appositus",
         "1"
        ]
       ],
       "shape": {
        "columns": 1,
        "rows": 7
       }
      },
      "text/plain": [
       "species\n",
       "vosnesenskii    173\n",
       "fervidus         70\n",
       "unk              31\n",
       "griseocollis     13\n",
       "nevadensis        2\n",
       "mixtus            1\n",
       "appositus         1\n",
       "Name: count, dtype: int64"
      ]
     },
     "execution_count": 77,
     "metadata": {},
     "output_type": "execute_result"
    }
   ],
   "source": [
    "df = pd.read_csv('csvs/bombus_visit_durations.csv', parse_dates=[\"visit_start\", \"visit_end\"])\n",
    "bombus_visits_clover = df[df['visit_end'] < pd.Timestamp('2024-07-30')]\n",
    "cam_bombus_counts = bombus_visits_clover['species'].value_counts()\n",
    "cam_bombus_counts"
   ]
  },
  {
   "cell_type": "code",
   "execution_count": 78,
   "id": "c09f5b61",
   "metadata": {},
   "outputs": [],
   "source": [
    "survey_data = pd.read_csv('csvs/Clover_Bee_occurrence_data.csv')\n",
    "bvt_data  = survey_data[survey_data['Collection method'] == 'vane trap'].reset_index(drop=True)\n",
    "net_data  = survey_data[survey_data['Collection method'] == 'net'].reset_index(drop=True)\n",
    "\n",
    "bvt_taxa = bvt_data[['Order ', 'Genus', 'Species', 'Sex', 'Caste']]\n",
    "bvt_bombus_counts = bvt_taxa[bvt_taxa['Genus'] == 'Bombus']['Species'].value_counts()\n",
    "\n",
    "net_taxa = net_data[['Order ', 'Genus', 'Species', 'Sex', 'Caste']]\n",
    "net_bombus_counts = net_taxa[net_taxa['Genus'] == 'Bombus']['Species'].value_counts()\n"
   ]
  },
  {
   "cell_type": "code",
   "execution_count": 79,
   "id": "a0bd5eba",
   "metadata": {},
   "outputs": [],
   "source": [
    "species_all = list(set(cam_bombus_counts.index).union(bvt_bombus_counts.index, net_bombus_counts.index))\n",
    "\n",
    "species_all = [\n",
    " 'caliginosus',\n",
    " 'mixtus',\n",
    " 'appositus',\n",
    " 'nevadensis',\n",
    " 'griseocollis',\n",
    " 'fervidus',\n",
    " 'vosnesenskii']\n",
    "\n",
    "counts_s1 = [cam_bombus_counts[species] if species in cam_bombus_counts.index else 0 for species in species_all]\n",
    "# counts_s1 = [len(apis_visits_clover)] + counts_s1\n",
    "counts_s2 = [bvt_bombus_counts[species] if species in bvt_bombus_counts.index else 0 for species in species_all]\n",
    "# counts_s2 = [bvt_apis_counts['mellifera']] + counts_s2\n",
    "counts_s3 = [net_bombus_counts[species] if species in net_bombus_counts.index else 0 for species in species_all]\n",
    "# counts_s3 = [net_apis_counts['mellifera']] + counts_s3\n",
    "\n",
    "df_counts = pd.DataFrame({\n",
    "    'Species': species_all,\n",
    "    'Camera': counts_s1,\n",
    "    'BVT': counts_s2,\n",
    "    'Net': counts_s3\n",
    "})\n",
    "\n",
    "# df_counts.to_csv('method_comparison_fig/sample_method_counts.csv', index=False)"
   ]
  },
  {
   "cell_type": "code",
   "execution_count": 80,
   "id": "55f746f9",
   "metadata": {},
   "outputs": [
    {
     "data": {
      "image/png": "[encoded data removed]",
      "text/plain": [
       "<Figure size 500x200 with 3 Axes>"
      ]
     },
     "metadata": {},
     "output_type": "display_data"
    }
   ],
   "source": [
    "bar_width = 0.4  \n",
    "species_all_reversed = list(reversed(species_all))\n",
    "y_pos = range(len(species_all_reversed))  \n",
    "\n",
    "fig, axs = plt.subplots(1, 3, figsize=(5, 2), sharey=True)\n",
    "\n",
    "axs[0].set_yticks(y_pos)\n",
    "axs[0].invert_yaxis()\n",
    "axs[0].set_xlabel('Counts', size=9)\n",
    "axs[0].set_title('Camera Traps', size=9)\n",
    "bars0 = axs[0].barh(y_pos, list(reversed(counts_s1)), height=bar_width, color='m')\n",
    "for bar, count in zip(bars0, list(reversed(counts_s1))):\n",
    "    if count != 0:\n",
    "        axs[0].text(\n",
    "            bar.get_width() + 5,\n",
    "            bar.get_y() + bar.get_height()/2,\n",
    "            str(count),\n",
    "            va='center',\n",
    "            ha='left',\n",
    "            size=7\n",
    "        )\n",
    "\n",
    "bars1 = axs[1].barh(y_pos, list(reversed(counts_s2)), height=bar_width, color='c')\n",
    "for bar, count in zip(bars1, list(reversed(counts_s2))):\n",
    "    if count != 0:\n",
    "        axs[1].text(bar.get_width() + 5, bar.get_y() + bar.get_height()/2, str(count),\n",
    "                    va='center', ha='left', size=7)\n",
    "axs[1].set_yticks(y_pos)\n",
    "axs[1].set_yticklabels([])  \n",
    "axs[1].invert_yaxis()\n",
    "axs[1].set_xlabel('Counts', size=9)\n",
    "axs[1].set_title('Blue Vane Traps', size=9)\n",
    "\n",
    "bars2 = axs[2].barh(y_pos, list(reversed(counts_s3)), height=bar_width, color='k')\n",
    "for bar, count in zip(bars2, list(reversed(counts_s3))):\n",
    "    if count != 0:\n",
    "        axs[2].text(bar.get_width() + 5, bar.get_y() + bar.get_height()/2, str(count),\n",
    "                    va='center', ha='left', size=7)\n",
    "axs[2].set_yticks(y_pos)\n",
    "axs[2].set_yticklabels([]) \n",
    "axs[2].invert_yaxis()\n",
    "axs[2].set_xlabel('Counts', size=9)\n",
    "axs[2].set_title('Hand Netting', size=9)\n",
    "\n",
    "for ax in axs:\n",
    "    ax.spines['left'].set_visible(False)\n",
    "    ax.tick_params(axis='y', length=0)\n",
    "    ax.set_xlim(0, 180)\n",
    "    ax.set_xticks(range(0, 181, 60))\n",
    "\n",
    "\n",
    "axs[0].set_yticklabels(\n",
    "    [label[:4] for label in species_all_reversed],\n",
    "    style='italic',\n",
    "    size=8\n",
    ")\n",
    "plt.tight_layout()\n",
    "plt.savefig('figs/methods_comparison_separated.svg', format='svg')"
   ]
  }
 ],
 "metadata": {
  "kernelspec": {
   "display_name": "bee_mapping",
   "language": "python",
   "name": "python3"
  },
  "language_info": {
   "codemirror_mode": {
    "name": "ipython",
    "version": 3
   },
   "file_extension": ".py",
   "mimetype": "text/x-python",
   "name": "python",
   "nbconvert_exporter": "python",
   "pygments_lexer": "ipython3",
   "version": "3.12.0"
  }
 },
 "nbformat": 4,
 "nbformat_minor": 5
}
