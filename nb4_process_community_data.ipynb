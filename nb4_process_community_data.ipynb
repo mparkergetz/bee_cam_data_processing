{
 "cells": [
  {
   "cell_type": "code",
   "execution_count": 119,
   "id": "55e0ba47",
   "metadata": {},
   "outputs": [],
   "source": [
    "import pandas as pd\n",
    "import matplotlib.pyplot as plt\n",
    "import numpy as np\n",
    "import matplotlib\n",
    "matplotlib.rcParams['font.family'] = 'Nimbus Sans'\n",
    "plt.rcParams['font.size'] = 9"
   ]
  },
  {
   "cell_type": "code",
   "execution_count": 120,
   "id": "905924ee",
   "metadata": {},
   "outputs": [],
   "source": [
    "# LOAD BOMBUS VISIT DATA WITH INTERVALS AND SPECIES ID, LIMIT TO CLOVER PERIOD\n",
    "df = pd.read_csv('csvs/bombus_visit_durations.csv', parse_dates=[\"visit_start\", \"visit_end\"])\n",
    "bombus_visits_clover = df[df['visit_end'] < pd.Timestamp('2024-07-30')]"
   ]
  },
  {
   "cell_type": "code",
   "execution_count": 121,
   "id": "a0ede4dc",
   "metadata": {},
   "outputs": [],
   "source": [
    "# PIVOT TO WIDE FORMAT OF COUNTS PER COLOR, COLS ARE COLORS\n",
    "species_col_visits = pd.DataFrame(bombus_visits_clover[bombus_visits_clover['species'] != 'unk'].groupby(['species', 'color']).size()).reset_index()\n",
    "\n",
    "species_col_visits.columns = ['species', 'color', 'visit_count']\n",
    "species_col_wide = species_col_visits.pivot_table(\n",
    "    index='species',\n",
    "    columns='color',\n",
    "    values='visit_count',\n",
    "    fill_value=0\n",
    ")\n",
    "\n",
    "order = ['appositus', 'mixtus', 'nevadensis', 'griseocollis', 'fervidus', 'vosnesenskii']\n",
    "# color_order = ['cnt', 'blv', 'grn', 'blu', 'yel']\n",
    "color_order = ['yel','blu', 'grn','blv','cnt']\n",
    "species_col_wide = species_col_wide[color_order]\n",
    "species_col_wide = species_col_wide.reindex(order)"
   ]
  },
  {
   "cell_type": "code",
   "execution_count": 122,
   "id": "86050f5d",
   "metadata": {},
   "outputs": [
    {
     "data": {
      "application/vnd.microsoft.datawrangler.viewer.v0+json": {
       "columns": [
        {
         "name": "species",
         "rawType": "object",
         "type": "string"
        },
        {
         "name": "yel",
         "rawType": "float64",
         "type": "float"
        },
        {
         "name": "blu",
         "rawType": "float64",
         "type": "float"
        },
        {
         "name": "grn",
         "rawType": "float64",
         "type": "float"
        },
        {
         "name": "blv",
         "rawType": "float64",
         "type": "float"
        },
        {
         "name": "cnt",
         "rawType": "float64",
         "type": "float"
        }
       ],
       "ref": "1e2905aa-6ba4-4b1e-87cb-466bd2a3df03",
       "rows": [
        [
         "appositus",
         "0.0",
         "0.0",
         "0.0",
         "1.0",
         "0.0"
        ],
        [
         "mixtus",
         "0.0",
         "0.0",
         "0.0",
         "0.0",
         "1.0"
        ],
        [
         "nevadensis",
         "0.0",
         "0.0",
         "0.0",
         "1.0",
         "1.0"
        ],
        [
         "griseocollis",
         "0.0",
         "3.0",
         "0.0",
         "3.0",
         "7.0"
        ],
        [
         "fervidus",
         "9.0",
         "6.0",
         "19.0",
         "5.0",
         "31.0"
        ],
        [
         "vosnesenskii",
         "20.0",
         "20.0",
         "43.0",
         "40.0",
         "50.0"
        ]
       ],
       "shape": {
        "columns": 5,
        "rows": 6
       }
      },
      "text/html": [
       "<div>\n",
       "<style scoped>\n",
       "    .dataframe tbody tr th:only-of-type {\n",
       "        vertical-align: middle;\n",
       "    }\n",
       "\n",
       "    .dataframe tbody tr th {\n",
       "        vertical-align: top;\n",
       "    }\n",
       "\n",
       "    .dataframe thead th {\n",
       "        text-align: right;\n",
       "    }\n",
       "</style>\n",
       "<table border=\"1\" class=\"dataframe\">\n",
       "  <thead>\n",
       "    <tr style=\"text-align: right;\">\n",
       "      <th>color</th>\n",
       "      <th>yel</th>\n",
       "      <th>blu</th>\n",
       "      <th>grn</th>\n",
       "      <th>blv</th>\n",
       "      <th>cnt</th>\n",
       "    </tr>\n",
       "    <tr>\n",
       "      <th>species</th>\n",
       "      <th></th>\n",
       "      <th></th>\n",
       "      <th></th>\n",
       "      <th></th>\n",
       "      <th></th>\n",
       "    </tr>\n",
       "  </thead>\n",
       "  <tbody>\n",
       "    <tr>\n",
       "      <th>appositus</th>\n",
       "      <td>0.0</td>\n",
       "      <td>0.0</td>\n",
       "      <td>0.0</td>\n",
       "      <td>1.0</td>\n",
       "      <td>0.0</td>\n",
       "    </tr>\n",
       "    <tr>\n",
       "      <th>mixtus</th>\n",
       "      <td>0.0</td>\n",
       "      <td>0.0</td>\n",
       "      <td>0.0</td>\n",
       "      <td>0.0</td>\n",
       "      <td>1.0</td>\n",
       "    </tr>\n",
       "    <tr>\n",
       "      <th>nevadensis</th>\n",
       "      <td>0.0</td>\n",
       "      <td>0.0</td>\n",
       "      <td>0.0</td>\n",
       "      <td>1.0</td>\n",
       "      <td>1.0</td>\n",
       "    </tr>\n",
       "    <tr>\n",
       "      <th>griseocollis</th>\n",
       "      <td>0.0</td>\n",
       "      <td>3.0</td>\n",
       "      <td>0.0</td>\n",
       "      <td>3.0</td>\n",
       "      <td>7.0</td>\n",
       "    </tr>\n",
       "    <tr>\n",
       "      <th>fervidus</th>\n",
       "      <td>9.0</td>\n",
       "      <td>6.0</td>\n",
       "      <td>19.0</td>\n",
       "      <td>5.0</td>\n",
       "      <td>31.0</td>\n",
       "    </tr>\n",
       "    <tr>\n",
       "      <th>vosnesenskii</th>\n",
       "      <td>20.0</td>\n",
       "      <td>20.0</td>\n",
       "      <td>43.0</td>\n",
       "      <td>40.0</td>\n",
       "      <td>50.0</td>\n",
       "    </tr>\n",
       "  </tbody>\n",
       "</table>\n",
       "</div>"
      ],
      "text/plain": [
       "color          yel   blu   grn   blv   cnt\n",
       "species                                   \n",
       "appositus      0.0   0.0   0.0   1.0   0.0\n",
       "mixtus         0.0   0.0   0.0   0.0   1.0\n",
       "nevadensis     0.0   0.0   0.0   1.0   1.0\n",
       "griseocollis   0.0   3.0   0.0   3.0   7.0\n",
       "fervidus       9.0   6.0  19.0   5.0  31.0\n",
       "vosnesenskii  20.0  20.0  43.0  40.0  50.0"
      ]
     },
     "execution_count": 122,
     "metadata": {},
     "output_type": "execute_result"
    }
   ],
   "source": [
    "species_col_wide"
   ]
  },
  {
   "cell_type": "code",
   "execution_count": 123,
   "id": "8a164755",
   "metadata": {},
   "outputs": [
    {
     "data": {
      "image/png": "[encoded data removed]",
      "text/plain": [
       "<Figure size 400x200 with 1 Axes>"
      ]
     },
     "metadata": {},
     "output_type": "display_data"
    }
   ],
   "source": [
    "# PLOT SPECIES COUNTS PER STIMULUS TYPE\n",
    "colors = species_col_wide.columns\n",
    "species = ['appo', 'mixt', 'neva', 'gris', 'ferv', 'vosn']\n",
    "\n",
    "color_map = {\n",
    "    'blu': 'b',\n",
    "    'blv': 'c',\n",
    "    'cnt': 'm',\n",
    "    'grn': 'g',\n",
    "    'yel': 'y'\n",
    "}\n",
    "\n",
    "x = np.arange(len(species))\n",
    "width = 0.15 \n",
    "\n",
    "fig, ax = plt.subplots(figsize=(4, 2))\n",
    "for i, color in enumerate(colors):\n",
    "    ax.barh(x + i * width, species_col_wide[color], width, color=color_map[color])\n",
    "\n",
    "ax.set_xlabel('Counts')\n",
    "ax.set_ylabel(r'$\\it{Bombus}$ species')\n",
    "\n",
    "ax.set_yticks(x + width * len(colors) / 2)\n",
    "ax.set_yticklabels(species)\n",
    "\n",
    "ax.spines['top'].set_visible(False)\n",
    "ax.spines['right'].set_visible(False)\n",
    "ax.spines['left'].set_visible(False)\n",
    "ax.tick_params(axis='y', which='both', length=0)\n",
    "ax.set_yticklabels([f\"{label}\" for label in species], style='italic')\n",
    "\n",
    "plt.tight_layout()\n",
    "plt.savefig('figs/stimulus_species_counts_smaller.svg', format='svg')"
   ]
  },
  {
   "cell_type": "code",
   "execution_count": 124,
   "id": "c09f5b61",
   "metadata": {},
   "outputs": [],
   "source": [
    "# LOAD SPECIES COUNTS FOR CAMERA TRAPS, BLUE VANE TRAPS, AND HAND NETTING\n",
    "cam_bombus_counts = bombus_visits_clover['species'].value_counts()\n",
    "\n",
    "survey_data = pd.read_csv('csvs/Clover_Bee_occurrence_data.csv')\n",
    "bvt_data  = survey_data[survey_data['Collection method'] == 'vane trap'].reset_index(drop=True)\n",
    "net_data  = survey_data[survey_data['Collection method'] == 'net'].reset_index(drop=True)\n",
    "\n",
    "bvt_taxa = bvt_data[['Order ', 'Genus', 'Species', 'Sex', 'Caste']]\n",
    "bvt_bombus_counts = bvt_taxa[bvt_taxa['Genus'] == 'Bombus']['Species'].value_counts()\n",
    "\n",
    "net_taxa = net_data[['Order ', 'Genus', 'Species', 'Sex', 'Caste']]\n",
    "net_bombus_counts = net_taxa[net_taxa['Genus'] == 'Bombus']['Species'].value_counts()\n",
    "\n",
    "species_all = list(set(cam_bombus_counts.index).union(bvt_bombus_counts.index, net_bombus_counts.index))\n",
    "\n",
    "species_all = [\n",
    " 'caliginosus',\n",
    " 'mixtus',\n",
    " 'appositus',\n",
    " 'nevadensis',\n",
    " 'griseocollis',\n",
    " 'fervidus',\n",
    " 'vosnesenskii']\n",
    "\n",
    "counts_s1 = [cam_bombus_counts[species] if species in cam_bombus_counts.index else 0 for species in species_all]\n",
    "counts_s2 = [bvt_bombus_counts[species] if species in bvt_bombus_counts.index else 0 for species in species_all]\n",
    "counts_s3 = [net_bombus_counts[species] if species in net_bombus_counts.index else 0 for species in species_all]\n",
    "\n",
    "df_counts = pd.DataFrame({\n",
    "    'Species': species_all,\n",
    "    'Camera': counts_s1,\n",
    "    'BVT': counts_s2,\n",
    "    'Net': counts_s3\n",
    "})\n",
    "\n",
    "# df_counts.to_csv('method_comparison_fig/sample_method_counts.csv', index=False)"
   ]
  },
  {
   "cell_type": "code",
   "execution_count": 125,
   "id": "55f746f9",
   "metadata": {},
   "outputs": [
    {
     "data": {
      "image/png": "[encoded data removed]",
      "text/plain": [
       "<Figure size 500x200 with 3 Axes>"
      ]
     },
     "metadata": {},
     "output_type": "display_data"
    }
   ],
   "source": [
    "# PLOT METHODS COMPARISON\n",
    "bar_width = 0.4  \n",
    "species_all_reversed = list(reversed(species_all))\n",
    "y_pos = range(len(species_all_reversed))  \n",
    "\n",
    "fig, axs = plt.subplots(1, 3, figsize=(5, 2), sharey=True)\n",
    "\n",
    "axs[0].set_yticks(y_pos)\n",
    "axs[0].invert_yaxis()\n",
    "axs[0].set_xlabel('Counts', size=9)\n",
    "axs[0].set_title('Camera Traps', size=9)\n",
    "bars0 = axs[0].barh(y_pos, list(reversed(counts_s1)), height=bar_width, color='m')\n",
    "for bar, count in zip(bars0, list(reversed(counts_s1))):\n",
    "    if count != 0:\n",
    "        axs[0].text(\n",
    "            bar.get_width() + 5,\n",
    "            bar.get_y() + bar.get_height()/2,\n",
    "            str(count),\n",
    "            va='center',\n",
    "            ha='left',\n",
    "            size=7\n",
    "        )\n",
    "\n",
    "bars1 = axs[1].barh(y_pos, list(reversed(counts_s2)), height=bar_width, color='c')\n",
    "for bar, count in zip(bars1, list(reversed(counts_s2))):\n",
    "    if count != 0:\n",
    "        axs[1].text(bar.get_width() + 5, bar.get_y() + bar.get_height()/2, str(count),\n",
    "                    va='center', ha='left', size=7)\n",
    "axs[1].set_yticks(y_pos)\n",
    "axs[1].set_yticklabels([])  \n",
    "axs[1].invert_yaxis()\n",
    "axs[1].set_xlabel('Counts', size=9)\n",
    "axs[1].set_title('Blue Vane Traps', size=9)\n",
    "\n",
    "bars2 = axs[2].barh(y_pos, list(reversed(counts_s3)), height=bar_width, color='k')\n",
    "for bar, count in zip(bars2, list(reversed(counts_s3))):\n",
    "    if count != 0:\n",
    "        axs[2].text(bar.get_width() + 5, bar.get_y() + bar.get_height()/2, str(count),\n",
    "                    va='center', ha='left', size=7)\n",
    "axs[2].set_yticks(y_pos)\n",
    "axs[2].set_yticklabels([]) \n",
    "axs[2].invert_yaxis()\n",
    "axs[2].set_xlabel('Counts', size=9)\n",
    "axs[2].set_title('Hand Netting', size=9)\n",
    "\n",
    "for ax in axs:\n",
    "    ax.spines['left'].set_visible(False)\n",
    "    ax.tick_params(axis='y', length=0)\n",
    "    ax.set_xlim(0, 180)\n",
    "    ax.set_xticks(range(0, 181, 60))\n",
    "\n",
    "\n",
    "axs[0].set_yticklabels(\n",
    "    [label[:4] for label in species_all_reversed],\n",
    "    style='italic',\n",
    "    size=8\n",
    ")\n",
    "plt.tight_layout()\n",
    "plt.savefig('figs/methods_comparison_separated.svg', format='svg')"
   ]
  },
  {
   "cell_type": "code",
   "execution_count": 126,
   "id": "cafec9de",
   "metadata": {},
   "outputs": [],
   "source": [
    "# EXPORT ABUNDANCE COUNTS FOR iNEXT\n",
    "cam_bombus_counts = cam_bombus_counts.to_frame()\n",
    "cam_abund = cam_bombus_counts.sum(axis=1).to_dict()\n",
    "cam_abund.pop('unk')\n",
    "bvt_bombus_counts = bvt_bombus_counts.to_frame()\n",
    "bvt_abund = bvt_bombus_counts.sum(axis=1).to_dict()\n",
    "net_bombus_counts = net_bombus_counts.to_frame()\n",
    "net_abund = net_bombus_counts.sum(axis=1).to_dict()\n",
    "\n",
    "abundance_list = {\n",
    "    \"camera\": cam_abund,\n",
    "    \"bvt\": bvt_abund,\n",
    "    \"net\": net_abund\n",
    "}\n",
    "\n",
    "\n",
    "import json\n",
    "\n",
    "all_species = set()\n",
    "for method_data in abundance_list.values():\n",
    "    all_species.update(method_data.keys())\n",
    "all_species = sorted(all_species)\n",
    "\n",
    "inext_ready = {\n",
    "    method: [method_data.get(species, 0) for species in all_species]\n",
    "    for method, method_data in abundance_list.items()\n",
    "}\n",
    "\n",
    "with open(\"csvs/abundance_list.json\", \"w\") as f:\n",
    "    json.dump(inext_ready, f)"
   ]
  }
 ],
 "metadata": {
  "kernelspec": {
   "display_name": "bee_mapping",
   "language": "python",
   "name": "python3"
  },
  "language_info": {
   "codemirror_mode": {
    "name": "ipython",
    "version": 3
   },
   "file_extension": ".py",
   "mimetype": "text/x-python",
   "name": "python",
   "nbconvert_exporter": "python",
   "pygments_lexer": "ipython3",
   "version": "3.12.0"
  }
 },
 "nbformat": 4,
 "nbformat_minor": 5
}
