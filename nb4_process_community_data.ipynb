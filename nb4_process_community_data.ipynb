{
 "cells": [
  {
   "cell_type": "code",
   "execution_count": 2,
   "id": "55e0ba47",
   "metadata": {},
   "outputs": [],
   "source": [
    "import pandas as pd\n",
    "import matplotlib.pyplot as plt\n",
    "import numpy as np\n",
    "import matplotlib\n",
    "matplotlib.rcParams['font.family'] = 'Nimbus Sans'\n",
    "plt.rcParams['font.size'] = 9"
   ]
  },
  {
   "cell_type": "code",
   "execution_count": 3,
   "id": "905924ee",
   "metadata": {},
   "outputs": [],
   "source": [
    "# LOAD BOMBUS VISIT DATA WITH INTERVALS AND SPECIES ID, LIMIT TO CLOVER PERIOD\n",
    "df = pd.read_csv('csvs/bombus_visit_durations.csv', parse_dates=[\"visit_start\", \"visit_end\"])\n",
    "bombus_visits_clover = df[df['visit_end'] < pd.Timestamp('2024-07-30')]"
   ]
  },
  {
   "cell_type": "code",
   "execution_count": 4,
   "id": "25b2048e",
   "metadata": {},
   "outputs": [
    {
     "data": {
      "application/vnd.microsoft.datawrangler.viewer.v0+json": {
       "columns": [
        {
         "name": "species",
         "rawType": "object",
         "type": "string"
        },
        {
         "name": "count",
         "rawType": "int64",
         "type": "integer"
        }
       ],
       "ref": "e6081c80-e9d6-49e0-9888-fff69a1a3606",
       "rows": [
        [
         "vosnesenskii",
         "173"
        ],
        [
         "fervidus",
         "70"
        ],
        [
         "unk",
         "31"
        ],
        [
         "griseocollis",
         "13"
        ],
        [
         "nevadensis",
         "2"
        ],
        [
         "appositus",
         "1"
        ],
        [
         "mixtus",
         "1"
        ]
       ],
       "shape": {
        "columns": 1,
        "rows": 7
       }
      },
      "text/plain": [
       "species\n",
       "vosnesenskii    173\n",
       "fervidus         70\n",
       "unk              31\n",
       "griseocollis     13\n",
       "nevadensis        2\n",
       "appositus         1\n",
       "mixtus            1\n",
       "Name: count, dtype: int64"
      ]
     },
     "execution_count": 4,
     "metadata": {},
     "output_type": "execute_result"
    }
   ],
   "source": [
    "bombus_visits_clover.value_counts('species')"
   ]
  },
  {
   "cell_type": "code",
   "execution_count": 5,
   "id": "a0ede4dc",
   "metadata": {},
   "outputs": [],
   "source": [
    "# PIVOT TO WIDE FORMAT OF COUNTS PER COLOR, COLS ARE COLORS\n",
    "species_col_visits = pd.DataFrame(bombus_visits_clover[bombus_visits_clover['species'] != 'unk'].groupby(['species', 'color']).size()).reset_index()\n",
    "\n",
    "species_col_visits.columns = ['species', 'color', 'visit_count']\n",
    "species_col_wide = species_col_visits.pivot_table(\n",
    "    index='species',\n",
    "    columns='color',\n",
    "    values='visit_count',\n",
    "    fill_value=0\n",
    ")\n",
    "\n",
    "order = ['appositus', 'mixtus', 'nevadensis', 'griseocollis', 'fervidus', 'vosnesenskii']\n",
    "# color_order = ['cnt', 'blv', 'grn', 'blu', 'yel']\n",
    "color_order = ['yel','blu', 'grn','blv','cnt']\n",
    "species_col_wide = species_col_wide[color_order]\n",
    "species_col_wide = species_col_wide.reindex(order)"
   ]
  },
  {
   "cell_type": "code",
   "execution_count": 6,
   "id": "8a164755",
   "metadata": {},
   "outputs": [
    {
     "data": {
      "image/png": "[encoded data removed]",
      "text/plain": [
       "<Figure size 350x200 with 1 Axes>"
      ]
     },
     "metadata": {},
     "output_type": "display_data"
    }
   ],
   "source": [
    "# PLOT SPECIES COUNTS PER STIMULUS TYPE\n",
    "colors = species_col_wide.columns\n",
    "species = ['appo', 'mixt', 'neva', 'gris', 'ferv', 'vosn']\n",
    "\n",
    "color_map = {\n",
    "    'blu': 'b',\n",
    "    'blv': 'c',\n",
    "    'cnt': 'm',\n",
    "    'grn': 'g',\n",
    "    'yel': 'y'\n",
    "}\n",
    "\n",
    "x = np.arange(len(species))\n",
    "width = 0.15 \n",
    "\n",
    "fig, ax = plt.subplots(figsize=(3.5, 2))\n",
    "for i, color in enumerate(colors):\n",
    "    ax.barh(x + i * width, species_col_wide[color], width, color=color_map[color])\n",
    "\n",
    "ax.set_xlabel('Visit counts')\n",
    "# ax.set_ylabel(r'$\\it{Bombus}$ species')\n",
    "\n",
    "ax.set_yticks(x + width * len(colors) / 2)\n",
    "\n",
    "ax.spines['top'].set_visible(False)\n",
    "ax.spines['right'].set_visible(False)\n",
    "ax.spines['left'].set_visible(False)\n",
    "ax.tick_params(axis='y', which='both', length=0)\n",
    "ax.set_yticklabels([f\"{label}.\" for label in species], style='italic')\n",
    "\n",
    "plt.tight_layout()\n",
    "plt.savefig('figs/stimulus_species_counts_smaller.svg', format='svg')"
   ]
  },
  {
   "cell_type": "code",
   "execution_count": 7,
   "id": "c09f5b61",
   "metadata": {},
   "outputs": [],
   "source": [
    "# LOAD SPECIES COUNTS FOR CAMERA TRAPS, BLUE VANE TRAPS, AND HAND NETTING\n",
    "cam_bombus_counts = bombus_visits_clover['species'].value_counts()\n",
    "\n",
    "survey_data = pd.read_csv('csvs/Clover_Bee_occurrence_data.csv')\n",
    "bvt_data  = survey_data[survey_data['Collection method'] == 'vane trap'].reset_index(drop=True)\n",
    "net_data  = survey_data[survey_data['Collection method'] == 'net'].reset_index(drop=True)\n",
    "\n",
    "bvt_taxa = bvt_data[['Order ', 'Genus', 'Species', 'Sex', 'Caste']]\n",
    "bvt_bombus_counts = bvt_taxa[bvt_taxa['Genus'] == 'Bombus']['Species'].value_counts()\n",
    "\n",
    "net_taxa = net_data[['Order ', 'Genus', 'Species', 'Sex', 'Caste']]\n",
    "net_bombus_counts = net_taxa[net_taxa['Genus'] == 'Bombus']['Species'].value_counts()\n",
    "\n",
    "species_all = list(set(cam_bombus_counts.index).union(bvt_bombus_counts.index, net_bombus_counts.index))\n",
    "\n",
    "species_all = [\n",
    " 'caliginosus',\n",
    " 'mixtus',\n",
    " 'appositus',\n",
    " 'nevadensis',\n",
    " 'griseocollis',\n",
    " 'fervidus',\n",
    " 'vosnesenskii']\n",
    "\n",
    "counts_s1 = [cam_bombus_counts[species] if species in cam_bombus_counts.index else 0 for species in species_all]\n",
    "counts_s2 = [bvt_bombus_counts[species] if species in bvt_bombus_counts.index else 0 for species in species_all]\n",
    "counts_s3 = [net_bombus_counts[species] if species in net_bombus_counts.index else 0 for species in species_all]\n",
    "counts_s1_cnt = [species_col_wide['cnt'][species] if species in cam_bombus_counts.index else 0 for species in species_all]\n",
    "\n",
    "# NORMALIZE COUNTS TO EFFORT\n",
    "counts_s1n = [round(x/180, 2) for x in counts_s1] # PER TRAP DAY\n",
    "counts_s2n = [round(x/16, 2) for x in counts_s2] # PER TRAP DAY\n",
    "counts_s3n = [round(x/50, 2) for x in counts_s3] # PER SAMPLING MINUTE\n",
    "\n",
    "df_counts = pd.DataFrame({\n",
    "    'Species': species_all,\n",
    "    'Camera': counts_s1,\n",
    "    'BVT': counts_s2,\n",
    "    'Net': counts_s3\n",
    "})\n",
    "\n",
    "# df_counts.to_csv('method_comparison_fig/sample_method_counts.csv', index=False)"
   ]
  },
  {
   "cell_type": "code",
   "execution_count": 8,
   "id": "55f746f9",
   "metadata": {},
   "outputs": [
    {
     "data": {
      "image/png": "[encoded data removed]",
      "text/plain": [
       "<Figure size 500x200 with 3 Axes>"
      ]
     },
     "metadata": {},
     "output_type": "display_data"
    }
   ],
   "source": [
    "# PLOT METHODS COMPARISON\n",
    "bar_width = 0.4  \n",
    "species_all_reversed = list(reversed(species_all))\n",
    "y_pos = range(len(species_all_reversed))  \n",
    "\n",
    "fig, axs = plt.subplots(1, 3, figsize=(5, 2), sharey=True)\n",
    "\n",
    "axs[0].set_yticks(y_pos)\n",
    "axs[0].invert_yaxis()\n",
    "axs[0].set_xlabel('Counts', size=9)\n",
    "axs[0].set_title('Camera Traps', size=9)\n",
    "bars0 = axs[0].barh(y_pos, list(reversed(counts_s1)), height=bar_width, color='m')\n",
    "for bar, count in zip(bars0, list(reversed(counts_s1))):\n",
    "    if count != 0:\n",
    "        axs[0].text(\n",
    "            bar.get_width() + 5,\n",
    "            bar.get_y() + bar.get_height()/2,\n",
    "            str(count),\n",
    "            va='center',\n",
    "            ha='left',\n",
    "            size=7\n",
    "        )\n",
    "\n",
    "bars1 = axs[1].barh(y_pos, list(reversed(counts_s2)), height=bar_width, color='c')\n",
    "for bar, count in zip(bars1, list(reversed(counts_s2))):\n",
    "    if count != 0:\n",
    "        axs[1].text(bar.get_width() + 5, bar.get_y() + bar.get_height()/2, str(count),\n",
    "                    va='center', ha='left', size=7)\n",
    "axs[1].set_yticks(y_pos)\n",
    "axs[1].set_yticklabels([])  \n",
    "axs[1].invert_yaxis()\n",
    "axs[1].set_xlabel('Counts', size=9)\n",
    "axs[1].set_title('Blue Vane Traps', size=9)\n",
    "\n",
    "bars2 = axs[2].barh(y_pos, list(reversed(counts_s3)), height=bar_width, color='k')\n",
    "for bar, count in zip(bars2, list(reversed(counts_s3))):\n",
    "    if count != 0:\n",
    "        axs[2].text(bar.get_width() + 5, bar.get_y() + bar.get_height()/2, str(count),\n",
    "                    va='center', ha='left', size=7)\n",
    "axs[2].set_yticks(y_pos)\n",
    "axs[2].set_yticklabels([]) \n",
    "axs[2].invert_yaxis()\n",
    "axs[2].set_xlabel('Counts', size=9)\n",
    "axs[2].set_title('Hand Netting', size=9)\n",
    "\n",
    "for ax in axs:\n",
    "    ax.spines['left'].set_visible(False)\n",
    "    ax.tick_params(axis='y', length=0)\n",
    "    ax.set_xlim(0, 180)\n",
    "    ax.set_xticks(range(0, 181, 60))\n",
    "\n",
    "\n",
    "axs[0].set_yticklabels(\n",
    "    [label[:4] for label in species_all_reversed],\n",
    "    style='italic',\n",
    "    size=8\n",
    ")\n",
    "plt.tight_layout()\n",
    "plt.savefig('figs/methods_comparison_separated.svg', format='svg')"
   ]
  },
  {
   "cell_type": "code",
   "execution_count": 9,
   "id": "47b8d267",
   "metadata": {},
   "outputs": [
    {
     "data": {
      "image/png": "[encoded data removed]",
      "text/plain": [
       "<Figure size 650x200 with 3 Axes>"
      ]
     },
     "metadata": {},
     "output_type": "display_data"
    }
   ],
   "source": [
    "# PLOT METHODS COMPARISON WITH NORMALIZED COUNTS\n",
    "bar_width = 0.4  \n",
    "species_all_reversed = list(reversed(species_all))\n",
    "y_pos = range(len(species_all_reversed))  \n",
    "text_offset = .3\n",
    "\n",
    "fig, axs = plt.subplots(1, 3, figsize=(6.5, 2), sharey=True)\n",
    "\n",
    "axs[0].set_yticks(y_pos)\n",
    "axs[0].invert_yaxis()\n",
    "axs[0].set_xlabel('Count/Trap Day', size=8)\n",
    "axs[0].set_title('Camera Traps', size=9)\n",
    "bars0 = axs[0].barh(y_pos, list(reversed(counts_s1n)), height=bar_width, color='#e731a6ff')\n",
    "for bar, count in zip(bars0, list(reversed(counts_s1n))):\n",
    "    if count != 0:\n",
    "        axs[0].text(\n",
    "            bar.get_width() + text_offset,\n",
    "            bar.get_y() + bar.get_height()/2,\n",
    "            str(count),\n",
    "            va='center',\n",
    "            ha='left',\n",
    "            size=7\n",
    "        )\n",
    "\n",
    "bars1 = axs[1].barh(y_pos, list(reversed(counts_s2n)), height=bar_width, color='#1e8adaff')\n",
    "for bar, count in zip(bars1, list(reversed(counts_s2n))):\n",
    "    if count != 0:\n",
    "        axs[1].text(bar.get_width() + text_offset, bar.get_y() + bar.get_height()/2, str(count),\n",
    "                    va='center', ha='left', size=7)\n",
    "axs[1].set_yticks(y_pos)\n",
    "axs[1].set_yticklabels([])  \n",
    "axs[1].invert_yaxis()\n",
    "axs[1].set_xlabel('Count/Trap Day', size=8)\n",
    "axs[1].set_title('Blue Vane Traps', size=9)\n",
    "\n",
    "bars2 = axs[2].barh(y_pos, list(reversed(counts_s3n)), height=bar_width, color='k')\n",
    "for bar, count in zip(bars2, list(reversed(counts_s3n))):\n",
    "    if count != 0:\n",
    "        axs[2].text(bar.get_width() + text_offset, bar.get_y() + bar.get_height()/2, str(count),\n",
    "                    va='center', ha='left', size=7)\n",
    "axs[2].set_yticks(y_pos)\n",
    "axs[2].set_yticklabels([]) \n",
    "axs[2].invert_yaxis()\n",
    "axs[2].set_xlabel('Count/Sampling Minute', size=8)\n",
    "axs[2].set_title('Hand Netting', size=9)\n",
    "\n",
    "for ax in axs:\n",
    "    ax.spines['left'].set_visible(False)\n",
    "    ax.tick_params(axis='y', length=0)\n",
    "    ax.set_xlim(0, 4)\n",
    "    # ax.set_xticks(range(0, 181, 60))\n",
    "\n",
    "\n",
    "axs[0].set_yticklabels(\n",
    "    [label for label in species_all_reversed],\n",
    "    style='italic',\n",
    "    size=8\n",
    ")\n",
    "plt.tight_layout()\n",
    "# plt.savefig('figs/methods_comparison_separated_norm.svg', format='svg')"
   ]
  },
  {
   "cell_type": "code",
   "execution_count": 10,
   "id": "2176eb1d",
   "metadata": {},
   "outputs": [
    {
     "data": {
      "image/png": "[encoded data removed]",
      "text/plain": [
       "<Figure size 650x200 with 3 Axes>"
      ]
     },
     "metadata": {},
     "output_type": "display_data"
    }
   ],
   "source": [
    "# PLOT METHODS COMPARISON WITH NORMALIZED COUNTS\n",
    "bar_width = 0.4  \n",
    "species_all_reversed = list(reversed(species_all))\n",
    "y_pos = range(len(species_all_reversed))  \n",
    "text_offset = .3\n",
    "\n",
    "fig, axs = plt.subplots(1, 3, figsize=(6.5, 2), sharey=True)\n",
    "\n",
    "axs[0].set_yticks(y_pos)\n",
    "axs[0].invert_yaxis()\n",
    "axs[0].set_xlabel('Count/Trap Day', size=8)\n",
    "axs[0].set_xlim(0,1)\n",
    "axs[0].set_xticks([0,0.5,1])\n",
    "axs[0].set_title('Camera Traps', size=9)\n",
    "bars0 = axs[0].barh(y_pos, list(reversed(counts_s1n)), height=bar_width, color='#e731a6ff')\n",
    "for bar, count in zip(bars0, list(reversed(counts_s1n))):\n",
    "    if count != 0:\n",
    "        axs[0].text(\n",
    "            bar.get_width() + .05,\n",
    "            bar.get_y() + bar.get_height()/2,\n",
    "            str(count),\n",
    "            va='center',\n",
    "            ha='left',\n",
    "            size=7\n",
    "        )\n",
    "\n",
    "bars1 = axs[1].barh(y_pos, list(reversed(counts_s2n)), height=bar_width, color='#1e8adaff')\n",
    "for bar, count in zip(bars1, list(reversed(counts_s2n))):\n",
    "    if count != 0:\n",
    "        axs[1].text(bar.get_width() + .2, bar.get_y() + bar.get_height()/2, str(count),\n",
    "                    va='center', ha='left', size=7)\n",
    "axs[1].set_yticks(y_pos)\n",
    "axs[1].set_yticklabels([])  \n",
    "axs[1].invert_yaxis()\n",
    "axs[1].set_xlabel('Count/Trap Day', size=8)\n",
    "axs[1].set_title('Blue Vane Traps', size=9)\n",
    "axs[1].set_xlim(0,4)\n",
    "\n",
    "bars2 = axs[2].barh(y_pos, list(reversed(counts_s3n)), height=bar_width, color='k')\n",
    "for bar, count in zip(bars2, list(reversed(counts_s3n))):\n",
    "    if count != 0:\n",
    "        axs[2].text(bar.get_width() + .05, bar.get_y() + bar.get_height()/2, str(count),\n",
    "                    va='center', ha='left', size=7)\n",
    "        \n",
    "axs[2].set_yticks(y_pos)\n",
    "axs[2].set_yticklabels([]) \n",
    "axs[2].invert_yaxis()\n",
    "axs[2].set_xlabel('Count/Sampling Minute', size=8)\n",
    "axs[2].set_title('Hand Netting', size=9)\n",
    "axs[2].set_xlim(0,2)\n",
    "\n",
    "for ax in axs:\n",
    "    ax.spines['left'].set_visible(False)\n",
    "    ax.tick_params(axis='y', length=0)\n",
    "    # ax.set_xlim(0, 4)\n",
    "    # ax.set_xticks(range(0, 181, 60))\n",
    "\n",
    "\n",
    "axs[0].set_yticklabels(\n",
    "    [label for label in species_all_reversed],\n",
    "    style='italic',\n",
    "    size=8\n",
    ")\n",
    "plt.tight_layout()\n",
    "plt.savefig('figs/methods_comparison_separated_norm_edit.svg', format='svg')"
   ]
  },
  {
   "cell_type": "code",
   "execution_count": 11,
   "id": "cafec9de",
   "metadata": {},
   "outputs": [],
   "source": [
    "# # PREP AND EXPORT ABUNDANCE COUNTS FOR iNEXT\n",
    "# cam_bombus_counts = cam_bombus_counts.to_frame()\n",
    "# cam_abund = cam_bombus_counts.sum(axis=1).to_dict()\n",
    "# cam_abund.pop('unk')\n",
    "# bvt_bombus_counts = bvt_bombus_counts.to_frame()\n",
    "# bvt_abund = bvt_bombus_counts.sum(axis=1).to_dict()\n",
    "# net_bombus_counts = net_bombus_counts.to_frame()\n",
    "# net_abund = net_bombus_counts.sum(axis=1).to_dict()\n",
    "\n",
    "# abundance_list = {\n",
    "#     \"camera\": cam_abund,\n",
    "#     \"bvt\": bvt_abund,\n",
    "#     \"net\": net_abund\n",
    "# }\n",
    "\n",
    "# abundance_list_norm = {\n",
    "#     \"camera\": [int(x*100) for x in counts_s1n],\n",
    "#     \"bvt\": [int(x*100) for x in counts_s2n],\n",
    "#     \"net\": [int(x*100) for x in counts_s3n]\n",
    "# }\n",
    "\n",
    "# import json\n",
    "\n",
    "# all_species = set()\n",
    "# for method_data in abundance_list.values():\n",
    "#     all_species.update(method_data.keys())\n",
    "# all_species = sorted(all_species)\n",
    "\n",
    "# inext_ready = {\n",
    "#     method: [method_data.get(species, 0) for species in all_species]\n",
    "#     for method, method_data in abundance_list.items()\n",
    "# }\n",
    "\n",
    "# with open(\"csvs/abundance_list.json\", \"w\") as f:\n",
    "#     json.dump(inext_ready, f)\n",
    "\n",
    "# with open(\"csvs/abundance_list_norm.json\", \"w\") as f:\n",
    "#     json.dump(abundance_list_norm, f)\n",
    "\n"
   ]
  },
  {
   "cell_type": "code",
   "execution_count": 12,
   "id": "99087393",
   "metadata": {},
   "outputs": [],
   "source": [
    "# EXPORT TO R\n",
    "inext_ready = [counts_s1_cnt, counts_s2, counts_s3]\n",
    "\n",
    "%load_ext rpy2.ipython\n",
    "%R -i inext_ready"
   ]
  },
  {
   "cell_type": "code",
   "execution_count": 13,
   "id": "d2763ff3",
   "metadata": {},
   "outputs": [],
   "source": [
    "%%R\n",
    "library(iNEXT)\n",
    "\n",
    "out_df <- iNEXT(inext_ready, q = c(0,1,2), datatype = \"abundance\", nboot=1000)\n",
    "asy_est <- out_df$AsyEst\n",
    "datainfo <- out_df$DataInfo\n",
    "size_est <- out_df$iNextEst$size_based\n",
    "coverage_est <- out_df$iNextEst$coverage_based"
   ]
  },
  {
   "cell_type": "code",
   "execution_count": 14,
   "id": "30e19cc3",
   "metadata": {},
   "outputs": [],
   "source": [
    "%R -o datainfo\n",
    "%R -o asy_est\n",
    "%R -o size_est\n",
    "%R -o coverage_est"
   ]
  },
  {
   "cell_type": "code",
   "execution_count": 15,
   "id": "6b943613",
   "metadata": {},
   "outputs": [],
   "source": [
    "div_dict = {\"Species richness\":0, \"Shannon diversity\":1, \"Simpson diversity\":2}\n",
    "assem_dict = {\"assemblage1\":\"cam\", \"assemblage2\":\"bvt\", \"assemblage3\":\"net\"}\n",
    "asy_est['Diversity'] = asy_est['Diversity'].replace(div_dict)\n",
    "\n",
    "for dataframe in [asy_est, datainfo, size_est, coverage_est]:\n",
    "    dataframe['Assemblage'] = dataframe['Assemblage'].replace(assem_dict)"
   ]
  },
  {
   "cell_type": "code",
   "execution_count": 16,
   "id": "fe418367",
   "metadata": {},
   "outputs": [
    {
     "data": {
      "text/plain": [
       "Index(['Assemblage', 'SC', 'm', 'Method', 'Order.q', 'qD', 'qD.LCL', 'qD.UCL'], dtype='object')"
      ]
     },
     "execution_count": 16,
     "metadata": {},
     "output_type": "execute_result"
    }
   ],
   "source": [
    "coverage_est.columns"
   ]
  },
  {
   "cell_type": "code",
   "execution_count": 17,
   "id": "ce8e0f97",
   "metadata": {},
   "outputs": [
    {
     "data": {
      "image/png": "[encoded data removed]",
      "text/plain": [
       "<Figure size 200x225 with 1 Axes>"
      ]
     },
     "metadata": {},
     "output_type": "display_data"
    }
   ],
   "source": [
    "import numpy as np\n",
    "from scipy.interpolate import PchipInterpolator\n",
    "\n",
    "method_color_map = {'cam':'#e731a6ff', 'bvt':'#1e8adaff', 'net':'k'}\n",
    "order = [\"net\", \"cam\", \"bvt\"] \n",
    "\n",
    "fig, ax = plt.subplots(figsize=(2,2.25))\n",
    "\n",
    "for assemblage in order:\n",
    "    subdf = asy_est[asy_est[\"Assemblage\"] == assemblage]\n",
    "    x = subdf[\"Diversity\"].values.astype(float)\n",
    "    y = subdf[\"Estimator\"].values.astype(float)\n",
    "    lcl = subdf[\"LCL\"].values.astype(float)\n",
    "    ucl = subdf[\"UCL\"].values.astype(float)\n",
    "    obs = subdf[\"Observed\"].values.astype(float)\n",
    "\n",
    "    color = method_color_map.get(assemblage, \"k\")\n",
    "    x_smooth = np.linspace(x.min(), x.max(), 200)\n",
    "    f_est = PchipInterpolator(x, y)\n",
    "    f_lcl = PchipInterpolator(x, lcl)\n",
    "    f_ucl = PchipInterpolator(x, ucl)\n",
    "\n",
    "    y_smooth = f_est(x_smooth)\n",
    "    lcl_smooth = f_lcl(x_smooth)\n",
    "    ucl_smooth = f_ucl(x_smooth)\n",
    "\n",
    "    ax.plot(x_smooth, y_smooth, color=color, linewidth=1)\n",
    "    ax.fill_between(x_smooth, lcl_smooth, ucl_smooth, color=color, alpha=0.2, linewidth=0)\n",
    "    # ax.plot(x, obs, color=color, linestyle=\":\", alpha=1, label=f\"{assemblage} (Observed)\", marker='o', markersize=3, zorder=4)\n",
    "    # ax.scatter(x, obs, edgecolor=color, facecolor='none', marker='o', s=15, zorder=4)\n",
    "    ax.scatter(x, obs, color=color, marker='o', s=15, zorder=4)\n",
    "\n",
    "ax.set_xlabel(\"Diversity order (q)\")\n",
    "ax.set_ylabel(\"Species diversity\")\n",
    "ax.set_xticks([0,1,2], labels=[0,1,2])\n",
    "ax.set_ylim(2,8)\n",
    "\n",
    "\n",
    "plt.tight_layout()\n",
    "plt.savefig('figs/asyest_methods.svg', format='svg')\n"
   ]
  },
  {
   "cell_type": "code",
   "execution_count": 18,
   "id": "1c9172f5",
   "metadata": {},
   "outputs": [
    {
     "data": {
      "text/plain": [
       "Index(['Assemblage', 'm', 'Method', 'Order.q', 'qD', 'qD.LCL', 'qD.UCL', 'SC',\n",
       "       'SC.LCL', 'SC.UCL'],\n",
       "      dtype='object')"
      ]
     },
     "execution_count": 18,
     "metadata": {},
     "output_type": "execute_result"
    }
   ],
   "source": [
    "size_est.columns"
   ]
  },
  {
   "cell_type": "code",
   "execution_count": 29,
   "id": "75ba3399",
   "metadata": {},
   "outputs": [
    {
     "data": {
      "image/png": "[encoded data removed]",
      "text/plain": [
       "<Figure size 200x225 with 1 Axes>"
      ]
     },
     "metadata": {},
     "output_type": "display_data"
    }
   ],
   "source": [
    "from scipy.optimize import brentq  # root-finding for inverse lookup\n",
    "\n",
    "fig, ax = plt.subplots(figsize=(2,2.25))\n",
    "order = [\"net\", \"bvt\", \"cam\"] \n",
    "order_q = 0\n",
    "df_filtered = size_est[size_est['Order.q'] == order_q]\n",
    "\n",
    "coverage_targets = [0.99]\n",
    "\n",
    "for assemblage in order:\n",
    "    subdf = df_filtered[df_filtered[\"Assemblage\"] == assemblage].copy()\n",
    "    color = method_color_map.get(assemblage, \"gray\")\n",
    "\n",
    "    if subdf.empty:\n",
    "        continue\n",
    "\n",
    "    subdf = subdf[[\"Method\",\"m\",\"SC\",\"SC.LCL\",\"SC.UCL\"]].dropna()\n",
    "    subdf = subdf.sort_values(\"m\").drop_duplicates(subset=[\"m\"], keep=\"last\")\n",
    "\n",
    "    if \"Observed\" not in subdf[\"Method\"].values:\n",
    "        continue\n",
    "\n",
    "    obs_m = subdf[subdf[\"Method\"]==\"Observed\"][\"m\"].iloc[0]\n",
    "\n",
    "    f_y = PchipInterpolator(subdf[\"m\"], subdf[\"SC\"])\n",
    "    f_lcl = PchipInterpolator(subdf[\"m\"], subdf[\"SC.LCL\"])\n",
    "    f_ucl = PchipInterpolator(subdf[\"m\"], subdf[\"SC.UCL\"])\n",
    "\n",
    "    x_smooth = np.linspace(subdf[\"m\"].min(), subdf[\"m\"].max(), 400)\n",
    "    y_smooth = f_y(x_smooth)\n",
    "    lcl_smooth = f_lcl(x_smooth)\n",
    "    ucl_smooth = f_ucl(x_smooth)\n",
    "\n",
    "    mask_rare = x_smooth <= obs_m\n",
    "    mask_extra = x_smooth >= obs_m\n",
    "\n",
    "    ax.plot(x_smooth[mask_rare], y_smooth[mask_rare], color=color, label=assemblage)\n",
    "    ax.plot(x_smooth[mask_extra], y_smooth[mask_extra], color=color, linestyle=\"dotted\")\n",
    "    ax.fill_between(x_smooth, lcl_smooth, ucl_smooth, color=color, alpha=0.2, linewidth=0)\n",
    "\n",
    "    obs = subdf[subdf[\"Method\"] == \"Observed\"]\n",
    "    ax.scatter(obs[\"m\"], obs[\"SC\"], color=color, marker=\"o\", s=5, zorder=3)\n",
    "\n",
    "    for target in coverage_targets:\n",
    "        try:\n",
    "            m_target = brentq(lambda xx: f_y(xx) - target, subdf[\"m\"].min(), subdf[\"m\"].max())\n",
    "            ax.scatter(m_target, 1, color=color, marker=\"v\", zorder=4, linewidths=1, s=10)\n",
    "            if assemblage == 'bvt':\n",
    "                ax.text(m_target, target + 0.02, f\"{int(round(m_target))}\", color=color, fontsize=7, ha=\"center\")\n",
    "            else:\n",
    "                ax.text(m_target, target + 0.02, f\"{int(round(m_target))}\", color=color, fontsize=7, ha=\"center\")\n",
    "        except ValueError:\n",
    "            pass\n",
    "\n",
    "\n",
    "ax.set_ylim(0.90, 1.01)\n",
    "ax.set_xlim(0,210)\n",
    "ax.set_xlabel(\"Sample size\")\n",
    "ax.set_xticks([0,100,200])\n",
    "ax.set_ylabel(\"Sample coverage\")\n",
    "plt.tight_layout()\n",
    "# plt.savefig('figs/coverage_est.svg', format='svg')"
   ]
  },
  {
   "cell_type": "code",
   "execution_count": 20,
   "id": "ac92e179",
   "metadata": {},
   "outputs": [
    {
     "data": {
      "image/png": "[encoded data removed]",
      "text/plain": [
       "<Figure size 400x300 with 1 Axes>"
      ]
     },
     "metadata": {},
     "output_type": "display_data"
    }
   ],
   "source": [
    "\n",
    "# PARAMETERS\n",
    "order_q = 0   # choose which q to plot\n",
    "assemblages = size_est[\"Assemblage\"].unique()\n",
    "\n",
    "fig, ax = plt.subplots(figsize=(4, 3))\n",
    "\n",
    "for assemblage in assemblages:\n",
    "    # Filter data for this assemblage & q\n",
    "    subdf = size_est[\n",
    "        (size_est[\"Order.q\"] == order_q) &\n",
    "        (size_est[\"Assemblage\"] == assemblage)\n",
    "    ].copy()\n",
    "\n",
    "    if subdf.empty:\n",
    "        continue\n",
    "\n",
    "    # Keep relevant columns\n",
    "    subdf = subdf[[\"Method\", \"m\", \"SC\", \"SC.LCL\", \"SC.UCL\"]].dropna(subset=[\"SC\", \"m\"])\n",
    "\n",
    "    # Sort by coverage (SC)\n",
    "    subdf = subdf.sort_values(\"SC\")\n",
    "\n",
    "    # Drop duplicate SC values (keep largest m for each SC)\n",
    "    subdf = subdf.drop_duplicates(subset=[\"SC\"], keep=\"last\")\n",
    "\n",
    "    # Ensure strictly increasing SC (drop non-increasing points)\n",
    "    subdf = subdf[subdf[\"SC\"].diff().fillna(0) > 0]\n",
    "\n",
    "    # Need at least 2 points to interpolate\n",
    "    if len(subdf) < 2:\n",
    "        continue\n",
    "\n",
    "    # Build PCHIP interpolators (SC -> m & CIs)\n",
    "    f_m = PchipInterpolator(subdf[\"SC\"], subdf[\"m\"])\n",
    "    f_lcl = PchipInterpolator(subdf[\"SC\"], subdf[\"SC.LCL\"])\n",
    "    f_ucl = PchipInterpolator(subdf[\"SC\"], subdf[\"SC.UCL\"])\n",
    "\n",
    "    # Build smooth SC grid **inside the loop**\n",
    "    SC_smooth = np.linspace(subdf[\"SC\"].min(), subdf[\"SC\"].max(), 200)\n",
    "    m_smooth  = f_m(SC_smooth)\n",
    "    lcl_smooth = f_lcl(SC_smooth)\n",
    "    ucl_smooth = f_ucl(SC_smooth)\n",
    "\n",
    "    # Plot smooth curve\n",
    "    ax.plot(m_smooth, SC_smooth, label=assemblage)\n",
    "\n",
    "    # Plot confidence ribbon\n",
    "    ax.fill_between(m_smooth, lcl_smooth, ucl_smooth, alpha=0.2)\n",
    "\n",
    "    # Mark observed point (optional)\n",
    "    obs = subdf[subdf[\"Method\"] == \"Observed\"]\n",
    "    if not obs.empty:\n",
    "        ax.scatter(obs[\"m\"], obs[\"SC\"], color=\"black\", s=20, zorder=5)\n",
    "\n",
    "# Axis formatting\n",
    "ax.set_xlabel(\"Sample size (m)\")\n",
    "ax.set_ylabel(\"Sample coverage (SC)\")\n",
    "ax.set_ylim(0.85, 1.02)\n",
    "ax.set_xlim(0, 200)\n",
    "ax.legend(title=\"Assemblage\")\n",
    "plt.tight_layout()\n",
    "plt.show()"
   ]
  },
  {
   "cell_type": "code",
   "execution_count": 21,
   "id": "38481a81",
   "metadata": {},
   "outputs": [
    {
     "data": {
      "image/png": "[encoded data removed]",
      "text/plain": [
       "<Figure size 400x300 with 1 Axes>"
      ]
     },
     "metadata": {},
     "output_type": "display_data"
    }
   ],
   "source": [
    "order_q = 0\n",
    "assemblages = size_est[\"Assemblage\"].unique()\n",
    "method_color_map = {'cam':'#e731a6ff', 'bvt':'#1e8adaff', 'net':'k'}\n",
    "\n",
    "fig, ax = plt.subplots(figsize=(4, 3))\n",
    "\n",
    "for assemblage in assemblages:\n",
    "    subdf = size_est[\n",
    "        (size_est[\"Order.q\"] == order_q) &\n",
    "        (size_est[\"Assemblage\"] == assemblage)\n",
    "    ].copy()\n",
    "    if subdf.empty:\n",
    "        continue\n",
    "\n",
    "    subdf = subdf[[\"Method\", \"m\", \"SC\", \"SC.LCL\", \"SC.UCL\"]].dropna()\n",
    "    subdf = subdf.sort_values(\"m\")\n",
    "    subdf = subdf.drop_duplicates(subset=[\"m\"], keep=\"last\")\n",
    "\n",
    "    if len(subdf) < 2:\n",
    "        continue\n",
    "\n",
    "    obs = subdf[subdf[\"Method\"] == \"Observed\"]\n",
    "    if obs.empty:\n",
    "        continue\n",
    "\n",
    "    obs_m = obs[\"m\"].iloc[0]\n",
    "    color = method_color_map.get(assemblage, \"gray\")\n",
    "\n",
    "    f_y = PchipInterpolator(subdf[\"m\"], subdf[\"SC\"])\n",
    "    f_lcl = PchipInterpolator(subdf[\"m\"], subdf[\"SC.LCL\"])\n",
    "    f_ucl = PchipInterpolator(subdf[\"m\"], subdf[\"SC.UCL\"])\n",
    "\n",
    "    x_smooth = np.linspace(subdf[\"m\"].min(), subdf[\"m\"].max(), 400)\n",
    "    y_smooth = f_y(x_smooth)\n",
    "    lcl_smooth = f_lcl(x_smooth)\n",
    "    ucl_smooth = f_ucl(x_smooth)\n",
    "\n",
    "    mask_rare = x_smooth <= obs_m\n",
    "    mask_extra = x_smooth >= obs_m\n",
    "\n",
    "    ax.plot(x_smooth[mask_rare], y_smooth[mask_rare], color=color)\n",
    "    ax.plot(x_smooth[mask_extra], y_smooth[mask_extra], color=color, linestyle=\"dotted\")\n",
    "    ax.fill_between(x_smooth, lcl_smooth, ucl_smooth, color=color, alpha=0.2)\n",
    "\n",
    "    ax.scatter(obs_m, obs[\"SC\"].iloc[0], color=color, s=20, zorder=5)\n",
    "\n",
    "ax.set_xlabel(\"Sample size (m)\")\n",
    "ax.set_ylabel(\"Sample coverage (SC)\")\n",
    "ax.set_ylim(0.8, 1.02)\n",
    "ax.set_xlim(left=0)\n",
    "plt.tight_layout()\n",
    "plt.show()\n",
    "\n"
   ]
  },
  {
   "cell_type": "code",
   "execution_count": 22,
   "id": "ea875cba",
   "metadata": {},
   "outputs": [
    {
     "data": {
      "text/plain": [
       "array(['Rarefaction', 'Observed', 'Extrapolation'], dtype=object)"
      ]
     },
     "execution_count": 22,
     "metadata": {},
     "output_type": "execute_result"
    }
   ],
   "source": [
    "size_est[size_est['Assemblage'] == 'net']['Method'].unique()"
   ]
  },
  {
   "cell_type": "code",
   "execution_count": 23,
   "id": "fee434f6",
   "metadata": {},
   "outputs": [
    {
     "data": {
      "application/vnd.microsoft.datawrangler.viewer.v0+json": {
       "columns": [
        {
         "name": "index",
         "rawType": "object",
         "type": "string"
        },
        {
         "name": "Assemblage",
         "rawType": "object",
         "type": "string"
        },
        {
         "name": "m",
         "rawType": "float64",
         "type": "float"
        },
        {
         "name": "Method",
         "rawType": "object",
         "type": "string"
        },
        {
         "name": "Order.q",
         "rawType": "float64",
         "type": "float"
        },
        {
         "name": "qD",
         "rawType": "float64",
         "type": "float"
        },
        {
         "name": "qD.LCL",
         "rawType": "float64",
         "type": "float"
        },
        {
         "name": "qD.UCL",
         "rawType": "float64",
         "type": "float"
        },
        {
         "name": "SC",
         "rawType": "float64",
         "type": "float"
        },
        {
         "name": "SC.LCL",
         "rawType": "float64",
         "type": "float"
        },
        {
         "name": "SC.UCL",
         "rawType": "float64",
         "type": "float"
        }
       ],
       "ref": "f0a5df2b-6498-4e10-8204-793924b291d5",
       "rows": [
        [
         "260",
         "net",
         "176.0",
         "Observed",
         "0.0",
         "5.0",
         "3.9299654627527376",
         "6.070034537247262",
         "1.0",
         "0.9945924137399629",
         "1.0"
        ],
        [
         "300",
         "net",
         "176.0",
         "Observed",
         "1.0",
         "2.783532479213348",
         "2.496028364249123",
         "3.0710365941775724",
         "1.0",
         "0.9945924137399629",
         "1.0"
        ],
        [
         "340",
         "net",
         "176.0",
         "Observed",
         "2.0",
         "2.415094339622642",
         "2.178776980812054",
         "2.65141169843323",
         "1.0",
         "0.9945924137399629",
         "1.0"
        ]
       ],
       "shape": {
        "columns": 10,
        "rows": 3
       }
      },
      "text/html": [
       "<div>\n",
       "<style scoped>\n",
       "    .dataframe tbody tr th:only-of-type {\n",
       "        vertical-align: middle;\n",
       "    }\n",
       "\n",
       "    .dataframe tbody tr th {\n",
       "        vertical-align: top;\n",
       "    }\n",
       "\n",
       "    .dataframe thead th {\n",
       "        text-align: right;\n",
       "    }\n",
       "</style>\n",
       "<table border=\"1\" class=\"dataframe\">\n",
       "  <thead>\n",
       "    <tr style=\"text-align: right;\">\n",
       "      <th></th>\n",
       "      <th>Assemblage</th>\n",
       "      <th>m</th>\n",
       "      <th>Method</th>\n",
       "      <th>Order.q</th>\n",
       "      <th>qD</th>\n",
       "      <th>qD.LCL</th>\n",
       "      <th>qD.UCL</th>\n",
       "      <th>SC</th>\n",
       "      <th>SC.LCL</th>\n",
       "      <th>SC.UCL</th>\n",
       "    </tr>\n",
       "  </thead>\n",
       "  <tbody>\n",
       "    <tr>\n",
       "      <th>260</th>\n",
       "      <td>net</td>\n",
       "      <td>176.0</td>\n",
       "      <td>Observed</td>\n",
       "      <td>0.0</td>\n",
       "      <td>5.000000</td>\n",
       "      <td>3.929965</td>\n",
       "      <td>6.070035</td>\n",
       "      <td>1.0</td>\n",
       "      <td>0.994592</td>\n",
       "      <td>1.0</td>\n",
       "    </tr>\n",
       "    <tr>\n",
       "      <th>300</th>\n",
       "      <td>net</td>\n",
       "      <td>176.0</td>\n",
       "      <td>Observed</td>\n",
       "      <td>1.0</td>\n",
       "      <td>2.783532</td>\n",
       "      <td>2.496028</td>\n",
       "      <td>3.071037</td>\n",
       "      <td>1.0</td>\n",
       "      <td>0.994592</td>\n",
       "      <td>1.0</td>\n",
       "    </tr>\n",
       "    <tr>\n",
       "      <th>340</th>\n",
       "      <td>net</td>\n",
       "      <td>176.0</td>\n",
       "      <td>Observed</td>\n",
       "      <td>2.0</td>\n",
       "      <td>2.415094</td>\n",
       "      <td>2.178777</td>\n",
       "      <td>2.651412</td>\n",
       "      <td>1.0</td>\n",
       "      <td>0.994592</td>\n",
       "      <td>1.0</td>\n",
       "    </tr>\n",
       "  </tbody>\n",
       "</table>\n",
       "</div>"
      ],
      "text/plain": [
       "    Assemblage      m    Method  Order.q        qD    qD.LCL    qD.UCL   SC  \\\n",
       "260        net  176.0  Observed      0.0  5.000000  3.929965  6.070035  1.0   \n",
       "300        net  176.0  Observed      1.0  2.783532  2.496028  3.071037  1.0   \n",
       "340        net  176.0  Observed      2.0  2.415094  2.178777  2.651412  1.0   \n",
       "\n",
       "       SC.LCL  SC.UCL  \n",
       "260  0.994592     1.0  \n",
       "300  0.994592     1.0  \n",
       "340  0.994592     1.0  "
      ]
     },
     "execution_count": 23,
     "metadata": {},
     "output_type": "execute_result"
    }
   ],
   "source": [
    "size_est[(size_est['Assemblage'] == 'net') & (size_est['Method'] == 'Observed')]"
   ]
  },
  {
   "cell_type": "code",
   "execution_count": 24,
   "id": "0f192d4d",
   "metadata": {},
   "outputs": [
    {
     "name": "stdout",
     "output_type": "stream",
     "text": [
      "           Method      m        SC\n",
      "1     Rarefaction    1.0  0.427216\n",
      "2     Rarefaction    5.0  0.873021\n",
      "3     Rarefaction   10.0  0.936226\n",
      "4     Rarefaction   15.0  0.952622\n",
      "5     Rarefaction   20.0  0.961709\n",
      "6     Rarefaction   25.0  0.967742\n",
      "7     Rarefaction   30.0  0.971747\n",
      "8     Rarefaction   35.0  0.974321\n",
      "9     Rarefaction   40.0  0.975906\n",
      "10    Rarefaction   45.0  0.976833\n",
      "11    Rarefaction   49.0  0.977264\n",
      "12    Rarefaction   54.0  0.977561\n",
      "13    Rarefaction   59.0  0.977698\n",
      "14    Rarefaction   64.0  0.977754\n",
      "15    Rarefaction   69.0  0.977773\n",
      "16    Rarefaction   74.0  0.977777\n",
      "17    Rarefaction   79.0  0.977778\n",
      "18    Rarefaction   84.0  0.977778\n",
      "19    Rarefaction   89.0  0.977778\n",
      "20       Observed   90.0  0.978266\n",
      "21  Extrapolation   91.0  0.978744\n",
      "22  Extrapolation   95.0  0.980552\n",
      "23  Extrapolation  100.0  0.982597\n",
      "24  Extrapolation  105.0  0.984427\n",
      "25  Extrapolation  109.0  0.985752\n",
      "26  Extrapolation  114.0  0.987250\n",
      "27  Extrapolation  119.0  0.988591\n",
      "28  Extrapolation  123.0  0.989561\n",
      "29  Extrapolation  128.0  0.990659\n",
      "30  Extrapolation  133.0  0.991642\n",
      "31  Extrapolation  137.0  0.992352\n",
      "32  Extrapolation  142.0  0.993157\n",
      "33  Extrapolation  147.0  0.993876\n",
      "34  Extrapolation  151.0  0.994397\n",
      "35  Extrapolation  156.0  0.994986\n",
      "36  Extrapolation  161.0  0.995514\n",
      "37  Extrapolation  165.0  0.995895\n",
      "38  Extrapolation  170.0  0.996327\n",
      "39  Extrapolation  175.0  0.996713\n",
      "40  Extrapolation  180.0  0.997059\n"
     ]
    }
   ],
   "source": [
    "bad = size_est[\n",
    "    (size_est[\"Order.q\"] == 0) &\n",
    "    (size_est[\"Assemblage\"] == \"cam\")\n",
    "]\n",
    "\n",
    "print(bad[[\"Method\", \"m\", \"SC\"]])"
   ]
  },
  {
   "cell_type": "code",
   "execution_count": 25,
   "id": "97db42ec",
   "metadata": {},
   "outputs": [
    {
     "data": {
      "image/png": "[encoded data removed]",
      "text/plain": [
       "<Figure size 640x480 with 1 Axes>"
      ]
     },
     "metadata": {},
     "output_type": "display_data"
    }
   ],
   "source": [
    "fig, ax = plt.subplots()\n",
    "\n",
    "q = 2\n",
    "\n",
    "df_q = size_est[size_est[\"Order.q\"] == q]\n",
    "\n",
    "for (assemblage, q), subdf in df_q.groupby([\"Assemblage\", \"Order.q\"]):\n",
    "    ax.plot(\n",
    "        subdf[\"m\"], subdf[\"qD\"], label=f\"{assemblage} (q={q})\"\n",
    "    )\n",
    "    ax.fill_between(\n",
    "        subdf[\"m\"], subdf[\"qD.LCL\"], subdf[\"qD.UCL\"], alpha=0.2\n",
    "    )\n",
    "\n",
    "ax.set_xlabel(\"Sample size (m)\")\n",
    "ax.set_ylabel(\"Diversity (qD)\")\n",
    "ax.set_title(\"Size-based Diversity Estimates\")\n",
    "ax.legend()\n",
    "plt.tight_layout()"
   ]
  },
  {
   "cell_type": "code",
   "execution_count": 26,
   "id": "16f86ed6",
   "metadata": {},
   "outputs": [
    {
     "data": {
      "application/vnd.microsoft.datawrangler.viewer.v0+json": {
       "columns": [
        {
         "name": "index",
         "rawType": "object",
         "type": "string"
        },
        {
         "name": "Assemblage",
         "rawType": "object",
         "type": "string"
        },
        {
         "name": "SC",
         "rawType": "float64",
         "type": "float"
        },
        {
         "name": "m",
         "rawType": "float64",
         "type": "float"
        },
        {
         "name": "Method",
         "rawType": "object",
         "type": "string"
        },
        {
         "name": "Order.q",
         "rawType": "float64",
         "type": "float"
        },
        {
         "name": "qD",
         "rawType": "float64",
         "type": "float"
        },
        {
         "name": "qD.LCL",
         "rawType": "float64",
         "type": "float"
        },
        {
         "name": "qD.UCL",
         "rawType": "float64",
         "type": "float"
        }
       ],
       "ref": "47e161ea-ccb2-490e-99fe-fd02835f939d",
       "rows": [
        [
         "1",
         "cam",
         "0.42721867547745607",
         "1.0",
         "Rarefaction",
         "0.0",
         "1.0000069602239634",
         "0.9129940923098341",
         "1.0870198281380927"
        ],
        [
         "2",
         "cam",
         "0.8730207681336144",
         "5.0",
         "Rarefaction",
         "0.0",
         "2.3215915396364584",
         "1.9412907677813467",
         "2.7018923114915703"
        ],
        [
         "3",
         "cam",
         "0.9362257189294075",
         "10.0",
         "Rarefaction",
         "0.0",
         "2.785907000258626",
         "2.2454132582674617",
         "3.32640074224979"
        ],
        [
         "4",
         "cam",
         "0.95262239329425",
         "15.0",
         "Rarefaction",
         "0.0",
         "3.066803811812526",
         "2.451863543932347",
         "3.6817440796927046"
        ],
        [
         "5",
         "cam",
         "0.9617086184273347",
         "20.0",
         "Rarefaction",
         "0.0",
         "3.2839411191449512",
         "2.631932989502671",
         "3.9359492487872316"
        ],
        [
         "6",
         "cam",
         "0.9677416534394379",
         "25.0",
         "Rarefaction",
         "0.0",
         "3.4623719323452002",
         "2.7442907610472953",
         "4.180453103643105"
        ],
        [
         "7",
         "cam",
         "0.9717470630623138",
         "30.0",
         "Rarefaction",
         "0.0",
         "3.6149755217409383",
         "2.8724932604327966",
         "4.35745778304908"
        ],
        [
         "8",
         "cam",
         "0.9743209556074772",
         "35.0",
         "Rarefaction",
         "0.0",
         "3.750616724445772",
         "2.9897306955089036",
         "4.511502753382641"
        ],
        [
         "9",
         "cam",
         "0.9759061231860803",
         "40.0",
         "Rarefaction",
         "0.0",
         "3.875519711834113",
         "3.099613217593042",
         "4.651426206075184"
        ],
        [
         "10",
         "cam",
         "0.9768329642888207",
         "45.0",
         "Rarefaction",
         "0.0",
         "3.993926108139372",
         "3.2063583874497184",
         "4.781493828829026"
        ],
        [
         "11",
         "cam",
         "0.9772640348804845",
         "49.0",
         "Rarefaction",
         "0.0",
         "4.085880360302023",
         "3.2907575629304757",
         "4.881003157673571"
        ],
        [
         "12",
         "cam",
         "0.9775605264237989",
         "54.0",
         "Rarefaction",
         "0.0",
         "4.198882264611485",
         "3.395662344513628",
         "5.002102184709342"
        ],
        [
         "13",
         "cam",
         "0.977698304704804",
         "59.0",
         "Rarefaction",
         "0.0",
         "4.310759500559249",
         "3.5002845678161005",
         "5.121234433302398"
        ],
        [
         "14",
         "cam",
         "0.9777540739615563",
         "64.0",
         "Rarefaction",
         "0.0",
         "4.42213413212047",
         "3.6047394551223233",
         "5.2395288091186165"
        ],
        [
         "15",
         "cam",
         "0.9777725900060645",
         "69.0",
         "Rarefaction",
         "0.0",
         "4.533318169845811",
         "3.709049598699752",
         "5.357586740991869"
        ],
        [
         "16",
         "cam",
         "0.9777771078917792",
         "74.0",
         "Rarefaction",
         "0.0",
         "4.644443247682756",
         "3.8132340239551668",
         "5.475652471410346"
        ],
        [
         "17",
         "cam",
         "0.9777777496711264",
         "79.0",
         "Rarefaction",
         "0.0",
         "4.7555563313290685",
         "3.916903550588483",
         "5.594209112069654"
        ],
        [
         "18",
         "cam",
         "0.9777777777777777",
         "86.0",
         "Rarefaction",
         "0.0",
         "4.902632963453666",
         "4.054088848790244",
         "5.751177078117088"
        ],
        [
         "19",
         "cam",
         "0.9777777777777777",
         "86.0",
         "Rarefaction",
         "0.0",
         "4.912721500801956",
         "4.064389799352328",
         "5.761053202251584"
        ],
        [
         "20",
         "cam",
         "0.9782661782661782",
         "90.0",
         "Observed",
         "0.0",
         "5.0",
         "4.135452530336634",
         "5.864547469663366"
        ],
        [
         "21",
         "cam",
         "0.9787438446779106",
         "91.0",
         "Extrapolation",
         "0.0",
         "5.0217338217338225",
         "4.1523044726909735",
         "5.891163170776672"
        ],
        [
         "22",
         "cam",
         "0.9805518107410668",
         "95.0",
         "Extrapolation",
         "0.0",
         "5.103996277607423",
         "4.215485055376874",
         "5.992507499837972"
        ],
        [
         "23",
         "cam",
         "0.9825970751907527",
         "100.0",
         "Extrapolation",
         "0.0",
         "5.197055810068128",
         "4.286613979606402",
         "6.1074976405298536"
        ],
        [
         "24",
         "cam",
         "0.9844272498645497",
         "105.0",
         "Extrapolation",
         "0.0",
         "5.280328757725887",
         "4.350306231053319",
         "6.210351284398455"
        ],
        [
         "25",
         "cam",
         "0.9857518075434092",
         "109.0",
         "Extrapolation",
         "0.0",
         "5.340596132113995",
         "4.396753420440009",
         "6.284438843787981"
        ],
        [
         "26",
         "cam",
         "0.9872502154988111",
         "114.0",
         "Extrapolation",
         "0.0",
         "5.40877369408478",
         "4.450479065838662",
         "6.367068322330898"
        ],
        [
         "27",
         "cam",
         "0.9885910437185622",
         "119.0",
         "Extrapolation",
         "0.0",
         "5.4697813780834545",
         "4.50184675938058",
         "6.437715996786329"
        ],
        [
         "28",
         "cam",
         "0.9895614452545086",
         "123.0",
         "Extrapolation",
         "0.0",
         "5.513934647969015",
         "4.52983536140681",
         "6.498033934531221"
        ],
        [
         "29",
         "cam",
         "0.9906592135167774",
         "128.0",
         "Extrapolation",
         "0.0",
         "5.563883103902246",
         "4.571834519573677",
         "6.555931688230814"
        ],
        [
         "30",
         "cam",
         "0.9916415352266232",
         "133.0",
         "Extrapolation",
         "0.0",
         "5.60857874170023",
         "4.608633924207676",
         "6.608523559192784"
        ],
        [
         "31",
         "cam",
         "0.992352473795775",
         "137.0",
         "Extrapolation",
         "0.0",
         "5.640926446596633",
         "4.634855924785112",
         "6.646996968408153"
        ],
        [
         "32",
         "cam",
         "0.9931567241691797",
         "142.0",
         "Extrapolation",
         "0.0",
         "5.677519838586547",
         "4.664163380811821",
         "6.690876296361274"
        ],
        [
         "33",
         "cam",
         "0.9938763957329342",
         "147.0",
         "Extrapolation",
         "0.0",
         "5.710264894737378",
         "4.690119045854748",
         "6.730410743620008"
        ],
        [
         "34",
         "cam",
         "0.9943972457423217",
         "151.0",
         "Extrapolation",
         "0.0",
         "5.73396357016451",
         "4.708770371789888",
         "6.759156768539133"
        ],
        [
         "35",
         "cam",
         "0.9949864581338195",
         "156.0",
         "Extrapolation",
         "0.0",
         "5.760772733977659",
         "4.729752804204971",
         "6.791792663750348"
        ],
        [
         "36",
         "cam",
         "0.995513706136674",
         "161.0",
         "Extrapolation",
         "0.0",
         "5.7847625181075415",
         "4.748444061008781",
         "6.821080975206302"
        ],
        [
         "37",
         "cam",
         "0.9958952928785535",
         "165.0",
         "Extrapolation",
         "0.0",
         "5.802124714863059",
         "4.761928080313292",
         "6.842321349412825"
        ],
        [
         "38",
         "cam",
         "0.9963269634798672",
         "170.0",
         "Extrapolation",
         "0.0",
         "5.8217657272228305",
         "4.777141672798658",
         "6.866389781647003"
        ],
        [
         "39",
         "cam",
         "0.9967132375394727",
         "175.0",
         "Extrapolation",
         "0.0",
         "5.8393411969348845",
         "4.79072237932344",
         "6.887960014546329"
        ],
        [
         "40",
         "cam",
         "0.9970588891744696",
         "180.0",
         "Extrapolation",
         "0.0",
         "5.8550683463272435",
         "4.802852394811918",
         "6.907284297842569"
        ],
        [
         "41",
         "cam",
         "0.42721867547745607",
         "1.0",
         "Rarefaction",
         "1.0",
         "1.0000059225657802",
         "0.9246057844833659",
         "1.0754060606481946"
        ],
        [
         "42",
         "cam",
         "0.8730207681336144",
         "5.0",
         "Rarefaction",
         "1.0",
         "2.046072123848737",
         "1.751230724532471",
         "2.3409135231650033"
        ],
        [
         "43",
         "cam",
         "0.9362257189294075",
         "10.0",
         "Rarefaction",
         "1.0",
         "2.3188791614584234",
         "1.9656271141247257",
         "2.672131208792121"
        ],
        [
         "44",
         "cam",
         "0.95262239329425",
         "15.0",
         "Rarefaction",
         "1.0",
         "2.4313779747856086",
         "2.0679494487410603",
         "2.794806500830157"
        ],
        [
         "45",
         "cam",
         "0.9617086184273347",
         "20.0",
         "Rarefaction",
         "1.0",
         "2.495717720516499",
         "2.1359708700593023",
         "2.8554645709736954"
        ],
        [
         "46",
         "cam",
         "0.9677416534394379",
         "25.0",
         "Rarefaction",
         "1.0",
         "2.538145542011225",
         "2.180886237970827",
         "2.8954048460516226"
        ],
        [
         "47",
         "cam",
         "0.9717470630623138",
         "30.0",
         "Rarefaction",
         "1.0",
         "2.568542996332947",
         "2.2147601117713043",
         "2.92232588089459"
        ],
        [
         "48",
         "cam",
         "0.9743209556074772",
         "35.0",
         "Rarefaction",
         "1.0",
         "2.5916013233265294",
         "2.239267006083586",
         "2.9439356405694728"
        ],
        [
         "49",
         "cam",
         "0.9759061231860803",
         "40.0",
         "Rarefaction",
         "1.0",
         "2.6098586500951217",
         "2.2579231128377932",
         "2.9617941873524503"
        ],
        [
         "50",
         "cam",
         "0.9768329642888207",
         "45.0",
         "Rarefaction",
         "1.0",
         "2.624806785010616",
         "2.272938950874201",
         "2.976674619147031"
        ]
       ],
       "shape": {
        "columns": 8,
        "rows": 300
       }
      },
      "text/html": [
       "<div>\n",
       "<style scoped>\n",
       "    .dataframe tbody tr th:only-of-type {\n",
       "        vertical-align: middle;\n",
       "    }\n",
       "\n",
       "    .dataframe tbody tr th {\n",
       "        vertical-align: top;\n",
       "    }\n",
       "\n",
       "    .dataframe thead th {\n",
       "        text-align: right;\n",
       "    }\n",
       "</style>\n",
       "<table border=\"1\" class=\"dataframe\">\n",
       "  <thead>\n",
       "    <tr style=\"text-align: right;\">\n",
       "      <th></th>\n",
       "      <th>Assemblage</th>\n",
       "      <th>SC</th>\n",
       "      <th>m</th>\n",
       "      <th>Method</th>\n",
       "      <th>Order.q</th>\n",
       "      <th>qD</th>\n",
       "      <th>qD.LCL</th>\n",
       "      <th>qD.UCL</th>\n",
       "    </tr>\n",
       "  </thead>\n",
       "  <tbody>\n",
       "    <tr>\n",
       "      <th>1</th>\n",
       "      <td>cam</td>\n",
       "      <td>0.427219</td>\n",
       "      <td>1.0</td>\n",
       "      <td>Rarefaction</td>\n",
       "      <td>0.0</td>\n",
       "      <td>1.000007</td>\n",
       "      <td>0.912994</td>\n",
       "      <td>1.087020</td>\n",
       "    </tr>\n",
       "    <tr>\n",
       "      <th>2</th>\n",
       "      <td>cam</td>\n",
       "      <td>0.873021</td>\n",
       "      <td>5.0</td>\n",
       "      <td>Rarefaction</td>\n",
       "      <td>0.0</td>\n",
       "      <td>2.321592</td>\n",
       "      <td>1.941291</td>\n",
       "      <td>2.701892</td>\n",
       "    </tr>\n",
       "    <tr>\n",
       "      <th>3</th>\n",
       "      <td>cam</td>\n",
       "      <td>0.936226</td>\n",
       "      <td>10.0</td>\n",
       "      <td>Rarefaction</td>\n",
       "      <td>0.0</td>\n",
       "      <td>2.785907</td>\n",
       "      <td>2.245413</td>\n",
       "      <td>3.326401</td>\n",
       "    </tr>\n",
       "    <tr>\n",
       "      <th>4</th>\n",
       "      <td>cam</td>\n",
       "      <td>0.952622</td>\n",
       "      <td>15.0</td>\n",
       "      <td>Rarefaction</td>\n",
       "      <td>0.0</td>\n",
       "      <td>3.066804</td>\n",
       "      <td>2.451864</td>\n",
       "      <td>3.681744</td>\n",
       "    </tr>\n",
       "    <tr>\n",
       "      <th>5</th>\n",
       "      <td>cam</td>\n",
       "      <td>0.961709</td>\n",
       "      <td>20.0</td>\n",
       "      <td>Rarefaction</td>\n",
       "      <td>0.0</td>\n",
       "      <td>3.283941</td>\n",
       "      <td>2.631933</td>\n",
       "      <td>3.935949</td>\n",
       "    </tr>\n",
       "    <tr>\n",
       "      <th>...</th>\n",
       "      <td>...</td>\n",
       "      <td>...</td>\n",
       "      <td>...</td>\n",
       "      <td>...</td>\n",
       "      <td>...</td>\n",
       "      <td>...</td>\n",
       "      <td>...</td>\n",
       "      <td>...</td>\n",
       "    </tr>\n",
       "    <tr>\n",
       "      <th>296</th>\n",
       "      <td>net</td>\n",
       "      <td>0.993864</td>\n",
       "      <td>146.0</td>\n",
       "      <td>Rarefaction</td>\n",
       "      <td>2.0</td>\n",
       "      <td>2.411088</td>\n",
       "      <td>2.173964</td>\n",
       "      <td>2.648212</td>\n",
       "    </tr>\n",
       "    <tr>\n",
       "      <th>297</th>\n",
       "      <td>net</td>\n",
       "      <td>0.994105</td>\n",
       "      <td>155.0</td>\n",
       "      <td>Rarefaction</td>\n",
       "      <td>2.0</td>\n",
       "      <td>2.412451</td>\n",
       "      <td>2.175375</td>\n",
       "      <td>2.649527</td>\n",
       "    </tr>\n",
       "    <tr>\n",
       "      <th>298</th>\n",
       "      <td>net</td>\n",
       "      <td>0.994268</td>\n",
       "      <td>165.0</td>\n",
       "      <td>Rarefaction</td>\n",
       "      <td>2.0</td>\n",
       "      <td>2.413793</td>\n",
       "      <td>2.176817</td>\n",
       "      <td>2.650769</td>\n",
       "    </tr>\n",
       "    <tr>\n",
       "      <th>299</th>\n",
       "      <td>net</td>\n",
       "      <td>0.994318</td>\n",
       "      <td>174.0</td>\n",
       "      <td>Rarefaction</td>\n",
       "      <td>2.0</td>\n",
       "      <td>2.414923</td>\n",
       "      <td>2.178544</td>\n",
       "      <td>2.651301</td>\n",
       "    </tr>\n",
       "    <tr>\n",
       "      <th>300</th>\n",
       "      <td>net</td>\n",
       "      <td>1.000000</td>\n",
       "      <td>176.0</td>\n",
       "      <td>Observed</td>\n",
       "      <td>2.0</td>\n",
       "      <td>2.415094</td>\n",
       "      <td>2.179484</td>\n",
       "      <td>2.650705</td>\n",
       "    </tr>\n",
       "  </tbody>\n",
       "</table>\n",
       "<p>300 rows × 8 columns</p>\n",
       "</div>"
      ],
      "text/plain": [
       "    Assemblage        SC      m       Method  Order.q        qD    qD.LCL  \\\n",
       "1          cam  0.427219    1.0  Rarefaction      0.0  1.000007  0.912994   \n",
       "2          cam  0.873021    5.0  Rarefaction      0.0  2.321592  1.941291   \n",
       "3          cam  0.936226   10.0  Rarefaction      0.0  2.785907  2.245413   \n",
       "4          cam  0.952622   15.0  Rarefaction      0.0  3.066804  2.451864   \n",
       "5          cam  0.961709   20.0  Rarefaction      0.0  3.283941  2.631933   \n",
       "..         ...       ...    ...          ...      ...       ...       ...   \n",
       "296        net  0.993864  146.0  Rarefaction      2.0  2.411088  2.173964   \n",
       "297        net  0.994105  155.0  Rarefaction      2.0  2.412451  2.175375   \n",
       "298        net  0.994268  165.0  Rarefaction      2.0  2.413793  2.176817   \n",
       "299        net  0.994318  174.0  Rarefaction      2.0  2.414923  2.178544   \n",
       "300        net  1.000000  176.0     Observed      2.0  2.415094  2.179484   \n",
       "\n",
       "       qD.UCL  \n",
       "1    1.087020  \n",
       "2    2.701892  \n",
       "3    3.326401  \n",
       "4    3.681744  \n",
       "5    3.935949  \n",
       "..        ...  \n",
       "296  2.648212  \n",
       "297  2.649527  \n",
       "298  2.650769  \n",
       "299  2.651301  \n",
       "300  2.650705  \n",
       "\n",
       "[300 rows x 8 columns]"
      ]
     },
     "execution_count": 26,
     "metadata": {},
     "output_type": "execute_result"
    }
   ],
   "source": [
    "coverage_est"
   ]
  },
  {
   "cell_type": "code",
   "execution_count": 27,
   "id": "b7f56474",
   "metadata": {},
   "outputs": [
    {
     "data": {
      "image/png": "[encoded data removed]",
      "text/plain": [
       "<Figure size 640x480 with 1 Axes>"
      ]
     },
     "metadata": {},
     "output_type": "display_data"
    }
   ],
   "source": [
    "fig, ax = plt.subplots()\n",
    "\n",
    "method_styles = {\n",
    "    \"Rarefaction\": {\"linestyle\": \"-\", \"marker\": \"\"},\n",
    "    \"Observed\": {\"linestyle\": \"None\", \"marker\": \"o\"},\n",
    "    \"Extrapolation\": {\"linestyle\": \"--\", \"marker\": \"\"}\n",
    "}\n",
    "\n",
    "q = 1\n",
    "\n",
    "df_q = coverage_est[coverage_est[\"Order.q\"] == q]\n",
    "\n",
    "for (assemblage, q), subdf in df_q.groupby([\"Assemblage\", \"Order.q\"]):\n",
    "    for method, mdf in subdf.groupby(\"Method\"):\n",
    "        style = method_styles.get(method, {\"linestyle\": \"-\", \"marker\": \"\"})\n",
    "        ax.plot(\n",
    "            mdf[\"m\"], mdf[\"qD\"],\n",
    "            label=f\"{assemblage}, q={q}, {method}\",\n",
    "            **style\n",
    "        )\n",
    "        ax.fill_between(\n",
    "            mdf[\"m\"], mdf[\"qD.LCL\"], mdf[\"qD.UCL\"],\n",
    "            alpha=0.2\n",
    "        )\n",
    "\n",
    "ax.set_xlabel(\"Sample size (m)\")\n",
    "ax.set_ylabel(\"Diversity (qD)\")\n",
    "ax.set_title(\"Coverage-based Diversity Estimates by Method\")\n",
    "# ax.legend()\n",
    "plt.tight_layout()"
   ]
  },
  {
   "cell_type": "code",
   "execution_count": 28,
   "id": "7403fa89",
   "metadata": {},
   "outputs": [
    {
     "data": {
      "image/png": "[encoded data removed]",
      "text/plain": [
       "<Figure size 640x480 with 1 Axes>"
      ]
     },
     "metadata": {},
     "output_type": "display_data"
    }
   ],
   "source": [
    "fig, ax = plt.subplots()\n",
    "\n",
    "method_styles = {\n",
    "    \"Rarefaction\": {\"linestyle\": \"-\", \"marker\": \"\"},\n",
    "    \"Observed\": {\"linestyle\": \"None\", \"marker\": \"o\"},\n",
    "    \"Extrapolation\": {\"linestyle\": \"--\", \"marker\": \"\"}\n",
    "}\n",
    "\n",
    "q = 2\n",
    "df_q = coverage_est[coverage_est[\"Order.q\"] == q]\n",
    "\n",
    "for (assemblage, q), subdf in df_q.groupby([\"Assemblage\", \"Order.q\"]):\n",
    "    for method, mdf in subdf.groupby(\"Method\"):\n",
    "        style = method_styles.get(method, {\"linestyle\": \"-\", \"marker\": \"\"})\n",
    "        ax.plot(\n",
    "            mdf[\"m\"], mdf[\"SC\"],\n",
    "            label=f\"{assemblage}, q={q}, {method}\",\n",
    "            **style\n",
    "        )\n",
    "        if \"SC.LCL\" in mdf and \"SC.UCL\" in mdf:\n",
    "            ax.fill_between(\n",
    "                mdf[\"m\"], mdf[\"SC.LCL\"], mdf[\"SC.UCL\"],\n",
    "                alpha=0.2\n",
    "            )\n",
    "\n",
    "ax.set_xlabel(\"Sample size\")\n",
    "ax.set_ylabel(\"Sample coverage\")\n",
    "ax.set_title(\"Coverage-based Sample Completeness by Method\")\n",
    "ax.set_ylim(0.7, 1.01)\n",
    "# ax.set_xlim(0, 300)\n",
    "ax.legend()\n",
    "plt.tight_layout()"
   ]
  },
  {
   "cell_type": "code",
   "execution_count": null,
   "id": "dd0c9616",
   "metadata": {},
   "outputs": [],
   "source": []
  }
 ],
 "metadata": {
  "kernelspec": {
   "display_name": "bee_mapping",
   "language": "python",
   "name": "python3"
  },
  "language_info": {
   "codemirror_mode": {
    "name": "ipython",
    "version": 3
   },
   "file_extension": ".py",
   "mimetype": "text/x-python",
   "name": "python",
   "nbconvert_exporter": "python",
   "pygments_lexer": "ipython3",
   "version": "3.12.0"
  }
 },
 "nbformat": 4,
 "nbformat_minor": 5
}
