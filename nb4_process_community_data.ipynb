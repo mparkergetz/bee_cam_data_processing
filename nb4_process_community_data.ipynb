{
 "cells": [
  {
   "cell_type": "code",
   "execution_count": 10,
   "id": "55e0ba47",
   "metadata": {},
   "outputs": [],
   "source": [
    "import pandas as pd\n",
    "import matplotlib.pyplot as plt\n",
    "import numpy as np\n",
    "import matplotlib\n",
    "matplotlib.rcParams['font.family'] = 'Nimbus Sans'\n",
    "plt.rcParams['font.size'] = 10"
   ]
  },
  {
   "cell_type": "code",
   "execution_count": 11,
   "id": "905924ee",
   "metadata": {},
   "outputs": [
    {
     "data": {
      "application/vnd.microsoft.datawrangler.viewer.v0+json": {
       "columns": [
        {
         "name": "species",
         "rawType": "object",
         "type": "string"
        },
        {
         "name": "count",
         "rawType": "int64",
         "type": "integer"
        }
       ],
       "ref": "a95a4b0a-c776-406e-9cd1-2e8654be90b0",
       "rows": [
        [
         "vosnesenskii",
         "171"
        ],
        [
         "fervidus",
         "70"
        ],
        [
         "unk",
         "31"
        ],
        [
         "griseocollis",
         "13"
        ],
        [
         "nevadensis",
         "2"
        ],
        [
         "mixtus",
         "1"
        ],
        [
         "appositus",
         "1"
        ]
       ],
       "shape": {
        "columns": 1,
        "rows": 7
       }
      },
      "text/plain": [
       "species\n",
       "vosnesenskii    171\n",
       "fervidus         70\n",
       "unk              31\n",
       "griseocollis     13\n",
       "nevadensis        2\n",
       "mixtus            1\n",
       "appositus         1\n",
       "Name: count, dtype: int64"
      ]
     },
     "execution_count": 11,
     "metadata": {},
     "output_type": "execute_result"
    }
   ],
   "source": [
    "df = pd.read_csv('csvs/bombus_visit_durations.csv', parse_dates=[\"visit_start\", \"visit_end\"])\n",
    "bombus_visits_clover = df[df['visit_end'] < pd.Timestamp('2024-07-30')]\n",
    "bombus_species_counts = bombus_visits_clover['species'].value_counts()\n",
    "bombus_species_counts"
   ]
  },
  {
   "cell_type": "code",
   "execution_count": null,
   "id": "c09f5b61",
   "metadata": {},
   "outputs": [],
   "source": []
  }
 ],
 "metadata": {
  "kernelspec": {
   "display_name": "bee_mapping",
   "language": "python",
   "name": "python3"
  },
  "language_info": {
   "codemirror_mode": {
    "name": "ipython",
    "version": 3
   },
   "file_extension": ".py",
   "mimetype": "text/x-python",
   "name": "python",
   "nbconvert_exporter": "python",
   "pygments_lexer": "ipython3",
   "version": "3.12.0"
  }
 },
 "nbformat": 4,
 "nbformat_minor": 5
}
