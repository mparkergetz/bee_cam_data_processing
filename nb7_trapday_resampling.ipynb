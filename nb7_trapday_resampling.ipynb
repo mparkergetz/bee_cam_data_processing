{
 "cells": [
  {
   "cell_type": "code",
   "execution_count": 125,
   "id": "f2802cb6",
   "metadata": {},
   "outputs": [],
   "source": [
    "import pandas as pd\n",
    "import rpy2\n",
    "import matplotlib.pyplot as plt\n",
    "import numpy as np\n",
    "import statsmodels.api as sm\n",
    "import statsmodels.formula.api as smf\n",
    "from rpy2.robjects import r, default_converter\n",
    "from rpy2.robjects.packages import importr\n",
    "from rpy2.robjects.conversion import localconverter\n",
    "from rpy2.robjects import pandas2ri"
   ]
  },
  {
   "cell_type": "code",
   "execution_count": 126,
   "id": "820ce472",
   "metadata": {},
   "outputs": [
    {
     "name": "stdout",
     "output_type": "stream",
     "text": [
      "        species  count\n",
      "0  vosnesenskii    173\n",
      "1      fervidus     70\n",
      "3  griseocollis     13\n",
      "4    nevadensis      2\n",
      "5     appositus      1\n",
      "6        mixtus      1\n"
     ]
    }
   ],
   "source": [
    "# LOAD BOMBUS VISIT TIMES, EXTACT SPECIES ABUNDANCE DISTRIBUTION\n",
    "visit_durations_clover = pd.read_csv('csvs/visit_durations_clover.csv', parse_dates=['visit_start', 'visit_end'])\n",
    "species_count = visit_durations_clover.value_counts('species').reset_index()\n",
    "species_count = species_count[species_count['species'] != 'unk']\n",
    "print(species_count)"
   ]
  },
  {
   "cell_type": "code",
   "execution_count": 127,
   "id": "c7724a17",
   "metadata": {},
   "outputs": [],
   "source": [
    "cnt_visits_per_hr = pd.read_csv('csvs/cnt_visits_per_hour.csv', parse_dates=['date'])"
   ]
  },
  {
   "cell_type": "code",
   "execution_count": 128,
   "id": "3e8ba671",
   "metadata": {},
   "outputs": [
    {
     "name": "stdout",
     "output_type": "stream",
     "text": [
      "Dispersion = 3.316910978226268\n",
      "OVERDISPERSED USE NEG BIONOMIAL\n"
     ]
    }
   ],
   "source": [
    "# FIT BASELINE POISSON MODEL\n",
    "\n",
    "cnt_visits_per_hr['log_hours'] = np.log(cnt_visits_per_hr['hours']) \n",
    "\n",
    "model_pois = smf.glm(\n",
    "    formula=\"visit_count ~ 1\", \n",
    "    data=cnt_visits_per_hr,\n",
    "    family=sm.families.Poisson(),\n",
    "    offset=cnt_visits_per_hr['log_hours']\n",
    ").fit()\n",
    "\n",
    "pearson_chi2 = sum(model_pois.resid_pearson**2) ## CHECK FOR OVERDISPERSION (>1.5?)\n",
    "dispersion = pearson_chi2 / model_pois.df_resid\n",
    "print(\"Dispersion =\", dispersion)\n",
    "if dispersion > 1.5:\n",
    "    print(\"OVERDISPERSED USE NEG BIONOMIAL\")"
   ]
  },
  {
   "cell_type": "code",
   "execution_count": 129,
   "id": "11d687b1",
   "metadata": {},
   "outputs": [
    {
     "name": "stdout",
     "output_type": "stream",
     "text": [
      "                 Generalized Linear Model Regression Results                  \n",
      "==============================================================================\n",
      "Dep. Variable:            visit_count   No. Observations:                   35\n",
      "Model:                            GLM   Df Residuals:                       34\n",
      "Model Family:        NegativeBinomial   Df Model:                            0\n",
      "Link Function:                    Log   Scale:                          1.0000\n",
      "Method:                          IRLS   Log-Likelihood:                -74.101\n",
      "Date:                Wed, 15 Oct 2025   Deviance:                       31.951\n",
      "Time:                        16:43:05   Pearson chi2:                     30.1\n",
      "No. Iterations:                     5   Pseudo R-squ. (CS):              0.000\n",
      "Covariance Type:            nonrobust                                         \n",
      "==============================================================================\n",
      "                 coef    std err          z      P>|z|      [0.025      0.975]\n",
      "------------------------------------------------------------------------------\n",
      "Intercept     -1.4204      0.201     -7.070      0.000      -1.814      -1.027\n",
      "==============================================================================\n",
      "\n",
      "Estimated visit rate per hour: 0.24161904774478468\n",
      "\n",
      "Observed zero proportion: 0.22857142857142856\n",
      "Predicted zero (NB) proportion: 0.2920389955209963\n",
      "\n",
      "NO ZERO INFLATION NECESSARY\n"
     ]
    },
    {
     "name": "stderr",
     "output_type": "stream",
     "text": [
      "/home/misha/miniconda3/envs/bee_mapping/lib/python3.12/site-packages/statsmodels/genmod/families/family.py:1367: ValueWarning: Negative binomial dispersion parameter alpha not set. Using default value alpha=1.0.\n",
      "  warnings.warn(\"Negative binomial dispersion parameter alpha not \"\n"
     ]
    }
   ],
   "source": [
    "# FIT NEGATIVE BINOMIAL MODEL DUE TO OVERDISPERSION\n",
    "model_nb = smf.glm(\n",
    "    formula=\"visit_count ~ 1\",\n",
    "    data=cnt_visits_per_hr,\n",
    "    family=sm.families.NegativeBinomial(),\n",
    "    offset=cnt_visits_per_hr['log_hours']\n",
    ").fit()\n",
    "\n",
    "print(model_nb.summary())\n",
    "\n",
    "rate_per_hour = np.exp(model_nb.params['Intercept'])\n",
    "\n",
    "print(\"\\nEstimated visit rate per hour:\", rate_per_hour)\n",
    "print()\n",
    "\n",
    "# CHECK FOR ZERO-INFLATION\n",
    "observed_zero_prop = (cnt_visits_per_hr['visit_count'] == 0).mean()\n",
    "mu = model_nb.predict()\n",
    "alpha = model_nb.scale \n",
    "predicted_zero_prob = np.mean((1 + alpha * mu) ** (-1/alpha))\n",
    "\n",
    "print(\"Observed zero proportion:\", observed_zero_prop)\n",
    "print(\"Predicted zero (NB) proportion:\", predicted_zero_prob)\n",
    "print()\n",
    "if predicted_zero_prob > observed_zero_prop:\n",
    "    print('NO ZERO INFLATION NECESSARY')"
   ]
  },
  {
   "cell_type": "code",
   "execution_count": 130,
   "id": "2c67dd14",
   "metadata": {},
   "outputs": [],
   "source": [
    "\n",
    "mu_14h = 0.24161904774478468 * 14 # RATE * 14 HOURS\n",
    "species_list = species_count['species'].values\n",
    "p_species = species_count['count'] / species_count['count'].sum()\n",
    "\n",
    "def rneg_binomial(mu): # NEG BINOMIAL DRAW FUNCTION\n",
    "    # Var = mu + alpha*mu^2 (alpha=1)\n",
    "    p = 1 / (1 + mu) # success probability\n",
    "    return np.random.negative_binomial(1, p)"
   ]
  },
  {
   "cell_type": "code",
   "execution_count": null,
   "id": "a55ec7da",
   "metadata": {},
   "outputs": [
    {
     "data": {
      "application/vnd.microsoft.datawrangler.viewer.v0+json": {
       "columns": [
        {
         "name": "index",
         "rawType": "int64",
         "type": "integer"
        },
        {
         "name": "vosnesenskii",
         "rawType": "int64",
         "type": "integer"
        },
        {
         "name": "fervidus",
         "rawType": "int64",
         "type": "integer"
        },
        {
         "name": "griseocollis",
         "rawType": "int64",
         "type": "integer"
        },
        {
         "name": "nevadensis",
         "rawType": "int64",
         "type": "integer"
        },
        {
         "name": "appositus",
         "rawType": "int64",
         "type": "integer"
        },
        {
         "name": "mixtus",
         "rawType": "int64",
         "type": "integer"
        }
       ],
       "ref": "3d46a264-f4e5-4371-9534-5a51f3c65d75",
       "rows": [
        [
         "0",
         "5",
         "2",
         "0",
         "1",
         "0",
         "0"
        ],
        [
         "1",
         "1",
         "0",
         "0",
         "0",
         "0",
         "0"
        ],
        [
         "2",
         "1",
         "0",
         "0",
         "0",
         "0",
         "0"
        ],
        [
         "3",
         "5",
         "3",
         "0",
         "0",
         "1",
         "1"
        ],
        [
         "4",
         "0",
         "0",
         "0",
         "0",
         "0",
         "0"
        ],
        [
         "5",
         "2",
         "3",
         "1",
         "0",
         "0",
         "0"
        ],
        [
         "6",
         "1",
         "5",
         "1",
         "0",
         "0",
         "0"
        ],
        [
         "7",
         "1",
         "0",
         "0",
         "0",
         "0",
         "0"
        ],
        [
         "8",
         "2",
         "0",
         "0",
         "0",
         "0",
         "0"
        ],
        [
         "9",
         "1",
         "0",
         "0",
         "0",
         "0",
         "0"
        ],
        [
         "10",
         "4",
         "1",
         "1",
         "0",
         "0",
         "0"
        ],
        [
         "11",
         "0",
         "0",
         "0",
         "0",
         "0",
         "0"
        ],
        [
         "12",
         "3",
         "0",
         "0",
         "0",
         "0",
         "0"
        ],
        [
         "13",
         "7",
         "0",
         "0",
         "0",
         "0",
         "0"
        ],
        [
         "14",
         "4",
         "3",
         "0",
         "0",
         "0",
         "0"
        ],
        [
         "15",
         "4",
         "0",
         "0",
         "0",
         "0",
         "0"
        ],
        [
         "16",
         "8",
         "2",
         "1",
         "0",
         "0",
         "0"
        ],
        [
         "17",
         "5",
         "2",
         "0",
         "0",
         "0",
         "0"
        ],
        [
         "18",
         "0",
         "1",
         "0",
         "0",
         "0",
         "0"
        ],
        [
         "19",
         "4",
         "0",
         "0",
         "0",
         "0",
         "0"
        ],
        [
         "20",
         "3",
         "0",
         "0",
         "0",
         "0",
         "0"
        ],
        [
         "21",
         "1",
         "1",
         "0",
         "0",
         "0",
         "0"
        ],
        [
         "22",
         "2",
         "0",
         "0",
         "0",
         "0",
         "0"
        ],
        [
         "23",
         "6",
         "3",
         "0",
         "0",
         "0",
         "0"
        ],
        [
         "24",
         "0",
         "0",
         "0",
         "0",
         "0",
         "0"
        ],
        [
         "25",
         "8",
         "2",
         "0",
         "0",
         "0",
         "0"
        ],
        [
         "26",
         "7",
         "2",
         "0",
         "0",
         "0",
         "0"
        ],
        [
         "27",
         "0",
         "0",
         "0",
         "0",
         "0",
         "0"
        ],
        [
         "28",
         "1",
         "0",
         "0",
         "0",
         "0",
         "0"
        ],
        [
         "29",
         "2",
         "2",
         "0",
         "0",
         "0",
         "0"
        ],
        [
         "30",
         "0",
         "0",
         "0",
         "0",
         "0",
         "0"
        ],
        [
         "31",
         "3",
         "2",
         "0",
         "0",
         "0",
         "1"
        ],
        [
         "32",
         "10",
         "4",
         "1",
         "0",
         "0",
         "0"
        ],
        [
         "33",
         "5",
         "3",
         "0",
         "0",
         "0",
         "0"
        ],
        [
         "34",
         "3",
         "0",
         "0",
         "0",
         "0",
         "0"
        ],
        [
         "35",
         "2",
         "0",
         "0",
         "0",
         "0",
         "0"
        ],
        [
         "36",
         "2",
         "1",
         "1",
         "0",
         "0",
         "0"
        ],
        [
         "37",
         "0",
         "0",
         "0",
         "0",
         "0",
         "0"
        ],
        [
         "38",
         "1",
         "1",
         "0",
         "0",
         "0",
         "0"
        ],
        [
         "39",
         "1",
         "1",
         "0",
         "0",
         "0",
         "0"
        ],
        [
         "40",
         "0",
         "0",
         "0",
         "0",
         "0",
         "0"
        ],
        [
         "41",
         "4",
         "4",
         "0",
         "1",
         "0",
         "0"
        ],
        [
         "42",
         "2",
         "1",
         "1",
         "0",
         "0",
         "0"
        ],
        [
         "43",
         "3",
         "1",
         "1",
         "0",
         "0",
         "0"
        ],
        [
         "44",
         "0",
         "1",
         "0",
         "0",
         "0",
         "0"
        ],
        [
         "45",
         "3",
         "2",
         "0",
         "0",
         "0",
         "0"
        ],
        [
         "46",
         "5",
         "3",
         "1",
         "0",
         "0",
         "0"
        ],
        [
         "47",
         "5",
         "0",
         "0",
         "0",
         "0",
         "0"
        ],
        [
         "48",
         "1",
         "0",
         "0",
         "0",
         "0",
         "0"
        ],
        [
         "49",
         "0",
         "0",
         "0",
         "0",
         "0",
         "0"
        ]
       ],
       "shape": {
        "columns": 6,
        "rows": 1000
       }
      },
      "text/html": [
       "<div>\n",
       "<style scoped>\n",
       "    .dataframe tbody tr th:only-of-type {\n",
       "        vertical-align: middle;\n",
       "    }\n",
       "\n",
       "    .dataframe tbody tr th {\n",
       "        vertical-align: top;\n",
       "    }\n",
       "\n",
       "    .dataframe thead th {\n",
       "        text-align: right;\n",
       "    }\n",
       "</style>\n",
       "<table border=\"1\" class=\"dataframe\">\n",
       "  <thead>\n",
       "    <tr style=\"text-align: right;\">\n",
       "      <th></th>\n",
       "      <th>vosnesenskii</th>\n",
       "      <th>fervidus</th>\n",
       "      <th>griseocollis</th>\n",
       "      <th>nevadensis</th>\n",
       "      <th>appositus</th>\n",
       "      <th>mixtus</th>\n",
       "    </tr>\n",
       "  </thead>\n",
       "  <tbody>\n",
       "    <tr>\n",
       "      <th>0</th>\n",
       "      <td>5</td>\n",
       "      <td>2</td>\n",
       "      <td>0</td>\n",
       "      <td>1</td>\n",
       "      <td>0</td>\n",
       "      <td>0</td>\n",
       "    </tr>\n",
       "    <tr>\n",
       "      <th>1</th>\n",
       "      <td>1</td>\n",
       "      <td>0</td>\n",
       "      <td>0</td>\n",
       "      <td>0</td>\n",
       "      <td>0</td>\n",
       "      <td>0</td>\n",
       "    </tr>\n",
       "    <tr>\n",
       "      <th>2</th>\n",
       "      <td>1</td>\n",
       "      <td>0</td>\n",
       "      <td>0</td>\n",
       "      <td>0</td>\n",
       "      <td>0</td>\n",
       "      <td>0</td>\n",
       "    </tr>\n",
       "    <tr>\n",
       "      <th>3</th>\n",
       "      <td>5</td>\n",
       "      <td>3</td>\n",
       "      <td>0</td>\n",
       "      <td>0</td>\n",
       "      <td>1</td>\n",
       "      <td>1</td>\n",
       "    </tr>\n",
       "    <tr>\n",
       "      <th>4</th>\n",
       "      <td>0</td>\n",
       "      <td>0</td>\n",
       "      <td>0</td>\n",
       "      <td>0</td>\n",
       "      <td>0</td>\n",
       "      <td>0</td>\n",
       "    </tr>\n",
       "    <tr>\n",
       "      <th>...</th>\n",
       "      <td>...</td>\n",
       "      <td>...</td>\n",
       "      <td>...</td>\n",
       "      <td>...</td>\n",
       "      <td>...</td>\n",
       "      <td>...</td>\n",
       "    </tr>\n",
       "    <tr>\n",
       "      <th>995</th>\n",
       "      <td>0</td>\n",
       "      <td>0</td>\n",
       "      <td>0</td>\n",
       "      <td>0</td>\n",
       "      <td>0</td>\n",
       "      <td>0</td>\n",
       "    </tr>\n",
       "    <tr>\n",
       "      <th>996</th>\n",
       "      <td>1</td>\n",
       "      <td>0</td>\n",
       "      <td>0</td>\n",
       "      <td>0</td>\n",
       "      <td>0</td>\n",
       "      <td>0</td>\n",
       "    </tr>\n",
       "    <tr>\n",
       "      <th>997</th>\n",
       "      <td>1</td>\n",
       "      <td>1</td>\n",
       "      <td>0</td>\n",
       "      <td>0</td>\n",
       "      <td>0</td>\n",
       "      <td>0</td>\n",
       "    </tr>\n",
       "    <tr>\n",
       "      <th>998</th>\n",
       "      <td>2</td>\n",
       "      <td>0</td>\n",
       "      <td>0</td>\n",
       "      <td>0</td>\n",
       "      <td>0</td>\n",
       "      <td>0</td>\n",
       "    </tr>\n",
       "    <tr>\n",
       "      <th>999</th>\n",
       "      <td>0</td>\n",
       "      <td>0</td>\n",
       "      <td>0</td>\n",
       "      <td>0</td>\n",
       "      <td>0</td>\n",
       "      <td>0</td>\n",
       "    </tr>\n",
       "  </tbody>\n",
       "</table>\n",
       "<p>1000 rows × 6 columns</p>\n",
       "</div>"
      ],
      "text/plain": [
       "     vosnesenskii  fervidus  griseocollis  nevadensis  appositus  mixtus\n",
       "0               5         2             0           1          0       0\n",
       "1               1         0             0           0          0       0\n",
       "2               1         0             0           0          0       0\n",
       "3               5         3             0           0          1       1\n",
       "4               0         0             0           0          0       0\n",
       "..            ...       ...           ...         ...        ...     ...\n",
       "995             0         0             0           0          0       0\n",
       "996             1         0             0           0          0       0\n",
       "997             1         1             0           0          0       0\n",
       "998             2         0             0           0          0       0\n",
       "999             0         0             0           0          0       0\n",
       "\n",
       "[1000 rows x 6 columns]"
      ]
     },
     "execution_count": 131,
     "metadata": {},
     "output_type": "execute_result"
    }
   ],
   "source": [
    "\n",
    "n_iter = 1000\n",
    "\n",
    "bootstrap_results = []\n",
    "\n",
    "for b in range(n_iter):\n",
    "    total_visits = max(rneg_binomial(mu_14h), 0)\n",
    "\n",
    "    if total_visits > 0:\n",
    "        sim_counts = np.random.multinomial(total_visits, p_species)\n",
    "    else:\n",
    "        sim_counts = np.zeros_like(p_species, dtype=int)\n",
    "\n",
    "    bootstrap_results.append(dict(zip(species_list, sim_counts)))\n",
    "\n",
    "sim_df = pd.DataFrame(bootstrap_results)\n",
    "sim_df"
   ]
  },
  {
   "cell_type": "code",
   "execution_count": 132,
   "id": "8684ca9a",
   "metadata": {},
   "outputs": [],
   "source": [
    "iNEXT = importr(\"iNEXT\")\n",
    "from rpy2.robjects import FloatVector\n",
    "\n",
    "def inext_coverage_estimator(row):\n",
    "    counts = row[row > 0]\n",
    "    if len(counts) == 0:\n",
    "        return 0.0\n",
    "\n",
    "    with localconverter(default_converter + pandas2ri.converter):\n",
    "        r_counts = pandas2ri.py2rpy(counts)\n",
    "\n",
    "    out = iNEXT.iNEXT(r_counts, q=FloatVector([0]), datatype=\"abundance\")\n",
    "    data_info = out.rx2(\"DataInfo\")\n",
    "    coverage = data_info.rx2(\"SC\")[0]\n",
    "    return float(coverage)"
   ]
  },
  {
   "cell_type": "code",
   "execution_count": 133,
   "id": "1c684d82",
   "metadata": {},
   "outputs": [],
   "source": [
    "sim_df['coverage'] = sim_df.apply(inext_coverage_estimator, axis=1)\n"
   ]
  },
  {
   "cell_type": "code",
   "execution_count": 134,
   "id": "256ff94a",
   "metadata": {},
   "outputs": [
    {
     "data": {
      "application/vnd.microsoft.datawrangler.viewer.v0+json": {
       "columns": [
        {
         "name": "index",
         "rawType": "int64",
         "type": "integer"
        },
        {
         "name": "coverage",
         "rawType": "float64",
         "type": "float"
        }
       ],
       "ref": "c4a60c4d-5589-4f85-b1fe-a0d078a3518d",
       "rows": [
        [
         "0",
         "0.9028"
        ],
        [
         "1",
         "1.0"
        ],
        [
         "2",
         "1.0"
        ],
        [
         "3",
         "0.8364"
        ],
        [
         "4",
         "0.0"
        ],
        [
         "5",
         "0.881"
        ],
        [
         "6",
         "0.7857"
        ],
        [
         "7",
         "1.0"
        ],
        [
         "8",
         "1.0"
        ],
        [
         "9",
         "1.0"
        ],
        [
         "10",
         "0.7619"
        ],
        [
         "11",
         "0.0"
        ],
        [
         "12",
         "1.0"
        ],
        [
         "13",
         "1.0"
        ],
        [
         "14",
         "1.0"
        ],
        [
         "15",
         "1.0"
        ],
        [
         "16",
         "0.9242"
        ],
        [
         "17",
         "1.0"
        ],
        [
         "18",
         "1.0"
        ],
        [
         "19",
         "1.0"
        ],
        [
         "20",
         "1.0"
        ],
        [
         "21",
         "0.6667"
        ],
        [
         "22",
         "1.0"
        ],
        [
         "23",
         "1.0"
        ],
        [
         "24",
         "0.0"
        ],
        [
         "25",
         "1.0"
        ],
        [
         "26",
         "1.0"
        ],
        [
         "27",
         "0.0"
        ],
        [
         "28",
         "1.0"
        ],
        [
         "29",
         "1.0"
        ],
        [
         "30",
         "0.0"
        ],
        [
         "31",
         "0.881"
        ],
        [
         "32",
         "1.0"
        ],
        [
         "33",
         "1.0"
        ],
        [
         "34",
         "1.0"
        ],
        [
         "35",
         "1.0"
        ],
        [
         "36",
         "0.625"
        ],
        [
         "37",
         "0.0"
        ],
        [
         "38",
         "0.6667"
        ],
        [
         "39",
         "0.6667"
        ],
        [
         "40",
         "0.0"
        ],
        [
         "41",
         "1.0"
        ],
        [
         "42",
         "0.625"
        ],
        [
         "43",
         "0.7333"
        ],
        [
         "44",
         "1.0"
        ],
        [
         "45",
         "1.0"
        ],
        [
         "46",
         "1.0"
        ],
        [
         "47",
         "1.0"
        ],
        [
         "48",
         "1.0"
        ],
        [
         "49",
         "0.0"
        ]
       ],
       "shape": {
        "columns": 1,
        "rows": 1000
       }
      },
      "text/plain": [
       "0      0.9028\n",
       "1      1.0000\n",
       "2      1.0000\n",
       "3      0.8364\n",
       "4      0.0000\n",
       "        ...  \n",
       "995    0.0000\n",
       "996    1.0000\n",
       "997    0.6667\n",
       "998    1.0000\n",
       "999    0.0000\n",
       "Name: coverage, Length: 1000, dtype: float64"
      ]
     },
     "execution_count": 134,
     "metadata": {},
     "output_type": "execute_result"
    }
   ],
   "source": [
    "sim_df['coverage']"
   ]
  },
  {
   "cell_type": "code",
   "execution_count": 135,
   "id": "65ede80c",
   "metadata": {},
   "outputs": [
    {
     "data": {
      "application/vnd.microsoft.datawrangler.viewer.v0+json": {
       "columns": [
        {
         "name": "index",
         "rawType": "object",
         "type": "string"
        },
        {
         "name": "coverage",
         "rawType": "float64",
         "type": "float"
        }
       ],
       "ref": "9d2e80c8-61d4-4ce6-a9df-059389b6dfd4",
       "rows": [
        [
         "count",
         "1000.0"
        ],
        [
         "mean",
         "0.72351"
        ],
        [
         "std",
         "0.4044247654272558"
        ],
        [
         "min",
         "0.0"
        ],
        [
         "25%",
         "0.6667"
        ],
        [
         "50%",
         "1.0"
        ],
        [
         "75%",
         "1.0"
        ],
        [
         "max",
         "1.0"
        ]
       ],
       "shape": {
        "columns": 1,
        "rows": 8
       }
      },
      "text/plain": [
       "count    1000.000000\n",
       "mean        0.723510\n",
       "std         0.404425\n",
       "min         0.000000\n",
       "25%         0.666700\n",
       "50%         1.000000\n",
       "75%         1.000000\n",
       "max         1.000000\n",
       "Name: coverage, dtype: float64"
      ]
     },
     "execution_count": 135,
     "metadata": {},
     "output_type": "execute_result"
    }
   ],
   "source": [
    "sim_df['coverage'].describe()"
   ]
  },
  {
   "cell_type": "code",
   "execution_count": 136,
   "id": "1b770ce8",
   "metadata": {},
   "outputs": [
    {
     "data": {
      "application/vnd.microsoft.datawrangler.viewer.v0+json": {
       "columns": [
        {
         "name": "index",
         "rawType": "int64",
         "type": "integer"
        },
        {
         "name": "days",
         "rawType": "int64",
         "type": "integer"
        },
        {
         "name": "mean_coverage",
         "rawType": "float64",
         "type": "float"
        },
        {
         "name": "ci_low_95",
         "rawType": "float64",
         "type": "float"
        },
        {
         "name": "ci_high_95",
         "rawType": "float64",
         "type": "float"
        }
       ],
       "ref": "79921f37-e977-425d-bd8c-55947f9864c7",
       "rows": [
        [
         "0",
         "1",
         "0.7109105",
         "0.0",
         "1.0"
        ],
        [
         "1",
         "2",
         "0.9000004",
         "0.0",
         "1.0"
        ],
        [
         "2",
         "3",
         "0.9488578",
         "0.6667",
         "1.0"
        ],
        [
         "3",
         "5",
         "0.9745798999999999",
         "0.8051025",
         "1.0"
        ],
        [
         "4",
         "7",
         "0.9844737",
         "0.8897",
         "1.0"
        ],
        [
         "5",
         "10",
         "0.9864004",
         "0.91336",
         "1.0"
        ]
       ],
       "shape": {
        "columns": 4,
        "rows": 6
       }
      },
      "text/html": [
       "<div>\n",
       "<style scoped>\n",
       "    .dataframe tbody tr th:only-of-type {\n",
       "        vertical-align: middle;\n",
       "    }\n",
       "\n",
       "    .dataframe tbody tr th {\n",
       "        vertical-align: top;\n",
       "    }\n",
       "\n",
       "    .dataframe thead th {\n",
       "        text-align: right;\n",
       "    }\n",
       "</style>\n",
       "<table border=\"1\" class=\"dataframe\">\n",
       "  <thead>\n",
       "    <tr style=\"text-align: right;\">\n",
       "      <th></th>\n",
       "      <th>days</th>\n",
       "      <th>mean_coverage</th>\n",
       "      <th>ci_low_95</th>\n",
       "      <th>ci_high_95</th>\n",
       "    </tr>\n",
       "  </thead>\n",
       "  <tbody>\n",
       "    <tr>\n",
       "      <th>0</th>\n",
       "      <td>1</td>\n",
       "      <td>0.710911</td>\n",
       "      <td>0.000000</td>\n",
       "      <td>1.0</td>\n",
       "    </tr>\n",
       "    <tr>\n",
       "      <th>1</th>\n",
       "      <td>2</td>\n",
       "      <td>0.900000</td>\n",
       "      <td>0.000000</td>\n",
       "      <td>1.0</td>\n",
       "    </tr>\n",
       "    <tr>\n",
       "      <th>2</th>\n",
       "      <td>3</td>\n",
       "      <td>0.948858</td>\n",
       "      <td>0.666700</td>\n",
       "      <td>1.0</td>\n",
       "    </tr>\n",
       "    <tr>\n",
       "      <th>3</th>\n",
       "      <td>5</td>\n",
       "      <td>0.974580</td>\n",
       "      <td>0.805103</td>\n",
       "      <td>1.0</td>\n",
       "    </tr>\n",
       "    <tr>\n",
       "      <th>4</th>\n",
       "      <td>7</td>\n",
       "      <td>0.984474</td>\n",
       "      <td>0.889700</td>\n",
       "      <td>1.0</td>\n",
       "    </tr>\n",
       "    <tr>\n",
       "      <th>5</th>\n",
       "      <td>10</td>\n",
       "      <td>0.986400</td>\n",
       "      <td>0.913360</td>\n",
       "      <td>1.0</td>\n",
       "    </tr>\n",
       "  </tbody>\n",
       "</table>\n",
       "</div>"
      ],
      "text/plain": [
       "   days  mean_coverage  ci_low_95  ci_high_95\n",
       "0     1       0.710911   0.000000         1.0\n",
       "1     2       0.900000   0.000000         1.0\n",
       "2     3       0.948858   0.666700         1.0\n",
       "3     5       0.974580   0.805103         1.0\n",
       "4     7       0.984474   0.889700         1.0\n",
       "5    10       0.986400   0.913360         1.0"
      ]
     },
     "execution_count": 136,
     "metadata": {},
     "output_type": "execute_result"
    }
   ],
   "source": [
    "from rpy2.robjects import IntVector, FloatVector\n",
    "from rpy2.robjects.packages import importr\n",
    "from rpy2.rinterface_lib.embedded import RRuntimeError\n",
    "\n",
    "iNEXT = importr(\"iNEXT\")\n",
    "\n",
    "def rneg_binomial(mu):\n",
    "    \"\"\"Negative binomial draw with Var = mu + mu^2 (alpha = 1).\"\"\"\n",
    "    p = 1.0 / (1.0 + mu)\n",
    "    return np.random.negative_binomial(1, p)\n",
    "\n",
    "def simulate_one_day(mu_14h, p_species):\n",
    "    \"\"\"Simulate one 14-hour day of visits and allocate to species.\"\"\"\n",
    "    total_visits = max(rneg_binomial(mu_14h), 0)\n",
    "    if total_visits > 0:\n",
    "        return np.random.multinomial(total_visits, p_species).astype(int)\n",
    "    else:\n",
    "        return np.zeros_like(p_species, dtype=int)\n",
    "\n",
    "def inext_coverage_from_counts(counts_np):\n",
    "    \"\"\"\n",
    "    Compute sample coverage with iNEXT (q=0) from a pooled abundance vector.\n",
    "    Robust: handles empty / degenerate inputs; falls back to Good's estimator.\n",
    "    \"\"\"\n",
    "    N = int(counts_np.sum())\n",
    "    if N == 0:\n",
    "        return 0.0  # no observations ⇒ zero coverage\n",
    "\n",
    "    # Keep only observed species (iNEXT expects non-zero abundances)\n",
    "    nz = counts_np[counts_np > 0].astype(int)\n",
    "    if nz.size == 0:\n",
    "        return 0.0\n",
    "\n",
    "    # Try iNEXT; if it fails (edge cases), fall back to Good's coverage.\n",
    "    try:\n",
    "        r_counts = IntVector(list(nz))\n",
    "        out = iNEXT.iNEXT(r_counts, q=FloatVector([0.0]), datatype=\"abundance\")\n",
    "        data_info = out.rx2(\"DataInfo\")\n",
    "        sc = float(list(data_info.rx2(\"SC\"))[0])  # sample coverage\n",
    "        # Guard against NaN/None from R edge cases\n",
    "        if np.isnan(sc):\n",
    "            raise ValueError(\"iNEXT returned NaN coverage\")\n",
    "        return sc\n",
    "    except Exception:\n",
    "        # Fallback = Good’s coverage: C-hat = 1 - F1 / N\n",
    "        F1 = int(np.sum(nz == 1))\n",
    "        return 1.0 - (F1 / float(N))\n",
    "\n",
    "def bootstrap_coverage_by_days(\n",
    "    days_to_test, n_iter, mu_14h, p_species, random_seed=None\n",
    "):\n",
    "    \"\"\"\n",
    "    For each D in days_to_test:\n",
    "      - simulate D independent 14-hour days per bootstrap iteration,\n",
    "      - pool counts across days,\n",
    "      - compute coverage (iNEXT with robust fallback),\n",
    "      - summarize mean + 95% CI across iterations.\n",
    "    Returns a tidy DataFrame.\n",
    "    \"\"\"\n",
    "    if random_seed is not None:\n",
    "        np.random.seed(random_seed)\n",
    "\n",
    "    results = []\n",
    "    for D in days_to_test:\n",
    "        covs = np.empty(n_iter, dtype=float)\n",
    "        for b in range(n_iter):\n",
    "            pooled = np.zeros_like(p_species, dtype=int)\n",
    "            for _ in range(D):\n",
    "                pooled += simulate_one_day(mu_14h, p_species)\n",
    "            covs[b] = inext_coverage_from_counts(pooled)\n",
    "\n",
    "        mean_cov = float(np.mean(covs))\n",
    "        ci_low, ci_high = np.quantile(covs, [0.025, 0.975])\n",
    "        results.append({\n",
    "            \"days\": D,\n",
    "            \"mean_coverage\": mean_cov,\n",
    "            \"ci_low_95\": float(ci_low),\n",
    "            \"ci_high_95\": float(ci_high)\n",
    "        })\n",
    "\n",
    "    return pd.DataFrame(results).sort_values(\"days\").reset_index(drop=True)\n",
    "\n",
    "\n",
    "days_to_test = [1, 2, 3, 5, 7, 10]\n",
    "n_iter = 1000 \n",
    "\n",
    "coverage_summary = bootstrap_coverage_by_days(\n",
    "    days_to_test=days_to_test,\n",
    "    n_iter=n_iter,\n",
    "    mu_14h=mu_14h,\n",
    "    p_species=p_species.values if hasattr(p_species, \"values\") else p_species,\n",
    "    random_seed=42\n",
    ")\n",
    "\n",
    "coverage_summary"
   ]
  },
  {
   "cell_type": "code",
   "execution_count": 137,
   "id": "d6b28a45",
   "metadata": {},
   "outputs": [],
   "source": [
    "coverage_summary.to_csv('csvs/boot_out_1k.csv')"
   ]
  }
 ],
 "metadata": {
  "kernelspec": {
   "display_name": "bee_mapping",
   "language": "python",
   "name": "python3"
  },
  "language_info": {
   "codemirror_mode": {
    "name": "ipython",
    "version": 3
   },
   "file_extension": ".py",
   "mimetype": "text/x-python",
   "name": "python",
   "nbconvert_exporter": "python",
   "pygments_lexer": "ipython3",
   "version": "3.12.0"
  }
 },
 "nbformat": 4,
 "nbformat_minor": 5
}
