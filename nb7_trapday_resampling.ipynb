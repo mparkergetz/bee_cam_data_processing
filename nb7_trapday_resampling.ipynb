{
 "cells": [
  {
   "cell_type": "code",
   "execution_count": 2,
   "id": "f2802cb6",
   "metadata": {},
   "outputs": [],
   "source": [
    "import pandas as pd\n",
    "import matplotlib.pyplot as plt\n",
    "import numpy as np\n",
    "import statsmodels.api as sm\n",
    "import statsmodels.formula.api as smf\n",
    "from scipy.interpolate import PchipInterpolator\n",
    "import matplotlib\n",
    "matplotlib.rcParams['font.family'] = 'Nimbus Sans'\n",
    "plt.rcParams['font.size'] = 9\n",
    "plt.rcParams['figure.facecolor'] = 'none'\n",
    "plt.rcParams['axes.facecolor'] = 'none'  "
   ]
  },
  {
   "cell_type": "code",
   "execution_count": 3,
   "id": "820ce472",
   "metadata": {},
   "outputs": [
    {
     "name": "stdout",
     "output_type": "stream",
     "text": [
      "        species  count\n",
      "0  vosnesenskii    173\n",
      "1      fervidus     70\n",
      "3  griseocollis     13\n",
      "4    nevadensis      2\n",
      "5     appositus      1\n",
      "6        mixtus      1\n"
     ]
    }
   ],
   "source": [
    "# LOAD BOMBUS VISIT TIMES, EXTACT SPECIES ABUNDANCE DISTRIBUTION\n",
    "visit_durations_clover = pd.read_csv('csvs/visit_durations_clover.csv', parse_dates=['visit_start', 'visit_end'])\n",
    "species_count = visit_durations_clover.value_counts('species').reset_index()\n",
    "species_count = species_count[species_count['species'] != 'unk']\n",
    "print(species_count)"
   ]
  },
  {
   "cell_type": "code",
   "execution_count": 4,
   "id": "c7724a17",
   "metadata": {},
   "outputs": [],
   "source": [
    "cnt_visits_per_hr = pd.read_csv('csvs/cnt_visits_per_hour.csv', parse_dates=['date'])"
   ]
  },
  {
   "cell_type": "code",
   "execution_count": 5,
   "id": "3e8ba671",
   "metadata": {},
   "outputs": [
    {
     "name": "stdout",
     "output_type": "stream",
     "text": [
      "Dispersion = 3.316910978226268\n",
      "OVERDISPERSED USE NEG BIONOMIAL\n"
     ]
    }
   ],
   "source": [
    "# FIT BASELINE POISSON MODEL\n",
    "\n",
    "cnt_visits_per_hr['log_hours'] = np.log(cnt_visits_per_hr['hours']) \n",
    "\n",
    "model_pois = smf.glm(\n",
    "    formula=\"visit_count ~ 1\", \n",
    "    data=cnt_visits_per_hr,\n",
    "    family=sm.families.Poisson(),\n",
    "    offset=cnt_visits_per_hr['log_hours']\n",
    ").fit()\n",
    "\n",
    "pearson_chi2 = sum(model_pois.resid_pearson**2) ## CHECK FOR OVERDISPERSION (>1.5?)\n",
    "dispersion = pearson_chi2 / model_pois.df_resid\n",
    "print(\"Dispersion =\", dispersion)\n",
    "if dispersion > 1.5:\n",
    "    print(\"OVERDISPERSED USE NEG BIONOMIAL\")"
   ]
  },
  {
   "cell_type": "code",
   "execution_count": 6,
   "id": "11d687b1",
   "metadata": {},
   "outputs": [
    {
     "name": "stdout",
     "output_type": "stream",
     "text": [
      "                 Generalized Linear Model Regression Results                  \n",
      "==============================================================================\n",
      "Dep. Variable:            visit_count   No. Observations:                   35\n",
      "Model:                            GLM   Df Residuals:                       34\n",
      "Model Family:        NegativeBinomial   Df Model:                            0\n",
      "Link Function:                    Log   Scale:                          1.0000\n",
      "Method:                          IRLS   Log-Likelihood:                -74.101\n",
      "Date:                Fri, 24 Oct 2025   Deviance:                       31.951\n",
      "Time:                        13:54:45   Pearson chi2:                     30.1\n",
      "No. Iterations:                     5   Pseudo R-squ. (CS):              0.000\n",
      "Covariance Type:            nonrobust                                         \n",
      "==============================================================================\n",
      "                 coef    std err          z      P>|z|      [0.025      0.975]\n",
      "------------------------------------------------------------------------------\n",
      "Intercept     -1.4204      0.201     -7.070      0.000      -1.814      -1.027\n",
      "==============================================================================\n",
      "\n",
      "Estimated visit rate per hour: 0.24161904774478468\n",
      "\n",
      "Observed zero proportion: 0.22857142857142856\n",
      "Predicted zero (NB) proportion: 0.2920389955209963\n",
      "\n",
      "NO ZERO INFLATION NECESSARY\n"
     ]
    },
    {
     "name": "stderr",
     "output_type": "stream",
     "text": [
      "/home/misha/miniconda3/envs/bee_mapping/lib/python3.12/site-packages/statsmodels/genmod/families/family.py:1367: ValueWarning: Negative binomial dispersion parameter alpha not set. Using default value alpha=1.0.\n",
      "  warnings.warn(\"Negative binomial dispersion parameter alpha not \"\n"
     ]
    }
   ],
   "source": [
    "# FIT NEGATIVE BINOMIAL MODEL DUE TO OVERDISPERSION\n",
    "model_nb = smf.glm(\n",
    "    formula=\"visit_count ~ 1\",\n",
    "    data=cnt_visits_per_hr,\n",
    "    family=sm.families.NegativeBinomial(),\n",
    "    offset=cnt_visits_per_hr['log_hours']\n",
    ").fit()\n",
    "\n",
    "print(model_nb.summary())\n",
    "\n",
    "rate_per_hour = np.exp(model_nb.params['Intercept'])\n",
    "\n",
    "print(\"\\nEstimated visit rate per hour:\", rate_per_hour)\n",
    "print()\n",
    "\n",
    "# CHECK FOR ZERO-INFLATION\n",
    "observed_zero_prop = (cnt_visits_per_hr['visit_count'] == 0).mean()\n",
    "mu = model_nb.predict()\n",
    "alpha = model_nb.scale \n",
    "predicted_zero_prob = np.mean((1 + alpha * mu) ** (-1/alpha))\n",
    "\n",
    "print(\"Observed zero proportion:\", observed_zero_prop)\n",
    "print(\"Predicted zero (NB) proportion:\", predicted_zero_prob)\n",
    "print()\n",
    "if predicted_zero_prob > observed_zero_prop:\n",
    "    print('NO ZERO INFLATION NECESSARY')"
   ]
  },
  {
   "cell_type": "code",
   "execution_count": 7,
   "id": "2c67dd14",
   "metadata": {},
   "outputs": [],
   "source": [
    "DAY_HOUR_LENGTH = 14   \n",
    "mu_14h = 0.24161904774478468 * DAY_HOUR_LENGTH \n",
    "species_list = species_count['species'].values\n",
    "p_species = species_count['count'] / species_count['count'].sum()\n",
    "\n",
    "def rneg_binomial(mu): # NEG BINOMIAL DRAW FUNCTION\n",
    "    # Var = mu + alpha*mu^2 (alpha=1)\n",
    "    p = 1 / (1 + mu)\n",
    "    return np.random.negative_binomial(1, p)"
   ]
  },
  {
   "cell_type": "code",
   "execution_count": 8,
   "id": "a55ec7da",
   "metadata": {},
   "outputs": [
    {
     "data": {
      "application/vnd.microsoft.datawrangler.viewer.v0+json": {
       "columns": [
        {
         "name": "index",
         "rawType": "int64",
         "type": "integer"
        },
        {
         "name": "vosnesenskii",
         "rawType": "int64",
         "type": "integer"
        },
        {
         "name": "fervidus",
         "rawType": "int64",
         "type": "integer"
        },
        {
         "name": "griseocollis",
         "rawType": "int64",
         "type": "integer"
        },
        {
         "name": "nevadensis",
         "rawType": "int64",
         "type": "integer"
        },
        {
         "name": "appositus",
         "rawType": "int64",
         "type": "integer"
        },
        {
         "name": "mixtus",
         "rawType": "int64",
         "type": "integer"
        }
       ],
       "ref": "b116d5a6-bb91-4d92-85b2-7629cf9d0f83",
       "rows": [
        [
         "0",
         "3",
         "1",
         "1",
         "0",
         "0",
         "0"
        ],
        [
         "1",
         "0",
         "0",
         "0",
         "0",
         "0",
         "0"
        ],
        [
         "2",
         "6",
         "0",
         "0",
         "0",
         "0",
         "0"
        ],
        [
         "3",
         "2",
         "0",
         "0",
         "0",
         "0",
         "0"
        ],
        [
         "4",
         "3",
         "1",
         "0",
         "0",
         "0",
         "0"
        ],
        [
         "5",
         "7",
         "1",
         "0",
         "0",
         "0",
         "0"
        ],
        [
         "6",
         "5",
         "2",
         "0",
         "0",
         "0",
         "0"
        ],
        [
         "7",
         "2",
         "0",
         "0",
         "0",
         "0",
         "0"
        ],
        [
         "8",
         "7",
         "0",
         "0",
         "0",
         "0",
         "0"
        ],
        [
         "9",
         "2",
         "2",
         "0",
         "0",
         "0",
         "0"
        ],
        [
         "10",
         "0",
         "0",
         "0",
         "0",
         "0",
         "0"
        ],
        [
         "11",
         "1",
         "0",
         "0",
         "0",
         "0",
         "0"
        ],
        [
         "12",
         "0",
         "1",
         "0",
         "0",
         "0",
         "0"
        ],
        [
         "13",
         "3",
         "1",
         "0",
         "0",
         "0",
         "0"
        ],
        [
         "14",
         "0",
         "0",
         "0",
         "0",
         "0",
         "0"
        ],
        [
         "15",
         "3",
         "1",
         "0",
         "0",
         "0",
         "0"
        ],
        [
         "16",
         "1",
         "0",
         "0",
         "0",
         "0",
         "0"
        ],
        [
         "17",
         "6",
         "0",
         "1",
         "0",
         "0",
         "0"
        ],
        [
         "18",
         "2",
         "1",
         "0",
         "0",
         "0",
         "0"
        ],
        [
         "19",
         "2",
         "1",
         "0",
         "0",
         "0",
         "0"
        ],
        [
         "20",
         "7",
         "1",
         "0",
         "1",
         "0",
         "0"
        ],
        [
         "21",
         "4",
         "0",
         "1",
         "0",
         "0",
         "0"
        ],
        [
         "22",
         "1",
         "1",
         "0",
         "0",
         "0",
         "0"
        ],
        [
         "23",
         "3",
         "0",
         "0",
         "0",
         "0",
         "0"
        ],
        [
         "24",
         "1",
         "2",
         "0",
         "0",
         "0",
         "0"
        ],
        [
         "25",
         "3",
         "3",
         "0",
         "0",
         "0",
         "0"
        ],
        [
         "26",
         "1",
         "0",
         "2",
         "0",
         "0",
         "0"
        ],
        [
         "27",
         "2",
         "1",
         "0",
         "1",
         "0",
         "0"
        ],
        [
         "28",
         "0",
         "0",
         "0",
         "0",
         "0",
         "0"
        ],
        [
         "29",
         "3",
         "0",
         "0",
         "0",
         "1",
         "0"
        ],
        [
         "30",
         "0",
         "0",
         "0",
         "0",
         "0",
         "0"
        ],
        [
         "31",
         "0",
         "0",
         "0",
         "0",
         "0",
         "0"
        ],
        [
         "32",
         "1",
         "0",
         "0",
         "0",
         "0",
         "0"
        ],
        [
         "33",
         "0",
         "0",
         "0",
         "0",
         "0",
         "0"
        ],
        [
         "34",
         "1",
         "1",
         "0",
         "0",
         "0",
         "0"
        ],
        [
         "35",
         "0",
         "2",
         "0",
         "0",
         "0",
         "0"
        ],
        [
         "36",
         "1",
         "0",
         "1",
         "0",
         "0",
         "0"
        ],
        [
         "37",
         "0",
         "3",
         "0",
         "0",
         "0",
         "0"
        ],
        [
         "38",
         "6",
         "3",
         "0",
         "0",
         "0",
         "0"
        ],
        [
         "39",
         "2",
         "1",
         "1",
         "0",
         "0",
         "0"
        ],
        [
         "40",
         "2",
         "3",
         "0",
         "0",
         "0",
         "1"
        ],
        [
         "41",
         "0",
         "0",
         "0",
         "0",
         "0",
         "0"
        ],
        [
         "42",
         "1",
         "1",
         "0",
         "0",
         "0",
         "0"
        ],
        [
         "43",
         "4",
         "0",
         "0",
         "0",
         "0",
         "0"
        ],
        [
         "44",
         "6",
         "1",
         "1",
         "0",
         "0",
         "0"
        ],
        [
         "45",
         "1",
         "0",
         "0",
         "0",
         "0",
         "0"
        ],
        [
         "46",
         "2",
         "1",
         "0",
         "0",
         "0",
         "0"
        ],
        [
         "47",
         "5",
         "0",
         "0",
         "0",
         "0",
         "0"
        ],
        [
         "48",
         "1",
         "0",
         "0",
         "0",
         "0",
         "0"
        ],
        [
         "49",
         "0",
         "0",
         "0",
         "0",
         "0",
         "0"
        ]
       ],
       "shape": {
        "columns": 6,
        "rows": 1000
       }
      },
      "text/html": [
       "<div>\n",
       "<style scoped>\n",
       "    .dataframe tbody tr th:only-of-type {\n",
       "        vertical-align: middle;\n",
       "    }\n",
       "\n",
       "    .dataframe tbody tr th {\n",
       "        vertical-align: top;\n",
       "    }\n",
       "\n",
       "    .dataframe thead th {\n",
       "        text-align: right;\n",
       "    }\n",
       "</style>\n",
       "<table border=\"1\" class=\"dataframe\">\n",
       "  <thead>\n",
       "    <tr style=\"text-align: right;\">\n",
       "      <th></th>\n",
       "      <th>vosnesenskii</th>\n",
       "      <th>fervidus</th>\n",
       "      <th>griseocollis</th>\n",
       "      <th>nevadensis</th>\n",
       "      <th>appositus</th>\n",
       "      <th>mixtus</th>\n",
       "    </tr>\n",
       "  </thead>\n",
       "  <tbody>\n",
       "    <tr>\n",
       "      <th>0</th>\n",
       "      <td>3</td>\n",
       "      <td>1</td>\n",
       "      <td>1</td>\n",
       "      <td>0</td>\n",
       "      <td>0</td>\n",
       "      <td>0</td>\n",
       "    </tr>\n",
       "    <tr>\n",
       "      <th>1</th>\n",
       "      <td>0</td>\n",
       "      <td>0</td>\n",
       "      <td>0</td>\n",
       "      <td>0</td>\n",
       "      <td>0</td>\n",
       "      <td>0</td>\n",
       "    </tr>\n",
       "    <tr>\n",
       "      <th>2</th>\n",
       "      <td>6</td>\n",
       "      <td>0</td>\n",
       "      <td>0</td>\n",
       "      <td>0</td>\n",
       "      <td>0</td>\n",
       "      <td>0</td>\n",
       "    </tr>\n",
       "    <tr>\n",
       "      <th>3</th>\n",
       "      <td>2</td>\n",
       "      <td>0</td>\n",
       "      <td>0</td>\n",
       "      <td>0</td>\n",
       "      <td>0</td>\n",
       "      <td>0</td>\n",
       "    </tr>\n",
       "    <tr>\n",
       "      <th>4</th>\n",
       "      <td>3</td>\n",
       "      <td>1</td>\n",
       "      <td>0</td>\n",
       "      <td>0</td>\n",
       "      <td>0</td>\n",
       "      <td>0</td>\n",
       "    </tr>\n",
       "    <tr>\n",
       "      <th>...</th>\n",
       "      <td>...</td>\n",
       "      <td>...</td>\n",
       "      <td>...</td>\n",
       "      <td>...</td>\n",
       "      <td>...</td>\n",
       "      <td>...</td>\n",
       "    </tr>\n",
       "    <tr>\n",
       "      <th>995</th>\n",
       "      <td>5</td>\n",
       "      <td>1</td>\n",
       "      <td>1</td>\n",
       "      <td>0</td>\n",
       "      <td>0</td>\n",
       "      <td>0</td>\n",
       "    </tr>\n",
       "    <tr>\n",
       "      <th>996</th>\n",
       "      <td>5</td>\n",
       "      <td>2</td>\n",
       "      <td>0</td>\n",
       "      <td>0</td>\n",
       "      <td>0</td>\n",
       "      <td>0</td>\n",
       "    </tr>\n",
       "    <tr>\n",
       "      <th>997</th>\n",
       "      <td>1</td>\n",
       "      <td>0</td>\n",
       "      <td>0</td>\n",
       "      <td>0</td>\n",
       "      <td>0</td>\n",
       "      <td>0</td>\n",
       "    </tr>\n",
       "    <tr>\n",
       "      <th>998</th>\n",
       "      <td>0</td>\n",
       "      <td>0</td>\n",
       "      <td>0</td>\n",
       "      <td>0</td>\n",
       "      <td>0</td>\n",
       "      <td>0</td>\n",
       "    </tr>\n",
       "    <tr>\n",
       "      <th>999</th>\n",
       "      <td>0</td>\n",
       "      <td>2</td>\n",
       "      <td>0</td>\n",
       "      <td>0</td>\n",
       "      <td>0</td>\n",
       "      <td>0</td>\n",
       "    </tr>\n",
       "  </tbody>\n",
       "</table>\n",
       "<p>1000 rows × 6 columns</p>\n",
       "</div>"
      ],
      "text/plain": [
       "     vosnesenskii  fervidus  griseocollis  nevadensis  appositus  mixtus\n",
       "0               3         1             1           0          0       0\n",
       "1               0         0             0           0          0       0\n",
       "2               6         0             0           0          0       0\n",
       "3               2         0             0           0          0       0\n",
       "4               3         1             0           0          0       0\n",
       "..            ...       ...           ...         ...        ...     ...\n",
       "995             5         1             1           0          0       0\n",
       "996             5         2             0           0          0       0\n",
       "997             1         0             0           0          0       0\n",
       "998             0         0             0           0          0       0\n",
       "999             0         2             0           0          0       0\n",
       "\n",
       "[1000 rows x 6 columns]"
      ]
     },
     "execution_count": 8,
     "metadata": {},
     "output_type": "execute_result"
    }
   ],
   "source": [
    "# BOOTSTRAP ONE CAMERA ONE DAY\n",
    "n_iter = 1000\n",
    "bootstrap_results = []\n",
    "\n",
    "for b in range(n_iter):\n",
    "    total_visits = max(rneg_binomial(mu_14h), 0)\n",
    "\n",
    "    if total_visits > 0:\n",
    "        sim_counts = np.random.multinomial(total_visits, p_species)\n",
    "    else:\n",
    "        sim_counts = np.zeros_like(p_species, dtype=int)\n",
    "\n",
    "    bootstrap_results.append(dict(zip(species_list, sim_counts)))\n",
    "\n",
    "sim_df = pd.DataFrame(bootstrap_results)\n",
    "sim_df"
   ]
  },
  {
   "cell_type": "code",
   "execution_count": 9,
   "id": "2c4ee6b2",
   "metadata": {},
   "outputs": [],
   "source": [
    "# BOOTSTRAP MULT CAMERAS MULT DAYS\n",
    "\n",
    "def bootstrap_abundances_by_days_and_cameras(\n",
    "    days_to_test,\n",
    "    n_iter,\n",
    "    mu_14h,\n",
    "    p_species,\n",
    "    species_names=None,\n",
    "    cameras_per_day=1,\n",
    "    random_seed=None\n",
    "):\n",
    "    if random_seed is not None:\n",
    "        np.random.seed(random_seed)\n",
    "    \n",
    "    p_species = np.array(p_species, dtype=float)\n",
    "    n_species = len(p_species)\n",
    "    \n",
    "    if species_names is None:\n",
    "        species_names = [f\"sp_{i+1}\" for i in range(n_species)]\n",
    "    \n",
    "    records = []\n",
    "    \n",
    "    for D in days_to_test:\n",
    "        for C in range(1, cameras_per_day + 1):\n",
    "            for b in range(n_iter):\n",
    "                pooled = np.zeros(n_species, dtype=int)\n",
    "                \n",
    "                for _ in range(D):\n",
    "                    for _ in range(C):\n",
    "                        total_visits = rneg_binomial(mu_14h)\n",
    "                        if total_visits > 0:\n",
    "                            pooled += np.random.multinomial(total_visits, p_species)\n",
    "                \n",
    "                rec = {\n",
    "                    \"n_days\": D,\n",
    "                    \"n_cameras\": C,\n",
    "                    \"iter\": b\n",
    "                }\n",
    "                for name, val in zip(species_names, pooled):\n",
    "                    rec[name] = val\n",
    "                \n",
    "                records.append(rec)\n",
    "    \n",
    "    return pd.DataFrame(records)\n"
   ]
  },
  {
   "cell_type": "code",
   "execution_count": 10,
   "id": "13af6da8",
   "metadata": {},
   "outputs": [],
   "source": [
    "abundance_df = bootstrap_abundances_by_days_and_cameras(\n",
    "    days_to_test=[1,5,10,15,20,25],\n",
    "    n_iter=1000,\n",
    "    mu_14h=mu_14h,\n",
    "    p_species=p_species,\n",
    "    species_names=species_list,\n",
    "    cameras_per_day=3,\n",
    "    random_seed=1\n",
    ")"
   ]
  },
  {
   "cell_type": "code",
   "execution_count": 11,
   "id": "5dde5245",
   "metadata": {},
   "outputs": [],
   "source": [
    "# COVERAGE ESTIMATION ADAPTED FROM PYNEXT, ONLY CALCULATES OBSERVED COVERAGE\n",
    "def estimate_coverage(counts):\n",
    "    counts = counts[counts>0]\n",
    "    total_reads = sum(counts)\n",
    "    if total_reads == 0:\n",
    "        return 0.0\n",
    "    f1 = sum(counts == 1)\n",
    "    f2 = sum(counts == 2)\n",
    "    if f2 == 0:\n",
    "        f0_hat = (total_reads - 1) / total_reads * f1 * (f1 - 1) / 2\n",
    "    else:\n",
    "        f0_hat = (total_reads - 1) / total_reads * f1 ** 2/ 2 / f2\n",
    "    if f1 > 0:\n",
    "        alpha = total_reads*f0_hat/(total_reads*f0_hat+f1)\n",
    "    else:\n",
    "        alpha = 1\n",
    "    return 1-f1/total_reads*alpha"
   ]
  },
  {
   "cell_type": "code",
   "execution_count": 12,
   "id": "11588379",
   "metadata": {},
   "outputs": [],
   "source": [
    "abundance_df['coverage'] = abundance_df[species_list].apply(\n",
    "    lambda row: estimate_coverage(row.values), axis=1\n",
    ")"
   ]
  },
  {
   "cell_type": "code",
   "execution_count": 13,
   "id": "1e43401f",
   "metadata": {},
   "outputs": [],
   "source": [
    "summary = abundance_df.groupby(['n_cameras', 'n_days'])['coverage'].agg(\n",
    "    n='count',                                 \n",
    "    mean_coverage='mean',\n",
    "    std_dev='std',\n",
    "    ci_low_95=lambda x: x.quantile(0.025),\n",
    "    ci_high_95=lambda x: x.quantile(0.975)\n",
    ")\n",
    "\n",
    "summary['std_error'] = summary['std_dev'] / np.sqrt(summary['n'])\n",
    "summary = summary[['mean_coverage', 'std_dev', 'std_error', 'ci_low_95', 'ci_high_95']]\n",
    "summary = summary.reset_index()"
   ]
  },
  {
   "cell_type": "code",
   "execution_count": 14,
   "id": "a749c663",
   "metadata": {},
   "outputs": [
    {
     "name": "stdout",
     "output_type": "stream",
     "text": [
      "13.521739130434783\n",
      "6.7792642140468224\n",
      "5.414715719063545\n"
     ]
    },
    {
     "data": {
      "text/plain": [
       "(0.7, 1.0)"
      ]
     },
     "execution_count": 14,
     "metadata": {},
     "output_type": "execute_result"
    },
    {
     "data": {
      "image/png": "[encoded data removed]",
      "text/plain": [
       "<Figure size 150x170 with 1 Axes>"
      ]
     },
     "metadata": {
      "needs_background": "light"
     },
     "output_type": "display_data"
    }
   ],
   "source": [
    "colors = [\n",
    "    \"#ffae00ff\",\n",
    "    \"#008ee0ff\",\n",
    "    \"#00bd8aff\",\n",
    "]\n",
    "\n",
    "days_to_test=[1,5,10,15,20,25]\n",
    "fig, ax = plt.subplots(figsize=(1.5, 1.7))\n",
    "\n",
    "\n",
    "for idx, cams in enumerate(sorted(summary['n_cameras'].unique())):\n",
    "    sub = summary[summary['n_cameras'] == cams].sort_values('n_days')\n",
    "    x = sub['n_days'].astype(float).values\n",
    "    y = sub['mean_coverage'].astype(float).values\n",
    "    low = sub['ci_low_95'].astype(float).values\n",
    "    high = sub['ci_high_95'].astype(float).values\n",
    "\n",
    "    x_smooth = np.linspace(x.min(), x.max(), 300)\n",
    "    mean_smooth = PchipInterpolator(x, y)(x_smooth)\n",
    "    low_smooth = PchipInterpolator(x, low)(x_smooth)\n",
    "    high_smooth = PchipInterpolator(x, high)(x_smooth)\n",
    "\n",
    "    color = colors[idx]\n",
    "\n",
    "    ax.plot(x_smooth, mean_smooth, label=f'{cams} cameras', color=color)\n",
    "    ax.fill_between(x_smooth, low_smooth, high_smooth, alpha=0.15, color = color, edgecolor=None)\n",
    "\n",
    "    idx = np.where(mean_smooth >= 0.99)[0]\n",
    "    if idx.size > 0:\n",
    "        i = idx[0]\n",
    "        ax.scatter([x_smooth[i]], 1, s=70, marker='v', color = color, zorder=4)\n",
    "        print(x_smooth[i])\n",
    "\n",
    "ax.set_xlabel('Days')\n",
    "ax.set_xticks(days_to_test)\n",
    "ax.set_ylabel('Mean Coverage')\n",
    "ax.set_ylim(0.7,1)\n",
    "\n",
    "# plt.savefig('figs/resample_trapday_low.svg', format='svg')"
   ]
  },
  {
   "cell_type": "markdown",
   "id": "7e0d36ba",
   "metadata": {},
   "source": [
    "### SIMULATE AGAIN WITH HIGHER DIVERSITY"
   ]
  },
  {
   "cell_type": "code",
   "execution_count": 15,
   "id": "67fed39d",
   "metadata": {},
   "outputs": [],
   "source": [
    "bend_species_counts = np.array([69, 32, 19, 16, 11, 8, 8, 7, 3, 2, 2, 2, 1]) # FROM OBA DATA\n",
    "bend_species_list = ['vosnesenskii', 'huntii', 'centralis', 'vandykei', 'vancouverensis',\n",
    "       'griseocollis', 'nevadensis', 'morrisoni', 'melanopygus', 'caliginosus',\n",
    "       'fervidus', 'rufocinctus', 'occidentalis']\n",
    "bend_p_species = bend_species_counts / bend_species_counts.sum()\n"
   ]
  },
  {
   "cell_type": "code",
   "execution_count": 16,
   "id": "e5bfcae8",
   "metadata": {},
   "outputs": [
    {
     "data": {
      "application/vnd.microsoft.datawrangler.viewer.v0+json": {
       "columns": [
        {
         "name": "index",
         "rawType": "int64",
         "type": "integer"
        },
        {
         "name": "n_cameras",
         "rawType": "int64",
         "type": "integer"
        },
        {
         "name": "n_days",
         "rawType": "int64",
         "type": "integer"
        },
        {
         "name": "mean_coverage",
         "rawType": "float64",
         "type": "float"
        },
        {
         "name": "std_dev",
         "rawType": "float64",
         "type": "float"
        },
        {
         "name": "std_error",
         "rawType": "float64",
         "type": "float"
        },
        {
         "name": "ci_low_95",
         "rawType": "float64",
         "type": "float"
        },
        {
         "name": "ci_high_95",
         "rawType": "float64",
         "type": "float"
        }
       ],
       "ref": "31af7a72-03c4-47c3-9071-f777e73bcad0",
       "rows": [
        [
         "0",
         "1",
         "1",
         "0.5640772852799176",
         "0.3858380848903563",
         "0.012201271562909245",
         "0.0",
         "1.0"
        ],
        [
         "1",
         "1",
         "5",
         "0.8118201015645732",
         "0.15442243391792987",
         "0.004883266130074975",
         "0.39393939393939403",
         "1.0"
        ],
        [
         "2",
         "1",
         "10",
         "0.9106563821885106",
         "0.06413764687523414",
         "0.002028210478893212",
         "0.7454170438380964",
         "1.0"
        ],
        [
         "3",
         "1",
         "15",
         "0.9462874219749339",
         "0.03884399358459512",
         "0.0012283549314428901",
         "0.8546838334798735",
         "1.0"
        ],
        [
         "4",
         "1",
         "20",
         "0.9646478764039516",
         "0.024475163007571497",
         "0.0007739726120782286",
         "0.9080529534761663",
         "1.0"
        ],
        [
         "5",
         "1",
         "25",
         "0.9739000386345387",
         "0.018762527482901255",
         "0.0005933232150747389",
         "0.9306261701685042",
         "1.0"
        ],
        [
         "6",
         "2",
         "1",
         "0.6838248556186388",
         "0.2726946519626703",
         "0.008623362059489435",
         "0.0",
         "1.0"
        ],
        [
         "7",
         "2",
         "5",
         "0.9099150211764193",
         "0.06757370725522885",
         "0.002136868248679681",
         "0.7430240103828682",
         "1.0"
        ],
        [
         "8",
         "2",
         "10",
         "0.965190671903657",
         "0.02444416062077405",
         "0.000772992230526414",
         "0.9115073748225923",
         "1.0"
        ],
        [
         "9",
         "2",
         "15",
         "0.980002039434025",
         "0.013877638368579475",
         "0.0004388494578885443",
         "0.9483862058618949",
         "1.0"
        ],
        [
         "10",
         "2",
         "20",
         "0.9877467492259132",
         "0.009540339167783695",
         "0.0003016920142071177",
         "0.9663226522294319",
         "1.0"
        ],
        [
         "11",
         "2",
         "25",
         "0.9915671643183431",
         "0.007184503452196229",
         "0.00022719394766282735",
         "0.975204914822074",
         "1.0"
        ],
        [
         "12",
         "3",
         "1",
         "0.7262704987871121",
         "0.22059706337646035",
         "0.006975891654141287",
         "0.18181818181818177",
         "1.0"
        ],
        [
         "13",
         "3",
         "5",
         "0.9438121336451825",
         "0.042265019244471784",
         "0.0013365372616337976",
         "0.8354909355046367",
         "1.0"
        ],
        [
         "14",
         "3",
         "10",
         "0.9805195073370537",
         "0.014342559174515053",
         "0.00045355154467211986",
         "0.9490070250896058",
         "1.0"
        ],
        [
         "15",
         "3",
         "15",
         "0.9895554968384368",
         "0.008163426004481543",
         "0.000258150196844096",
         "0.970475958131575",
         "1.0"
        ],
        [
         "16",
         "3",
         "20",
         "0.9945866249987045",
         "0.005415586931744057",
         "0.0001712558957095405",
         "0.9826495733153523",
         "1.0"
        ],
        [
         "17",
         "3",
         "25",
         "0.9966979362039743",
         "0.0038788624352000204",
         "0.00012266040025699342",
         "0.9872838110601417",
         "1.0"
        ]
       ],
       "shape": {
        "columns": 7,
        "rows": 18
       }
      },
      "text/html": [
       "<div>\n",
       "<style scoped>\n",
       "    .dataframe tbody tr th:only-of-type {\n",
       "        vertical-align: middle;\n",
       "    }\n",
       "\n",
       "    .dataframe tbody tr th {\n",
       "        vertical-align: top;\n",
       "    }\n",
       "\n",
       "    .dataframe thead th {\n",
       "        text-align: right;\n",
       "    }\n",
       "</style>\n",
       "<table border=\"1\" class=\"dataframe\">\n",
       "  <thead>\n",
       "    <tr style=\"text-align: right;\">\n",
       "      <th></th>\n",
       "      <th>n_cameras</th>\n",
       "      <th>n_days</th>\n",
       "      <th>mean_coverage</th>\n",
       "      <th>std_dev</th>\n",
       "      <th>std_error</th>\n",
       "      <th>ci_low_95</th>\n",
       "      <th>ci_high_95</th>\n",
       "    </tr>\n",
       "  </thead>\n",
       "  <tbody>\n",
       "    <tr>\n",
       "      <th>0</th>\n",
       "      <td>1</td>\n",
       "      <td>1</td>\n",
       "      <td>0.564077</td>\n",
       "      <td>0.385838</td>\n",
       "      <td>0.012201</td>\n",
       "      <td>0.000000</td>\n",
       "      <td>1.0</td>\n",
       "    </tr>\n",
       "    <tr>\n",
       "      <th>1</th>\n",
       "      <td>1</td>\n",
       "      <td>5</td>\n",
       "      <td>0.811820</td>\n",
       "      <td>0.154422</td>\n",
       "      <td>0.004883</td>\n",
       "      <td>0.393939</td>\n",
       "      <td>1.0</td>\n",
       "    </tr>\n",
       "    <tr>\n",
       "      <th>2</th>\n",
       "      <td>1</td>\n",
       "      <td>10</td>\n",
       "      <td>0.910656</td>\n",
       "      <td>0.064138</td>\n",
       "      <td>0.002028</td>\n",
       "      <td>0.745417</td>\n",
       "      <td>1.0</td>\n",
       "    </tr>\n",
       "    <tr>\n",
       "      <th>3</th>\n",
       "      <td>1</td>\n",
       "      <td>15</td>\n",
       "      <td>0.946287</td>\n",
       "      <td>0.038844</td>\n",
       "      <td>0.001228</td>\n",
       "      <td>0.854684</td>\n",
       "      <td>1.0</td>\n",
       "    </tr>\n",
       "    <tr>\n",
       "      <th>4</th>\n",
       "      <td>1</td>\n",
       "      <td>20</td>\n",
       "      <td>0.964648</td>\n",
       "      <td>0.024475</td>\n",
       "      <td>0.000774</td>\n",
       "      <td>0.908053</td>\n",
       "      <td>1.0</td>\n",
       "    </tr>\n",
       "    <tr>\n",
       "      <th>5</th>\n",
       "      <td>1</td>\n",
       "      <td>25</td>\n",
       "      <td>0.973900</td>\n",
       "      <td>0.018763</td>\n",
       "      <td>0.000593</td>\n",
       "      <td>0.930626</td>\n",
       "      <td>1.0</td>\n",
       "    </tr>\n",
       "    <tr>\n",
       "      <th>6</th>\n",
       "      <td>2</td>\n",
       "      <td>1</td>\n",
       "      <td>0.683825</td>\n",
       "      <td>0.272695</td>\n",
       "      <td>0.008623</td>\n",
       "      <td>0.000000</td>\n",
       "      <td>1.0</td>\n",
       "    </tr>\n",
       "    <tr>\n",
       "      <th>7</th>\n",
       "      <td>2</td>\n",
       "      <td>5</td>\n",
       "      <td>0.909915</td>\n",
       "      <td>0.067574</td>\n",
       "      <td>0.002137</td>\n",
       "      <td>0.743024</td>\n",
       "      <td>1.0</td>\n",
       "    </tr>\n",
       "    <tr>\n",
       "      <th>8</th>\n",
       "      <td>2</td>\n",
       "      <td>10</td>\n",
       "      <td>0.965191</td>\n",
       "      <td>0.024444</td>\n",
       "      <td>0.000773</td>\n",
       "      <td>0.911507</td>\n",
       "      <td>1.0</td>\n",
       "    </tr>\n",
       "    <tr>\n",
       "      <th>9</th>\n",
       "      <td>2</td>\n",
       "      <td>15</td>\n",
       "      <td>0.980002</td>\n",
       "      <td>0.013878</td>\n",
       "      <td>0.000439</td>\n",
       "      <td>0.948386</td>\n",
       "      <td>1.0</td>\n",
       "    </tr>\n",
       "    <tr>\n",
       "      <th>10</th>\n",
       "      <td>2</td>\n",
       "      <td>20</td>\n",
       "      <td>0.987747</td>\n",
       "      <td>0.009540</td>\n",
       "      <td>0.000302</td>\n",
       "      <td>0.966323</td>\n",
       "      <td>1.0</td>\n",
       "    </tr>\n",
       "    <tr>\n",
       "      <th>11</th>\n",
       "      <td>2</td>\n",
       "      <td>25</td>\n",
       "      <td>0.991567</td>\n",
       "      <td>0.007185</td>\n",
       "      <td>0.000227</td>\n",
       "      <td>0.975205</td>\n",
       "      <td>1.0</td>\n",
       "    </tr>\n",
       "    <tr>\n",
       "      <th>12</th>\n",
       "      <td>3</td>\n",
       "      <td>1</td>\n",
       "      <td>0.726270</td>\n",
       "      <td>0.220597</td>\n",
       "      <td>0.006976</td>\n",
       "      <td>0.181818</td>\n",
       "      <td>1.0</td>\n",
       "    </tr>\n",
       "    <tr>\n",
       "      <th>13</th>\n",
       "      <td>3</td>\n",
       "      <td>5</td>\n",
       "      <td>0.943812</td>\n",
       "      <td>0.042265</td>\n",
       "      <td>0.001337</td>\n",
       "      <td>0.835491</td>\n",
       "      <td>1.0</td>\n",
       "    </tr>\n",
       "    <tr>\n",
       "      <th>14</th>\n",
       "      <td>3</td>\n",
       "      <td>10</td>\n",
       "      <td>0.980520</td>\n",
       "      <td>0.014343</td>\n",
       "      <td>0.000454</td>\n",
       "      <td>0.949007</td>\n",
       "      <td>1.0</td>\n",
       "    </tr>\n",
       "    <tr>\n",
       "      <th>15</th>\n",
       "      <td>3</td>\n",
       "      <td>15</td>\n",
       "      <td>0.989555</td>\n",
       "      <td>0.008163</td>\n",
       "      <td>0.000258</td>\n",
       "      <td>0.970476</td>\n",
       "      <td>1.0</td>\n",
       "    </tr>\n",
       "    <tr>\n",
       "      <th>16</th>\n",
       "      <td>3</td>\n",
       "      <td>20</td>\n",
       "      <td>0.994587</td>\n",
       "      <td>0.005416</td>\n",
       "      <td>0.000171</td>\n",
       "      <td>0.982650</td>\n",
       "      <td>1.0</td>\n",
       "    </tr>\n",
       "    <tr>\n",
       "      <th>17</th>\n",
       "      <td>3</td>\n",
       "      <td>25</td>\n",
       "      <td>0.996698</td>\n",
       "      <td>0.003879</td>\n",
       "      <td>0.000123</td>\n",
       "      <td>0.987284</td>\n",
       "      <td>1.0</td>\n",
       "    </tr>\n",
       "  </tbody>\n",
       "</table>\n",
       "</div>"
      ],
      "text/plain": [
       "    n_cameras  n_days  mean_coverage   std_dev  std_error  ci_low_95  \\\n",
       "0           1       1       0.564077  0.385838   0.012201   0.000000   \n",
       "1           1       5       0.811820  0.154422   0.004883   0.393939   \n",
       "2           1      10       0.910656  0.064138   0.002028   0.745417   \n",
       "3           1      15       0.946287  0.038844   0.001228   0.854684   \n",
       "4           1      20       0.964648  0.024475   0.000774   0.908053   \n",
       "5           1      25       0.973900  0.018763   0.000593   0.930626   \n",
       "6           2       1       0.683825  0.272695   0.008623   0.000000   \n",
       "7           2       5       0.909915  0.067574   0.002137   0.743024   \n",
       "8           2      10       0.965191  0.024444   0.000773   0.911507   \n",
       "9           2      15       0.980002  0.013878   0.000439   0.948386   \n",
       "10          2      20       0.987747  0.009540   0.000302   0.966323   \n",
       "11          2      25       0.991567  0.007185   0.000227   0.975205   \n",
       "12          3       1       0.726270  0.220597   0.006976   0.181818   \n",
       "13          3       5       0.943812  0.042265   0.001337   0.835491   \n",
       "14          3      10       0.980520  0.014343   0.000454   0.949007   \n",
       "15          3      15       0.989555  0.008163   0.000258   0.970476   \n",
       "16          3      20       0.994587  0.005416   0.000171   0.982650   \n",
       "17          3      25       0.996698  0.003879   0.000123   0.987284   \n",
       "\n",
       "    ci_high_95  \n",
       "0          1.0  \n",
       "1          1.0  \n",
       "2          1.0  \n",
       "3          1.0  \n",
       "4          1.0  \n",
       "5          1.0  \n",
       "6          1.0  \n",
       "7          1.0  \n",
       "8          1.0  \n",
       "9          1.0  \n",
       "10         1.0  \n",
       "11         1.0  \n",
       "12         1.0  \n",
       "13         1.0  \n",
       "14         1.0  \n",
       "15         1.0  \n",
       "16         1.0  \n",
       "17         1.0  "
      ]
     },
     "execution_count": 16,
     "metadata": {},
     "output_type": "execute_result"
    }
   ],
   "source": [
    "bend_abundance_df = bootstrap_abundances_by_days_and_cameras(\n",
    "    days_to_test=[1,5,10,15,20,25],\n",
    "    n_iter=1000,\n",
    "    mu_14h=mu_14h,\n",
    "    p_species=bend_p_species,\n",
    "    species_names=bend_species_list,\n",
    "    cameras_per_day=3,\n",
    "    random_seed=1\n",
    ")\n",
    "\n",
    "bend_abundance_df\n",
    "\n",
    "bend_abundance_df['coverage'] = bend_abundance_df[bend_species_list].apply(\n",
    "    lambda row: estimate_coverage(row.values), axis=1\n",
    ")\n",
    "\n",
    "bend_summary = bend_abundance_df.groupby(['n_cameras', 'n_days'])['coverage'].agg(\n",
    "    n='count',                                 \n",
    "    mean_coverage='mean',\n",
    "    std_dev='std',\n",
    "    ci_low_95=lambda x: x.quantile(0.025),\n",
    "    ci_high_95=lambda x: x.quantile(0.975)\n",
    ")\n",
    "\n",
    "bend_summary['std_error'] = bend_summary['std_dev'] / np.sqrt(bend_summary['n'])\n",
    "bend_summary = bend_summary[['mean_coverage', 'std_dev', 'std_error', 'ci_low_95', 'ci_high_95']]\n",
    "bend_summary = bend_summary.reset_index()\n",
    "bend_summary"
   ]
  },
  {
   "cell_type": "code",
   "execution_count": 21,
   "id": "1ac3f609",
   "metadata": {},
   "outputs": [
    {
     "data": {
      "application/vnd.microsoft.datawrangler.viewer.v0+json": {
       "columns": [
        {
         "name": "index",
         "rawType": "int64",
         "type": "integer"
        },
        {
         "name": "n_cameras",
         "rawType": "int64",
         "type": "integer"
        },
        {
         "name": "n_days",
         "rawType": "int64",
         "type": "integer"
        },
        {
         "name": "mean_coverage",
         "rawType": "float64",
         "type": "float"
        },
        {
         "name": "std_dev",
         "rawType": "float64",
         "type": "float"
        },
        {
         "name": "std_error",
         "rawType": "float64",
         "type": "float"
        },
        {
         "name": "ci_low_95",
         "rawType": "float64",
         "type": "float"
        },
        {
         "name": "ci_high_95",
         "rawType": "float64",
         "type": "float"
        }
       ],
       "ref": "f87a5001-9af0-47f9-a955-f5cf28ea0c70",
       "rows": [
        [
         "0",
         "1",
         "1",
         "0.5640772852799176",
         "0.3858380848903563",
         "0.012201271562909245",
         "0.0",
         "1.0"
        ],
        [
         "1",
         "1",
         "5",
         "0.8118201015645732",
         "0.15442243391792987",
         "0.004883266130074975",
         "0.39393939393939403",
         "1.0"
        ],
        [
         "2",
         "1",
         "10",
         "0.9106563821885106",
         "0.06413764687523414",
         "0.002028210478893212",
         "0.7454170438380964",
         "1.0"
        ],
        [
         "3",
         "1",
         "15",
         "0.9462874219749339",
         "0.03884399358459512",
         "0.0012283549314428901",
         "0.8546838334798735",
         "1.0"
        ],
        [
         "4",
         "1",
         "20",
         "0.9646478764039516",
         "0.024475163007571497",
         "0.0007739726120782286",
         "0.9080529534761663",
         "1.0"
        ],
        [
         "5",
         "1",
         "25",
         "0.9739000386345387",
         "0.018762527482901255",
         "0.0005933232150747389",
         "0.9306261701685042",
         "1.0"
        ]
       ],
       "shape": {
        "columns": 7,
        "rows": 6
       }
      },
      "text/html": [
       "<div>\n",
       "<style scoped>\n",
       "    .dataframe tbody tr th:only-of-type {\n",
       "        vertical-align: middle;\n",
       "    }\n",
       "\n",
       "    .dataframe tbody tr th {\n",
       "        vertical-align: top;\n",
       "    }\n",
       "\n",
       "    .dataframe thead th {\n",
       "        text-align: right;\n",
       "    }\n",
       "</style>\n",
       "<table border=\"1\" class=\"dataframe\">\n",
       "  <thead>\n",
       "    <tr style=\"text-align: right;\">\n",
       "      <th></th>\n",
       "      <th>n_cameras</th>\n",
       "      <th>n_days</th>\n",
       "      <th>mean_coverage</th>\n",
       "      <th>std_dev</th>\n",
       "      <th>std_error</th>\n",
       "      <th>ci_low_95</th>\n",
       "      <th>ci_high_95</th>\n",
       "    </tr>\n",
       "  </thead>\n",
       "  <tbody>\n",
       "    <tr>\n",
       "      <th>0</th>\n",
       "      <td>1</td>\n",
       "      <td>1</td>\n",
       "      <td>0.564077</td>\n",
       "      <td>0.385838</td>\n",
       "      <td>0.012201</td>\n",
       "      <td>0.000000</td>\n",
       "      <td>1.0</td>\n",
       "    </tr>\n",
       "    <tr>\n",
       "      <th>1</th>\n",
       "      <td>1</td>\n",
       "      <td>5</td>\n",
       "      <td>0.811820</td>\n",
       "      <td>0.154422</td>\n",
       "      <td>0.004883</td>\n",
       "      <td>0.393939</td>\n",
       "      <td>1.0</td>\n",
       "    </tr>\n",
       "    <tr>\n",
       "      <th>2</th>\n",
       "      <td>1</td>\n",
       "      <td>10</td>\n",
       "      <td>0.910656</td>\n",
       "      <td>0.064138</td>\n",
       "      <td>0.002028</td>\n",
       "      <td>0.745417</td>\n",
       "      <td>1.0</td>\n",
       "    </tr>\n",
       "    <tr>\n",
       "      <th>3</th>\n",
       "      <td>1</td>\n",
       "      <td>15</td>\n",
       "      <td>0.946287</td>\n",
       "      <td>0.038844</td>\n",
       "      <td>0.001228</td>\n",
       "      <td>0.854684</td>\n",
       "      <td>1.0</td>\n",
       "    </tr>\n",
       "    <tr>\n",
       "      <th>4</th>\n",
       "      <td>1</td>\n",
       "      <td>20</td>\n",
       "      <td>0.964648</td>\n",
       "      <td>0.024475</td>\n",
       "      <td>0.000774</td>\n",
       "      <td>0.908053</td>\n",
       "      <td>1.0</td>\n",
       "    </tr>\n",
       "    <tr>\n",
       "      <th>5</th>\n",
       "      <td>1</td>\n",
       "      <td>25</td>\n",
       "      <td>0.973900</td>\n",
       "      <td>0.018763</td>\n",
       "      <td>0.000593</td>\n",
       "      <td>0.930626</td>\n",
       "      <td>1.0</td>\n",
       "    </tr>\n",
       "  </tbody>\n",
       "</table>\n",
       "</div>"
      ],
      "text/plain": [
       "   n_cameras  n_days  mean_coverage   std_dev  std_error  ci_low_95  \\\n",
       "0          1       1       0.564077  0.385838   0.012201   0.000000   \n",
       "1          1       5       0.811820  0.154422   0.004883   0.393939   \n",
       "2          1      10       0.910656  0.064138   0.002028   0.745417   \n",
       "3          1      15       0.946287  0.038844   0.001228   0.854684   \n",
       "4          1      20       0.964648  0.024475   0.000774   0.908053   \n",
       "5          1      25       0.973900  0.018763   0.000593   0.930626   \n",
       "\n",
       "   ci_high_95  \n",
       "0         1.0  \n",
       "1         1.0  \n",
       "2         1.0  \n",
       "3         1.0  \n",
       "4         1.0  \n",
       "5         1.0  "
      ]
     },
     "execution_count": 21,
     "metadata": {},
     "output_type": "execute_result"
    }
   ],
   "source": [
    "bend_summary[bend_summary['n_cameras'] ==1]"
   ]
  },
  {
   "cell_type": "code",
   "execution_count": 19,
   "id": "33adddfe",
   "metadata": {},
   "outputs": [
    {
     "name": "stdout",
     "output_type": "stream",
     "text": [
      "22.431438127090303\n",
      "15.36789297658863\n"
     ]
    },
    {
     "data": {
      "image/png": "[encoded data removed]",
      "text/plain": [
       "<Figure size 150x170 with 1 Axes>"
      ]
     },
     "metadata": {
      "needs_background": "light"
     },
     "output_type": "display_data"
    }
   ],
   "source": [
    "colors = [\n",
    "    \"#ffae00ff\",\n",
    "    \"#008ee0ff\",\n",
    "    \"#00bd8aff\",\n",
    "]\n",
    "days_to_test=[1,5,10,15,20,25]\n",
    "fig, ax = plt.subplots(figsize=(1.5, 1.7))\n",
    "\n",
    "\n",
    "for idx, cams in enumerate(sorted(bend_summary['n_cameras'].unique())):\n",
    "    sub = bend_summary[bend_summary['n_cameras'] == cams].sort_values('n_days')\n",
    "    x = sub['n_days'].astype(float).values\n",
    "    y = sub['mean_coverage'].astype(float).values\n",
    "    low = sub['ci_low_95'].astype(float).values\n",
    "    high = sub['ci_high_95'].astype(float).values\n",
    "\n",
    "    x_smooth = np.linspace(x.min(), x.max(), 300)\n",
    "    mean_smooth = PchipInterpolator(x, y)(x_smooth)\n",
    "    low_smooth = PchipInterpolator(x, low)(x_smooth)\n",
    "    high_smooth = PchipInterpolator(x, high)(x_smooth)\n",
    "\n",
    "    color = colors[idx]\n",
    "\n",
    "    # ax.plot(x_smooth, low_smooth, label=f'{cams} cameras', color=color, alpha=0.6, lw=1)\n",
    "    ax.plot(x_smooth, mean_smooth, label=f'{cams} cameras', color=color)\n",
    "    ax.fill_between(x_smooth, low_smooth, high_smooth, alpha=0.15, color = color, edgecolor=None)\n",
    "\n",
    "    idx = np.where(mean_smooth >= 0.99)[0]\n",
    "    if idx.size > 0:\n",
    "        i = idx[0]\n",
    "        plt.scatter([x_smooth[i]], 1, s=70, marker='v', color = color, zorder=4)\n",
    "        print(x_smooth[i])\n",
    "\n",
    "ax.set_xlabel('Days')\n",
    "ax.set_xticks(days_to_test)\n",
    "ax.set_ylabel('Mean Coverage')\n",
    "ax.set_ylim(0.7,1)\n",
    "\n",
    "plt.savefig('figs/resample_trapday_high.svg', format='svg')"
   ]
  },
  {
   "cell_type": "code",
   "execution_count": 18,
   "id": "f1f9e6f1",
   "metadata": {},
   "outputs": [
    {
     "data": {
      "image/png": "[encoded data removed]",
      "text/plain": [
       "<Figure size 320x200 with 2 Axes>"
      ]
     },
     "metadata": {
      "needs_background": "light"
     },
     "output_type": "display_data"
    }
   ],
   "source": [
    "\n",
    "fig, axes = plt.subplots(1, 2, figsize=(3.2, 2), sharey=True)\n",
    "datasets = [summary, bend_summary]\n",
    "\n",
    "for ax, data in zip(axes, datasets):\n",
    "    for idx, cams in enumerate(sorted(data['n_cameras'].unique())):\n",
    "        sub = data[data['n_cameras'] == cams].sort_values('n_days')\n",
    "        x = sub['n_days'].astype(float).values\n",
    "        y = sub['mean_coverage'].astype(float).values\n",
    "        low = sub['ci_low_95'].astype(float).values\n",
    "        high = sub['ci_high_95'].astype(float).values\n",
    "\n",
    "        x_smooth = np.linspace(x.min(), x.max(), 300)\n",
    "        mean_smooth = PchipInterpolator(x, y)(x_smooth)\n",
    "        low_smooth = PchipInterpolator(x, low)(x_smooth)\n",
    "        high_smooth = PchipInterpolator(x, high)(x_smooth)\n",
    "\n",
    "        color = colors[idx]\n",
    "\n",
    "        ax.plot(x_smooth, mean_smooth, label=f'{cams} cameras', color=color)\n",
    "        ax.fill_between(x_smooth, low_smooth, high_smooth, alpha=0.15, color=color, edgecolor=None)\n",
    "\n",
    "        idx_99 = np.where(mean_smooth >= 0.99)[0]\n",
    "        if idx_99.size > 0:\n",
    "            i = idx_99[0]\n",
    "            ax.scatter([x_smooth[i]], [1], s=70, marker='v', color=color, zorder=4)\n",
    "\n",
    "    ax.set_xlabel('Days')\n",
    "    ax.set_xticks(days_to_test)\n",
    "    ax.set_ylim(0.7, 1.0)\n",
    "    ax.tick_params(axis='y', labelsize=8)\n",
    "\n",
    "axes[0].set_ylabel('Mean Coverage')\n",
    "\n",
    "plt.tight_layout()\n",
    "plt.subplots_adjust(bottom=0.25)\n",
    "plt.savefig('figs/resample_trapday_combined.svg', format='svg', bbox_inches='tight')"
   ]
  }
 ],
 "metadata": {
  "kernelspec": {
   "display_name": "bee_mapping",
   "language": "python",
   "name": "python3"
  },
  "language_info": {
   "codemirror_mode": {
    "name": "ipython",
    "version": 3
   },
   "file_extension": ".py",
   "mimetype": "text/x-python",
   "name": "python",
   "nbconvert_exporter": "python",
   "pygments_lexer": "ipython3",
   "version": "3.12.0"
  }
 },
 "nbformat": 4,
 "nbformat_minor": 5
}
