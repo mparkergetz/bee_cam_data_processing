{
 "cells": [
  {
   "cell_type": "code",
   "execution_count": 55,
   "id": "f2802cb6",
   "metadata": {},
   "outputs": [],
   "source": [
    "import pandas as pd\n",
    "import rpy2\n",
    "import matplotlib.pyplot as plt\n",
    "import numpy as np\n",
    "import statsmodels.api as sm\n",
    "import statsmodels.formula.api as smf\n"
   ]
  },
  {
   "cell_type": "code",
   "execution_count": 77,
   "id": "820ce472",
   "metadata": {},
   "outputs": [
    {
     "name": "stdout",
     "output_type": "stream",
     "text": [
      "        species  count\n",
      "0  vosnesenskii    173\n",
      "1      fervidus     70\n",
      "3  griseocollis     13\n",
      "4    nevadensis      2\n",
      "5     appositus      1\n",
      "6        mixtus      1\n"
     ]
    }
   ],
   "source": [
    "# LOAD BOMBUS VISIT TIMES, EXTACT SPECIES ABUNDANCE DISTRIBUTION\n",
    "visit_durations_clover = pd.read_csv('csvs/visit_durations_clover.csv', parse_dates=['visit_start', 'visit_end'])\n",
    "species_count = visit_durations_clover.value_counts('species').reset_index()\n",
    "species_count = species_count[species_count['species'] != 'unk']\n",
    "print(species_count)"
   ]
  },
  {
   "cell_type": "code",
   "execution_count": 57,
   "id": "c7724a17",
   "metadata": {},
   "outputs": [],
   "source": [
    "cnt_visits_per_hr = pd.read_csv('csvs/cnt_visits_per_hour.csv', parse_dates=['date'])"
   ]
  },
  {
   "cell_type": "code",
   "execution_count": 58,
   "id": "3e8ba671",
   "metadata": {},
   "outputs": [
    {
     "name": "stdout",
     "output_type": "stream",
     "text": [
      "Dispersion = 3.316910978226268\n",
      "OVERDISPERSED USE NEG BIONOMIAL\n"
     ]
    }
   ],
   "source": [
    "# FIT BASELINE POISSON MODEL\n",
    "\n",
    "cnt_visits_per_hr['log_hours'] = np.log(cnt_visits_per_hr['hours']) \n",
    "\n",
    "model_pois = smf.glm(\n",
    "    formula=\"visit_count ~ 1\", \n",
    "    data=cnt_visits_per_hr,\n",
    "    family=sm.families.Poisson(),\n",
    "    offset=cnt_visits_per_hr['log_hours']\n",
    ").fit()\n",
    "\n",
    "pearson_chi2 = sum(model_pois.resid_pearson**2) ## CHECK FOR OVERDISPERSION (>1.5?)\n",
    "dispersion = pearson_chi2 / model_pois.df_resid\n",
    "print(\"Dispersion =\", dispersion)\n",
    "if dispersion > 1.5:\n",
    "    print(\"OVERDISPERSED USE NEG BIONOMIAL\")"
   ]
  },
  {
   "cell_type": "code",
   "execution_count": 69,
   "id": "11d687b1",
   "metadata": {},
   "outputs": [
    {
     "name": "stdout",
     "output_type": "stream",
     "text": [
      "                 Generalized Linear Model Regression Results                  \n",
      "==============================================================================\n",
      "Dep. Variable:            visit_count   No. Observations:                   35\n",
      "Model:                            GLM   Df Residuals:                       34\n",
      "Model Family:        NegativeBinomial   Df Model:                            0\n",
      "Link Function:                    Log   Scale:                          1.0000\n",
      "Method:                          IRLS   Log-Likelihood:                -74.101\n",
      "Date:                Wed, 15 Oct 2025   Deviance:                       31.951\n",
      "Time:                        12:06:26   Pearson chi2:                     30.1\n",
      "No. Iterations:                     5   Pseudo R-squ. (CS):              0.000\n",
      "Covariance Type:            nonrobust                                         \n",
      "==============================================================================\n",
      "                 coef    std err          z      P>|z|      [0.025      0.975]\n",
      "------------------------------------------------------------------------------\n",
      "Intercept     -1.4204      0.201     -7.070      0.000      -1.814      -1.027\n",
      "==============================================================================\n",
      "\n",
      "Estimated visit rate per hour: 0.24161904774478468\n",
      "\n",
      "Observed zero proportion: 0.22857142857142856\n",
      "Predicted zero (NB) proportion: 0.2920389955209963\n",
      "\n",
      "NO ZERO INFLATION NECESSARY\n"
     ]
    },
    {
     "name": "stderr",
     "output_type": "stream",
     "text": [
      "/home/misha/miniconda3/envs/bee_mapping/lib/python3.12/site-packages/statsmodels/genmod/families/family.py:1367: ValueWarning: Negative binomial dispersion parameter alpha not set. Using default value alpha=1.0.\n",
      "  warnings.warn(\"Negative binomial dispersion parameter alpha not \"\n"
     ]
    }
   ],
   "source": [
    "# FIT NEGATIVE BINOMIAL MODEL DUE TO OVERDISPERSION\n",
    "model_nb = smf.glm(\n",
    "    formula=\"visit_count ~ 1\",\n",
    "    data=cnt_visits_per_hr,\n",
    "    family=sm.families.NegativeBinomial(),\n",
    "    offset=cnt_visits_per_hr['log_hours']\n",
    ").fit()\n",
    "\n",
    "print(model_nb.summary())\n",
    "\n",
    "rate_per_hour = np.exp(model_nb.params['Intercept'])\n",
    "\n",
    "print(\"\\nEstimated visit rate per hour:\", rate_per_hour)\n",
    "print()\n",
    "\n",
    "# CHECK FOR ZERO-INFLATION\n",
    "observed_zero_prop = (cnt_visits_per_hr['visit_count'] == 0).mean()\n",
    "mu = model_nb.predict()\n",
    "alpha = model_nb.scale \n",
    "predicted_zero_prob = np.mean((1 + alpha * mu) ** (-1/alpha))\n",
    "\n",
    "print(\"Observed zero proportion:\", observed_zero_prop)\n",
    "print(\"Predicted zero (NB) proportion:\", predicted_zero_prob)\n",
    "print()\n",
    "if predicted_zero_prob > observed_zero_prop:\n",
    "    print('NO ZERO INFLATION NECESSARY')"
   ]
  },
  {
   "cell_type": "code",
   "execution_count": 81,
   "id": "2c67dd14",
   "metadata": {},
   "outputs": [],
   "source": [
    "\n",
    "mu_14h = 0.24161904774478468 * 14 # RATE * 14 HOURS\n",
    "species_list = species_count['species'].values\n",
    "p_species = species_count['count'] / species_count['count'].sum()\n",
    "\n",
    "def rneg_binomial(mu): # NEG BINOMIAL DRAW FUNCTION\n",
    "    # Var = mu + alpha*mu^2 (alpha=1)\n",
    "    p = 1 / (1 + mu) # success probability\n",
    "    return np.random.negative_binomial(1, p)"
   ]
  },
  {
   "cell_type": "code",
   "execution_count": 83,
   "id": "a55ec7da",
   "metadata": {},
   "outputs": [
    {
     "data": {
      "application/vnd.microsoft.datawrangler.viewer.v0+json": {
       "columns": [
        {
         "name": "index",
         "rawType": "int64",
         "type": "integer"
        },
        {
         "name": "vosnesenskii",
         "rawType": "int64",
         "type": "integer"
        },
        {
         "name": "fervidus",
         "rawType": "int64",
         "type": "integer"
        },
        {
         "name": "griseocollis",
         "rawType": "int64",
         "type": "integer"
        },
        {
         "name": "nevadensis",
         "rawType": "int64",
         "type": "integer"
        },
        {
         "name": "appositus",
         "rawType": "int64",
         "type": "integer"
        },
        {
         "name": "mixtus",
         "rawType": "int64",
         "type": "integer"
        }
       ],
       "ref": "985414d9-48f2-40c4-9bce-1d365b0cc432",
       "rows": [
        [
         "0",
         "4",
         "1",
         "0",
         "0",
         "0",
         "0"
        ],
        [
         "1",
         "0",
         "1",
         "0",
         "0",
         "0",
         "0"
        ],
        [
         "2",
         "0",
         "0",
         "0",
         "0",
         "0",
         "1"
        ],
        [
         "3",
         "0",
         "0",
         "0",
         "0",
         "0",
         "0"
        ],
        [
         "4",
         "0",
         "0",
         "0",
         "0",
         "0",
         "0"
        ],
        [
         "5",
         "1",
         "0",
         "0",
         "0",
         "0",
         "0"
        ],
        [
         "6",
         "2",
         "1",
         "0",
         "0",
         "0",
         "0"
        ],
        [
         "7",
         "0",
         "0",
         "0",
         "0",
         "0",
         "0"
        ],
        [
         "8",
         "10",
         "3",
         "0",
         "0",
         "0",
         "0"
        ],
        [
         "9",
         "0",
         "0",
         "0",
         "0",
         "0",
         "0"
        ]
       ],
       "shape": {
        "columns": 6,
        "rows": 10
       }
      },
      "text/html": [
       "<div>\n",
       "<style scoped>\n",
       "    .dataframe tbody tr th:only-of-type {\n",
       "        vertical-align: middle;\n",
       "    }\n",
       "\n",
       "    .dataframe tbody tr th {\n",
       "        vertical-align: top;\n",
       "    }\n",
       "\n",
       "    .dataframe thead th {\n",
       "        text-align: right;\n",
       "    }\n",
       "</style>\n",
       "<table border=\"1\" class=\"dataframe\">\n",
       "  <thead>\n",
       "    <tr style=\"text-align: right;\">\n",
       "      <th></th>\n",
       "      <th>vosnesenskii</th>\n",
       "      <th>fervidus</th>\n",
       "      <th>griseocollis</th>\n",
       "      <th>nevadensis</th>\n",
       "      <th>appositus</th>\n",
       "      <th>mixtus</th>\n",
       "    </tr>\n",
       "  </thead>\n",
       "  <tbody>\n",
       "    <tr>\n",
       "      <th>0</th>\n",
       "      <td>4</td>\n",
       "      <td>1</td>\n",
       "      <td>0</td>\n",
       "      <td>0</td>\n",
       "      <td>0</td>\n",
       "      <td>0</td>\n",
       "    </tr>\n",
       "    <tr>\n",
       "      <th>1</th>\n",
       "      <td>0</td>\n",
       "      <td>1</td>\n",
       "      <td>0</td>\n",
       "      <td>0</td>\n",
       "      <td>0</td>\n",
       "      <td>0</td>\n",
       "    </tr>\n",
       "    <tr>\n",
       "      <th>2</th>\n",
       "      <td>0</td>\n",
       "      <td>0</td>\n",
       "      <td>0</td>\n",
       "      <td>0</td>\n",
       "      <td>0</td>\n",
       "      <td>1</td>\n",
       "    </tr>\n",
       "    <tr>\n",
       "      <th>3</th>\n",
       "      <td>0</td>\n",
       "      <td>0</td>\n",
       "      <td>0</td>\n",
       "      <td>0</td>\n",
       "      <td>0</td>\n",
       "      <td>0</td>\n",
       "    </tr>\n",
       "    <tr>\n",
       "      <th>4</th>\n",
       "      <td>0</td>\n",
       "      <td>0</td>\n",
       "      <td>0</td>\n",
       "      <td>0</td>\n",
       "      <td>0</td>\n",
       "      <td>0</td>\n",
       "    </tr>\n",
       "    <tr>\n",
       "      <th>5</th>\n",
       "      <td>1</td>\n",
       "      <td>0</td>\n",
       "      <td>0</td>\n",
       "      <td>0</td>\n",
       "      <td>0</td>\n",
       "      <td>0</td>\n",
       "    </tr>\n",
       "    <tr>\n",
       "      <th>6</th>\n",
       "      <td>2</td>\n",
       "      <td>1</td>\n",
       "      <td>0</td>\n",
       "      <td>0</td>\n",
       "      <td>0</td>\n",
       "      <td>0</td>\n",
       "    </tr>\n",
       "    <tr>\n",
       "      <th>7</th>\n",
       "      <td>0</td>\n",
       "      <td>0</td>\n",
       "      <td>0</td>\n",
       "      <td>0</td>\n",
       "      <td>0</td>\n",
       "      <td>0</td>\n",
       "    </tr>\n",
       "    <tr>\n",
       "      <th>8</th>\n",
       "      <td>10</td>\n",
       "      <td>3</td>\n",
       "      <td>0</td>\n",
       "      <td>0</td>\n",
       "      <td>0</td>\n",
       "      <td>0</td>\n",
       "    </tr>\n",
       "    <tr>\n",
       "      <th>9</th>\n",
       "      <td>0</td>\n",
       "      <td>0</td>\n",
       "      <td>0</td>\n",
       "      <td>0</td>\n",
       "      <td>0</td>\n",
       "      <td>0</td>\n",
       "    </tr>\n",
       "  </tbody>\n",
       "</table>\n",
       "</div>"
      ],
      "text/plain": [
       "   vosnesenskii  fervidus  griseocollis  nevadensis  appositus  mixtus\n",
       "0             4         1             0           0          0       0\n",
       "1             0         1             0           0          0       0\n",
       "2             0         0             0           0          0       1\n",
       "3             0         0             0           0          0       0\n",
       "4             0         0             0           0          0       0\n",
       "5             1         0             0           0          0       0\n",
       "6             2         1             0           0          0       0\n",
       "7             0         0             0           0          0       0\n",
       "8            10         3             0           0          0       0\n",
       "9             0         0             0           0          0       0"
      ]
     },
     "execution_count": 83,
     "metadata": {},
     "output_type": "execute_result"
    }
   ],
   "source": [
    "n_iter = 10\n",
    "\n",
    "bootstrap_results = []\n",
    "\n",
    "for b in range(n_iter):\n",
    "    total_visits = max(rneg_binomial(mu_14h), 0)\n",
    "\n",
    "    if total_visits > 0:\n",
    "        sim_counts = np.random.multinomial(total_visits, p_species)\n",
    "    else:\n",
    "        sim_counts = np.zeros_like(p_species, dtype=int)\n",
    "\n",
    "    bootstrap_results.append(dict(zip(species_list, sim_counts)))\n",
    "\n",
    "sim_df = pd.DataFrame(bootstrap_results)\n",
    "sim_df"
   ]
  }
 ],
 "metadata": {
  "kernelspec": {
   "display_name": "bee_mapping",
   "language": "python",
   "name": "python3"
  },
  "language_info": {
   "codemirror_mode": {
    "name": "ipython",
    "version": 3
   },
   "file_extension": ".py",
   "mimetype": "text/x-python",
   "name": "python",
   "nbconvert_exporter": "python",
   "pygments_lexer": "ipython3",
   "version": "3.12.0"
  }
 },
 "nbformat": 4,
 "nbformat_minor": 5
}
